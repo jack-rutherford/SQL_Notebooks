{
    "metadata": {
        "kernelspec": {
            "name": "SQL",
            "display_name": "SQL",
            "language": "sql"
        },
        "language_info": {
            "name": "sql",
            "version": ""
        },
        "extensions": {
            "azuredatastudio": {
                "version": 1,
                "views": []
            }
        }
    },
    "nbformat_minor": 2,
    "nbformat": 4,
    "cells": [
        {
            "cell_type": "markdown",
            "source": [
                "# Part 1 - Completed together"
            ],
            "metadata": {
                "azdata_cell_guid": "1656ffdd-9fbf-4d0c-94a2-063fe84871b9"
            }
        },
        {
            "cell_type": "markdown",
            "source": [
                "How many movies are there in the `Movies` table?"
            ],
            "metadata": {
                "azdata_cell_guid": "1bc8966c-9116-4eda-be7a-c5cfc808a90d"
            }
        },
        {
            "cell_type": "code",
            "source": [
                "select count(TitleID)\r\n",
                "from imdb.Movies"
            ],
            "metadata": {
                "azdata_cell_guid": "f7cc4226-f19d-46f8-adfc-984151f246a3",
                "language": "sql"
            },
            "outputs": [
                {
                    "output_type": "display_data",
                    "data": {
                        "text/html": "(1 row affected)"
                    },
                    "metadata": {}
                },
                {
                    "output_type": "display_data",
                    "data": {
                        "text/html": "Total execution time: 00:00:00.068"
                    },
                    "metadata": {}
                },
                {
                    "output_type": "execute_result",
                    "execution_count": 1,
                    "data": {
                        "application/vnd.dataresource+json": {
                            "schema": {
                                "fields": [
                                    {
                                        "name": "(No column name)"
                                    }
                                ]
                            },
                            "data": [
                                {
                                    "(No column name)": "130405"
                                }
                            ]
                        },
                        "text/html": "<table><tr><th>(No column name)</th></tr><tr><td>130405</td></tr></table>"
                    },
                    "metadata": {}
                }
            ],
            "execution_count": 1
        },
        {
            "cell_type": "markdown",
            "source": [
                "How many movies are there in the `Movies` table?  Name the column containing the count `Total Movies`."
            ],
            "metadata": {
                "azdata_cell_guid": "b06e4fed-1514-4e65-8487-532f218f7b0d"
            }
        },
        {
            "cell_type": "code",
            "source": [
                "select count(TitleID) as [Number of Movies]\r\n",
                "from imdb.Movies"
            ],
            "metadata": {
                "azdata_cell_guid": "000092c1-fd72-4e91-8e7c-1f5ba7bd22be",
                "language": "sql"
            },
            "outputs": [
                {
                    "output_type": "display_data",
                    "data": {
                        "text/html": "(1 row affected)"
                    },
                    "metadata": {}
                },
                {
                    "output_type": "display_data",
                    "data": {
                        "text/html": "Total execution time: 00:00:00.026"
                    },
                    "metadata": {}
                },
                {
                    "output_type": "execute_result",
                    "execution_count": 2,
                    "data": {
                        "application/vnd.dataresource+json": {
                            "schema": {
                                "fields": [
                                    {
                                        "name": "Number of Movies"
                                    }
                                ]
                            },
                            "data": [
                                {
                                    "Number of Movies": "130405"
                                }
                            ]
                        },
                        "text/html": "<table><tr><th>Number of Movies</th></tr><tr><td>130405</td></tr></table>"
                    },
                    "metadata": {}
                }
            ],
            "execution_count": 2
        },
        {
            "cell_type": "markdown",
            "source": [
                "How many movies are there that were released in **2010**?  How many unique `Title` values are there for 2010?"
            ],
            "metadata": {
                "azdata_cell_guid": "29163c5e-ac12-45df-a2b6-1c0354628acd"
            },
            "attachments": {}
        },
        {
            "cell_type": "code",
            "source": [
                "WITH MoviesIn2010 ([Movies made in 2010])\r\n",
                "as (\r\n",
                "select count(TitleID) as NumMovies\r\n",
                "from imdb.Movies\r\n",
                "where YearReleased = 2010\r\n",
                "),\r\n",
                "Distinct2010Movies([Unique titles in 2010])\r\n",
                "as (\r\n",
                "select count(distinct Title) as NumMovies\r\n",
                "from imdb.Movies\r\n",
                "where YearReleased = 2010\r\n",
                ")\r\n",
                "select * \r\n",
                "from MoviesIn2010, Distinct2010Movies"
            ],
            "metadata": {
                "azdata_cell_guid": "08016310-50e4-4e9f-b1ce-449dea7d2c13",
                "language": "sql"
            },
            "outputs": [
                {
                    "output_type": "display_data",
                    "data": {
                        "text/html": "(1 row affected)"
                    },
                    "metadata": {}
                },
                {
                    "output_type": "display_data",
                    "data": {
                        "text/html": "Total execution time: 00:00:00.055"
                    },
                    "metadata": {}
                },
                {
                    "output_type": "execute_result",
                    "execution_count": 5,
                    "data": {
                        "application/vnd.dataresource+json": {
                            "schema": {
                                "fields": [
                                    {
                                        "name": "Movies made in 2010"
                                    },
                                    {
                                        "name": "Unique titles in 2010"
                                    }
                                ]
                            },
                            "data": [
                                {
                                    "Movies made in 2010": "4785",
                                    "Unique titles in 2010": "4749"
                                }
                            ]
                        },
                        "text/html": "<table><tr><th>Movies made in 2010</th><th>Unique titles in 2010</th></tr><tr><td>4785</td><td>4749</td></tr></table>"
                    },
                    "metadata": {}
                }
            ],
            "execution_count": 5
        },
        {
            "cell_type": "markdown",
            "source": [
                "How many `Principals` with a `Category` of _actress_ or _actor_ were there in the 2010 movie titled _Bittersweet_?  How many of them were unique?"
            ],
            "metadata": {
                "azdata_cell_guid": "a73ba51a-4488-423e-9d51-ba8ea5fe297f"
            },
            "attachments": {}
        },
        {
            "cell_type": "code",
            "source": [
                "select count(Principals.PersonID) as [Bittersweet Actors]\r\n",
                "from imdb.Movies, imdb.Principals\r\n",
                "where Movies.TitleID = Principals.TitleID\r\n",
                "and IsActor = 1\r\n",
                "and YearReleased = 2010\r\n",
                "and Title = 'Bittersweet';\r\n",
                "\r\n",
                "select count(distinct Principals.PersonID) as [Distinct Bittersweet Actors]\r\n",
                "from imdb.Movies, imdb.Principals\r\n",
                "where Movies.TitleID = Principals.TitleID\r\n",
                "and IsActor = 1\r\n",
                "and YearReleased = 2010\r\n",
                "and Title = 'Bittersweet';"
            ],
            "metadata": {
                "azdata_cell_guid": "1e08cb4d-e381-4a63-b9c9-ace6cd91be51",
                "language": "sql"
            },
            "outputs": [
                {
                    "output_type": "display_data",
                    "data": {
                        "text/html": "(1 row affected)"
                    },
                    "metadata": {}
                },
                {
                    "output_type": "display_data",
                    "data": {
                        "text/html": "(1 row affected)"
                    },
                    "metadata": {}
                },
                {
                    "output_type": "display_data",
                    "data": {
                        "text/html": "Total execution time: 00:00:00.029"
                    },
                    "metadata": {}
                },
                {
                    "output_type": "execute_result",
                    "execution_count": 5,
                    "data": {
                        "application/vnd.dataresource+json": {
                            "schema": {
                                "fields": [
                                    {
                                        "name": "Bittersweet Actors"
                                    }
                                ]
                            },
                            "data": [
                                {
                                    "Bittersweet Actors": "8"
                                }
                            ]
                        },
                        "text/html": "<table><tr><th>Bittersweet Actors</th></tr><tr><td>8</td></tr></table>"
                    },
                    "metadata": {}
                },
                {
                    "output_type": "execute_result",
                    "execution_count": 5,
                    "data": {
                        "application/vnd.dataresource+json": {
                            "schema": {
                                "fields": [
                                    {
                                        "name": "Distinct Bittersweet Actors"
                                    }
                                ]
                            },
                            "data": [
                                {
                                    "Distinct Bittersweet Actors": "7"
                                }
                            ]
                        },
                        "text/html": "<table><tr><th>Distinct Bittersweet Actors</th></tr><tr><td>7</td></tr></table>"
                    },
                    "metadata": {}
                }
            ],
            "execution_count": 5
        },
        {
            "cell_type": "markdown",
            "source": [
                "What was the **average running time** for movies for which one of the genres was _Drama_ and was released in the same year as the movie titled _Christopher Robin_?  We'll use a **virtual table** in the `FROM` clause to help us with this."
            ],
            "metadata": {
                "azdata_cell_guid": "53975c19-f5ce-43e0-872c-91807ff48d2f"
            },
            "attachments": {}
        },
        {
            "cell_type": "code",
            "source": [
                "with CRM\r\n",
                "as\r\n",
                "(\r\n",
                "    select * from imdb.Movies\r\n",
                "    where Title = 'Christopher Robin'\r\n",
                ")\r\n",
                "select AVG(Movies.RunningTimeInMinutes) [AVG Running Time In Minutes] from CRM, imdb.Movies\r\n",
                "join imdb.MovieGenres \r\n",
                "  on MovieGenres.TitleID = Movies.TitleID\r\n",
                "where Movies.YearReleased = CRM.YearReleased\r\n",
                "  and Genre = 'Drama'"
            ],
            "metadata": {
                "azdata_cell_guid": "c8f556a2-d1d3-46d4-a15a-00170e7550c8",
                "language": "sql"
            },
            "outputs": [
                {
                    "output_type": "display_data",
                    "data": {
                        "text/html": "Warning: Null value is eliminated by an aggregate or other SET operation."
                    },
                    "metadata": {}
                },
                {
                    "output_type": "display_data",
                    "data": {
                        "text/html": "(1 row affected)"
                    },
                    "metadata": {}
                },
                {
                    "output_type": "display_data",
                    "data": {
                        "text/html": "Total execution time: 00:00:00.054"
                    },
                    "metadata": {}
                },
                {
                    "output_type": "execute_result",
                    "execution_count": 3,
                    "data": {
                        "application/vnd.dataresource+json": {
                            "schema": {
                                "fields": [
                                    {
                                        "name": "AVG Running Time In Minutes"
                                    }
                                ]
                            },
                            "data": [
                                {
                                    "AVG Running Time In Minutes": "99"
                                }
                            ]
                        },
                        "text/html": "<table><tr><th>AVG Running Time In Minutes</th></tr><tr><td>99</td></tr></table>"
                    },
                    "metadata": {}
                }
            ],
            "execution_count": 3
        },
        {
            "cell_type": "markdown",
            "source": [
                "To avoid the warning, we can issue the statement\n",
                "````\n",
                "set ansi_warnings off\n",
                "````\n",
                "before executing the query:"
            ],
            "metadata": {
                "azdata_cell_guid": "a20ca283-92d5-4e6f-85bf-25036740bff4"
            },
            "attachments": {}
        },
        {
            "cell_type": "code",
            "source": [
                "set ansi_warnings OFF;\n",
                "\n",
                "with CRM\n",
                "as\n",
                "(\n",
                "    select * from imdb.Movies\n",
                "    where Title = 'Christopher Robin'\n",
                ")\n",
                "select AVG(Movies.RunningTimeInMinutes) [AVG Running Time In Minutes] from CRM, imdb.Movies\n",
                "join imdb.MovieGenres \n",
                "  on MovieGenres.TitleID = Movies.TitleID\n",
                "where Movies.YearReleased = CRM.YearReleased\n",
                "  and Genre = 'Drama'"
            ],
            "metadata": {
                "azdata_cell_guid": "f6de31c0-3d3b-41f6-b9ef-404d9c050030",
                "language": "sql"
            },
            "outputs": [
                {
                    "output_type": "display_data",
                    "data": {
                        "text/html": "(1 row affected)"
                    },
                    "metadata": {}
                },
                {
                    "output_type": "display_data",
                    "data": {
                        "text/html": "Total execution time: 00:00:00.090"
                    },
                    "metadata": {}
                },
                {
                    "output_type": "execute_result",
                    "execution_count": 5,
                    "data": {
                        "application/vnd.dataresource+json": {
                            "schema": {
                                "fields": [
                                    {
                                        "name": "AVG Running Time In Minutes"
                                    }
                                ]
                            },
                            "data": [
                                {
                                    "AVG Running Time In Minutes": "99"
                                }
                            ]
                        },
                        "text/html": "<table><tr><th>AVG Running Time In Minutes</th></tr><tr><td>99</td></tr></table>"
                    },
                    "metadata": {}
                }
            ],
            "execution_count": 5
        },
        {
            "cell_type": "markdown",
            "source": [
                "Note that we only need to turn `ansi_warnings` off once.  It will stay in effect until we turn it back on, or we establish a new connection to the database server."
            ],
            "metadata": {
                "azdata_cell_guid": "e3aee7c7-fda3-4844-9428-a7b6f51ea3b8"
            },
            "attachments": {}
        },
        {
            "cell_type": "markdown",
            "source": [
                "Finally, let's find which dramas were **longer** than the average length of movies made in the same year as _Christopher Robin_.\n",
                "\n",
                "This can be done with a **subquery**, which we haven't discussed yet. But we can also do it using a **join**, with an **inequality** instead of an **equality** in the `on` portion of the `join`.\n",
                "\n",
                "We'll use 3 different virtual tables to help us find the solution.."
            ],
            "metadata": {
                "azdata_cell_guid": "c0213f58-8764-4c42-b50c-61e35b049725"
            },
            "attachments": {}
        },
        {
            "cell_type": "code",
            "source": [
                "with CR(YearReleased) as (\n",
                "    select YearReleased\n",
                "    from imdb.Movies\n",
                "    where Title = 'Christopher Robin'\n",
                "),\n",
                "MoviesMadeSameYearAsCR(TitleID, Title, RunningTimeInMinutes) as (\n",
                "  select TitleID, Title, RunningTimeInMinutes\n",
                "  from imdb.Movies\n",
                "  join CR \n",
                "    on CR.YearReleased = Movies.YearReleased\n",
                "),\n",
                "CRStatistics(AverageRunningTime) as ( \n",
                "    select avg(RunningTimeInMinutes)\n",
                "    from MoviesMadeSameYearAsCR\n",
                "    join imdb.MovieGenres\n",
                "      on MoviesMadeSameYearAsCR.TitleID = MovieGenres.TitleID    \n",
                "    where Genre = 'Drama'\n",
                ") \n",
                "select Title, RunningTimeInMinutes, AverageRunningTime\n",
                "from MoviesMadeSameYearAsCR\n",
                "join CRStatistics \n",
                "  on MoviesMadeSameYearAsCR.RunningTimeInMinutes > CRStatistics.AverageRunningTime\n",
                "order by RunningTimeInMinutes DESC  "
            ],
            "metadata": {
                "azdata_cell_guid": "29dc3646-3374-48fa-88f0-349c3ce9cc4d",
                "language": "sql"
            },
            "outputs": [],
            "execution_count": null
        },
        {
            "cell_type": "markdown",
            "source": [
                "# Part 2 - Complete on your own"
            ],
            "metadata": {
                "azdata_cell_guid": "8088afe7-4b23-4c9b-b6dd-1dfdf531c42d"
            },
            "attachments": {}
        },
        {
            "cell_type": "markdown",
            "source": [
                "How many different movies with the title _Titanic_ have there been, **other than** the one released in 1997? (Answer: 2)"
            ],
            "metadata": {
                "azdata_cell_guid": "ef433f51-e15e-4a5f-a19b-7df70080e274"
            },
            "attachments": {}
        },
        {
            "cell_type": "code",
            "source": [
                "select count(*) [Number of Titanic Movies]\r\n",
                "from imdb.Movies\r\n",
                "where Title = 'Titanic'\r\n",
                "  and YearReleased <> 1997"
            ],
            "metadata": {
                "azdata_cell_guid": "3472d309-3e72-4cda-820a-295638189c01",
                "language": "sql"
            },
            "outputs": [
                {
                    "output_type": "display_data",
                    "data": {
                        "text/html": "(1 row affected)"
                    },
                    "metadata": {}
                },
                {
                    "output_type": "display_data",
                    "data": {
                        "text/html": "Total execution time: 00:00:00.024"
                    },
                    "metadata": {}
                },
                {
                    "output_type": "execute_result",
                    "execution_count": 7,
                    "data": {
                        "application/vnd.dataresource+json": {
                            "schema": {
                                "fields": [
                                    {
                                        "name": "Number of Titanic Movies"
                                    }
                                ]
                            },
                            "data": [
                                {
                                    "Number of Titanic Movies": "2"
                                }
                            ]
                        },
                        "text/html": "<table><tr><th>Number of Titanic Movies</th></tr><tr><td>2</td></tr></table>"
                    },
                    "metadata": {}
                }
            ],
            "execution_count": 7
        },
        {
            "cell_type": "markdown",
            "source": [
                "How long was the **longest** movie released in _1997_  (the year the epically long _Titanic_ movie was released)?  (360 minutes!)"
            ],
            "metadata": {
                "azdata_cell_guid": "c4ad5851-747a-4660-81e0-c459cd8f7162"
            },
            "attachments": {}
        },
        {
            "cell_type": "code",
            "source": [
                "select MAX(RunningTimeInMinutes) [Longest Movie Time in 1997]\r\n",
                "from imdb.Movies\r\n",
                "where YearReleased = 1997"
            ],
            "metadata": {
                "azdata_cell_guid": "31ecb4c2-fccf-4a48-89fa-d3e741947509",
                "language": "sql"
            },
            "outputs": [
                {
                    "output_type": "display_data",
                    "data": {
                        "text/html": "(1 row affected)"
                    },
                    "metadata": {}
                },
                {
                    "output_type": "display_data",
                    "data": {
                        "text/html": "Total execution time: 00:00:00.032"
                    },
                    "metadata": {}
                },
                {
                    "output_type": "execute_result",
                    "execution_count": 11,
                    "data": {
                        "application/vnd.dataresource+json": {
                            "schema": {
                                "fields": [
                                    {
                                        "name": "Longest Movie Time in 1997"
                                    }
                                ]
                            },
                            "data": [
                                {
                                    "Longest Movie Time in 1997": "360"
                                }
                            ]
                        },
                        "text/html": "<table><tr><th>Longest Movie Time in 1997</th></tr><tr><td>360</td></tr></table>"
                    },
                    "metadata": {}
                }
            ],
            "execution_count": 11
        },
        {
            "cell_type": "markdown",
            "source": [
                "What are the **smallest**, **average**, and **largest** movie running times that _Leonardo DiCaprio_ has been in?  Name the columns in the resulting table `Shortest`, `Average`, and `Longest`.  (45, 119, and 194 minutes)"
            ],
            "metadata": {
                "azdata_cell_guid": "b793366e-5c58-4754-93b3-e5d4197cb1ee"
            },
            "attachments": {}
        },
        {
            "cell_type": "code",
            "source": [
                "with MinLD\r\n",
                "as\r\n",
                "(\r\n",
                "select MIN(RunningTimeInMinutes) [Shortest] from imdb.Movies\r\n",
                "JOIN imdb.Principals\r\n",
                "  on Movies.TitleID = Principals.TitleID\r\n",
                "JOIN imdb.People\r\n",
                "  on Principals.PersonID = People.PersonID\r\n",
                "where FirstName = 'Leonardo'\r\n",
                "  and LastName = 'DiCaprio'\r\n",
                "),\r\n",
                "AvgLD\r\n",
                "as\r\n",
                "(\r\n",
                "select AVG(RunningTimeInMinutes) [Average] from imdb.Movies\r\n",
                "JOIN imdb.Principals\r\n",
                "  on Movies.TitleID = Principals.TitleID\r\n",
                "JOIN imdb.People\r\n",
                "  on Principals.PersonID = People.PersonID\r\n",
                "where FirstName = 'Leonardo'\r\n",
                "  and LastName = 'DiCaprio'\r\n",
                "),\r\n",
                "MaxLD\r\n",
                "as\r\n",
                "(\r\n",
                "select MAX(RunningTimeInMinutes) [Longest] from imdb.Movies\r\n",
                "JOIN imdb.Principals\r\n",
                "  on Movies.TitleID = Principals.TitleID\r\n",
                "JOIN imdb.People\r\n",
                "  on Principals.PersonID = People.PersonID\r\n",
                "where FirstName = 'Leonardo'\r\n",
                "  and LastName = 'DiCaprio'\r\n",
                ")\r\n",
                "SELECT * from MinLD, AvgLD, MaxLD"
            ],
            "metadata": {
                "azdata_cell_guid": "9004af21-b5f3-4cb1-89f6-b2599663e915",
                "language": "sql"
            },
            "outputs": [
                {
                    "output_type": "display_data",
                    "data": {
                        "text/html": "(1 row affected)"
                    },
                    "metadata": {}
                },
                {
                    "output_type": "display_data",
                    "data": {
                        "text/html": "Total execution time: 00:00:00.087"
                    },
                    "metadata": {}
                },
                {
                    "output_type": "execute_result",
                    "execution_count": 12,
                    "data": {
                        "application/vnd.dataresource+json": {
                            "schema": {
                                "fields": [
                                    {
                                        "name": "Shortest"
                                    },
                                    {
                                        "name": "Average"
                                    },
                                    {
                                        "name": "Longest"
                                    }
                                ]
                            },
                            "data": [
                                {
                                    "Shortest": "45",
                                    "Average": "119",
                                    "Longest": "194"
                                }
                            ]
                        },
                        "text/html": "<table><tr><th>Shortest</th><th>Average</th><th>Longest</th></tr><tr><td>45</td><td>119</td><td>194</td></tr></table>"
                    },
                    "metadata": {}
                }
            ],
            "execution_count": 12
        },
        {
            "cell_type": "markdown",
            "source": [
                "Which movie(s) released in _1997_ was the longest, and who was its **director**? To answer this question\n",
                "\n",
                "- use the `WITH` statement shown above to allow you to use the query you created to find the movie's length; name this virtual table `Longest1997`\n",
                "- join `Movies` to `Longest1997` on the `RunningTimeInMinutes` column\n",
                "- restrict the rows from `Movies` to have a `YearReleased` of _1997_\n",
                "- join `Movies` to `Principals` and `People` and find the movie's director"
            ],
            "metadata": {
                "azdata_cell_guid": "7be51080-1763-4e59-b978-dcb98fda52b3"
            },
            "attachments": {}
        },
        {
            "cell_type": "code",
            "source": [
                "with Longest1997\r\n",
                "as\r\n",
                "(\r\n",
                "select Max(RunningTimeInMinutes) LongestRunningTime from imdb.Movies\r\n",
                "where YearReleased = 1997\r\n",
                ")\r\n",
                "select FullName from imdb.Movies\r\n",
                "JOIN Longest1997\r\n",
                "  on Movies.RunningTimeInMinutes = Longest1997.LongestRunningTime\r\n",
                "JOIN imdb.Principals\r\n",
                "  on Movies.TitleID = Principals.TitleID\r\n",
                "JOIN imdb.People\r\n",
                "  on People.PersonID = Principals.PersonID\r\n",
                "where Movies.YearReleased = 1997\r\n",
                "  and Category = 'Director'\r\n",
                ""
            ],
            "metadata": {
                "azdata_cell_guid": "45f10b70-083a-4082-a49c-f0d6d34f75ff",
                "language": "sql",
                "tags": []
            },
            "outputs": [
                {
                    "output_type": "display_data",
                    "data": {
                        "text/html": "(1 row affected)"
                    },
                    "metadata": {}
                },
                {
                    "output_type": "display_data",
                    "data": {
                        "text/html": "Total execution time: 00:00:00.052"
                    },
                    "metadata": {}
                },
                {
                    "output_type": "execute_result",
                    "execution_count": 25,
                    "data": {
                        "application/vnd.dataresource+json": {
                            "schema": {
                                "fields": [
                                    {
                                        "name": "FullName"
                                    }
                                ]
                            },
                            "data": [
                                {
                                    "FullName": "Sue Williams"
                                }
                            ]
                        },
                        "text/html": "<table><tr><th>FullName</th></tr><tr><td>Sue Williams</td></tr></table>"
                    },
                    "metadata": {}
                }
            ],
            "execution_count": 25
        },
        {
            "cell_type": "code",
            "source": [
                "use [SalesOrdersExample];\r\n",
                "select Customers.CustomerID, CustFirstName, CustLastName\r\n",
                "from Customers\r\n",
                "where not exists (\r\n",
                "  select *\r\n",
                "  from Orders\r\n",
                "  join Order_Details\r\n",
                "  on Orders.OrderNumber = Order_Details.OrderNumber\r\n",
                "  join Products\r\n",
                "  on Products.ProductNumber = Order_Details.ProductNumber\r\n",
                "   where Customers.CustomerID = Orders.CustomerID\r\n",
                "   and ProductName like '%helmet%'\r\n",
                ")\r\n",
                "group by Customers.CustomerID, CustFirstName, CustLastName\r\n",
                ""
            ],
            "metadata": {
                "language": "sql",
                "azdata_cell_guid": "85289ac3-c760-440b-a326-8ac1606cbe34"
            },
            "outputs": [
                {
                    "output_type": "display_data",
                    "data": {
                        "text/html": "(3 rows affected)"
                    },
                    "metadata": {}
                },
                {
                    "output_type": "display_data",
                    "data": {
                        "text/html": "Total execution time: 00:00:00.055"
                    },
                    "metadata": {}
                },
                {
                    "output_type": "execute_result",
                    "metadata": {},
                    "execution_count": 3,
                    "data": {
                        "application/vnd.dataresource+json": {
                            "schema": {
                                "fields": [
                                    {
                                        "name": "CustomerID"
                                    },
                                    {
                                        "name": "CustFirstName"
                                    },
                                    {
                                        "name": "CustLastName"
                                    }
                                ]
                            },
                            "data": [
                                {
                                    "CustomerID": "1011",
                                    "CustFirstName": "Alaina",
                                    "CustLastName": "Hallmark"
                                },
                                {
                                    "CustomerID": "1028",
                                    "CustFirstName": "Jeffrey",
                                    "CustLastName": "Tirekicker"
                                },
                                {
                                    "CustomerID": "1023",
                                    "CustFirstName": "Julia",
                                    "CustLastName": "Schnebly"
                                }
                            ]
                        },
                        "text/html": [
                            "<table>",
                            "<tr><th>CustomerID</th><th>CustFirstName</th><th>CustLastName</th></tr>",
                            "<tr><td>1011</td><td>Alaina</td><td>Hallmark</td></tr>",
                            "<tr><td>1028</td><td>Jeffrey</td><td>Tirekicker</td></tr>",
                            "<tr><td>1023</td><td>Julia</td><td>Schnebly</td></tr>",
                            "</table>"
                        ]
                    }
                }
            ],
            "execution_count": 3
        }
    ]
}