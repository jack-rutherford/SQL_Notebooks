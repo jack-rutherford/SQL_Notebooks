{
    "metadata": {
        "kernelspec": {
            "name": "SQL",
            "display_name": "SQL",
            "language": "sql"
        },
        "language_info": {
            "name": "sql",
            "version": ""
        }
    },
    "nbformat_minor": 2,
    "nbformat": 4,
    "cells": [
        {
            "cell_type": "markdown",
            "source": [
                "# Creating tables and inserting data\n",
                "\n",
                "In this exercise, you'll be creating two tables named `Series` and `SeriesMovies` and then populating them with data. You may remember these tables from one of the relational algebra exercises.\n",
                "\n",
                "The basic syntax of the `CREATE TABLE` statement looks like this\n",
                "\n",
                "```\n",
                "  CREATE TABLE [<SCHEMA>.]<TABLENAME> (\n",
                "    <COLUMN_1_NAME> <DATATYPE> NULL | NOT NULL [IDENTITY] [PRIMARY KEY],\n",
                "    <COLUMN_2_NAME> <DATATYPE> NULL | NOT NULL [UNIQUE],\n",
                "    ...,\n",
                "    <COLUMN_2_NAME> <DATATYPE> NULL | NOT NULL [UNIQUE],\n",
                "  )\n",
                "\n",
                "```\n",
                "\n",
                "The values contained between \\<\\> should be replaced by specific values, **not** including the \\< and \\> characters. Keywords like `IDENTITY` wrapped in \\[ \\] indicate **optional** portions of the syntax.\n",
                "\n",
                "Here are some notes:\n",
                "\n",
                "- An `IDENTITY` column will be generated automatically by SQL Server as an sequential integer value.\n",
                "- Using the `PRIMARY KEY` designation will allow you to specify a **single** column as the primary key for the table; different syntax is needed to generate a multiple column primary key.\n",
                "- The `UNIQUE` keyword can be used to tell the server it should enforce that the values in a column must be unique, without designating that column as the primary key. The `PRIMARY KEY` designation implies uniqueness.\n",
                "\n",
                "Fill in the code cell below to create a table named **Series** in the **imdb** schema containing two columns:\n",
                "\n",
                "- An `INT` column named `Id` whose values should be generated automatically and is designated as the primary key\n",
                "- A `VARCHAR(64)` column named `SeriesName` whose values should be non-null and unique"
            ],
            "metadata": {
                "azdata_cell_guid": "1815ba99-a5bb-4454-a1a5-8fbc2c4b7ef0"
            },
            "attachments": {}
        },
        {
            "cell_type": "code",
            "source": [
                ""
            ],
            "metadata": {
                "azdata_cell_guid": "03e158ef-7e1f-496a-89f3-6875e19c405a",
                "language": "sql"
            },
            "outputs": [],
            "execution_count": null
        },
        {
            "cell_type": "markdown",
            "source": [
                "The `INSERT` statement is used to insert one or more rows into a table. First, review the information in [Chapter 2 of the textbook on the insert statement](https://app.myeducator.com/reader/web/617gt/chapter02/w47sb/ub98v/). \n",
                "\n",
                " Then write an `INSERT` statement in the cell below that creates a `Series` named _Star Wars_. Do not specify a value for the `Id` column, as the server will assign a value automatically."
            ],
            "metadata": {
                "language": "sql",
                "azdata_cell_guid": "abe46582-9f39-485c-b239-7a696e61db38"
            },
            "attachments": {}
        },
        {
            "cell_type": "code",
            "source": [
                ""
            ],
            "metadata": {
                "language": "sql",
                "azdata_cell_guid": "0955cdc5-eecc-44c6-b72d-aa94296c8797"
            },
            "outputs": [],
            "execution_count": null
        },
        {
            "cell_type": "markdown",
            "source": [
                "Try running the previous cell multiple times.  You should see an error message whose contents hopefully make sense to you.  The name of the unique constraint will have been generated automatically by the server, but it includes the column name as part of the pattern.  You'll see how to give a specific name to a constraint like this soon!\n",
                "\n",
                "You can insert multiple rows into a table at once by including comma-separated lists of parenthesized values, like this:\n",
                "\n",
                "```\n",
                "insert into Series [(col1, col2, ..., coln)] values (...), (...), (...)\n",
                "\n",
                "```\n",
                "\n",
                "Write a single `INSERT` statement below that creates 3 different `Series` tuples with names _Harry Potter_, _Rocky_, and _Die Hard_."
            ],
            "metadata": {
                "language": "sql",
                "azdata_cell_guid": "0816e1c2-29ca-491a-af0f-eb7e0e79d10d"
            },
            "attachments": {}
        },
        {
            "cell_type": "code",
            "source": [
                ""
            ],
            "metadata": {
                "language": "sql",
                "azdata_cell_guid": "76311ff8-a48d-4b3f-ab1e-0fc7801d12da"
            },
            "outputs": [],
            "execution_count": null
        },
        {
            "cell_type": "markdown",
            "source": [
                "Write a query in the cell below that displays all attributes for all tuples in the `imdb.Series` table."
            ],
            "metadata": {
                "language": "sql",
                "azdata_cell_guid": "bda83071-7a9a-4712-b4ca-162167c8502e"
            },
            "attachments": {}
        },
        {
            "cell_type": "code",
            "source": [
                ""
            ],
            "metadata": {
                "language": "sql",
                "azdata_cell_guid": "b0dca4a0-320d-4296-85c9-b95dc01123d4"
            },
            "outputs": [],
            "execution_count": null
        },
        {
            "cell_type": "markdown",
            "source": [
                "The order the tuples are displayed in might be surprising.  At least for me, they were displayed in order by `SeriesName` instead of by `Id`. You'll learn why this might have happened later in the semester when we talk about **indexes**.\n",
                "\n",
                "Next, add another column to our `Series` table named `DateCreated`. To do this, you should use the `ALTER TABLE` command. Review the [textbook discussion of ALTER TABLE](https:\\app.myeducator.com\\reader\\web\\617gt\\chapter05\\bz065\\ud0d5#yf1w6) and then write code in the cell below to add the `DateCreated` column to the `Series` table. \n",
                "\n",
                "- Use the `datetime` data type\n",
                "- Do not allow null values \n",
                "- Specify that the value of the `getdate()` function should be used as the default value (see [SQL reference documentation on specifying defaults](https:\\learn.microsoft.com\\en-us\\sql\\relational-databases\\tables\\specify-default-values-for-columns?view=sql-server-ver16#create-table-t-sql))"
            ],
            "metadata": {
                "language": "sql",
                "azdata_cell_guid": "4aa89f97-26a3-4652-877d-aafdf4e3a193"
            },
            "attachments": {}
        },
        {
            "cell_type": "code",
            "source": [
                ""
            ],
            "metadata": {
                "language": "sql",
                "azdata_cell_guid": "f7f5acbc-966c-4442-871f-566f3c5a25f6"
            },
            "outputs": [],
            "execution_count": null
        },
        {
            "cell_type": "markdown",
            "source": [
                "Re-run your query that retrieved all attributes of all the tuples in the `imdb.Series` table and observe the values assigned to the `DateCreated` attribute for the existing tuples.\n",
                "\n",
                "Surprise! The tuples are now most likely sorted by the `Id` column instead of the `Name` column. Again, you'll learn why this happened later in the semester (gotta have a good teaser to keep you coming back for more!)"
            ],
            "metadata": {
                "language": "sql",
                "azdata_cell_guid": "a750497b-88ab-4035-a78d-74268609d451"
            },
            "attachments": {}
        },
        {
            "cell_type": "markdown",
            "source": [
                "## The SeriesMovies table\n",
                "\n",
                "Next you'll create a table named **SeriesMovies** in the **imdb** schema that holds a many-to-many relationship between a `Series` and a `Movie`. You might think a one-to-many relationship is more appropriate, but perhaps we want to include `Star Wars Episode IV: A New Hope` in our _Star Wars_ series and also in an `Original Star Wars` series, for example.\n",
                "\n",
                "Here's the list of columns you should include in `SeriesMovie`:\n",
                "\n",
                "- `SeriesId`, a non-nullable integer that should **reference** the `Id` column in the `Series` table; deleting a `Series` tuple should cause the corresponding tuples in the `SeriesMovies` table to be deleted.\n",
                "- `TitleId`, a non-nullable `char` field with size 10 that should reference the `TitleId` column in the `Movies` table; deleting a `Movies` tuple should cause the corresponding tuples in the `SeriesMovies` table to be deleted\n",
                "- `SeriesOrder`, a non-nullable integer\n",
                "\n",
                "The primary key for `SeriesMovie` should be set to the **combination** of the `SeriesId` and `TitleId` columns.\n",
                "\n",
                "See [the SaleItem table definition in the textbook](https://app.myeducator.com/reader/web/617gt/chapter05/bz065/ud0d5/#l075u) for examples of\n",
                "\n",
                "- how to create a primary key consisting of more than one column\n",
                "- how to declare a foreign key that references another table, and to specify its behavior when the referenced tuple is deleted"
            ],
            "metadata": {
                "language": "sql",
                "azdata_cell_guid": "e3b3a551-ddc5-4f86-adc3-83cb5b95abcc"
            },
            "attachments": {}
        },
        {
            "cell_type": "code",
            "source": [
                ""
            ],
            "metadata": {
                "language": "sql",
                "azdata_cell_guid": "736b9118-44cf-4a50-90ba-1c47af20cb83"
            },
            "outputs": [],
            "execution_count": null
        },
        {
            "cell_type": "markdown",
            "source": [
                "After successfully creating the `SeriesMovies` table, press **CTRL-Shift-P** and search for _Refresh_, then select the _Refresh Intellisense Cache_ option to get Azure Data Studio to \"know\" about the existence of the `SeriesMovies` table.\n",
                "\n",
                "Write a query below to select all attributes of all tuples from the `imdb.SeriesMovies` table. Hopefully auto-complete works for you after refreshing the Intellisense cache!"
            ],
            "metadata": {
                "language": "sql",
                "azdata_cell_guid": "2358f880-6480-48be-b77a-a8c2e56c480d"
            },
            "attachments": {}
        },
        {
            "cell_type": "code",
            "source": [
                ""
            ],
            "metadata": {
                "language": "sql",
                "azdata_cell_guid": "85d89e2c-4282-4764-9150-9eac5d8220de"
            },
            "outputs": [],
            "execution_count": null
        },
        {
            "cell_type": "markdown",
            "source": [
                "Now it's time to insert a movie into the `SeriesMovies` table.  First write two `SELECT` statements in the code cell below to find \r\n",
                "\r\n",
                "- the `Series.Id` value for the series named _Star Wars_\r\n",
                "- the `Movies.TitleId` value for the movie with `Original Title` _Star Wars_"
            ],
            "metadata": {
                "language": "sql",
                "azdata_cell_guid": "8ad7a2e5-6198-449c-8b8e-38b885a28030"
            },
            "attachments": {}
        },
        {
            "cell_type": "code",
            "source": [
                ""
            ],
            "metadata": {
                "language": "sql",
                "azdata_cell_guid": "02f7f7ad-0e13-4c6c-989f-34ecfdd817b3"
            },
            "outputs": [],
            "execution_count": null
        },
        {
            "cell_type": "markdown",
            "source": [
                "Write an `INSERT` statement that inserts the appropriate values into the `MovieSeries` table, using **1** as the value for the `SeriesOrder` attribute."
            ],
            "metadata": {
                "azdata_cell_guid": "ff47113b-a5cc-4efa-bce2-f140203f44af"
            },
            "attachments": {}
        },
        {
            "cell_type": "code",
            "source": [
                ""
            ],
            "metadata": {
                "azdata_cell_guid": "b65db605-e902-4118-9e4c-a41f5730cd62",
                "language": "sql"
            },
            "outputs": [],
            "execution_count": null
        },
        {
            "cell_type": "markdown",
            "source": [
                "Write a `SELECT` statement that shows the `SeriesName`, `Title`, and `OriginalTitle` attributes for all the movies in the series named _Star Wars_."
            ],
            "metadata": {
                "language": "sql",
                "azdata_cell_guid": "99a00979-e6e6-46f1-9d81-d67cb815c23d"
            },
            "attachments": {}
        },
        {
            "cell_type": "code",
            "source": [
                ""
            ],
            "metadata": {
                "language": "sql",
                "azdata_cell_guid": "1a83366c-afeb-41fc-83fa-98dea699ba07"
            },
            "outputs": [],
            "execution_count": null
        },
        {
            "cell_type": "markdown",
            "source": [
                "It's a hassle to look up the `Id` and `TitleId` attribute values manually. You can instead use a `SELECT` statement to look up the values for these attributes. Here's an example you should execute to add _The Empire Strikes Back_ to the _Star Wars_ series."
            ],
            "metadata": {
                "language": "sql",
                "azdata_cell_guid": "6e8c2735-2862-4845-a8b0-e22ef189312b"
            },
            "attachments": {}
        },
        {
            "cell_type": "code",
            "source": [
                "insert into imdb.SeriesMovies\r\n",
                "select Id, TitleId, 2\r\n",
                "from imdb.Series, imdb.Movies\r\n",
                "where SeriesName = 'Star Wars'\r\n",
                "  and Title like '%Empire Strikes Back%'"
            ],
            "metadata": {
                "language": "sql",
                "azdata_cell_guid": "015f90dc-862d-4a63-af62-7bd6e8e0ea55"
            },
            "outputs": [],
            "execution_count": null
        },
        {
            "cell_type": "markdown",
            "source": [
                "There isn't a `JOIN` in the `FROM` clause. This means you are taking the **cartesian product** of the tuples identified from the `Series` and `Movies` tables. Since there's only 1 tuple from each, a single tuple is inserted.\n",
                "\n",
                "Re-run your query listing the movies in the _Star Wars_ series to verify you get both movies. Add an `ORDER BY` clause to ensure they are displayed in the correct order."
            ],
            "metadata": {
                "language": "sql",
                "azdata_cell_guid": "60e8fb19-9211-42bf-9e39-3fb3c454a982"
            },
            "attachments": {}
        },
        {
            "cell_type": "markdown",
            "source": [
                "In the code cell below, complete the starter query as instructed so it adds _Return of the Jedi_ to the _Star Wars_ series with the appropriate value for the `SeriesOrder` attribute"
            ],
            "metadata": {
                "language": "sql",
                "azdata_cell_guid": "41161165-1cde-490c-b10f-996a4cd244ac"
            },
            "attachments": {}
        },
        {
            "cell_type": "code",
            "source": [
                "with LargestSeriesOrder (MaxSeriesOrder) as (\r\n",
                "    --  Replace the query below with one to find the largest SeriesOrder value for the series named Star Wars\r\n",
                "    select 3\r\n",
                ")\r\n",
                "insert into imdb.SeriesMovies\r\n",
                "select Id, TitleId, MaxSeriesOrder+1\r\n",
                "from imdb.Series, imdb.Movies, LargestSeriesOrder\r\n",
                "where SeriesName = 'Star Wars'\r\n",
                "  and Title like '%Return of the Jedi%'"
            ],
            "metadata": {
                "language": "sql",
                "azdata_cell_guid": "faf92e18-c99c-4f72-bc1c-ac47dca243d0",
                "tags": []
            },
            "outputs": [],
            "execution_count": null
        },
        {
            "cell_type": "markdown",
            "source": [
                "Re-run your query listing the movies in the _Star Wars_ series to make sure you see all 3 of the original series movies.\r\n",
                "\r\n",
                "Then, review the [textbook documentation on update](https://app.myeducator.com/reader/web/617gt/w47sb#gn9ws) and write an `UPDATE` statement to change the name of the _Star Wars_ series to _Original Star Wars_."
            ],
            "metadata": {
                "language": "sql",
                "azdata_cell_guid": "1fffeb7b-a5bb-4bc5-b372-530bf273a9d8"
            },
            "attachments": {}
        },
        {
            "cell_type": "code",
            "source": [
                ""
            ],
            "metadata": {
                "language": "sql",
                "azdata_cell_guid": "40731022-e0d6-402d-b722-df41fa69a9cb"
            },
            "outputs": [],
            "execution_count": null
        },
        {
            "cell_type": "markdown",
            "source": [
                "Now write and execute an `INSERT` state to create another `Series` named _Full Star Wars_ which will eventually contain all 9 of the Star Wars movies."
            ],
            "metadata": {
                "language": "sql",
                "azdata_cell_guid": "9d01ac05-4c63-4168-93d6-02daf9c182b4"
            },
            "attachments": {}
        },
        {
            "cell_type": "code",
            "source": [
                ""
            ],
            "metadata": {
                "language": "sql",
                "azdata_cell_guid": "58d89b4f-fa6d-427a-a117-689f90cec7be"
            },
            "outputs": [],
            "execution_count": null
        },
        {
            "cell_type": "markdown",
            "source": [
                "Write an `INSERT` statement that adds the tuples in `SeriesMovies` for the _Original Star Wars_ movies as tuples in the _Full Star Wars_ series. For now, keep the same values for the `SeriesOrder` column values. Don't hard-code the value of the `SeriesId` attribute; look it up from `Series` instead. \n",
                "\n",
                "Hint:  you can use a **query** to provide the value for an attribute <span style=\"color: var(--vscode-foreground);\">as long as the parenthesized query returns a</span> **single value**<span style=\"color: var(--vscode-foreground);\">, like this:</span>\n",
                "\n",
                "```\n",
                "select (select column from table where criteria), column1, column2\n",
                "from table\n",
                "\n",
                "```\n",
                "\n",
                " I used this to look up the `Id` attribute value for the _Full Star Wars_ series."
            ],
            "metadata": {
                "language": "sql",
                "azdata_cell_guid": "6e876497-1e94-43d1-92e1-cb6042816622"
            },
            "attachments": {}
        },
        {
            "cell_type": "code",
            "source": [
                ""
            ],
            "metadata": {
                "language": "sql",
                "azdata_cell_guid": "9476654b-2852-4c2e-99f8-badfd4de8541"
            },
            "outputs": [],
            "execution_count": null
        },
        {
            "cell_type": "markdown",
            "source": [
                "We need to make way for the prequels.  Write an **UPDATE** statement to add 3 to the `SeriesOrder` attribute values associated with the _Full Star Wars_ series.  You'll need to write a **subquery** to find the correct value for the `SeriesId` attribute, something like this:\r\n",
                "\r\n",
                "````\r\n",
                "update ...\r\n",
                "set ....\r\n",
                "where SeriesId = (\r\n",
                "    --  subquery goes here\r\n",
                ")\r\n",
                "````"
            ],
            "metadata": {
                "language": "sql",
                "azdata_cell_guid": "7ed995db-fde4-4995-8101-22f36e120153"
            },
            "attachments": {}
        },
        {
            "cell_type": "code",
            "source": [
                ""
            ],
            "metadata": {
                "language": "sql",
                "azdata_cell_guid": "a37972c9-0901-4263-bbce-27999c72cf6f"
            },
            "outputs": [],
            "execution_count": null
        },
        {
            "cell_type": "markdown",
            "source": [
                "And, write a query that display the `SeriesName`, `Title`, and `SeriesOrder` for **all** the existing `Series` (including _Harry Potter_, _Die Hard_, and _Rocky_).\n",
                "\n",
                "Sort the results first by `Id`, then by `SeriesOrder`.\n",
                "\n",
                "The results should look like this:\n",
                "\n",
                "| SeriesName | Title | SeriesOrder |\n",
                "| --- | --- | --- |\n",
                "| Original Star Wars | Star Wars: Episode IV - A New Hope | 1 |\n",
                "| Original Star Wars | Star Wars: Episode V - The Empire Strikes Back | 2 |\n",
                "| Original Star Wars | Star Wars: Episode VI - Return of the Jedi | 3 |\n",
                "| Harry Potter | _NULL_ | _NULL_ |\n",
                "| Rocky | _NULL_ | _NULL_ |\n",
                "| Die Hard | _NULL_ | _NULL_ |\n",
                "| Original Star Wars | Star Wars: Episode IV - A New Hope | 4 |\n",
                "| Original Star Wars | Star Wars: Episode V - The Empire Strikes Back | 5 |\n",
                "| Original Star Wars | Star Wars: Episode VI - Return of the Jedi | 6 |"
            ],
            "metadata": {
                "language": "sql",
                "azdata_cell_guid": "9f162b5c-13f9-4583-8cc6-f780ee1235fe"
            },
            "attachments": {}
        },
        {
            "cell_type": "code",
            "source": [
                ""
            ],
            "metadata": {
                "language": "sql",
                "azdata_cell_guid": "c13695fa-0983-49d5-ac95-6904579dac1a"
            },
            "outputs": [],
            "execution_count": null
        },
        {
            "cell_type": "markdown",
            "source": [
                "Your last task for this exercise will be to insert the appropriate entries into the _Harry Potter_ and _Rocky_ series.  You can use the `Rank()` function to make this quick. Examine and execute the cell below to insert the _Harry Potter_ movies.  There should be 10 movies inserted into the `SeriesMovies` table."
            ],
            "metadata": {
                "language": "sql",
                "azdata_cell_guid": "6f6afb8c-e2ae-4cf0-aa64-0a0f6667806d"
            },
            "attachments": {}
        },
        {
            "cell_type": "code",
            "source": [
                "with HarryPotter(Id) as (\r\n",
                "    select Id \r\n",
                "    from imdb.Series\r\n",
                "    where SeriesName = 'Harry Potter'\r\n",
                ")\r\n",
                "insert into imdb.SeriesMovies (SeriesId, TitleId, SeriesOrder)\r\n",
                "select Id, TitleId, rank() over (order by YearReleased)\r\n",
                "from imdb.Movies, HarryPotter\r\n",
                "where Title like 'Harry Potter%'"
            ],
            "metadata": {
                "language": "sql",
                "azdata_cell_guid": "85cb724c-b5c3-4812-8a29-a972a77e8019"
            },
            "outputs": [],
            "execution_count": null
        },
        {
            "cell_type": "markdown",
            "source": [
                "Execute the cell above that lists all the movies associated with series to verify the _Harry Potter_ movies were inserted correctly.\n",
                "\n",
                "Then use a similar technique to insert movies into the _Rocky_ series, using our standard definition of a Rocky movie:  a movie _Sylvester Stallone_ played a role in whose title starts with _Rocky_.\n",
                "\n",
                "I used my `ActorMovies` view to make it easier to identify the 6 Rocky movies.\n",
                "\n",
                "Once you've executed the query to fill in the _Rocky_ series with movies, execute the cell above that lists all the movies associated with series to verify the _Rocky_ movies were inserted correctly."
            ],
            "metadata": {
                "language": "sql",
                "azdata_cell_guid": "98888bf6-2d31-4703-a7ea-c42d4ae14196"
            },
            "attachments": {}
        },
        {
            "cell_type": "code",
            "source": [
                ""
            ],
            "metadata": {
                "language": "sql",
                "azdata_cell_guid": "0c9be1db-e129-49dd-b2a4-4592a6eff452"
            },
            "outputs": [],
            "execution_count": null
        }
    ]
}