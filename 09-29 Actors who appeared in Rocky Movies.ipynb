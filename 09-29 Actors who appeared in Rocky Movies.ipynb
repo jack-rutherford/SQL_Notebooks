{
    "metadata": {
        "kernelspec": {
            "name": "SQL",
            "display_name": "SQL",
            "language": "sql"
        },
        "language_info": {
            "name": "sql",
            "version": ""
        }
    },
    "nbformat_minor": 2,
    "nbformat": 4,
    "cells": [
        {
            "cell_type": "markdown",
            "source": [
                "Our goal for this question is to find all the actors **besides** Sylvester Stallone who appeared in a _Rocky_ movie.  We will define a _Rocky_ movie to be a movie:\r\n",
                "\r\n",
                "* in which Sylvester Stallone appeared and\r\n",
                "* whose `Title` attribute **contains** the word *Rocky*\r\n",
                "\r\n",
                "We'll get started by writing a query to find _Rocky_ movies, displaying the `Title`, `YearReleased`, `FirstName`, `LastName`, and `Role` attributes to check our work."
            ],
            "metadata": {
                "azdata_cell_guid": "536034e1-2181-43ef-8b03-43f725289014"
            },
            "attachments": {}
        },
        {
            "cell_type": "code",
            "source": [
                "SELECT Title, YearReleased, FirstName, LastName, \"Role\"\r\n",
                "from imdb.People\r\n",
                "join imdb.Principals\r\n",
                "  on People.PersonID = Principals.PersonID\r\n",
                "join imdb.Movies\r\n",
                "  on Movies.TitleID = Principals.TitleID\r\n",
                "where FirstName = 'Sylvester'\r\n",
                "  and LastName = 'Stallone'\r\n",
                "  and IsActor = 1\r\n",
                "  and Title like 'Rocky%'"
            ],
            "metadata": {
                "azdata_cell_guid": "a6866dac-8206-43d4-b014-3979782d9353"
            },
            "outputs": [
                {
                    "output_type": "display_data",
                    "data": {
                        "text/html": "(6 rows affected)"
                    },
                    "metadata": {}
                },
                {
                    "output_type": "display_data",
                    "data": {
                        "text/html": "Total execution time: 00:00:01.542"
                    },
                    "metadata": {}
                },
                {
                    "output_type": "execute_result",
                    "execution_count": 1,
                    "data": {
                        "application/vnd.dataresource+json": {
                            "schema": {
                                "fields": [
                                    {
                                        "name": "Title"
                                    },
                                    {
                                        "name": "YearReleased"
                                    },
                                    {
                                        "name": "FirstName"
                                    },
                                    {
                                        "name": "LastName"
                                    },
                                    {
                                        "name": "Role"
                                    }
                                ]
                            },
                            "data": [
                                {
                                    "0": "Rocky",
                                    "1": "1976",
                                    "2": "Sylvester",
                                    "3": "Stallone",
                                    "4": "Rocky"
                                },
                                {
                                    "0": "Rocky II",
                                    "1": "1979",
                                    "2": "Sylvester",
                                    "3": "Stallone",
                                    "4": "Rocky Balboa"
                                },
                                {
                                    "0": "Rocky III",
                                    "1": "1982",
                                    "2": "Sylvester",
                                    "3": "Stallone",
                                    "4": "Rocky Balboa"
                                },
                                {
                                    "0": "Rocky IV",
                                    "1": "1985",
                                    "2": "Sylvester",
                                    "3": "Stallone",
                                    "4": "Rocky Balboa"
                                },
                                {
                                    "0": "Rocky V",
                                    "1": "1990",
                                    "2": "Sylvester",
                                    "3": "Stallone",
                                    "4": "Rocky"
                                },
                                {
                                    "0": "Rocky Balboa",
                                    "1": "2006",
                                    "2": "Sylvester",
                                    "3": "Stallone",
                                    "4": "Rocky Balboa"
                                }
                            ]
                        },
                        "text/html": "<table><tr><th>Title</th><th>YearReleased</th><th>FirstName</th><th>LastName</th><th>Role</th></tr><tr><td>Rocky</td><td>1976</td><td>Sylvester</td><td>Stallone</td><td>Rocky</td></tr><tr><td>Rocky II</td><td>1979</td><td>Sylvester</td><td>Stallone</td><td>Rocky Balboa</td></tr><tr><td>Rocky III</td><td>1982</td><td>Sylvester</td><td>Stallone</td><td>Rocky Balboa</td></tr><tr><td>Rocky IV</td><td>1985</td><td>Sylvester</td><td>Stallone</td><td>Rocky Balboa</td></tr><tr><td>Rocky V</td><td>1990</td><td>Sylvester</td><td>Stallone</td><td>Rocky</td></tr><tr><td>Rocky Balboa</td><td>2006</td><td>Sylvester</td><td>Stallone</td><td>Rocky Balboa</td></tr></table>"
                    },
                    "metadata": {}
                }
            ],
            "execution_count": 1
        },
        {
            "cell_type": "markdown",
            "source": [
                "Now that we have the list of movies, we want to actors who appeared in **that set** of `Movie`s. We'll use a **common table expression** to define a table named `RockyMovies` to make this happen.  At this stage, we'll just select everything from `RockyMovies` to demonstrate the use of CTEs.\n",
                "\n",
                "Here's a copy of the syntax for a CTE from the Microsoft documentation.\n",
                "\n",
                "```\n",
                "[ WITH <common_table_expression> [ ,...n ] ]\n",
                "\n",
                "<common_table_expression>::=\n",
                "    expression_name [ ( column_name [ ,...n ] ) ]\n",
                "    AS\n",
                "    ( CTE_query_definition )\n",
                "\n",
                "```"
            ],
            "metadata": {
                "language": "sql",
                "azdata_cell_guid": "8316c27c-1d5a-43da-b16e-9304e302f6f7"
            },
            "attachments": {}
        },
        {
            "cell_type": "code",
            "source": [
                "WITH RockyMovies\r\n",
                "AS\r\n",
                "(\r\n",
                "SELECT Title, YearReleased, FirstName, LastName, \"Role\"\r\n",
                "from imdb.People\r\n",
                "join imdb.Principals\r\n",
                "  on People.PersonID = Principals.PersonID\r\n",
                "join imdb.Movies\r\n",
                "  on Movies.TitleID = Principals.TitleID\r\n",
                "where FirstName = 'Sylvester'\r\n",
                "  and LastName = 'Stallone'\r\n",
                "  and IsActor = 1\r\n",
                "  and Title like 'Rocky%'\r\n",
                ")\r\n",
                "select * from RockyMovies"
            ],
            "metadata": {
                "azdata_cell_guid": "708ee4d4-c4e9-401b-94f9-6dd74dc7889c"
            },
            "outputs": [
                {
                    "output_type": "display_data",
                    "data": {
                        "text/html": "(6 rows affected)"
                    },
                    "metadata": {}
                },
                {
                    "output_type": "display_data",
                    "data": {
                        "text/html": "Total execution time: 00:00:00.025"
                    },
                    "metadata": {}
                },
                {
                    "output_type": "execute_result",
                    "execution_count": 2,
                    "data": {
                        "application/vnd.dataresource+json": {
                            "schema": {
                                "fields": [
                                    {
                                        "name": "Title"
                                    },
                                    {
                                        "name": "YearReleased"
                                    },
                                    {
                                        "name": "FirstName"
                                    },
                                    {
                                        "name": "LastName"
                                    },
                                    {
                                        "name": "Role"
                                    }
                                ]
                            },
                            "data": [
                                {
                                    "0": "Rocky",
                                    "1": "1976",
                                    "2": "Sylvester",
                                    "3": "Stallone",
                                    "4": "Rocky"
                                },
                                {
                                    "0": "Rocky II",
                                    "1": "1979",
                                    "2": "Sylvester",
                                    "3": "Stallone",
                                    "4": "Rocky Balboa"
                                },
                                {
                                    "0": "Rocky III",
                                    "1": "1982",
                                    "2": "Sylvester",
                                    "3": "Stallone",
                                    "4": "Rocky Balboa"
                                },
                                {
                                    "0": "Rocky IV",
                                    "1": "1985",
                                    "2": "Sylvester",
                                    "3": "Stallone",
                                    "4": "Rocky Balboa"
                                },
                                {
                                    "0": "Rocky V",
                                    "1": "1990",
                                    "2": "Sylvester",
                                    "3": "Stallone",
                                    "4": "Rocky"
                                },
                                {
                                    "0": "Rocky Balboa",
                                    "1": "2006",
                                    "2": "Sylvester",
                                    "3": "Stallone",
                                    "4": "Rocky Balboa"
                                }
                            ]
                        },
                        "text/html": "<table><tr><th>Title</th><th>YearReleased</th><th>FirstName</th><th>LastName</th><th>Role</th></tr><tr><td>Rocky</td><td>1976</td><td>Sylvester</td><td>Stallone</td><td>Rocky</td></tr><tr><td>Rocky II</td><td>1979</td><td>Sylvester</td><td>Stallone</td><td>Rocky Balboa</td></tr><tr><td>Rocky III</td><td>1982</td><td>Sylvester</td><td>Stallone</td><td>Rocky Balboa</td></tr><tr><td>Rocky IV</td><td>1985</td><td>Sylvester</td><td>Stallone</td><td>Rocky Balboa</td></tr><tr><td>Rocky V</td><td>1990</td><td>Sylvester</td><td>Stallone</td><td>Rocky</td></tr><tr><td>Rocky Balboa</td><td>2006</td><td>Sylvester</td><td>Stallone</td><td>Rocky Balboa</td></tr></table>"
                    },
                    "metadata": {}
                }
            ],
            "execution_count": 2
        },
        {
            "cell_type": "markdown",
            "source": [
                "Now we want to find all actors in those movies.  We'll need to modify the attributes included in `RockyMovies` to include the `TitleID`.\r\n",
                "\r\n",
                "We'll include only the `TitleID`, `Title`, and `YearReleased` attributes, and rename the `TitleID` attribute `RockyMovieID` to see how that works.  Here's the syntax again.\r\n",
                "\r\n",
                "````\r\n",
                "[ WITH <common_table_expression> [ ,...n ] ]\r\n",
                "\r\n",
                "<common_table_expression>::=\r\n",
                "    expression_name [ ( column_name [ ,...n ] ) ]\r\n",
                "    AS\r\n",
                "    ( CTE_query_definition )\r\n",
                "````"
            ],
            "metadata": {
                "language": "sql",
                "azdata_cell_guid": "c6eef407-d5d2-467e-9867-4595cac8e95a"
            },
            "attachments": {}
        },
        {
            "cell_type": "code",
            "source": [
                "WITH RockyMovies\r\n",
                "AS\r\n",
                "(\r\n",
                "SELECT Movies.TitleID, Title, YearReleased\r\n",
                "from imdb.People\r\n",
                "join imdb.Principals\r\n",
                "  on People.PersonID = Principals.PersonID\r\n",
                "join imdb.Movies\r\n",
                "  on Movies.TitleID = Principals.TitleID\r\n",
                "where FirstName = 'Sylvester'\r\n",
                "  and LastName = 'Stallone'\r\n",
                "  and IsActor = 1\r\n",
                "  and Title like 'Rocky%'\r\n",
                ")\r\n",
                "select Title, YearReleased, FirstName, LastName, \"Role\" \r\n",
                "from imdb.People\r\n",
                "join imdb.Principals\r\n",
                "  on People.PersonID = Principals.PersonID\r\n",
                "join RockyMovies\r\n",
                "  on RockyMovies.TitleID = Principals.TitleID\r\n",
                "ORDER by YearReleased, CreditNumber"
            ],
            "metadata": {
                "azdata_cell_guid": "939cefae-c54d-46a8-be94-35d4f464fdeb"
            },
            "outputs": [
                {
                    "output_type": "display_data",
                    "data": {
                        "text/html": "(59 rows affected)"
                    },
                    "metadata": {}
                },
                {
                    "output_type": "display_data",
                    "data": {
                        "text/html": "Total execution time: 00:00:00.190"
                    },
                    "metadata": {}
                },
                {
                    "output_type": "execute_result",
                    "execution_count": 5,
                    "data": {
                        "application/vnd.dataresource+json": {
                            "schema": {
                                "fields": [
                                    {
                                        "name": "Title"
                                    },
                                    {
                                        "name": "YearReleased"
                                    },
                                    {
                                        "name": "FirstName"
                                    },
                                    {
                                        "name": "LastName"
                                    },
                                    {
                                        "name": "Role"
                                    }
                                ]
                            },
                            "data": [
                                {
                                    "0": "Rocky",
                                    "1": "1976",
                                    "2": "Sylvester",
                                    "3": "Stallone",
                                    "4": "Rocky"
                                },
                                {
                                    "0": "Rocky",
                                    "1": "1976",
                                    "2": "Talia",
                                    "3": "Shire",
                                    "4": "Adrian"
                                },
                                {
                                    "0": "Rocky",
                                    "1": "1976",
                                    "2": "Burt",
                                    "3": "Young",
                                    "4": "Paulie"
                                },
                                {
                                    "0": "Rocky",
                                    "1": "1976",
                                    "2": "Carl",
                                    "3": "Weathers",
                                    "4": "Apollo"
                                },
                                {
                                    "0": "Rocky",
                                    "1": "1976",
                                    "2": "John",
                                    "3": "Avildsen",
                                    "4": "NULL"
                                },
                                {
                                    "0": "Rocky",
                                    "1": "1976",
                                    "2": "Robert",
                                    "3": "Chartoff",
                                    "4": "NULL"
                                },
                                {
                                    "0": "Rocky",
                                    "1": "1976",
                                    "2": "Irwin",
                                    "3": "Winkler",
                                    "4": "NULL"
                                },
                                {
                                    "0": "Rocky",
                                    "1": "1976",
                                    "2": "Bill",
                                    "3": "Conti",
                                    "4": "NULL"
                                },
                                {
                                    "0": "Rocky",
                                    "1": "1976",
                                    "2": "James",
                                    "3": "Crabe",
                                    "4": "NULL"
                                },
                                {
                                    "0": "Rocky",
                                    "1": "1976",
                                    "2": "Scott",
                                    "3": "Conrad",
                                    "4": "NULL"
                                },
                                {
                                    "0": "Rocky II",
                                    "1": "1979",
                                    "2": "Sylvester",
                                    "3": "Stallone",
                                    "4": "Rocky Balboa"
                                },
                                {
                                    "0": "Rocky II",
                                    "1": "1979",
                                    "2": "Talia",
                                    "3": "Shire",
                                    "4": "Adrian"
                                },
                                {
                                    "0": "Rocky II",
                                    "1": "1979",
                                    "2": "Burt",
                                    "3": "Young",
                                    "4": "Paulie"
                                },
                                {
                                    "0": "Rocky II",
                                    "1": "1979",
                                    "2": "Carl",
                                    "3": "Weathers",
                                    "4": "Apollo Creed"
                                },
                                {
                                    "0": "Rocky II",
                                    "1": "1979",
                                    "2": "Robert",
                                    "3": "Chartoff",
                                    "4": "NULL"
                                },
                                {
                                    "0": "Rocky II",
                                    "1": "1979",
                                    "2": "Irwin",
                                    "3": "Winkler",
                                    "4": "NULL"
                                },
                                {
                                    "0": "Rocky II",
                                    "1": "1979",
                                    "2": "Bill",
                                    "3": "Conti",
                                    "4": "NULL"
                                },
                                {
                                    "0": "Rocky II",
                                    "1": "1979",
                                    "2": "Bill",
                                    "3": "Butler",
                                    "4": "NULL"
                                },
                                {
                                    "0": "Rocky II",
                                    "1": "1979",
                                    "2": "Stanford",
                                    "3": "Allen",
                                    "4": "NULL"
                                },
                                {
                                    "0": "Rocky III",
                                    "1": "1982",
                                    "2": "Sylvester",
                                    "3": "Stallone",
                                    "4": "Rocky Balboa"
                                },
                                {
                                    "0": "Rocky III",
                                    "1": "1982",
                                    "2": "Talia",
                                    "3": "Shire",
                                    "4": "Adrian"
                                },
                                {
                                    "0": "Rocky III",
                                    "1": "1982",
                                    "2": "Burt",
                                    "3": "Young",
                                    "4": "Paulie"
                                },
                                {
                                    "0": "Rocky III",
                                    "1": "1982",
                                    "2": "Carl",
                                    "3": "Weathers",
                                    "4": "Apollo Creed"
                                },
                                {
                                    "0": "Rocky III",
                                    "1": "1982",
                                    "2": "Robert",
                                    "3": "Chartoff",
                                    "4": "NULL"
                                },
                                {
                                    "0": "Rocky III",
                                    "1": "1982",
                                    "2": "Irwin",
                                    "3": "Winkler",
                                    "4": "NULL"
                                },
                                {
                                    "0": "Rocky III",
                                    "1": "1982",
                                    "2": "Bill",
                                    "3": "Conti",
                                    "4": "NULL"
                                },
                                {
                                    "0": "Rocky III",
                                    "1": "1982",
                                    "2": "Bill",
                                    "3": "Butler",
                                    "4": "NULL"
                                },
                                {
                                    "0": "Rocky III",
                                    "1": "1982",
                                    "2": "Mark",
                                    "3": "Warner",
                                    "4": "NULL"
                                },
                                {
                                    "0": "Rocky III",
                                    "1": "1982",
                                    "2": "Don",
                                    "3": "Zimmerman",
                                    "4": "NULL"
                                },
                                {
                                    "0": "Rocky IV",
                                    "1": "1985",
                                    "2": "Sylvester",
                                    "3": "Stallone",
                                    "4": "Rocky Balboa"
                                },
                                {
                                    "0": "Rocky IV",
                                    "1": "1985",
                                    "2": "Talia",
                                    "3": "Shire",
                                    "4": "Adrian"
                                },
                                {
                                    "0": "Rocky IV",
                                    "1": "1985",
                                    "2": "Burt",
                                    "3": "Young",
                                    "4": "Paulie"
                                },
                                {
                                    "0": "Rocky IV",
                                    "1": "1985",
                                    "2": "Carl",
                                    "3": "Weathers",
                                    "4": "Apollo Creed"
                                },
                                {
                                    "0": "Rocky IV",
                                    "1": "1985",
                                    "2": "Robert",
                                    "3": "Chartoff",
                                    "4": "NULL"
                                },
                                {
                                    "0": "Rocky IV",
                                    "1": "1985",
                                    "2": "Irwin",
                                    "3": "Winkler",
                                    "4": "NULL"
                                },
                                {
                                    "0": "Rocky IV",
                                    "1": "1985",
                                    "2": "Vince",
                                    "3": "DiCola",
                                    "4": "NULL"
                                },
                                {
                                    "0": "Rocky IV",
                                    "1": "1985",
                                    "2": "Bill",
                                    "3": "Butler",
                                    "4": "NULL"
                                },
                                {
                                    "0": "Rocky IV",
                                    "1": "1985",
                                    "2": "John",
                                    "3": "Wheeler",
                                    "4": "NULL"
                                },
                                {
                                    "0": "Rocky IV",
                                    "1": "1985",
                                    "2": "Don",
                                    "3": "Zimmerman",
                                    "4": "NULL"
                                },
                                {
                                    "0": "Rocky V",
                                    "1": "1990",
                                    "2": "Sylvester",
                                    "3": "Stallone",
                                    "4": "Rocky"
                                },
                                {
                                    "0": "Rocky V",
                                    "1": "1990",
                                    "2": "Talia",
                                    "3": "Shire",
                                    "4": "Adrian"
                                },
                                {
                                    "0": "Rocky V",
                                    "1": "1990",
                                    "2": "Burt",
                                    "3": "Young",
                                    "4": "Paulie"
                                },
                                {
                                    "0": "Rocky V",
                                    "1": "1990",
                                    "2": "Sage",
                                    "3": "Stallone",
                                    "4": "Rocky Jr."
                                },
                                {
                                    "0": "Rocky V",
                                    "1": "1990",
                                    "2": "John",
                                    "3": "Avildsen",
                                    "4": "NULL"
                                },
                                {
                                    "0": "Rocky V",
                                    "1": "1990",
                                    "2": "Robert",
                                    "3": "Chartoff",
                                    "4": "NULL"
                                },
                                {
                                    "0": "Rocky V",
                                    "1": "1990",
                                    "2": "Irwin",
                                    "3": "Winkler",
                                    "4": "NULL"
                                },
                                {
                                    "0": "Rocky V",
                                    "1": "1990",
                                    "2": "Bill",
                                    "3": "Conti",
                                    "4": "NULL"
                                },
                                {
                                    "0": "Rocky V",
                                    "1": "1990",
                                    "2": "Steven",
                                    "3": "Poster",
                                    "4": "NULL"
                                },
                                {
                                    "0": "Rocky V",
                                    "1": "1990",
                                    "2": "Robert",
                                    "3": "Ferretti",
                                    "4": "NULL"
                                },
                                {
                                    "0": "Rocky Balboa",
                                    "1": "2006",
                                    "2": "Sylvester",
                                    "3": "Stallone",
                                    "4": "Rocky Balboa"
                                },
                                {
                                    "0": "Rocky Balboa",
                                    "1": "2006",
                                    "2": "Antonio",
                                    "3": "Tarver",
                                    "4": "Mason 'The Line' Dixon"
                                },
                                {
                                    "0": "Rocky Balboa",
                                    "1": "2006",
                                    "2": "Milo",
                                    "3": "Ventimiglia",
                                    "4": "Robert Balboa Jr."
                                },
                                {
                                    "0": "Rocky Balboa",
                                    "1": "2006",
                                    "2": "Burt",
                                    "3": "Young",
                                    "4": "Paulie"
                                },
                                {
                                    "0": "Rocky Balboa",
                                    "1": "2006",
                                    "2": "William",
                                    "3": "Chartoff",
                                    "4": "NULL"
                                },
                                {
                                    "0": "Rocky Balboa",
                                    "1": "2006",
                                    "2": "Kevin",
                                    "3": "King Templeton",
                                    "4": "NULL"
                                },
                                {
                                    "0": "Rocky Balboa",
                                    "1": "2006",
                                    "2": "Charles",
                                    "3": "Winkler",
                                    "4": "NULL"
                                },
                                {
                                    "0": "Rocky Balboa",
                                    "1": "2006",
                                    "2": "David",
                                    "3": "Winkler",
                                    "4": "NULL"
                                },
                                {
                                    "0": "Rocky Balboa",
                                    "1": "2006",
                                    "2": "Bill",
                                    "3": "Conti",
                                    "4": "NULL"
                                },
                                {
                                    "0": "Rocky Balboa",
                                    "1": "2006",
                                    "2": "Clark",
                                    "3": "Mathis",
                                    "4": "NULL"
                                }
                            ]
                        },
                        "text/html": "<table><tr><th>Title</th><th>YearReleased</th><th>FirstName</th><th>LastName</th><th>Role</th></tr><tr><td>Rocky</td><td>1976</td><td>Sylvester</td><td>Stallone</td><td>Rocky</td></tr><tr><td>Rocky</td><td>1976</td><td>Talia</td><td>Shire</td><td>Adrian</td></tr><tr><td>Rocky</td><td>1976</td><td>Burt</td><td>Young</td><td>Paulie</td></tr><tr><td>Rocky</td><td>1976</td><td>Carl</td><td>Weathers</td><td>Apollo</td></tr><tr><td>Rocky</td><td>1976</td><td>John</td><td>Avildsen</td><td>NULL</td></tr><tr><td>Rocky</td><td>1976</td><td>Robert</td><td>Chartoff</td><td>NULL</td></tr><tr><td>Rocky</td><td>1976</td><td>Irwin</td><td>Winkler</td><td>NULL</td></tr><tr><td>Rocky</td><td>1976</td><td>Bill</td><td>Conti</td><td>NULL</td></tr><tr><td>Rocky</td><td>1976</td><td>James</td><td>Crabe</td><td>NULL</td></tr><tr><td>Rocky</td><td>1976</td><td>Scott</td><td>Conrad</td><td>NULL</td></tr><tr><td>Rocky II</td><td>1979</td><td>Sylvester</td><td>Stallone</td><td>Rocky Balboa</td></tr><tr><td>Rocky II</td><td>1979</td><td>Talia</td><td>Shire</td><td>Adrian</td></tr><tr><td>Rocky II</td><td>1979</td><td>Burt</td><td>Young</td><td>Paulie</td></tr><tr><td>Rocky II</td><td>1979</td><td>Carl</td><td>Weathers</td><td>Apollo Creed</td></tr><tr><td>Rocky II</td><td>1979</td><td>Robert</td><td>Chartoff</td><td>NULL</td></tr><tr><td>Rocky II</td><td>1979</td><td>Irwin</td><td>Winkler</td><td>NULL</td></tr><tr><td>Rocky II</td><td>1979</td><td>Bill</td><td>Conti</td><td>NULL</td></tr><tr><td>Rocky II</td><td>1979</td><td>Bill</td><td>Butler</td><td>NULL</td></tr><tr><td>Rocky II</td><td>1979</td><td>Stanford</td><td>Allen</td><td>NULL</td></tr><tr><td>Rocky III</td><td>1982</td><td>Sylvester</td><td>Stallone</td><td>Rocky Balboa</td></tr><tr><td>Rocky III</td><td>1982</td><td>Talia</td><td>Shire</td><td>Adrian</td></tr><tr><td>Rocky III</td><td>1982</td><td>Burt</td><td>Young</td><td>Paulie</td></tr><tr><td>Rocky III</td><td>1982</td><td>Carl</td><td>Weathers</td><td>Apollo Creed</td></tr><tr><td>Rocky III</td><td>1982</td><td>Robert</td><td>Chartoff</td><td>NULL</td></tr><tr><td>Rocky III</td><td>1982</td><td>Irwin</td><td>Winkler</td><td>NULL</td></tr><tr><td>Rocky III</td><td>1982</td><td>Bill</td><td>Conti</td><td>NULL</td></tr><tr><td>Rocky III</td><td>1982</td><td>Bill</td><td>Butler</td><td>NULL</td></tr><tr><td>Rocky III</td><td>1982</td><td>Mark</td><td>Warner</td><td>NULL</td></tr><tr><td>Rocky III</td><td>1982</td><td>Don</td><td>Zimmerman</td><td>NULL</td></tr><tr><td>Rocky IV</td><td>1985</td><td>Sylvester</td><td>Stallone</td><td>Rocky Balboa</td></tr><tr><td>Rocky IV</td><td>1985</td><td>Talia</td><td>Shire</td><td>Adrian</td></tr><tr><td>Rocky IV</td><td>1985</td><td>Burt</td><td>Young</td><td>Paulie</td></tr><tr><td>Rocky IV</td><td>1985</td><td>Carl</td><td>Weathers</td><td>Apollo Creed</td></tr><tr><td>Rocky IV</td><td>1985</td><td>Robert</td><td>Chartoff</td><td>NULL</td></tr><tr><td>Rocky IV</td><td>1985</td><td>Irwin</td><td>Winkler</td><td>NULL</td></tr><tr><td>Rocky IV</td><td>1985</td><td>Vince</td><td>DiCola</td><td>NULL</td></tr><tr><td>Rocky IV</td><td>1985</td><td>Bill</td><td>Butler</td><td>NULL</td></tr><tr><td>Rocky IV</td><td>1985</td><td>John</td><td>Wheeler</td><td>NULL</td></tr><tr><td>Rocky IV</td><td>1985</td><td>Don</td><td>Zimmerman</td><td>NULL</td></tr><tr><td>Rocky V</td><td>1990</td><td>Sylvester</td><td>Stallone</td><td>Rocky</td></tr><tr><td>Rocky V</td><td>1990</td><td>Talia</td><td>Shire</td><td>Adrian</td></tr><tr><td>Rocky V</td><td>1990</td><td>Burt</td><td>Young</td><td>Paulie</td></tr><tr><td>Rocky V</td><td>1990</td><td>Sage</td><td>Stallone</td><td>Rocky Jr.</td></tr><tr><td>Rocky V</td><td>1990</td><td>John</td><td>Avildsen</td><td>NULL</td></tr><tr><td>Rocky V</td><td>1990</td><td>Robert</td><td>Chartoff</td><td>NULL</td></tr><tr><td>Rocky V</td><td>1990</td><td>Irwin</td><td>Winkler</td><td>NULL</td></tr><tr><td>Rocky V</td><td>1990</td><td>Bill</td><td>Conti</td><td>NULL</td></tr><tr><td>Rocky V</td><td>1990</td><td>Steven</td><td>Poster</td><td>NULL</td></tr><tr><td>Rocky V</td><td>1990</td><td>Robert</td><td>Ferretti</td><td>NULL</td></tr><tr><td>Rocky Balboa</td><td>2006</td><td>Sylvester</td><td>Stallone</td><td>Rocky Balboa</td></tr><tr><td>Rocky Balboa</td><td>2006</td><td>Antonio</td><td>Tarver</td><td>Mason 'The Line' Dixon</td></tr><tr><td>Rocky Balboa</td><td>2006</td><td>Milo</td><td>Ventimiglia</td><td>Robert Balboa Jr.</td></tr><tr><td>Rocky Balboa</td><td>2006</td><td>Burt</td><td>Young</td><td>Paulie</td></tr><tr><td>Rocky Balboa</td><td>2006</td><td>William</td><td>Chartoff</td><td>NULL</td></tr><tr><td>Rocky Balboa</td><td>2006</td><td>Kevin</td><td>King Templeton</td><td>NULL</td></tr><tr><td>Rocky Balboa</td><td>2006</td><td>Charles</td><td>Winkler</td><td>NULL</td></tr><tr><td>Rocky Balboa</td><td>2006</td><td>David</td><td>Winkler</td><td>NULL</td></tr><tr><td>Rocky Balboa</td><td>2006</td><td>Bill</td><td>Conti</td><td>NULL</td></tr><tr><td>Rocky Balboa</td><td>2006</td><td>Clark</td><td>Mathis</td><td>NULL</td></tr></table>"
                    },
                    "metadata": {}
                }
            ],
            "execution_count": 5
        },
        {
            "cell_type": "markdown",
            "source": [
                "Now we need to eliminate Sly from the results.  We'll do it by writing 3 CTEs:\n",
                "\n",
                "- the first will be called **Sly** and will contain just the `PersonID` attribute for _Sylvester Stallone_\n",
                "- the second will be our `RockyMovies` CTE which uses `Sly` to find the Rocky movies\n",
                "- the 3rd will be all the people who appeared in a Rocky movie\n",
                "\n",
                "We will then find all the people aren't Sylvester Stallone  from the 3<sup>rd</sup> CTE.\n",
                "\n",
                "Again, here's the CTE syntax.\n",
                "\n",
                "```\n",
                "[ WITH <common_table_expression> [ ,...n ] ]\n",
                "\n",
                "<common_table_expression>::=\n",
                "    expression_name [ ( column_name [ ,...n ] ) ]\n",
                "    AS\n",
                "    ( CTE_query_definition )\n",
                "\n",
                "```"
            ],
            "metadata": {
                "language": "sql",
                "azdata_cell_guid": "8db5924e-0298-49b4-a90c-1e896d8f58cb"
            },
            "attachments": {}
        },
        {
            "cell_type": "code",
            "source": [
                "with Sly (SlyID) as \r\n",
                "(\r\n",
                "    select PersonID\r\n",
                "    from imdb.People\r\n",
                "    where FirstName = 'Sylvester'\r\n",
                "      and Lastname = 'Stallone'\r\n",
                "),\r\n",
                "RockyMovies AS\r\n",
                "(\r\n",
                "SELECT Movies.TitleID, Title, YearReleased\r\n",
                "from imdb.Principals\r\n",
                "join Sly\r\n",
                "  on SlyID = PersonID\r\n",
                "join imdb.Movies\r\n",
                "  on Movies.TitleID = Principals.TitleID\r\n",
                "where Title like 'Rocky%'\r\n",
                "),\r\n",
                "PeopleInRockyMovies AS\r\n",
                "(\r\n",
                "select People.PersonID, Title, YearReleased, FirstName, LastName, \"Role\", CreditNumber\r\n",
                "from imdb.People\r\n",
                "join imdb.Principals\r\n",
                "  on People.PersonID = Principals.PersonID\r\n",
                "join RockyMovies\r\n",
                "  on RockyMovies.TitleID = Principals.TitleID\r\n",
                ")\r\n",
                "select *\r\n",
                "from PeopleInRockyMovies, Sly\r\n",
                "where PeopleInRockyMovies.PersonID != SlyID\r\n",
                "Order by YearReleased, CreditNumber"
            ],
            "metadata": {
                "azdata_cell_guid": "dcae4612-d19a-45b0-8c56-a00934d7024a",
                "tags": []
            },
            "outputs": [
                {
                    "output_type": "display_data",
                    "data": {
                        "text/html": "(53 rows affected)"
                    },
                    "metadata": {}
                },
                {
                    "output_type": "display_data",
                    "data": {
                        "text/html": "Total execution time: 00:00:00.023"
                    },
                    "metadata": {}
                },
                {
                    "output_type": "execute_result",
                    "execution_count": 8,
                    "data": {
                        "application/vnd.dataresource+json": {
                            "schema": {
                                "fields": [
                                    {
                                        "name": "PersonID"
                                    },
                                    {
                                        "name": "Title"
                                    },
                                    {
                                        "name": "YearReleased"
                                    },
                                    {
                                        "name": "FirstName"
                                    },
                                    {
                                        "name": "LastName"
                                    },
                                    {
                                        "name": "Role"
                                    },
                                    {
                                        "name": "CreditNumber"
                                    },
                                    {
                                        "name": "SlyID"
                                    }
                                ]
                            },
                            "data": [
                                {
                                    "0": "nm0001735 ",
                                    "1": "Rocky",
                                    "2": "1976",
                                    "3": "Talia",
                                    "4": "Shire",
                                    "5": "Adrian",
                                    "6": "2",
                                    "7": "nm0000230 "
                                },
                                {
                                    "0": "nm0949350 ",
                                    "1": "Rocky",
                                    "2": "1976",
                                    "3": "Burt",
                                    "4": "Young",
                                    "5": "Paulie",
                                    "6": "3",
                                    "7": "nm0000230 "
                                },
                                {
                                    "0": "nm0001835 ",
                                    "1": "Rocky",
                                    "2": "1976",
                                    "3": "Carl",
                                    "4": "Weathers",
                                    "5": "Apollo",
                                    "6": "4",
                                    "7": "nm0000230 "
                                },
                                {
                                    "0": "nm0000814 ",
                                    "1": "Rocky",
                                    "2": "1976",
                                    "3": "John",
                                    "4": "Avildsen",
                                    "5": "NULL",
                                    "6": "5",
                                    "7": "nm0000230 "
                                },
                                {
                                    "0": "nm0153590 ",
                                    "1": "Rocky",
                                    "2": "1976",
                                    "3": "Robert",
                                    "4": "Chartoff",
                                    "5": "NULL",
                                    "6": "6",
                                    "7": "nm0000230 "
                                },
                                {
                                    "0": "nm0005563 ",
                                    "1": "Rocky",
                                    "2": "1976",
                                    "3": "Irwin",
                                    "4": "Winkler",
                                    "5": "NULL",
                                    "6": "7",
                                    "7": "nm0000230 "
                                },
                                {
                                    "0": "nm0006015 ",
                                    "1": "Rocky",
                                    "2": "1976",
                                    "3": "Bill",
                                    "4": "Conti",
                                    "5": "NULL",
                                    "6": "8",
                                    "7": "nm0000230 "
                                },
                                {
                                    "0": "nm0185583 ",
                                    "1": "Rocky",
                                    "2": "1976",
                                    "3": "James",
                                    "4": "Crabe",
                                    "5": "NULL",
                                    "6": "9",
                                    "7": "nm0000230 "
                                },
                                {
                                    "0": "nm0175722 ",
                                    "1": "Rocky",
                                    "2": "1976",
                                    "3": "Scott",
                                    "4": "Conrad",
                                    "5": "NULL",
                                    "6": "10",
                                    "7": "nm0000230 "
                                },
                                {
                                    "0": "nm0001735 ",
                                    "1": "Rocky II",
                                    "2": "1979",
                                    "3": "Talia",
                                    "4": "Shire",
                                    "5": "Adrian",
                                    "6": "2",
                                    "7": "nm0000230 "
                                },
                                {
                                    "0": "nm0949350 ",
                                    "1": "Rocky II",
                                    "2": "1979",
                                    "3": "Burt",
                                    "4": "Young",
                                    "5": "Paulie",
                                    "6": "3",
                                    "7": "nm0000230 "
                                },
                                {
                                    "0": "nm0001835 ",
                                    "1": "Rocky II",
                                    "2": "1979",
                                    "3": "Carl",
                                    "4": "Weathers",
                                    "5": "Apollo Creed",
                                    "6": "4",
                                    "7": "nm0000230 "
                                },
                                {
                                    "0": "nm0153590 ",
                                    "1": "Rocky II",
                                    "2": "1979",
                                    "3": "Robert",
                                    "4": "Chartoff",
                                    "5": "NULL",
                                    "6": "5",
                                    "7": "nm0000230 "
                                },
                                {
                                    "0": "nm0005563 ",
                                    "1": "Rocky II",
                                    "2": "1979",
                                    "3": "Irwin",
                                    "4": "Winkler",
                                    "5": "NULL",
                                    "6": "6",
                                    "7": "nm0000230 "
                                },
                                {
                                    "0": "nm0006015 ",
                                    "1": "Rocky II",
                                    "2": "1979",
                                    "3": "Bill",
                                    "4": "Conti",
                                    "5": "NULL",
                                    "6": "7",
                                    "7": "nm0000230 "
                                },
                                {
                                    "0": "nm0124832 ",
                                    "1": "Rocky II",
                                    "2": "1979",
                                    "3": "Bill",
                                    "4": "Butler",
                                    "5": "NULL",
                                    "6": "8",
                                    "7": "nm0000230 "
                                },
                                {
                                    "0": "nm0021065 ",
                                    "1": "Rocky II",
                                    "2": "1979",
                                    "3": "Stanford",
                                    "4": "Allen",
                                    "5": "NULL",
                                    "6": "9",
                                    "7": "nm0000230 "
                                },
                                {
                                    "0": "nm0001735 ",
                                    "1": "Rocky III",
                                    "2": "1982",
                                    "3": "Talia",
                                    "4": "Shire",
                                    "5": "Adrian",
                                    "6": "2",
                                    "7": "nm0000230 "
                                },
                                {
                                    "0": "nm0949350 ",
                                    "1": "Rocky III",
                                    "2": "1982",
                                    "3": "Burt",
                                    "4": "Young",
                                    "5": "Paulie",
                                    "6": "3",
                                    "7": "nm0000230 "
                                },
                                {
                                    "0": "nm0001835 ",
                                    "1": "Rocky III",
                                    "2": "1982",
                                    "3": "Carl",
                                    "4": "Weathers",
                                    "5": "Apollo Creed",
                                    "6": "4",
                                    "7": "nm0000230 "
                                },
                                {
                                    "0": "nm0153590 ",
                                    "1": "Rocky III",
                                    "2": "1982",
                                    "3": "Robert",
                                    "4": "Chartoff",
                                    "5": "NULL",
                                    "6": "5",
                                    "7": "nm0000230 "
                                },
                                {
                                    "0": "nm0005563 ",
                                    "1": "Rocky III",
                                    "2": "1982",
                                    "3": "Irwin",
                                    "4": "Winkler",
                                    "5": "NULL",
                                    "6": "6",
                                    "7": "nm0000230 "
                                },
                                {
                                    "0": "nm0006015 ",
                                    "1": "Rocky III",
                                    "2": "1982",
                                    "3": "Bill",
                                    "4": "Conti",
                                    "5": "NULL",
                                    "6": "7",
                                    "7": "nm0000230 "
                                },
                                {
                                    "0": "nm0124832 ",
                                    "1": "Rocky III",
                                    "2": "1982",
                                    "3": "Bill",
                                    "4": "Butler",
                                    "5": "NULL",
                                    "6": "8",
                                    "7": "nm0000230 "
                                },
                                {
                                    "0": "nm0912536 ",
                                    "1": "Rocky III",
                                    "2": "1982",
                                    "3": "Mark",
                                    "4": "Warner",
                                    "5": "NULL",
                                    "6": "9",
                                    "7": "nm0000230 "
                                },
                                {
                                    "0": "nm0956699 ",
                                    "1": "Rocky III",
                                    "2": "1982",
                                    "3": "Don",
                                    "4": "Zimmerman",
                                    "5": "NULL",
                                    "6": "10",
                                    "7": "nm0000230 "
                                },
                                {
                                    "0": "nm0001735 ",
                                    "1": "Rocky IV",
                                    "2": "1985",
                                    "3": "Talia",
                                    "4": "Shire",
                                    "5": "Adrian",
                                    "6": "2",
                                    "7": "nm0000230 "
                                },
                                {
                                    "0": "nm0949350 ",
                                    "1": "Rocky IV",
                                    "2": "1985",
                                    "3": "Burt",
                                    "4": "Young",
                                    "5": "Paulie",
                                    "6": "3",
                                    "7": "nm0000230 "
                                },
                                {
                                    "0": "nm0001835 ",
                                    "1": "Rocky IV",
                                    "2": "1985",
                                    "3": "Carl",
                                    "4": "Weathers",
                                    "5": "Apollo Creed",
                                    "6": "4",
                                    "7": "nm0000230 "
                                },
                                {
                                    "0": "nm0153590 ",
                                    "1": "Rocky IV",
                                    "2": "1985",
                                    "3": "Robert",
                                    "4": "Chartoff",
                                    "5": "NULL",
                                    "6": "5",
                                    "7": "nm0000230 "
                                },
                                {
                                    "0": "nm0005563 ",
                                    "1": "Rocky IV",
                                    "2": "1985",
                                    "3": "Irwin",
                                    "4": "Winkler",
                                    "5": "NULL",
                                    "6": "6",
                                    "7": "nm0000230 "
                                },
                                {
                                    "0": "nm0225746 ",
                                    "1": "Rocky IV",
                                    "2": "1985",
                                    "3": "Vince",
                                    "4": "DiCola",
                                    "5": "NULL",
                                    "6": "7",
                                    "7": "nm0000230 "
                                },
                                {
                                    "0": "nm0124832 ",
                                    "1": "Rocky IV",
                                    "2": "1985",
                                    "3": "Bill",
                                    "4": "Butler",
                                    "5": "NULL",
                                    "6": "8",
                                    "7": "nm0000230 "
                                },
                                {
                                    "0": "nm0923847 ",
                                    "1": "Rocky IV",
                                    "2": "1985",
                                    "3": "John",
                                    "4": "Wheeler",
                                    "5": "NULL",
                                    "6": "9",
                                    "7": "nm0000230 "
                                },
                                {
                                    "0": "nm0956699 ",
                                    "1": "Rocky IV",
                                    "2": "1985",
                                    "3": "Don",
                                    "4": "Zimmerman",
                                    "5": "NULL",
                                    "6": "10",
                                    "7": "nm0000230 "
                                },
                                {
                                    "0": "nm0001735 ",
                                    "1": "Rocky V",
                                    "2": "1990",
                                    "3": "Talia",
                                    "4": "Shire",
                                    "5": "Adrian",
                                    "6": "2",
                                    "7": "nm0000230 "
                                },
                                {
                                    "0": "nm0949350 ",
                                    "1": "Rocky V",
                                    "2": "1990",
                                    "3": "Burt",
                                    "4": "Young",
                                    "5": "Paulie",
                                    "6": "3",
                                    "7": "nm0000230 "
                                },
                                {
                                    "0": "nm0821739 ",
                                    "1": "Rocky V",
                                    "2": "1990",
                                    "3": "Sage",
                                    "4": "Stallone",
                                    "5": "Rocky Jr.",
                                    "6": "4",
                                    "7": "nm0000230 "
                                },
                                {
                                    "0": "nm0000814 ",
                                    "1": "Rocky V",
                                    "2": "1990",
                                    "3": "John",
                                    "4": "Avildsen",
                                    "5": "NULL",
                                    "6": "5",
                                    "7": "nm0000230 "
                                },
                                {
                                    "0": "nm0153590 ",
                                    "1": "Rocky V",
                                    "2": "1990",
                                    "3": "Robert",
                                    "4": "Chartoff",
                                    "5": "NULL",
                                    "6": "6",
                                    "7": "nm0000230 "
                                },
                                {
                                    "0": "nm0005563 ",
                                    "1": "Rocky V",
                                    "2": "1990",
                                    "3": "Irwin",
                                    "4": "Winkler",
                                    "5": "NULL",
                                    "6": "7",
                                    "7": "nm0000230 "
                                },
                                {
                                    "0": "nm0006015 ",
                                    "1": "Rocky V",
                                    "2": "1990",
                                    "3": "Bill",
                                    "4": "Conti",
                                    "5": "NULL",
                                    "6": "8",
                                    "7": "nm0000230 "
                                },
                                {
                                    "0": "nm0692925 ",
                                    "1": "Rocky V",
                                    "2": "1990",
                                    "3": "Steven",
                                    "4": "Poster",
                                    "5": "NULL",
                                    "6": "9",
                                    "7": "nm0000230 "
                                },
                                {
                                    "0": "nm0274729 ",
                                    "1": "Rocky V",
                                    "2": "1990",
                                    "3": "Robert",
                                    "4": "Ferretti",
                                    "5": "NULL",
                                    "6": "10",
                                    "7": "nm0000230 "
                                },
                                {
                                    "0": "nm1620989 ",
                                    "1": "Rocky Balboa",
                                    "2": "2006",
                                    "3": "Antonio",
                                    "4": "Tarver",
                                    "5": "Mason 'The Line' Dixon",
                                    "6": "2",
                                    "7": "nm0000230 "
                                },
                                {
                                    "0": "nm0893257 ",
                                    "1": "Rocky Balboa",
                                    "2": "2006",
                                    "3": "Milo",
                                    "4": "Ventimiglia",
                                    "5": "Robert Balboa Jr.",
                                    "6": "3",
                                    "7": "nm0000230 "
                                },
                                {
                                    "0": "nm0949350 ",
                                    "1": "Rocky Balboa",
                                    "2": "2006",
                                    "3": "Burt",
                                    "4": "Young",
                                    "5": "Paulie",
                                    "6": "4",
                                    "7": "nm0000230 "
                                },
                                {
                                    "0": "nm0153587 ",
                                    "1": "Rocky Balboa",
                                    "2": "2006",
                                    "3": "William",
                                    "4": "Chartoff",
                                    "5": "NULL",
                                    "6": "5",
                                    "7": "nm0000230 "
                                },
                                {
                                    "0": "nm0854772 ",
                                    "1": "Rocky Balboa",
                                    "2": "2006",
                                    "3": "Kevin",
                                    "4": "King Templeton",
                                    "5": "NULL",
                                    "6": "6",
                                    "7": "nm0000230 "
                                },
                                {
                                    "0": "nm0935203 ",
                                    "1": "Rocky Balboa",
                                    "2": "2006",
                                    "3": "Charles",
                                    "4": "Winkler",
                                    "5": "NULL",
                                    "6": "7",
                                    "7": "nm0000230 "
                                },
                                {
                                    "0": "nm0935210 ",
                                    "1": "Rocky Balboa",
                                    "2": "2006",
                                    "3": "David",
                                    "4": "Winkler",
                                    "5": "NULL",
                                    "6": "8",
                                    "7": "nm0000230 "
                                },
                                {
                                    "0": "nm0006015 ",
                                    "1": "Rocky Balboa",
                                    "2": "2006",
                                    "3": "Bill",
                                    "4": "Conti",
                                    "5": "NULL",
                                    "6": "9",
                                    "7": "nm0000230 "
                                },
                                {
                                    "0": "nm0558917 ",
                                    "1": "Rocky Balboa",
                                    "2": "2006",
                                    "3": "Clark",
                                    "4": "Mathis",
                                    "5": "NULL",
                                    "6": "10",
                                    "7": "nm0000230 "
                                }
                            ]
                        },
                        "text/html": "<table><tr><th>PersonID</th><th>Title</th><th>YearReleased</th><th>FirstName</th><th>LastName</th><th>Role</th><th>CreditNumber</th><th>SlyID</th></tr><tr><td>nm0001735 </td><td>Rocky</td><td>1976</td><td>Talia</td><td>Shire</td><td>Adrian</td><td>2</td><td>nm0000230 </td></tr><tr><td>nm0949350 </td><td>Rocky</td><td>1976</td><td>Burt</td><td>Young</td><td>Paulie</td><td>3</td><td>nm0000230 </td></tr><tr><td>nm0001835 </td><td>Rocky</td><td>1976</td><td>Carl</td><td>Weathers</td><td>Apollo</td><td>4</td><td>nm0000230 </td></tr><tr><td>nm0000814 </td><td>Rocky</td><td>1976</td><td>John</td><td>Avildsen</td><td>NULL</td><td>5</td><td>nm0000230 </td></tr><tr><td>nm0153590 </td><td>Rocky</td><td>1976</td><td>Robert</td><td>Chartoff</td><td>NULL</td><td>6</td><td>nm0000230 </td></tr><tr><td>nm0005563 </td><td>Rocky</td><td>1976</td><td>Irwin</td><td>Winkler</td><td>NULL</td><td>7</td><td>nm0000230 </td></tr><tr><td>nm0006015 </td><td>Rocky</td><td>1976</td><td>Bill</td><td>Conti</td><td>NULL</td><td>8</td><td>nm0000230 </td></tr><tr><td>nm0185583 </td><td>Rocky</td><td>1976</td><td>James</td><td>Crabe</td><td>NULL</td><td>9</td><td>nm0000230 </td></tr><tr><td>nm0175722 </td><td>Rocky</td><td>1976</td><td>Scott</td><td>Conrad</td><td>NULL</td><td>10</td><td>nm0000230 </td></tr><tr><td>nm0001735 </td><td>Rocky II</td><td>1979</td><td>Talia</td><td>Shire</td><td>Adrian</td><td>2</td><td>nm0000230 </td></tr><tr><td>nm0949350 </td><td>Rocky II</td><td>1979</td><td>Burt</td><td>Young</td><td>Paulie</td><td>3</td><td>nm0000230 </td></tr><tr><td>nm0001835 </td><td>Rocky II</td><td>1979</td><td>Carl</td><td>Weathers</td><td>Apollo Creed</td><td>4</td><td>nm0000230 </td></tr><tr><td>nm0153590 </td><td>Rocky II</td><td>1979</td><td>Robert</td><td>Chartoff</td><td>NULL</td><td>5</td><td>nm0000230 </td></tr><tr><td>nm0005563 </td><td>Rocky II</td><td>1979</td><td>Irwin</td><td>Winkler</td><td>NULL</td><td>6</td><td>nm0000230 </td></tr><tr><td>nm0006015 </td><td>Rocky II</td><td>1979</td><td>Bill</td><td>Conti</td><td>NULL</td><td>7</td><td>nm0000230 </td></tr><tr><td>nm0124832 </td><td>Rocky II</td><td>1979</td><td>Bill</td><td>Butler</td><td>NULL</td><td>8</td><td>nm0000230 </td></tr><tr><td>nm0021065 </td><td>Rocky II</td><td>1979</td><td>Stanford</td><td>Allen</td><td>NULL</td><td>9</td><td>nm0000230 </td></tr><tr><td>nm0001735 </td><td>Rocky III</td><td>1982</td><td>Talia</td><td>Shire</td><td>Adrian</td><td>2</td><td>nm0000230 </td></tr><tr><td>nm0949350 </td><td>Rocky III</td><td>1982</td><td>Burt</td><td>Young</td><td>Paulie</td><td>3</td><td>nm0000230 </td></tr><tr><td>nm0001835 </td><td>Rocky III</td><td>1982</td><td>Carl</td><td>Weathers</td><td>Apollo Creed</td><td>4</td><td>nm0000230 </td></tr><tr><td>nm0153590 </td><td>Rocky III</td><td>1982</td><td>Robert</td><td>Chartoff</td><td>NULL</td><td>5</td><td>nm0000230 </td></tr><tr><td>nm0005563 </td><td>Rocky III</td><td>1982</td><td>Irwin</td><td>Winkler</td><td>NULL</td><td>6</td><td>nm0000230 </td></tr><tr><td>nm0006015 </td><td>Rocky III</td><td>1982</td><td>Bill</td><td>Conti</td><td>NULL</td><td>7</td><td>nm0000230 </td></tr><tr><td>nm0124832 </td><td>Rocky III</td><td>1982</td><td>Bill</td><td>Butler</td><td>NULL</td><td>8</td><td>nm0000230 </td></tr><tr><td>nm0912536 </td><td>Rocky III</td><td>1982</td><td>Mark</td><td>Warner</td><td>NULL</td><td>9</td><td>nm0000230 </td></tr><tr><td>nm0956699 </td><td>Rocky III</td><td>1982</td><td>Don</td><td>Zimmerman</td><td>NULL</td><td>10</td><td>nm0000230 </td></tr><tr><td>nm0001735 </td><td>Rocky IV</td><td>1985</td><td>Talia</td><td>Shire</td><td>Adrian</td><td>2</td><td>nm0000230 </td></tr><tr><td>nm0949350 </td><td>Rocky IV</td><td>1985</td><td>Burt</td><td>Young</td><td>Paulie</td><td>3</td><td>nm0000230 </td></tr><tr><td>nm0001835 </td><td>Rocky IV</td><td>1985</td><td>Carl</td><td>Weathers</td><td>Apollo Creed</td><td>4</td><td>nm0000230 </td></tr><tr><td>nm0153590 </td><td>Rocky IV</td><td>1985</td><td>Robert</td><td>Chartoff</td><td>NULL</td><td>5</td><td>nm0000230 </td></tr><tr><td>nm0005563 </td><td>Rocky IV</td><td>1985</td><td>Irwin</td><td>Winkler</td><td>NULL</td><td>6</td><td>nm0000230 </td></tr><tr><td>nm0225746 </td><td>Rocky IV</td><td>1985</td><td>Vince</td><td>DiCola</td><td>NULL</td><td>7</td><td>nm0000230 </td></tr><tr><td>nm0124832 </td><td>Rocky IV</td><td>1985</td><td>Bill</td><td>Butler</td><td>NULL</td><td>8</td><td>nm0000230 </td></tr><tr><td>nm0923847 </td><td>Rocky IV</td><td>1985</td><td>John</td><td>Wheeler</td><td>NULL</td><td>9</td><td>nm0000230 </td></tr><tr><td>nm0956699 </td><td>Rocky IV</td><td>1985</td><td>Don</td><td>Zimmerman</td><td>NULL</td><td>10</td><td>nm0000230 </td></tr><tr><td>nm0001735 </td><td>Rocky V</td><td>1990</td><td>Talia</td><td>Shire</td><td>Adrian</td><td>2</td><td>nm0000230 </td></tr><tr><td>nm0949350 </td><td>Rocky V</td><td>1990</td><td>Burt</td><td>Young</td><td>Paulie</td><td>3</td><td>nm0000230 </td></tr><tr><td>nm0821739 </td><td>Rocky V</td><td>1990</td><td>Sage</td><td>Stallone</td><td>Rocky Jr.</td><td>4</td><td>nm0000230 </td></tr><tr><td>nm0000814 </td><td>Rocky V</td><td>1990</td><td>John</td><td>Avildsen</td><td>NULL</td><td>5</td><td>nm0000230 </td></tr><tr><td>nm0153590 </td><td>Rocky V</td><td>1990</td><td>Robert</td><td>Chartoff</td><td>NULL</td><td>6</td><td>nm0000230 </td></tr><tr><td>nm0005563 </td><td>Rocky V</td><td>1990</td><td>Irwin</td><td>Winkler</td><td>NULL</td><td>7</td><td>nm0000230 </td></tr><tr><td>nm0006015 </td><td>Rocky V</td><td>1990</td><td>Bill</td><td>Conti</td><td>NULL</td><td>8</td><td>nm0000230 </td></tr><tr><td>nm0692925 </td><td>Rocky V</td><td>1990</td><td>Steven</td><td>Poster</td><td>NULL</td><td>9</td><td>nm0000230 </td></tr><tr><td>nm0274729 </td><td>Rocky V</td><td>1990</td><td>Robert</td><td>Ferretti</td><td>NULL</td><td>10</td><td>nm0000230 </td></tr><tr><td>nm1620989 </td><td>Rocky Balboa</td><td>2006</td><td>Antonio</td><td>Tarver</td><td>Mason 'The Line' Dixon</td><td>2</td><td>nm0000230 </td></tr><tr><td>nm0893257 </td><td>Rocky Balboa</td><td>2006</td><td>Milo</td><td>Ventimiglia</td><td>Robert Balboa Jr.</td><td>3</td><td>nm0000230 </td></tr><tr><td>nm0949350 </td><td>Rocky Balboa</td><td>2006</td><td>Burt</td><td>Young</td><td>Paulie</td><td>4</td><td>nm0000230 </td></tr><tr><td>nm0153587 </td><td>Rocky Balboa</td><td>2006</td><td>William</td><td>Chartoff</td><td>NULL</td><td>5</td><td>nm0000230 </td></tr><tr><td>nm0854772 </td><td>Rocky Balboa</td><td>2006</td><td>Kevin</td><td>King Templeton</td><td>NULL</td><td>6</td><td>nm0000230 </td></tr><tr><td>nm0935203 </td><td>Rocky Balboa</td><td>2006</td><td>Charles</td><td>Winkler</td><td>NULL</td><td>7</td><td>nm0000230 </td></tr><tr><td>nm0935210 </td><td>Rocky Balboa</td><td>2006</td><td>David</td><td>Winkler</td><td>NULL</td><td>8</td><td>nm0000230 </td></tr><tr><td>nm0006015 </td><td>Rocky Balboa</td><td>2006</td><td>Bill</td><td>Conti</td><td>NULL</td><td>9</td><td>nm0000230 </td></tr><tr><td>nm0558917 </td><td>Rocky Balboa</td><td>2006</td><td>Clark</td><td>Mathis</td><td>NULL</td><td>10</td><td>nm0000230 </td></tr></table>"
                    },
                    "metadata": {}
                }
            ],
            "execution_count": 8
        }
    ]
}