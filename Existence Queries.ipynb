{
    "metadata": {
        "kernelspec": {
            "name": "SQL",
            "display_name": "SQL",
            "language": "sql"
        },
        "language_info": {
            "name": "sql",
            "version": ""
        }
    },
    "nbformat_minor": 2,
    "nbformat": 4,
    "cells": [
        {
            "cell_type": "markdown",
            "source": [
                "##   \n",
                "\n",
                "## Review\n",
                "\n",
                "Write a query that f<mark><mark><mark>in</mark></mark></mark>ds the `Title`, `YearReleased`, and `PrimaryGenre` for all the movies _Julia Roberts_ has appeared <mark><mark><mark>in</mark></mark></mark>, with the most recent movie displayed first."
            ],
            "metadata": {
                "azdata_cell_guid": "107f7aa0-ff11-4ef8-9217-4a0b8b50cb90"
            },
            "attachments": {}
        },
        {
            "cell_type": "code",
            "source": [
                "SELECT Title, YearReleased, PrimaryGenre\r\n",
                "FROM imdb.People\r\n",
                "join imdb.Principals \r\n",
                "  on People.PersonID = Principals.PersonID\r\n",
                "join imdb.Movies\r\n",
                "  on Movies.TitleID = Principals.TitleID\r\n",
                "WHERE FirstName = 'Julia' and LastName = 'Roberts'\r\n",
                "  and IsActor = 1\r\n",
                "ORDER BY YearReleased desc  "
            ],
            "metadata": {
                "azdata_cell_guid": "6a504166-8c30-4547-b9fa-a936fbd59f7d",
                "language": "sql"
            },
            "outputs": [],
            "execution_count": null
        },
        {
            "cell_type": "markdown",
            "source": [
                "Find all the genres for those movies: most recent first, then in alphabetical order by title, and then by the genre order"
            ],
            "metadata": {
                "language": "sql",
                "azdata_cell_guid": "c56c1144-8e8a-494d-afeb-2b86632ddb99"
            },
            "attachments": {}
        },
        {
            "cell_type": "code",
            "source": [
                "SELECT Title, YearReleased, Genre\r\n",
                "FROM imdb.People\r\n",
                "join imdb.Principals \r\n",
                "  on People.PersonID = Principals.PersonID\r\n",
                "join imdb.Movies\r\n",
                "  on Movies.TitleID = Principals.TitleID\r\n",
                "join imdb.MovieGenres\r\n",
                "  on MovieGenres.TitleID = Movies.TitleID \r\n",
                "WHERE FirstName = 'Julia' and LastName = 'Roberts'\r\n",
                "  and IsActor = 1\r\n",
                "ORDER BY YearReleased desc, Title, GenreOrder"
            ],
            "metadata": {
                "language": "sql",
                "azdata_cell_guid": "d9293c2f-56a4-4bf0-9fd2-5a2b7a91e328"
            },
            "outputs": [],
            "execution_count": null
        },
        {
            "cell_type": "markdown",
            "source": [
                "Now find the **number of movies of each genre** that Julia has been in.  Name the column `Number of Movies` and sort so that the genre with the most movies is shown first."
            ],
            "metadata": {
                "language": "sql",
                "azdata_cell_guid": "2ec8ad86-6ce2-47ff-b709-1a3e60ab0b39"
            },
            "attachments": {}
        },
        {
            "cell_type": "code",
            "source": [
                "SELECT Genre, count(Movies.TitleID) as [Number of movies]\r\n",
                "FROM imdb.People\r\n",
                "join imdb.Principals \r\n",
                "  on People.PersonID = Principals.PersonID\r\n",
                "join imdb.Movies\r\n",
                "  on Movies.TitleID = Principals.TitleID\r\n",
                "join imdb.MovieGenres\r\n",
                "  on MovieGenres.TitleID = Movies.TitleID \r\n",
                "WHERE FirstName = 'Julia' and LastName = 'Roberts'\r\n",
                "  and IsActor = 1\r\n",
                "group by Genre  \r\n",
                "order by [Number of movies] desc"
            ],
            "metadata": {
                "language": "sql",
                "azdata_cell_guid": "fbc7002c-2b65-491a-9620-34df6c480f9b",
                "tags": []
            },
            "outputs": [],
            "execution_count": null
        },
        {
            "cell_type": "markdown",
            "source": [
                "Now restrict it to genres where Julia has appeared in at least **5 movies**"
            ],
            "metadata": {
                "language": "sql",
                "azdata_cell_guid": "c726430f-e8d5-45a7-834a-1a77532c3101"
            },
            "attachments": {}
        },
        {
            "cell_type": "code",
            "source": [
                "SELECT Genre, count(Movies.TitleID) as [Number of movies]\r\n",
                "FROM imdb.People\r\n",
                "join imdb.Principals \r\n",
                "  on People.PersonID = Principals.PersonID\r\n",
                "join imdb.Movies\r\n",
                "  on Movies.TitleID = Principals.TitleID\r\n",
                "join imdb.MovieGenres\r\n",
                "  on MovieGenres.TitleID = Movies.TitleID \r\n",
                "WHERE FirstName = 'Julia' and LastName = 'Roberts'\r\n",
                "  and IsActor = 1\r\n",
                "group by Genre  \r\n",
                "having count(Movies.TitleID) >= 5\r\n",
                "order by [Number of movies] desc"
            ],
            "metadata": {
                "language": "sql",
                "azdata_cell_guid": "c8e1a58c-7d99-4f1e-92f0-5618acb6a9b7"
            },
            "outputs": [],
            "execution_count": null
        },
        {
            "cell_type": "markdown",
            "source": [
                "You **can** use an alias in the `ORDER BY` clause because it's the **last** step that is executed, while the projection (`SELECT`) is the **next to the last step** completed.\r\n",
                "\r\n",
                "You **can't** use an alias in the `HAVING BY` clause because it is executed after the `GROUP BY` clause but before the `SELECT` clause."
            ],
            "metadata": {
                "language": "sql",
                "azdata_cell_guid": "1245d289-9769-43dd-94f2-89546e8c397d"
            },
            "attachments": {}
        },
        {
            "cell_type": "markdown",
            "source": [
                "## Subqueries\r\n",
                "\r\n",
                "Get the `Title`, `YearReleased`, and all `Genres` for movies Julia appeared in which **one of the genres** was _Romance_ using an `EXISTS` query."
            ],
            "metadata": {
                "language": "sql",
                "azdata_cell_guid": "0d6798ce-33ee-4d73-b861-b47c8eac035a"
            },
            "attachments": {}
        },
        {
            "cell_type": "code",
            "source": [
                "SELECT Title, YearReleased, Genre\r\n",
                "FROM imdb.People\r\n",
                "join imdb.Principals \r\n",
                "  on People.PersonID = Principals.PersonID\r\n",
                "join imdb.Movies\r\n",
                "  on Movies.TitleID = Principals.TitleID\r\n",
                "join imdb.MovieGenres\r\n",
                "  on MovieGenres.TitleID = Movies.TitleID \r\n",
                "WHERE FirstName = 'Julia' and LastName = 'Roberts'\r\n",
                "  and IsActor = 1\r\n",
                "  and exists (\r\n",
                "    select *\r\n",
                "    from imdb.MovieGenres Romance\r\n",
                "    where Genre = 'Romance'\r\n",
                "      and Romance.TitleID = Movies.TitleID\r\n",
                "\r\n",
                "  )\r\n",
                "  order by YearReleased desc, Title "
            ],
            "metadata": {
                "language": "sql",
                "azdata_cell_guid": "5470735c-d30f-4322-923d-fb1dfb83e5fc"
            },
            "outputs": [],
            "execution_count": null
        },
        {
            "cell_type": "markdown",
            "source": [
                "You can think of a subquery like this one as being like a nested loop; the subquery runs once per tuple found by the outer query."
            ],
            "metadata": {
                "language": "",
                "azdata_cell_guid": "6dd381eb-58a1-4911-9bfd-bd035fdf0dc9"
            },
            "attachments": {}
        },
        {
            "cell_type": "markdown",
            "source": [
                "Get the same set of results, but use `IN` this time to find the romantic movies Julia was in."
            ],
            "metadata": {
                "azdata_cell_guid": "3706bc6b-d20d-4124-b7e1-772f247efe86"
            },
            "attachments": {}
        },
        {
            "cell_type": "code",
            "source": [
                "SELECT Title, YearReleased, Genre\r\n",
                "FROM imdb.People\r\n",
                "join imdb.Principals \r\n",
                "  on People.PersonID = Principals.PersonID\r\n",
                "join imdb.Movies\r\n",
                "  on Movies.TitleID = Principals.TitleID\r\n",
                "join imdb.MovieGenres\r\n",
                "  on MovieGenres.TitleID = Movies.TitleID \r\n",
                "WHERE FirstName = 'Julia' and LastName = 'Roberts'\r\n",
                "  and IsActor = 1\r\n",
                "  and Movies.TitleID in (\r\n",
                "    select TitleID\r\n",
                "    from imdb.MovieGenres Romance\r\n",
                "    where Genre = 'Romance'\r\n",
                "  )\r\n",
                "  order by YearReleased desc, Title "
            ],
            "metadata": {
                "azdata_cell_guid": "1c0c19a9-509b-459a-ad95-76c05fa1aa6f",
                "language": "sql",
                "tags": []
            },
            "outputs": [],
            "execution_count": null
        },
        {
            "cell_type": "markdown",
            "source": [
                "Use 2 exists clauses to find _romantic comedies_ Julia Roberts appeared in.  A romantic comedy is a movie that has **both** the genres _Romance_ and _Comedy_."
            ],
            "metadata": {
                "language": "sql",
                "azdata_cell_guid": "9f8a3c15-134b-4c6e-a2ec-4c4e802c6d81"
            },
            "attachments": {}
        },
        {
            "cell_type": "code",
            "source": [
                "SELECT Title, YearReleased, Genre\r\n",
                "FROM imdb.People\r\n",
                "join imdb.Principals \r\n",
                "  on People.PersonID = Principals.PersonID\r\n",
                "join imdb.Movies\r\n",
                "  on Movies.TitleID = Principals.TitleID\r\n",
                "join imdb.MovieGenres\r\n",
                "  on MovieGenres.TitleID = Movies.TitleID \r\n",
                "WHERE FirstName = 'Julia' and LastName = 'Roberts'\r\n",
                "  and IsActor = 1\r\n",
                "  and exists (\r\n",
                "    select *\r\n",
                "    from imdb.MovieGenres Romance\r\n",
                "    where Genre = 'Romance'\r\n",
                "      and Romance.TitleID = Movies.TitleID\r\n",
                "  )\r\n",
                "  and exists (\r\n",
                "       select *\r\n",
                "    from imdb.MovieGenres Comedy\r\n",
                "    where Genre = 'Comedy'\r\n",
                "      and Comedy.TitleID = Movies.TitleID \r\n",
                "  )\r\n",
                "  order by YearReleased desc, Title "
            ],
            "metadata": {
                "language": "sql",
                "azdata_cell_guid": "7d2e2054-9dd4-44a1-bbf5-0639858fe20f"
            },
            "outputs": [],
            "execution_count": null
        },
        {
            "cell_type": "markdown",
            "source": [
                "Find romantic comedies Julia appeared in without Richard Gere using `not exists`."
            ],
            "metadata": {
                "language": "sql",
                "azdata_cell_guid": "47073607-ad19-4a58-864f-b3b00636646e"
            },
            "attachments": {}
        },
        {
            "cell_type": "code",
            "source": [
                "SELECT Title, YearReleased, Genre\r\n",
                "FROM imdb.People\r\n",
                "join imdb.Principals \r\n",
                "  on People.PersonID = Principals.PersonID\r\n",
                "join imdb.Movies\r\n",
                "  on Movies.TitleID = Principals.TitleID\r\n",
                "join imdb.MovieGenres\r\n",
                "  on MovieGenres.TitleID = Movies.TitleID \r\n",
                "WHERE FirstName = 'Julia' and LastName = 'Roberts'\r\n",
                "  and IsActor = 1\r\n",
                "  and exists (\r\n",
                "    select *\r\n",
                "    from imdb.MovieGenres Romance\r\n",
                "    where Genre = 'Romance'\r\n",
                "      and Romance.TitleID = Movies.TitleID\r\n",
                "  )\r\n",
                "  and exists (\r\n",
                "       select *\r\n",
                "    from imdb.MovieGenres Comedy\r\n",
                "    where Genre = 'Comedy'\r\n",
                "      and Comedy.TitleID = Movies.TitleID \r\n",
                "  )\r\n",
                "  and not exists (\r\n",
                "    select * \r\n",
                "    from imdb.ActorMovies\r\n",
                "    where LastName = 'Gere' and FirstName = 'Richard'\r\n",
                "      and Movies.TitleID = ActorMovies.TitleID\r\n",
                "  )\r\n",
                "  order by YearReleased desc, Title "
            ],
            "metadata": {
                "language": "sql",
                "azdata_cell_guid": "566745f0-e6a3-40ff-a65b-78b42154964d"
            },
            "outputs": [
                {
                    "output_type": "display_data",
                    "data": {
                        "text/html": "(38 rows affected)"
                    },
                    "metadata": {}
                },
                {
                    "output_type": "display_data",
                    "data": {
                        "text/html": "Total execution time: 00:00:00.059"
                    },
                    "metadata": {}
                },
                {
                    "output_type": "execute_result",
                    "execution_count": 15,
                    "data": {
                        "application/vnd.dataresource+json": {
                            "schema": {
                                "fields": [
                                    {
                                        "name": "Title"
                                    },
                                    {
                                        "name": "YearReleased"
                                    },
                                    {
                                        "name": "Genre"
                                    }
                                ]
                            },
                            "data": [
                                {
                                    "Title": "Ticket to Paradise",
                                    "YearReleased": "2022",
                                    "Genre": "Comedy"
                                },
                                {
                                    "Title": "Ticket to Paradise",
                                    "YearReleased": "2022",
                                    "Genre": "Romance"
                                },
                                {
                                    "Title": "Mother's Day",
                                    "YearReleased": "2016",
                                    "Genre": "Comedy"
                                },
                                {
                                    "Title": "Mother's Day",
                                    "YearReleased": "2016",
                                    "Genre": "Drama"
                                },
                                {
                                    "Title": "Mother's Day",
                                    "YearReleased": "2016",
                                    "Genre": "Romance"
                                },
                                {
                                    "Title": "Larry Crowne",
                                    "YearReleased": "2011",
                                    "Genre": "Comedy"
                                },
                                {
                                    "Title": "Larry Crowne",
                                    "YearReleased": "2011",
                                    "Genre": "Drama"
                                },
                                {
                                    "Title": "Larry Crowne",
                                    "YearReleased": "2011",
                                    "Genre": "Romance"
                                },
                                {
                                    "Title": "Valentine's Day",
                                    "YearReleased": "2010",
                                    "Genre": "Comedy"
                                },
                                {
                                    "Title": "Valentine's Day",
                                    "YearReleased": "2010",
                                    "Genre": "Romance"
                                },
                                {
                                    "Title": "Duplicity",
                                    "YearReleased": "2009",
                                    "Genre": "Comedy"
                                },
                                {
                                    "Title": "Duplicity",
                                    "YearReleased": "2009",
                                    "Genre": "Crime"
                                },
                                {
                                    "Title": "Duplicity",
                                    "YearReleased": "2009",
                                    "Genre": "Romance"
                                },
                                {
                                    "Title": "Full Frontal",
                                    "YearReleased": "2002",
                                    "Genre": "Comedy"
                                },
                                {
                                    "Title": "Full Frontal",
                                    "YearReleased": "2002",
                                    "Genre": "Romance"
                                },
                                {
                                    "Title": "America's Sweethearts",
                                    "YearReleased": "2001",
                                    "Genre": "Comedy"
                                },
                                {
                                    "Title": "America's Sweethearts",
                                    "YearReleased": "2001",
                                    "Genre": "Romance"
                                },
                                {
                                    "Title": "Notting Hill",
                                    "YearReleased": "1999",
                                    "Genre": "Comedy"
                                },
                                {
                                    "Title": "Notting Hill",
                                    "YearReleased": "1999",
                                    "Genre": "Drama"
                                },
                                {
                                    "Title": "Notting Hill",
                                    "YearReleased": "1999",
                                    "Genre": "Romance"
                                },
                                {
                                    "Title": "My Best Friend's Wedding",
                                    "YearReleased": "1997",
                                    "Genre": "Comedy"
                                },
                                {
                                    "Title": "My Best Friend's Wedding",
                                    "YearReleased": "1997",
                                    "Genre": "Drama"
                                },
                                {
                                    "Title": "My Best Friend's Wedding",
                                    "YearReleased": "1997",
                                    "Genre": "Romance"
                                },
                                {
                                    "Title": "Everyone Says I Love You",
                                    "YearReleased": "1996",
                                    "Genre": "Comedy"
                                },
                                {
                                    "Title": "Everyone Says I Love You",
                                    "YearReleased": "1996",
                                    "Genre": "Musical"
                                },
                                {
                                    "Title": "Everyone Says I Love You",
                                    "YearReleased": "1996",
                                    "Genre": "Romance"
                                },
                                {
                                    "Title": "Something to Talk About",
                                    "YearReleased": "1995",
                                    "Genre": "Comedy"
                                },
                                {
                                    "Title": "Something to Talk About",
                                    "YearReleased": "1995",
                                    "Genre": "Drama"
                                },
                                {
                                    "Title": "Something to Talk About",
                                    "YearReleased": "1995",
                                    "Genre": "Romance"
                                },
                                {
                                    "Title": "I Love Trouble",
                                    "YearReleased": "1994",
                                    "Genre": "Action"
                                },
                                {
                                    "Title": "I Love Trouble",
                                    "YearReleased": "1994",
                                    "Genre": "Comedy"
                                },
                                {
                                    "Title": "I Love Trouble",
                                    "YearReleased": "1994",
                                    "Genre": "Romance"
                                },
                                {
                                    "Title": "Steel Magnolias",
                                    "YearReleased": "1989",
                                    "Genre": "Comedy"
                                },
                                {
                                    "Title": "Steel Magnolias",
                                    "YearReleased": "1989",
                                    "Genre": "Drama"
                                },
                                {
                                    "Title": "Steel Magnolias",
                                    "YearReleased": "1989",
                                    "Genre": "Romance"
                                },
                                {
                                    "Title": "Mystic Pizza",
                                    "YearReleased": "1988",
                                    "Genre": "Comedy"
                                },
                                {
                                    "Title": "Mystic Pizza",
                                    "YearReleased": "1988",
                                    "Genre": "Drama"
                                },
                                {
                                    "Title": "Mystic Pizza",
                                    "YearReleased": "1988",
                                    "Genre": "Romance"
                                }
                            ]
                        },
                        "text/html": "<table><tr><th>Title</th><th>YearReleased</th><th>Genre</th></tr><tr><td>Ticket to Paradise</td><td>2022</td><td>Comedy</td></tr><tr><td>Ticket to Paradise</td><td>2022</td><td>Romance</td></tr><tr><td>Mother&#39;s Day</td><td>2016</td><td>Comedy</td></tr><tr><td>Mother&#39;s Day</td><td>2016</td><td>Drama</td></tr><tr><td>Mother&#39;s Day</td><td>2016</td><td>Romance</td></tr><tr><td>Larry Crowne</td><td>2011</td><td>Comedy</td></tr><tr><td>Larry Crowne</td><td>2011</td><td>Drama</td></tr><tr><td>Larry Crowne</td><td>2011</td><td>Romance</td></tr><tr><td>Valentine&#39;s Day</td><td>2010</td><td>Comedy</td></tr><tr><td>Valentine&#39;s Day</td><td>2010</td><td>Romance</td></tr><tr><td>Duplicity</td><td>2009</td><td>Comedy</td></tr><tr><td>Duplicity</td><td>2009</td><td>Crime</td></tr><tr><td>Duplicity</td><td>2009</td><td>Romance</td></tr><tr><td>Full Frontal</td><td>2002</td><td>Comedy</td></tr><tr><td>Full Frontal</td><td>2002</td><td>Romance</td></tr><tr><td>America&#39;s Sweethearts</td><td>2001</td><td>Comedy</td></tr><tr><td>America&#39;s Sweethearts</td><td>2001</td><td>Romance</td></tr><tr><td>Notting Hill</td><td>1999</td><td>Comedy</td></tr><tr><td>Notting Hill</td><td>1999</td><td>Drama</td></tr><tr><td>Notting Hill</td><td>1999</td><td>Romance</td></tr><tr><td>My Best Friend&#39;s Wedding</td><td>1997</td><td>Comedy</td></tr><tr><td>My Best Friend&#39;s Wedding</td><td>1997</td><td>Drama</td></tr><tr><td>My Best Friend&#39;s Wedding</td><td>1997</td><td>Romance</td></tr><tr><td>Everyone Says I Love You</td><td>1996</td><td>Comedy</td></tr><tr><td>Everyone Says I Love You</td><td>1996</td><td>Musical</td></tr><tr><td>Everyone Says I Love You</td><td>1996</td><td>Romance</td></tr><tr><td>Something to Talk About</td><td>1995</td><td>Comedy</td></tr><tr><td>Something to Talk About</td><td>1995</td><td>Drama</td></tr><tr><td>Something to Talk About</td><td>1995</td><td>Romance</td></tr><tr><td>I Love Trouble</td><td>1994</td><td>Action</td></tr><tr><td>I Love Trouble</td><td>1994</td><td>Comedy</td></tr><tr><td>I Love Trouble</td><td>1994</td><td>Romance</td></tr><tr><td>Steel Magnolias</td><td>1989</td><td>Comedy</td></tr><tr><td>Steel Magnolias</td><td>1989</td><td>Drama</td></tr><tr><td>Steel Magnolias</td><td>1989</td><td>Romance</td></tr><tr><td>Mystic Pizza</td><td>1988</td><td>Comedy</td></tr><tr><td>Mystic Pizza</td><td>1988</td><td>Drama</td></tr><tr><td>Mystic Pizza</td><td>1988</td><td>Romance</td></tr></table>"
                    },
                    "metadata": {}
                }
            ],
            "execution_count": 15
        },
        {
            "cell_type": "markdown",
            "source": [
                "Find the `Title` and `RunningTimeInMinutes` for the  **longest** movie made in 2022:\r\n",
                "\r\n",
                "*  **students on my left**: using a `NOT EXISTS` query\r\n",
                "*  **students on my right**: using a subquery along with the `MAX` function\r\n",
                ""
            ],
            "metadata": {
                "language": "sql",
                "azdata_cell_guid": "19bb1d7b-ee96-4b61-9853-f350016f5760"
            },
            "attachments": {}
        },
        {
            "cell_type": "code",
            "source": [
                "--  Using a NOT exists query"
            ],
            "metadata": {
                "language": "sql",
                "azdata_cell_guid": "74403a05-c849-4320-b48f-8e91f1f8e39c"
            },
            "outputs": [],
            "execution_count": null
        },
        {
            "cell_type": "code",
            "source": [
                "--  using a subquery with the MAX function"
            ],
            "metadata": {
                "language": "sql",
                "azdata_cell_guid": "70409b33-2081-4d64-a706-57fa1e6b9570"
            },
            "outputs": [],
            "execution_count": null
        },
        {
            "cell_type": "markdown",
            "source": [
                "Challenge:  Starting with the CTE for Rocky Movies below, find everyone who has been in **every** Rocky movie using only `NOT EXISTS`"
            ],
            "metadata": {
                "language": "sql",
                "azdata_cell_guid": "7d92b67c-6b22-4459-9282-f274a2c6e6cc"
            },
            "attachments": {}
        },
        {
            "cell_type": "code",
            "source": [
                "with RockyMovies as (\r\n",
                "    select TitleID, Title\r\n",
                "    from imdb.ActorMovies\r\n",
                "    where Title like 'Rocky%'\r\n",
                "      and FirstName = 'Sylvester' and LastName = 'Stallone'\r\n",
                ")\r\n",
                "select * \r\n",
                "from  RockyMovies"
            ],
            "metadata": {
                "language": "sql",
                "azdata_cell_guid": "cdfa0ebe-4f92-481c-958a-03c699c38ed8",
                "tags": []
            },
            "outputs": [
                {
                    "output_type": "error",
                    "ename": "",
                    "evalue": "Msg 208, Level 16, State 1, Line 1\r\nInvalid object name 'imdb.ActorMovies'.",
                    "traceback": []
                },
                {
                    "output_type": "display_data",
                    "data": {
                        "text/html": "Total execution time: 00:00:00.025"
                    },
                    "metadata": {}
                }
            ],
            "execution_count": 1
        },
        {
            "cell_type": "code",
            "source": [],
            "metadata": {
                "language": "sql",
                "azdata_cell_guid": "df1e0487-ef0e-4152-9438-77c6343b8587"
            },
            "outputs": [
                {
                    "output_type": "display_data",
                    "data": {
                        "text/html": "(3 rows affected)"
                    },
                    "metadata": {}
                },
                {
                    "output_type": "display_data",
                    "data": {
                        "text/html": "Total execution time: 00:00:00.098"
                    },
                    "metadata": {}
                },
                {
                    "output_type": "execute_result",
                    "execution_count": 2,
                    "data": {
                        "application/vnd.dataresource+json": {
                            "schema": {
                                "fields": [
                                    {
                                        "name": "CustomerID"
                                    },
                                    {
                                        "name": "CustFirstName"
                                    }
                                ]
                            },
                            "data": [
                                {
                                    "CustomerID": "1011",
                                    "CustFirstName": "Alaina"
                                },
                                {
                                    "CustomerID": "1028",
                                    "CustFirstName": "Jeffrey"
                                },
                                {
                                    "CustomerID": "1023",
                                    "CustFirstName": "Julia"
                                }
                            ]
                        },
                        "text/html": "<table><tr><th>CustomerID</th><th>CustFirstName</th></tr><tr><td>1011</td><td>Alaina</td></tr><tr><td>1028</td><td>Jeffrey</td></tr><tr><td>1023</td><td>Julia</td></tr></table>"
                    },
                    "metadata": {}
                }
            ],
            "execution_count": 2
        }
    ]
}