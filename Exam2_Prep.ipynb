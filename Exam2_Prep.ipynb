{
    "metadata": {
        "kernelspec": {
            "name": "SQL",
            "display_name": "SQL",
            "language": "sql"
        },
        "language_info": {
            "name": "sql",
            "version": ""
        }
    },
    "nbformat_minor": 2,
    "nbformat": 4,
    "cells": [
        {
            "cell_type": "markdown",
            "source": [
                "<span style=\"box-sizing: border-box; color: rgb(33, 37, 41); font-family: &quot;Verlag A&quot;, &quot;Verlag B&quot;, Verlag-Book, Helvetica, Arial, sans-serif; font-size: small;\"><b>Q1. </b>Find&nbsp;all&nbsp;students&nbsp;enrolled&nbsp;in&nbsp;a&nbsp;math&nbsp;class&nbsp;who&nbsp;are&nbsp;not&nbsp;math&nbsp;majors,&nbsp;order&nbsp;by&nbsp;Major.&nbsp;</span> \n",
                "\n",
                "<span style=\"box-sizing: border-box; color: rgb(33, 37, 41); font-family: &quot;Verlag A&quot;, &quot;Verlag B&quot;, Verlag-Book, Helvetica, Arial, sans-serif; font-size: small;\">(15&nbsp;rows,&nbsp;starting&nbsp;with&nbsp;Doris&nbsp;in&nbsp;Accounting)</span>"
            ],
            "metadata": {
                "language": "sql",
                "azdata_cell_guid": "7ae07509-6b3b-48c8-93af-cbdb926f7068"
            },
            "attachments": {}
        },
        {
            "cell_type": "code",
            "source": [
                "use [SchoolSchedulingExample]\r\n",
                "select distinct s.StudentID, s.StudFirstName, s.StudLastName, m.Major from Students s\r\n",
                "join Student_Schedules sts on s.StudentID = sts.StudentID\r\n",
                "join Classes c on c.ClassID = sts.ClassID\r\n",
                "join Subjects sub on c.SubjectID = sub.SubjectID\r\n",
                "join Majors m on m.MajorID = StudMajor\r\n",
                "where CategoryID = 'MAT'\r\n",
                "and StudMajor <> 7\r\n",
                "order by Major asc"
            ],
            "metadata": {
                "azdata_cell_guid": "ea4acfa5-ca2b-4f2e-b831-3c61149afeae",
                "language": "sql"
            },
            "outputs": [
                {
                    "output_type": "display_data",
                    "data": {
                        "text/html": "(15 rows affected)"
                    },
                    "metadata": {}
                },
                {
                    "output_type": "display_data",
                    "data": {
                        "text/html": "Total execution time: 00:00:00.047"
                    },
                    "metadata": {}
                },
                {
                    "output_type": "execute_result",
                    "metadata": {},
                    "execution_count": 35,
                    "data": {
                        "application/vnd.dataresource+json": {
                            "schema": {
                                "fields": [
                                    {
                                        "name": "StudentID"
                                    },
                                    {
                                        "name": "StudFirstName"
                                    },
                                    {
                                        "name": "StudLastName"
                                    },
                                    {
                                        "name": "Major"
                                    }
                                ]
                            },
                            "data": [
                                {
                                    "StudentID": "1005",
                                    "StudFirstName": "Doris",
                                    "StudLastName": "Hartwig",
                                    "Major": "Accounting"
                                },
                                {
                                    "StudentID": "1012",
                                    "StudFirstName": "Sarah",
                                    "StudLastName": "Thompson",
                                    "Major": "Accounting"
                                },
                                {
                                    "StudentID": "1006",
                                    "StudFirstName": "Scott",
                                    "StudLastName": "Bishop",
                                    "Major": "Art"
                                },
                                {
                                    "StudentID": "1013",
                                    "StudFirstName": "Michael",
                                    "StudLastName": "Viescas",
                                    "Major": "Art"
                                },
                                {
                                    "StudentID": "1017",
                                    "StudFirstName": "George",
                                    "StudLastName": "Chavez",
                                    "Major": "Art"
                                },
                                {
                                    "StudentID": "1002",
                                    "StudFirstName": "David",
                                    "StudLastName": "Hamilton",
                                    "Major": "English"
                                },
                                {
                                    "StudentID": "1009",
                                    "StudFirstName": "Karen",
                                    "StudLastName": "Smith",
                                    "Major": "English"
                                },
                                {
                                    "StudentID": "1015",
                                    "StudFirstName": "Brannon",
                                    "StudLastName": "Jones",
                                    "Major": "English"
                                },
                                {
                                    "StudentID": "1001",
                                    "StudFirstName": "Kerry",
                                    "StudLastName": "Patterson",
                                    "Major": "General Studies"
                                },
                                {
                                    "StudentID": "1008",
                                    "StudFirstName": "Sara",
                                    "StudLastName": "Sheskey",
                                    "Major": "General Studies"
                                },
                                {
                                    "StudentID": "1004",
                                    "StudFirstName": "Janice",
                                    "StudLastName": "Galvin",
                                    "Major": "Information Sciences"
                                },
                                {
                                    "StudentID": "1011",
                                    "StudFirstName": "John",
                                    "StudLastName": "Kennedy",
                                    "Major": "Information Sciences"
                                },
                                {
                                    "StudentID": "1016",
                                    "StudFirstName": "Steve",
                                    "StudLastName": "Pundt",
                                    "Major": "Information Sciences"
                                },
                                {
                                    "StudentID": "1003",
                                    "StudFirstName": "Betsy",
                                    "StudLastName": "Stadick",
                                    "Major": "Music"
                                },
                                {
                                    "StudentID": "1010",
                                    "StudFirstName": "Marianne",
                                    "StudLastName": "Wier",
                                    "Major": "Music"
                                }
                            ]
                        },
                        "text/html": [
                            "<table>",
                            "<tr><th>StudentID</th><th>StudFirstName</th><th>StudLastName</th><th>Major</th></tr>",
                            "<tr><td>1005</td><td>Doris</td><td>Hartwig</td><td>Accounting</td></tr>",
                            "<tr><td>1012</td><td>Sarah</td><td>Thompson</td><td>Accounting</td></tr>",
                            "<tr><td>1006</td><td>Scott</td><td>Bishop</td><td>Art</td></tr>",
                            "<tr><td>1013</td><td>Michael</td><td>Viescas</td><td>Art</td></tr>",
                            "<tr><td>1017</td><td>George</td><td>Chavez</td><td>Art</td></tr>",
                            "<tr><td>1002</td><td>David</td><td>Hamilton</td><td>English</td></tr>",
                            "<tr><td>1009</td><td>Karen</td><td>Smith</td><td>English</td></tr>",
                            "<tr><td>1015</td><td>Brannon</td><td>Jones</td><td>English</td></tr>",
                            "<tr><td>1001</td><td>Kerry</td><td>Patterson</td><td>General Studies</td></tr>",
                            "<tr><td>1008</td><td>Sara</td><td>Sheskey</td><td>General Studies</td></tr>",
                            "<tr><td>1004</td><td>Janice</td><td>Galvin</td><td>Information Sciences</td></tr>",
                            "<tr><td>1011</td><td>John</td><td>Kennedy</td><td>Information Sciences</td></tr>",
                            "<tr><td>1016</td><td>Steve</td><td>Pundt</td><td>Information Sciences</td></tr>",
                            "<tr><td>1003</td><td>Betsy</td><td>Stadick</td><td>Music</td></tr>",
                            "<tr><td>1010</td><td>Marianne</td><td>Wier</td><td>Music</td></tr>",
                            "</table>"
                        ]
                    }
                }
            ],
            "execution_count": 35
        },
        {
            "cell_type": "markdown",
            "source": [
                ""
            ],
            "metadata": {
                "language": "sql",
                "azdata_cell_guid": "31dcd54b-c93c-4f8d-a5c2-38b27989f18d"
            },
            "attachments": {}
        },
        {
            "cell_type": "code",
            "source": [
                "use [SchoolSchedulingExample];\r\n",
                "select \r\n",
                "    cr.ClassRoomID,\r\n",
                "    cr.ClassRoomID,\r\n",
                "    c.SubjectID,\r\n",
                "    min(c.StartTime) as [Early Start Time]\r\n",
                "from Class_Rooms cr\r\n",
                "left join Classes c on cr.ClassRoomID = c.ClassRoomID\r\n",
                "where (MondaySchedule = 1 or MondaySchedule is null)\r\n",
                "and c.SubjectID is not null\r\n",
                "group by cr.ClassRoomID, cr.ClassRoomID, c.SubjectID\r\n",
                "order by [early start time]"
            ],
            "metadata": {
                "language": "sql",
                "azdata_cell_guid": "047b1e52-abf6-4b61-9371-01c0b52accbf"
            },
            "outputs": [
                {
                    "output_type": "display_data",
                    "data": {
                        "text/html": "(41 rows affected)"
                    },
                    "metadata": {}
                },
                {
                    "output_type": "display_data",
                    "data": {
                        "text/html": "Total execution time: 00:00:00.047"
                    },
                    "metadata": {}
                },
                {
                    "output_type": "execute_result",
                    "metadata": {},
                    "execution_count": 69,
                    "data": {
                        "application/vnd.dataresource+json": {
                            "schema": {
                                "fields": [
                                    {
                                        "name": "ClassRoomID"
                                    },
                                    {
                                        "name": "ClassRoomID"
                                    },
                                    {
                                        "name": "SubjectID"
                                    },
                                    {
                                        "name": "Early Start Time"
                                    }
                                ]
                            },
                            "data": [
                                {
                                    "ClassRoomID": "1624",
                                    "SubjectID": "51",
                                    "Early Start Time": "07:00:00"
                                },
                                {
                                    "ClassRoomID": "1519",
                                    "SubjectID": "20",
                                    "Early Start Time": "07:30:00"
                                },
                                {
                                    "ClassRoomID": "1627",
                                    "SubjectID": "13",
                                    "Early Start Time": "08:00:00"
                                },
                                {
                                    "ClassRoomID": "1142",
                                    "SubjectID": "33",
                                    "Early Start Time": "08:00:00"
                                },
                                {
                                    "ClassRoomID": "3345",
                                    "SubjectID": "40",
                                    "Early Start Time": "08:00:00"
                                },
                                {
                                    "ClassRoomID": "3346",
                                    "SubjectID": "44",
                                    "Early Start Time": "08:00:00"
                                },
                                {
                                    "ClassRoomID": "3445",
                                    "SubjectID": "46",
                                    "Early Start Time": "08:00:00"
                                },
                                {
                                    "ClassRoomID": "3352",
                                    "SubjectID": "54",
                                    "Early Start Time": "08:00:00"
                                },
                                {
                                    "ClassRoomID": "3353",
                                    "SubjectID": "49",
                                    "Early Start Time": "09:00:00"
                                },
                                {
                                    "ClassRoomID": "3443",
                                    "SubjectID": "37",
                                    "Early Start Time": "09:00:00"
                                },
                                {
                                    "ClassRoomID": "1142",
                                    "SubjectID": "34",
                                    "Early Start Time": "09:00:00"
                                },
                                {
                                    "ClassRoomID": "3352",
                                    "SubjectID": "30",
                                    "Early Start Time": "09:00:00"
                                },
                                {
                                    "ClassRoomID": "1131",
                                    "SubjectID": "21",
                                    "Early Start Time": "09:00:00"
                                },
                                {
                                    "ClassRoomID": "1532",
                                    "SubjectID": "17",
                                    "Early Start Time": "10:00:00"
                                },
                                {
                                    "ClassRoomID": "1624",
                                    "SubjectID": "50",
                                    "Early Start Time": "10:00:00"
                                },
                                {
                                    "ClassRoomID": "3353",
                                    "SubjectID": "46",
                                    "Early Start Time": "10:00:00"
                                },
                                {
                                    "ClassRoomID": "3346",
                                    "SubjectID": "42",
                                    "Early Start Time": "10:30:00"
                                },
                                {
                                    "ClassRoomID": "3445",
                                    "SubjectID": "37",
                                    "Early Start Time": "11:00:00"
                                },
                                {
                                    "ClassRoomID": "2423",
                                    "SubjectID": "45",
                                    "Early Start Time": "11:00:00"
                                },
                                {
                                    "ClassRoomID": "1231",
                                    "SubjectID": "16",
                                    "Early Start Time": "11:00:00"
                                },
                                {
                                    "ClassRoomID": "3352",
                                    "SubjectID": "31",
                                    "Early Start Time": "11:00:00"
                                },
                                {
                                    "ClassRoomID": "1624",
                                    "SubjectID": "53",
                                    "Early Start Time": "11:00:00"
                                },
                                {
                                    "ClassRoomID": "3446",
                                    "SubjectID": "38",
                                    "Early Start Time": "11:30:00"
                                },
                                {
                                    "ClassRoomID": "2408",
                                    "SubjectID": "36",
                                    "Early Start Time": "12:00:00"
                                },
                                {
                                    "ClassRoomID": "1532",
                                    "SubjectID": "18",
                                    "Early Start Time": "12:00:00"
                                },
                                {
                                    "ClassRoomID": "3346",
                                    "SubjectID": "56",
                                    "Early Start Time": "12:00:00"
                                },
                                {
                                    "ClassRoomID": "1641",
                                    "SubjectID": "24",
                                    "Early Start Time": "13:00:00"
                                },
                                {
                                    "ClassRoomID": "3415",
                                    "SubjectID": "38",
                                    "Early Start Time": "13:00:00"
                                },
                                {
                                    "ClassRoomID": "3420",
                                    "SubjectID": "41",
                                    "Early Start Time": "13:00:00"
                                },
                                {
                                    "ClassRoomID": "1530",
                                    "SubjectID": "19",
                                    "Early Start Time": "13:30:00"
                                },
                                {
                                    "ClassRoomID": "3322",
                                    "SubjectID": "27",
                                    "Early Start Time": "14:00:00"
                                },
                                {
                                    "ClassRoomID": "3422",
                                    "SubjectID": "47",
                                    "Early Start Time": "14:00:00"
                                },
                                {
                                    "ClassRoomID": "1515",
                                    "SubjectID": "22",
                                    "Early Start Time": "14:30:00"
                                },
                                {
                                    "ClassRoomID": "1642",
                                    "SubjectID": "25",
                                    "Early Start Time": "15:00:00"
                                },
                                {
                                    "ClassRoomID": "3317",
                                    "SubjectID": "32",
                                    "Early Start Time": "15:00:00"
                                },
                                {
                                    "ClassRoomID": "3346",
                                    "SubjectID": "43",
                                    "Early Start Time": "15:00:00"
                                },
                                {
                                    "ClassRoomID": "3415",
                                    "SubjectID": "39",
                                    "Early Start Time": "15:00:00"
                                },
                                {
                                    "ClassRoomID": "1619",
                                    "SubjectID": "12",
                                    "Early Start Time": "15:30:00"
                                },
                                {
                                    "ClassRoomID": "3305",
                                    "SubjectID": "1",
                                    "Early Start Time": "16:00:00"
                                },
                                {
                                    "ClassRoomID": "3343",
                                    "SubjectID": "32",
                                    "Early Start Time": "16:00:00"
                                },
                                {
                                    "ClassRoomID": "1639",
                                    "SubjectID": "27",
                                    "Early Start Time": "16:00:00"
                                }
                            ]
                        },
                        "text/html": [
                            "<table>",
                            "<tr><th>ClassRoomID</th><th>ClassRoomID</th><th>SubjectID</th><th>Early Start Time</th></tr>",
                            "<tr><td>1624</td><td>1624</td><td>51</td><td>07:00:00</td></tr>",
                            "<tr><td>1519</td><td>1519</td><td>20</td><td>07:30:00</td></tr>",
                            "<tr><td>1627</td><td>1627</td><td>13</td><td>08:00:00</td></tr>",
                            "<tr><td>1142</td><td>1142</td><td>33</td><td>08:00:00</td></tr>",
                            "<tr><td>3345</td><td>3345</td><td>40</td><td>08:00:00</td></tr>",
                            "<tr><td>3346</td><td>3346</td><td>44</td><td>08:00:00</td></tr>",
                            "<tr><td>3445</td><td>3445</td><td>46</td><td>08:00:00</td></tr>",
                            "<tr><td>3352</td><td>3352</td><td>54</td><td>08:00:00</td></tr>",
                            "<tr><td>3353</td><td>3353</td><td>49</td><td>09:00:00</td></tr>",
                            "<tr><td>3443</td><td>3443</td><td>37</td><td>09:00:00</td></tr>",
                            "<tr><td>1142</td><td>1142</td><td>34</td><td>09:00:00</td></tr>",
                            "<tr><td>3352</td><td>3352</td><td>30</td><td>09:00:00</td></tr>",
                            "<tr><td>1131</td><td>1131</td><td>21</td><td>09:00:00</td></tr>",
                            "<tr><td>1532</td><td>1532</td><td>17</td><td>10:00:00</td></tr>",
                            "<tr><td>1624</td><td>1624</td><td>50</td><td>10:00:00</td></tr>",
                            "<tr><td>3353</td><td>3353</td><td>46</td><td>10:00:00</td></tr>",
                            "<tr><td>3346</td><td>3346</td><td>42</td><td>10:30:00</td></tr>",
                            "<tr><td>3445</td><td>3445</td><td>37</td><td>11:00:00</td></tr>",
                            "<tr><td>2423</td><td>2423</td><td>45</td><td>11:00:00</td></tr>",
                            "<tr><td>1231</td><td>1231</td><td>16</td><td>11:00:00</td></tr>",
                            "<tr><td>3352</td><td>3352</td><td>31</td><td>11:00:00</td></tr>",
                            "<tr><td>1624</td><td>1624</td><td>53</td><td>11:00:00</td></tr>",
                            "<tr><td>3446</td><td>3446</td><td>38</td><td>11:30:00</td></tr>",
                            "<tr><td>2408</td><td>2408</td><td>36</td><td>12:00:00</td></tr>",
                            "<tr><td>1532</td><td>1532</td><td>18</td><td>12:00:00</td></tr>",
                            "<tr><td>3346</td><td>3346</td><td>56</td><td>12:00:00</td></tr>",
                            "<tr><td>1641</td><td>1641</td><td>24</td><td>13:00:00</td></tr>",
                            "<tr><td>3415</td><td>3415</td><td>38</td><td>13:00:00</td></tr>",
                            "<tr><td>3420</td><td>3420</td><td>41</td><td>13:00:00</td></tr>",
                            "<tr><td>1530</td><td>1530</td><td>19</td><td>13:30:00</td></tr>",
                            "<tr><td>3322</td><td>3322</td><td>27</td><td>14:00:00</td></tr>",
                            "<tr><td>3422</td><td>3422</td><td>47</td><td>14:00:00</td></tr>",
                            "<tr><td>1515</td><td>1515</td><td>22</td><td>14:30:00</td></tr>",
                            "<tr><td>1642</td><td>1642</td><td>25</td><td>15:00:00</td></tr>",
                            "<tr><td>3317</td><td>3317</td><td>32</td><td>15:00:00</td></tr>",
                            "<tr><td>3346</td><td>3346</td><td>43</td><td>15:00:00</td></tr>",
                            "<tr><td>3415</td><td>3415</td><td>39</td><td>15:00:00</td></tr>",
                            "<tr><td>1619</td><td>1619</td><td>12</td><td>15:30:00</td></tr>",
                            "<tr><td>3305</td><td>3305</td><td>1</td><td>16:00:00</td></tr>",
                            "<tr><td>3343</td><td>3343</td><td>32</td><td>16:00:00</td></tr>",
                            "<tr><td>1639</td><td>1639</td><td>27</td><td>16:00:00</td></tr>",
                            "</table>"
                        ]
                    }
                }
            ],
            "execution_count": 69
        }
    ]
}