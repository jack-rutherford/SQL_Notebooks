{
    "metadata": {
        "kernelspec": {
            "name": "SQL",
            "display_name": "SQL",
            "language": "sql"
        },
        "language_info": {
            "name": "sql",
            "version": ""
        },
        "extensions": {
            "azuredatastudio": {
                "version": 1,
                "views": []
            }
        }
    },
    "nbformat_minor": 2,
    "nbformat": 4,
    "cells": [
        {
            "cell_type": "markdown",
            "source": [
                "# Instructions\n",
                "\n",
                "Write SQL queries for each of the following questions. Be sure to save your answers often. When you are done, clear the results from the notebook using the \"eraser\" icon in the top right corner of the ADS window. Then save once more, and upload your Notebook to Moodle.\n",
                "\n",
                "In all cells where you see `use [stu.dent]`, replace *stu.dent* with your user name."
            ],
            "metadata": {
                "azdata_cell_guid": "888240e3-9326-4a31-ab3d-5b9162bca0bf"
            },
            "attachments": {}
        },
        {
            "cell_type": "markdown",
            "source": [
                "## Part 1 - Single Table Queries"
            ],
            "metadata": {
                "azdata_cell_guid": "2ae35986-7768-4170-8e3f-bbea1bb3aff5"
            },
            "attachments": {}
        },
        {
            "cell_type": "markdown",
            "source": [
                "**Q1.** In what year was **Jennifer Lawrence** born?  (1990)"
            ],
            "metadata": {
                "azdata_cell_guid": "57b1ed12-c44d-4e7b-9335-15548c9570d9"
            },
            "attachments": {}
        },
        {
            "cell_type": "code",
            "source": [
                "use [jack.rutherford]\r\n",
                "select BirthYear from imdb.People\r\n",
                "where FirstName = 'Jennifer' and LastName = 'Lawrence'"
            ],
            "metadata": {
                "azdata_cell_guid": "4806c5a0-2e4f-434f-b0eb-3207d6a88308",
                "language": "sql"
            },
            "outputs": [],
            "execution_count": null
        },
        {
            "cell_type": "markdown",
            "source": [
                "**Q2.** In the `SchoolSchedulingExample` schema, list the `SubjectName` for all `Subjects` that have a subject code **starting with** _MUS_ (4 rows)"
            ],
            "metadata": {
                "azdata_cell_guid": "a367732e-3383-4b67-aa77-f36eba8c5005"
            },
            "attachments": {}
        },
        {
            "cell_type": "code",
            "source": [
                "use [SchoolSchedulingExample]\r\n",
                "select SubjectName from Subjects\r\n",
                "where SubjectCode like 'MUS%'"
            ],
            "metadata": {
                "azdata_cell_guid": "787e6483-6b51-425d-b0a2-539299908ab3",
                "language": "sql"
            },
            "outputs": [],
            "execution_count": null
        },
        {
            "cell_type": "markdown",
            "source": [
                "**Q3.**  In the `SchoolSchedulingExample` schema, show the `SubjectID`, `StartTime` and `Duration` for each `Class` that meest for less than 2 hours on either **Monday/Wednesday/Friday** or **Tuesday/Thursday**.  \n",
                "\n",
                "The `MondaySchedule`, `TuesdaySchedule`, `WednesdaySchedule`, `ThursdaySchedule`, `FridaySchedule`, and `SaturdaySchedule` columns in the `Classes` table have either 0 or 1 in them, depending on whether the class in question meets (1) or does not meet (0).  \n",
                "\n",
                "The output should return a column named `Meets` whose value is either **MWF** or **TR**, depending on when the class meets.  Use the SQL Server [CASE statement](https://link.hope.edu/392-sql-case) to compute the value of the `Meets` column.\n",
                "\n",
                "Show the classes that meet Monday/Wednesday/Friday **first**, followed by the Tuesday/Thursday classes. Within the MWF and TR groups, order the classes by `StartTime`.  (14 rows)"
            ],
            "metadata": {
                "azdata_cell_guid": "dfc95eaf-03d4-495f-b33f-4aed6c5ed4bd"
            },
            "attachments": {}
        },
        {
            "cell_type": "code",
            "source": [
                "use [SchoolSchedulingExample];\r\n",
                "with ClassDays as(\r\n",
                "select SubjectID, StartTime, Duration,\r\n",
                "CASE\r\n",
                "    WHEN MondaySchedule = 1 AND TuesdaySchedule = 0 AND ThursdaySchedule = 0 AND WednesdaySchedule = 1 AND FridaySchedule = 1 AND SaturdaySchedule = 0 THEN 'MWF'\r\n",
                "    WHEN MondaySchedule = 0 AND TuesdaySchedule = 1 AND ThursdaySchedule = 1 AND WednesdaySchedule = 0 AND FridaySchedule = 0 AND SaturdaySchedule = 0 THEN 'TR'\r\n",
                "    END AS Meets\r\n",
                "from Classes\r\n",
                "where Duration < 120\r\n",
                ")\r\n",
                "select * from ClassDays where Meets is not NULL\r\n",
                "    order by Meets, StartTime"
            ],
            "metadata": {
                "azdata_cell_guid": "e8ebafaf-3b02-431a-b097-10c79bde472c",
                "language": "sql",
                "tags": []
            },
            "outputs": [],
            "execution_count": null
        },
        {
            "cell_type": "markdown",
            "source": [
                "**Q4.**  What was the title of the first movie **Jennifer Lawrence** appeared in, and what year was it released?  Use the `ActorMovies` view and the [SQL Server TOP clause](https:\\link.hope.edu\\392-sql-top) to help you answer this question.  (_The Poker House, 2008_)"
            ],
            "metadata": {
                "azdata_cell_guid": "c8a78a93-9089-4a31-a5c5-5f12af42d702"
            },
            "attachments": {}
        },
        {
            "cell_type": "code",
            "source": [
                "use [jack.rutherford]\r\n",
                "select Top 1 Title, YearReleased from imdb.Movies m\r\n",
                "JOIN imdb.Principals pr on m.TitleID = pr.TitleID\r\n",
                "join imdb.People pe on pe.PersonID = pr.PersonID\r\n",
                "where FirstName = 'Jennifer' and LastName = 'Lawrence'\r\n",
                "order by YearReleased"
            ],
            "metadata": {
                "azdata_cell_guid": "40f6b009-4155-4010-9be9-5a89ba117fb7",
                "language": "sql",
                "tags": []
            },
            "outputs": [],
            "execution_count": null
        },
        {
            "cell_type": "markdown",
            "source": [
                "**Q5.**  In the `BowlingLeagueExample` schema, show the game numbers where a bowler bowled either a raw score over 192, or a handicapped score over 224, but still lost the game.  The values in the `WonGame` column or either **0 (lost)** or **1 (won)**. (2 rows)"
            ],
            "metadata": {
                "azdata_cell_guid": "91e95238-84dc-4a9d-85ca-7253e7b36e0c"
            },
            "attachments": {}
        },
        {
            "cell_type": "code",
            "source": [
                "use BowlingLeagueExample\r\n",
                "select GameNumber from Bowlers b\r\n",
                "join Bowler_Scores bs on b.BowlerID = bs.BowlerID\r\n",
                "where (RawScore > 192 OR HandiCapScore > 224) AND WonGame = 0"
            ],
            "metadata": {
                "azdata_cell_guid": "70a07eb5-69ec-47e6-8671-5e636abb0319",
                "tags": [],
                "language": "sql"
            },
            "outputs": [],
            "execution_count": null
        },
        {
            "cell_type": "markdown",
            "source": [
                "**Q6.**  List the title, year released, and IMDB rating of all the 'G' rated movies released in 2000-2009 for which the primary genre was either _Animation_ or _Family_ and the IMDB rating for the movie was at least 6.  Order the results so the highest rated movies are shown first.  <span style=\"color: var(--vscode-foreground);\">(13 rows, the first is *Cars* and the last is *Franklin and the Turtle Lake Treasure*)</span>"
            ],
            "metadata": {
                "azdata_cell_guid": "380b9e52-b165-4488-8c8f-8727e178d64f"
            },
            "attachments": {}
        },
        {
            "cell_type": "code",
            "source": [
                "use [jack.rutherford]\r\n",
                "select Title, YearReleased, IMDBRating from imdb.Movies m\r\n",
                "where YearReleased between 2000 and 2009\r\n",
                "and MPAARating = 'G'\r\n",
                "and (PrimaryGenre = 'Animation' or PrimaryGenre = 'Family')\r\n",
                "and IMDBRating >=6\r\n",
                "order by IMDBRating desc"
            ],
            "metadata": {
                "azdata_cell_guid": "bdf10aa6-491d-4e4c-8fb2-0eb4f0d7c963",
                "tags": [],
                "language": "sql"
            },
            "outputs": [],
            "execution_count": null
        },
        {
            "cell_type": "markdown",
            "source": [
                "## Part 2 - Multiple Table Queries"
            ],
            "metadata": {
                "azdata_cell_guid": "2f2510fc-e3fb-49e2-999b-c59009f83867"
            },
            "attachments": {}
        },
        {
            "cell_type": "markdown",
            "source": [
                "**Q7.**  Repeat the above question, except find movies for which **any** of the genres associated with the movie were either _Animation_ or _Family._ The other criteria from the previous problem should be kept, and each movie should appear once in the results (57 rows, the first is _The Nutcracker Family: Behind the Magic_ and the last is _Jimmy Neutron: Boy Genius_)."
            ],
            "metadata": {
                "azdata_cell_guid": "c0a04054-02a6-445e-970d-5e0a5b24ca30"
            },
            "attachments": {}
        },
        {
            "cell_type": "code",
            "source": [
                "use [jack.rutherford]\r\n",
                "select Title, YearReleased, IMDBRating from imdb.Movies m\r\n",
                "where YearReleased between 2000 and 2009\r\n",
                "and MPAARating = 'G'\r\n",
                "and IMDBRating >=6\r\n",
                "and m.TitleID in(\r\n",
                "    select mg.TitleID from imdb.MovieGenres mg\r\n",
                "    where mg.Genre = 'Animation' \r\n",
                "    or mg.Genre = 'Family'\r\n",
                ")\r\n",
                "order by IMDBRating desc"
            ],
            "metadata": {
                "azdata_cell_guid": "4e925e02-4a85-4781-b9ae-5a8c4705c3e6",
                "language": "sql"
            },
            "outputs": [],
            "execution_count": null
        },
        {
            "cell_type": "markdown",
            "source": [
                "**Q8.** Find the names and birth years of all people with last names starting with A through C who were born in the 1980s and whose primary profession is _composer_.\n",
                "\n",
                "Order by results by year of birth; within a year, sort alphabetically by last name, followed by first name (47 rows; the first is _Francisco Aguilar_ born in 1980 and the last is _Dexter Britain_ born in 1989)"
            ],
            "metadata": {
                "azdata_cell_guid": "3552d983-a228-4ce5-a3cb-1f0f8e11a5d5"
            },
            "attachments": {}
        },
        {
            "cell_type": "code",
            "source": [
                "use [jack.rutherford]\r\n",
                "SELECT FirstName, LastName, BirthYear FROM imdb.People\r\n",
                "join imdb.Professions on Professions.PersonID = People.PersonID\r\n",
                "where Professions.Profession = 'composer'\r\n",
                "and Professions.ProfessionOrder =1\r\n",
                "and BirthYear between 1980 and 1989\r\n",
                "and LastName like '[a-c]%'\r\n",
                "group by BirthYear, LastName, FirstName\r\n",
                "order by LastName asc, FirstName asc"
            ],
            "metadata": {
                "azdata_cell_guid": "d8619c19-2686-4eaf-8bbe-37e785cfeca7",
                "language": "sql"
            },
            "outputs": [],
            "execution_count": null
        },
        {
            "cell_type": "markdown",
            "source": [
                "**Q9.**  List the team name and the name of the captain for each of the bowling teams _Marlins_, _Sharks_, and _Terrapins_ (3 rows)."
            ],
            "metadata": {
                "azdata_cell_guid": "2924c915-ea0b-4f71-8d91-68ff67a36c20"
            },
            "attachments": {}
        },
        {
            "cell_type": "code",
            "source": [
                "use [BowlingLeagueExample]\r\n",
                "select TeamName, BowlerFirstName, BowlerLastName from Teams\r\n",
                "join Bowlers on Bowlers.TeamID = Teams.TeamID\r\n",
                "where CaptainID = BowlerID\r\n",
                "and BowlerID in(\r\n",
                "    select BowlerID from Bowlers\r\n",
                "    where TeamName = 'Marlins' or TeamName = 'Sharks' or TeamName = 'Terrapins'\r\n",
                ")\r\n",
                ""
            ],
            "metadata": {
                "azdata_cell_guid": "f8ffca46-09ba-4e8d-8671-79359d0472be",
                "language": "sql"
            },
            "outputs": [],
            "execution_count": null
        },
        {
            "cell_type": "markdown",
            "source": [
                "**Q10.**  Show the product name, vendor name, and number on hand for all vendors who supply products containing the word _Bike_ which are running low. Running low means there are fewer than 10 of the product on hand.\n",
                "\n",
                "Show the products closest to being out of stock first. If there is a tie, show the product that will take the fewest days to deliver first <span style=\"color: var(--vscode-foreground);\">(8 rows; the first is</span> _Viscount Mountain Bike_ <span style=\"color: var(--vscode-foreground);\">supplied by</span> _Viscount_<span style=\"color: var(--vscode-foreground);\">, and the last is</span> _Eagle FS-3 Mountain Bike_ <span style=\"color: var(--vscode-foreground);\">supplied by</span> _Big Sky Mountain Bikes_<span style=\"color: var(--vscode-foreground);\">).</span>"
            ],
            "metadata": {
                "azdata_cell_guid": "793f6e53-60e1-4385-86bd-e6a26d7d4bc7"
            },
            "attachments": {}
        },
        {
            "cell_type": "code",
            "source": [
                "use [SalesOrdersExample]\r\n",
                "select ProductName, VendName, QuantityOnHand from Products\r\n",
                "join Product_Vendors on Product_Vendors.ProductNumber = Products.ProductNumber\r\n",
                "join Vendors on Vendors.VendorID = Product_Vendors.VendorID\r\n",
                "where QuantityOnHand < 10\r\n",
                "and ProductName like '%Bike%'\r\n",
                "order by QuantityOnHand asc, DaysToDeliver asc"
            ],
            "metadata": {
                "azdata_cell_guid": "69947050-f65f-4f26-83bd-95b819728a28",
                "language": "sql"
            },
            "outputs": [],
            "execution_count": null
        },
        {
            "cell_type": "markdown",
            "source": [
                "##  Handing it in\r\n",
                "\r\n",
                "Click the \"eraser\" icon in the top right corner of the ADS window to clear the results from all cells in your notebook.  Then go to Moodle and upload the notebook using the **Homework 2** assignment in the \"Assignments\" section of the site."
            ],
            "metadata": {
                "azdata_cell_guid": "edee0ddb-e387-45d0-929a-15b812667425"
            }
        }
    ]
}