{
    "metadata": {
        "kernelspec": {
            "name": "SQL",
            "display_name": "SQL",
            "language": "sql"
        },
        "language_info": {
            "name": "sql",
            "version": ""
        },
        "extensions": {
            "azuredatastudio": {
                "version": 1,
                "views": []
            }
        }
    },
    "nbformat_minor": 2,
    "nbformat": 4,
    "cells": [
        {
            "cell_type": "markdown",
            "source": [
                "# Getting started\n",
                "\n",
                "Be sure you've followed the directions in the `SQL Homework 2 Part 2 - Getting Started.ipynb` notebook before you start working on these problems."
            ],
            "metadata": {
                "azdata_cell_guid": "8c184408-b0ed-40a2-8b0d-434b248b3e43"
            },
            "attachments": {}
        },
        {
            "cell_type": "markdown",
            "source": [
                "# Problems to complete\n",
                "\n",
                "## Part 1 - Order Setup\n",
                "**Q1.** Write a statement in the cell below that finds the largest value of the `CustomerID` column in the `CustomersHW` table. "
            ],
            "metadata": {
                "azdata_cell_guid": "daae2397-4717-4d04-abc6-669054b12bd3"
            },
            "attachments": {}
        },
        {
            "cell_type": "code",
            "source": [
                "use [jack.rutherford];\r\n",
                "WITH maxCustomerID AS(\r\n",
                "    SELECT MAX(CHW.CustomerID) [Max Customer ID] FROM SalesOrdersExample.CustomersHW CHW\r\n",
                ")\r\n",
                "SELECT * FROM maxCustomerID"
            ],
            "metadata": {
                "azdata_cell_guid": "c562787c-fadc-496f-a7f9-de6aeb8841b4",
                "language": "sql"
            },
            "outputs": [],
            "execution_count": null
        },
        {
            "cell_type": "code",
            "source": [
                "select Category, COUNT(Category) [CatergoryCount] from imdb.Principals\r\n",
                "Group by Category\r\n",
                "Order by CatergoryCount DESC"
            ],
            "metadata": {
                "language": "sql",
                "azdata_cell_guid": "4c46532a-828f-426b-86ae-8843e2197ff9"
            },
            "outputs": [
                {
                    "output_type": "display_data",
                    "data": {
                        "text/html": "(12 rows affected)"
                    },
                    "metadata": {}
                },
                {
                    "output_type": "display_data",
                    "data": {
                        "text/html": "Total execution time: 00:00:00.298"
                    },
                    "metadata": {}
                },
                {
                    "output_type": "execute_result",
                    "metadata": {},
                    "execution_count": 13,
                    "data": {
                        "application/vnd.dataresource+json": {
                            "schema": {
                                "fields": [
                                    {
                                        "name": "Category"
                                    },
                                    {
                                        "name": "CatergoryCount"
                                    }
                                ]
                            },
                            "data": [
                                {
                                    "Category": "actor",
                                    "CatergoryCount": "261859"
                                },
                                {
                                    "Category": "actress",
                                    "CatergoryCount": "153625"
                                },
                                {
                                    "Category": "director",
                                    "CatergoryCount": "128063"
                                },
                                {
                                    "Category": "producer",
                                    "CatergoryCount": "117964"
                                },
                                {
                                    "Category": "writer",
                                    "CatergoryCount": "90474"
                                },
                                {
                                    "Category": "composer",
                                    "CatergoryCount": "79827"
                                },
                                {
                                    "Category": "cinematographer",
                                    "CatergoryCount": "74955"
                                },
                                {
                                    "Category": "self",
                                    "CatergoryCount": "63978"
                                },
                                {
                                    "Category": "editor",
                                    "CatergoryCount": "46727"
                                },
                                {
                                    "Category": "production_designer",
                                    "CatergoryCount": "10859"
                                },
                                {
                                    "Category": "archive_footage",
                                    "CatergoryCount": "4629"
                                },
                                {
                                    "Category": "archive_sound",
                                    "CatergoryCount": "31"
                                }
                            ]
                        },
                        "text/html": [
                            "<table>",
                            "<tr><th>Category</th><th>CatergoryCount</th></tr>",
                            "<tr><td>actor</td><td>261859</td></tr>",
                            "<tr><td>actress</td><td>153625</td></tr>",
                            "<tr><td>director</td><td>128063</td></tr>",
                            "<tr><td>producer</td><td>117964</td></tr>",
                            "<tr><td>writer</td><td>90474</td></tr>",
                            "<tr><td>composer</td><td>79827</td></tr>",
                            "<tr><td>cinematographer</td><td>74955</td></tr>",
                            "<tr><td>self</td><td>63978</td></tr>",
                            "<tr><td>editor</td><td>46727</td></tr>",
                            "<tr><td>production_designer</td><td>10859</td></tr>",
                            "<tr><td>archive_footage</td><td>4629</td></tr>",
                            "<tr><td>archive_sound</td><td>31</td></tr>",
                            "</table>"
                        ]
                    }
                }
            ],
            "execution_count": 13
        },
        {
            "cell_type": "markdown",
            "source": [
                "**Q2.** Write a **single** `insert` statement that inserts 2 new customers into the `CustomersHW` table:\n",
                "\n",
                "- One for **you**, using your on campus address information\n",
                "- One for Dr. McFall, using 27 Graves Place, Holland, MI, 49423 as the address information.\n",
                "\n",
                "Use the values `maxCustomerID+1` and `maxCustomerID+2` as values for the `CustomerID` column, where `maxCustomerID` is the value you found in the previous problem.  Don't insert values for the `CustAreaCode` and `CustPhoneNumber` columns.\n",
                "\n",
                "After the `insert` statement (but in the **same cell**), write a `SELECT` statement that selects just these two rows to verify they were inserted correctly."
            ],
            "metadata": {
                "azdata_cell_guid": "aa111757-0cab-4bc1-9372-020babcef3bf"
            },
            "attachments": {}
        },
        {
            "cell_type": "code",
            "source": [
                "use [jack.rutherford];\r\n",
                "INSERT INTO SalesOrdersExample.CustomersHW (\r\n",
                "    CustomerID,\r\n",
                "    CustFirstName,\r\n",
                "    CustLastName,\r\n",
                "    CustStreetAddress,\r\n",
                "    CustCity,\r\n",
                "    CustState,\r\n",
                "    CustZipCode\r\n",
                ")\r\n",
                "VALUES \r\n",
                "(1029, 'Jack', 'Rutherford', '108 E 14th St', 'Holland', 'MI', '49423'),\r\n",
                "(1030, 'Dr', 'McFall', '27 Graves Place', 'Holland', 'MI', '49423');\r\n",
                "\r\n",
                "SELECT * FROM SalesOrdersExample.CustomersHW"
            ],
            "metadata": {
                "azdata_cell_guid": "53672857-134c-4dc3-a95c-c10a76fdf30f",
                "language": "sql",
                "tags": [
                    "hide_input"
                ]
            },
            "outputs": [
                {
                    "output_type": "display_data",
                    "data": {
                        "text/html": "(2 rows affected)"
                    },
                    "metadata": {}
                },
                {
                    "output_type": "display_data",
                    "data": {
                        "text/html": "(30 rows affected)"
                    },
                    "metadata": {}
                },
                {
                    "output_type": "display_data",
                    "data": {
                        "text/html": "Total execution time: 00:00:00.241"
                    },
                    "metadata": {}
                },
                {
                    "output_type": "execute_result",
                    "execution_count": 2,
                    "data": {
                        "application/vnd.dataresource+json": {
                            "schema": {
                                "fields": [
                                    {
                                        "name": "CustomerID"
                                    },
                                    {
                                        "name": "CustFirstName"
                                    },
                                    {
                                        "name": "CustLastName"
                                    },
                                    {
                                        "name": "CustStreetAddress"
                                    },
                                    {
                                        "name": "CustCity"
                                    },
                                    {
                                        "name": "CustState"
                                    },
                                    {
                                        "name": "CustZipCode"
                                    },
                                    {
                                        "name": "CustAreaCode"
                                    },
                                    {
                                        "name": "CustPhoneNumber"
                                    }
                                ]
                            },
                            "data": [
                                {
                                    "CustomerID": "1029",
                                    "CustFirstName": "Jack",
                                    "CustLastName": "Rutherford",
                                    "CustStreetAddress": "108 E 14th St",
                                    "CustCity": "Holland",
                                    "CustState": "MI",
                                    "CustZipCode": "49423",
                                    "CustAreaCode": "NULL",
                                    "CustPhoneNumber": "NULL"
                                },
                                {
                                    "CustomerID": "1030",
                                    "CustFirstName": "Dr",
                                    "CustLastName": "McFall",
                                    "CustStreetAddress": "27 Graves Place",
                                    "CustCity": "Holland",
                                    "CustState": "MI",
                                    "CustZipCode": "49423",
                                    "CustAreaCode": "NULL",
                                    "CustPhoneNumber": "NULL"
                                },
                                {
                                    "CustomerID": "1001",
                                    "CustFirstName": "Suzanne",
                                    "CustLastName": "Viescas",
                                    "CustStreetAddress": "15127 NE 24th, #383",
                                    "CustCity": "Redmond",
                                    "CustState": "WA",
                                    "CustZipCode": "98052",
                                    "CustAreaCode": "425",
                                    "CustPhoneNumber": "555-2686"
                                },
                                {
                                    "CustomerID": "1002",
                                    "CustFirstName": "William",
                                    "CustLastName": "Thompson",
                                    "CustStreetAddress": "122 Spring River Drive",
                                    "CustCity": "Duvall",
                                    "CustState": "WA",
                                    "CustZipCode": "98019",
                                    "CustAreaCode": "425",
                                    "CustPhoneNumber": "555-2681"
                                },
                                {
                                    "CustomerID": "1003",
                                    "CustFirstName": "Gary",
                                    "CustLastName": "Hallmark",
                                    "CustStreetAddress": "Route 2, Box 203B",
                                    "CustCity": "Auburn",
                                    "CustState": "WA",
                                    "CustZipCode": "98002",
                                    "CustAreaCode": "253",
                                    "CustPhoneNumber": "555-2676"
                                },
                                {
                                    "CustomerID": "1004",
                                    "CustFirstName": "Robert",
                                    "CustLastName": "Brown",
                                    "CustStreetAddress": "672 Lamont Ave",
                                    "CustCity": "Houston",
                                    "CustState": "TX",
                                    "CustZipCode": "77201",
                                    "CustAreaCode": "713",
                                    "CustPhoneNumber": "555-2491"
                                },
                                {
                                    "CustomerID": "1005",
                                    "CustFirstName": "Dean",
                                    "CustLastName": "McCrae",
                                    "CustStreetAddress": "4110 Old Redmond Rd.",
                                    "CustCity": "Redmond",
                                    "CustState": "WA",
                                    "CustZipCode": "98052",
                                    "CustAreaCode": "425",
                                    "CustPhoneNumber": "555-2506"
                                },
                                {
                                    "CustomerID": "1006",
                                    "CustFirstName": "John",
                                    "CustLastName": "Viescas",
                                    "CustStreetAddress": "15127 NE 24th, #383",
                                    "CustCity": "Redmond",
                                    "CustState": "WA",
                                    "CustZipCode": "98052",
                                    "CustAreaCode": "425",
                                    "CustPhoneNumber": "555-2511"
                                },
                                {
                                    "CustomerID": "1007",
                                    "CustFirstName": "Mariya",
                                    "CustLastName": "Sergienko",
                                    "CustStreetAddress": "901 Pine Avenue",
                                    "CustCity": "Portland",
                                    "CustState": "OR",
                                    "CustZipCode": "97208",
                                    "CustAreaCode": "503",
                                    "CustPhoneNumber": "555-2526"
                                },
                                {
                                    "CustomerID": "1008",
                                    "CustFirstName": "Neil",
                                    "CustLastName": "Patterson",
                                    "CustStreetAddress": "233 West Valley Hwy",
                                    "CustCity": "San Diego",
                                    "CustState": "CA",
                                    "CustZipCode": "92199",
                                    "CustAreaCode": "619",
                                    "CustPhoneNumber": "555-2541"
                                },
                                {
                                    "CustomerID": "1009",
                                    "CustFirstName": "Andrew",
                                    "CustLastName": "Cencini",
                                    "CustStreetAddress": "507 - 20th Ave. E.\r\nApt. 2A",
                                    "CustCity": "Seattle",
                                    "CustState": "WA",
                                    "CustZipCode": "98105",
                                    "CustAreaCode": "206",
                                    "CustPhoneNumber": "555-2601"
                                },
                                {
                                    "CustomerID": "1010",
                                    "CustFirstName": "Angel",
                                    "CustLastName": "Kennedy",
                                    "CustStreetAddress": "667 Red River Road",
                                    "CustCity": "Austin",
                                    "CustState": "TX",
                                    "CustZipCode": "78710",
                                    "CustAreaCode": "512",
                                    "CustPhoneNumber": "555-2571"
                                },
                                {
                                    "CustomerID": "1011",
                                    "CustFirstName": "Alaina",
                                    "CustLastName": "Hallmark",
                                    "CustStreetAddress": "Route 2, Box 203B",
                                    "CustCity": "Woodinville",
                                    "CustState": "WA",
                                    "CustZipCode": "98072",
                                    "CustAreaCode": "425",
                                    "CustPhoneNumber": "555-2631"
                                },
                                {
                                    "CustomerID": "1012",
                                    "CustFirstName": "Liz",
                                    "CustLastName": "Keyser",
                                    "CustStreetAddress": "13920 S.E. 40th Street",
                                    "CustCity": "Bellevue",
                                    "CustState": "WA",
                                    "CustZipCode": "98006",
                                    "CustAreaCode": "425",
                                    "CustPhoneNumber": "555-2556"
                                },
                                {
                                    "CustomerID": "1013",
                                    "CustFirstName": "Rachel",
                                    "CustLastName": "Patterson",
                                    "CustStreetAddress": "2114 Longview Lane",
                                    "CustCity": "San Diego",
                                    "CustState": "CA",
                                    "CustZipCode": "92199",
                                    "CustAreaCode": "619",
                                    "CustPhoneNumber": "555-2546"
                                },
                                {
                                    "CustomerID": "1014",
                                    "CustFirstName": "Sam",
                                    "CustLastName": "Abolrous",
                                    "CustStreetAddress": "611 Alpine Drive",
                                    "CustCity": "Palm Springs",
                                    "CustState": "CA",
                                    "CustZipCode": "92263",
                                    "CustAreaCode": "760",
                                    "CustPhoneNumber": "555-2611"
                                },
                                {
                                    "CustomerID": "1015",
                                    "CustFirstName": "Darren",
                                    "CustLastName": "Gehring",
                                    "CustStreetAddress": "2601 Seaview Lane",
                                    "CustCity": "Chico",
                                    "CustState": "CA",
                                    "CustZipCode": "95926",
                                    "CustAreaCode": "530",
                                    "CustPhoneNumber": "555-2616"
                                },
                                {
                                    "CustomerID": "1016",
                                    "CustFirstName": "Jim",
                                    "CustLastName": "Wilson",
                                    "CustStreetAddress": "101 NE 88th",
                                    "CustCity": "Salem",
                                    "CustState": "OR",
                                    "CustZipCode": "97301",
                                    "CustAreaCode": "503",
                                    "CustPhoneNumber": "555-2636"
                                },
                                {
                                    "CustomerID": "1017",
                                    "CustFirstName": "Manuela",
                                    "CustLastName": "Seidel",
                                    "CustStreetAddress": "66 Spring Valley Drive",
                                    "CustCity": "Medford",
                                    "CustState": "OR",
                                    "CustZipCode": "97501",
                                    "CustAreaCode": "541",
                                    "CustPhoneNumber": "555-2641"
                                },
                                {
                                    "CustomerID": "1018",
                                    "CustFirstName": "David",
                                    "CustLastName": "Smith",
                                    "CustStreetAddress": "311 20th Ave. N.E.",
                                    "CustCity": "Fremont",
                                    "CustState": "CA",
                                    "CustZipCode": "94538",
                                    "CustAreaCode": "510",
                                    "CustPhoneNumber": "555-2646"
                                },
                                {
                                    "CustomerID": "1019",
                                    "CustFirstName": "Zachary",
                                    "CustLastName": "Ehrlich",
                                    "CustStreetAddress": "12330 Kingman Drive",
                                    "CustCity": "Glendale",
                                    "CustState": "CA",
                                    "CustZipCode": "91209",
                                    "CustAreaCode": "818",
                                    "CustPhoneNumber": "555-2721"
                                },
                                {
                                    "CustomerID": "1020",
                                    "CustFirstName": "Joyce",
                                    "CustLastName": "Bonnicksen",
                                    "CustStreetAddress": "2424 Thames Drive",
                                    "CustCity": "Bellevue",
                                    "CustState": "WA",
                                    "CustZipCode": "98006",
                                    "CustAreaCode": "425",
                                    "CustPhoneNumber": "555-2726"
                                },
                                {
                                    "CustomerID": "1021",
                                    "CustFirstName": "Estella",
                                    "CustLastName": "Pundt",
                                    "CustStreetAddress": "2500 Rosales Lane",
                                    "CustCity": "Dallas",
                                    "CustState": "TX",
                                    "CustZipCode": "75260",
                                    "CustAreaCode": "972",
                                    "CustPhoneNumber": "555-9938"
                                },
                                {
                                    "CustomerID": "1022",
                                    "CustFirstName": "Caleb",
                                    "CustLastName": "Viescas",
                                    "CustStreetAddress": "4501 Wetland Road",
                                    "CustCity": "Long Beach",
                                    "CustState": "CA",
                                    "CustZipCode": "90809",
                                    "CustAreaCode": "562",
                                    "CustPhoneNumber": "555-0037"
                                },
                                {
                                    "CustomerID": "1023",
                                    "CustFirstName": "Julia",
                                    "CustLastName": "Schnebly",
                                    "CustStreetAddress": "2343 Harmony Lane",
                                    "CustCity": "Seattle",
                                    "CustState": "WA",
                                    "CustZipCode": "99837",
                                    "CustAreaCode": "206",
                                    "CustPhoneNumber": "555-9936"
                                },
                                {
                                    "CustomerID": "1024",
                                    "CustFirstName": "Mark",
                                    "CustLastName": "Rosales",
                                    "CustStreetAddress": "323 Advocate Lane",
                                    "CustCity": "El Paso",
                                    "CustState": "TX",
                                    "CustZipCode": "79915",
                                    "CustAreaCode": "915",
                                    "CustPhoneNumber": "555-2286"
                                },
                                {
                                    "CustomerID": "1025",
                                    "CustFirstName": "Maria",
                                    "CustLastName": "Patterson",
                                    "CustStreetAddress": "3445 Cheyenne Road",
                                    "CustCity": "El Paso",
                                    "CustState": "TX",
                                    "CustZipCode": "79915",
                                    "CustAreaCode": "915",
                                    "CustPhoneNumber": "555-2291"
                                },
                                {
                                    "CustomerID": "1026",
                                    "CustFirstName": "Kirk",
                                    "CustLastName": "DeGrasse",
                                    "CustStreetAddress": "455 West Palm Ave",
                                    "CustCity": "San Antonio",
                                    "CustState": "TX",
                                    "CustZipCode": "78284",
                                    "CustAreaCode": "210",
                                    "CustPhoneNumber": "555-2311"
                                },
                                {
                                    "CustomerID": "1027",
                                    "CustFirstName": "Luke",
                                    "CustLastName": "Patterson",
                                    "CustStreetAddress": "877 145th Ave SE",
                                    "CustCity": "Portland",
                                    "CustState": "OR",
                                    "CustZipCode": "97208",
                                    "CustAreaCode": "503",
                                    "CustPhoneNumber": "555-2316"
                                },
                                {
                                    "CustomerID": "1028",
                                    "CustFirstName": "Jeffrey",
                                    "CustLastName": "Tirekicker",
                                    "CustStreetAddress": "19541 104th Ave NE",
                                    "CustCity": "Bothell",
                                    "CustState": "WA",
                                    "CustZipCode": "98006",
                                    "CustAreaCode": "425",
                                    "CustPhoneNumber": "555-9999"
                                }
                            ]
                        },
                        "text/html": "<table><tr><th>CustomerID</th><th>CustFirstName</th><th>CustLastName</th><th>CustStreetAddress</th><th>CustCity</th><th>CustState</th><th>CustZipCode</th><th>CustAreaCode</th><th>CustPhoneNumber</th></tr><tr><td>1029</td><td>Jack</td><td>Rutherford</td><td>108 E 14th St</td><td>Holland</td><td>MI</td><td>49423</td><td>NULL</td><td>NULL</td></tr><tr><td>1030</td><td>Dr</td><td>McFall</td><td>27 Graves Place</td><td>Holland</td><td>MI</td><td>49423</td><td>NULL</td><td>NULL</td></tr><tr><td>1001</td><td>Suzanne</td><td>Viescas</td><td>15127 NE 24th, #383</td><td>Redmond</td><td>WA</td><td>98052</td><td>425</td><td>555-2686</td></tr><tr><td>1002</td><td>William</td><td>Thompson</td><td>122 Spring River Drive</td><td>Duvall</td><td>WA</td><td>98019</td><td>425</td><td>555-2681</td></tr><tr><td>1003</td><td>Gary</td><td>Hallmark</td><td>Route 2, Box 203B</td><td>Auburn</td><td>WA</td><td>98002</td><td>253</td><td>555-2676</td></tr><tr><td>1004</td><td>Robert</td><td>Brown</td><td>672 Lamont Ave</td><td>Houston</td><td>TX</td><td>77201</td><td>713</td><td>555-2491</td></tr><tr><td>1005</td><td>Dean</td><td>McCrae</td><td>4110 Old Redmond Rd.</td><td>Redmond</td><td>WA</td><td>98052</td><td>425</td><td>555-2506</td></tr><tr><td>1006</td><td>John</td><td>Viescas</td><td>15127 NE 24th, #383</td><td>Redmond</td><td>WA</td><td>98052</td><td>425</td><td>555-2511</td></tr><tr><td>1007</td><td>Mariya</td><td>Sergienko</td><td>901 Pine Avenue</td><td>Portland</td><td>OR</td><td>97208</td><td>503</td><td>555-2526</td></tr><tr><td>1008</td><td>Neil</td><td>Patterson</td><td>233 West Valley Hwy</td><td>San Diego</td><td>CA</td><td>92199</td><td>619</td><td>555-2541</td></tr><tr><td>1009</td><td>Andrew</td><td>Cencini</td><td>507 - 20th Ave. E.\r\nApt. 2A</td><td>Seattle</td><td>WA</td><td>98105</td><td>206</td><td>555-2601</td></tr><tr><td>1010</td><td>Angel</td><td>Kennedy</td><td>667 Red River Road</td><td>Austin</td><td>TX</td><td>78710</td><td>512</td><td>555-2571</td></tr><tr><td>1011</td><td>Alaina</td><td>Hallmark</td><td>Route 2, Box 203B</td><td>Woodinville</td><td>WA</td><td>98072</td><td>425</td><td>555-2631</td></tr><tr><td>1012</td><td>Liz</td><td>Keyser</td><td>13920 S.E. 40th Street</td><td>Bellevue</td><td>WA</td><td>98006</td><td>425</td><td>555-2556</td></tr><tr><td>1013</td><td>Rachel</td><td>Patterson</td><td>2114 Longview Lane</td><td>San Diego</td><td>CA</td><td>92199</td><td>619</td><td>555-2546</td></tr><tr><td>1014</td><td>Sam</td><td>Abolrous</td><td>611 Alpine Drive</td><td>Palm Springs</td><td>CA</td><td>92263</td><td>760</td><td>555-2611</td></tr><tr><td>1015</td><td>Darren</td><td>Gehring</td><td>2601 Seaview Lane</td><td>Chico</td><td>CA</td><td>95926</td><td>530</td><td>555-2616</td></tr><tr><td>1016</td><td>Jim</td><td>Wilson</td><td>101 NE 88th</td><td>Salem</td><td>OR</td><td>97301</td><td>503</td><td>555-2636</td></tr><tr><td>1017</td><td>Manuela</td><td>Seidel</td><td>66 Spring Valley Drive</td><td>Medford</td><td>OR</td><td>97501</td><td>541</td><td>555-2641</td></tr><tr><td>1018</td><td>David</td><td>Smith</td><td>311 20th Ave. N.E.</td><td>Fremont</td><td>CA</td><td>94538</td><td>510</td><td>555-2646</td></tr><tr><td>1019</td><td>Zachary</td><td>Ehrlich</td><td>12330 Kingman Drive</td><td>Glendale</td><td>CA</td><td>91209</td><td>818</td><td>555-2721</td></tr><tr><td>1020</td><td>Joyce</td><td>Bonnicksen</td><td>2424 Thames Drive</td><td>Bellevue</td><td>WA</td><td>98006</td><td>425</td><td>555-2726</td></tr><tr><td>1021</td><td>Estella</td><td>Pundt</td><td>2500 Rosales Lane</td><td>Dallas</td><td>TX</td><td>75260</td><td>972</td><td>555-9938</td></tr><tr><td>1022</td><td>Caleb</td><td>Viescas</td><td>4501 Wetland Road</td><td>Long Beach</td><td>CA</td><td>90809</td><td>562</td><td>555-0037</td></tr><tr><td>1023</td><td>Julia</td><td>Schnebly</td><td>2343 Harmony Lane</td><td>Seattle</td><td>WA</td><td>99837</td><td>206</td><td>555-9936</td></tr><tr><td>1024</td><td>Mark</td><td>Rosales</td><td>323 Advocate Lane</td><td>El Paso</td><td>TX</td><td>79915</td><td>915</td><td>555-2286</td></tr><tr><td>1025</td><td>Maria</td><td>Patterson</td><td>3445 Cheyenne Road</td><td>El Paso</td><td>TX</td><td>79915</td><td>915</td><td>555-2291</td></tr><tr><td>1026</td><td>Kirk</td><td>DeGrasse</td><td>455 West Palm Ave</td><td>San Antonio</td><td>TX</td><td>78284</td><td>210</td><td>555-2311</td></tr><tr><td>1027</td><td>Luke</td><td>Patterson</td><td>877 145th Ave SE</td><td>Portland</td><td>OR</td><td>97208</td><td>503</td><td>555-2316</td></tr><tr><td>1028</td><td>Jeffrey</td><td>Tirekicker</td><td>19541 104th Ave NE</td><td>Bothell</td><td>WA</td><td>98006</td><td>425</td><td>555-9999</td></tr></table>"
                    },
                    "metadata": {}
                }
            ],
            "execution_count": 2
        },
        {
            "cell_type": "markdown",
            "source": [
                "**Q3.** Write a **single** SQL statement in the cell below that finds the `Employee` who placed the **fewest** and the **most** orders in the `SalesOrdersExample.OrdersHW` table.  \n",
                "\n",
                "Hint: create a CTE to count the orders by `Employee`, then use subqueries to help find the `Employee` with the fewest/most orders."
            ],
            "metadata": {
                "azdata_cell_guid": "73735c8c-09d6-48b8-a5a0-1f8cb4892b4e"
            },
            "attachments": {}
        },
        {
            "cell_type": "code",
            "source": [
                "use [jack.rutherford];\r\n",
                "WITH EmployeeCounts AS(\r\n",
                "    SELECT EmployeeID,COUNT(EmployeeID) [Number of Orders] FROM SalesOrdersExample.OrdersHW Ord\r\n",
                "    GROUP BY EmployeeID\r\n",
                "),\r\n",
                "BottomEployee AS(\r\n",
                "    SELECT TOP 1 EmployeeID, [Number of Orders]\r\n",
                "    FROM EmployeeCounts\r\n",
                "    ORDER BY [Number of Orders] DESC\r\n",
                "),\r\n",
                "TopEmployee AS(\r\n",
                "    SELECT TOP 1 EmployeeID, [Number of Orders]\r\n",
                "    FROM EmployeeCounts\r\n",
                "    ORDER BY [Number of Orders] ASC\r\n",
                ")\r\n",
                "SELECT * FROM TopEmployee\r\n",
                "UNION ALL\r\n",
                "SELECT * FROM BottomEployee\r\n",
                "ORDER BY [Number of Orders] DESC\r\n",
                ""
            ],
            "metadata": {
                "azdata_cell_guid": "ee8c4779-9ec1-48a5-b610-3d91552daa8a",
                "language": "sql"
            },
            "outputs": [
                {
                    "output_type": "display_data",
                    "data": {
                        "text/html": "(2 rows affected)"
                    },
                    "metadata": {}
                },
                {
                    "output_type": "display_data",
                    "data": {
                        "text/html": "Total execution time: 00:00:00.052"
                    },
                    "metadata": {}
                },
                {
                    "output_type": "execute_result",
                    "execution_count": 3,
                    "data": {
                        "application/vnd.dataresource+json": {
                            "schema": {
                                "fields": [
                                    {
                                        "name": "EmployeeID"
                                    },
                                    {
                                        "name": "Number of Orders"
                                    }
                                ]
                            },
                            "data": [
                                {
                                    "EmployeeID": "707",
                                    "Number of Orders": "140"
                                },
                                {
                                    "EmployeeID": "703",
                                    "Number of Orders": "105"
                                }
                            ]
                        },
                        "text/html": "<table><tr><th>EmployeeID</th><th>Number of Orders</th></tr><tr><td>707</td><td>140</td></tr><tr><td>703</td><td>105</td></tr></table>"
                    },
                    "metadata": {}
                }
            ],
            "execution_count": 3
        },
        {
            "cell_type": "markdown",
            "source": [
                "**Q4.**  Write two `INSERT` statements in the cell below that insert 2 orders placed on November 1, 2023 and November 3, 2023 into `SalesOrdersExample.OrdersHW` for **you.**\n",
                "\n",
                "The first order should be placed by the `Employee` who has placed the **fewest** orders, and the second order should be placed by the `Employee` who has placed the **most** orders.\n",
                "\n",
                "For these two statements, insert the results of a `SELECT` statement that adds 1 to the largest existing value for the `OrderNumber` column in the `SalesOrdersExample.OrdersHW` table, combined with several literal values.\n",
                "\n",
                "After the `INSERT` statements, write a `SELECT` statement that shows `Orders` that have been placed by you."
            ],
            "metadata": {
                "azdata_cell_guid": "8c3265af-20fc-4ea0-bcf4-7aba6561cf9d"
            },
            "attachments": {}
        },
        {
            "cell_type": "code",
            "source": [
                "use [jack.rutherford];\r\n",
                "--Insert an order placed by the employee with the fewest orders (EmployeeID 703)\r\n",
                "INSERT INTO SalesOrdersExample.OrdersHW (OrderNumber, OrderDate, EmployeeID, CustomerID)\r\n",
                "SELECT MAX(OrderNumber) + 1, '2023-11-01', 703, 1029\r\n",
                "FROM SalesOrdersExample.OrdersHW;\r\n",
                "\r\n",
                "-- Insert an order placed by the employee with the most orders (EmployeeID 707)\r\n",
                "INSERT INTO SalesOrdersExample.OrdersHW (OrderNumber, OrderDate, EmployeeID, CustomerID)\r\n",
                "SELECT MAX(OrderNumber) + 1, '2023-11-03', 707, 1029\r\n",
                "FROM SalesOrdersExample.OrdersHW;\r\n",
                "\r\n",
                "SELECT TOP 2 * FROM SalesOrdersExample.OrdersHW\r\n",
                "ORDER BY OrderNumber DESC"
            ],
            "metadata": {
                "azdata_cell_guid": "04ccd021-4471-4754-9cb6-ff9504f6eed3",
                "tags": [],
                "language": "sql"
            },
            "outputs": [
                {
                    "output_type": "display_data",
                    "data": {
                        "text/html": "(1 row affected)"
                    },
                    "metadata": {}
                },
                {
                    "output_type": "display_data",
                    "data": {
                        "text/html": "(1 row affected)"
                    },
                    "metadata": {}
                },
                {
                    "output_type": "display_data",
                    "data": {
                        "text/html": "(2 rows affected)"
                    },
                    "metadata": {}
                },
                {
                    "output_type": "display_data",
                    "data": {
                        "text/html": "Total execution time: 00:00:00.108"
                    },
                    "metadata": {}
                },
                {
                    "output_type": "execute_result",
                    "execution_count": 4,
                    "data": {
                        "application/vnd.dataresource+json": {
                            "schema": {
                                "fields": [
                                    {
                                        "name": "OrderNumber"
                                    },
                                    {
                                        "name": "OrderDate"
                                    },
                                    {
                                        "name": "ShipDate"
                                    },
                                    {
                                        "name": "CustomerID"
                                    },
                                    {
                                        "name": "EmployeeID"
                                    }
                                ]
                            },
                            "data": [
                                {
                                    "OrderNumber": "946",
                                    "OrderDate": "2023-11-03",
                                    "ShipDate": "NULL",
                                    "CustomerID": "1029",
                                    "EmployeeID": "707"
                                },
                                {
                                    "OrderNumber": "945",
                                    "OrderDate": "2023-11-01",
                                    "ShipDate": "NULL",
                                    "CustomerID": "1029",
                                    "EmployeeID": "703"
                                }
                            ]
                        },
                        "text/html": "<table><tr><th>OrderNumber</th><th>OrderDate</th><th>ShipDate</th><th>CustomerID</th><th>EmployeeID</th></tr><tr><td>946</td><td>2023-11-03</td><td>NULL</td><td>1029</td><td>707</td></tr><tr><td>945</td><td>2023-11-01</td><td>NULL</td><td>1029</td><td>703</td></tr></table>"
                    },
                    "metadata": {}
                }
            ],
            "execution_count": 4
        },
        {
            "cell_type": "markdown",
            "source": [
                "**Q5.**  Write two `INSERT` statements to add to `SalesOrdersExample.Order_DetailsHW` for the product _Trek 9000 Mountain Bike_ for both of the orders generated above.  You can \"hard code\" the `OrderNumbers`, but should `SELECT` the `ProductNumber` from the `Products` table.  Each order should be for 1 bike, and the product's `RetailPrice` should be used as the `QuotedPrice`.\n",
                "\n",
                "As before, add a `SELECT` statement that shows the two rows that have been inserted at the end of the cell."
            ],
            "metadata": {
                "azdata_cell_guid": "ac87f09c-1cb2-4f49-ac35-520a84ead64d"
            },
            "attachments": {}
        },
        {
            "cell_type": "code",
            "source": [
                "use [jack.rutherford];\r\n",
                "\r\n",
                "INSERT INTO SalesOrdersExample.Order_DetailsHW (OrderNumber, ProductNumber, QuotedPrice, QuantityOrdered)\r\n",
                "SELECT 945, ProductNumber, RetailPrice, 1\r\n",
                "FROM SalesOrdersExample.ProductsHW\r\n",
                "WHERE ProductName = 'Trek 9000 Mountain Bike';\r\n",
                "\r\n",
                "INSERT INTO SalesOrdersExample.Order_DetailsHW (OrderNumber, ProductNumber, QuotedPrice, QuantityOrdered)\r\n",
                "SELECT 946, ProductNumber, RetailPrice, 1\r\n",
                "FROM SalesOrdersExample.ProductsHW\r\n",
                "WHERE ProductName = 'Trek 9000 Mountain Bike';\r\n",
                "\r\n",
                "SELECT TOP 2 * FROM SalesOrdersExample.Order_DetailsHW\r\n",
                "ORDER BY OrderNumber DESC\r\n",
                ""
            ],
            "metadata": {
                "azdata_cell_guid": "5d825ad9-737b-4c3d-9d57-c41f4a28e5df",
                "language": "sql"
            },
            "outputs": [
                {
                    "output_type": "display_data",
                    "data": {
                        "text/html": "(1 row affected)"
                    },
                    "metadata": {}
                },
                {
                    "output_type": "display_data",
                    "data": {
                        "text/html": "(1 row affected)"
                    },
                    "metadata": {}
                },
                {
                    "output_type": "display_data",
                    "data": {
                        "text/html": "(2 rows affected)"
                    },
                    "metadata": {}
                },
                {
                    "output_type": "display_data",
                    "data": {
                        "text/html": "Total execution time: 00:00:00.109"
                    },
                    "metadata": {}
                },
                {
                    "output_type": "execute_result",
                    "execution_count": 5,
                    "data": {
                        "application/vnd.dataresource+json": {
                            "schema": {
                                "fields": [
                                    {
                                        "name": "OrderNumber"
                                    },
                                    {
                                        "name": "ProductNumber"
                                    },
                                    {
                                        "name": "QuotedPrice"
                                    },
                                    {
                                        "name": "QuantityOrdered"
                                    }
                                ]
                            },
                            "data": [
                                {
                                    "OrderNumber": "946",
                                    "ProductNumber": "1",
                                    "QuotedPrice": "1200.00",
                                    "QuantityOrdered": "1"
                                },
                                {
                                    "OrderNumber": "945",
                                    "ProductNumber": "1",
                                    "QuotedPrice": "1200.00",
                                    "QuantityOrdered": "1"
                                }
                            ]
                        },
                        "text/html": "<table><tr><th>OrderNumber</th><th>ProductNumber</th><th>QuotedPrice</th><th>QuantityOrdered</th></tr><tr><td>946</td><td>1</td><td>1200.00</td><td>1</td></tr><tr><td>945</td><td>1</td><td>1200.00</td><td>1</td></tr></table>"
                    },
                    "metadata": {}
                }
            ],
            "execution_count": 5
        },
        {
            "cell_type": "markdown",
            "source": [
                "**Q6.**  Write an `UPDATE` statement that changes the `QuantityOrdered` to **10** and reduces the `QuotedPrice` by **10%** for the 2nd order.  Use a computation in the `UPDATE` statement's `SET` clause to compute the new `QuotedPrice` value, rather than hard-coding it.\n",
                "\n",
                "Add a `SELECT` statement that shows the updated row after the `UPDATE` statement."
            ],
            "metadata": {
                "azdata_cell_guid": "c093f0ff-365e-4c83-ae8e-7701d11d7474"
            },
            "attachments": {}
        },
        {
            "cell_type": "code",
            "source": [
                "use [jack.rutherford];\r\n",
                "UPDATE SalesOrdersExample.Order_DetailsHW\r\n",
                "SET QuantityOrdered = 10, QuotedPrice *= 0.9\r\n",
                "WHERE OrderNumber = 946;\r\n",
                "\r\n",
                "SELECT TOP 1 * FROM SalesOrdersExample.Order_DetailsHW\r\n",
                "ORDER BY OrderNumber DESC"
            ],
            "metadata": {
                "azdata_cell_guid": "4aaae52e-e51a-437f-925b-8a1400a9acb2",
                "language": "sql"
            },
            "outputs": [
                {
                    "output_type": "display_data",
                    "data": {
                        "text/html": "(1 row affected)"
                    },
                    "metadata": {}
                },
                {
                    "output_type": "display_data",
                    "data": {
                        "text/html": "(1 row affected)"
                    },
                    "metadata": {}
                },
                {
                    "output_type": "display_data",
                    "data": {
                        "text/html": "Total execution time: 00:00:00.114"
                    },
                    "metadata": {}
                },
                {
                    "output_type": "execute_result",
                    "execution_count": 6,
                    "data": {
                        "application/vnd.dataresource+json": {
                            "schema": {
                                "fields": [
                                    {
                                        "name": "OrderNumber"
                                    },
                                    {
                                        "name": "ProductNumber"
                                    },
                                    {
                                        "name": "QuotedPrice"
                                    },
                                    {
                                        "name": "QuantityOrdered"
                                    }
                                ]
                            },
                            "data": [
                                {
                                    "OrderNumber": "946",
                                    "ProductNumber": "1",
                                    "QuotedPrice": "1080.00",
                                    "QuantityOrdered": "10"
                                }
                            ]
                        },
                        "text/html": "<table><tr><th>OrderNumber</th><th>ProductNumber</th><th>QuotedPrice</th><th>QuantityOrdered</th></tr><tr><td>946</td><td>1</td><td>1080.00</td><td>10</td></tr></table>"
                    },
                    "metadata": {}
                }
            ],
            "execution_count": 6
        },
        {
            "cell_type": "markdown",
            "source": [
                "**Q7.**  Write two more `INSERT` statements to add 1 _Viscount Microshell Helmet_ to the first order, and 2 of the _Ultra-Pro Rain Jacket_ to the second order. The value for the `QuotedPrice` should be `NULL`.\n",
                "\n",
                "After the `INSERTS`, write a `SELCT` statement that displays the `OrderNumber`, `OrderDate`, `ProductNumber`, `ProductName`, `QuantityOrdered`, `RetailPrice`, and `QuotedPrice` of all the products for the two orders.  Sort them by `OrderNumber`, followed by `QuantityOrdered`."
            ],
            "metadata": {
                "azdata_cell_guid": "b4656120-836e-432a-ba3b-e665409e3161"
            },
            "attachments": {}
        },
        {
            "cell_type": "code",
            "source": [
                "use [jack.rutherford];\r\n",
                "INSERT INTO SalesOrdersExample.Order_DetailsHW (OrderNumber, ProductNumber, QuantityOrdered)\r\n",
                "SELECT 945, ProductNumber, 1\r\n",
                "FROM SalesOrdersExample.ProductsHW\r\n",
                "WHERE ProductName = 'Viscount Microshell Helmet';\r\n",
                "\r\n",
                "INSERT INTO SalesOrdersExample.Order_DetailsHW (OrderNumber, ProductNumber, QuantityOrdered)\r\n",
                "SELECT 946, ProductNumber, 2\r\n",
                "FROM SalesOrdersExample.ProductsHW\r\n",
                "WHERE ProductName = 'Ultra-Pro Rain Jacket';\r\n",
                "\r\n",
                "SELECT * FROM SalesOrdersExample.Order_DetailsHW ODHW\r\n",
                "JOIN SalesOrdersExample.ProductsHW PHW ON ODHW.ProductNumber = PHW.ProductNumber\r\n",
                "WHERE OrderNumber = 946\r\n",
                "OR OrderNumber = 945"
            ],
            "metadata": {
                "azdata_cell_guid": "6411fc67-4c7c-4ba6-aebe-602976fb267f",
                "language": "sql"
            },
            "outputs": [
                {
                    "output_type": "display_data",
                    "data": {
                        "text/html": "(1 row affected)"
                    },
                    "metadata": {}
                },
                {
                    "output_type": "display_data",
                    "data": {
                        "text/html": "(1 row affected)"
                    },
                    "metadata": {}
                },
                {
                    "output_type": "display_data",
                    "data": {
                        "text/html": "(4 rows affected)"
                    },
                    "metadata": {}
                },
                {
                    "output_type": "display_data",
                    "data": {
                        "text/html": "Total execution time: 00:00:00.067"
                    },
                    "metadata": {}
                },
                {
                    "output_type": "execute_result",
                    "execution_count": 7,
                    "data": {
                        "application/vnd.dataresource+json": {
                            "schema": {
                                "fields": [
                                    {
                                        "name": "OrderNumber"
                                    },
                                    {
                                        "name": "ProductNumber"
                                    },
                                    {
                                        "name": "QuotedPrice"
                                    },
                                    {
                                        "name": "QuantityOrdered"
                                    },
                                    {
                                        "name": "ProductNumber"
                                    },
                                    {
                                        "name": "ProductName"
                                    },
                                    {
                                        "name": "ProductDescription"
                                    },
                                    {
                                        "name": "RetailPrice"
                                    },
                                    {
                                        "name": "QuantityOnHand"
                                    },
                                    {
                                        "name": "CategoryID"
                                    }
                                ]
                            },
                            "data": [
                                {
                                    "OrderNumber": "945",
                                    "ProductNumber": "1",
                                    "QuotedPrice": "1200.00",
                                    "QuantityOrdered": "1",
                                    "ProductName": "Trek 9000 Mountain Bike",
                                    "ProductDescription": "NULL",
                                    "RetailPrice": "1200.00",
                                    "QuantityOnHand": "6",
                                    "CategoryID": "2"
                                },
                                {
                                    "OrderNumber": "946",
                                    "ProductNumber": "1",
                                    "QuotedPrice": "1080.00",
                                    "QuantityOrdered": "10",
                                    "ProductName": "Trek 9000 Mountain Bike",
                                    "ProductDescription": "NULL",
                                    "RetailPrice": "1200.00",
                                    "QuantityOnHand": "6",
                                    "CategoryID": "2"
                                },
                                {
                                    "OrderNumber": "945",
                                    "ProductNumber": "10",
                                    "QuotedPrice": "NULL",
                                    "QuantityOrdered": "1",
                                    "ProductName": "Viscount Microshell Helmet",
                                    "ProductDescription": "NULL",
                                    "RetailPrice": "36.00",
                                    "QuantityOnHand": "20",
                                    "CategoryID": "1"
                                },
                                {
                                    "OrderNumber": "946",
                                    "ProductNumber": "23",
                                    "QuotedPrice": "NULL",
                                    "QuantityOrdered": "2",
                                    "ProductName": "Ultra-Pro Rain Jacket",
                                    "ProductDescription": "NULL",
                                    "RetailPrice": "85.00",
                                    "QuantityOnHand": "30",
                                    "CategoryID": "3"
                                }
                            ]
                        },
                        "text/html": "<table><tr><th>OrderNumber</th><th>ProductNumber</th><th>QuotedPrice</th><th>QuantityOrdered</th><th>ProductNumber</th><th>ProductName</th><th>ProductDescription</th><th>RetailPrice</th><th>QuantityOnHand</th><th>CategoryID</th></tr><tr><td>945</td><td>1</td><td>1200.00</td><td>1</td><td>1</td><td>Trek 9000 Mountain Bike</td><td>NULL</td><td>1200.00</td><td>6</td><td>2</td></tr><tr><td>946</td><td>1</td><td>1080.00</td><td>10</td><td>1</td><td>Trek 9000 Mountain Bike</td><td>NULL</td><td>1200.00</td><td>6</td><td>2</td></tr><tr><td>945</td><td>10</td><td>NULL</td><td>1</td><td>10</td><td>Viscount Microshell Helmet</td><td>NULL</td><td>36.00</td><td>20</td><td>1</td></tr><tr><td>946</td><td>23</td><td>NULL</td><td>2</td><td>23</td><td>Ultra-Pro Rain Jacket</td><td>NULL</td><td>85.00</td><td>30</td><td>3</td></tr></table>"
                    },
                    "metadata": {}
                }
            ],
            "execution_count": 7
        },
        {
            "cell_type": "markdown",
            "source": [
                "**Q8.**  Write a series of statements in the cell below that create 2 orders for Dr. McFall, both placed on 10-31 of the current year by the employee who has placed the most orders.  \n",
                "\n",
                "The first order should contain 1 each of the products _Trek 9000 Mountain Bike_ and _GT RTS-2 Mountain Bike_.  The second should contain 5 of the product _Nikoma Lok-Tight U-Lock_.\n",
                "\n",
                "Write a `SELECT` statement like you wrote in the cell above that shows the details of this order."
            ],
            "metadata": {
                "azdata_cell_guid": "0bcf6bb5-2d6c-4d56-b5ef-f7e9be6b4672"
            },
            "attachments": {}
        },
        {
            "cell_type": "code",
            "source": [
                "use [jack.rutherford];\r\n",
                "\r\n",
                "-- Order 1 Product 1: \r\n",
                "INSERT INTO SalesOrdersExample.OrdersHW (OrderNumber, OrderDate, EmployeeID, CustomerID)\r\n",
                "SELECT 947, '2023-11-07', 707, (SELECT CustomerID FROM SalesOrdersExample.CustomersHW WHERE CustFirstName = 'Dr' AND CustLastName = 'McFall');\r\n",
                "\r\n",
                "INSERT INTO SalesOrdersExample.Order_DetailsHW (OrderNumber, ProductNumber, QuotedPrice, QuantityOrdered)\r\n",
                "SELECT 947, PHW.ProductNumber, NULL, 1\r\n",
                "FROM SalesOrdersExample.ProductsHW PHW\r\n",
                "WHERE ProductName = 'Trek 9000 Mountain Bike';\r\n",
                "\r\n",
                "INSERT INTO SalesOrdersExample.Order_DetailsHW (OrderNumber, ProductNumber, QuotedPrice, QuantityOrdered)\r\n",
                "SELECT 947, PHW.ProductNumber, NULL, 1\r\n",
                "FROM SalesOrdersExample.ProductsHW PHW\r\n",
                "WHERE ProductName = 'GT RTS-2 Mountain Bike';\r\n",
                "\r\n",
                "-- Order 2: Nikoma Lok-Tight U-Lock\r\n",
                "\r\n",
                "INSERT INTO SalesOrdersExample.OrdersHW (OrderNumber, OrderDate, EmployeeID, CustomerID)\r\n",
                "SELECT 948, '2023-11-07', 707, (SELECT CustomerID FROM SalesOrdersExample.CustomersHW WHERE CustFirstName = 'Dr' AND CustLastName = 'McFall');\r\n",
                "\r\n",
                "INSERT INTO SalesOrdersExample.Order_DetailsHW (OrderNumber, ProductNumber, QuotedPrice, QuantityOrdered)\r\n",
                "SELECT 948, PHW.ProductNumber, NULL, 5\r\n",
                "FROM SalesOrdersExample.ProductsHW PHW\r\n",
                "WHERE ProductName = 'Nikoma Lok-Tight U-Lock';\r\n",
                "\r\n",
                "SELECT TOP 3 * FROM SalesOrdersExample.OrdersHW OHW\r\n",
                "JOIN SalesOrdersExample.Order_DetailsHW ODHW ON OHW.OrderNumber = ODHW.OrderNumber\r\n",
                "ORDER BY OHW.OrderNumber DESC\r\n",
                ""
            ],
            "metadata": {
                "azdata_cell_guid": "057ff31e-7063-4d74-93a1-71bc14a6a6b0",
                "language": "sql",
                "tags": []
            },
            "outputs": [
                {
                    "output_type": "display_data",
                    "data": {
                        "text/html": "(1 row affected)"
                    },
                    "metadata": {}
                },
                {
                    "output_type": "display_data",
                    "data": {
                        "text/html": "(1 row affected)"
                    },
                    "metadata": {}
                },
                {
                    "output_type": "display_data",
                    "data": {
                        "text/html": "(1 row affected)"
                    },
                    "metadata": {}
                },
                {
                    "output_type": "display_data",
                    "data": {
                        "text/html": "(1 row affected)"
                    },
                    "metadata": {}
                },
                {
                    "output_type": "display_data",
                    "data": {
                        "text/html": "(1 row affected)"
                    },
                    "metadata": {}
                },
                {
                    "output_type": "display_data",
                    "data": {
                        "text/html": "(3 rows affected)"
                    },
                    "metadata": {}
                },
                {
                    "output_type": "display_data",
                    "data": {
                        "text/html": "Total execution time: 00:00:00.088"
                    },
                    "metadata": {}
                },
                {
                    "output_type": "execute_result",
                    "execution_count": 8,
                    "data": {
                        "application/vnd.dataresource+json": {
                            "schema": {
                                "fields": [
                                    {
                                        "name": "OrderNumber"
                                    },
                                    {
                                        "name": "OrderDate"
                                    },
                                    {
                                        "name": "ShipDate"
                                    },
                                    {
                                        "name": "CustomerID"
                                    },
                                    {
                                        "name": "EmployeeID"
                                    },
                                    {
                                        "name": "OrderNumber"
                                    },
                                    {
                                        "name": "ProductNumber"
                                    },
                                    {
                                        "name": "QuotedPrice"
                                    },
                                    {
                                        "name": "QuantityOrdered"
                                    }
                                ]
                            },
                            "data": [
                                {
                                    "OrderNumber": "948",
                                    "OrderDate": "2023-11-07",
                                    "ShipDate": "NULL",
                                    "CustomerID": "1030",
                                    "EmployeeID": "707",
                                    "ProductNumber": "9",
                                    "QuotedPrice": "NULL",
                                    "QuantityOrdered": "5"
                                },
                                {
                                    "OrderNumber": "947",
                                    "OrderDate": "2023-11-07",
                                    "ShipDate": "NULL",
                                    "CustomerID": "1030",
                                    "EmployeeID": "707",
                                    "ProductNumber": "1",
                                    "QuotedPrice": "NULL",
                                    "QuantityOrdered": "1"
                                },
                                {
                                    "OrderNumber": "947",
                                    "OrderDate": "2023-11-07",
                                    "ShipDate": "NULL",
                                    "CustomerID": "1030",
                                    "EmployeeID": "707",
                                    "ProductNumber": "11",
                                    "QuotedPrice": "NULL",
                                    "QuantityOrdered": "1"
                                }
                            ]
                        },
                        "text/html": "<table><tr><th>OrderNumber</th><th>OrderDate</th><th>ShipDate</th><th>CustomerID</th><th>EmployeeID</th><th>OrderNumber</th><th>ProductNumber</th><th>QuotedPrice</th><th>QuantityOrdered</th></tr><tr><td>948</td><td>2023-11-07</td><td>NULL</td><td>1030</td><td>707</td><td>948</td><td>9</td><td>NULL</td><td>5</td></tr><tr><td>947</td><td>2023-11-07</td><td>NULL</td><td>1030</td><td>707</td><td>947</td><td>1</td><td>NULL</td><td>1</td></tr><tr><td>947</td><td>2023-11-07</td><td>NULL</td><td>1030</td><td>707</td><td>947</td><td>11</td><td>NULL</td><td>1</td></tr></table>"
                    },
                    "metadata": {}
                }
            ],
            "execution_count": 8
        },
        {
            "cell_type": "markdown",
            "source": [
                "## Part 2 - Queries involving  the Trek 9000 Mountain Bike\n",
                "\n",
                "For these queries, use the `CustomersHW`, `OrdersHW`, and `Order_DetailsHW` tables whenever orders and customers are involved in the questions."
            ],
            "metadata": {
                "azdata_cell_guid": "d3eb4577-aa71-4657-9408-d72fe2df1f6c"
            },
            "attachments": {}
        },
        {
            "cell_type": "markdown",
            "source": [
                "**Q9.** <span style=\"color: var(--vscode-foreground);\"> Write a statement in the cell below that lists the first and last names of every customer who has ordered the&nbsp;</span> _Trek 9000 Mountain Bike_ <span style=\"color: var(--vscode-foreground);\">&nbsp;at least once.&nbsp; Show the list in alphabetical order.</span>  \n",
                "\n",
                "(25 rows)"
            ],
            "metadata": {
                "azdata_cell_guid": "a916e7ef-be72-4089-a508-7cd994ff25dd"
            },
            "attachments": {}
        },
        {
            "cell_type": "code",
            "source": [
                "use [jack.rutherford];\r\n",
                "SELECT CHW.CustomerID, CHW.CustFirstName, CHW.CustLastName  \r\n",
                "FROM SalesOrdersExample.CustomersHW CHW\r\n",
                "    JOIN SalesOrdersExample.OrdersHW OHW ON CHW.CustomerID = OHW.CustomerID\r\n",
                "    JOIN SalesOrdersExample.Order_DetailsHW ODHW on ODHW.OrderNumber = OHW.OrderNumber\r\n",
                "    JOIN SalesOrdersExample.ProductsHW PHW ON PHW.ProductNumber = ODHW.ProductNumber\r\n",
                "WHERE ProductName = 'Trek 9000 Mountain Bike'\r\n",
                "GROUP BY CHW.CustomerID, CustLastName, CustFirstName\r\n",
                "ORDER BY CustLastName, CustFirstName ASC"
            ],
            "metadata": {
                "azdata_cell_guid": "586aad17-184b-4f53-a79d-7e8bb91b1202",
                "tags": [],
                "language": "sql"
            },
            "outputs": [
                {
                    "output_type": "display_data",
                    "data": {
                        "text/html": "(25 rows affected)"
                    },
                    "metadata": {}
                },
                {
                    "output_type": "display_data",
                    "data": {
                        "text/html": "Total execution time: 00:00:00.090"
                    },
                    "metadata": {}
                },
                {
                    "output_type": "execute_result",
                    "execution_count": 9,
                    "data": {
                        "application/vnd.dataresource+json": {
                            "schema": {
                                "fields": [
                                    {
                                        "name": "CustomerID"
                                    },
                                    {
                                        "name": "CustFirstName"
                                    },
                                    {
                                        "name": "CustLastName"
                                    }
                                ]
                            },
                            "data": [
                                {
                                    "CustomerID": "1014",
                                    "CustFirstName": "Sam",
                                    "CustLastName": "Abolrous"
                                },
                                {
                                    "CustomerID": "1020",
                                    "CustFirstName": "Joyce",
                                    "CustLastName": "Bonnicksen"
                                },
                                {
                                    "CustomerID": "1004",
                                    "CustFirstName": "Robert",
                                    "CustLastName": "Brown"
                                },
                                {
                                    "CustomerID": "1009",
                                    "CustFirstName": "Andrew",
                                    "CustLastName": "Cencini"
                                },
                                {
                                    "CustomerID": "1026",
                                    "CustFirstName": "Kirk",
                                    "CustLastName": "DeGrasse"
                                },
                                {
                                    "CustomerID": "1019",
                                    "CustFirstName": "Zachary",
                                    "CustLastName": "Ehrlich"
                                },
                                {
                                    "CustomerID": "1011",
                                    "CustFirstName": "Alaina",
                                    "CustLastName": "Hallmark"
                                },
                                {
                                    "CustomerID": "1010",
                                    "CustFirstName": "Angel",
                                    "CustLastName": "Kennedy"
                                },
                                {
                                    "CustomerID": "1012",
                                    "CustFirstName": "Liz",
                                    "CustLastName": "Keyser"
                                },
                                {
                                    "CustomerID": "1005",
                                    "CustFirstName": "Dean",
                                    "CustLastName": "McCrae"
                                },
                                {
                                    "CustomerID": "1030",
                                    "CustFirstName": "Dr",
                                    "CustLastName": "McFall"
                                },
                                {
                                    "CustomerID": "1027",
                                    "CustFirstName": "Luke",
                                    "CustLastName": "Patterson"
                                },
                                {
                                    "CustomerID": "1025",
                                    "CustFirstName": "Maria",
                                    "CustLastName": "Patterson"
                                },
                                {
                                    "CustomerID": "1008",
                                    "CustFirstName": "Neil",
                                    "CustLastName": "Patterson"
                                },
                                {
                                    "CustomerID": "1013",
                                    "CustFirstName": "Rachel",
                                    "CustLastName": "Patterson"
                                },
                                {
                                    "CustomerID": "1021",
                                    "CustFirstName": "Estella",
                                    "CustLastName": "Pundt"
                                },
                                {
                                    "CustomerID": "1024",
                                    "CustFirstName": "Mark",
                                    "CustLastName": "Rosales"
                                },
                                {
                                    "CustomerID": "1029",
                                    "CustFirstName": "Jack",
                                    "CustLastName": "Rutherford"
                                },
                                {
                                    "CustomerID": "1023",
                                    "CustFirstName": "Julia",
                                    "CustLastName": "Schnebly"
                                },
                                {
                                    "CustomerID": "1017",
                                    "CustFirstName": "Manuela",
                                    "CustLastName": "Seidel"
                                },
                                {
                                    "CustomerID": "1007",
                                    "CustFirstName": "Mariya",
                                    "CustLastName": "Sergienko"
                                },
                                {
                                    "CustomerID": "1018",
                                    "CustFirstName": "David",
                                    "CustLastName": "Smith"
                                },
                                {
                                    "CustomerID": "1002",
                                    "CustFirstName": "William",
                                    "CustLastName": "Thompson"
                                },
                                {
                                    "CustomerID": "1006",
                                    "CustFirstName": "John",
                                    "CustLastName": "Viescas"
                                },
                                {
                                    "CustomerID": "1016",
                                    "CustFirstName": "Jim",
                                    "CustLastName": "Wilson"
                                }
                            ]
                        },
                        "text/html": "<table><tr><th>CustomerID</th><th>CustFirstName</th><th>CustLastName</th></tr><tr><td>1014</td><td>Sam</td><td>Abolrous</td></tr><tr><td>1020</td><td>Joyce</td><td>Bonnicksen</td></tr><tr><td>1004</td><td>Robert</td><td>Brown</td></tr><tr><td>1009</td><td>Andrew</td><td>Cencini</td></tr><tr><td>1026</td><td>Kirk</td><td>DeGrasse</td></tr><tr><td>1019</td><td>Zachary</td><td>Ehrlich</td></tr><tr><td>1011</td><td>Alaina</td><td>Hallmark</td></tr><tr><td>1010</td><td>Angel</td><td>Kennedy</td></tr><tr><td>1012</td><td>Liz</td><td>Keyser</td></tr><tr><td>1005</td><td>Dean</td><td>McCrae</td></tr><tr><td>1030</td><td>Dr</td><td>McFall</td></tr><tr><td>1027</td><td>Luke</td><td>Patterson</td></tr><tr><td>1025</td><td>Maria</td><td>Patterson</td></tr><tr><td>1008</td><td>Neil</td><td>Patterson</td></tr><tr><td>1013</td><td>Rachel</td><td>Patterson</td></tr><tr><td>1021</td><td>Estella</td><td>Pundt</td></tr><tr><td>1024</td><td>Mark</td><td>Rosales</td></tr><tr><td>1029</td><td>Jack</td><td>Rutherford</td></tr><tr><td>1023</td><td>Julia</td><td>Schnebly</td></tr><tr><td>1017</td><td>Manuela</td><td>Seidel</td></tr><tr><td>1007</td><td>Mariya</td><td>Sergienko</td></tr><tr><td>1018</td><td>David</td><td>Smith</td></tr><tr><td>1002</td><td>William</td><td>Thompson</td></tr><tr><td>1006</td><td>John</td><td>Viescas</td></tr><tr><td>1016</td><td>Jim</td><td>Wilson</td></tr></table>"
                    },
                    "metadata": {}
                }
            ],
            "execution_count": 9
        },
        {
            "cell_type": "markdown",
            "source": [
                "**Q10.** Repeat the query above, but only include customers who have ordered the _Trek 9000 Mountain Bike_ on **multiple orders**.\n",
                "\n",
                "(24 rows)"
            ],
            "metadata": {
                "azdata_cell_guid": "327928d9-01ae-43c2-9a59-af97461a54ca"
            },
            "attachments": {}
        },
        {
            "cell_type": "code",
            "source": [
                "use [jack.rutherford];\r\n",
                "SELECT CustFirstName, CustLastName\r\n",
                "FROM SalesOrdersExample.CustomersHW CHW\r\n",
                "JOIN SalesOrdersExample.OrdersHW OHW ON CHW.CustomerID = OHW.CustomerID\r\n",
                "JOIN SalesOrdersExample.Order_DetailsHW ODHW ON ODHW.OrderNumber = OHW.OrderNumber\r\n",
                "JOIN SalesOrdersExample.ProductsHW PHW ON PHW.ProductNumber = ODHW.ProductNumber\r\n",
                "WHERE ProductName = 'Trek 9000 Mountain Bike'\r\n",
                "GROUP BY CustFirstName, CustLastName\r\n",
                "HAVING COUNT(DISTINCT OHW.OrderNumber) > 1\r\n",
                "ORDER BY CustLastName, CustFirstName ASC;\r\n",
                ""
            ],
            "metadata": {
                "azdata_cell_guid": "18df50d5-d45f-492f-8a88-be61026dae7a",
                "language": "sql"
            },
            "outputs": [
                {
                    "output_type": "display_data",
                    "data": {
                        "text/html": "(24 rows affected)"
                    },
                    "metadata": {}
                },
                {
                    "output_type": "display_data",
                    "data": {
                        "text/html": "Total execution time: 00:00:00.115"
                    },
                    "metadata": {}
                },
                {
                    "output_type": "execute_result",
                    "execution_count": 10,
                    "data": {
                        "application/vnd.dataresource+json": {
                            "schema": {
                                "fields": [
                                    {
                                        "name": "CustFirstName"
                                    },
                                    {
                                        "name": "CustLastName"
                                    }
                                ]
                            },
                            "data": [
                                {
                                    "CustFirstName": "Sam",
                                    "CustLastName": "Abolrous"
                                },
                                {
                                    "CustFirstName": "Joyce",
                                    "CustLastName": "Bonnicksen"
                                },
                                {
                                    "CustFirstName": "Robert",
                                    "CustLastName": "Brown"
                                },
                                {
                                    "CustFirstName": "Andrew",
                                    "CustLastName": "Cencini"
                                },
                                {
                                    "CustFirstName": "Kirk",
                                    "CustLastName": "DeGrasse"
                                },
                                {
                                    "CustFirstName": "Zachary",
                                    "CustLastName": "Ehrlich"
                                },
                                {
                                    "CustFirstName": "Alaina",
                                    "CustLastName": "Hallmark"
                                },
                                {
                                    "CustFirstName": "Angel",
                                    "CustLastName": "Kennedy"
                                },
                                {
                                    "CustFirstName": "Liz",
                                    "CustLastName": "Keyser"
                                },
                                {
                                    "CustFirstName": "Dean",
                                    "CustLastName": "McCrae"
                                },
                                {
                                    "CustFirstName": "Luke",
                                    "CustLastName": "Patterson"
                                },
                                {
                                    "CustFirstName": "Maria",
                                    "CustLastName": "Patterson"
                                },
                                {
                                    "CustFirstName": "Neil",
                                    "CustLastName": "Patterson"
                                },
                                {
                                    "CustFirstName": "Rachel",
                                    "CustLastName": "Patterson"
                                },
                                {
                                    "CustFirstName": "Estella",
                                    "CustLastName": "Pundt"
                                },
                                {
                                    "CustFirstName": "Mark",
                                    "CustLastName": "Rosales"
                                },
                                {
                                    "CustFirstName": "Jack",
                                    "CustLastName": "Rutherford"
                                },
                                {
                                    "CustFirstName": "Julia",
                                    "CustLastName": "Schnebly"
                                },
                                {
                                    "CustFirstName": "Manuela",
                                    "CustLastName": "Seidel"
                                },
                                {
                                    "CustFirstName": "Mariya",
                                    "CustLastName": "Sergienko"
                                },
                                {
                                    "CustFirstName": "David",
                                    "CustLastName": "Smith"
                                },
                                {
                                    "CustFirstName": "William",
                                    "CustLastName": "Thompson"
                                },
                                {
                                    "CustFirstName": "John",
                                    "CustLastName": "Viescas"
                                },
                                {
                                    "CustFirstName": "Jim",
                                    "CustLastName": "Wilson"
                                }
                            ]
                        },
                        "text/html": "<table><tr><th>CustFirstName</th><th>CustLastName</th></tr><tr><td>Sam</td><td>Abolrous</td></tr><tr><td>Joyce</td><td>Bonnicksen</td></tr><tr><td>Robert</td><td>Brown</td></tr><tr><td>Andrew</td><td>Cencini</td></tr><tr><td>Kirk</td><td>DeGrasse</td></tr><tr><td>Zachary</td><td>Ehrlich</td></tr><tr><td>Alaina</td><td>Hallmark</td></tr><tr><td>Angel</td><td>Kennedy</td></tr><tr><td>Liz</td><td>Keyser</td></tr><tr><td>Dean</td><td>McCrae</td></tr><tr><td>Luke</td><td>Patterson</td></tr><tr><td>Maria</td><td>Patterson</td></tr><tr><td>Neil</td><td>Patterson</td></tr><tr><td>Rachel</td><td>Patterson</td></tr><tr><td>Estella</td><td>Pundt</td></tr><tr><td>Mark</td><td>Rosales</td></tr><tr><td>Jack</td><td>Rutherford</td></tr><tr><td>Julia</td><td>Schnebly</td></tr><tr><td>Manuela</td><td>Seidel</td></tr><tr><td>Mariya</td><td>Sergienko</td></tr><tr><td>David</td><td>Smith</td></tr><tr><td>William</td><td>Thompson</td></tr><tr><td>John</td><td>Viescas</td></tr><tr><td>Jim</td><td>Wilson</td></tr></table>"
                    },
                    "metadata": {}
                }
            ],
            "execution_count": 10
        },
        {
            "cell_type": "markdown",
            "source": [
                "**Q11.**  Find customers for whom **every order** they have placed includes the _Trek 9000 Mountain Bike_.  The customers returned should have placed at least one order.  Hint: there shouldn't be any orders placed by the customer that don't include the _Trek 9000 Mountain Bike_.\n",
                "\n",
                "(1 row, should be for you)"
            ],
            "metadata": {
                "azdata_cell_guid": "bff24a8d-6bbb-4b88-88bd-da012da90584"
            },
            "attachments": {}
        },
        {
            "cell_type": "code",
            "source": [
                "use [jack.rutherford];\r\n",
                "WITH OrderCounts AS(\r\n",
                "    SELECT CustomerID, COUNT(OrderNumber) AS OrderCount\r\n",
                "    FROM SalesOrdersExample.OrdersHW\r\n",
                "    GROUP BY CustomerID\r\n",
                "),\r\n",
                "BikeCountForCust AS(\r\n",
                "    SELECT chw.CustomerID, COUNT(phw.ProductNumber) as [ProductCount]\r\n",
                "    FROM SalesOrdersExample.ProductsHW phw\r\n",
                "    JOIN SalesOrdersExample.Order_DetailsHW odhw on odhw.ProductNumber = phw.ProductNumber\r\n",
                "    JOIN SalesOrdersExample.OrdersHW ohw on ohw.OrderNumber = odhw.OrderNumber\r\n",
                "    JOIN SalesOrdersExample.CustomersHW chw on chw.CustomerID = ohw.CustomerID\r\n",
                "    WHERE ProductName = 'Trek 9000 Mountain Bike'\r\n",
                "    Group By chw.CustomerID\r\n",
                "),\r\n",
                "OrderBikeCount AS(\r\n",
                "    SELECT BikeCountForCust.CustomerID, OrderCount, ProductCount FROM OrderCounts\r\n",
                "    JOIN BikeCountForCust ON BikeCountForCust.CustomerID = OrderCounts.CustomerID\r\n",
                ")\r\n",
                "Select OrderBikeCount.CustomerID, CustFirstName, CustLastName from OrderBikeCount\r\n",
                "JOIN SalesOrdersExample.CustomersHW chw on OrderBikeCount.CustomerID = chw.CustomerID\r\n",
                "where OrderCount = ProductCount"
            ],
            "metadata": {
                "azdata_cell_guid": "db311960-3449-4336-b4cb-66784b6dcff4",
                "language": "sql",
                "tags": []
            },
            "outputs": [
                {
                    "output_type": "display_data",
                    "data": {
                        "text/html": "(1 row affected)"
                    },
                    "metadata": {}
                },
                {
                    "output_type": "display_data",
                    "data": {
                        "text/html": "Total execution time: 00:00:00.039"
                    },
                    "metadata": {}
                },
                {
                    "output_type": "execute_result",
                    "metadata": {},
                    "execution_count": 17,
                    "data": {
                        "application/vnd.dataresource+json": {
                            "schema": {
                                "fields": [
                                    {
                                        "name": "CustomerID"
                                    },
                                    {
                                        "name": "CustFirstName"
                                    },
                                    {
                                        "name": "CustLastName"
                                    }
                                ]
                            },
                            "data": [
                                {
                                    "CustomerID": "1029",
                                    "CustFirstName": "Jack",
                                    "CustLastName": "Rutherford"
                                }
                            ]
                        },
                        "text/html": [
                            "<table>",
                            "<tr><th>CustomerID</th><th>CustFirstName</th><th>CustLastName</th></tr>",
                            "<tr><td>1029</td><td>Jack</td><td>Rutherford</td></tr>",
                            "</table>"
                        ]
                    }
                }
            ],
            "execution_count": 17
        },
        {
            "cell_type": "markdown",
            "source": [
                "## Part 3 - Other queries\n",
                "\n",
                "Use the \"regular\" `Orders`, `Customers`, and `Order_Details` tables for these questions."
            ],
            "metadata": {
                "azdata_cell_guid": "6557812a-e92d-4925-8d1d-65e030fb7ac9"
            },
            "attachments": {}
        },
        {
            "cell_type": "markdown",
            "source": [
                "**Q12.** For **every** customer, show the `OrderNumber` and `OrderDate` for each order placed by the customer containing the product _Dog Ear Helmet Mount Mirrors_.  Sort the results by customer last name, followed by order date.\n",
                "\n",
                "(40 rows)"
            ],
            "metadata": {
                "azdata_cell_guid": "b3754711-bd44-4700-8b01-9ae4b3f8d09f"
            },
            "attachments": {}
        },
        {
            "cell_type": "code",
            "source": [
                "USE [SalesOrdersExample];\r\n",
                "\r\n",
                "WITH DogEarMirror AS (\r\n",
                "    SELECT CustomerID, O.OrderNumber, OrderDate\r\n",
                "    FROM Orders as O\r\n",
                "    JOIN Order_Details as OD on O.OrderNumber = OD.OrderNumber\r\n",
                "    JOIN Products as P ON OD.ProductNumber = P.ProductNumber\r\n",
                "    where P.ProductName = 'Dog Ear Helmet Mount Mirrors'\r\n",
                ")\r\n",
                "\r\n",
                "SELECT CustLastName, OrderNumber, OrderDate\r\n",
                "FROM Customers AS Cust\r\n",
                "LEFT JOIN DogEarMirror AS Dem on Cust.CustomerID = Dem.CustomerID\r\n",
                "ORDER BY CustLastName, OrderDate;\r\n",
                ""
            ],
            "metadata": {
                "azdata_cell_guid": "4b643628-42a0-4051-ae07-5364955b24fe",
                "language": "sql"
            },
            "outputs": [],
            "execution_count": null
        },
        {
            "cell_type": "markdown",
            "source": [
                "**Q13.**  List the names of every customer who has placed at least one order but who has **never** placed an order for a product containing the word _helmet_.\n",
                "\n",
                "(2 rows)"
            ],
            "metadata": {
                "azdata_cell_guid": "392b4ffc-3c28-4c27-a048-c5aa645275ac"
            },
            "attachments": {}
        },
        {
            "cell_type": "code",
            "source": [
                "USE [SalesOrdersExample];\r\n",
                "\r\n",
                "WITH CustomersWithHelmetOrders AS (\r\n",
                "    SELECT DISTINCT c.CustomerID\r\n",
                "    FROM Customers c\r\n",
                "    JOIN Orders o ON c.CustomerID = o.CustomerID\r\n",
                "    JOIN Order_Details od ON o.OrderNumber = od.OrderNumber\r\n",
                "    JOIN Products p ON od.ProductNumber = p.ProductNumber\r\n",
                "    WHERE p.ProductName LIKE '%helmet%'\r\n",
                ")\r\n",
                "\r\n",
                "SELECT DISTINCT c.CustomerID, c.CustFirstName, c.CustLastName\r\n",
                "FROM Customers c\r\n",
                "LEFT JOIN CustomersWithHelmetOrders h ON c.CustomerID = h.CustomerID\r\n",
                "JOIN Orders o ON c.CustomerID = o.CustomerID\r\n",
                "JOIN Order_Details od ON o.OrderNumber = od.OrderNumber\r\n",
                "JOIN Products p ON od.ProductNumber = p.ProductNumber\r\n",
                "WHERE h.CustomerID IS NULL;\r\n",
                "\r\n",
                ""
            ],
            "metadata": {
                "azdata_cell_guid": "57ab1c46-2b86-48c8-bc50-f9266faae301",
                "language": "sql"
            },
            "outputs": [],
            "execution_count": null
        },
        {
            "cell_type": "markdown",
            "source": [
                "**Q14.** For each of the months in 2018 in which orders exist, show the date and number of orders for the day during the month in which the most orders were placed.  The results should look like this:\n",
                "\n",
                "| Month | Day | NumberOfOrders |\n",
                "| --- | --- | --- |\n",
                "| January | 8 | 10 |\n",
                "| February | 1 | 10 |\n",
                "| March | 1 | 9 |\n",
                "\n",
                "Use the `MonthNames` table created as in the first part of the assignment, along with the `month` function, to help you get the names of the months."
            ],
            "metadata": {
                "azdata_cell_guid": "9c8c0414-f4c6-46a8-8ddd-73ed0de4ef1c"
            },
            "attachments": {}
        },
        {
            "cell_type": "code",
            "source": [
                "use [SalesOrdersExample];\r\n",
                ""
            ],
            "metadata": {
                "azdata_cell_guid": "35ec22e1-00f2-432c-90a2-764ac6615426",
                "language": "sql"
            },
            "outputs": [],
            "execution_count": null
        },
        {
            "cell_type": "markdown",
            "source": [
                "## Handing it in\n",
                "\n",
                "Click the \"eraser\" icon in the top right corner of the ADS window to clear the results from all cells in your notebook. Then go to Moodle and upload the notebook using the **SQL** **Homework 2** assignment in the \"Assignments\" section of the site."
            ],
            "metadata": {
                "language": "sql",
                "azdata_cell_guid": "acc85787-6d78-4a7d-b2ed-4e8f91944007"
            },
            "attachments": {}
        }
    ]
}