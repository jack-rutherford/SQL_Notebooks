{
    "metadata": {
        "kernelspec": {
            "name": "SQL",
            "display_name": "SQL",
            "language": "sql"
        },
        "language_info": {
            "name": "sql",
            "version": ""
        }
    },
    "nbformat_minor": 2,
    "nbformat": 4,
    "cells": [
        {
            "cell_type": "markdown",
            "source": [
                "#  Example 1  \n",
                "\n",
                "For every customer, show the number of orders they have placed for a product whose named contains _helmet_. Name the column containing the product count `Number of Helmet Orders`. For those customers who have never placed such an order, display a value of 0."
            ],
            "metadata": {
                "azdata_cell_guid": "6b81d41a-0cc9-4c5d-8434-25e9ad949932"
            },
            "attachments": {}
        },
        {
            "cell_type": "markdown",
            "source": [
                "**Method 1**:  Without an outer join"
            ],
            "metadata": {
                "azdata_cell_guid": "c114f004-ab1c-4fed-b6e0-81022dec2ccc"
            },
            "attachments": {}
        },
        {
            "cell_type": "code",
            "source": [
                "use SalesOrdersExample;\r\n",
                "\r\n",
                "--  Strategy:  \r\n",
                "--  Find orders containing helmets and count them up by customer\r\n",
                "--  UNION\r\n",
                "--  Find customers who don't have any orders containing helmets using a NOT EXISTS subquery  (could do EXCEPT, but requires CustomerID column to be 100% correct)\r\n",
                "select CustFirstName, CustLastName, count (distinct Orders.OrderNumber) as 'Number of Helmet Orders'\r\n",
                "from Orders\r\n",
                "join Order_Details\r\n",
                "  on Orders.OrderNumber = Order_Details.OrderNumber\r\n",
                "join Products\r\n",
                "  on Products.ProductNumber = Order_Details.ProductNumber\r\n",
                "join Customers\r\n",
                "  on Customers.CustomerID = Orders.CustomerID\r\n",
                "where ProductName like '%Helmet%'\r\n",
                "group by Customers.CustomerID, CustFirstName, CustLastName\r\n",
                "UNION\r\n",
                "select CustFirstName, CustLastName, 0\r\n",
                "from Customers\r\n",
                "where not exists (\r\n",
                "  select *\r\n",
                "  from Orders\r\n",
                "  join Order_Details\r\n",
                "  on Orders.OrderNumber = Order_Details.OrderNumber\r\n",
                "  join Products\r\n",
                "  on Products.ProductNumber = Order_Details.ProductNumber\r\n",
                "   where Customers.CustomerID = Orders.CustomerID\r\n",
                "   and ProductName like '%helmet%'\r\n",
                ")\r\n",
                ""
            ],
            "metadata": {
                "azdata_cell_guid": "1ce8d248-8c15-4eea-aa9e-ede99c59838c",
                "language": "sql",
                "tags": []
            },
            "outputs": [
                {
                    "output_type": "display_data",
                    "data": {
                        "text/html": "(28 rows affected)"
                    },
                    "metadata": {}
                },
                {
                    "output_type": "display_data",
                    "data": {
                        "text/html": "Total execution time: 00:00:00.102"
                    },
                    "metadata": {}
                },
                {
                    "output_type": "execute_result",
                    "execution_count": 1,
                    "data": {
                        "application/vnd.dataresource+json": {
                            "schema": {
                                "fields": [
                                    {
                                        "name": "CustFirstName"
                                    },
                                    {
                                        "name": "CustLastName"
                                    },
                                    {
                                        "name": "Number of Helmet Orders"
                                    }
                                ]
                            },
                            "data": [
                                {
                                    "CustFirstName": "Alaina",
                                    "CustLastName": "Hallmark",
                                    "Number of Helmet Orders": "0"
                                },
                                {
                                    "CustFirstName": "Andrew",
                                    "CustLastName": "Cencini",
                                    "Number of Helmet Orders": "11"
                                },
                                {
                                    "CustFirstName": "Angel",
                                    "CustLastName": "Kennedy",
                                    "Number of Helmet Orders": "12"
                                },
                                {
                                    "CustFirstName": "Caleb",
                                    "CustLastName": "Viescas",
                                    "Number of Helmet Orders": "8"
                                },
                                {
                                    "CustFirstName": "Darren",
                                    "CustLastName": "Gehring",
                                    "Number of Helmet Orders": "10"
                                },
                                {
                                    "CustFirstName": "David",
                                    "CustLastName": "Smith",
                                    "Number of Helmet Orders": "8"
                                },
                                {
                                    "CustFirstName": "Dean",
                                    "CustLastName": "McCrae",
                                    "Number of Helmet Orders": "21"
                                },
                                {
                                    "CustFirstName": "Estella",
                                    "CustLastName": "Pundt",
                                    "Number of Helmet Orders": "15"
                                },
                                {
                                    "CustFirstName": "Gary",
                                    "CustLastName": "Hallmark",
                                    "Number of Helmet Orders": "8"
                                },
                                {
                                    "CustFirstName": "Jeffrey",
                                    "CustLastName": "Tirekicker",
                                    "Number of Helmet Orders": "0"
                                },
                                {
                                    "CustFirstName": "Jim",
                                    "CustLastName": "Wilson",
                                    "Number of Helmet Orders": "9"
                                },
                                {
                                    "CustFirstName": "John",
                                    "CustLastName": "Viescas",
                                    "Number of Helmet Orders": "8"
                                },
                                {
                                    "CustFirstName": "Joyce",
                                    "CustLastName": "Bonnicksen",
                                    "Number of Helmet Orders": "11"
                                },
                                {
                                    "CustFirstName": "Julia",
                                    "CustLastName": "Schnebly",
                                    "Number of Helmet Orders": "0"
                                },
                                {
                                    "CustFirstName": "Kirk",
                                    "CustLastName": "DeGrasse",
                                    "Number of Helmet Orders": "5"
                                },
                                {
                                    "CustFirstName": "Liz",
                                    "CustLastName": "Keyser",
                                    "Number of Helmet Orders": "13"
                                },
                                {
                                    "CustFirstName": "Luke",
                                    "CustLastName": "Patterson",
                                    "Number of Helmet Orders": "10"
                                },
                                {
                                    "CustFirstName": "Manuela",
                                    "CustLastName": "Seidel",
                                    "Number of Helmet Orders": "12"
                                },
                                {
                                    "CustFirstName": "Maria",
                                    "CustLastName": "Patterson",
                                    "Number of Helmet Orders": "9"
                                },
                                {
                                    "CustFirstName": "Mariya",
                                    "CustLastName": "Sergienko",
                                    "Number of Helmet Orders": "12"
                                },
                                {
                                    "CustFirstName": "Mark",
                                    "CustLastName": "Rosales",
                                    "Number of Helmet Orders": "11"
                                },
                                {
                                    "CustFirstName": "Neil",
                                    "CustLastName": "Patterson",
                                    "Number of Helmet Orders": "13"
                                },
                                {
                                    "CustFirstName": "Rachel",
                                    "CustLastName": "Patterson",
                                    "Number of Helmet Orders": "17"
                                },
                                {
                                    "CustFirstName": "Robert",
                                    "CustLastName": "Brown",
                                    "Number of Helmet Orders": "15"
                                },
                                {
                                    "CustFirstName": "Sam",
                                    "CustLastName": "Abolrous",
                                    "Number of Helmet Orders": "9"
                                },
                                {
                                    "CustFirstName": "Suzanne",
                                    "CustLastName": "Viescas",
                                    "Number of Helmet Orders": "12"
                                },
                                {
                                    "CustFirstName": "William",
                                    "CustLastName": "Thompson",
                                    "Number of Helmet Orders": "13"
                                },
                                {
                                    "CustFirstName": "Zachary",
                                    "CustLastName": "Ehrlich",
                                    "Number of Helmet Orders": "9"
                                }
                            ]
                        },
                        "text/html": "<table><tr><th>CustFirstName</th><th>CustLastName</th><th>Number of Helmet Orders</th></tr><tr><td>Alaina</td><td>Hallmark</td><td>0</td></tr><tr><td>Andrew</td><td>Cencini</td><td>11</td></tr><tr><td>Angel</td><td>Kennedy</td><td>12</td></tr><tr><td>Caleb</td><td>Viescas</td><td>8</td></tr><tr><td>Darren</td><td>Gehring</td><td>10</td></tr><tr><td>David</td><td>Smith</td><td>8</td></tr><tr><td>Dean</td><td>McCrae</td><td>21</td></tr><tr><td>Estella</td><td>Pundt</td><td>15</td></tr><tr><td>Gary</td><td>Hallmark</td><td>8</td></tr><tr><td>Jeffrey</td><td>Tirekicker</td><td>0</td></tr><tr><td>Jim</td><td>Wilson</td><td>9</td></tr><tr><td>John</td><td>Viescas</td><td>8</td></tr><tr><td>Joyce</td><td>Bonnicksen</td><td>11</td></tr><tr><td>Julia</td><td>Schnebly</td><td>0</td></tr><tr><td>Kirk</td><td>DeGrasse</td><td>5</td></tr><tr><td>Liz</td><td>Keyser</td><td>13</td></tr><tr><td>Luke</td><td>Patterson</td><td>10</td></tr><tr><td>Manuela</td><td>Seidel</td><td>12</td></tr><tr><td>Maria</td><td>Patterson</td><td>9</td></tr><tr><td>Mariya</td><td>Sergienko</td><td>12</td></tr><tr><td>Mark</td><td>Rosales</td><td>11</td></tr><tr><td>Neil</td><td>Patterson</td><td>13</td></tr><tr><td>Rachel</td><td>Patterson</td><td>17</td></tr><tr><td>Robert</td><td>Brown</td><td>15</td></tr><tr><td>Sam</td><td>Abolrous</td><td>9</td></tr><tr><td>Suzanne</td><td>Viescas</td><td>12</td></tr><tr><td>William</td><td>Thompson</td><td>13</td></tr><tr><td>Zachary</td><td>Ehrlich</td><td>9</td></tr></table>"
                    },
                    "metadata": {}
                }
            ],
            "execution_count": 1
        },
        {
            "cell_type": "markdown",
            "source": [
                "Repeat the above method but sort by the number of orders of helmets.   You can only have an `ORDER BY` clause on the final query in a `UNION` query.  It applies to the results **as a whole**."
            ],
            "metadata": {
                "language": "sql",
                "azdata_cell_guid": "5ab6b27a-ee7a-4fa2-b0ff-89acf9d22ad7"
            },
            "attachments": {}
        },
        {
            "cell_type": "code",
            "source": [
                "use SalesOrdersExample;\r\n",
                "\r\n",
                "--  Strategy:  \r\n",
                "--  Find orders containing helmets and count them up by customer\r\n",
                "--  UNION\r\n",
                "--  Find customers who don't have any orders containing helmets using a NOT EXISTS subquery  (could do EXCEPT, but requires CustomerID column to be 100% correct)\r\n",
                "select CustFirstName, CustLastName, count (distinct Orders.OrderNumber) as 'Number of Helmet Orders'\r\n",
                "from Orders\r\n",
                "join Order_Details\r\n",
                "  on Orders.OrderNumber = Order_Details.OrderNumber\r\n",
                "join Products\r\n",
                "  on Products.ProductNumber = Order_Details.ProductNumber\r\n",
                "join Customers\r\n",
                "  on Customers.CustomerID = Orders.CustomerID\r\n",
                "where ProductName like '%Helmet%'\r\n",
                "group by Customers.CustomerID, CustFirstName, CustLastName\r\n",
                "UNION\r\n",
                "select CustFirstName, CustLastName, 0\r\n",
                "from Customers\r\n",
                "where not exists (\r\n",
                "  select *\r\n",
                "  from Orders\r\n",
                "  join Order_Details\r\n",
                "  on Orders.OrderNumber = Order_Details.OrderNumber\r\n",
                "  join Products\r\n",
                "  on Products.ProductNumber = Order_Details.ProductNumber\r\n",
                "   where Customers.CustomerID = Orders.CustomerID\r\n",
                "   and ProductName like '%helmet%'\r\n",
                ")\r\n",
                "order by [Number of Helmet Orders] desc"
            ],
            "metadata": {
                "language": "sql",
                "azdata_cell_guid": "bc91530d-309f-4f7d-876e-6d78895461ca"
            },
            "outputs": [
                {
                    "output_type": "display_data",
                    "data": {
                        "text/html": "(28 rows affected)"
                    },
                    "metadata": {}
                },
                {
                    "output_type": "display_data",
                    "data": {
                        "text/html": "Total execution time: 00:00:00.064"
                    },
                    "metadata": {}
                },
                {
                    "output_type": "execute_result",
                    "execution_count": 2,
                    "data": {
                        "application/vnd.dataresource+json": {
                            "schema": {
                                "fields": [
                                    {
                                        "name": "CustFirstName"
                                    },
                                    {
                                        "name": "CustLastName"
                                    },
                                    {
                                        "name": "Number of Helmet Orders"
                                    }
                                ]
                            },
                            "data": [
                                {
                                    "CustFirstName": "Dean",
                                    "CustLastName": "McCrae",
                                    "Number of Helmet Orders": "21"
                                },
                                {
                                    "CustFirstName": "Rachel",
                                    "CustLastName": "Patterson",
                                    "Number of Helmet Orders": "17"
                                },
                                {
                                    "CustFirstName": "Estella",
                                    "CustLastName": "Pundt",
                                    "Number of Helmet Orders": "15"
                                },
                                {
                                    "CustFirstName": "Robert",
                                    "CustLastName": "Brown",
                                    "Number of Helmet Orders": "15"
                                },
                                {
                                    "CustFirstName": "Liz",
                                    "CustLastName": "Keyser",
                                    "Number of Helmet Orders": "13"
                                },
                                {
                                    "CustFirstName": "Neil",
                                    "CustLastName": "Patterson",
                                    "Number of Helmet Orders": "13"
                                },
                                {
                                    "CustFirstName": "William",
                                    "CustLastName": "Thompson",
                                    "Number of Helmet Orders": "13"
                                },
                                {
                                    "CustFirstName": "Angel",
                                    "CustLastName": "Kennedy",
                                    "Number of Helmet Orders": "12"
                                },
                                {
                                    "CustFirstName": "Manuela",
                                    "CustLastName": "Seidel",
                                    "Number of Helmet Orders": "12"
                                },
                                {
                                    "CustFirstName": "Mariya",
                                    "CustLastName": "Sergienko",
                                    "Number of Helmet Orders": "12"
                                },
                                {
                                    "CustFirstName": "Suzanne",
                                    "CustLastName": "Viescas",
                                    "Number of Helmet Orders": "12"
                                },
                                {
                                    "CustFirstName": "Andrew",
                                    "CustLastName": "Cencini",
                                    "Number of Helmet Orders": "11"
                                },
                                {
                                    "CustFirstName": "Joyce",
                                    "CustLastName": "Bonnicksen",
                                    "Number of Helmet Orders": "11"
                                },
                                {
                                    "CustFirstName": "Mark",
                                    "CustLastName": "Rosales",
                                    "Number of Helmet Orders": "11"
                                },
                                {
                                    "CustFirstName": "Darren",
                                    "CustLastName": "Gehring",
                                    "Number of Helmet Orders": "10"
                                },
                                {
                                    "CustFirstName": "Luke",
                                    "CustLastName": "Patterson",
                                    "Number of Helmet Orders": "10"
                                },
                                {
                                    "CustFirstName": "Jim",
                                    "CustLastName": "Wilson",
                                    "Number of Helmet Orders": "9"
                                },
                                {
                                    "CustFirstName": "Maria",
                                    "CustLastName": "Patterson",
                                    "Number of Helmet Orders": "9"
                                },
                                {
                                    "CustFirstName": "Sam",
                                    "CustLastName": "Abolrous",
                                    "Number of Helmet Orders": "9"
                                },
                                {
                                    "CustFirstName": "Zachary",
                                    "CustLastName": "Ehrlich",
                                    "Number of Helmet Orders": "9"
                                },
                                {
                                    "CustFirstName": "Caleb",
                                    "CustLastName": "Viescas",
                                    "Number of Helmet Orders": "8"
                                },
                                {
                                    "CustFirstName": "David",
                                    "CustLastName": "Smith",
                                    "Number of Helmet Orders": "8"
                                },
                                {
                                    "CustFirstName": "Gary",
                                    "CustLastName": "Hallmark",
                                    "Number of Helmet Orders": "8"
                                },
                                {
                                    "CustFirstName": "John",
                                    "CustLastName": "Viescas",
                                    "Number of Helmet Orders": "8"
                                },
                                {
                                    "CustFirstName": "Kirk",
                                    "CustLastName": "DeGrasse",
                                    "Number of Helmet Orders": "5"
                                },
                                {
                                    "CustFirstName": "Alaina",
                                    "CustLastName": "Hallmark",
                                    "Number of Helmet Orders": "0"
                                },
                                {
                                    "CustFirstName": "Jeffrey",
                                    "CustLastName": "Tirekicker",
                                    "Number of Helmet Orders": "0"
                                },
                                {
                                    "CustFirstName": "Julia",
                                    "CustLastName": "Schnebly",
                                    "Number of Helmet Orders": "0"
                                }
                            ]
                        },
                        "text/html": "<table><tr><th>CustFirstName</th><th>CustLastName</th><th>Number of Helmet Orders</th></tr><tr><td>Dean</td><td>McCrae</td><td>21</td></tr><tr><td>Rachel</td><td>Patterson</td><td>17</td></tr><tr><td>Estella</td><td>Pundt</td><td>15</td></tr><tr><td>Robert</td><td>Brown</td><td>15</td></tr><tr><td>Liz</td><td>Keyser</td><td>13</td></tr><tr><td>Neil</td><td>Patterson</td><td>13</td></tr><tr><td>William</td><td>Thompson</td><td>13</td></tr><tr><td>Angel</td><td>Kennedy</td><td>12</td></tr><tr><td>Manuela</td><td>Seidel</td><td>12</td></tr><tr><td>Mariya</td><td>Sergienko</td><td>12</td></tr><tr><td>Suzanne</td><td>Viescas</td><td>12</td></tr><tr><td>Andrew</td><td>Cencini</td><td>11</td></tr><tr><td>Joyce</td><td>Bonnicksen</td><td>11</td></tr><tr><td>Mark</td><td>Rosales</td><td>11</td></tr><tr><td>Darren</td><td>Gehring</td><td>10</td></tr><tr><td>Luke</td><td>Patterson</td><td>10</td></tr><tr><td>Jim</td><td>Wilson</td><td>9</td></tr><tr><td>Maria</td><td>Patterson</td><td>9</td></tr><tr><td>Sam</td><td>Abolrous</td><td>9</td></tr><tr><td>Zachary</td><td>Ehrlich</td><td>9</td></tr><tr><td>Caleb</td><td>Viescas</td><td>8</td></tr><tr><td>David</td><td>Smith</td><td>8</td></tr><tr><td>Gary</td><td>Hallmark</td><td>8</td></tr><tr><td>John</td><td>Viescas</td><td>8</td></tr><tr><td>Kirk</td><td>DeGrasse</td><td>5</td></tr><tr><td>Alaina</td><td>Hallmark</td><td>0</td></tr><tr><td>Jeffrey</td><td>Tirekicker</td><td>0</td></tr><tr><td>Julia</td><td>Schnebly</td><td>0</td></tr></table>"
                    },
                    "metadata": {}
                }
            ],
            "execution_count": 2
        },
        {
            "cell_type": "code",
            "source": [
                "use SalesOrdersExample\r\n",
                "-- Quick check to make sure the above is right\r\n",
                "select count(*) from Customers"
            ],
            "metadata": {
                "azdata_cell_guid": "02fee915-15af-4f03-9230-1a17c213dbb6",
                "language": "sql"
            },
            "outputs": [
                {
                    "output_type": "display_data",
                    "data": {
                        "text/html": "(1 row affected)"
                    },
                    "metadata": {}
                },
                {
                    "output_type": "display_data",
                    "data": {
                        "text/html": "Total execution time: 00:00:00.009"
                    },
                    "metadata": {}
                },
                {
                    "output_type": "execute_result",
                    "execution_count": 3,
                    "data": {
                        "application/vnd.dataresource+json": {
                            "schema": {
                                "fields": [
                                    {
                                        "name": "(No column name)"
                                    }
                                ]
                            },
                            "data": [
                                {
                                    "(No column name)": "28"
                                }
                            ]
                        },
                        "text/html": "<table><tr><th>(No column name)</th></tr><tr><td>28</td></tr></table>"
                    },
                    "metadata": {}
                }
            ],
            "execution_count": 3
        },
        {
            "cell_type": "markdown",
            "source": [
                "Now try it using an outer join the \"straightforward\" way."
            ],
            "metadata": {
                "language": "sql",
                "azdata_cell_guid": "73b222a6-ad26-471a-ae28-897520c41008"
            },
            "attachments": {}
        },
        {
            "cell_type": "code",
            "source": [
                "use [SalesOrdersExample];\r\n",
                "\r\n",
                "select CustFirstName, CustLastName, count (distinct Orders.OrderNumber) as 'Number of Helmet Orders'\r\n",
                "from Orders\r\n",
                "join Order_Details\r\n",
                "  on Orders.OrderNumber = Order_Details.OrderNumber\r\n",
                "join Products\r\n",
                "  on Products.ProductNumber = Order_Details.ProductNumber\r\n",
                "right join Customers\r\n",
                "  on Orders.CustomerID = Customers.CustomerID\r\n",
                "where ProductName like '%Helmet%'\r\n",
                "group by Customers.CustomerID, CustFirstName, CustLastName\r\n",
                "order by [Number of Helmet Orders] desc;"
            ],
            "metadata": {
                "language": "sql",
                "azdata_cell_guid": "52a67aa8-0b5d-47ff-ae69-8f8d60078900",
                "tags": []
            },
            "outputs": [
                {
                    "output_type": "display_data",
                    "data": {
                        "text/html": "(25 rows affected)"
                    },
                    "metadata": {}
                },
                {
                    "output_type": "display_data",
                    "data": {
                        "text/html": "Total execution time: 00:00:00.024"
                    },
                    "metadata": {}
                },
                {
                    "output_type": "execute_result",
                    "execution_count": 4,
                    "data": {
                        "application/vnd.dataresource+json": {
                            "schema": {
                                "fields": [
                                    {
                                        "name": "CustFirstName"
                                    },
                                    {
                                        "name": "CustLastName"
                                    },
                                    {
                                        "name": "Number of Helmet Orders"
                                    }
                                ]
                            },
                            "data": [
                                {
                                    "CustFirstName": "Dean",
                                    "CustLastName": "McCrae",
                                    "Number of Helmet Orders": "21"
                                },
                                {
                                    "CustFirstName": "Rachel",
                                    "CustLastName": "Patterson",
                                    "Number of Helmet Orders": "17"
                                },
                                {
                                    "CustFirstName": "Robert",
                                    "CustLastName": "Brown",
                                    "Number of Helmet Orders": "15"
                                },
                                {
                                    "CustFirstName": "Estella",
                                    "CustLastName": "Pundt",
                                    "Number of Helmet Orders": "15"
                                },
                                {
                                    "CustFirstName": "Liz",
                                    "CustLastName": "Keyser",
                                    "Number of Helmet Orders": "13"
                                },
                                {
                                    "CustFirstName": "William",
                                    "CustLastName": "Thompson",
                                    "Number of Helmet Orders": "13"
                                },
                                {
                                    "CustFirstName": "Neil",
                                    "CustLastName": "Patterson",
                                    "Number of Helmet Orders": "13"
                                },
                                {
                                    "CustFirstName": "Suzanne",
                                    "CustLastName": "Viescas",
                                    "Number of Helmet Orders": "12"
                                },
                                {
                                    "CustFirstName": "Mariya",
                                    "CustLastName": "Sergienko",
                                    "Number of Helmet Orders": "12"
                                },
                                {
                                    "CustFirstName": "Angel",
                                    "CustLastName": "Kennedy",
                                    "Number of Helmet Orders": "12"
                                },
                                {
                                    "CustFirstName": "Manuela",
                                    "CustLastName": "Seidel",
                                    "Number of Helmet Orders": "12"
                                },
                                {
                                    "CustFirstName": "Andrew",
                                    "CustLastName": "Cencini",
                                    "Number of Helmet Orders": "11"
                                },
                                {
                                    "CustFirstName": "Mark",
                                    "CustLastName": "Rosales",
                                    "Number of Helmet Orders": "11"
                                },
                                {
                                    "CustFirstName": "Joyce",
                                    "CustLastName": "Bonnicksen",
                                    "Number of Helmet Orders": "11"
                                },
                                {
                                    "CustFirstName": "Luke",
                                    "CustLastName": "Patterson",
                                    "Number of Helmet Orders": "10"
                                },
                                {
                                    "CustFirstName": "Darren",
                                    "CustLastName": "Gehring",
                                    "Number of Helmet Orders": "10"
                                },
                                {
                                    "CustFirstName": "Jim",
                                    "CustLastName": "Wilson",
                                    "Number of Helmet Orders": "9"
                                },
                                {
                                    "CustFirstName": "Sam",
                                    "CustLastName": "Abolrous",
                                    "Number of Helmet Orders": "9"
                                },
                                {
                                    "CustFirstName": "Maria",
                                    "CustLastName": "Patterson",
                                    "Number of Helmet Orders": "9"
                                },
                                {
                                    "CustFirstName": "Zachary",
                                    "CustLastName": "Ehrlich",
                                    "Number of Helmet Orders": "9"
                                },
                                {
                                    "CustFirstName": "Caleb",
                                    "CustLastName": "Viescas",
                                    "Number of Helmet Orders": "8"
                                },
                                {
                                    "CustFirstName": "David",
                                    "CustLastName": "Smith",
                                    "Number of Helmet Orders": "8"
                                },
                                {
                                    "CustFirstName": "John",
                                    "CustLastName": "Viescas",
                                    "Number of Helmet Orders": "8"
                                },
                                {
                                    "CustFirstName": "Gary",
                                    "CustLastName": "Hallmark",
                                    "Number of Helmet Orders": "8"
                                },
                                {
                                    "CustFirstName": "Kirk",
                                    "CustLastName": "DeGrasse",
                                    "Number of Helmet Orders": "5"
                                }
                            ]
                        },
                        "text/html": "<table><tr><th>CustFirstName</th><th>CustLastName</th><th>Number of Helmet Orders</th></tr><tr><td>Dean</td><td>McCrae</td><td>21</td></tr><tr><td>Rachel</td><td>Patterson</td><td>17</td></tr><tr><td>Robert</td><td>Brown</td><td>15</td></tr><tr><td>Estella</td><td>Pundt</td><td>15</td></tr><tr><td>Liz</td><td>Keyser</td><td>13</td></tr><tr><td>William</td><td>Thompson</td><td>13</td></tr><tr><td>Neil</td><td>Patterson</td><td>13</td></tr><tr><td>Suzanne</td><td>Viescas</td><td>12</td></tr><tr><td>Mariya</td><td>Sergienko</td><td>12</td></tr><tr><td>Angel</td><td>Kennedy</td><td>12</td></tr><tr><td>Manuela</td><td>Seidel</td><td>12</td></tr><tr><td>Andrew</td><td>Cencini</td><td>11</td></tr><tr><td>Mark</td><td>Rosales</td><td>11</td></tr><tr><td>Joyce</td><td>Bonnicksen</td><td>11</td></tr><tr><td>Luke</td><td>Patterson</td><td>10</td></tr><tr><td>Darren</td><td>Gehring</td><td>10</td></tr><tr><td>Jim</td><td>Wilson</td><td>9</td></tr><tr><td>Sam</td><td>Abolrous</td><td>9</td></tr><tr><td>Maria</td><td>Patterson</td><td>9</td></tr><tr><td>Zachary</td><td>Ehrlich</td><td>9</td></tr><tr><td>Caleb</td><td>Viescas</td><td>8</td></tr><tr><td>David</td><td>Smith</td><td>8</td></tr><tr><td>John</td><td>Viescas</td><td>8</td></tr><tr><td>Gary</td><td>Hallmark</td><td>8</td></tr><tr><td>Kirk</td><td>DeGrasse</td><td>5</td></tr></table>"
                    },
                    "metadata": {}
                }
            ],
            "execution_count": 4
        },
        {
            "cell_type": "markdown",
            "source": [
                "This doesn't work because:\n",
                "\n",
                "- the `FROM` clause is evaluated **before** the `WHERE` clause.\n",
                "- the `right join` causes all `Customer` tuples to be included, with `null` values for any Customers who don't join to any `ORDERS`\n",
                "- any comparison with `null` is **false**\n",
                "\n",
                "Let's take a look at the orders for the 3 customers who showed 0 results for orders containing _Helmet_ in more detail. They are:\n",
                "\n",
                "- Alaina Hallmark (there's also a **Gary** Hallmark)\n",
                "- Julia Schnebly\n",
                "- Jeffrey Tireticker"
            ],
            "metadata": {
                "language": "",
                "azdata_cell_guid": "787bb94e-8d6a-4a74-9114-a3d9a261653f"
            },
            "attachments": {}
        },
        {
            "cell_type": "code",
            "source": [
                "use [SalesOrdersExample];\r\n",
                "\r\n",
                "select distinct CustFirstName, CustLastName, ProductName\r\n",
                "from Orders\r\n",
                "join Order_Details\r\n",
                "  on Orders.OrderNumber = Order_Details.OrderNumber\r\n",
                "join Products\r\n",
                "  on Products.ProductNumber = Order_Details.ProductNumber\r\n",
                "right join Customers\r\n",
                "  on Customers.CustomerID = Orders.CustomerID\r\n",
                "where CustLastName in ('Tirekicker', 'Schnebly') or (CustFirstName = 'Alaina' and CustLastName = 'Hallmark')\r\n",
                "order by CustLastName, ProductName"
            ],
            "metadata": {
                "azdata_cell_guid": "557a7535-9400-4def-897f-5287bad0bb26",
                "language": "sql"
            },
            "outputs": [
                {
                    "output_type": "display_data",
                    "data": {
                        "text/html": "(62 rows affected)"
                    },
                    "metadata": {}
                },
                {
                    "output_type": "display_data",
                    "data": {
                        "text/html": "Total execution time: 00:00:00.039"
                    },
                    "metadata": {}
                },
                {
                    "output_type": "execute_result",
                    "execution_count": 5,
                    "data": {
                        "application/vnd.dataresource+json": {
                            "schema": {
                                "fields": [
                                    {
                                        "name": "CustFirstName"
                                    },
                                    {
                                        "name": "CustLastName"
                                    },
                                    {
                                        "name": "ProductName"
                                    }
                                ]
                            },
                            "data": [
                                {
                                    "CustFirstName": "Alaina",
                                    "CustLastName": "Hallmark",
                                    "ProductName": "AeroFlo ATB Wheels"
                                },
                                {
                                    "CustFirstName": "Alaina",
                                    "CustLastName": "Hallmark",
                                    "ProductName": "Clear Shade 85-T Glasses"
                                },
                                {
                                    "CustFirstName": "Alaina",
                                    "CustLastName": "Hallmark",
                                    "ProductName": "Cosmic Elite Road Warrior Wheels"
                                },
                                {
                                    "CustFirstName": "Alaina",
                                    "CustLastName": "Hallmark",
                                    "ProductName": "Cycle-Doc Pro Repair Stand"
                                },
                                {
                                    "CustFirstName": "Alaina",
                                    "CustLastName": "Hallmark",
                                    "ProductName": "Dog Ear Aero-Flow Floor Pump"
                                },
                                {
                                    "CustFirstName": "Alaina",
                                    "CustLastName": "Hallmark",
                                    "ProductName": "Dog Ear Monster Grip Gloves"
                                },
                                {
                                    "CustFirstName": "Alaina",
                                    "CustLastName": "Hallmark",
                                    "ProductName": "Eagle FS-3 Mountain Bike"
                                },
                                {
                                    "CustFirstName": "Alaina",
                                    "CustLastName": "Hallmark",
                                    "ProductName": "Eagle SA-120 Clipless Pedals"
                                },
                                {
                                    "CustFirstName": "Alaina",
                                    "CustLastName": "Hallmark",
                                    "ProductName": "GT RTS-2 Mountain Bike"
                                },
                                {
                                    "CustFirstName": "Alaina",
                                    "CustLastName": "Hallmark",
                                    "ProductName": "HP Deluxe Panniers"
                                },
                                {
                                    "CustFirstName": "Alaina",
                                    "CustLastName": "Hallmark",
                                    "ProductName": "Kool-Breeze Rocket Top Jersey"
                                },
                                {
                                    "CustFirstName": "Alaina",
                                    "CustLastName": "Hallmark",
                                    "ProductName": "Kryptonite Advanced 2000 U-Lock"
                                },
                                {
                                    "CustFirstName": "Alaina",
                                    "CustLastName": "Hallmark",
                                    "ProductName": "Nikoma Lok-Tight U-Lock"
                                },
                                {
                                    "CustFirstName": "Alaina",
                                    "CustLastName": "Hallmark",
                                    "ProductName": "ProFormance ATB All-Terrain Pedal"
                                },
                                {
                                    "CustFirstName": "Alaina",
                                    "CustLastName": "Hallmark",
                                    "ProductName": "ProFormance Toe-Klips 2G"
                                },
                                {
                                    "CustFirstName": "Alaina",
                                    "CustLastName": "Hallmark",
                                    "ProductName": "Pro-Sport 'Dillo Shades"
                                },
                                {
                                    "CustFirstName": "Alaina",
                                    "CustLastName": "Hallmark",
                                    "ProductName": "Road Warrior Hitch Pack"
                                },
                                {
                                    "CustFirstName": "Alaina",
                                    "CustLastName": "Hallmark",
                                    "ProductName": "Shinoman 105 SC Brakes"
                                },
                                {
                                    "CustFirstName": "Alaina",
                                    "CustLastName": "Hallmark",
                                    "ProductName": "Shinoman Deluxe TX-30 Pedal"
                                },
                                {
                                    "CustFirstName": "Alaina",
                                    "CustLastName": "Hallmark",
                                    "ProductName": "Shinoman Dura-Ace Headset"
                                },
                                {
                                    "CustFirstName": "Alaina",
                                    "CustLastName": "Hallmark",
                                    "ProductName": "StaDry Cycling Pants"
                                },
                                {
                                    "CustFirstName": "Alaina",
                                    "CustLastName": "Hallmark",
                                    "ProductName": "Trek 9000 Mountain Bike"
                                },
                                {
                                    "CustFirstName": "Alaina",
                                    "CustLastName": "Hallmark",
                                    "ProductName": "True Grip Competition Gloves"
                                },
                                {
                                    "CustFirstName": "Alaina",
                                    "CustLastName": "Hallmark",
                                    "ProductName": "Turbo Twin Tires"
                                },
                                {
                                    "CustFirstName": "Alaina",
                                    "CustLastName": "Hallmark",
                                    "ProductName": "Ultimate Export 2G Car Rack"
                                },
                                {
                                    "CustFirstName": "Alaina",
                                    "CustLastName": "Hallmark",
                                    "ProductName": "Ultra-2K Competition Tire"
                                },
                                {
                                    "CustFirstName": "Alaina",
                                    "CustLastName": "Hallmark",
                                    "ProductName": "Viscount C-500 Wireless Bike Computer"
                                },
                                {
                                    "CustFirstName": "Alaina",
                                    "CustLastName": "Hallmark",
                                    "ProductName": "Viscount CardioSport Sport Watch"
                                },
                                {
                                    "CustFirstName": "Alaina",
                                    "CustLastName": "Hallmark",
                                    "ProductName": "Viscount Mountain Bike"
                                },
                                {
                                    "CustFirstName": "Alaina",
                                    "CustLastName": "Hallmark",
                                    "ProductName": "Viscount Tru-Beat Heart Transmitter"
                                },
                                {
                                    "CustFirstName": "Alaina",
                                    "CustLastName": "Hallmark",
                                    "ProductName": "Wonder Wool Cycle Socks"
                                },
                                {
                                    "CustFirstName": "Alaina",
                                    "CustLastName": "Hallmark",
                                    "ProductName": "X-Pro All Weather Tires"
                                },
                                {
                                    "CustFirstName": "Julia",
                                    "CustLastName": "Schnebly",
                                    "ProductName": "AeroFlo ATB Wheels"
                                },
                                {
                                    "CustFirstName": "Julia",
                                    "CustLastName": "Schnebly",
                                    "ProductName": "Clear Shade 85-T Glasses"
                                },
                                {
                                    "CustFirstName": "Julia",
                                    "CustLastName": "Schnebly",
                                    "ProductName": "Cosmic Elite Road Warrior Wheels"
                                },
                                {
                                    "CustFirstName": "Julia",
                                    "CustLastName": "Schnebly",
                                    "ProductName": "Cycle-Doc Pro Repair Stand"
                                },
                                {
                                    "CustFirstName": "Julia",
                                    "CustLastName": "Schnebly",
                                    "ProductName": "Dog Ear Aero-Flow Floor Pump"
                                },
                                {
                                    "CustFirstName": "Julia",
                                    "CustLastName": "Schnebly",
                                    "ProductName": "Dog Ear Cyclecomputer"
                                },
                                {
                                    "CustFirstName": "Julia",
                                    "CustLastName": "Schnebly",
                                    "ProductName": "Dog Ear Monster Grip Gloves"
                                },
                                {
                                    "CustFirstName": "Julia",
                                    "CustLastName": "Schnebly",
                                    "ProductName": "Eagle SA-120 Clipless Pedals"
                                },
                                {
                                    "CustFirstName": "Julia",
                                    "CustLastName": "Schnebly",
                                    "ProductName": "GT RTS-2 Mountain Bike"
                                },
                                {
                                    "CustFirstName": "Julia",
                                    "CustLastName": "Schnebly",
                                    "ProductName": "HP Deluxe Panniers"
                                },
                                {
                                    "CustFirstName": "Julia",
                                    "CustLastName": "Schnebly",
                                    "ProductName": "Kool-Breeze Rocket Top Jersey"
                                },
                                {
                                    "CustFirstName": "Julia",
                                    "CustLastName": "Schnebly",
                                    "ProductName": "Nikoma Lok-Tight U-Lock"
                                },
                                {
                                    "CustFirstName": "Julia",
                                    "CustLastName": "Schnebly",
                                    "ProductName": "ProFormance ATB All-Terrain Pedal"
                                },
                                {
                                    "CustFirstName": "Julia",
                                    "CustLastName": "Schnebly",
                                    "ProductName": "ProFormance Toe-Klips 2G"
                                },
                                {
                                    "CustFirstName": "Julia",
                                    "CustLastName": "Schnebly",
                                    "ProductName": "Road Warrior Hitch Pack"
                                },
                                {
                                    "CustFirstName": "Julia",
                                    "CustLastName": "Schnebly",
                                    "ProductName": "Shinoman Deluxe TX-30 Pedal"
                                },
                                {
                                    "CustFirstName": "Julia",
                                    "CustLastName": "Schnebly",
                                    "ProductName": "Shinoman Dura-Ace Headset"
                                },
                                {
                                    "CustFirstName": "Julia",
                                    "CustLastName": "Schnebly",
                                    "ProductName": "StaDry Cycling Pants"
                                },
                                {
                                    "CustFirstName": "Julia",
                                    "CustLastName": "Schnebly",
                                    "ProductName": "TransPort Bicycle Rack"
                                },
                                {
                                    "CustFirstName": "Julia",
                                    "CustLastName": "Schnebly",
                                    "ProductName": "Trek 9000 Mountain Bike"
                                },
                                {
                                    "CustFirstName": "Julia",
                                    "CustLastName": "Schnebly",
                                    "ProductName": "True Grip Competition Gloves"
                                },
                                {
                                    "CustFirstName": "Julia",
                                    "CustLastName": "Schnebly",
                                    "ProductName": "Turbo Twin Tires"
                                },
                                {
                                    "CustFirstName": "Julia",
                                    "CustLastName": "Schnebly",
                                    "ProductName": "Ultimate Export 2G Car Rack"
                                },
                                {
                                    "CustFirstName": "Julia",
                                    "CustLastName": "Schnebly",
                                    "ProductName": "Ultra-2K Competition Tire"
                                },
                                {
                                    "CustFirstName": "Julia",
                                    "CustLastName": "Schnebly",
                                    "ProductName": "Viscount C-500 Wireless Bike Computer"
                                },
                                {
                                    "CustFirstName": "Julia",
                                    "CustLastName": "Schnebly",
                                    "ProductName": "Viscount Mountain Bike"
                                },
                                {
                                    "CustFirstName": "Julia",
                                    "CustLastName": "Schnebly",
                                    "ProductName": "Viscount Tru-Beat Heart Transmitter"
                                },
                                {
                                    "CustFirstName": "Julia",
                                    "CustLastName": "Schnebly",
                                    "ProductName": "Wonder Wool Cycle Socks"
                                },
                                {
                                    "CustFirstName": "Julia",
                                    "CustLastName": "Schnebly",
                                    "ProductName": "X-Pro All Weather Tires"
                                },
                                {
                                    "CustFirstName": "Jeffrey",
                                    "CustLastName": "Tirekicker",
                                    "ProductName": "NULL"
                                }
                            ]
                        },
                        "text/html": "<table><tr><th>CustFirstName</th><th>CustLastName</th><th>ProductName</th></tr><tr><td>Alaina</td><td>Hallmark</td><td>AeroFlo ATB Wheels</td></tr><tr><td>Alaina</td><td>Hallmark</td><td>Clear Shade 85-T Glasses</td></tr><tr><td>Alaina</td><td>Hallmark</td><td>Cosmic Elite Road Warrior Wheels</td></tr><tr><td>Alaina</td><td>Hallmark</td><td>Cycle-Doc Pro Repair Stand</td></tr><tr><td>Alaina</td><td>Hallmark</td><td>Dog Ear Aero-Flow Floor Pump</td></tr><tr><td>Alaina</td><td>Hallmark</td><td>Dog Ear Monster Grip Gloves</td></tr><tr><td>Alaina</td><td>Hallmark</td><td>Eagle FS-3 Mountain Bike</td></tr><tr><td>Alaina</td><td>Hallmark</td><td>Eagle SA-120 Clipless Pedals</td></tr><tr><td>Alaina</td><td>Hallmark</td><td>GT RTS-2 Mountain Bike</td></tr><tr><td>Alaina</td><td>Hallmark</td><td>HP Deluxe Panniers</td></tr><tr><td>Alaina</td><td>Hallmark</td><td>Kool-Breeze Rocket Top Jersey</td></tr><tr><td>Alaina</td><td>Hallmark</td><td>Kryptonite Advanced 2000 U-Lock</td></tr><tr><td>Alaina</td><td>Hallmark</td><td>Nikoma Lok-Tight U-Lock</td></tr><tr><td>Alaina</td><td>Hallmark</td><td>ProFormance ATB All-Terrain Pedal</td></tr><tr><td>Alaina</td><td>Hallmark</td><td>ProFormance Toe-Klips 2G</td></tr><tr><td>Alaina</td><td>Hallmark</td><td>Pro-Sport &#39;Dillo Shades</td></tr><tr><td>Alaina</td><td>Hallmark</td><td>Road Warrior Hitch Pack</td></tr><tr><td>Alaina</td><td>Hallmark</td><td>Shinoman 105 SC Brakes</td></tr><tr><td>Alaina</td><td>Hallmark</td><td>Shinoman Deluxe TX-30 Pedal</td></tr><tr><td>Alaina</td><td>Hallmark</td><td>Shinoman Dura-Ace Headset</td></tr><tr><td>Alaina</td><td>Hallmark</td><td>StaDry Cycling Pants</td></tr><tr><td>Alaina</td><td>Hallmark</td><td>Trek 9000 Mountain Bike</td></tr><tr><td>Alaina</td><td>Hallmark</td><td>True Grip Competition Gloves</td></tr><tr><td>Alaina</td><td>Hallmark</td><td>Turbo Twin Tires</td></tr><tr><td>Alaina</td><td>Hallmark</td><td>Ultimate Export 2G Car Rack</td></tr><tr><td>Alaina</td><td>Hallmark</td><td>Ultra-2K Competition Tire</td></tr><tr><td>Alaina</td><td>Hallmark</td><td>Viscount C-500 Wireless Bike Computer</td></tr><tr><td>Alaina</td><td>Hallmark</td><td>Viscount CardioSport Sport Watch</td></tr><tr><td>Alaina</td><td>Hallmark</td><td>Viscount Mountain Bike</td></tr><tr><td>Alaina</td><td>Hallmark</td><td>Viscount Tru-Beat Heart Transmitter</td></tr><tr><td>Alaina</td><td>Hallmark</td><td>Wonder Wool Cycle Socks</td></tr><tr><td>Alaina</td><td>Hallmark</td><td>X-Pro All Weather Tires</td></tr><tr><td>Julia</td><td>Schnebly</td><td>AeroFlo ATB Wheels</td></tr><tr><td>Julia</td><td>Schnebly</td><td>Clear Shade 85-T Glasses</td></tr><tr><td>Julia</td><td>Schnebly</td><td>Cosmic Elite Road Warrior Wheels</td></tr><tr><td>Julia</td><td>Schnebly</td><td>Cycle-Doc Pro Repair Stand</td></tr><tr><td>Julia</td><td>Schnebly</td><td>Dog Ear Aero-Flow Floor Pump</td></tr><tr><td>Julia</td><td>Schnebly</td><td>Dog Ear Cyclecomputer</td></tr><tr><td>Julia</td><td>Schnebly</td><td>Dog Ear Monster Grip Gloves</td></tr><tr><td>Julia</td><td>Schnebly</td><td>Eagle SA-120 Clipless Pedals</td></tr><tr><td>Julia</td><td>Schnebly</td><td>GT RTS-2 Mountain Bike</td></tr><tr><td>Julia</td><td>Schnebly</td><td>HP Deluxe Panniers</td></tr><tr><td>Julia</td><td>Schnebly</td><td>Kool-Breeze Rocket Top Jersey</td></tr><tr><td>Julia</td><td>Schnebly</td><td>Nikoma Lok-Tight U-Lock</td></tr><tr><td>Julia</td><td>Schnebly</td><td>ProFormance ATB All-Terrain Pedal</td></tr><tr><td>Julia</td><td>Schnebly</td><td>ProFormance Toe-Klips 2G</td></tr><tr><td>Julia</td><td>Schnebly</td><td>Road Warrior Hitch Pack</td></tr><tr><td>Julia</td><td>Schnebly</td><td>Shinoman Deluxe TX-30 Pedal</td></tr><tr><td>Julia</td><td>Schnebly</td><td>Shinoman Dura-Ace Headset</td></tr><tr><td>Julia</td><td>Schnebly</td><td>StaDry Cycling Pants</td></tr><tr><td>Julia</td><td>Schnebly</td><td>TransPort Bicycle Rack</td></tr><tr><td>Julia</td><td>Schnebly</td><td>Trek 9000 Mountain Bike</td></tr><tr><td>Julia</td><td>Schnebly</td><td>True Grip Competition Gloves</td></tr><tr><td>Julia</td><td>Schnebly</td><td>Turbo Twin Tires</td></tr><tr><td>Julia</td><td>Schnebly</td><td>Ultimate Export 2G Car Rack</td></tr><tr><td>Julia</td><td>Schnebly</td><td>Ultra-2K Competition Tire</td></tr><tr><td>Julia</td><td>Schnebly</td><td>Viscount C-500 Wireless Bike Computer</td></tr><tr><td>Julia</td><td>Schnebly</td><td>Viscount Mountain Bike</td></tr><tr><td>Julia</td><td>Schnebly</td><td>Viscount Tru-Beat Heart Transmitter</td></tr><tr><td>Julia</td><td>Schnebly</td><td>Wonder Wool Cycle Socks</td></tr><tr><td>Julia</td><td>Schnebly</td><td>X-Pro All Weather Tires</td></tr><tr><td>Jeffrey</td><td>Tirekicker</td><td>NULL</td></tr></table>"
                    },
                    "metadata": {}
                }
            ],
            "execution_count": 5
        },
        {
            "cell_type": "markdown",
            "source": [
                "So the `WHERE` clause eliminates _Jeffrey Tirekicker_ because the value of `ProductName` is `null`, since he has never placed any orders. The `WHERE` clause eliminates _Alaina Hallmark_ and _Julia Schnebly_ since **none** of their orders include a product whose name contains _helmet_.\n",
                "\n",
                "**Method 2:**  To get the correct answer using an outer join, we have to find the orders containing helmets **first**, and then do the outer join to **only those orders**. The easiest way to accomplish this is to use a common table expression."
            ],
            "metadata": {
                "language": "sql",
                "azdata_cell_guid": "3639c11d-37cd-40eb-8055-d1ebfbaa2e91"
            },
            "attachments": {}
        },
        {
            "cell_type": "code",
            "source": [
                "use [SalesOrdersExample];\r\n",
                "\r\n",
                "with HelmetOrders as (\r\n",
                "    select CustomerID, Orders.OrderNumber, ProductName\r\n",
                "    from Orders\r\n",
                "    join Order_Details\r\n",
                "      on Orders.OrderNumber = Order_Details.OrderNumber\r\n",
                "    join Products\r\n",
                "      on Products.ProductNumber = Order_Details.ProductNumber\r\n",
                "    where ProductName like '%Helmet%'\r\n",
                ")\r\n",
                "select CustFirstName, CustLastName, count(distinct HelmetOrders.OrderNumber) 'Number of Helmet Orders'\r\n",
                "from HelmetOrders \r\n",
                "right join Customers\r\n",
                "  on HelmetOrders.CustomerID = Customers.CustomerID\r\n",
                "group by Customers.CustomerID, CustFirstName, CustLastName\r\n",
                "order by 'Number of Helmet Orders' desc"
            ],
            "metadata": {
                "azdata_cell_guid": "bc1bd3b8-8e11-4586-b948-632efba98d94",
                "language": "sql"
            },
            "outputs": [
                {
                    "output_type": "display_data",
                    "data": {
                        "text/html": "Warning: Null value is eliminated by an aggregate or other SET operation."
                    },
                    "metadata": {}
                },
                {
                    "output_type": "display_data",
                    "data": {
                        "text/html": "(28 rows affected)"
                    },
                    "metadata": {}
                },
                {
                    "output_type": "display_data",
                    "data": {
                        "text/html": "Total execution time: 00:00:00.059"
                    },
                    "metadata": {}
                },
                {
                    "output_type": "execute_result",
                    "metadata": {},
                    "execution_count": 3,
                    "data": {
                        "application/vnd.dataresource+json": {
                            "schema": {
                                "fields": [
                                    {
                                        "name": "CustFirstName"
                                    },
                                    {
                                        "name": "CustLastName"
                                    },
                                    {
                                        "name": "Number of Helmet Orders"
                                    }
                                ]
                            },
                            "data": [
                                {
                                    "CustFirstName": "Dean",
                                    "CustLastName": "McCrae",
                                    "Number of Helmet Orders": "21"
                                },
                                {
                                    "CustFirstName": "Rachel",
                                    "CustLastName": "Patterson",
                                    "Number of Helmet Orders": "17"
                                },
                                {
                                    "CustFirstName": "Robert",
                                    "CustLastName": "Brown",
                                    "Number of Helmet Orders": "15"
                                },
                                {
                                    "CustFirstName": "Estella",
                                    "CustLastName": "Pundt",
                                    "Number of Helmet Orders": "15"
                                },
                                {
                                    "CustFirstName": "William",
                                    "CustLastName": "Thompson",
                                    "Number of Helmet Orders": "13"
                                },
                                {
                                    "CustFirstName": "Neil",
                                    "CustLastName": "Patterson",
                                    "Number of Helmet Orders": "13"
                                },
                                {
                                    "CustFirstName": "Liz",
                                    "CustLastName": "Keyser",
                                    "Number of Helmet Orders": "13"
                                },
                                {
                                    "CustFirstName": "Mariya",
                                    "CustLastName": "Sergienko",
                                    "Number of Helmet Orders": "12"
                                },
                                {
                                    "CustFirstName": "Angel",
                                    "CustLastName": "Kennedy",
                                    "Number of Helmet Orders": "12"
                                },
                                {
                                    "CustFirstName": "Suzanne",
                                    "CustLastName": "Viescas",
                                    "Number of Helmet Orders": "12"
                                },
                                {
                                    "CustFirstName": "Manuela",
                                    "CustLastName": "Seidel",
                                    "Number of Helmet Orders": "12"
                                },
                                {
                                    "CustFirstName": "Joyce",
                                    "CustLastName": "Bonnicksen",
                                    "Number of Helmet Orders": "11"
                                },
                                {
                                    "CustFirstName": "Mark",
                                    "CustLastName": "Rosales",
                                    "Number of Helmet Orders": "11"
                                },
                                {
                                    "CustFirstName": "Andrew",
                                    "CustLastName": "Cencini",
                                    "Number of Helmet Orders": "11"
                                },
                                {
                                    "CustFirstName": "Darren",
                                    "CustLastName": "Gehring",
                                    "Number of Helmet Orders": "10"
                                },
                                {
                                    "CustFirstName": "Luke",
                                    "CustLastName": "Patterson",
                                    "Number of Helmet Orders": "10"
                                },
                                {
                                    "CustFirstName": "Maria",
                                    "CustLastName": "Patterson",
                                    "Number of Helmet Orders": "9"
                                },
                                {
                                    "CustFirstName": "Zachary",
                                    "CustLastName": "Ehrlich",
                                    "Number of Helmet Orders": "9"
                                },
                                {
                                    "CustFirstName": "Jim",
                                    "CustLastName": "Wilson",
                                    "Number of Helmet Orders": "9"
                                },
                                {
                                    "CustFirstName": "Sam",
                                    "CustLastName": "Abolrous",
                                    "Number of Helmet Orders": "9"
                                },
                                {
                                    "CustFirstName": "John",
                                    "CustLastName": "Viescas",
                                    "Number of Helmet Orders": "8"
                                },
                                {
                                    "CustFirstName": "Gary",
                                    "CustLastName": "Hallmark",
                                    "Number of Helmet Orders": "8"
                                },
                                {
                                    "CustFirstName": "David",
                                    "CustLastName": "Smith",
                                    "Number of Helmet Orders": "8"
                                },
                                {
                                    "CustFirstName": "Caleb",
                                    "CustLastName": "Viescas",
                                    "Number of Helmet Orders": "8"
                                },
                                {
                                    "CustFirstName": "Kirk",
                                    "CustLastName": "DeGrasse",
                                    "Number of Helmet Orders": "5"
                                },
                                {
                                    "CustFirstName": "Julia",
                                    "CustLastName": "Schnebly",
                                    "Number of Helmet Orders": "0"
                                },
                                {
                                    "CustFirstName": "Jeffrey",
                                    "CustLastName": "Tirekicker",
                                    "Number of Helmet Orders": "0"
                                },
                                {
                                    "CustFirstName": "Alaina",
                                    "CustLastName": "Hallmark",
                                    "Number of Helmet Orders": "0"
                                }
                            ]
                        },
                        "text/html": [
                            "<table>",
                            "<tr><th>CustFirstName</th><th>CustLastName</th><th>Number of Helmet Orders</th></tr>",
                            "<tr><td>Dean</td><td>McCrae</td><td>21</td></tr>",
                            "<tr><td>Rachel</td><td>Patterson</td><td>17</td></tr>",
                            "<tr><td>Robert</td><td>Brown</td><td>15</td></tr>",
                            "<tr><td>Estella</td><td>Pundt</td><td>15</td></tr>",
                            "<tr><td>William</td><td>Thompson</td><td>13</td></tr>",
                            "<tr><td>Neil</td><td>Patterson</td><td>13</td></tr>",
                            "<tr><td>Liz</td><td>Keyser</td><td>13</td></tr>",
                            "<tr><td>Mariya</td><td>Sergienko</td><td>12</td></tr>",
                            "<tr><td>Angel</td><td>Kennedy</td><td>12</td></tr>",
                            "<tr><td>Suzanne</td><td>Viescas</td><td>12</td></tr>",
                            "<tr><td>Manuela</td><td>Seidel</td><td>12</td></tr>",
                            "<tr><td>Joyce</td><td>Bonnicksen</td><td>11</td></tr>",
                            "<tr><td>Mark</td><td>Rosales</td><td>11</td></tr>",
                            "<tr><td>Andrew</td><td>Cencini</td><td>11</td></tr>",
                            "<tr><td>Darren</td><td>Gehring</td><td>10</td></tr>",
                            "<tr><td>Luke</td><td>Patterson</td><td>10</td></tr>",
                            "<tr><td>Maria</td><td>Patterson</td><td>9</td></tr>",
                            "<tr><td>Zachary</td><td>Ehrlich</td><td>9</td></tr>",
                            "<tr><td>Jim</td><td>Wilson</td><td>9</td></tr>",
                            "<tr><td>Sam</td><td>Abolrous</td><td>9</td></tr>",
                            "<tr><td>John</td><td>Viescas</td><td>8</td></tr>",
                            "<tr><td>Gary</td><td>Hallmark</td><td>8</td></tr>",
                            "<tr><td>David</td><td>Smith</td><td>8</td></tr>",
                            "<tr><td>Caleb</td><td>Viescas</td><td>8</td></tr>",
                            "<tr><td>Kirk</td><td>DeGrasse</td><td>5</td></tr>",
                            "<tr><td>Julia</td><td>Schnebly</td><td>0</td></tr>",
                            "<tr><td>Jeffrey</td><td>Tirekicker</td><td>0</td></tr>",
                            "<tr><td>Alaina</td><td>Hallmark</td><td>0</td></tr>",
                            "</table>"
                        ]
                    }
                }
            ],
            "execution_count": 3
        },
        {
            "cell_type": "markdown",
            "source": [
                "As a general rule, do any filtering on tables that are being inner joined in a query containing an outer join in a CTE **before** performing the outer join."
            ],
            "metadata": {
                "azdata_cell_guid": "da0edf46-48f5-4397-a642-4363f8ea83ba"
            },
            "attachments": {}
        },
        {
            "cell_type": "markdown",
            "source": [
                "# Example 2\r\n",
                "\r\n",
                "In the `SchoolSchedulingExample`, use an outer join along with a `WHERE` clause to list all courses that don't appear on any student's schedule."
            ],
            "metadata": {
                "language": "",
                "azdata_cell_guid": "c5c8dd35-c239-45dc-aed2-2e9bfbee2388"
            },
            "attachments": {}
        },
        {
            "cell_type": "code",
            "source": [
                "use [SchoolSchedulingExample];\r\n",
                "select * from Student_Schedules\r\n",
                "right join Classes\r\n",
                "    on Student_Schedules.ClassID = Classes.ClassID\r\n",
                ""
            ],
            "metadata": {
                "azdata_cell_guid": "94d5a215-24d3-4a27-97bb-30f40bca4937",
                "language": "sql",
                "tags": []
            },
            "outputs": [
                {
                    "output_type": "display_data",
                    "data": {
                        "text/html": "(220 rows affected)"
                    },
                    "metadata": {}
                },
                {
                    "output_type": "display_data",
                    "data": {
                        "text/html": "Total execution time: 00:00:00.047"
                    },
                    "metadata": {}
                },
                {
                    "output_type": "execute_result",
                    "metadata": {},
                    "execution_count": 2,
                    "data": {
                        "application/vnd.dataresource+json": {
                            "schema": {
                                "fields": [
                                    {
                                        "name": "StudentID"
                                    },
                                    {
                                        "name": "ClassID"
                                    },
                                    {
                                        "name": "ClassStatus"
                                    },
                                    {
                                        "name": "Grade"
                                    },
                                    {
                                        "name": "ClassID"
                                    },
                                    {
                                        "name": "SubjectID"
                                    },
                                    {
                                        "name": "ClassRoomID"
                                    },
                                    {
                                        "name": "Credits"
                                    },
                                    {
                                        "name": "SemesterNumber"
                                    },
                                    {
                                        "name": "StartDate"
                                    },
                                    {
                                        "name": "StartTime"
                                    },
                                    {
                                        "name": "Duration"
                                    },
                                    {
                                        "name": "MondaySchedule"
                                    },
                                    {
                                        "name": "TuesdaySchedule"
                                    },
                                    {
                                        "name": "WednesdaySchedule"
                                    },
                                    {
                                        "name": "ThursdaySchedule"
                                    },
                                    {
                                        "name": "FridaySchedule"
                                    },
                                    {
                                        "name": "SaturdaySchedule"
                                    }
                                ]
                            },
                            "data": [
                                {
                                    "StudentID": "1001",
                                    "ClassID": "1000",
                                    "ClassStatus": "2",
                                    "Grade": "99.83",
                                    "SubjectID": "11",
                                    "ClassRoomID": "1231",
                                    "Credits": "5",
                                    "SemesterNumber": "1",
                                    "StartDate": "2017-09-12",
                                    "StartTime": "10:00:00",
                                    "Duration": "50",
                                    "MondaySchedule": "0",
                                    "TuesdaySchedule": "1",
                                    "WednesdaySchedule": "1",
                                    "ThursdaySchedule": "1",
                                    "FridaySchedule": "1",
                                    "SaturdaySchedule": "1"
                                },
                                {
                                    "StudentID": "1005",
                                    "ClassID": "1000",
                                    "ClassStatus": "2",
                                    "Grade": "82.19",
                                    "SubjectID": "11",
                                    "ClassRoomID": "1231",
                                    "Credits": "5",
                                    "SemesterNumber": "1",
                                    "StartDate": "2017-09-12",
                                    "StartTime": "10:00:00",
                                    "Duration": "50",
                                    "MondaySchedule": "0",
                                    "TuesdaySchedule": "1",
                                    "WednesdaySchedule": "1",
                                    "ThursdaySchedule": "1",
                                    "FridaySchedule": "1",
                                    "SaturdaySchedule": "1"
                                },
                                {
                                    "StudentID": "1006",
                                    "ClassID": "1000",
                                    "ClassStatus": "2",
                                    "Grade": "73.04",
                                    "SubjectID": "11",
                                    "ClassRoomID": "1231",
                                    "Credits": "5",
                                    "SemesterNumber": "1",
                                    "StartDate": "2017-09-12",
                                    "StartTime": "10:00:00",
                                    "Duration": "50",
                                    "MondaySchedule": "0",
                                    "TuesdaySchedule": "1",
                                    "WednesdaySchedule": "1",
                                    "ThursdaySchedule": "1",
                                    "FridaySchedule": "1",
                                    "SaturdaySchedule": "1"
                                },
                                {
                                    "StudentID": "1008",
                                    "ClassID": "1000",
                                    "ClassStatus": "2",
                                    "Grade": "89.32",
                                    "SubjectID": "11",
                                    "ClassRoomID": "1231",
                                    "Credits": "5",
                                    "SemesterNumber": "1",
                                    "StartDate": "2017-09-12",
                                    "StartTime": "10:00:00",
                                    "Duration": "50",
                                    "MondaySchedule": "0",
                                    "TuesdaySchedule": "1",
                                    "WednesdaySchedule": "1",
                                    "ThursdaySchedule": "1",
                                    "FridaySchedule": "1",
                                    "SaturdaySchedule": "1"
                                },
                                {
                                    "StudentID": "1012",
                                    "ClassID": "1000",
                                    "ClassStatus": "2",
                                    "Grade": "71.15",
                                    "SubjectID": "11",
                                    "ClassRoomID": "1231",
                                    "Credits": "5",
                                    "SemesterNumber": "1",
                                    "StartDate": "2017-09-12",
                                    "StartTime": "10:00:00",
                                    "Duration": "50",
                                    "MondaySchedule": "0",
                                    "TuesdaySchedule": "1",
                                    "WednesdaySchedule": "1",
                                    "ThursdaySchedule": "1",
                                    "FridaySchedule": "1",
                                    "SaturdaySchedule": "1"
                                },
                                {
                                    "StudentID": "1013",
                                    "ClassID": "1000",
                                    "ClassStatus": "2",
                                    "Grade": "69.67",
                                    "SubjectID": "11",
                                    "ClassRoomID": "1231",
                                    "Credits": "5",
                                    "SemesterNumber": "1",
                                    "StartDate": "2017-09-12",
                                    "StartTime": "10:00:00",
                                    "Duration": "50",
                                    "MondaySchedule": "0",
                                    "TuesdaySchedule": "1",
                                    "WednesdaySchedule": "1",
                                    "ThursdaySchedule": "1",
                                    "FridaySchedule": "1",
                                    "SaturdaySchedule": "1"
                                },
                                {
                                    "StudentID": "1017",
                                    "ClassID": "1000",
                                    "ClassStatus": "2",
                                    "Grade": "69.46",
                                    "SubjectID": "11",
                                    "ClassRoomID": "1231",
                                    "Credits": "5",
                                    "SemesterNumber": "1",
                                    "StartDate": "2017-09-12",
                                    "StartTime": "10:00:00",
                                    "Duration": "50",
                                    "MondaySchedule": "0",
                                    "TuesdaySchedule": "1",
                                    "WednesdaySchedule": "1",
                                    "ThursdaySchedule": "1",
                                    "FridaySchedule": "1",
                                    "SaturdaySchedule": "1"
                                },
                                {
                                    "StudentID": "NULL",
                                    "ClassID": "1002",
                                    "ClassStatus": "NULL",
                                    "Grade": "NULL",
                                    "SubjectID": "12",
                                    "ClassRoomID": "1619",
                                    "Credits": "4",
                                    "SemesterNumber": "1",
                                    "StartDate": "2017-09-11",
                                    "StartTime": "15:30:00",
                                    "Duration": "110",
                                    "MondaySchedule": "1",
                                    "TuesdaySchedule": "0",
                                    "WednesdaySchedule": "1",
                                    "ThursdaySchedule": "0",
                                    "FridaySchedule": "0",
                                    "SaturdaySchedule": "0"
                                },
                                {
                                    "StudentID": "NULL",
                                    "ClassID": "1004",
                                    "ClassStatus": "NULL",
                                    "Grade": "NULL",
                                    "SubjectID": "13",
                                    "ClassRoomID": "1627",
                                    "Credits": "4",
                                    "SemesterNumber": "1",
                                    "StartDate": "2017-09-11",
                                    "StartTime": "08:00:00",
                                    "Duration": "50",
                                    "MondaySchedule": "1",
                                    "TuesdaySchedule": "0",
                                    "WednesdaySchedule": "1",
                                    "ThursdaySchedule": "1",
                                    "FridaySchedule": "1",
                                    "SaturdaySchedule": "0"
                                },
                                {
                                    "StudentID": "NULL",
                                    "ClassID": "1006",
                                    "ClassStatus": "NULL",
                                    "Grade": "NULL",
                                    "SubjectID": "13",
                                    "ClassRoomID": "1627",
                                    "Credits": "4",
                                    "SemesterNumber": "1",
                                    "StartDate": "2017-09-11",
                                    "StartTime": "09:00:00",
                                    "Duration": "110",
                                    "MondaySchedule": "1",
                                    "TuesdaySchedule": "0",
                                    "WednesdaySchedule": "1",
                                    "ThursdaySchedule": "0",
                                    "FridaySchedule": "0",
                                    "SaturdaySchedule": "0"
                                },
                                {
                                    "StudentID": "NULL",
                                    "ClassID": "1012",
                                    "ClassStatus": "NULL",
                                    "Grade": "NULL",
                                    "SubjectID": "14",
                                    "ClassRoomID": "1627",
                                    "Credits": "4",
                                    "SemesterNumber": "1",
                                    "StartDate": "2017-09-12",
                                    "StartTime": "13:00:00",
                                    "Duration": "110",
                                    "MondaySchedule": "0",
                                    "TuesdaySchedule": "1",
                                    "WednesdaySchedule": "0",
                                    "ThursdaySchedule": "1",
                                    "FridaySchedule": "0",
                                    "SaturdaySchedule": "0"
                                },
                                {
                                    "StudentID": "1011",
                                    "ClassID": "1020",
                                    "ClassStatus": "2",
                                    "Grade": "87.65",
                                    "SubjectID": "15",
                                    "ClassRoomID": "3404",
                                    "Credits": "4",
                                    "SemesterNumber": "1",
                                    "StartDate": "2017-09-12",
                                    "StartTime": "13:00:00",
                                    "Duration": "110",
                                    "MondaySchedule": "0",
                                    "TuesdaySchedule": "1",
                                    "WednesdaySchedule": "0",
                                    "ThursdaySchedule": "1",
                                    "FridaySchedule": "0",
                                    "SaturdaySchedule": "0"
                                },
                                {
                                    "StudentID": "1013",
                                    "ClassID": "1030",
                                    "ClassStatus": "2",
                                    "Grade": "77.07",
                                    "SubjectID": "16",
                                    "ClassRoomID": "1231",
                                    "Credits": "5",
                                    "SemesterNumber": "1",
                                    "StartDate": "2017-09-11",
                                    "StartTime": "11:00:00",
                                    "Duration": "50",
                                    "MondaySchedule": "1",
                                    "TuesdaySchedule": "1",
                                    "WednesdaySchedule": "1",
                                    "ThursdaySchedule": "1",
                                    "FridaySchedule": "1",
                                    "SaturdaySchedule": "0"
                                },
                                {
                                    "StudentID": "1006",
                                    "ClassID": "1030",
                                    "ClassStatus": "2",
                                    "Grade": "69.34",
                                    "SubjectID": "16",
                                    "ClassRoomID": "1231",
                                    "Credits": "5",
                                    "SemesterNumber": "1",
                                    "StartDate": "2017-09-11",
                                    "StartTime": "11:00:00",
                                    "Duration": "50",
                                    "MondaySchedule": "1",
                                    "TuesdaySchedule": "1",
                                    "WednesdaySchedule": "1",
                                    "ThursdaySchedule": "1",
                                    "FridaySchedule": "1",
                                    "SaturdaySchedule": "0"
                                },
                                {
                                    "StudentID": "1017",
                                    "ClassID": "1030",
                                    "ClassStatus": "2",
                                    "Grade": "97.81",
                                    "SubjectID": "16",
                                    "ClassRoomID": "1231",
                                    "Credits": "5",
                                    "SemesterNumber": "1",
                                    "StartDate": "2017-09-11",
                                    "StartTime": "11:00:00",
                                    "Duration": "50",
                                    "MondaySchedule": "1",
                                    "TuesdaySchedule": "1",
                                    "WednesdaySchedule": "1",
                                    "ThursdaySchedule": "1",
                                    "FridaySchedule": "1",
                                    "SaturdaySchedule": "0"
                                },
                                {
                                    "StudentID": "NULL",
                                    "ClassID": "1031",
                                    "ClassStatus": "NULL",
                                    "Grade": "NULL",
                                    "SubjectID": "16",
                                    "ClassRoomID": "1231",
                                    "Credits": "5",
                                    "SemesterNumber": "1",
                                    "StartDate": "2017-09-11",
                                    "StartTime": "14:00:00",
                                    "Duration": "50",
                                    "MondaySchedule": "1",
                                    "TuesdaySchedule": "1",
                                    "WednesdaySchedule": "1",
                                    "ThursdaySchedule": "1",
                                    "FridaySchedule": "1",
                                    "SaturdaySchedule": "0"
                                },
                                {
                                    "StudentID": "1017",
                                    "ClassID": "1156",
                                    "ClassStatus": "2",
                                    "Grade": "88.54",
                                    "SubjectID": "37",
                                    "ClassRoomID": "3443",
                                    "Credits": "5",
                                    "SemesterNumber": "1",
                                    "StartDate": "2017-09-11",
                                    "StartTime": "16:00:00",
                                    "Duration": "50",
                                    "MondaySchedule": "1",
                                    "TuesdaySchedule": "1",
                                    "WednesdaySchedule": "1",
                                    "ThursdaySchedule": "1",
                                    "FridaySchedule": "1",
                                    "SaturdaySchedule": "0"
                                },
                                {
                                    "StudentID": "1006",
                                    "ClassID": "1156",
                                    "ClassStatus": "2",
                                    "Grade": "98.07",
                                    "SubjectID": "37",
                                    "ClassRoomID": "3443",
                                    "Credits": "5",
                                    "SemesterNumber": "1",
                                    "StartDate": "2017-09-11",
                                    "StartTime": "16:00:00",
                                    "Duration": "50",
                                    "MondaySchedule": "1",
                                    "TuesdaySchedule": "1",
                                    "WednesdaySchedule": "1",
                                    "ThursdaySchedule": "1",
                                    "FridaySchedule": "1",
                                    "SaturdaySchedule": "0"
                                },
                                {
                                    "StudentID": "1002",
                                    "ClassID": "1156",
                                    "ClassStatus": "2",
                                    "Grade": "86.33",
                                    "SubjectID": "37",
                                    "ClassRoomID": "3443",
                                    "Credits": "5",
                                    "SemesterNumber": "1",
                                    "StartDate": "2017-09-11",
                                    "StartTime": "16:00:00",
                                    "Duration": "50",
                                    "MondaySchedule": "1",
                                    "TuesdaySchedule": "1",
                                    "WednesdaySchedule": "1",
                                    "ThursdaySchedule": "1",
                                    "FridaySchedule": "1",
                                    "SaturdaySchedule": "0"
                                },
                                {
                                    "StudentID": "1003",
                                    "ClassID": "1156",
                                    "ClassStatus": "2",
                                    "Grade": "71.09",
                                    "SubjectID": "37",
                                    "ClassRoomID": "3443",
                                    "Credits": "5",
                                    "SemesterNumber": "1",
                                    "StartDate": "2017-09-11",
                                    "StartTime": "16:00:00",
                                    "Duration": "50",
                                    "MondaySchedule": "1",
                                    "TuesdaySchedule": "1",
                                    "WednesdaySchedule": "1",
                                    "ThursdaySchedule": "1",
                                    "FridaySchedule": "1",
                                    "SaturdaySchedule": "0"
                                },
                                {
                                    "StudentID": "1013",
                                    "ClassID": "1156",
                                    "ClassStatus": "2",
                                    "Grade": "77.59",
                                    "SubjectID": "37",
                                    "ClassRoomID": "3443",
                                    "Credits": "5",
                                    "SemesterNumber": "1",
                                    "StartDate": "2017-09-11",
                                    "StartTime": "16:00:00",
                                    "Duration": "50",
                                    "MondaySchedule": "1",
                                    "TuesdaySchedule": "1",
                                    "WednesdaySchedule": "1",
                                    "ThursdaySchedule": "1",
                                    "FridaySchedule": "1",
                                    "SaturdaySchedule": "0"
                                },
                                {
                                    "StudentID": "1015",
                                    "ClassID": "1156",
                                    "ClassStatus": "2",
                                    "Grade": "91.66",
                                    "SubjectID": "37",
                                    "ClassRoomID": "3443",
                                    "Credits": "5",
                                    "SemesterNumber": "1",
                                    "StartDate": "2017-09-11",
                                    "StartTime": "16:00:00",
                                    "Duration": "50",
                                    "MondaySchedule": "1",
                                    "TuesdaySchedule": "1",
                                    "WednesdaySchedule": "1",
                                    "ThursdaySchedule": "1",
                                    "FridaySchedule": "1",
                                    "SaturdaySchedule": "0"
                                },
                                {
                                    "StudentID": "1009",
                                    "ClassID": "1156",
                                    "ClassStatus": "2",
                                    "Grade": "72.05",
                                    "SubjectID": "37",
                                    "ClassRoomID": "3443",
                                    "Credits": "5",
                                    "SemesterNumber": "1",
                                    "StartDate": "2017-09-11",
                                    "StartTime": "16:00:00",
                                    "Duration": "50",
                                    "MondaySchedule": "1",
                                    "TuesdaySchedule": "1",
                                    "WednesdaySchedule": "1",
                                    "ThursdaySchedule": "1",
                                    "FridaySchedule": "1",
                                    "SaturdaySchedule": "0"
                                },
                                {
                                    "StudentID": "1010",
                                    "ClassID": "1156",
                                    "ClassStatus": "2",
                                    "Grade": "87.4",
                                    "SubjectID": "37",
                                    "ClassRoomID": "3443",
                                    "Credits": "5",
                                    "SemesterNumber": "1",
                                    "StartDate": "2017-09-11",
                                    "StartTime": "16:00:00",
                                    "Duration": "50",
                                    "MondaySchedule": "1",
                                    "TuesdaySchedule": "1",
                                    "WednesdaySchedule": "1",
                                    "ThursdaySchedule": "1",
                                    "FridaySchedule": "1",
                                    "SaturdaySchedule": "0"
                                },
                                {
                                    "StudentID": "1011",
                                    "ClassID": "1162",
                                    "ClassStatus": "2",
                                    "Grade": "93.01",
                                    "SubjectID": "37",
                                    "ClassRoomID": "3443",
                                    "Credits": "5",
                                    "SemesterNumber": "1",
                                    "StartDate": "2017-09-11",
                                    "StartTime": "09:00:00",
                                    "Duration": "140",
                                    "MondaySchedule": "1",
                                    "TuesdaySchedule": "0",
                                    "WednesdaySchedule": "1",
                                    "ThursdaySchedule": "0",
                                    "FridaySchedule": "0",
                                    "SaturdaySchedule": "0"
                                },
                                {
                                    "StudentID": "1016",
                                    "ClassID": "1162",
                                    "ClassStatus": "2",
                                    "Grade": "82.58",
                                    "SubjectID": "37",
                                    "ClassRoomID": "3443",
                                    "Credits": "5",
                                    "SemesterNumber": "1",
                                    "StartDate": "2017-09-11",
                                    "StartTime": "09:00:00",
                                    "Duration": "140",
                                    "MondaySchedule": "1",
                                    "TuesdaySchedule": "0",
                                    "WednesdaySchedule": "1",
                                    "ThursdaySchedule": "0",
                                    "FridaySchedule": "0",
                                    "SaturdaySchedule": "0"
                                },
                                {
                                    "StudentID": "1004",
                                    "ClassID": "1162",
                                    "ClassStatus": "2",
                                    "Grade": "91.44",
                                    "SubjectID": "37",
                                    "ClassRoomID": "3443",
                                    "Credits": "5",
                                    "SemesterNumber": "1",
                                    "StartDate": "2017-09-11",
                                    "StartTime": "09:00:00",
                                    "Duration": "140",
                                    "MondaySchedule": "1",
                                    "TuesdaySchedule": "0",
                                    "WednesdaySchedule": "1",
                                    "ThursdaySchedule": "0",
                                    "FridaySchedule": "0",
                                    "SaturdaySchedule": "0"
                                },
                                {
                                    "StudentID": "1001",
                                    "ClassID": "1168",
                                    "ClassStatus": "2",
                                    "Grade": "70",
                                    "SubjectID": "37",
                                    "ClassRoomID": "3445",
                                    "Credits": "5",
                                    "SemesterNumber": "1",
                                    "StartDate": "2017-09-11",
                                    "StartTime": "11:00:00",
                                    "Duration": "50",
                                    "MondaySchedule": "1",
                                    "TuesdaySchedule": "1",
                                    "WednesdaySchedule": "1",
                                    "ThursdaySchedule": "1",
                                    "FridaySchedule": "1",
                                    "SaturdaySchedule": "0"
                                },
                                {
                                    "StudentID": "1008",
                                    "ClassID": "1168",
                                    "ClassStatus": "2",
                                    "Grade": "97.59",
                                    "SubjectID": "37",
                                    "ClassRoomID": "3445",
                                    "Credits": "5",
                                    "SemesterNumber": "1",
                                    "StartDate": "2017-09-11",
                                    "StartTime": "11:00:00",
                                    "Duration": "50",
                                    "MondaySchedule": "1",
                                    "TuesdaySchedule": "1",
                                    "WednesdaySchedule": "1",
                                    "ThursdaySchedule": "1",
                                    "FridaySchedule": "1",
                                    "SaturdaySchedule": "0"
                                },
                                {
                                    "StudentID": "1007",
                                    "ClassID": "1180",
                                    "ClassStatus": "2",
                                    "Grade": "72.88",
                                    "SubjectID": "38",
                                    "ClassRoomID": "3446",
                                    "Credits": "5",
                                    "SemesterNumber": "1",
                                    "StartDate": "2017-09-11",
                                    "StartTime": "11:30:00",
                                    "Duration": "140",
                                    "MondaySchedule": "1",
                                    "TuesdaySchedule": "0",
                                    "WednesdaySchedule": "1",
                                    "ThursdaySchedule": "0",
                                    "FridaySchedule": "0",
                                    "SaturdaySchedule": "0"
                                },
                                {
                                    "StudentID": "1005",
                                    "ClassID": "1180",
                                    "ClassStatus": "2",
                                    "Grade": "81.66",
                                    "SubjectID": "38",
                                    "ClassRoomID": "3446",
                                    "Credits": "5",
                                    "SemesterNumber": "1",
                                    "StartDate": "2017-09-11",
                                    "StartTime": "11:30:00",
                                    "Duration": "140",
                                    "MondaySchedule": "1",
                                    "TuesdaySchedule": "0",
                                    "WednesdaySchedule": "1",
                                    "ThursdaySchedule": "0",
                                    "FridaySchedule": "0",
                                    "SaturdaySchedule": "0"
                                },
                                {
                                    "StudentID": "1014",
                                    "ClassID": "1180",
                                    "ClassStatus": "2",
                                    "Grade": "88.91",
                                    "SubjectID": "38",
                                    "ClassRoomID": "3446",
                                    "Credits": "5",
                                    "SemesterNumber": "1",
                                    "StartDate": "2017-09-11",
                                    "StartTime": "11:30:00",
                                    "Duration": "140",
                                    "MondaySchedule": "1",
                                    "TuesdaySchedule": "0",
                                    "WednesdaySchedule": "1",
                                    "ThursdaySchedule": "0",
                                    "FridaySchedule": "0",
                                    "SaturdaySchedule": "0"
                                },
                                {
                                    "StudentID": "1012",
                                    "ClassID": "1180",
                                    "ClassStatus": "2",
                                    "Grade": "67.6",
                                    "SubjectID": "38",
                                    "ClassRoomID": "3446",
                                    "Credits": "5",
                                    "SemesterNumber": "1",
                                    "StartDate": "2017-09-11",
                                    "StartTime": "11:30:00",
                                    "Duration": "140",
                                    "MondaySchedule": "1",
                                    "TuesdaySchedule": "0",
                                    "WednesdaySchedule": "1",
                                    "ThursdaySchedule": "0",
                                    "FridaySchedule": "0",
                                    "SaturdaySchedule": "0"
                                },
                                {
                                    "StudentID": "1018",
                                    "ClassID": "1180",
                                    "ClassStatus": "2",
                                    "Grade": "67.19",
                                    "SubjectID": "38",
                                    "ClassRoomID": "3446",
                                    "Credits": "5",
                                    "SemesterNumber": "1",
                                    "StartDate": "2017-09-11",
                                    "StartTime": "11:30:00",
                                    "Duration": "140",
                                    "MondaySchedule": "1",
                                    "TuesdaySchedule": "0",
                                    "WednesdaySchedule": "1",
                                    "ThursdaySchedule": "0",
                                    "FridaySchedule": "0",
                                    "SaturdaySchedule": "0"
                                },
                                {
                                    "StudentID": "NULL",
                                    "ClassID": "1183",
                                    "ClassStatus": "NULL",
                                    "Grade": "NULL",
                                    "SubjectID": "38",
                                    "ClassRoomID": "3415",
                                    "Credits": "5",
                                    "SemesterNumber": "1",
                                    "StartDate": "2017-09-11",
                                    "StartTime": "13:00:00",
                                    "Duration": "50",
                                    "MondaySchedule": "1",
                                    "TuesdaySchedule": "1",
                                    "WednesdaySchedule": "1",
                                    "ThursdaySchedule": "1",
                                    "FridaySchedule": "1",
                                    "SaturdaySchedule": "0"
                                },
                                {
                                    "StudentID": "NULL",
                                    "ClassID": "1184",
                                    "ClassStatus": "NULL",
                                    "Grade": "NULL",
                                    "SubjectID": "38",
                                    "ClassRoomID": "3415",
                                    "Credits": "5",
                                    "SemesterNumber": "1",
                                    "StartDate": "2017-09-11",
                                    "StartTime": "14:00:00",
                                    "Duration": "50",
                                    "MondaySchedule": "1",
                                    "TuesdaySchedule": "1",
                                    "WednesdaySchedule": "1",
                                    "ThursdaySchedule": "1",
                                    "FridaySchedule": "1",
                                    "SaturdaySchedule": "0"
                                },
                                {
                                    "StudentID": "NULL",
                                    "ClassID": "1196",
                                    "ClassStatus": "NULL",
                                    "Grade": "NULL",
                                    "SubjectID": "39",
                                    "ClassRoomID": "3415",
                                    "Credits": "5",
                                    "SemesterNumber": "1",
                                    "StartDate": "2017-09-11",
                                    "StartTime": "15:00:00",
                                    "Duration": "50",
                                    "MondaySchedule": "1",
                                    "TuesdaySchedule": "1",
                                    "WednesdaySchedule": "1",
                                    "ThursdaySchedule": "1",
                                    "FridaySchedule": "1",
                                    "SaturdaySchedule": "0"
                                },
                                {
                                    "StudentID": "1010",
                                    "ClassID": "1500",
                                    "ClassStatus": "2",
                                    "Grade": "97.84",
                                    "SubjectID": "33",
                                    "ClassRoomID": "1142",
                                    "Credits": "5",
                                    "SemesterNumber": "1",
                                    "StartDate": "2017-09-11",
                                    "StartTime": "08:00:00",
                                    "Duration": "50",
                                    "MondaySchedule": "1",
                                    "TuesdaySchedule": "1",
                                    "WednesdaySchedule": "1",
                                    "ThursdaySchedule": "1",
                                    "FridaySchedule": "1",
                                    "SaturdaySchedule": "0"
                                },
                                {
                                    "StudentID": "1009",
                                    "ClassID": "1500",
                                    "ClassStatus": "2",
                                    "Grade": "71.66",
                                    "SubjectID": "33",
                                    "ClassRoomID": "1142",
                                    "Credits": "5",
                                    "SemesterNumber": "1",
                                    "StartDate": "2017-09-11",
                                    "StartTime": "08:00:00",
                                    "Duration": "50",
                                    "MondaySchedule": "1",
                                    "TuesdaySchedule": "1",
                                    "WednesdaySchedule": "1",
                                    "ThursdaySchedule": "1",
                                    "FridaySchedule": "1",
                                    "SaturdaySchedule": "0"
                                },
                                {
                                    "StudentID": "1015",
                                    "ClassID": "1500",
                                    "ClassStatus": "2",
                                    "Grade": "85.01",
                                    "SubjectID": "33",
                                    "ClassRoomID": "1142",
                                    "Credits": "5",
                                    "SemesterNumber": "1",
                                    "StartDate": "2017-09-11",
                                    "StartTime": "08:00:00",
                                    "Duration": "50",
                                    "MondaySchedule": "1",
                                    "TuesdaySchedule": "1",
                                    "WednesdaySchedule": "1",
                                    "ThursdaySchedule": "1",
                                    "FridaySchedule": "1",
                                    "SaturdaySchedule": "0"
                                },
                                {
                                    "StudentID": "1002",
                                    "ClassID": "1500",
                                    "ClassStatus": "2",
                                    "Grade": "85.72",
                                    "SubjectID": "33",
                                    "ClassRoomID": "1142",
                                    "Credits": "5",
                                    "SemesterNumber": "1",
                                    "StartDate": "2017-09-11",
                                    "StartTime": "08:00:00",
                                    "Duration": "50",
                                    "MondaySchedule": "1",
                                    "TuesdaySchedule": "1",
                                    "WednesdaySchedule": "1",
                                    "ThursdaySchedule": "1",
                                    "FridaySchedule": "1",
                                    "SaturdaySchedule": "0"
                                },
                                {
                                    "StudentID": "1003",
                                    "ClassID": "1500",
                                    "ClassStatus": "2",
                                    "Grade": "89.05",
                                    "SubjectID": "33",
                                    "ClassRoomID": "1142",
                                    "Credits": "5",
                                    "SemesterNumber": "1",
                                    "StartDate": "2017-09-11",
                                    "StartTime": "08:00:00",
                                    "Duration": "50",
                                    "MondaySchedule": "1",
                                    "TuesdaySchedule": "1",
                                    "WednesdaySchedule": "1",
                                    "ThursdaySchedule": "1",
                                    "FridaySchedule": "1",
                                    "SaturdaySchedule": "0"
                                },
                                {
                                    "StudentID": "1003",
                                    "ClassID": "1502",
                                    "ClassStatus": "2",
                                    "Grade": "75.71",
                                    "SubjectID": "34",
                                    "ClassRoomID": "1142",
                                    "Credits": "5",
                                    "SemesterNumber": "1",
                                    "StartDate": "2017-09-11",
                                    "StartTime": "09:00:00",
                                    "Duration": "50",
                                    "MondaySchedule": "1",
                                    "TuesdaySchedule": "1",
                                    "WednesdaySchedule": "1",
                                    "ThursdaySchedule": "1",
                                    "FridaySchedule": "1",
                                    "SaturdaySchedule": "0"
                                },
                                {
                                    "StudentID": "1010",
                                    "ClassID": "1502",
                                    "ClassStatus": "2",
                                    "Grade": "86.57",
                                    "SubjectID": "34",
                                    "ClassRoomID": "1142",
                                    "Credits": "5",
                                    "SemesterNumber": "1",
                                    "StartDate": "2017-09-11",
                                    "StartTime": "09:00:00",
                                    "Duration": "50",
                                    "MondaySchedule": "1",
                                    "TuesdaySchedule": "1",
                                    "WednesdaySchedule": "1",
                                    "ThursdaySchedule": "1",
                                    "FridaySchedule": "1",
                                    "SaturdaySchedule": "0"
                                },
                                {
                                    "StudentID": "NULL",
                                    "ClassID": "1560",
                                    "ClassStatus": "NULL",
                                    "Grade": "NULL",
                                    "SubjectID": "35",
                                    "ClassRoomID": "2408",
                                    "Credits": "3",
                                    "SemesterNumber": "1",
                                    "StartDate": "2017-09-12",
                                    "StartTime": "10:00:00",
                                    "Duration": "50",
                                    "MondaySchedule": "0",
                                    "TuesdaySchedule": "1",
                                    "WednesdaySchedule": "0",
                                    "ThursdaySchedule": "1",
                                    "FridaySchedule": "0",
                                    "SaturdaySchedule": "1"
                                },
                                {
                                    "StudentID": "NULL",
                                    "ClassID": "1562",
                                    "ClassStatus": "NULL",
                                    "Grade": "NULL",
                                    "SubjectID": "36",
                                    "ClassRoomID": "2408",
                                    "Credits": "5",
                                    "SemesterNumber": "1",
                                    "StartDate": "2017-09-11",
                                    "StartTime": "12:00:00",
                                    "Duration": "140",
                                    "MondaySchedule": "1",
                                    "TuesdaySchedule": "0",
                                    "WednesdaySchedule": "0",
                                    "ThursdaySchedule": "0",
                                    "FridaySchedule": "1",
                                    "SaturdaySchedule": "0"
                                },
                                {
                                    "StudentID": "NULL",
                                    "ClassID": "1642",
                                    "ClassStatus": "NULL",
                                    "Grade": "NULL",
                                    "SubjectID": "29",
                                    "ClassRoomID": "1514",
                                    "Credits": "2",
                                    "SemesterNumber": "1",
                                    "StartDate": "2017-09-12",
                                    "StartTime": "11:00:00",
                                    "Duration": "50",
                                    "MondaySchedule": "0",
                                    "TuesdaySchedule": "1",
                                    "WednesdaySchedule": "0",
                                    "ThursdaySchedule": "1",
                                    "FridaySchedule": "0",
                                    "SaturdaySchedule": "0"
                                },
                                {
                                    "StudentID": "NULL",
                                    "ClassID": "2001",
                                    "ClassStatus": "NULL",
                                    "Grade": "NULL",
                                    "SubjectID": "20",
                                    "ClassRoomID": "1519",
                                    "Credits": "5",
                                    "SemesterNumber": "1",
                                    "StartDate": "2017-09-11",
                                    "StartTime": "07:30:00",
                                    "Duration": "140",
                                    "MondaySchedule": "1",
                                    "TuesdaySchedule": "0",
                                    "WednesdaySchedule": "1",
                                    "ThursdaySchedule": "0",
                                    "FridaySchedule": "0",
                                    "SaturdaySchedule": "0"
                                },
                                {
                                    "StudentID": "NULL",
                                    "ClassID": "2005",
                                    "ClassStatus": "NULL",
                                    "Grade": "NULL",
                                    "SubjectID": "20",
                                    "ClassRoomID": "1515",
                                    "Credits": "5",
                                    "SemesterNumber": "1",
                                    "StartDate": "2017-09-12",
                                    "StartTime": "11:00:00",
                                    "Duration": "50",
                                    "MondaySchedule": "0",
                                    "TuesdaySchedule": "1",
                                    "WednesdaySchedule": "1",
                                    "ThursdaySchedule": "1",
                                    "FridaySchedule": "1",
                                    "SaturdaySchedule": "1"
                                },
                                {
                                    "StudentID": "1014",
                                    "ClassID": "2015",
                                    "ClassStatus": "2",
                                    "Grade": "77.01",
                                    "SubjectID": "21",
                                    "ClassRoomID": "1131",
                                    "Credits": "5",
                                    "SemesterNumber": "1",
                                    "StartDate": "2017-09-11",
                                    "StartTime": "09:00:00",
                                    "Duration": "140",
                                    "MondaySchedule": "1",
                                    "TuesdaySchedule": "0",
                                    "WednesdaySchedule": "1",
                                    "ThursdaySchedule": "0",
                                    "FridaySchedule": "0",
                                    "SaturdaySchedule": "0"
                                },
                                {
                                    "StudentID": "1007",
                                    "ClassID": "2015",
                                    "ClassStatus": "2",
                                    "Grade": "66.2",
                                    "SubjectID": "21",
                                    "ClassRoomID": "1131",
                                    "Credits": "5",
                                    "SemesterNumber": "1",
                                    "StartDate": "2017-09-11",
                                    "StartTime": "09:00:00",
                                    "Duration": "140",
                                    "MondaySchedule": "1",
                                    "TuesdaySchedule": "0",
                                    "WednesdaySchedule": "1",
                                    "ThursdaySchedule": "0",
                                    "FridaySchedule": "0",
                                    "SaturdaySchedule": "0"
                                },
                                {
                                    "StudentID": "1018",
                                    "ClassID": "2015",
                                    "ClassStatus": "2",
                                    "Grade": "98.31",
                                    "SubjectID": "21",
                                    "ClassRoomID": "1131",
                                    "Credits": "5",
                                    "SemesterNumber": "1",
                                    "StartDate": "2017-09-11",
                                    "StartTime": "09:00:00",
                                    "Duration": "140",
                                    "MondaySchedule": "1",
                                    "TuesdaySchedule": "0",
                                    "WednesdaySchedule": "1",
                                    "ThursdaySchedule": "0",
                                    "FridaySchedule": "0",
                                    "SaturdaySchedule": "0"
                                },
                                {
                                    "StudentID": "NULL",
                                    "ClassID": "2051",
                                    "ClassStatus": "NULL",
                                    "Grade": "NULL",
                                    "SubjectID": "22",
                                    "ClassRoomID": "1515",
                                    "Credits": "4",
                                    "SemesterNumber": "1",
                                    "StartDate": "2017-09-11",
                                    "StartTime": "14:30:00",
                                    "Duration": "50",
                                    "MondaySchedule": "1",
                                    "TuesdaySchedule": "1",
                                    "WednesdaySchedule": "1",
                                    "ThursdaySchedule": "1",
                                    "FridaySchedule": "0",
                                    "SaturdaySchedule": "0"
                                },
                                {
                                    "StudentID": "NULL",
                                    "ClassID": "2071",
                                    "ClassStatus": "NULL",
                                    "Grade": "NULL",
                                    "SubjectID": "50",
                                    "ClassRoomID": "1624",
                                    "Credits": "5",
                                    "SemesterNumber": "1",
                                    "StartDate": "2017-09-11",
                                    "StartTime": "10:00:00",
                                    "Duration": "50",
                                    "MondaySchedule": "1",
                                    "TuesdaySchedule": "1",
                                    "WednesdaySchedule": "1",
                                    "ThursdaySchedule": "1",
                                    "FridaySchedule": "1",
                                    "SaturdaySchedule": "0"
                                },
                                {
                                    "StudentID": "NULL",
                                    "ClassID": "2075",
                                    "ClassStatus": "NULL",
                                    "Grade": "NULL",
                                    "SubjectID": "51",
                                    "ClassRoomID": "1624",
                                    "Credits": "5",
                                    "SemesterNumber": "1",
                                    "StartDate": "2017-09-11",
                                    "StartTime": "07:00:00",
                                    "Duration": "140",
                                    "MondaySchedule": "1",
                                    "TuesdaySchedule": "0",
                                    "WednesdaySchedule": "0",
                                    "ThursdaySchedule": "0",
                                    "FridaySchedule": "1",
                                    "SaturdaySchedule": "0"
                                },
                                {
                                    "StudentID": "NULL",
                                    "ClassID": "2089",
                                    "ClassStatus": "NULL",
                                    "Grade": "NULL",
                                    "SubjectID": "52",
                                    "ClassRoomID": "1624",
                                    "Credits": "5",
                                    "SemesterNumber": "1",
                                    "StartDate": "2017-09-12",
                                    "StartTime": "16:00:00",
                                    "Duration": "50",
                                    "MondaySchedule": "0",
                                    "TuesdaySchedule": "1",
                                    "WednesdaySchedule": "1",
                                    "ThursdaySchedule": "1",
                                    "FridaySchedule": "1",
                                    "SaturdaySchedule": "1"
                                },
                                {
                                    "StudentID": "NULL",
                                    "ClassID": "2103",
                                    "ClassStatus": "NULL",
                                    "Grade": "NULL",
                                    "SubjectID": "53",
                                    "ClassRoomID": "1624",
                                    "Credits": "5",
                                    "SemesterNumber": "1",
                                    "StartDate": "2017-09-11",
                                    "StartTime": "11:00:00",
                                    "Duration": "50",
                                    "MondaySchedule": "1",
                                    "TuesdaySchedule": "1",
                                    "WednesdaySchedule": "1",
                                    "ThursdaySchedule": "1",
                                    "FridaySchedule": "1",
                                    "SaturdaySchedule": "0"
                                },
                                {
                                    "StudentID": "NULL",
                                    "ClassID": "2213",
                                    "ClassStatus": "NULL",
                                    "Grade": "NULL",
                                    "SubjectID": "17",
                                    "ClassRoomID": "1532",
                                    "Credits": "5",
                                    "SemesterNumber": "1",
                                    "StartDate": "2017-09-11",
                                    "StartTime": "10:00:00",
                                    "Duration": "140",
                                    "MondaySchedule": "1",
                                    "TuesdaySchedule": "0",
                                    "WednesdaySchedule": "1",
                                    "ThursdaySchedule": "0",
                                    "FridaySchedule": "0",
                                    "SaturdaySchedule": "0"
                                },
                                {
                                    "StudentID": "1002",
                                    "ClassID": "2223",
                                    "ClassStatus": "3",
                                    "Grade": "0",
                                    "SubjectID": "18",
                                    "ClassRoomID": "1532",
                                    "Credits": "5",
                                    "SemesterNumber": "1",
                                    "StartDate": "2017-09-11",
                                    "StartTime": "12:00:00",
                                    "Duration": "50",
                                    "MondaySchedule": "1",
                                    "TuesdaySchedule": "1",
                                    "WednesdaySchedule": "1",
                                    "ThursdaySchedule": "1",
                                    "FridaySchedule": "1",
                                    "SaturdaySchedule": "0"
                                },
                                {
                                    "StudentID": "1015",
                                    "ClassID": "2223",
                                    "ClassStatus": "2",
                                    "Grade": "94.54",
                                    "SubjectID": "18",
                                    "ClassRoomID": "1532",
                                    "Credits": "5",
                                    "SemesterNumber": "1",
                                    "StartDate": "2017-09-11",
                                    "StartTime": "12:00:00",
                                    "Duration": "50",
                                    "MondaySchedule": "1",
                                    "TuesdaySchedule": "1",
                                    "WednesdaySchedule": "1",
                                    "ThursdaySchedule": "1",
                                    "FridaySchedule": "1",
                                    "SaturdaySchedule": "0"
                                },
                                {
                                    "StudentID": "1009",
                                    "ClassID": "2223",
                                    "ClassStatus": "2",
                                    "Grade": "93.05",
                                    "SubjectID": "18",
                                    "ClassRoomID": "1532",
                                    "Credits": "5",
                                    "SemesterNumber": "1",
                                    "StartDate": "2017-09-11",
                                    "StartTime": "12:00:00",
                                    "Duration": "50",
                                    "MondaySchedule": "1",
                                    "TuesdaySchedule": "1",
                                    "WednesdaySchedule": "1",
                                    "ThursdaySchedule": "1",
                                    "FridaySchedule": "1",
                                    "SaturdaySchedule": "0"
                                },
                                {
                                    "StudentID": "NULL",
                                    "ClassID": "2245",
                                    "ClassStatus": "NULL",
                                    "Grade": "NULL",
                                    "SubjectID": "19",
                                    "ClassRoomID": "1530",
                                    "Credits": "5",
                                    "SemesterNumber": "1",
                                    "StartDate": "2017-09-11",
                                    "StartTime": "13:30:00",
                                    "Duration": "140",
                                    "MondaySchedule": "1",
                                    "TuesdaySchedule": "0",
                                    "WednesdaySchedule": "1",
                                    "ThursdaySchedule": "0",
                                    "FridaySchedule": "0",
                                    "SaturdaySchedule": "0"
                                },
                                {
                                    "StudentID": "1011",
                                    "ClassID": "2410",
                                    "ClassStatus": "2",
                                    "Grade": "92.36",
                                    "SubjectID": "23",
                                    "ClassRoomID": "1640",
                                    "Credits": "4",
                                    "SemesterNumber": "1",
                                    "StartDate": "2017-09-12",
                                    "StartTime": "10:00:00",
                                    "Duration": "110",
                                    "MondaySchedule": "0",
                                    "TuesdaySchedule": "1",
                                    "WednesdaySchedule": "0",
                                    "ThursdaySchedule": "1",
                                    "FridaySchedule": "0",
                                    "SaturdaySchedule": "0"
                                },
                                {
                                    "StudentID": "1016",
                                    "ClassID": "2410",
                                    "ClassStatus": "2",
                                    "Grade": "98.01",
                                    "SubjectID": "23",
                                    "ClassRoomID": "1640",
                                    "Credits": "4",
                                    "SemesterNumber": "1",
                                    "StartDate": "2017-09-12",
                                    "StartTime": "10:00:00",
                                    "Duration": "110",
                                    "MondaySchedule": "0",
                                    "TuesdaySchedule": "1",
                                    "WednesdaySchedule": "0",
                                    "ThursdaySchedule": "1",
                                    "FridaySchedule": "0",
                                    "SaturdaySchedule": "0"
                                },
                                {
                                    "StudentID": "1004",
                                    "ClassID": "2410",
                                    "ClassStatus": "2",
                                    "Grade": "90.56",
                                    "SubjectID": "23",
                                    "ClassRoomID": "1640",
                                    "Credits": "4",
                                    "SemesterNumber": "1",
                                    "StartDate": "2017-09-12",
                                    "StartTime": "10:00:00",
                                    "Duration": "110",
                                    "MondaySchedule": "0",
                                    "TuesdaySchedule": "1",
                                    "WednesdaySchedule": "0",
                                    "ThursdaySchedule": "1",
                                    "FridaySchedule": "0",
                                    "SaturdaySchedule": "0"
                                },
                                {
                                    "StudentID": "NULL",
                                    "ClassID": "2420",
                                    "ClassStatus": "NULL",
                                    "Grade": "NULL",
                                    "SubjectID": "24",
                                    "ClassRoomID": "1641",
                                    "Credits": "4",
                                    "SemesterNumber": "1",
                                    "StartDate": "2017-09-11",
                                    "StartTime": "13:00:00",
                                    "Duration": "50",
                                    "MondaySchedule": "1",
                                    "TuesdaySchedule": "0",
                                    "WednesdaySchedule": "1",
                                    "ThursdaySchedule": "0",
                                    "FridaySchedule": "1",
                                    "SaturdaySchedule": "1"
                                },
                                {
                                    "StudentID": "NULL",
                                    "ClassID": "2430",
                                    "ClassStatus": "NULL",
                                    "Grade": "NULL",
                                    "SubjectID": "25",
                                    "ClassRoomID": "1642",
                                    "Credits": "4",
                                    "SemesterNumber": "1",
                                    "StartDate": "2017-09-11",
                                    "StartTime": "15:00:00",
                                    "Duration": "50",
                                    "MondaySchedule": "1",
                                    "TuesdaySchedule": "1",
                                    "WednesdaySchedule": "0",
                                    "ThursdaySchedule": "1",
                                    "FridaySchedule": "0",
                                    "SaturdaySchedule": "1"
                                },
                                {
                                    "StudentID": "NULL",
                                    "ClassID": "2431",
                                    "ClassStatus": "NULL",
                                    "Grade": "NULL",
                                    "SubjectID": "27",
                                    "ClassRoomID": "3322",
                                    "Credits": "5",
                                    "SemesterNumber": "1",
                                    "StartDate": "2017-09-11",
                                    "StartTime": "14:00:00",
                                    "Duration": "50",
                                    "MondaySchedule": "1",
                                    "TuesdaySchedule": "1",
                                    "WednesdaySchedule": "1",
                                    "ThursdaySchedule": "1",
                                    "FridaySchedule": "1",
                                    "SaturdaySchedule": "0"
                                },
                                {
                                    "StudentID": "NULL",
                                    "ClassID": "2451",
                                    "ClassStatus": "NULL",
                                    "Grade": "NULL",
                                    "SubjectID": "27",
                                    "ClassRoomID": "1639",
                                    "Credits": "5",
                                    "SemesterNumber": "1",
                                    "StartDate": "2017-09-11",
                                    "StartTime": "16:00:00",
                                    "Duration": "50",
                                    "MondaySchedule": "1",
                                    "TuesdaySchedule": "1",
                                    "WednesdaySchedule": "1",
                                    "ThursdaySchedule": "1",
                                    "FridaySchedule": "1",
                                    "SaturdaySchedule": "0"
                                },
                                {
                                    "StudentID": "1007",
                                    "ClassID": "2500",
                                    "ClassStatus": "2",
                                    "Grade": "91.12",
                                    "SubjectID": "1",
                                    "ClassRoomID": "3305",
                                    "Credits": "3",
                                    "SemesterNumber": "1",
                                    "StartDate": "2017-09-11",
                                    "StartTime": "16:00:00",
                                    "Duration": "50",
                                    "MondaySchedule": "1",
                                    "TuesdaySchedule": "0",
                                    "WednesdaySchedule": "1",
                                    "ThursdaySchedule": "0",
                                    "FridaySchedule": "1",
                                    "SaturdaySchedule": "0"
                                },
                                {
                                    "StudentID": "1005",
                                    "ClassID": "2500",
                                    "ClassStatus": "2",
                                    "Grade": "80.51",
                                    "SubjectID": "1",
                                    "ClassRoomID": "3305",
                                    "Credits": "3",
                                    "SemesterNumber": "1",
                                    "StartDate": "2017-09-11",
                                    "StartTime": "16:00:00",
                                    "Duration": "50",
                                    "MondaySchedule": "1",
                                    "TuesdaySchedule": "0",
                                    "WednesdaySchedule": "1",
                                    "ThursdaySchedule": "0",
                                    "FridaySchedule": "1",
                                    "SaturdaySchedule": "0"
                                },
                                {
                                    "StudentID": "1014",
                                    "ClassID": "2500",
                                    "ClassStatus": "2",
                                    "Grade": "88.5",
                                    "SubjectID": "1",
                                    "ClassRoomID": "3305",
                                    "Credits": "3",
                                    "SemesterNumber": "1",
                                    "StartDate": "2017-09-11",
                                    "StartTime": "16:00:00",
                                    "Duration": "50",
                                    "MondaySchedule": "1",
                                    "TuesdaySchedule": "0",
                                    "WednesdaySchedule": "1",
                                    "ThursdaySchedule": "0",
                                    "FridaySchedule": "1",
                                    "SaturdaySchedule": "0"
                                },
                                {
                                    "StudentID": "1012",
                                    "ClassID": "2500",
                                    "ClassStatus": "2",
                                    "Grade": "77.34",
                                    "SubjectID": "1",
                                    "ClassRoomID": "3305",
                                    "Credits": "3",
                                    "SemesterNumber": "1",
                                    "StartDate": "2017-09-11",
                                    "StartTime": "16:00:00",
                                    "Duration": "50",
                                    "MondaySchedule": "1",
                                    "TuesdaySchedule": "0",
                                    "WednesdaySchedule": "1",
                                    "ThursdaySchedule": "0",
                                    "FridaySchedule": "1",
                                    "SaturdaySchedule": "0"
                                },
                                {
                                    "StudentID": "1018",
                                    "ClassID": "2500",
                                    "ClassStatus": "2",
                                    "Grade": "79.61",
                                    "SubjectID": "1",
                                    "ClassRoomID": "3305",
                                    "Credits": "3",
                                    "SemesterNumber": "1",
                                    "StartDate": "2017-09-11",
                                    "StartTime": "16:00:00",
                                    "Duration": "50",
                                    "MondaySchedule": "1",
                                    "TuesdaySchedule": "0",
                                    "WednesdaySchedule": "1",
                                    "ThursdaySchedule": "0",
                                    "FridaySchedule": "1",
                                    "SaturdaySchedule": "0"
                                },
                                {
                                    "StudentID": "NULL",
                                    "ClassID": "2510",
                                    "ClassStatus": "NULL",
                                    "Grade": "NULL",
                                    "SubjectID": "2",
                                    "ClassRoomID": "3307",
                                    "Credits": "3",
                                    "SemesterNumber": "1",
                                    "StartDate": "2017-09-12",
                                    "StartTime": "13:00:00",
                                    "Duration": "80",
                                    "MondaySchedule": "0",
                                    "TuesdaySchedule": "1",
                                    "WednesdaySchedule": "0",
                                    "ThursdaySchedule": "1",
                                    "FridaySchedule": "0",
                                    "SaturdaySchedule": "0"
                                },
                                {
                                    "StudentID": "NULL",
                                    "ClassID": "2520",
                                    "ClassStatus": "NULL",
                                    "Grade": "NULL",
                                    "SubjectID": "3",
                                    "ClassRoomID": "3309",
                                    "Credits": "3",
                                    "SemesterNumber": "1",
                                    "StartDate": "2017-09-12",
                                    "StartTime": "09:00:00",
                                    "Duration": "50",
                                    "MondaySchedule": "0",
                                    "TuesdaySchedule": "1",
                                    "WednesdaySchedule": "0",
                                    "ThursdaySchedule": "1",
                                    "FridaySchedule": "0",
                                    "SaturdaySchedule": "1"
                                },
                                {
                                    "StudentID": "NULL",
                                    "ClassID": "2633",
                                    "ClassStatus": "NULL",
                                    "Grade": "NULL",
                                    "SubjectID": "48",
                                    "ClassRoomID": "3420",
                                    "Credits": "5",
                                    "SemesterNumber": "1",
                                    "StartDate": "2017-09-12",
                                    "StartTime": "16:00:00",
                                    "Duration": "50",
                                    "MondaySchedule": "0",
                                    "TuesdaySchedule": "1",
                                    "WednesdaySchedule": "1",
                                    "ThursdaySchedule": "1",
                                    "FridaySchedule": "1",
                                    "SaturdaySchedule": "1"
                                },
                                {
                                    "StudentID": "NULL",
                                    "ClassID": "2639",
                                    "ClassStatus": "NULL",
                                    "Grade": "NULL",
                                    "SubjectID": "49",
                                    "ClassRoomID": "3353",
                                    "Credits": "3",
                                    "SemesterNumber": "1",
                                    "StartDate": "2017-09-11",
                                    "StartTime": "09:00:00",
                                    "Duration": "50",
                                    "MondaySchedule": "1",
                                    "TuesdaySchedule": "0",
                                    "WednesdaySchedule": "1",
                                    "ThursdaySchedule": "0",
                                    "FridaySchedule": "1",
                                    "SaturdaySchedule": "0"
                                },
                                {
                                    "StudentID": "NULL",
                                    "ClassID": "2647",
                                    "ClassStatus": "NULL",
                                    "Grade": "NULL",
                                    "SubjectID": "49",
                                    "ClassRoomID": "3353",
                                    "Credits": "3",
                                    "SemesterNumber": "1",
                                    "StartDate": "2017-09-12",
                                    "StartTime": "18:00:00",
                                    "Duration": "50",
                                    "MondaySchedule": "0",
                                    "TuesdaySchedule": "1",
                                    "WednesdaySchedule": "0",
                                    "ThursdaySchedule": "1",
                                    "FridaySchedule": "0",
                                    "SaturdaySchedule": "1"
                                },
                                {
                                    "StudentID": "1009",
                                    "ClassID": "2889",
                                    "ClassStatus": "2",
                                    "Grade": "70.99",
                                    "SubjectID": "45",
                                    "ClassRoomID": "2423",
                                    "Credits": "5",
                                    "SemesterNumber": "1",
                                    "StartDate": "2017-09-11",
                                    "StartTime": "16:00:00",
                                    "Duration": "50",
                                    "MondaySchedule": "1",
                                    "TuesdaySchedule": "1",
                                    "WednesdaySchedule": "1",
                                    "ThursdaySchedule": "1",
                                    "FridaySchedule": "1",
                                    "SaturdaySchedule": "0"
                                },
                                {
                                    "StudentID": "1015",
                                    "ClassID": "2889",
                                    "ClassStatus": "2",
                                    "Grade": "77.58",
                                    "SubjectID": "45",
                                    "ClassRoomID": "2423",
                                    "Credits": "5",
                                    "SemesterNumber": "1",
                                    "StartDate": "2017-09-11",
                                    "StartTime": "16:00:00",
                                    "Duration": "50",
                                    "MondaySchedule": "1",
                                    "TuesdaySchedule": "1",
                                    "WednesdaySchedule": "1",
                                    "ThursdaySchedule": "1",
                                    "FridaySchedule": "1",
                                    "SaturdaySchedule": "0"
                                },
                                {
                                    "StudentID": "1002",
                                    "ClassID": "2889",
                                    "ClassStatus": "2",
                                    "Grade": "68.22",
                                    "SubjectID": "45",
                                    "ClassRoomID": "2423",
                                    "Credits": "5",
                                    "SemesterNumber": "1",
                                    "StartDate": "2017-09-11",
                                    "StartTime": "16:00:00",
                                    "Duration": "50",
                                    "MondaySchedule": "1",
                                    "TuesdaySchedule": "1",
                                    "WednesdaySchedule": "1",
                                    "ThursdaySchedule": "1",
                                    "FridaySchedule": "1",
                                    "SaturdaySchedule": "0"
                                },
                                {
                                    "StudentID": "NULL",
                                    "ClassID": "2891",
                                    "ClassStatus": "NULL",
                                    "Grade": "NULL",
                                    "SubjectID": "45",
                                    "ClassRoomID": "2423",
                                    "Credits": "5",
                                    "SemesterNumber": "1",
                                    "StartDate": "2017-09-11",
                                    "StartTime": "11:00:00",
                                    "Duration": "50",
                                    "MondaySchedule": "1",
                                    "TuesdaySchedule": "1",
                                    "WednesdaySchedule": "1",
                                    "ThursdaySchedule": "1",
                                    "FridaySchedule": "1",
                                    "SaturdaySchedule": "0"
                                },
                                {
                                    "StudentID": "1006",
                                    "ClassID": "2895",
                                    "ClassStatus": "2",
                                    "Grade": "69.6",
                                    "SubjectID": "45",
                                    "ClassRoomID": "2423",
                                    "Credits": "5",
                                    "SemesterNumber": "1",
                                    "StartDate": "2017-09-11",
                                    "StartTime": "13:00:00",
                                    "Duration": "50",
                                    "MondaySchedule": "1",
                                    "TuesdaySchedule": "1",
                                    "WednesdaySchedule": "1",
                                    "ThursdaySchedule": "1",
                                    "FridaySchedule": "1",
                                    "SaturdaySchedule": "0"
                                },
                                {
                                    "StudentID": "1013",
                                    "ClassID": "2895",
                                    "ClassStatus": "2",
                                    "Grade": "93.19",
                                    "SubjectID": "45",
                                    "ClassRoomID": "2423",
                                    "Credits": "5",
                                    "SemesterNumber": "1",
                                    "StartDate": "2017-09-11",
                                    "StartTime": "13:00:00",
                                    "Duration": "50",
                                    "MondaySchedule": "1",
                                    "TuesdaySchedule": "1",
                                    "WednesdaySchedule": "1",
                                    "ThursdaySchedule": "1",
                                    "FridaySchedule": "1",
                                    "SaturdaySchedule": "0"
                                },
                                {
                                    "StudentID": "1017",
                                    "ClassID": "2895",
                                    "ClassStatus": "2",
                                    "Grade": "70.55",
                                    "SubjectID": "45",
                                    "ClassRoomID": "2423",
                                    "Credits": "5",
                                    "SemesterNumber": "1",
                                    "StartDate": "2017-09-11",
                                    "StartTime": "13:00:00",
                                    "Duration": "50",
                                    "MondaySchedule": "1",
                                    "TuesdaySchedule": "1",
                                    "WednesdaySchedule": "1",
                                    "ThursdaySchedule": "1",
                                    "FridaySchedule": "1",
                                    "SaturdaySchedule": "0"
                                },
                                {
                                    "StudentID": "1018",
                                    "ClassID": "2907",
                                    "ClassStatus": "2",
                                    "Grade": "93.32",
                                    "SubjectID": "46",
                                    "ClassRoomID": "3445",
                                    "Credits": "5",
                                    "SemesterNumber": "1",
                                    "StartDate": "2017-09-11",
                                    "StartTime": "08:00:00",
                                    "Duration": "50",
                                    "MondaySchedule": "1",
                                    "TuesdaySchedule": "1",
                                    "WednesdaySchedule": "1",
                                    "ThursdaySchedule": "1",
                                    "FridaySchedule": "1",
                                    "SaturdaySchedule": "0"
                                },
                                {
                                    "StudentID": "1014",
                                    "ClassID": "2907",
                                    "ClassStatus": "2",
                                    "Grade": "72",
                                    "SubjectID": "46",
                                    "ClassRoomID": "3445",
                                    "Credits": "5",
                                    "SemesterNumber": "1",
                                    "StartDate": "2017-09-11",
                                    "StartTime": "08:00:00",
                                    "Duration": "50",
                                    "MondaySchedule": "1",
                                    "TuesdaySchedule": "1",
                                    "WednesdaySchedule": "1",
                                    "ThursdaySchedule": "1",
                                    "FridaySchedule": "1",
                                    "SaturdaySchedule": "0"
                                },
                                {
                                    "StudentID": "1016",
                                    "ClassID": "2907",
                                    "ClassStatus": "2",
                                    "Grade": "72.01",
                                    "SubjectID": "46",
                                    "ClassRoomID": "3445",
                                    "Credits": "5",
                                    "SemesterNumber": "1",
                                    "StartDate": "2017-09-11",
                                    "StartTime": "08:00:00",
                                    "Duration": "50",
                                    "MondaySchedule": "1",
                                    "TuesdaySchedule": "1",
                                    "WednesdaySchedule": "1",
                                    "ThursdaySchedule": "1",
                                    "FridaySchedule": "1",
                                    "SaturdaySchedule": "0"
                                },
                                {
                                    "StudentID": "1012",
                                    "ClassID": "2907",
                                    "ClassStatus": "2",
                                    "Grade": "66.15",
                                    "SubjectID": "46",
                                    "ClassRoomID": "3445",
                                    "Credits": "5",
                                    "SemesterNumber": "1",
                                    "StartDate": "2017-09-11",
                                    "StartTime": "08:00:00",
                                    "Duration": "50",
                                    "MondaySchedule": "1",
                                    "TuesdaySchedule": "1",
                                    "WednesdaySchedule": "1",
                                    "ThursdaySchedule": "1",
                                    "FridaySchedule": "1",
                                    "SaturdaySchedule": "0"
                                },
                                {
                                    "StudentID": "1011",
                                    "ClassID": "2907",
                                    "ClassStatus": "2",
                                    "Grade": "88.58",
                                    "SubjectID": "46",
                                    "ClassRoomID": "3445",
                                    "Credits": "5",
                                    "SemesterNumber": "1",
                                    "StartDate": "2017-09-11",
                                    "StartTime": "08:00:00",
                                    "Duration": "50",
                                    "MondaySchedule": "1",
                                    "TuesdaySchedule": "1",
                                    "WednesdaySchedule": "1",
                                    "ThursdaySchedule": "1",
                                    "FridaySchedule": "1",
                                    "SaturdaySchedule": "0"
                                },
                                {
                                    "StudentID": "1005",
                                    "ClassID": "2907",
                                    "ClassStatus": "2",
                                    "Grade": "94.33",
                                    "SubjectID": "46",
                                    "ClassRoomID": "3445",
                                    "Credits": "5",
                                    "SemesterNumber": "1",
                                    "StartDate": "2017-09-11",
                                    "StartTime": "08:00:00",
                                    "Duration": "50",
                                    "MondaySchedule": "1",
                                    "TuesdaySchedule": "1",
                                    "WednesdaySchedule": "1",
                                    "ThursdaySchedule": "1",
                                    "FridaySchedule": "1",
                                    "SaturdaySchedule": "0"
                                },
                                {
                                    "StudentID": "1007",
                                    "ClassID": "2907",
                                    "ClassStatus": "2",
                                    "Grade": "65.8",
                                    "SubjectID": "46",
                                    "ClassRoomID": "3445",
                                    "Credits": "5",
                                    "SemesterNumber": "1",
                                    "StartDate": "2017-09-11",
                                    "StartTime": "08:00:00",
                                    "Duration": "50",
                                    "MondaySchedule": "1",
                                    "TuesdaySchedule": "1",
                                    "WednesdaySchedule": "1",
                                    "ThursdaySchedule": "1",
                                    "FridaySchedule": "1",
                                    "SaturdaySchedule": "0"
                                },
                                {
                                    "StudentID": "1008",
                                    "ClassID": "2907",
                                    "ClassStatus": "2",
                                    "Grade": "88.27",
                                    "SubjectID": "46",
                                    "ClassRoomID": "3445",
                                    "Credits": "5",
                                    "SemesterNumber": "1",
                                    "StartDate": "2017-09-11",
                                    "StartTime": "08:00:00",
                                    "Duration": "50",
                                    "MondaySchedule": "1",
                                    "TuesdaySchedule": "1",
                                    "WednesdaySchedule": "1",
                                    "ThursdaySchedule": "1",
                                    "FridaySchedule": "1",
                                    "SaturdaySchedule": "0"
                                },
                                {
                                    "StudentID": "1001",
                                    "ClassID": "2907",
                                    "ClassStatus": "2",
                                    "Grade": "67.33",
                                    "SubjectID": "46",
                                    "ClassRoomID": "3445",
                                    "Credits": "5",
                                    "SemesterNumber": "1",
                                    "StartDate": "2017-09-11",
                                    "StartTime": "08:00:00",
                                    "Duration": "50",
                                    "MondaySchedule": "1",
                                    "TuesdaySchedule": "1",
                                    "WednesdaySchedule": "1",
                                    "ThursdaySchedule": "1",
                                    "FridaySchedule": "1",
                                    "SaturdaySchedule": "0"
                                },
                                {
                                    "StudentID": "1004",
                                    "ClassID": "2907",
                                    "ClassStatus": "2",
                                    "Grade": "74.23",
                                    "SubjectID": "46",
                                    "ClassRoomID": "3445",
                                    "Credits": "5",
                                    "SemesterNumber": "1",
                                    "StartDate": "2017-09-11",
                                    "StartTime": "08:00:00",
                                    "Duration": "50",
                                    "MondaySchedule": "1",
                                    "TuesdaySchedule": "1",
                                    "WednesdaySchedule": "1",
                                    "ThursdaySchedule": "1",
                                    "FridaySchedule": "1",
                                    "SaturdaySchedule": "0"
                                },
                                {
                                    "StudentID": "1003",
                                    "ClassID": "2911",
                                    "ClassStatus": "2",
                                    "Grade": "85.39",
                                    "SubjectID": "46",
                                    "ClassRoomID": "3445",
                                    "Credits": "5",
                                    "SemesterNumber": "1",
                                    "StartDate": "2017-09-11",
                                    "StartTime": "12:00:00",
                                    "Duration": "50",
                                    "MondaySchedule": "1",
                                    "TuesdaySchedule": "1",
                                    "WednesdaySchedule": "1",
                                    "ThursdaySchedule": "1",
                                    "FridaySchedule": "1",
                                    "SaturdaySchedule": "0"
                                },
                                {
                                    "StudentID": "1010",
                                    "ClassID": "2911",
                                    "ClassStatus": "3",
                                    "Grade": "0",
                                    "SubjectID": "46",
                                    "ClassRoomID": "3445",
                                    "Credits": "5",
                                    "SemesterNumber": "1",
                                    "StartDate": "2017-09-11",
                                    "StartTime": "12:00:00",
                                    "Duration": "50",
                                    "MondaySchedule": "1",
                                    "TuesdaySchedule": "1",
                                    "WednesdaySchedule": "1",
                                    "ThursdaySchedule": "1",
                                    "FridaySchedule": "1",
                                    "SaturdaySchedule": "0"
                                },
                                {
                                    "StudentID": "NULL",
                                    "ClassID": "2915",
                                    "ClassStatus": "NULL",
                                    "Grade": "NULL",
                                    "SubjectID": "46",
                                    "ClassRoomID": "3353",
                                    "Credits": "5",
                                    "SemesterNumber": "1",
                                    "StartDate": "2017-09-11",
                                    "StartTime": "10:00:00",
                                    "Duration": "50",
                                    "MondaySchedule": "1",
                                    "TuesdaySchedule": "1",
                                    "WednesdaySchedule": "1",
                                    "ThursdaySchedule": "1",
                                    "FridaySchedule": "1",
                                    "SaturdaySchedule": "0"
                                },
                                {
                                    "StudentID": "NULL",
                                    "ClassID": "2917",
                                    "ClassStatus": "NULL",
                                    "Grade": "NULL",
                                    "SubjectID": "47",
                                    "ClassRoomID": "3422",
                                    "Credits": "5",
                                    "SemesterNumber": "1",
                                    "StartDate": "2017-09-11",
                                    "StartTime": "14:00:00",
                                    "Duration": "50",
                                    "MondaySchedule": "1",
                                    "TuesdaySchedule": "1",
                                    "WednesdaySchedule": "1",
                                    "ThursdaySchedule": "1",
                                    "FridaySchedule": "1",
                                    "SaturdaySchedule": "0"
                                },
                                {
                                    "StudentID": "NULL",
                                    "ClassID": "2925",
                                    "ClassStatus": "NULL",
                                    "Grade": "NULL",
                                    "SubjectID": "47",
                                    "ClassRoomID": "3422",
                                    "Credits": "5",
                                    "SemesterNumber": "1",
                                    "StartDate": "2017-09-11",
                                    "StartTime": "15:00:00",
                                    "Duration": "50",
                                    "MondaySchedule": "1",
                                    "TuesdaySchedule": "1",
                                    "WednesdaySchedule": "1",
                                    "ThursdaySchedule": "1",
                                    "FridaySchedule": "1",
                                    "SaturdaySchedule": "0"
                                },
                                {
                                    "StudentID": "NULL",
                                    "ClassID": "2933",
                                    "ClassStatus": "NULL",
                                    "Grade": "NULL",
                                    "SubjectID": "47",
                                    "ClassRoomID": "3422",
                                    "Credits": "5",
                                    "SemesterNumber": "1",
                                    "StartDate": "2017-09-12",
                                    "StartTime": "09:00:00",
                                    "Duration": "280",
                                    "MondaySchedule": "0",
                                    "TuesdaySchedule": "0",
                                    "WednesdaySchedule": "0",
                                    "ThursdaySchedule": "0",
                                    "FridaySchedule": "0",
                                    "SaturdaySchedule": "1"
                                },
                                {
                                    "StudentID": "NULL",
                                    "ClassID": "3030",
                                    "ClassStatus": "NULL",
                                    "Grade": "NULL",
                                    "SubjectID": "30",
                                    "ClassRoomID": "3352",
                                    "Credits": "5",
                                    "SemesterNumber": "1",
                                    "StartDate": "2017-09-16",
                                    "StartTime": "09:00:00",
                                    "Duration": "140",
                                    "MondaySchedule": "1",
                                    "TuesdaySchedule": "0",
                                    "WednesdaySchedule": "0",
                                    "ThursdaySchedule": "0",
                                    "FridaySchedule": "1",
                                    "SaturdaySchedule": "0"
                                },
                                {
                                    "StudentID": "NULL",
                                    "ClassID": "3031",
                                    "ClassStatus": "NULL",
                                    "Grade": "NULL",
                                    "SubjectID": "30",
                                    "ClassRoomID": "3352",
                                    "Credits": "5",
                                    "SemesterNumber": "1",
                                    "StartDate": "2017-09-11",
                                    "StartTime": "13:30:00",
                                    "Duration": "140",
                                    "MondaySchedule": "1",
                                    "TuesdaySchedule": "0",
                                    "WednesdaySchedule": "1",
                                    "ThursdaySchedule": "0",
                                    "FridaySchedule": "0",
                                    "SaturdaySchedule": "0"
                                },
                                {
                                    "StudentID": "NULL",
                                    "ClassID": "3040",
                                    "ClassStatus": "NULL",
                                    "Grade": "NULL",
                                    "SubjectID": "31",
                                    "ClassRoomID": "3352",
                                    "Credits": "5",
                                    "SemesterNumber": "1",
                                    "StartDate": "2017-09-11",
                                    "StartTime": "11:00:00",
                                    "Duration": "50",
                                    "MondaySchedule": "1",
                                    "TuesdaySchedule": "1",
                                    "WednesdaySchedule": "1",
                                    "ThursdaySchedule": "1",
                                    "FridaySchedule": "1",
                                    "SaturdaySchedule": "0"
                                },
                                {
                                    "StudentID": "NULL",
                                    "ClassID": "3045",
                                    "ClassStatus": "NULL",
                                    "Grade": "NULL",
                                    "SubjectID": "31",
                                    "ClassRoomID": "3352",
                                    "Credits": "5",
                                    "SemesterNumber": "1",
                                    "StartDate": "2017-09-11",
                                    "StartTime": "12:00:00",
                                    "Duration": "50",
                                    "MondaySchedule": "1",
                                    "TuesdaySchedule": "1",
                                    "WednesdaySchedule": "1",
                                    "ThursdaySchedule": "1",
                                    "FridaySchedule": "1",
                                    "SaturdaySchedule": "0"
                                },
                                {
                                    "StudentID": "NULL",
                                    "ClassID": "3050",
                                    "ClassStatus": "NULL",
                                    "Grade": "NULL",
                                    "SubjectID": "32",
                                    "ClassRoomID": "3343",
                                    "Credits": "5",
                                    "SemesterNumber": "1",
                                    "StartDate": "2017-09-11",
                                    "StartTime": "16:00:00",
                                    "Duration": "50",
                                    "MondaySchedule": "1",
                                    "TuesdaySchedule": "1",
                                    "WednesdaySchedule": "1",
                                    "ThursdaySchedule": "1",
                                    "FridaySchedule": "1",
                                    "SaturdaySchedule": "0"
                                },
                                {
                                    "StudentID": "NULL",
                                    "ClassID": "3055",
                                    "ClassStatus": "NULL",
                                    "Grade": "NULL",
                                    "SubjectID": "32",
                                    "ClassRoomID": "3317",
                                    "Credits": "5",
                                    "SemesterNumber": "1",
                                    "StartDate": "2017-09-11",
                                    "StartTime": "15:00:00",
                                    "Duration": "50",
                                    "MondaySchedule": "1",
                                    "TuesdaySchedule": "1",
                                    "WednesdaySchedule": "1",
                                    "ThursdaySchedule": "1",
                                    "FridaySchedule": "1",
                                    "SaturdaySchedule": "0"
                                },
                                {
                                    "StudentID": "NULL",
                                    "ClassID": "3065",
                                    "ClassStatus": "NULL",
                                    "Grade": "NULL",
                                    "SubjectID": "40",
                                    "ClassRoomID": "3345",
                                    "Credits": "5",
                                    "SemesterNumber": "1",
                                    "StartDate": "2017-09-11",
                                    "StartTime": "08:00:00",
                                    "Duration": "140",
                                    "MondaySchedule": "1",
                                    "TuesdaySchedule": "0",
                                    "WednesdaySchedule": "1",
                                    "ThursdaySchedule": "0",
                                    "FridaySchedule": "0",
                                    "SaturdaySchedule": "0"
                                },
                                {
                                    "StudentID": "NULL",
                                    "ClassID": "3070",
                                    "ClassStatus": "NULL",
                                    "Grade": "NULL",
                                    "SubjectID": "42",
                                    "ClassRoomID": "3346",
                                    "Credits": "5",
                                    "SemesterNumber": "1",
                                    "StartDate": "2017-09-11",
                                    "StartTime": "10:30:00",
                                    "Duration": "140",
                                    "MondaySchedule": "1",
                                    "TuesdaySchedule": "0",
                                    "WednesdaySchedule": "0",
                                    "ThursdaySchedule": "0",
                                    "FridaySchedule": "1",
                                    "SaturdaySchedule": "0"
                                },
                                {
                                    "StudentID": "NULL",
                                    "ClassID": "3082",
                                    "ClassStatus": "NULL",
                                    "Grade": "NULL",
                                    "SubjectID": "44",
                                    "ClassRoomID": "3346",
                                    "Credits": "5",
                                    "SemesterNumber": "1",
                                    "StartDate": "2017-09-11",
                                    "StartTime": "08:00:00",
                                    "Duration": "50",
                                    "MondaySchedule": "1",
                                    "TuesdaySchedule": "1",
                                    "WednesdaySchedule": "1",
                                    "ThursdaySchedule": "1",
                                    "FridaySchedule": "1",
                                    "SaturdaySchedule": "0"
                                },
                                {
                                    "StudentID": "1001",
                                    "ClassID": "3085",
                                    "ClassStatus": "2",
                                    "Grade": "87.14",
                                    "SubjectID": "43",
                                    "ClassRoomID": "3346",
                                    "Credits": "5",
                                    "SemesterNumber": "1",
                                    "StartDate": "2017-09-11",
                                    "StartTime": "15:00:00",
                                    "Duration": "50",
                                    "MondaySchedule": "1",
                                    "TuesdaySchedule": "1",
                                    "WednesdaySchedule": "1",
                                    "ThursdaySchedule": "1",
                                    "FridaySchedule": "1",
                                    "SaturdaySchedule": "0"
                                },
                                {
                                    "StudentID": "1008",
                                    "ClassID": "3085",
                                    "ClassStatus": "2",
                                    "Grade": "67.6",
                                    "SubjectID": "43",
                                    "ClassRoomID": "3346",
                                    "Credits": "5",
                                    "SemesterNumber": "1",
                                    "StartDate": "2017-09-11",
                                    "StartTime": "15:00:00",
                                    "Duration": "50",
                                    "MondaySchedule": "1",
                                    "TuesdaySchedule": "1",
                                    "WednesdaySchedule": "1",
                                    "ThursdaySchedule": "1",
                                    "FridaySchedule": "1",
                                    "SaturdaySchedule": "0"
                                },
                                {
                                    "StudentID": "NULL",
                                    "ClassID": "3090",
                                    "ClassStatus": "NULL",
                                    "Grade": "NULL",
                                    "SubjectID": "44",
                                    "ClassRoomID": "3346",
                                    "Credits": "5",
                                    "SemesterNumber": "1",
                                    "StartDate": "2017-09-11",
                                    "StartTime": "13:30:00",
                                    "Duration": "140",
                                    "MondaySchedule": "1",
                                    "TuesdaySchedule": "0",
                                    "WednesdaySchedule": "1",
                                    "ThursdaySchedule": "0",
                                    "FridaySchedule": "1",
                                    "SaturdaySchedule": "0"
                                },
                                {
                                    "StudentID": "NULL",
                                    "ClassID": "3115",
                                    "ClassStatus": "NULL",
                                    "Grade": "NULL",
                                    "SubjectID": "54",
                                    "ClassRoomID": "3352",
                                    "Credits": "5",
                                    "SemesterNumber": "1",
                                    "StartDate": "2017-09-11",
                                    "StartTime": "08:00:00",
                                    "Duration": "50",
                                    "MondaySchedule": "1",
                                    "TuesdaySchedule": "1",
                                    "WednesdaySchedule": "1",
                                    "ThursdaySchedule": "1",
                                    "FridaySchedule": "1",
                                    "SaturdaySchedule": "0"
                                },
                                {
                                    "StudentID": "NULL",
                                    "ClassID": "3120",
                                    "ClassStatus": "NULL",
                                    "Grade": "NULL",
                                    "SubjectID": "54",
                                    "ClassRoomID": "3352",
                                    "Credits": "5",
                                    "SemesterNumber": "1",
                                    "StartDate": "2017-09-11",
                                    "StartTime": "10:00:00",
                                    "Duration": "50",
                                    "MondaySchedule": "1",
                                    "TuesdaySchedule": "1",
                                    "WednesdaySchedule": "1",
                                    "ThursdaySchedule": "1",
                                    "FridaySchedule": "1",
                                    "SaturdaySchedule": "0"
                                },
                                {
                                    "StudentID": "NULL",
                                    "ClassID": "3123",
                                    "ClassStatus": "NULL",
                                    "Grade": "NULL",
                                    "SubjectID": "56",
                                    "ClassRoomID": "3346",
                                    "Credits": "5",
                                    "SemesterNumber": "1",
                                    "StartDate": "2017-09-11",
                                    "StartTime": "12:00:00",
                                    "Duration": "140",
                                    "MondaySchedule": "1",
                                    "TuesdaySchedule": "0",
                                    "WednesdaySchedule": "0",
                                    "ThursdaySchedule": "0",
                                    "FridaySchedule": "1",
                                    "SaturdaySchedule": "0"
                                },
                                {
                                    "StudentID": "NULL",
                                    "ClassID": "3600",
                                    "ClassStatus": "NULL",
                                    "Grade": "NULL",
                                    "SubjectID": "41",
                                    "ClassRoomID": "3420",
                                    "Credits": "5",
                                    "SemesterNumber": "1",
                                    "StartDate": "2017-09-11",
                                    "StartTime": "13:00:00",
                                    "Duration": "140",
                                    "MondaySchedule": "1",
                                    "TuesdaySchedule": "0",
                                    "WednesdaySchedule": "1",
                                    "ThursdaySchedule": "0",
                                    "FridaySchedule": "0",
                                    "SaturdaySchedule": "0"
                                },
                                {
                                    "StudentID": "NULL",
                                    "ClassID": "4000",
                                    "ClassStatus": "NULL",
                                    "Grade": "NULL",
                                    "SubjectID": "11",
                                    "ClassRoomID": "1231",
                                    "Credits": "5",
                                    "SemesterNumber": "2",
                                    "StartDate": "2018-01-16",
                                    "StartTime": "10:00:00",
                                    "Duration": "50",
                                    "MondaySchedule": "0",
                                    "TuesdaySchedule": "1",
                                    "WednesdaySchedule": "1",
                                    "ThursdaySchedule": "1",
                                    "FridaySchedule": "1",
                                    "SaturdaySchedule": "1"
                                },
                                {
                                    "StudentID": "1006",
                                    "ClassID": "4002",
                                    "ClassStatus": "1",
                                    "Grade": "0",
                                    "SubjectID": "12",
                                    "ClassRoomID": "1619",
                                    "Credits": "4",
                                    "SemesterNumber": "2",
                                    "StartDate": "2018-01-15",
                                    "StartTime": "15:30:00",
                                    "Duration": "110",
                                    "MondaySchedule": "1",
                                    "TuesdaySchedule": "0",
                                    "WednesdaySchedule": "1",
                                    "ThursdaySchedule": "0",
                                    "FridaySchedule": "0",
                                    "SaturdaySchedule": "0"
                                },
                                {
                                    "StudentID": "1013",
                                    "ClassID": "4002",
                                    "ClassStatus": "1",
                                    "Grade": "0",
                                    "SubjectID": "12",
                                    "ClassRoomID": "1619",
                                    "Credits": "4",
                                    "SemesterNumber": "2",
                                    "StartDate": "2018-01-15",
                                    "StartTime": "15:30:00",
                                    "Duration": "110",
                                    "MondaySchedule": "1",
                                    "TuesdaySchedule": "0",
                                    "WednesdaySchedule": "1",
                                    "ThursdaySchedule": "0",
                                    "FridaySchedule": "0",
                                    "SaturdaySchedule": "0"
                                },
                                {
                                    "StudentID": "1017",
                                    "ClassID": "4002",
                                    "ClassStatus": "1",
                                    "Grade": "0",
                                    "SubjectID": "12",
                                    "ClassRoomID": "1619",
                                    "Credits": "4",
                                    "SemesterNumber": "2",
                                    "StartDate": "2018-01-15",
                                    "StartTime": "15:30:00",
                                    "Duration": "110",
                                    "MondaySchedule": "1",
                                    "TuesdaySchedule": "0",
                                    "WednesdaySchedule": "1",
                                    "ThursdaySchedule": "0",
                                    "FridaySchedule": "0",
                                    "SaturdaySchedule": "0"
                                },
                                {
                                    "StudentID": "NULL",
                                    "ClassID": "4004",
                                    "ClassStatus": "NULL",
                                    "Grade": "NULL",
                                    "SubjectID": "13",
                                    "ClassRoomID": "1627",
                                    "Credits": "4",
                                    "SemesterNumber": "2",
                                    "StartDate": "2018-01-15",
                                    "StartTime": "08:00:00",
                                    "Duration": "50",
                                    "MondaySchedule": "1",
                                    "TuesdaySchedule": "0",
                                    "WednesdaySchedule": "1",
                                    "ThursdaySchedule": "1",
                                    "FridaySchedule": "1",
                                    "SaturdaySchedule": "0"
                                },
                                {
                                    "StudentID": "NULL",
                                    "ClassID": "4006",
                                    "ClassStatus": "NULL",
                                    "Grade": "NULL",
                                    "SubjectID": "13",
                                    "ClassRoomID": "1627",
                                    "Credits": "4",
                                    "SemesterNumber": "2",
                                    "StartDate": "2018-01-15",
                                    "StartTime": "09:00:00",
                                    "Duration": "110",
                                    "MondaySchedule": "1",
                                    "TuesdaySchedule": "0",
                                    "WednesdaySchedule": "1",
                                    "ThursdaySchedule": "0",
                                    "FridaySchedule": "0",
                                    "SaturdaySchedule": "0"
                                },
                                {
                                    "StudentID": "NULL",
                                    "ClassID": "4012",
                                    "ClassStatus": "NULL",
                                    "Grade": "NULL",
                                    "SubjectID": "14",
                                    "ClassRoomID": "1627",
                                    "Credits": "4",
                                    "SemesterNumber": "2",
                                    "StartDate": "2018-01-16",
                                    "StartTime": "13:00:00",
                                    "Duration": "110",
                                    "MondaySchedule": "0",
                                    "TuesdaySchedule": "1",
                                    "WednesdaySchedule": "0",
                                    "ThursdaySchedule": "1",
                                    "FridaySchedule": "0",
                                    "SaturdaySchedule": "0"
                                },
                                {
                                    "StudentID": "1016",
                                    "ClassID": "4020",
                                    "ClassStatus": "1",
                                    "Grade": "0",
                                    "SubjectID": "15",
                                    "ClassRoomID": "3404",
                                    "Credits": "4",
                                    "SemesterNumber": "2",
                                    "StartDate": "2018-01-16",
                                    "StartTime": "13:00:00",
                                    "Duration": "110",
                                    "MondaySchedule": "0",
                                    "TuesdaySchedule": "1",
                                    "WednesdaySchedule": "0",
                                    "ThursdaySchedule": "1",
                                    "FridaySchedule": "0",
                                    "SaturdaySchedule": "0"
                                },
                                {
                                    "StudentID": "1004",
                                    "ClassID": "4020",
                                    "ClassStatus": "1",
                                    "Grade": "0",
                                    "SubjectID": "15",
                                    "ClassRoomID": "3404",
                                    "Credits": "4",
                                    "SemesterNumber": "2",
                                    "StartDate": "2018-01-16",
                                    "StartTime": "13:00:00",
                                    "Duration": "110",
                                    "MondaySchedule": "0",
                                    "TuesdaySchedule": "1",
                                    "WednesdaySchedule": "0",
                                    "ThursdaySchedule": "1",
                                    "FridaySchedule": "0",
                                    "SaturdaySchedule": "0"
                                },
                                {
                                    "StudentID": "NULL",
                                    "ClassID": "4030",
                                    "ClassStatus": "NULL",
                                    "Grade": "NULL",
                                    "SubjectID": "16",
                                    "ClassRoomID": "1231",
                                    "Credits": "5",
                                    "SemesterNumber": "2",
                                    "StartDate": "2018-01-15",
                                    "StartTime": "11:00:00",
                                    "Duration": "50",
                                    "MondaySchedule": "1",
                                    "TuesdaySchedule": "1",
                                    "WednesdaySchedule": "1",
                                    "ThursdaySchedule": "1",
                                    "FridaySchedule": "1",
                                    "SaturdaySchedule": "0"
                                },
                                {
                                    "StudentID": "NULL",
                                    "ClassID": "4031",
                                    "ClassStatus": "NULL",
                                    "Grade": "NULL",
                                    "SubjectID": "16",
                                    "ClassRoomID": "1231",
                                    "Credits": "5",
                                    "SemesterNumber": "2",
                                    "StartDate": "2018-01-15",
                                    "StartTime": "14:00:00",
                                    "Duration": "50",
                                    "MondaySchedule": "1",
                                    "TuesdaySchedule": "1",
                                    "WednesdaySchedule": "1",
                                    "ThursdaySchedule": "1",
                                    "FridaySchedule": "1",
                                    "SaturdaySchedule": "0"
                                },
                                {
                                    "StudentID": "NULL",
                                    "ClassID": "4156",
                                    "ClassStatus": "NULL",
                                    "Grade": "NULL",
                                    "SubjectID": "37",
                                    "ClassRoomID": "3443",
                                    "Credits": "5",
                                    "SemesterNumber": "2",
                                    "StartDate": "2018-01-15",
                                    "StartTime": "16:00:00",
                                    "Duration": "50",
                                    "MondaySchedule": "1",
                                    "TuesdaySchedule": "1",
                                    "WednesdaySchedule": "1",
                                    "ThursdaySchedule": "1",
                                    "FridaySchedule": "1",
                                    "SaturdaySchedule": "0"
                                },
                                {
                                    "StudentID": "NULL",
                                    "ClassID": "4162",
                                    "ClassStatus": "NULL",
                                    "Grade": "NULL",
                                    "SubjectID": "37",
                                    "ClassRoomID": "3443",
                                    "Credits": "5",
                                    "SemesterNumber": "2",
                                    "StartDate": "2018-01-15",
                                    "StartTime": "09:00:00",
                                    "Duration": "140",
                                    "MondaySchedule": "1",
                                    "TuesdaySchedule": "0",
                                    "WednesdaySchedule": "1",
                                    "ThursdaySchedule": "0",
                                    "FridaySchedule": "0",
                                    "SaturdaySchedule": "0"
                                },
                                {
                                    "StudentID": "NULL",
                                    "ClassID": "4168",
                                    "ClassStatus": "NULL",
                                    "Grade": "NULL",
                                    "SubjectID": "37",
                                    "ClassRoomID": "3445",
                                    "Credits": "5",
                                    "SemesterNumber": "2",
                                    "StartDate": "2018-01-15",
                                    "StartTime": "11:00:00",
                                    "Duration": "50",
                                    "MondaySchedule": "1",
                                    "TuesdaySchedule": "1",
                                    "WednesdaySchedule": "1",
                                    "ThursdaySchedule": "1",
                                    "FridaySchedule": "1",
                                    "SaturdaySchedule": "0"
                                },
                                {
                                    "StudentID": "1004",
                                    "ClassID": "4180",
                                    "ClassStatus": "1",
                                    "Grade": "0",
                                    "SubjectID": "38",
                                    "ClassRoomID": "3446",
                                    "Credits": "5",
                                    "SemesterNumber": "2",
                                    "StartDate": "2018-01-15",
                                    "StartTime": "11:30:00",
                                    "Duration": "140",
                                    "MondaySchedule": "1",
                                    "TuesdaySchedule": "0",
                                    "WednesdaySchedule": "1",
                                    "ThursdaySchedule": "0",
                                    "FridaySchedule": "0",
                                    "SaturdaySchedule": "0"
                                },
                                {
                                    "StudentID": "1003",
                                    "ClassID": "4180",
                                    "ClassStatus": "1",
                                    "Grade": "0",
                                    "SubjectID": "38",
                                    "ClassRoomID": "3446",
                                    "Credits": "5",
                                    "SemesterNumber": "2",
                                    "StartDate": "2018-01-15",
                                    "StartTime": "11:30:00",
                                    "Duration": "140",
                                    "MondaySchedule": "1",
                                    "TuesdaySchedule": "0",
                                    "WednesdaySchedule": "1",
                                    "ThursdaySchedule": "0",
                                    "FridaySchedule": "0",
                                    "SaturdaySchedule": "0"
                                },
                                {
                                    "StudentID": "1001",
                                    "ClassID": "4180",
                                    "ClassStatus": "1",
                                    "Grade": "0",
                                    "SubjectID": "38",
                                    "ClassRoomID": "3446",
                                    "Credits": "5",
                                    "SemesterNumber": "2",
                                    "StartDate": "2018-01-15",
                                    "StartTime": "11:30:00",
                                    "Duration": "140",
                                    "MondaySchedule": "1",
                                    "TuesdaySchedule": "0",
                                    "WednesdaySchedule": "1",
                                    "ThursdaySchedule": "0",
                                    "FridaySchedule": "0",
                                    "SaturdaySchedule": "0"
                                },
                                {
                                    "StudentID": "1006",
                                    "ClassID": "4180",
                                    "ClassStatus": "1",
                                    "Grade": "0",
                                    "SubjectID": "38",
                                    "ClassRoomID": "3446",
                                    "Credits": "5",
                                    "SemesterNumber": "2",
                                    "StartDate": "2018-01-15",
                                    "StartTime": "11:30:00",
                                    "Duration": "140",
                                    "MondaySchedule": "1",
                                    "TuesdaySchedule": "0",
                                    "WednesdaySchedule": "1",
                                    "ThursdaySchedule": "0",
                                    "FridaySchedule": "0",
                                    "SaturdaySchedule": "0"
                                },
                                {
                                    "StudentID": "1008",
                                    "ClassID": "4180",
                                    "ClassStatus": "1",
                                    "Grade": "0",
                                    "SubjectID": "38",
                                    "ClassRoomID": "3446",
                                    "Credits": "5",
                                    "SemesterNumber": "2",
                                    "StartDate": "2018-01-15",
                                    "StartTime": "11:30:00",
                                    "Duration": "140",
                                    "MondaySchedule": "1",
                                    "TuesdaySchedule": "0",
                                    "WednesdaySchedule": "1",
                                    "ThursdaySchedule": "0",
                                    "FridaySchedule": "0",
                                    "SaturdaySchedule": "0"
                                },
                                {
                                    "StudentID": "1016",
                                    "ClassID": "4180",
                                    "ClassStatus": "1",
                                    "Grade": "0",
                                    "SubjectID": "38",
                                    "ClassRoomID": "3446",
                                    "Credits": "5",
                                    "SemesterNumber": "2",
                                    "StartDate": "2018-01-15",
                                    "StartTime": "11:30:00",
                                    "Duration": "140",
                                    "MondaySchedule": "1",
                                    "TuesdaySchedule": "0",
                                    "WednesdaySchedule": "1",
                                    "ThursdaySchedule": "0",
                                    "FridaySchedule": "0",
                                    "SaturdaySchedule": "0"
                                },
                                {
                                    "StudentID": "1013",
                                    "ClassID": "4180",
                                    "ClassStatus": "1",
                                    "Grade": "0",
                                    "SubjectID": "38",
                                    "ClassRoomID": "3446",
                                    "Credits": "5",
                                    "SemesterNumber": "2",
                                    "StartDate": "2018-01-15",
                                    "StartTime": "11:30:00",
                                    "Duration": "140",
                                    "MondaySchedule": "1",
                                    "TuesdaySchedule": "0",
                                    "WednesdaySchedule": "1",
                                    "ThursdaySchedule": "0",
                                    "FridaySchedule": "0",
                                    "SaturdaySchedule": "0"
                                },
                                {
                                    "StudentID": "1011",
                                    "ClassID": "4180",
                                    "ClassStatus": "1",
                                    "Grade": "0",
                                    "SubjectID": "38",
                                    "ClassRoomID": "3446",
                                    "Credits": "5",
                                    "SemesterNumber": "2",
                                    "StartDate": "2018-01-15",
                                    "StartTime": "11:30:00",
                                    "Duration": "140",
                                    "MondaySchedule": "1",
                                    "TuesdaySchedule": "0",
                                    "WednesdaySchedule": "1",
                                    "ThursdaySchedule": "0",
                                    "FridaySchedule": "0",
                                    "SaturdaySchedule": "0"
                                },
                                {
                                    "StudentID": "1017",
                                    "ClassID": "4180",
                                    "ClassStatus": "1",
                                    "Grade": "0",
                                    "SubjectID": "38",
                                    "ClassRoomID": "3446",
                                    "Credits": "5",
                                    "SemesterNumber": "2",
                                    "StartDate": "2018-01-15",
                                    "StartTime": "11:30:00",
                                    "Duration": "140",
                                    "MondaySchedule": "1",
                                    "TuesdaySchedule": "0",
                                    "WednesdaySchedule": "1",
                                    "ThursdaySchedule": "0",
                                    "FridaySchedule": "0",
                                    "SaturdaySchedule": "0"
                                },
                                {
                                    "StudentID": "1009",
                                    "ClassID": "4183",
                                    "ClassStatus": "1",
                                    "Grade": "0",
                                    "SubjectID": "38",
                                    "ClassRoomID": "3415",
                                    "Credits": "5",
                                    "SemesterNumber": "2",
                                    "StartDate": "2018-01-15",
                                    "StartTime": "13:00:00",
                                    "Duration": "50",
                                    "MondaySchedule": "1",
                                    "TuesdaySchedule": "1",
                                    "WednesdaySchedule": "1",
                                    "ThursdaySchedule": "1",
                                    "FridaySchedule": "1",
                                    "SaturdaySchedule": "0"
                                },
                                {
                                    "StudentID": "1015",
                                    "ClassID": "4183",
                                    "ClassStatus": "1",
                                    "Grade": "0",
                                    "SubjectID": "38",
                                    "ClassRoomID": "3415",
                                    "Credits": "5",
                                    "SemesterNumber": "2",
                                    "StartDate": "2018-01-15",
                                    "StartTime": "13:00:00",
                                    "Duration": "50",
                                    "MondaySchedule": "1",
                                    "TuesdaySchedule": "1",
                                    "WednesdaySchedule": "1",
                                    "ThursdaySchedule": "1",
                                    "FridaySchedule": "1",
                                    "SaturdaySchedule": "0"
                                },
                                {
                                    "StudentID": "NULL",
                                    "ClassID": "4184",
                                    "ClassStatus": "NULL",
                                    "Grade": "NULL",
                                    "SubjectID": "38",
                                    "ClassRoomID": "3415",
                                    "Credits": "5",
                                    "SemesterNumber": "2",
                                    "StartDate": "2018-01-15",
                                    "StartTime": "14:00:00",
                                    "Duration": "50",
                                    "MondaySchedule": "1",
                                    "TuesdaySchedule": "1",
                                    "WednesdaySchedule": "1",
                                    "ThursdaySchedule": "1",
                                    "FridaySchedule": "1",
                                    "SaturdaySchedule": "0"
                                },
                                {
                                    "StudentID": "1015",
                                    "ClassID": "4196",
                                    "ClassStatus": "1",
                                    "Grade": "0",
                                    "SubjectID": "39",
                                    "ClassRoomID": "3415",
                                    "Credits": "5",
                                    "SemesterNumber": "2",
                                    "StartDate": "2018-01-15",
                                    "StartTime": "15:00:00",
                                    "Duration": "50",
                                    "MondaySchedule": "1",
                                    "TuesdaySchedule": "1",
                                    "WednesdaySchedule": "1",
                                    "ThursdaySchedule": "1",
                                    "FridaySchedule": "1",
                                    "SaturdaySchedule": "0"
                                },
                                {
                                    "StudentID": "1014",
                                    "ClassID": "4196",
                                    "ClassStatus": "1",
                                    "Grade": "0",
                                    "SubjectID": "39",
                                    "ClassRoomID": "3415",
                                    "Credits": "5",
                                    "SemesterNumber": "2",
                                    "StartDate": "2018-01-15",
                                    "StartTime": "15:00:00",
                                    "Duration": "50",
                                    "MondaySchedule": "1",
                                    "TuesdaySchedule": "1",
                                    "WednesdaySchedule": "1",
                                    "ThursdaySchedule": "1",
                                    "FridaySchedule": "1",
                                    "SaturdaySchedule": "0"
                                },
                                {
                                    "StudentID": "1009",
                                    "ClassID": "4196",
                                    "ClassStatus": "1",
                                    "Grade": "0",
                                    "SubjectID": "39",
                                    "ClassRoomID": "3415",
                                    "Credits": "5",
                                    "SemesterNumber": "2",
                                    "StartDate": "2018-01-15",
                                    "StartTime": "15:00:00",
                                    "Duration": "50",
                                    "MondaySchedule": "1",
                                    "TuesdaySchedule": "1",
                                    "WednesdaySchedule": "1",
                                    "ThursdaySchedule": "1",
                                    "FridaySchedule": "1",
                                    "SaturdaySchedule": "0"
                                },
                                {
                                    "StudentID": "1012",
                                    "ClassID": "4196",
                                    "ClassStatus": "1",
                                    "Grade": "0",
                                    "SubjectID": "39",
                                    "ClassRoomID": "3415",
                                    "Credits": "5",
                                    "SemesterNumber": "2",
                                    "StartDate": "2018-01-15",
                                    "StartTime": "15:00:00",
                                    "Duration": "50",
                                    "MondaySchedule": "1",
                                    "TuesdaySchedule": "1",
                                    "WednesdaySchedule": "1",
                                    "ThursdaySchedule": "1",
                                    "FridaySchedule": "1",
                                    "SaturdaySchedule": "0"
                                },
                                {
                                    "StudentID": "1007",
                                    "ClassID": "4196",
                                    "ClassStatus": "1",
                                    "Grade": "0",
                                    "SubjectID": "39",
                                    "ClassRoomID": "3415",
                                    "Credits": "5",
                                    "SemesterNumber": "2",
                                    "StartDate": "2018-01-15",
                                    "StartTime": "15:00:00",
                                    "Duration": "50",
                                    "MondaySchedule": "1",
                                    "TuesdaySchedule": "1",
                                    "WednesdaySchedule": "1",
                                    "ThursdaySchedule": "1",
                                    "FridaySchedule": "1",
                                    "SaturdaySchedule": "0"
                                },
                                {
                                    "StudentID": "1005",
                                    "ClassID": "4196",
                                    "ClassStatus": "1",
                                    "Grade": "0",
                                    "SubjectID": "39",
                                    "ClassRoomID": "3415",
                                    "Credits": "5",
                                    "SemesterNumber": "2",
                                    "StartDate": "2018-01-15",
                                    "StartTime": "15:00:00",
                                    "Duration": "50",
                                    "MondaySchedule": "1",
                                    "TuesdaySchedule": "1",
                                    "WednesdaySchedule": "1",
                                    "ThursdaySchedule": "1",
                                    "FridaySchedule": "1",
                                    "SaturdaySchedule": "0"
                                },
                                {
                                    "StudentID": "1018",
                                    "ClassID": "4196",
                                    "ClassStatus": "1",
                                    "Grade": "0",
                                    "SubjectID": "39",
                                    "ClassRoomID": "3415",
                                    "Credits": "5",
                                    "SemesterNumber": "2",
                                    "StartDate": "2018-01-15",
                                    "StartTime": "15:00:00",
                                    "Duration": "50",
                                    "MondaySchedule": "1",
                                    "TuesdaySchedule": "1",
                                    "WednesdaySchedule": "1",
                                    "ThursdaySchedule": "1",
                                    "FridaySchedule": "1",
                                    "SaturdaySchedule": "0"
                                },
                                {
                                    "StudentID": "NULL",
                                    "ClassID": "4500",
                                    "ClassStatus": "NULL",
                                    "Grade": "NULL",
                                    "SubjectID": "33",
                                    "ClassRoomID": "1142",
                                    "Credits": "5",
                                    "SemesterNumber": "2",
                                    "StartDate": "2018-01-15",
                                    "StartTime": "08:00:00",
                                    "Duration": "50",
                                    "MondaySchedule": "1",
                                    "TuesdaySchedule": "1",
                                    "WednesdaySchedule": "1",
                                    "ThursdaySchedule": "1",
                                    "FridaySchedule": "1",
                                    "SaturdaySchedule": "0"
                                },
                                {
                                    "StudentID": "NULL",
                                    "ClassID": "4502",
                                    "ClassStatus": "NULL",
                                    "Grade": "NULL",
                                    "SubjectID": "34",
                                    "ClassRoomID": "1142",
                                    "Credits": "5",
                                    "SemesterNumber": "2",
                                    "StartDate": "2018-01-15",
                                    "StartTime": "09:00:00",
                                    "Duration": "50",
                                    "MondaySchedule": "1",
                                    "TuesdaySchedule": "1",
                                    "WednesdaySchedule": "1",
                                    "ThursdaySchedule": "1",
                                    "FridaySchedule": "1",
                                    "SaturdaySchedule": "0"
                                },
                                {
                                    "StudentID": "1003",
                                    "ClassID": "4560",
                                    "ClassStatus": "1",
                                    "Grade": "0",
                                    "SubjectID": "35",
                                    "ClassRoomID": "2408",
                                    "Credits": "3",
                                    "SemesterNumber": "2",
                                    "StartDate": "2018-01-16",
                                    "StartTime": "10:00:00",
                                    "Duration": "50",
                                    "MondaySchedule": "0",
                                    "TuesdaySchedule": "1",
                                    "WednesdaySchedule": "0",
                                    "ThursdaySchedule": "1",
                                    "FridaySchedule": "0",
                                    "SaturdaySchedule": "1"
                                },
                                {
                                    "StudentID": "NULL",
                                    "ClassID": "4562",
                                    "ClassStatus": "NULL",
                                    "Grade": "NULL",
                                    "SubjectID": "36",
                                    "ClassRoomID": "2408",
                                    "Credits": "5",
                                    "SemesterNumber": "2",
                                    "StartDate": "2018-01-15",
                                    "StartTime": "12:00:00",
                                    "Duration": "140",
                                    "MondaySchedule": "1",
                                    "TuesdaySchedule": "0",
                                    "WednesdaySchedule": "0",
                                    "ThursdaySchedule": "0",
                                    "FridaySchedule": "1",
                                    "SaturdaySchedule": "0"
                                },
                                {
                                    "StudentID": "NULL",
                                    "ClassID": "4642",
                                    "ClassStatus": "NULL",
                                    "Grade": "NULL",
                                    "SubjectID": "29",
                                    "ClassRoomID": "1514",
                                    "Credits": "2",
                                    "SemesterNumber": "2",
                                    "StartDate": "2018-01-16",
                                    "StartTime": "11:00:00",
                                    "Duration": "50",
                                    "MondaySchedule": "0",
                                    "TuesdaySchedule": "1",
                                    "WednesdaySchedule": "0",
                                    "ThursdaySchedule": "1",
                                    "FridaySchedule": "0",
                                    "SaturdaySchedule": "0"
                                },
                                {
                                    "StudentID": "NULL",
                                    "ClassID": "5001",
                                    "ClassStatus": "NULL",
                                    "Grade": "NULL",
                                    "SubjectID": "20",
                                    "ClassRoomID": "1519",
                                    "Credits": "5",
                                    "SemesterNumber": "2",
                                    "StartDate": "2018-01-15",
                                    "StartTime": "07:30:00",
                                    "Duration": "140",
                                    "MondaySchedule": "1",
                                    "TuesdaySchedule": "0",
                                    "WednesdaySchedule": "1",
                                    "ThursdaySchedule": "0",
                                    "FridaySchedule": "0",
                                    "SaturdaySchedule": "0"
                                },
                                {
                                    "StudentID": "NULL",
                                    "ClassID": "5005",
                                    "ClassStatus": "NULL",
                                    "Grade": "NULL",
                                    "SubjectID": "20",
                                    "ClassRoomID": "1515",
                                    "Credits": "5",
                                    "SemesterNumber": "2",
                                    "StartDate": "2018-01-16",
                                    "StartTime": "11:00:00",
                                    "Duration": "50",
                                    "MondaySchedule": "0",
                                    "TuesdaySchedule": "1",
                                    "WednesdaySchedule": "1",
                                    "ThursdaySchedule": "1",
                                    "FridaySchedule": "1",
                                    "SaturdaySchedule": "1"
                                },
                                {
                                    "StudentID": "NULL",
                                    "ClassID": "5015",
                                    "ClassStatus": "NULL",
                                    "Grade": "NULL",
                                    "SubjectID": "21",
                                    "ClassRoomID": "1131",
                                    "Credits": "5",
                                    "SemesterNumber": "2",
                                    "StartDate": "2018-01-15",
                                    "StartTime": "09:00:00",
                                    "Duration": "140",
                                    "MondaySchedule": "1",
                                    "TuesdaySchedule": "0",
                                    "WednesdaySchedule": "1",
                                    "ThursdaySchedule": "0",
                                    "FridaySchedule": "0",
                                    "SaturdaySchedule": "0"
                                },
                                {
                                    "StudentID": "NULL",
                                    "ClassID": "5051",
                                    "ClassStatus": "NULL",
                                    "Grade": "NULL",
                                    "SubjectID": "22",
                                    "ClassRoomID": "1515",
                                    "Credits": "4",
                                    "SemesterNumber": "2",
                                    "StartDate": "2018-01-15",
                                    "StartTime": "14:30:00",
                                    "Duration": "50",
                                    "MondaySchedule": "1",
                                    "TuesdaySchedule": "1",
                                    "WednesdaySchedule": "1",
                                    "ThursdaySchedule": "1",
                                    "FridaySchedule": "0",
                                    "SaturdaySchedule": "0"
                                },
                                {
                                    "StudentID": "1007",
                                    "ClassID": "5071",
                                    "ClassStatus": "1",
                                    "Grade": "0",
                                    "SubjectID": "50",
                                    "ClassRoomID": "1624",
                                    "Credits": "5",
                                    "SemesterNumber": "2",
                                    "StartDate": "2018-01-15",
                                    "StartTime": "10:00:00",
                                    "Duration": "50",
                                    "MondaySchedule": "1",
                                    "TuesdaySchedule": "1",
                                    "WednesdaySchedule": "1",
                                    "ThursdaySchedule": "1",
                                    "FridaySchedule": "1",
                                    "SaturdaySchedule": "0"
                                },
                                {
                                    "StudentID": "1014",
                                    "ClassID": "5071",
                                    "ClassStatus": "1",
                                    "Grade": "0",
                                    "SubjectID": "50",
                                    "ClassRoomID": "1624",
                                    "Credits": "5",
                                    "SemesterNumber": "2",
                                    "StartDate": "2018-01-15",
                                    "StartTime": "10:00:00",
                                    "Duration": "50",
                                    "MondaySchedule": "1",
                                    "TuesdaySchedule": "1",
                                    "WednesdaySchedule": "1",
                                    "ThursdaySchedule": "1",
                                    "FridaySchedule": "1",
                                    "SaturdaySchedule": "0"
                                },
                                {
                                    "StudentID": "1018",
                                    "ClassID": "5071",
                                    "ClassStatus": "1",
                                    "Grade": "0",
                                    "SubjectID": "50",
                                    "ClassRoomID": "1624",
                                    "Credits": "5",
                                    "SemesterNumber": "2",
                                    "StartDate": "2018-01-15",
                                    "StartTime": "10:00:00",
                                    "Duration": "50",
                                    "MondaySchedule": "1",
                                    "TuesdaySchedule": "1",
                                    "WednesdaySchedule": "1",
                                    "ThursdaySchedule": "1",
                                    "FridaySchedule": "1",
                                    "SaturdaySchedule": "0"
                                },
                                {
                                    "StudentID": "NULL",
                                    "ClassID": "5075",
                                    "ClassStatus": "NULL",
                                    "Grade": "NULL",
                                    "SubjectID": "51",
                                    "ClassRoomID": "1624",
                                    "Credits": "5",
                                    "SemesterNumber": "2",
                                    "StartDate": "2018-01-15",
                                    "StartTime": "07:00:00",
                                    "Duration": "140",
                                    "MondaySchedule": "1",
                                    "TuesdaySchedule": "0",
                                    "WednesdaySchedule": "0",
                                    "ThursdaySchedule": "0",
                                    "FridaySchedule": "1",
                                    "SaturdaySchedule": "0"
                                },
                                {
                                    "StudentID": "NULL",
                                    "ClassID": "5089",
                                    "ClassStatus": "NULL",
                                    "Grade": "NULL",
                                    "SubjectID": "52",
                                    "ClassRoomID": "1624",
                                    "Credits": "5",
                                    "SemesterNumber": "2",
                                    "StartDate": "2018-01-16",
                                    "StartTime": "16:00:00",
                                    "Duration": "50",
                                    "MondaySchedule": "0",
                                    "TuesdaySchedule": "1",
                                    "WednesdaySchedule": "1",
                                    "ThursdaySchedule": "1",
                                    "FridaySchedule": "1",
                                    "SaturdaySchedule": "1"
                                },
                                {
                                    "StudentID": "NULL",
                                    "ClassID": "5103",
                                    "ClassStatus": "NULL",
                                    "Grade": "NULL",
                                    "SubjectID": "53",
                                    "ClassRoomID": "1624",
                                    "Credits": "5",
                                    "SemesterNumber": "2",
                                    "StartDate": "2018-01-15",
                                    "StartTime": "11:00:00",
                                    "Duration": "50",
                                    "MondaySchedule": "1",
                                    "TuesdaySchedule": "1",
                                    "WednesdaySchedule": "1",
                                    "ThursdaySchedule": "1",
                                    "FridaySchedule": "1",
                                    "SaturdaySchedule": "0"
                                },
                                {
                                    "StudentID": "NULL",
                                    "ClassID": "5213",
                                    "ClassStatus": "NULL",
                                    "Grade": "NULL",
                                    "SubjectID": "17",
                                    "ClassRoomID": "1532",
                                    "Credits": "5",
                                    "SemesterNumber": "2",
                                    "StartDate": "2018-01-15",
                                    "StartTime": "10:00:00",
                                    "Duration": "140",
                                    "MondaySchedule": "1",
                                    "TuesdaySchedule": "0",
                                    "WednesdaySchedule": "1",
                                    "ThursdaySchedule": "0",
                                    "FridaySchedule": "0",
                                    "SaturdaySchedule": "0"
                                },
                                {
                                    "StudentID": "NULL",
                                    "ClassID": "5223",
                                    "ClassStatus": "NULL",
                                    "Grade": "NULL",
                                    "SubjectID": "18",
                                    "ClassRoomID": "1532",
                                    "Credits": "5",
                                    "SemesterNumber": "2",
                                    "StartDate": "2018-01-15",
                                    "StartTime": "12:00:00",
                                    "Duration": "50",
                                    "MondaySchedule": "1",
                                    "TuesdaySchedule": "1",
                                    "WednesdaySchedule": "1",
                                    "ThursdaySchedule": "1",
                                    "FridaySchedule": "1",
                                    "SaturdaySchedule": "0"
                                },
                                {
                                    "StudentID": "NULL",
                                    "ClassID": "5245",
                                    "ClassStatus": "NULL",
                                    "Grade": "NULL",
                                    "SubjectID": "19",
                                    "ClassRoomID": "1530",
                                    "Credits": "5",
                                    "SemesterNumber": "2",
                                    "StartDate": "2018-01-15",
                                    "StartTime": "13:30:00",
                                    "Duration": "140",
                                    "MondaySchedule": "1",
                                    "TuesdaySchedule": "0",
                                    "WednesdaySchedule": "1",
                                    "ThursdaySchedule": "0",
                                    "FridaySchedule": "0",
                                    "SaturdaySchedule": "0"
                                },
                                {
                                    "StudentID": "NULL",
                                    "ClassID": "5410",
                                    "ClassStatus": "NULL",
                                    "Grade": "NULL",
                                    "SubjectID": "23",
                                    "ClassRoomID": "1640",
                                    "Credits": "4",
                                    "SemesterNumber": "2",
                                    "StartDate": "2018-01-16",
                                    "StartTime": "10:00:00",
                                    "Duration": "110",
                                    "MondaySchedule": "0",
                                    "TuesdaySchedule": "1",
                                    "WednesdaySchedule": "0",
                                    "ThursdaySchedule": "1",
                                    "FridaySchedule": "0",
                                    "SaturdaySchedule": "0"
                                },
                                {
                                    "StudentID": "NULL",
                                    "ClassID": "5420",
                                    "ClassStatus": "NULL",
                                    "Grade": "NULL",
                                    "SubjectID": "24",
                                    "ClassRoomID": "1641",
                                    "Credits": "4",
                                    "SemesterNumber": "2",
                                    "StartDate": "2018-01-15",
                                    "StartTime": "13:00:00",
                                    "Duration": "50",
                                    "MondaySchedule": "1",
                                    "TuesdaySchedule": "0",
                                    "WednesdaySchedule": "1",
                                    "ThursdaySchedule": "0",
                                    "FridaySchedule": "1",
                                    "SaturdaySchedule": "1"
                                },
                                {
                                    "StudentID": "1016",
                                    "ClassID": "5430",
                                    "ClassStatus": "1",
                                    "Grade": "0",
                                    "SubjectID": "25",
                                    "ClassRoomID": "1642",
                                    "Credits": "4",
                                    "SemesterNumber": "2",
                                    "StartDate": "2018-01-15",
                                    "StartTime": "15:00:00",
                                    "Duration": "50",
                                    "MondaySchedule": "1",
                                    "TuesdaySchedule": "1",
                                    "WednesdaySchedule": "0",
                                    "ThursdaySchedule": "1",
                                    "FridaySchedule": "0",
                                    "SaturdaySchedule": "1"
                                },
                                {
                                    "StudentID": "1011",
                                    "ClassID": "5430",
                                    "ClassStatus": "1",
                                    "Grade": "0",
                                    "SubjectID": "25",
                                    "ClassRoomID": "1642",
                                    "Credits": "4",
                                    "SemesterNumber": "2",
                                    "StartDate": "2018-01-15",
                                    "StartTime": "15:00:00",
                                    "Duration": "50",
                                    "MondaySchedule": "1",
                                    "TuesdaySchedule": "1",
                                    "WednesdaySchedule": "0",
                                    "ThursdaySchedule": "1",
                                    "FridaySchedule": "0",
                                    "SaturdaySchedule": "1"
                                },
                                {
                                    "StudentID": "1004",
                                    "ClassID": "5430",
                                    "ClassStatus": "1",
                                    "Grade": "0",
                                    "SubjectID": "25",
                                    "ClassRoomID": "1642",
                                    "Credits": "4",
                                    "SemesterNumber": "2",
                                    "StartDate": "2018-01-15",
                                    "StartTime": "15:00:00",
                                    "Duration": "50",
                                    "MondaySchedule": "1",
                                    "TuesdaySchedule": "1",
                                    "WednesdaySchedule": "0",
                                    "ThursdaySchedule": "1",
                                    "FridaySchedule": "0",
                                    "SaturdaySchedule": "1"
                                },
                                {
                                    "StudentID": "NULL",
                                    "ClassID": "5431",
                                    "ClassStatus": "NULL",
                                    "Grade": "NULL",
                                    "SubjectID": "27",
                                    "ClassRoomID": "3322",
                                    "Credits": "5",
                                    "SemesterNumber": "2",
                                    "StartDate": "2018-01-15",
                                    "StartTime": "14:00:00",
                                    "Duration": "50",
                                    "MondaySchedule": "1",
                                    "TuesdaySchedule": "1",
                                    "WednesdaySchedule": "1",
                                    "ThursdaySchedule": "1",
                                    "FridaySchedule": "1",
                                    "SaturdaySchedule": "0"
                                },
                                {
                                    "StudentID": "NULL",
                                    "ClassID": "5451",
                                    "ClassStatus": "NULL",
                                    "Grade": "NULL",
                                    "SubjectID": "27",
                                    "ClassRoomID": "1639",
                                    "Credits": "5",
                                    "SemesterNumber": "2",
                                    "StartDate": "2018-01-15",
                                    "StartTime": "16:00:00",
                                    "Duration": "50",
                                    "MondaySchedule": "1",
                                    "TuesdaySchedule": "1",
                                    "WednesdaySchedule": "1",
                                    "ThursdaySchedule": "1",
                                    "FridaySchedule": "1",
                                    "SaturdaySchedule": "0"
                                },
                                {
                                    "StudentID": "NULL",
                                    "ClassID": "5500",
                                    "ClassStatus": "NULL",
                                    "Grade": "NULL",
                                    "SubjectID": "1",
                                    "ClassRoomID": "3305",
                                    "Credits": "3",
                                    "SemesterNumber": "2",
                                    "StartDate": "2018-01-15",
                                    "StartTime": "16:00:00",
                                    "Duration": "50",
                                    "MondaySchedule": "1",
                                    "TuesdaySchedule": "0",
                                    "WednesdaySchedule": "1",
                                    "ThursdaySchedule": "0",
                                    "FridaySchedule": "1",
                                    "SaturdaySchedule": "0"
                                },
                                {
                                    "StudentID": "1005",
                                    "ClassID": "5510",
                                    "ClassStatus": "1",
                                    "Grade": "0",
                                    "SubjectID": "2",
                                    "ClassRoomID": "3307",
                                    "Credits": "3",
                                    "SemesterNumber": "2",
                                    "StartDate": "2018-01-16",
                                    "StartTime": "13:00:00",
                                    "Duration": "80",
                                    "MondaySchedule": "0",
                                    "TuesdaySchedule": "1",
                                    "WednesdaySchedule": "0",
                                    "ThursdaySchedule": "1",
                                    "FridaySchedule": "0",
                                    "SaturdaySchedule": "0"
                                },
                                {
                                    "StudentID": "1012",
                                    "ClassID": "5510",
                                    "ClassStatus": "1",
                                    "Grade": "0",
                                    "SubjectID": "2",
                                    "ClassRoomID": "3307",
                                    "Credits": "3",
                                    "SemesterNumber": "2",
                                    "StartDate": "2018-01-16",
                                    "StartTime": "13:00:00",
                                    "Duration": "80",
                                    "MondaySchedule": "0",
                                    "TuesdaySchedule": "1",
                                    "WednesdaySchedule": "0",
                                    "ThursdaySchedule": "1",
                                    "FridaySchedule": "0",
                                    "SaturdaySchedule": "0"
                                },
                                {
                                    "StudentID": "NULL",
                                    "ClassID": "5520",
                                    "ClassStatus": "NULL",
                                    "Grade": "NULL",
                                    "SubjectID": "3",
                                    "ClassRoomID": "3309",
                                    "Credits": "3",
                                    "SemesterNumber": "2",
                                    "StartDate": "2018-01-16",
                                    "StartTime": "09:00:00",
                                    "Duration": "50",
                                    "MondaySchedule": "0",
                                    "TuesdaySchedule": "1",
                                    "WednesdaySchedule": "0",
                                    "ThursdaySchedule": "1",
                                    "FridaySchedule": "0",
                                    "SaturdaySchedule": "1"
                                },
                                {
                                    "StudentID": "NULL",
                                    "ClassID": "5633",
                                    "ClassStatus": "NULL",
                                    "Grade": "NULL",
                                    "SubjectID": "48",
                                    "ClassRoomID": "3420",
                                    "Credits": "5",
                                    "SemesterNumber": "2",
                                    "StartDate": "2018-01-16",
                                    "StartTime": "16:00:00",
                                    "Duration": "50",
                                    "MondaySchedule": "0",
                                    "TuesdaySchedule": "1",
                                    "WednesdaySchedule": "1",
                                    "ThursdaySchedule": "1",
                                    "FridaySchedule": "1",
                                    "SaturdaySchedule": "1"
                                },
                                {
                                    "StudentID": "NULL",
                                    "ClassID": "5639",
                                    "ClassStatus": "NULL",
                                    "Grade": "NULL",
                                    "SubjectID": "49",
                                    "ClassRoomID": "3353",
                                    "Credits": "3",
                                    "SemesterNumber": "2",
                                    "StartDate": "2018-01-15",
                                    "StartTime": "09:00:00",
                                    "Duration": "50",
                                    "MondaySchedule": "1",
                                    "TuesdaySchedule": "0",
                                    "WednesdaySchedule": "1",
                                    "ThursdaySchedule": "0",
                                    "FridaySchedule": "1",
                                    "SaturdaySchedule": "0"
                                },
                                {
                                    "StudentID": "NULL",
                                    "ClassID": "5647",
                                    "ClassStatus": "NULL",
                                    "Grade": "NULL",
                                    "SubjectID": "49",
                                    "ClassRoomID": "3353",
                                    "Credits": "3",
                                    "SemesterNumber": "2",
                                    "StartDate": "2018-01-16",
                                    "StartTime": "18:00:00",
                                    "Duration": "50",
                                    "MondaySchedule": "0",
                                    "TuesdaySchedule": "1",
                                    "WednesdaySchedule": "0",
                                    "ThursdaySchedule": "1",
                                    "FridaySchedule": "0",
                                    "SaturdaySchedule": "1"
                                },
                                {
                                    "StudentID": "NULL",
                                    "ClassID": "5889",
                                    "ClassStatus": "NULL",
                                    "Grade": "NULL",
                                    "SubjectID": "45",
                                    "ClassRoomID": "2423",
                                    "Credits": "5",
                                    "SemesterNumber": "2",
                                    "StartDate": "2018-01-15",
                                    "StartTime": "16:00:00",
                                    "Duration": "50",
                                    "MondaySchedule": "1",
                                    "TuesdaySchedule": "1",
                                    "WednesdaySchedule": "1",
                                    "ThursdaySchedule": "1",
                                    "FridaySchedule": "1",
                                    "SaturdaySchedule": "0"
                                },
                                {
                                    "StudentID": "NULL",
                                    "ClassID": "5891",
                                    "ClassStatus": "NULL",
                                    "Grade": "NULL",
                                    "SubjectID": "45",
                                    "ClassRoomID": "2423",
                                    "Credits": "5",
                                    "SemesterNumber": "2",
                                    "StartDate": "2018-01-15",
                                    "StartTime": "11:00:00",
                                    "Duration": "50",
                                    "MondaySchedule": "1",
                                    "TuesdaySchedule": "1",
                                    "WednesdaySchedule": "1",
                                    "ThursdaySchedule": "1",
                                    "FridaySchedule": "1",
                                    "SaturdaySchedule": "0"
                                },
                                {
                                    "StudentID": "NULL",
                                    "ClassID": "5895",
                                    "ClassStatus": "NULL",
                                    "Grade": "NULL",
                                    "SubjectID": "45",
                                    "ClassRoomID": "2423",
                                    "Credits": "5",
                                    "SemesterNumber": "2",
                                    "StartDate": "2018-01-15",
                                    "StartTime": "13:00:00",
                                    "Duration": "50",
                                    "MondaySchedule": "1",
                                    "TuesdaySchedule": "1",
                                    "WednesdaySchedule": "1",
                                    "ThursdaySchedule": "1",
                                    "FridaySchedule": "1",
                                    "SaturdaySchedule": "0"
                                },
                                {
                                    "StudentID": "1013",
                                    "ClassID": "5907",
                                    "ClassStatus": "1",
                                    "Grade": "0",
                                    "SubjectID": "46",
                                    "ClassRoomID": "3445",
                                    "Credits": "5",
                                    "SemesterNumber": "2",
                                    "StartDate": "2018-01-15",
                                    "StartTime": "08:00:00",
                                    "Duration": "50",
                                    "MondaySchedule": "1",
                                    "TuesdaySchedule": "1",
                                    "WednesdaySchedule": "1",
                                    "ThursdaySchedule": "1",
                                    "FridaySchedule": "1",
                                    "SaturdaySchedule": "0"
                                },
                                {
                                    "StudentID": "1006",
                                    "ClassID": "5907",
                                    "ClassStatus": "1",
                                    "Grade": "0",
                                    "SubjectID": "46",
                                    "ClassRoomID": "3445",
                                    "Credits": "5",
                                    "SemesterNumber": "2",
                                    "StartDate": "2018-01-15",
                                    "StartTime": "08:00:00",
                                    "Duration": "50",
                                    "MondaySchedule": "1",
                                    "TuesdaySchedule": "1",
                                    "WednesdaySchedule": "1",
                                    "ThursdaySchedule": "1",
                                    "FridaySchedule": "1",
                                    "SaturdaySchedule": "0"
                                },
                                {
                                    "StudentID": "1017",
                                    "ClassID": "5907",
                                    "ClassStatus": "1",
                                    "Grade": "0",
                                    "SubjectID": "46",
                                    "ClassRoomID": "3445",
                                    "Credits": "5",
                                    "SemesterNumber": "2",
                                    "StartDate": "2018-01-15",
                                    "StartTime": "08:00:00",
                                    "Duration": "50",
                                    "MondaySchedule": "1",
                                    "TuesdaySchedule": "1",
                                    "WednesdaySchedule": "1",
                                    "ThursdaySchedule": "1",
                                    "FridaySchedule": "1",
                                    "SaturdaySchedule": "0"
                                },
                                {
                                    "StudentID": "NULL",
                                    "ClassID": "5911",
                                    "ClassStatus": "NULL",
                                    "Grade": "NULL",
                                    "SubjectID": "46",
                                    "ClassRoomID": "3445",
                                    "Credits": "5",
                                    "SemesterNumber": "2",
                                    "StartDate": "2018-01-15",
                                    "StartTime": "12:00:00",
                                    "Duration": "50",
                                    "MondaySchedule": "1",
                                    "TuesdaySchedule": "1",
                                    "WednesdaySchedule": "1",
                                    "ThursdaySchedule": "1",
                                    "FridaySchedule": "1",
                                    "SaturdaySchedule": "0"
                                },
                                {
                                    "StudentID": "NULL",
                                    "ClassID": "5915",
                                    "ClassStatus": "NULL",
                                    "Grade": "NULL",
                                    "SubjectID": "46",
                                    "ClassRoomID": "3353",
                                    "Credits": "5",
                                    "SemesterNumber": "2",
                                    "StartDate": "2018-01-15",
                                    "StartTime": "10:00:00",
                                    "Duration": "50",
                                    "MondaySchedule": "1",
                                    "TuesdaySchedule": "1",
                                    "WednesdaySchedule": "1",
                                    "ThursdaySchedule": "1",
                                    "FridaySchedule": "1",
                                    "SaturdaySchedule": "0"
                                },
                                {
                                    "StudentID": "1005",
                                    "ClassID": "5917",
                                    "ClassStatus": "1",
                                    "Grade": "0",
                                    "SubjectID": "47",
                                    "ClassRoomID": "3422",
                                    "Credits": "5",
                                    "SemesterNumber": "2",
                                    "StartDate": "2018-01-15",
                                    "StartTime": "14:00:00",
                                    "Duration": "50",
                                    "MondaySchedule": "1",
                                    "TuesdaySchedule": "1",
                                    "WednesdaySchedule": "1",
                                    "ThursdaySchedule": "1",
                                    "FridaySchedule": "1",
                                    "SaturdaySchedule": "0"
                                },
                                {
                                    "StudentID": "1008",
                                    "ClassID": "5917",
                                    "ClassStatus": "1",
                                    "Grade": "0",
                                    "SubjectID": "47",
                                    "ClassRoomID": "3422",
                                    "Credits": "5",
                                    "SemesterNumber": "2",
                                    "StartDate": "2018-01-15",
                                    "StartTime": "14:00:00",
                                    "Duration": "50",
                                    "MondaySchedule": "1",
                                    "TuesdaySchedule": "1",
                                    "WednesdaySchedule": "1",
                                    "ThursdaySchedule": "1",
                                    "FridaySchedule": "1",
                                    "SaturdaySchedule": "0"
                                },
                                {
                                    "StudentID": "1001",
                                    "ClassID": "5917",
                                    "ClassStatus": "1",
                                    "Grade": "0",
                                    "SubjectID": "47",
                                    "ClassRoomID": "3422",
                                    "Credits": "5",
                                    "SemesterNumber": "2",
                                    "StartDate": "2018-01-15",
                                    "StartTime": "14:00:00",
                                    "Duration": "50",
                                    "MondaySchedule": "1",
                                    "TuesdaySchedule": "1",
                                    "WednesdaySchedule": "1",
                                    "ThursdaySchedule": "1",
                                    "FridaySchedule": "1",
                                    "SaturdaySchedule": "0"
                                },
                                {
                                    "StudentID": "1012",
                                    "ClassID": "5917",
                                    "ClassStatus": "1",
                                    "Grade": "0",
                                    "SubjectID": "47",
                                    "ClassRoomID": "3422",
                                    "Credits": "5",
                                    "SemesterNumber": "2",
                                    "StartDate": "2018-01-15",
                                    "StartTime": "14:00:00",
                                    "Duration": "50",
                                    "MondaySchedule": "1",
                                    "TuesdaySchedule": "1",
                                    "WednesdaySchedule": "1",
                                    "ThursdaySchedule": "1",
                                    "FridaySchedule": "1",
                                    "SaturdaySchedule": "0"
                                },
                                {
                                    "StudentID": "NULL",
                                    "ClassID": "5925",
                                    "ClassStatus": "NULL",
                                    "Grade": "NULL",
                                    "SubjectID": "47",
                                    "ClassRoomID": "3422",
                                    "Credits": "5",
                                    "SemesterNumber": "2",
                                    "StartDate": "2018-01-15",
                                    "StartTime": "15:00:00",
                                    "Duration": "50",
                                    "MondaySchedule": "1",
                                    "TuesdaySchedule": "1",
                                    "WednesdaySchedule": "1",
                                    "ThursdaySchedule": "1",
                                    "FridaySchedule": "1",
                                    "SaturdaySchedule": "0"
                                },
                                {
                                    "StudentID": "1014",
                                    "ClassID": "5933",
                                    "ClassStatus": "1",
                                    "Grade": "0",
                                    "SubjectID": "47",
                                    "ClassRoomID": "3422",
                                    "Credits": "5",
                                    "SemesterNumber": "2",
                                    "StartDate": "2018-01-20",
                                    "StartTime": "09:00:00",
                                    "Duration": "280",
                                    "MondaySchedule": "0",
                                    "TuesdaySchedule": "0",
                                    "WednesdaySchedule": "0",
                                    "ThursdaySchedule": "0",
                                    "FridaySchedule": "0",
                                    "SaturdaySchedule": "1"
                                },
                                {
                                    "StudentID": "1007",
                                    "ClassID": "5933",
                                    "ClassStatus": "1",
                                    "Grade": "0",
                                    "SubjectID": "47",
                                    "ClassRoomID": "3422",
                                    "Credits": "5",
                                    "SemesterNumber": "2",
                                    "StartDate": "2018-01-20",
                                    "StartTime": "09:00:00",
                                    "Duration": "280",
                                    "MondaySchedule": "0",
                                    "TuesdaySchedule": "0",
                                    "WednesdaySchedule": "0",
                                    "ThursdaySchedule": "0",
                                    "FridaySchedule": "0",
                                    "SaturdaySchedule": "1"
                                },
                                {
                                    "StudentID": "1018",
                                    "ClassID": "5933",
                                    "ClassStatus": "1",
                                    "Grade": "0",
                                    "SubjectID": "47",
                                    "ClassRoomID": "3422",
                                    "Credits": "5",
                                    "SemesterNumber": "2",
                                    "StartDate": "2018-01-20",
                                    "StartTime": "09:00:00",
                                    "Duration": "280",
                                    "MondaySchedule": "0",
                                    "TuesdaySchedule": "0",
                                    "WednesdaySchedule": "0",
                                    "ThursdaySchedule": "0",
                                    "FridaySchedule": "0",
                                    "SaturdaySchedule": "1"
                                },
                                {
                                    "StudentID": "1015",
                                    "ClassID": "6030",
                                    "ClassStatus": "1",
                                    "Grade": "0",
                                    "SubjectID": "30",
                                    "ClassRoomID": "3352",
                                    "Credits": "5",
                                    "SemesterNumber": "2",
                                    "StartDate": "2018-01-15",
                                    "StartTime": "09:00:00",
                                    "Duration": "140",
                                    "MondaySchedule": "1",
                                    "TuesdaySchedule": "0",
                                    "WednesdaySchedule": "0",
                                    "ThursdaySchedule": "0",
                                    "FridaySchedule": "1",
                                    "SaturdaySchedule": "0"
                                },
                                {
                                    "StudentID": "1009",
                                    "ClassID": "6030",
                                    "ClassStatus": "1",
                                    "Grade": "0",
                                    "SubjectID": "30",
                                    "ClassRoomID": "3352",
                                    "Credits": "5",
                                    "SemesterNumber": "2",
                                    "StartDate": "2018-01-15",
                                    "StartTime": "09:00:00",
                                    "Duration": "140",
                                    "MondaySchedule": "1",
                                    "TuesdaySchedule": "0",
                                    "WednesdaySchedule": "0",
                                    "ThursdaySchedule": "0",
                                    "FridaySchedule": "1",
                                    "SaturdaySchedule": "0"
                                },
                                {
                                    "StudentID": "NULL",
                                    "ClassID": "6031",
                                    "ClassStatus": "NULL",
                                    "Grade": "NULL",
                                    "SubjectID": "30",
                                    "ClassRoomID": "3352",
                                    "Credits": "5",
                                    "SemesterNumber": "2",
                                    "StartDate": "2018-01-15",
                                    "StartTime": "13:30:00",
                                    "Duration": "140",
                                    "MondaySchedule": "1",
                                    "TuesdaySchedule": "0",
                                    "WednesdaySchedule": "1",
                                    "ThursdaySchedule": "0",
                                    "FridaySchedule": "0",
                                    "SaturdaySchedule": "0"
                                },
                                {
                                    "StudentID": "NULL",
                                    "ClassID": "6040",
                                    "ClassStatus": "NULL",
                                    "Grade": "NULL",
                                    "SubjectID": "31",
                                    "ClassRoomID": "3352",
                                    "Credits": "5",
                                    "SemesterNumber": "2",
                                    "StartDate": "2018-01-15",
                                    "StartTime": "11:00:00",
                                    "Duration": "50",
                                    "MondaySchedule": "1",
                                    "TuesdaySchedule": "1",
                                    "WednesdaySchedule": "1",
                                    "ThursdaySchedule": "1",
                                    "FridaySchedule": "1",
                                    "SaturdaySchedule": "0"
                                },
                                {
                                    "StudentID": "NULL",
                                    "ClassID": "6045",
                                    "ClassStatus": "NULL",
                                    "Grade": "NULL",
                                    "SubjectID": "31",
                                    "ClassRoomID": "3352",
                                    "Credits": "5",
                                    "SemesterNumber": "2",
                                    "StartDate": "2018-01-15",
                                    "StartTime": "12:00:00",
                                    "Duration": "50",
                                    "MondaySchedule": "1",
                                    "TuesdaySchedule": "1",
                                    "WednesdaySchedule": "1",
                                    "ThursdaySchedule": "1",
                                    "FridaySchedule": "1",
                                    "SaturdaySchedule": "0"
                                },
                                {
                                    "StudentID": "NULL",
                                    "ClassID": "6050",
                                    "ClassStatus": "NULL",
                                    "Grade": "NULL",
                                    "SubjectID": "32",
                                    "ClassRoomID": "3343",
                                    "Credits": "5",
                                    "SemesterNumber": "2",
                                    "StartDate": "2018-01-15",
                                    "StartTime": "16:00:00",
                                    "Duration": "50",
                                    "MondaySchedule": "1",
                                    "TuesdaySchedule": "1",
                                    "WednesdaySchedule": "1",
                                    "ThursdaySchedule": "1",
                                    "FridaySchedule": "1",
                                    "SaturdaySchedule": "0"
                                },
                                {
                                    "StudentID": "NULL",
                                    "ClassID": "6055",
                                    "ClassStatus": "NULL",
                                    "Grade": "NULL",
                                    "SubjectID": "32",
                                    "ClassRoomID": "3317",
                                    "Credits": "5",
                                    "SemesterNumber": "2",
                                    "StartDate": "2018-01-15",
                                    "StartTime": "15:00:00",
                                    "Duration": "50",
                                    "MondaySchedule": "1",
                                    "TuesdaySchedule": "1",
                                    "WednesdaySchedule": "1",
                                    "ThursdaySchedule": "1",
                                    "FridaySchedule": "1",
                                    "SaturdaySchedule": "0"
                                },
                                {
                                    "StudentID": "NULL",
                                    "ClassID": "6065",
                                    "ClassStatus": "NULL",
                                    "Grade": "NULL",
                                    "SubjectID": "40",
                                    "ClassRoomID": "3345",
                                    "Credits": "5",
                                    "SemesterNumber": "2",
                                    "StartDate": "2018-01-15",
                                    "StartTime": "08:00:00",
                                    "Duration": "140",
                                    "MondaySchedule": "1",
                                    "TuesdaySchedule": "0",
                                    "WednesdaySchedule": "1",
                                    "ThursdaySchedule": "0",
                                    "FridaySchedule": "0",
                                    "SaturdaySchedule": "0"
                                },
                                {
                                    "StudentID": "NULL",
                                    "ClassID": "6070",
                                    "ClassStatus": "NULL",
                                    "Grade": "NULL",
                                    "SubjectID": "42",
                                    "ClassRoomID": "3346",
                                    "Credits": "5",
                                    "SemesterNumber": "2",
                                    "StartDate": "2018-01-15",
                                    "StartTime": "10:30:00",
                                    "Duration": "140",
                                    "MondaySchedule": "1",
                                    "TuesdaySchedule": "0",
                                    "WednesdaySchedule": "0",
                                    "ThursdaySchedule": "0",
                                    "FridaySchedule": "1",
                                    "SaturdaySchedule": "0"
                                },
                                {
                                    "StudentID": "1011",
                                    "ClassID": "6082",
                                    "ClassStatus": "1",
                                    "Grade": "0",
                                    "SubjectID": "44",
                                    "ClassRoomID": "3346",
                                    "Credits": "5",
                                    "SemesterNumber": "2",
                                    "StartDate": "2018-01-15",
                                    "StartTime": "08:00:00",
                                    "Duration": "50",
                                    "MondaySchedule": "1",
                                    "TuesdaySchedule": "1",
                                    "WednesdaySchedule": "1",
                                    "ThursdaySchedule": "1",
                                    "FridaySchedule": "1",
                                    "SaturdaySchedule": "0"
                                },
                                {
                                    "StudentID": "1016",
                                    "ClassID": "6082",
                                    "ClassStatus": "1",
                                    "Grade": "0",
                                    "SubjectID": "44",
                                    "ClassRoomID": "3346",
                                    "Credits": "5",
                                    "SemesterNumber": "2",
                                    "StartDate": "2018-01-15",
                                    "StartTime": "08:00:00",
                                    "Duration": "50",
                                    "MondaySchedule": "1",
                                    "TuesdaySchedule": "1",
                                    "WednesdaySchedule": "1",
                                    "ThursdaySchedule": "1",
                                    "FridaySchedule": "1",
                                    "SaturdaySchedule": "0"
                                },
                                {
                                    "StudentID": "1008",
                                    "ClassID": "6082",
                                    "ClassStatus": "1",
                                    "Grade": "0",
                                    "SubjectID": "44",
                                    "ClassRoomID": "3346",
                                    "Credits": "5",
                                    "SemesterNumber": "2",
                                    "StartDate": "2018-01-15",
                                    "StartTime": "08:00:00",
                                    "Duration": "50",
                                    "MondaySchedule": "1",
                                    "TuesdaySchedule": "1",
                                    "WednesdaySchedule": "1",
                                    "ThursdaySchedule": "1",
                                    "FridaySchedule": "1",
                                    "SaturdaySchedule": "0"
                                },
                                {
                                    "StudentID": "1001",
                                    "ClassID": "6082",
                                    "ClassStatus": "1",
                                    "Grade": "0",
                                    "SubjectID": "44",
                                    "ClassRoomID": "3346",
                                    "Credits": "5",
                                    "SemesterNumber": "2",
                                    "StartDate": "2018-01-15",
                                    "StartTime": "08:00:00",
                                    "Duration": "50",
                                    "MondaySchedule": "1",
                                    "TuesdaySchedule": "1",
                                    "WednesdaySchedule": "1",
                                    "ThursdaySchedule": "1",
                                    "FridaySchedule": "1",
                                    "SaturdaySchedule": "0"
                                },
                                {
                                    "StudentID": "1004",
                                    "ClassID": "6082",
                                    "ClassStatus": "1",
                                    "Grade": "0",
                                    "SubjectID": "44",
                                    "ClassRoomID": "3346",
                                    "Credits": "5",
                                    "SemesterNumber": "2",
                                    "StartDate": "2018-01-15",
                                    "StartTime": "08:00:00",
                                    "Duration": "50",
                                    "MondaySchedule": "1",
                                    "TuesdaySchedule": "1",
                                    "WednesdaySchedule": "1",
                                    "ThursdaySchedule": "1",
                                    "FridaySchedule": "1",
                                    "SaturdaySchedule": "0"
                                },
                                {
                                    "StudentID": "1003",
                                    "ClassID": "6082",
                                    "ClassStatus": "1",
                                    "Grade": "0",
                                    "SubjectID": "44",
                                    "ClassRoomID": "3346",
                                    "Credits": "5",
                                    "SemesterNumber": "2",
                                    "StartDate": "2018-01-15",
                                    "StartTime": "08:00:00",
                                    "Duration": "50",
                                    "MondaySchedule": "1",
                                    "TuesdaySchedule": "1",
                                    "WednesdaySchedule": "1",
                                    "ThursdaySchedule": "1",
                                    "FridaySchedule": "1",
                                    "SaturdaySchedule": "0"
                                },
                                {
                                    "StudentID": "NULL",
                                    "ClassID": "6085",
                                    "ClassStatus": "NULL",
                                    "Grade": "NULL",
                                    "SubjectID": "43",
                                    "ClassRoomID": "3346",
                                    "Credits": "5",
                                    "SemesterNumber": "2",
                                    "StartDate": "2018-01-15",
                                    "StartTime": "15:00:00",
                                    "Duration": "50",
                                    "MondaySchedule": "1",
                                    "TuesdaySchedule": "1",
                                    "WednesdaySchedule": "1",
                                    "ThursdaySchedule": "1",
                                    "FridaySchedule": "1",
                                    "SaturdaySchedule": "0"
                                },
                                {
                                    "StudentID": "NULL",
                                    "ClassID": "6090",
                                    "ClassStatus": "NULL",
                                    "Grade": "NULL",
                                    "SubjectID": "44",
                                    "ClassRoomID": "3346",
                                    "Credits": "5",
                                    "SemesterNumber": "2",
                                    "StartDate": "2018-01-15",
                                    "StartTime": "13:30:00",
                                    "Duration": "140",
                                    "MondaySchedule": "1",
                                    "TuesdaySchedule": "0",
                                    "WednesdaySchedule": "1",
                                    "ThursdaySchedule": "0",
                                    "FridaySchedule": "1",
                                    "SaturdaySchedule": "0"
                                },
                                {
                                    "StudentID": "NULL",
                                    "ClassID": "6115",
                                    "ClassStatus": "NULL",
                                    "Grade": "NULL",
                                    "SubjectID": "54",
                                    "ClassRoomID": "3352",
                                    "Credits": "5",
                                    "SemesterNumber": "2",
                                    "StartDate": "2018-01-15",
                                    "StartTime": "08:00:00",
                                    "Duration": "50",
                                    "MondaySchedule": "1",
                                    "TuesdaySchedule": "1",
                                    "WednesdaySchedule": "1",
                                    "ThursdaySchedule": "1",
                                    "FridaySchedule": "1",
                                    "SaturdaySchedule": "0"
                                },
                                {
                                    "StudentID": "NULL",
                                    "ClassID": "6120",
                                    "ClassStatus": "NULL",
                                    "Grade": "NULL",
                                    "SubjectID": "54",
                                    "ClassRoomID": "3352",
                                    "Credits": "5",
                                    "SemesterNumber": "2",
                                    "StartDate": "2018-01-15",
                                    "StartTime": "10:00:00",
                                    "Duration": "50",
                                    "MondaySchedule": "1",
                                    "TuesdaySchedule": "1",
                                    "WednesdaySchedule": "1",
                                    "ThursdaySchedule": "1",
                                    "FridaySchedule": "1",
                                    "SaturdaySchedule": "0"
                                },
                                {
                                    "StudentID": "NULL",
                                    "ClassID": "6123",
                                    "ClassStatus": "NULL",
                                    "Grade": "NULL",
                                    "SubjectID": "56",
                                    "ClassRoomID": "3346",
                                    "Credits": "5",
                                    "SemesterNumber": "2",
                                    "StartDate": "2018-01-15",
                                    "StartTime": "12:00:00",
                                    "Duration": "140",
                                    "MondaySchedule": "1",
                                    "TuesdaySchedule": "0",
                                    "WednesdaySchedule": "0",
                                    "ThursdaySchedule": "0",
                                    "FridaySchedule": "1",
                                    "SaturdaySchedule": "0"
                                },
                                {
                                    "StudentID": "NULL",
                                    "ClassID": "6600",
                                    "ClassStatus": "NULL",
                                    "Grade": "NULL",
                                    "SubjectID": "41",
                                    "ClassRoomID": "3420",
                                    "Credits": "5",
                                    "SemesterNumber": "2",
                                    "StartDate": "2018-01-15",
                                    "StartTime": "13:00:00",
                                    "Duration": "140",
                                    "MondaySchedule": "1",
                                    "TuesdaySchedule": "0",
                                    "WednesdaySchedule": "1",
                                    "ThursdaySchedule": "0",
                                    "FridaySchedule": "0",
                                    "SaturdaySchedule": "0"
                                }
                            ]
                        },
                        "text/html": [
                            "<table>",
                            "<tr><th>StudentID</th><th>ClassID</th><th>ClassStatus</th><th>Grade</th><th>ClassID</th><th>SubjectID</th><th>ClassRoomID</th><th>Credits</th><th>SemesterNumber</th><th>StartDate</th><th>StartTime</th><th>Duration</th><th>MondaySchedule</th><th>TuesdaySchedule</th><th>WednesdaySchedule</th><th>ThursdaySchedule</th><th>FridaySchedule</th><th>SaturdaySchedule</th></tr>",
                            "<tr><td>1001</td><td>1000</td><td>2</td><td>99.83</td><td>1000</td><td>11</td><td>1231</td><td>5</td><td>1</td><td>2017-09-12</td><td>10:00:00</td><td>50</td><td>0</td><td>1</td><td>1</td><td>1</td><td>1</td><td>1</td></tr>",
                            "<tr><td>1005</td><td>1000</td><td>2</td><td>82.19</td><td>1000</td><td>11</td><td>1231</td><td>5</td><td>1</td><td>2017-09-12</td><td>10:00:00</td><td>50</td><td>0</td><td>1</td><td>1</td><td>1</td><td>1</td><td>1</td></tr>",
                            "<tr><td>1006</td><td>1000</td><td>2</td><td>73.04</td><td>1000</td><td>11</td><td>1231</td><td>5</td><td>1</td><td>2017-09-12</td><td>10:00:00</td><td>50</td><td>0</td><td>1</td><td>1</td><td>1</td><td>1</td><td>1</td></tr>",
                            "<tr><td>1008</td><td>1000</td><td>2</td><td>89.32</td><td>1000</td><td>11</td><td>1231</td><td>5</td><td>1</td><td>2017-09-12</td><td>10:00:00</td><td>50</td><td>0</td><td>1</td><td>1</td><td>1</td><td>1</td><td>1</td></tr>",
                            "<tr><td>1012</td><td>1000</td><td>2</td><td>71.15</td><td>1000</td><td>11</td><td>1231</td><td>5</td><td>1</td><td>2017-09-12</td><td>10:00:00</td><td>50</td><td>0</td><td>1</td><td>1</td><td>1</td><td>1</td><td>1</td></tr>",
                            "<tr><td>1013</td><td>1000</td><td>2</td><td>69.67</td><td>1000</td><td>11</td><td>1231</td><td>5</td><td>1</td><td>2017-09-12</td><td>10:00:00</td><td>50</td><td>0</td><td>1</td><td>1</td><td>1</td><td>1</td><td>1</td></tr>",
                            "<tr><td>1017</td><td>1000</td><td>2</td><td>69.46</td><td>1000</td><td>11</td><td>1231</td><td>5</td><td>1</td><td>2017-09-12</td><td>10:00:00</td><td>50</td><td>0</td><td>1</td><td>1</td><td>1</td><td>1</td><td>1</td></tr>",
                            "<tr><td>NULL</td><td>NULL</td><td>NULL</td><td>NULL</td><td>1002</td><td>12</td><td>1619</td><td>4</td><td>1</td><td>2017-09-11</td><td>15:30:00</td><td>110</td><td>1</td><td>0</td><td>1</td><td>0</td><td>0</td><td>0</td></tr>",
                            "<tr><td>NULL</td><td>NULL</td><td>NULL</td><td>NULL</td><td>1004</td><td>13</td><td>1627</td><td>4</td><td>1</td><td>2017-09-11</td><td>08:00:00</td><td>50</td><td>1</td><td>0</td><td>1</td><td>1</td><td>1</td><td>0</td></tr>",
                            "<tr><td>NULL</td><td>NULL</td><td>NULL</td><td>NULL</td><td>1006</td><td>13</td><td>1627</td><td>4</td><td>1</td><td>2017-09-11</td><td>09:00:00</td><td>110</td><td>1</td><td>0</td><td>1</td><td>0</td><td>0</td><td>0</td></tr>",
                            "<tr><td>NULL</td><td>NULL</td><td>NULL</td><td>NULL</td><td>1012</td><td>14</td><td>1627</td><td>4</td><td>1</td><td>2017-09-12</td><td>13:00:00</td><td>110</td><td>0</td><td>1</td><td>0</td><td>1</td><td>0</td><td>0</td></tr>",
                            "<tr><td>1011</td><td>1020</td><td>2</td><td>87.65</td><td>1020</td><td>15</td><td>3404</td><td>4</td><td>1</td><td>2017-09-12</td><td>13:00:00</td><td>110</td><td>0</td><td>1</td><td>0</td><td>1</td><td>0</td><td>0</td></tr>",
                            "<tr><td>1013</td><td>1030</td><td>2</td><td>77.07</td><td>1030</td><td>16</td><td>1231</td><td>5</td><td>1</td><td>2017-09-11</td><td>11:00:00</td><td>50</td><td>1</td><td>1</td><td>1</td><td>1</td><td>1</td><td>0</td></tr>",
                            "<tr><td>1006</td><td>1030</td><td>2</td><td>69.34</td><td>1030</td><td>16</td><td>1231</td><td>5</td><td>1</td><td>2017-09-11</td><td>11:00:00</td><td>50</td><td>1</td><td>1</td><td>1</td><td>1</td><td>1</td><td>0</td></tr>",
                            "<tr><td>1017</td><td>1030</td><td>2</td><td>97.81</td><td>1030</td><td>16</td><td>1231</td><td>5</td><td>1</td><td>2017-09-11</td><td>11:00:00</td><td>50</td><td>1</td><td>1</td><td>1</td><td>1</td><td>1</td><td>0</td></tr>",
                            "<tr><td>NULL</td><td>NULL</td><td>NULL</td><td>NULL</td><td>1031</td><td>16</td><td>1231</td><td>5</td><td>1</td><td>2017-09-11</td><td>14:00:00</td><td>50</td><td>1</td><td>1</td><td>1</td><td>1</td><td>1</td><td>0</td></tr>",
                            "<tr><td>1017</td><td>1156</td><td>2</td><td>88.54</td><td>1156</td><td>37</td><td>3443</td><td>5</td><td>1</td><td>2017-09-11</td><td>16:00:00</td><td>50</td><td>1</td><td>1</td><td>1</td><td>1</td><td>1</td><td>0</td></tr>",
                            "<tr><td>1006</td><td>1156</td><td>2</td><td>98.07</td><td>1156</td><td>37</td><td>3443</td><td>5</td><td>1</td><td>2017-09-11</td><td>16:00:00</td><td>50</td><td>1</td><td>1</td><td>1</td><td>1</td><td>1</td><td>0</td></tr>",
                            "<tr><td>1002</td><td>1156</td><td>2</td><td>86.33</td><td>1156</td><td>37</td><td>3443</td><td>5</td><td>1</td><td>2017-09-11</td><td>16:00:00</td><td>50</td><td>1</td><td>1</td><td>1</td><td>1</td><td>1</td><td>0</td></tr>",
                            "<tr><td>1003</td><td>1156</td><td>2</td><td>71.09</td><td>1156</td><td>37</td><td>3443</td><td>5</td><td>1</td><td>2017-09-11</td><td>16:00:00</td><td>50</td><td>1</td><td>1</td><td>1</td><td>1</td><td>1</td><td>0</td></tr>",
                            "<tr><td>1013</td><td>1156</td><td>2</td><td>77.59</td><td>1156</td><td>37</td><td>3443</td><td>5</td><td>1</td><td>2017-09-11</td><td>16:00:00</td><td>50</td><td>1</td><td>1</td><td>1</td><td>1</td><td>1</td><td>0</td></tr>",
                            "<tr><td>1015</td><td>1156</td><td>2</td><td>91.66</td><td>1156</td><td>37</td><td>3443</td><td>5</td><td>1</td><td>2017-09-11</td><td>16:00:00</td><td>50</td><td>1</td><td>1</td><td>1</td><td>1</td><td>1</td><td>0</td></tr>",
                            "<tr><td>1009</td><td>1156</td><td>2</td><td>72.05</td><td>1156</td><td>37</td><td>3443</td><td>5</td><td>1</td><td>2017-09-11</td><td>16:00:00</td><td>50</td><td>1</td><td>1</td><td>1</td><td>1</td><td>1</td><td>0</td></tr>",
                            "<tr><td>1010</td><td>1156</td><td>2</td><td>87.4</td><td>1156</td><td>37</td><td>3443</td><td>5</td><td>1</td><td>2017-09-11</td><td>16:00:00</td><td>50</td><td>1</td><td>1</td><td>1</td><td>1</td><td>1</td><td>0</td></tr>",
                            "<tr><td>1011</td><td>1162</td><td>2</td><td>93.01</td><td>1162</td><td>37</td><td>3443</td><td>5</td><td>1</td><td>2017-09-11</td><td>09:00:00</td><td>140</td><td>1</td><td>0</td><td>1</td><td>0</td><td>0</td><td>0</td></tr>",
                            "<tr><td>1016</td><td>1162</td><td>2</td><td>82.58</td><td>1162</td><td>37</td><td>3443</td><td>5</td><td>1</td><td>2017-09-11</td><td>09:00:00</td><td>140</td><td>1</td><td>0</td><td>1</td><td>0</td><td>0</td><td>0</td></tr>",
                            "<tr><td>1004</td><td>1162</td><td>2</td><td>91.44</td><td>1162</td><td>37</td><td>3443</td><td>5</td><td>1</td><td>2017-09-11</td><td>09:00:00</td><td>140</td><td>1</td><td>0</td><td>1</td><td>0</td><td>0</td><td>0</td></tr>",
                            "<tr><td>1001</td><td>1168</td><td>2</td><td>70</td><td>1168</td><td>37</td><td>3445</td><td>5</td><td>1</td><td>2017-09-11</td><td>11:00:00</td><td>50</td><td>1</td><td>1</td><td>1</td><td>1</td><td>1</td><td>0</td></tr>",
                            "<tr><td>1008</td><td>1168</td><td>2</td><td>97.59</td><td>1168</td><td>37</td><td>3445</td><td>5</td><td>1</td><td>2017-09-11</td><td>11:00:00</td><td>50</td><td>1</td><td>1</td><td>1</td><td>1</td><td>1</td><td>0</td></tr>",
                            "<tr><td>1007</td><td>1180</td><td>2</td><td>72.88</td><td>1180</td><td>38</td><td>3446</td><td>5</td><td>1</td><td>2017-09-11</td><td>11:30:00</td><td>140</td><td>1</td><td>0</td><td>1</td><td>0</td><td>0</td><td>0</td></tr>",
                            "<tr><td>1005</td><td>1180</td><td>2</td><td>81.66</td><td>1180</td><td>38</td><td>3446</td><td>5</td><td>1</td><td>2017-09-11</td><td>11:30:00</td><td>140</td><td>1</td><td>0</td><td>1</td><td>0</td><td>0</td><td>0</td></tr>",
                            "<tr><td>1014</td><td>1180</td><td>2</td><td>88.91</td><td>1180</td><td>38</td><td>3446</td><td>5</td><td>1</td><td>2017-09-11</td><td>11:30:00</td><td>140</td><td>1</td><td>0</td><td>1</td><td>0</td><td>0</td><td>0</td></tr>",
                            "<tr><td>1012</td><td>1180</td><td>2</td><td>67.6</td><td>1180</td><td>38</td><td>3446</td><td>5</td><td>1</td><td>2017-09-11</td><td>11:30:00</td><td>140</td><td>1</td><td>0</td><td>1</td><td>0</td><td>0</td><td>0</td></tr>",
                            "<tr><td>1018</td><td>1180</td><td>2</td><td>67.19</td><td>1180</td><td>38</td><td>3446</td><td>5</td><td>1</td><td>2017-09-11</td><td>11:30:00</td><td>140</td><td>1</td><td>0</td><td>1</td><td>0</td><td>0</td><td>0</td></tr>",
                            "<tr><td>NULL</td><td>NULL</td><td>NULL</td><td>NULL</td><td>1183</td><td>38</td><td>3415</td><td>5</td><td>1</td><td>2017-09-11</td><td>13:00:00</td><td>50</td><td>1</td><td>1</td><td>1</td><td>1</td><td>1</td><td>0</td></tr>",
                            "<tr><td>NULL</td><td>NULL</td><td>NULL</td><td>NULL</td><td>1184</td><td>38</td><td>3415</td><td>5</td><td>1</td><td>2017-09-11</td><td>14:00:00</td><td>50</td><td>1</td><td>1</td><td>1</td><td>1</td><td>1</td><td>0</td></tr>",
                            "<tr><td>NULL</td><td>NULL</td><td>NULL</td><td>NULL</td><td>1196</td><td>39</td><td>3415</td><td>5</td><td>1</td><td>2017-09-11</td><td>15:00:00</td><td>50</td><td>1</td><td>1</td><td>1</td><td>1</td><td>1</td><td>0</td></tr>",
                            "<tr><td>1010</td><td>1500</td><td>2</td><td>97.84</td><td>1500</td><td>33</td><td>1142</td><td>5</td><td>1</td><td>2017-09-11</td><td>08:00:00</td><td>50</td><td>1</td><td>1</td><td>1</td><td>1</td><td>1</td><td>0</td></tr>",
                            "<tr><td>1009</td><td>1500</td><td>2</td><td>71.66</td><td>1500</td><td>33</td><td>1142</td><td>5</td><td>1</td><td>2017-09-11</td><td>08:00:00</td><td>50</td><td>1</td><td>1</td><td>1</td><td>1</td><td>1</td><td>0</td></tr>",
                            "<tr><td>1015</td><td>1500</td><td>2</td><td>85.01</td><td>1500</td><td>33</td><td>1142</td><td>5</td><td>1</td><td>2017-09-11</td><td>08:00:00</td><td>50</td><td>1</td><td>1</td><td>1</td><td>1</td><td>1</td><td>0</td></tr>",
                            "<tr><td>1002</td><td>1500</td><td>2</td><td>85.72</td><td>1500</td><td>33</td><td>1142</td><td>5</td><td>1</td><td>2017-09-11</td><td>08:00:00</td><td>50</td><td>1</td><td>1</td><td>1</td><td>1</td><td>1</td><td>0</td></tr>",
                            "<tr><td>1003</td><td>1500</td><td>2</td><td>89.05</td><td>1500</td><td>33</td><td>1142</td><td>5</td><td>1</td><td>2017-09-11</td><td>08:00:00</td><td>50</td><td>1</td><td>1</td><td>1</td><td>1</td><td>1</td><td>0</td></tr>",
                            "<tr><td>1003</td><td>1502</td><td>2</td><td>75.71</td><td>1502</td><td>34</td><td>1142</td><td>5</td><td>1</td><td>2017-09-11</td><td>09:00:00</td><td>50</td><td>1</td><td>1</td><td>1</td><td>1</td><td>1</td><td>0</td></tr>",
                            "<tr><td>1010</td><td>1502</td><td>2</td><td>86.57</td><td>1502</td><td>34</td><td>1142</td><td>5</td><td>1</td><td>2017-09-11</td><td>09:00:00</td><td>50</td><td>1</td><td>1</td><td>1</td><td>1</td><td>1</td><td>0</td></tr>",
                            "<tr><td>NULL</td><td>NULL</td><td>NULL</td><td>NULL</td><td>1560</td><td>35</td><td>2408</td><td>3</td><td>1</td><td>2017-09-12</td><td>10:00:00</td><td>50</td><td>0</td><td>1</td><td>0</td><td>1</td><td>0</td><td>1</td></tr>",
                            "<tr><td>NULL</td><td>NULL</td><td>NULL</td><td>NULL</td><td>1562</td><td>36</td><td>2408</td><td>5</td><td>1</td><td>2017-09-11</td><td>12:00:00</td><td>140</td><td>1</td><td>0</td><td>0</td><td>0</td><td>1</td><td>0</td></tr>",
                            "<tr><td>NULL</td><td>NULL</td><td>NULL</td><td>NULL</td><td>1642</td><td>29</td><td>1514</td><td>2</td><td>1</td><td>2017-09-12</td><td>11:00:00</td><td>50</td><td>0</td><td>1</td><td>0</td><td>1</td><td>0</td><td>0</td></tr>",
                            "<tr><td>NULL</td><td>NULL</td><td>NULL</td><td>NULL</td><td>2001</td><td>20</td><td>1519</td><td>5</td><td>1</td><td>2017-09-11</td><td>07:30:00</td><td>140</td><td>1</td><td>0</td><td>1</td><td>0</td><td>0</td><td>0</td></tr>",
                            "<tr><td>NULL</td><td>NULL</td><td>NULL</td><td>NULL</td><td>2005</td><td>20</td><td>1515</td><td>5</td><td>1</td><td>2017-09-12</td><td>11:00:00</td><td>50</td><td>0</td><td>1</td><td>1</td><td>1</td><td>1</td><td>1</td></tr>",
                            "<tr><td>1014</td><td>2015</td><td>2</td><td>77.01</td><td>2015</td><td>21</td><td>1131</td><td>5</td><td>1</td><td>2017-09-11</td><td>09:00:00</td><td>140</td><td>1</td><td>0</td><td>1</td><td>0</td><td>0</td><td>0</td></tr>",
                            "<tr><td>1007</td><td>2015</td><td>2</td><td>66.2</td><td>2015</td><td>21</td><td>1131</td><td>5</td><td>1</td><td>2017-09-11</td><td>09:00:00</td><td>140</td><td>1</td><td>0</td><td>1</td><td>0</td><td>0</td><td>0</td></tr>",
                            "<tr><td>1018</td><td>2015</td><td>2</td><td>98.31</td><td>2015</td><td>21</td><td>1131</td><td>5</td><td>1</td><td>2017-09-11</td><td>09:00:00</td><td>140</td><td>1</td><td>0</td><td>1</td><td>0</td><td>0</td><td>0</td></tr>",
                            "<tr><td>NULL</td><td>NULL</td><td>NULL</td><td>NULL</td><td>2051</td><td>22</td><td>1515</td><td>4</td><td>1</td><td>2017-09-11</td><td>14:30:00</td><td>50</td><td>1</td><td>1</td><td>1</td><td>1</td><td>0</td><td>0</td></tr>",
                            "<tr><td>NULL</td><td>NULL</td><td>NULL</td><td>NULL</td><td>2071</td><td>50</td><td>1624</td><td>5</td><td>1</td><td>2017-09-11</td><td>10:00:00</td><td>50</td><td>1</td><td>1</td><td>1</td><td>1</td><td>1</td><td>0</td></tr>",
                            "<tr><td>NULL</td><td>NULL</td><td>NULL</td><td>NULL</td><td>2075</td><td>51</td><td>1624</td><td>5</td><td>1</td><td>2017-09-11</td><td>07:00:00</td><td>140</td><td>1</td><td>0</td><td>0</td><td>0</td><td>1</td><td>0</td></tr>",
                            "<tr><td>NULL</td><td>NULL</td><td>NULL</td><td>NULL</td><td>2089</td><td>52</td><td>1624</td><td>5</td><td>1</td><td>2017-09-12</td><td>16:00:00</td><td>50</td><td>0</td><td>1</td><td>1</td><td>1</td><td>1</td><td>1</td></tr>",
                            "<tr><td>NULL</td><td>NULL</td><td>NULL</td><td>NULL</td><td>2103</td><td>53</td><td>1624</td><td>5</td><td>1</td><td>2017-09-11</td><td>11:00:00</td><td>50</td><td>1</td><td>1</td><td>1</td><td>1</td><td>1</td><td>0</td></tr>",
                            "<tr><td>NULL</td><td>NULL</td><td>NULL</td><td>NULL</td><td>2213</td><td>17</td><td>1532</td><td>5</td><td>1</td><td>2017-09-11</td><td>10:00:00</td><td>140</td><td>1</td><td>0</td><td>1</td><td>0</td><td>0</td><td>0</td></tr>",
                            "<tr><td>1002</td><td>2223</td><td>3</td><td>0</td><td>2223</td><td>18</td><td>1532</td><td>5</td><td>1</td><td>2017-09-11</td><td>12:00:00</td><td>50</td><td>1</td><td>1</td><td>1</td><td>1</td><td>1</td><td>0</td></tr>",
                            "<tr><td>1015</td><td>2223</td><td>2</td><td>94.54</td><td>2223</td><td>18</td><td>1532</td><td>5</td><td>1</td><td>2017-09-11</td><td>12:00:00</td><td>50</td><td>1</td><td>1</td><td>1</td><td>1</td><td>1</td><td>0</td></tr>",
                            "<tr><td>1009</td><td>2223</td><td>2</td><td>93.05</td><td>2223</td><td>18</td><td>1532</td><td>5</td><td>1</td><td>2017-09-11</td><td>12:00:00</td><td>50</td><td>1</td><td>1</td><td>1</td><td>1</td><td>1</td><td>0</td></tr>",
                            "<tr><td>NULL</td><td>NULL</td><td>NULL</td><td>NULL</td><td>2245</td><td>19</td><td>1530</td><td>5</td><td>1</td><td>2017-09-11</td><td>13:30:00</td><td>140</td><td>1</td><td>0</td><td>1</td><td>0</td><td>0</td><td>0</td></tr>",
                            "<tr><td>1011</td><td>2410</td><td>2</td><td>92.36</td><td>2410</td><td>23</td><td>1640</td><td>4</td><td>1</td><td>2017-09-12</td><td>10:00:00</td><td>110</td><td>0</td><td>1</td><td>0</td><td>1</td><td>0</td><td>0</td></tr>",
                            "<tr><td>1016</td><td>2410</td><td>2</td><td>98.01</td><td>2410</td><td>23</td><td>1640</td><td>4</td><td>1</td><td>2017-09-12</td><td>10:00:00</td><td>110</td><td>0</td><td>1</td><td>0</td><td>1</td><td>0</td><td>0</td></tr>",
                            "<tr><td>1004</td><td>2410</td><td>2</td><td>90.56</td><td>2410</td><td>23</td><td>1640</td><td>4</td><td>1</td><td>2017-09-12</td><td>10:00:00</td><td>110</td><td>0</td><td>1</td><td>0</td><td>1</td><td>0</td><td>0</td></tr>",
                            "<tr><td>NULL</td><td>NULL</td><td>NULL</td><td>NULL</td><td>2420</td><td>24</td><td>1641</td><td>4</td><td>1</td><td>2017-09-11</td><td>13:00:00</td><td>50</td><td>1</td><td>0</td><td>1</td><td>0</td><td>1</td><td>1</td></tr>",
                            "<tr><td>NULL</td><td>NULL</td><td>NULL</td><td>NULL</td><td>2430</td><td>25</td><td>1642</td><td>4</td><td>1</td><td>2017-09-11</td><td>15:00:00</td><td>50</td><td>1</td><td>1</td><td>0</td><td>1</td><td>0</td><td>1</td></tr>",
                            "<tr><td>NULL</td><td>NULL</td><td>NULL</td><td>NULL</td><td>2431</td><td>27</td><td>3322</td><td>5</td><td>1</td><td>2017-09-11</td><td>14:00:00</td><td>50</td><td>1</td><td>1</td><td>1</td><td>1</td><td>1</td><td>0</td></tr>",
                            "<tr><td>NULL</td><td>NULL</td><td>NULL</td><td>NULL</td><td>2451</td><td>27</td><td>1639</td><td>5</td><td>1</td><td>2017-09-11</td><td>16:00:00</td><td>50</td><td>1</td><td>1</td><td>1</td><td>1</td><td>1</td><td>0</td></tr>",
                            "<tr><td>1007</td><td>2500</td><td>2</td><td>91.12</td><td>2500</td><td>1</td><td>3305</td><td>3</td><td>1</td><td>2017-09-11</td><td>16:00:00</td><td>50</td><td>1</td><td>0</td><td>1</td><td>0</td><td>1</td><td>0</td></tr>",
                            "<tr><td>1005</td><td>2500</td><td>2</td><td>80.51</td><td>2500</td><td>1</td><td>3305</td><td>3</td><td>1</td><td>2017-09-11</td><td>16:00:00</td><td>50</td><td>1</td><td>0</td><td>1</td><td>0</td><td>1</td><td>0</td></tr>",
                            "<tr><td>1014</td><td>2500</td><td>2</td><td>88.5</td><td>2500</td><td>1</td><td>3305</td><td>3</td><td>1</td><td>2017-09-11</td><td>16:00:00</td><td>50</td><td>1</td><td>0</td><td>1</td><td>0</td><td>1</td><td>0</td></tr>",
                            "<tr><td>1012</td><td>2500</td><td>2</td><td>77.34</td><td>2500</td><td>1</td><td>3305</td><td>3</td><td>1</td><td>2017-09-11</td><td>16:00:00</td><td>50</td><td>1</td><td>0</td><td>1</td><td>0</td><td>1</td><td>0</td></tr>",
                            "<tr><td>1018</td><td>2500</td><td>2</td><td>79.61</td><td>2500</td><td>1</td><td>3305</td><td>3</td><td>1</td><td>2017-09-11</td><td>16:00:00</td><td>50</td><td>1</td><td>0</td><td>1</td><td>0</td><td>1</td><td>0</td></tr>",
                            "<tr><td>NULL</td><td>NULL</td><td>NULL</td><td>NULL</td><td>2510</td><td>2</td><td>3307</td><td>3</td><td>1</td><td>2017-09-12</td><td>13:00:00</td><td>80</td><td>0</td><td>1</td><td>0</td><td>1</td><td>0</td><td>0</td></tr>",
                            "<tr><td>NULL</td><td>NULL</td><td>NULL</td><td>NULL</td><td>2520</td><td>3</td><td>3309</td><td>3</td><td>1</td><td>2017-09-12</td><td>09:00:00</td><td>50</td><td>0</td><td>1</td><td>0</td><td>1</td><td>0</td><td>1</td></tr>",
                            "<tr><td>NULL</td><td>NULL</td><td>NULL</td><td>NULL</td><td>2633</td><td>48</td><td>3420</td><td>5</td><td>1</td><td>2017-09-12</td><td>16:00:00</td><td>50</td><td>0</td><td>1</td><td>1</td><td>1</td><td>1</td><td>1</td></tr>",
                            "<tr><td>NULL</td><td>NULL</td><td>NULL</td><td>NULL</td><td>2639</td><td>49</td><td>3353</td><td>3</td><td>1</td><td>2017-09-11</td><td>09:00:00</td><td>50</td><td>1</td><td>0</td><td>1</td><td>0</td><td>1</td><td>0</td></tr>",
                            "<tr><td>NULL</td><td>NULL</td><td>NULL</td><td>NULL</td><td>2647</td><td>49</td><td>3353</td><td>3</td><td>1</td><td>2017-09-12</td><td>18:00:00</td><td>50</td><td>0</td><td>1</td><td>0</td><td>1</td><td>0</td><td>1</td></tr>",
                            "<tr><td>1009</td><td>2889</td><td>2</td><td>70.99</td><td>2889</td><td>45</td><td>2423</td><td>5</td><td>1</td><td>2017-09-11</td><td>16:00:00</td><td>50</td><td>1</td><td>1</td><td>1</td><td>1</td><td>1</td><td>0</td></tr>",
                            "<tr><td>1015</td><td>2889</td><td>2</td><td>77.58</td><td>2889</td><td>45</td><td>2423</td><td>5</td><td>1</td><td>2017-09-11</td><td>16:00:00</td><td>50</td><td>1</td><td>1</td><td>1</td><td>1</td><td>1</td><td>0</td></tr>",
                            "<tr><td>1002</td><td>2889</td><td>2</td><td>68.22</td><td>2889</td><td>45</td><td>2423</td><td>5</td><td>1</td><td>2017-09-11</td><td>16:00:00</td><td>50</td><td>1</td><td>1</td><td>1</td><td>1</td><td>1</td><td>0</td></tr>",
                            "<tr><td>NULL</td><td>NULL</td><td>NULL</td><td>NULL</td><td>2891</td><td>45</td><td>2423</td><td>5</td><td>1</td><td>2017-09-11</td><td>11:00:00</td><td>50</td><td>1</td><td>1</td><td>1</td><td>1</td><td>1</td><td>0</td></tr>",
                            "<tr><td>1006</td><td>2895</td><td>2</td><td>69.6</td><td>2895</td><td>45</td><td>2423</td><td>5</td><td>1</td><td>2017-09-11</td><td>13:00:00</td><td>50</td><td>1</td><td>1</td><td>1</td><td>1</td><td>1</td><td>0</td></tr>",
                            "<tr><td>1013</td><td>2895</td><td>2</td><td>93.19</td><td>2895</td><td>45</td><td>2423</td><td>5</td><td>1</td><td>2017-09-11</td><td>13:00:00</td><td>50</td><td>1</td><td>1</td><td>1</td><td>1</td><td>1</td><td>0</td></tr>",
                            "<tr><td>1017</td><td>2895</td><td>2</td><td>70.55</td><td>2895</td><td>45</td><td>2423</td><td>5</td><td>1</td><td>2017-09-11</td><td>13:00:00</td><td>50</td><td>1</td><td>1</td><td>1</td><td>1</td><td>1</td><td>0</td></tr>",
                            "<tr><td>1018</td><td>2907</td><td>2</td><td>93.32</td><td>2907</td><td>46</td><td>3445</td><td>5</td><td>1</td><td>2017-09-11</td><td>08:00:00</td><td>50</td><td>1</td><td>1</td><td>1</td><td>1</td><td>1</td><td>0</td></tr>",
                            "<tr><td>1014</td><td>2907</td><td>2</td><td>72</td><td>2907</td><td>46</td><td>3445</td><td>5</td><td>1</td><td>2017-09-11</td><td>08:00:00</td><td>50</td><td>1</td><td>1</td><td>1</td><td>1</td><td>1</td><td>0</td></tr>",
                            "<tr><td>1016</td><td>2907</td><td>2</td><td>72.01</td><td>2907</td><td>46</td><td>3445</td><td>5</td><td>1</td><td>2017-09-11</td><td>08:00:00</td><td>50</td><td>1</td><td>1</td><td>1</td><td>1</td><td>1</td><td>0</td></tr>",
                            "<tr><td>1012</td><td>2907</td><td>2</td><td>66.15</td><td>2907</td><td>46</td><td>3445</td><td>5</td><td>1</td><td>2017-09-11</td><td>08:00:00</td><td>50</td><td>1</td><td>1</td><td>1</td><td>1</td><td>1</td><td>0</td></tr>",
                            "<tr><td>1011</td><td>2907</td><td>2</td><td>88.58</td><td>2907</td><td>46</td><td>3445</td><td>5</td><td>1</td><td>2017-09-11</td><td>08:00:00</td><td>50</td><td>1</td><td>1</td><td>1</td><td>1</td><td>1</td><td>0</td></tr>",
                            "<tr><td>1005</td><td>2907</td><td>2</td><td>94.33</td><td>2907</td><td>46</td><td>3445</td><td>5</td><td>1</td><td>2017-09-11</td><td>08:00:00</td><td>50</td><td>1</td><td>1</td><td>1</td><td>1</td><td>1</td><td>0</td></tr>",
                            "<tr><td>1007</td><td>2907</td><td>2</td><td>65.8</td><td>2907</td><td>46</td><td>3445</td><td>5</td><td>1</td><td>2017-09-11</td><td>08:00:00</td><td>50</td><td>1</td><td>1</td><td>1</td><td>1</td><td>1</td><td>0</td></tr>",
                            "<tr><td>1008</td><td>2907</td><td>2</td><td>88.27</td><td>2907</td><td>46</td><td>3445</td><td>5</td><td>1</td><td>2017-09-11</td><td>08:00:00</td><td>50</td><td>1</td><td>1</td><td>1</td><td>1</td><td>1</td><td>0</td></tr>",
                            "<tr><td>1001</td><td>2907</td><td>2</td><td>67.33</td><td>2907</td><td>46</td><td>3445</td><td>5</td><td>1</td><td>2017-09-11</td><td>08:00:00</td><td>50</td><td>1</td><td>1</td><td>1</td><td>1</td><td>1</td><td>0</td></tr>",
                            "<tr><td>1004</td><td>2907</td><td>2</td><td>74.23</td><td>2907</td><td>46</td><td>3445</td><td>5</td><td>1</td><td>2017-09-11</td><td>08:00:00</td><td>50</td><td>1</td><td>1</td><td>1</td><td>1</td><td>1</td><td>0</td></tr>",
                            "<tr><td>1003</td><td>2911</td><td>2</td><td>85.39</td><td>2911</td><td>46</td><td>3445</td><td>5</td><td>1</td><td>2017-09-11</td><td>12:00:00</td><td>50</td><td>1</td><td>1</td><td>1</td><td>1</td><td>1</td><td>0</td></tr>",
                            "<tr><td>1010</td><td>2911</td><td>3</td><td>0</td><td>2911</td><td>46</td><td>3445</td><td>5</td><td>1</td><td>2017-09-11</td><td>12:00:00</td><td>50</td><td>1</td><td>1</td><td>1</td><td>1</td><td>1</td><td>0</td></tr>",
                            "<tr><td>NULL</td><td>NULL</td><td>NULL</td><td>NULL</td><td>2915</td><td>46</td><td>3353</td><td>5</td><td>1</td><td>2017-09-11</td><td>10:00:00</td><td>50</td><td>1</td><td>1</td><td>1</td><td>1</td><td>1</td><td>0</td></tr>",
                            "<tr><td>NULL</td><td>NULL</td><td>NULL</td><td>NULL</td><td>2917</td><td>47</td><td>3422</td><td>5</td><td>1</td><td>2017-09-11</td><td>14:00:00</td><td>50</td><td>1</td><td>1</td><td>1</td><td>1</td><td>1</td><td>0</td></tr>",
                            "<tr><td>NULL</td><td>NULL</td><td>NULL</td><td>NULL</td><td>2925</td><td>47</td><td>3422</td><td>5</td><td>1</td><td>2017-09-11</td><td>15:00:00</td><td>50</td><td>1</td><td>1</td><td>1</td><td>1</td><td>1</td><td>0</td></tr>",
                            "<tr><td>NULL</td><td>NULL</td><td>NULL</td><td>NULL</td><td>2933</td><td>47</td><td>3422</td><td>5</td><td>1</td><td>2017-09-12</td><td>09:00:00</td><td>280</td><td>0</td><td>0</td><td>0</td><td>0</td><td>0</td><td>1</td></tr>",
                            "<tr><td>NULL</td><td>NULL</td><td>NULL</td><td>NULL</td><td>3030</td><td>30</td><td>3352</td><td>5</td><td>1</td><td>2017-09-16</td><td>09:00:00</td><td>140</td><td>1</td><td>0</td><td>0</td><td>0</td><td>1</td><td>0</td></tr>",
                            "<tr><td>NULL</td><td>NULL</td><td>NULL</td><td>NULL</td><td>3031</td><td>30</td><td>3352</td><td>5</td><td>1</td><td>2017-09-11</td><td>13:30:00</td><td>140</td><td>1</td><td>0</td><td>1</td><td>0</td><td>0</td><td>0</td></tr>",
                            "<tr><td>NULL</td><td>NULL</td><td>NULL</td><td>NULL</td><td>3040</td><td>31</td><td>3352</td><td>5</td><td>1</td><td>2017-09-11</td><td>11:00:00</td><td>50</td><td>1</td><td>1</td><td>1</td><td>1</td><td>1</td><td>0</td></tr>",
                            "<tr><td>NULL</td><td>NULL</td><td>NULL</td><td>NULL</td><td>3045</td><td>31</td><td>3352</td><td>5</td><td>1</td><td>2017-09-11</td><td>12:00:00</td><td>50</td><td>1</td><td>1</td><td>1</td><td>1</td><td>1</td><td>0</td></tr>",
                            "<tr><td>NULL</td><td>NULL</td><td>NULL</td><td>NULL</td><td>3050</td><td>32</td><td>3343</td><td>5</td><td>1</td><td>2017-09-11</td><td>16:00:00</td><td>50</td><td>1</td><td>1</td><td>1</td><td>1</td><td>1</td><td>0</td></tr>",
                            "<tr><td>NULL</td><td>NULL</td><td>NULL</td><td>NULL</td><td>3055</td><td>32</td><td>3317</td><td>5</td><td>1</td><td>2017-09-11</td><td>15:00:00</td><td>50</td><td>1</td><td>1</td><td>1</td><td>1</td><td>1</td><td>0</td></tr>",
                            "<tr><td>NULL</td><td>NULL</td><td>NULL</td><td>NULL</td><td>3065</td><td>40</td><td>3345</td><td>5</td><td>1</td><td>2017-09-11</td><td>08:00:00</td><td>140</td><td>1</td><td>0</td><td>1</td><td>0</td><td>0</td><td>0</td></tr>",
                            "<tr><td>NULL</td><td>NULL</td><td>NULL</td><td>NULL</td><td>3070</td><td>42</td><td>3346</td><td>5</td><td>1</td><td>2017-09-11</td><td>10:30:00</td><td>140</td><td>1</td><td>0</td><td>0</td><td>0</td><td>1</td><td>0</td></tr>",
                            "<tr><td>NULL</td><td>NULL</td><td>NULL</td><td>NULL</td><td>3082</td><td>44</td><td>3346</td><td>5</td><td>1</td><td>2017-09-11</td><td>08:00:00</td><td>50</td><td>1</td><td>1</td><td>1</td><td>1</td><td>1</td><td>0</td></tr>",
                            "<tr><td>1001</td><td>3085</td><td>2</td><td>87.14</td><td>3085</td><td>43</td><td>3346</td><td>5</td><td>1</td><td>2017-09-11</td><td>15:00:00</td><td>50</td><td>1</td><td>1</td><td>1</td><td>1</td><td>1</td><td>0</td></tr>",
                            "<tr><td>1008</td><td>3085</td><td>2</td><td>67.6</td><td>3085</td><td>43</td><td>3346</td><td>5</td><td>1</td><td>2017-09-11</td><td>15:00:00</td><td>50</td><td>1</td><td>1</td><td>1</td><td>1</td><td>1</td><td>0</td></tr>",
                            "<tr><td>NULL</td><td>NULL</td><td>NULL</td><td>NULL</td><td>3090</td><td>44</td><td>3346</td><td>5</td><td>1</td><td>2017-09-11</td><td>13:30:00</td><td>140</td><td>1</td><td>0</td><td>1</td><td>0</td><td>1</td><td>0</td></tr>",
                            "<tr><td>NULL</td><td>NULL</td><td>NULL</td><td>NULL</td><td>3115</td><td>54</td><td>3352</td><td>5</td><td>1</td><td>2017-09-11</td><td>08:00:00</td><td>50</td><td>1</td><td>1</td><td>1</td><td>1</td><td>1</td><td>0</td></tr>",
                            "<tr><td>NULL</td><td>NULL</td><td>NULL</td><td>NULL</td><td>3120</td><td>54</td><td>3352</td><td>5</td><td>1</td><td>2017-09-11</td><td>10:00:00</td><td>50</td><td>1</td><td>1</td><td>1</td><td>1</td><td>1</td><td>0</td></tr>",
                            "<tr><td>NULL</td><td>NULL</td><td>NULL</td><td>NULL</td><td>3123</td><td>56</td><td>3346</td><td>5</td><td>1</td><td>2017-09-11</td><td>12:00:00</td><td>140</td><td>1</td><td>0</td><td>0</td><td>0</td><td>1</td><td>0</td></tr>",
                            "<tr><td>NULL</td><td>NULL</td><td>NULL</td><td>NULL</td><td>3600</td><td>41</td><td>3420</td><td>5</td><td>1</td><td>2017-09-11</td><td>13:00:00</td><td>140</td><td>1</td><td>0</td><td>1</td><td>0</td><td>0</td><td>0</td></tr>",
                            "<tr><td>NULL</td><td>NULL</td><td>NULL</td><td>NULL</td><td>4000</td><td>11</td><td>1231</td><td>5</td><td>2</td><td>2018-01-16</td><td>10:00:00</td><td>50</td><td>0</td><td>1</td><td>1</td><td>1</td><td>1</td><td>1</td></tr>",
                            "<tr><td>1006</td><td>4002</td><td>1</td><td>0</td><td>4002</td><td>12</td><td>1619</td><td>4</td><td>2</td><td>2018-01-15</td><td>15:30:00</td><td>110</td><td>1</td><td>0</td><td>1</td><td>0</td><td>0</td><td>0</td></tr>",
                            "<tr><td>1013</td><td>4002</td><td>1</td><td>0</td><td>4002</td><td>12</td><td>1619</td><td>4</td><td>2</td><td>2018-01-15</td><td>15:30:00</td><td>110</td><td>1</td><td>0</td><td>1</td><td>0</td><td>0</td><td>0</td></tr>",
                            "<tr><td>1017</td><td>4002</td><td>1</td><td>0</td><td>4002</td><td>12</td><td>1619</td><td>4</td><td>2</td><td>2018-01-15</td><td>15:30:00</td><td>110</td><td>1</td><td>0</td><td>1</td><td>0</td><td>0</td><td>0</td></tr>",
                            "<tr><td>NULL</td><td>NULL</td><td>NULL</td><td>NULL</td><td>4004</td><td>13</td><td>1627</td><td>4</td><td>2</td><td>2018-01-15</td><td>08:00:00</td><td>50</td><td>1</td><td>0</td><td>1</td><td>1</td><td>1</td><td>0</td></tr>",
                            "<tr><td>NULL</td><td>NULL</td><td>NULL</td><td>NULL</td><td>4006</td><td>13</td><td>1627</td><td>4</td><td>2</td><td>2018-01-15</td><td>09:00:00</td><td>110</td><td>1</td><td>0</td><td>1</td><td>0</td><td>0</td><td>0</td></tr>",
                            "<tr><td>NULL</td><td>NULL</td><td>NULL</td><td>NULL</td><td>4012</td><td>14</td><td>1627</td><td>4</td><td>2</td><td>2018-01-16</td><td>13:00:00</td><td>110</td><td>0</td><td>1</td><td>0</td><td>1</td><td>0</td><td>0</td></tr>",
                            "<tr><td>1016</td><td>4020</td><td>1</td><td>0</td><td>4020</td><td>15</td><td>3404</td><td>4</td><td>2</td><td>2018-01-16</td><td>13:00:00</td><td>110</td><td>0</td><td>1</td><td>0</td><td>1</td><td>0</td><td>0</td></tr>",
                            "<tr><td>1004</td><td>4020</td><td>1</td><td>0</td><td>4020</td><td>15</td><td>3404</td><td>4</td><td>2</td><td>2018-01-16</td><td>13:00:00</td><td>110</td><td>0</td><td>1</td><td>0</td><td>1</td><td>0</td><td>0</td></tr>",
                            "<tr><td>NULL</td><td>NULL</td><td>NULL</td><td>NULL</td><td>4030</td><td>16</td><td>1231</td><td>5</td><td>2</td><td>2018-01-15</td><td>11:00:00</td><td>50</td><td>1</td><td>1</td><td>1</td><td>1</td><td>1</td><td>0</td></tr>",
                            "<tr><td>NULL</td><td>NULL</td><td>NULL</td><td>NULL</td><td>4031</td><td>16</td><td>1231</td><td>5</td><td>2</td><td>2018-01-15</td><td>14:00:00</td><td>50</td><td>1</td><td>1</td><td>1</td><td>1</td><td>1</td><td>0</td></tr>",
                            "<tr><td>NULL</td><td>NULL</td><td>NULL</td><td>NULL</td><td>4156</td><td>37</td><td>3443</td><td>5</td><td>2</td><td>2018-01-15</td><td>16:00:00</td><td>50</td><td>1</td><td>1</td><td>1</td><td>1</td><td>1</td><td>0</td></tr>",
                            "<tr><td>NULL</td><td>NULL</td><td>NULL</td><td>NULL</td><td>4162</td><td>37</td><td>3443</td><td>5</td><td>2</td><td>2018-01-15</td><td>09:00:00</td><td>140</td><td>1</td><td>0</td><td>1</td><td>0</td><td>0</td><td>0</td></tr>",
                            "<tr><td>NULL</td><td>NULL</td><td>NULL</td><td>NULL</td><td>4168</td><td>37</td><td>3445</td><td>5</td><td>2</td><td>2018-01-15</td><td>11:00:00</td><td>50</td><td>1</td><td>1</td><td>1</td><td>1</td><td>1</td><td>0</td></tr>",
                            "<tr><td>1004</td><td>4180</td><td>1</td><td>0</td><td>4180</td><td>38</td><td>3446</td><td>5</td><td>2</td><td>2018-01-15</td><td>11:30:00</td><td>140</td><td>1</td><td>0</td><td>1</td><td>0</td><td>0</td><td>0</td></tr>",
                            "<tr><td>1003</td><td>4180</td><td>1</td><td>0</td><td>4180</td><td>38</td><td>3446</td><td>5</td><td>2</td><td>2018-01-15</td><td>11:30:00</td><td>140</td><td>1</td><td>0</td><td>1</td><td>0</td><td>0</td><td>0</td></tr>",
                            "<tr><td>1001</td><td>4180</td><td>1</td><td>0</td><td>4180</td><td>38</td><td>3446</td><td>5</td><td>2</td><td>2018-01-15</td><td>11:30:00</td><td>140</td><td>1</td><td>0</td><td>1</td><td>0</td><td>0</td><td>0</td></tr>",
                            "<tr><td>1006</td><td>4180</td><td>1</td><td>0</td><td>4180</td><td>38</td><td>3446</td><td>5</td><td>2</td><td>2018-01-15</td><td>11:30:00</td><td>140</td><td>1</td><td>0</td><td>1</td><td>0</td><td>0</td><td>0</td></tr>",
                            "<tr><td>1008</td><td>4180</td><td>1</td><td>0</td><td>4180</td><td>38</td><td>3446</td><td>5</td><td>2</td><td>2018-01-15</td><td>11:30:00</td><td>140</td><td>1</td><td>0</td><td>1</td><td>0</td><td>0</td><td>0</td></tr>",
                            "<tr><td>1016</td><td>4180</td><td>1</td><td>0</td><td>4180</td><td>38</td><td>3446</td><td>5</td><td>2</td><td>2018-01-15</td><td>11:30:00</td><td>140</td><td>1</td><td>0</td><td>1</td><td>0</td><td>0</td><td>0</td></tr>",
                            "<tr><td>1013</td><td>4180</td><td>1</td><td>0</td><td>4180</td><td>38</td><td>3446</td><td>5</td><td>2</td><td>2018-01-15</td><td>11:30:00</td><td>140</td><td>1</td><td>0</td><td>1</td><td>0</td><td>0</td><td>0</td></tr>",
                            "<tr><td>1011</td><td>4180</td><td>1</td><td>0</td><td>4180</td><td>38</td><td>3446</td><td>5</td><td>2</td><td>2018-01-15</td><td>11:30:00</td><td>140</td><td>1</td><td>0</td><td>1</td><td>0</td><td>0</td><td>0</td></tr>",
                            "<tr><td>1017</td><td>4180</td><td>1</td><td>0</td><td>4180</td><td>38</td><td>3446</td><td>5</td><td>2</td><td>2018-01-15</td><td>11:30:00</td><td>140</td><td>1</td><td>0</td><td>1</td><td>0</td><td>0</td><td>0</td></tr>",
                            "<tr><td>1009</td><td>4183</td><td>1</td><td>0</td><td>4183</td><td>38</td><td>3415</td><td>5</td><td>2</td><td>2018-01-15</td><td>13:00:00</td><td>50</td><td>1</td><td>1</td><td>1</td><td>1</td><td>1</td><td>0</td></tr>",
                            "<tr><td>1015</td><td>4183</td><td>1</td><td>0</td><td>4183</td><td>38</td><td>3415</td><td>5</td><td>2</td><td>2018-01-15</td><td>13:00:00</td><td>50</td><td>1</td><td>1</td><td>1</td><td>1</td><td>1</td><td>0</td></tr>",
                            "<tr><td>NULL</td><td>NULL</td><td>NULL</td><td>NULL</td><td>4184</td><td>38</td><td>3415</td><td>5</td><td>2</td><td>2018-01-15</td><td>14:00:00</td><td>50</td><td>1</td><td>1</td><td>1</td><td>1</td><td>1</td><td>0</td></tr>",
                            "<tr><td>1015</td><td>4196</td><td>1</td><td>0</td><td>4196</td><td>39</td><td>3415</td><td>5</td><td>2</td><td>2018-01-15</td><td>15:00:00</td><td>50</td><td>1</td><td>1</td><td>1</td><td>1</td><td>1</td><td>0</td></tr>",
                            "<tr><td>1014</td><td>4196</td><td>1</td><td>0</td><td>4196</td><td>39</td><td>3415</td><td>5</td><td>2</td><td>2018-01-15</td><td>15:00:00</td><td>50</td><td>1</td><td>1</td><td>1</td><td>1</td><td>1</td><td>0</td></tr>",
                            "<tr><td>1009</td><td>4196</td><td>1</td><td>0</td><td>4196</td><td>39</td><td>3415</td><td>5</td><td>2</td><td>2018-01-15</td><td>15:00:00</td><td>50</td><td>1</td><td>1</td><td>1</td><td>1</td><td>1</td><td>0</td></tr>",
                            "<tr><td>1012</td><td>4196</td><td>1</td><td>0</td><td>4196</td><td>39</td><td>3415</td><td>5</td><td>2</td><td>2018-01-15</td><td>15:00:00</td><td>50</td><td>1</td><td>1</td><td>1</td><td>1</td><td>1</td><td>0</td></tr>",
                            "<tr><td>1007</td><td>4196</td><td>1</td><td>0</td><td>4196</td><td>39</td><td>3415</td><td>5</td><td>2</td><td>2018-01-15</td><td>15:00:00</td><td>50</td><td>1</td><td>1</td><td>1</td><td>1</td><td>1</td><td>0</td></tr>",
                            "<tr><td>1005</td><td>4196</td><td>1</td><td>0</td><td>4196</td><td>39</td><td>3415</td><td>5</td><td>2</td><td>2018-01-15</td><td>15:00:00</td><td>50</td><td>1</td><td>1</td><td>1</td><td>1</td><td>1</td><td>0</td></tr>",
                            "<tr><td>1018</td><td>4196</td><td>1</td><td>0</td><td>4196</td><td>39</td><td>3415</td><td>5</td><td>2</td><td>2018-01-15</td><td>15:00:00</td><td>50</td><td>1</td><td>1</td><td>1</td><td>1</td><td>1</td><td>0</td></tr>",
                            "<tr><td>NULL</td><td>NULL</td><td>NULL</td><td>NULL</td><td>4500</td><td>33</td><td>1142</td><td>5</td><td>2</td><td>2018-01-15</td><td>08:00:00</td><td>50</td><td>1</td><td>1</td><td>1</td><td>1</td><td>1</td><td>0</td></tr>",
                            "<tr><td>NULL</td><td>NULL</td><td>NULL</td><td>NULL</td><td>4502</td><td>34</td><td>1142</td><td>5</td><td>2</td><td>2018-01-15</td><td>09:00:00</td><td>50</td><td>1</td><td>1</td><td>1</td><td>1</td><td>1</td><td>0</td></tr>",
                            "<tr><td>1003</td><td>4560</td><td>1</td><td>0</td><td>4560</td><td>35</td><td>2408</td><td>3</td><td>2</td><td>2018-01-16</td><td>10:00:00</td><td>50</td><td>0</td><td>1</td><td>0</td><td>1</td><td>0</td><td>1</td></tr>",
                            "<tr><td>NULL</td><td>NULL</td><td>NULL</td><td>NULL</td><td>4562</td><td>36</td><td>2408</td><td>5</td><td>2</td><td>2018-01-15</td><td>12:00:00</td><td>140</td><td>1</td><td>0</td><td>0</td><td>0</td><td>1</td><td>0</td></tr>",
                            "<tr><td>NULL</td><td>NULL</td><td>NULL</td><td>NULL</td><td>4642</td><td>29</td><td>1514</td><td>2</td><td>2</td><td>2018-01-16</td><td>11:00:00</td><td>50</td><td>0</td><td>1</td><td>0</td><td>1</td><td>0</td><td>0</td></tr>",
                            "<tr><td>NULL</td><td>NULL</td><td>NULL</td><td>NULL</td><td>5001</td><td>20</td><td>1519</td><td>5</td><td>2</td><td>2018-01-15</td><td>07:30:00</td><td>140</td><td>1</td><td>0</td><td>1</td><td>0</td><td>0</td><td>0</td></tr>",
                            "<tr><td>NULL</td><td>NULL</td><td>NULL</td><td>NULL</td><td>5005</td><td>20</td><td>1515</td><td>5</td><td>2</td><td>2018-01-16</td><td>11:00:00</td><td>50</td><td>0</td><td>1</td><td>1</td><td>1</td><td>1</td><td>1</td></tr>",
                            "<tr><td>NULL</td><td>NULL</td><td>NULL</td><td>NULL</td><td>5015</td><td>21</td><td>1131</td><td>5</td><td>2</td><td>2018-01-15</td><td>09:00:00</td><td>140</td><td>1</td><td>0</td><td>1</td><td>0</td><td>0</td><td>0</td></tr>",
                            "<tr><td>NULL</td><td>NULL</td><td>NULL</td><td>NULL</td><td>5051</td><td>22</td><td>1515</td><td>4</td><td>2</td><td>2018-01-15</td><td>14:30:00</td><td>50</td><td>1</td><td>1</td><td>1</td><td>1</td><td>0</td><td>0</td></tr>",
                            "<tr><td>1007</td><td>5071</td><td>1</td><td>0</td><td>5071</td><td>50</td><td>1624</td><td>5</td><td>2</td><td>2018-01-15</td><td>10:00:00</td><td>50</td><td>1</td><td>1</td><td>1</td><td>1</td><td>1</td><td>0</td></tr>",
                            "<tr><td>1014</td><td>5071</td><td>1</td><td>0</td><td>5071</td><td>50</td><td>1624</td><td>5</td><td>2</td><td>2018-01-15</td><td>10:00:00</td><td>50</td><td>1</td><td>1</td><td>1</td><td>1</td><td>1</td><td>0</td></tr>",
                            "<tr><td>1018</td><td>5071</td><td>1</td><td>0</td><td>5071</td><td>50</td><td>1624</td><td>5</td><td>2</td><td>2018-01-15</td><td>10:00:00</td><td>50</td><td>1</td><td>1</td><td>1</td><td>1</td><td>1</td><td>0</td></tr>",
                            "<tr><td>NULL</td><td>NULL</td><td>NULL</td><td>NULL</td><td>5075</td><td>51</td><td>1624</td><td>5</td><td>2</td><td>2018-01-15</td><td>07:00:00</td><td>140</td><td>1</td><td>0</td><td>0</td><td>0</td><td>1</td><td>0</td></tr>",
                            "<tr><td>NULL</td><td>NULL</td><td>NULL</td><td>NULL</td><td>5089</td><td>52</td><td>1624</td><td>5</td><td>2</td><td>2018-01-16</td><td>16:00:00</td><td>50</td><td>0</td><td>1</td><td>1</td><td>1</td><td>1</td><td>1</td></tr>",
                            "<tr><td>NULL</td><td>NULL</td><td>NULL</td><td>NULL</td><td>5103</td><td>53</td><td>1624</td><td>5</td><td>2</td><td>2018-01-15</td><td>11:00:00</td><td>50</td><td>1</td><td>1</td><td>1</td><td>1</td><td>1</td><td>0</td></tr>",
                            "<tr><td>NULL</td><td>NULL</td><td>NULL</td><td>NULL</td><td>5213</td><td>17</td><td>1532</td><td>5</td><td>2</td><td>2018-01-15</td><td>10:00:00</td><td>140</td><td>1</td><td>0</td><td>1</td><td>0</td><td>0</td><td>0</td></tr>",
                            "<tr><td>NULL</td><td>NULL</td><td>NULL</td><td>NULL</td><td>5223</td><td>18</td><td>1532</td><td>5</td><td>2</td><td>2018-01-15</td><td>12:00:00</td><td>50</td><td>1</td><td>1</td><td>1</td><td>1</td><td>1</td><td>0</td></tr>",
                            "<tr><td>NULL</td><td>NULL</td><td>NULL</td><td>NULL</td><td>5245</td><td>19</td><td>1530</td><td>5</td><td>2</td><td>2018-01-15</td><td>13:30:00</td><td>140</td><td>1</td><td>0</td><td>1</td><td>0</td><td>0</td><td>0</td></tr>",
                            "<tr><td>NULL</td><td>NULL</td><td>NULL</td><td>NULL</td><td>5410</td><td>23</td><td>1640</td><td>4</td><td>2</td><td>2018-01-16</td><td>10:00:00</td><td>110</td><td>0</td><td>1</td><td>0</td><td>1</td><td>0</td><td>0</td></tr>",
                            "<tr><td>NULL</td><td>NULL</td><td>NULL</td><td>NULL</td><td>5420</td><td>24</td><td>1641</td><td>4</td><td>2</td><td>2018-01-15</td><td>13:00:00</td><td>50</td><td>1</td><td>0</td><td>1</td><td>0</td><td>1</td><td>1</td></tr>",
                            "<tr><td>1016</td><td>5430</td><td>1</td><td>0</td><td>5430</td><td>25</td><td>1642</td><td>4</td><td>2</td><td>2018-01-15</td><td>15:00:00</td><td>50</td><td>1</td><td>1</td><td>0</td><td>1</td><td>0</td><td>1</td></tr>",
                            "<tr><td>1011</td><td>5430</td><td>1</td><td>0</td><td>5430</td><td>25</td><td>1642</td><td>4</td><td>2</td><td>2018-01-15</td><td>15:00:00</td><td>50</td><td>1</td><td>1</td><td>0</td><td>1</td><td>0</td><td>1</td></tr>",
                            "<tr><td>1004</td><td>5430</td><td>1</td><td>0</td><td>5430</td><td>25</td><td>1642</td><td>4</td><td>2</td><td>2018-01-15</td><td>15:00:00</td><td>50</td><td>1</td><td>1</td><td>0</td><td>1</td><td>0</td><td>1</td></tr>",
                            "<tr><td>NULL</td><td>NULL</td><td>NULL</td><td>NULL</td><td>5431</td><td>27</td><td>3322</td><td>5</td><td>2</td><td>2018-01-15</td><td>14:00:00</td><td>50</td><td>1</td><td>1</td><td>1</td><td>1</td><td>1</td><td>0</td></tr>",
                            "<tr><td>NULL</td><td>NULL</td><td>NULL</td><td>NULL</td><td>5451</td><td>27</td><td>1639</td><td>5</td><td>2</td><td>2018-01-15</td><td>16:00:00</td><td>50</td><td>1</td><td>1</td><td>1</td><td>1</td><td>1</td><td>0</td></tr>",
                            "<tr><td>NULL</td><td>NULL</td><td>NULL</td><td>NULL</td><td>5500</td><td>1</td><td>3305</td><td>3</td><td>2</td><td>2018-01-15</td><td>16:00:00</td><td>50</td><td>1</td><td>0</td><td>1</td><td>0</td><td>1</td><td>0</td></tr>",
                            "<tr><td>1005</td><td>5510</td><td>1</td><td>0</td><td>5510</td><td>2</td><td>3307</td><td>3</td><td>2</td><td>2018-01-16</td><td>13:00:00</td><td>80</td><td>0</td><td>1</td><td>0</td><td>1</td><td>0</td><td>0</td></tr>",
                            "<tr><td>1012</td><td>5510</td><td>1</td><td>0</td><td>5510</td><td>2</td><td>3307</td><td>3</td><td>2</td><td>2018-01-16</td><td>13:00:00</td><td>80</td><td>0</td><td>1</td><td>0</td><td>1</td><td>0</td><td>0</td></tr>",
                            "<tr><td>NULL</td><td>NULL</td><td>NULL</td><td>NULL</td><td>5520</td><td>3</td><td>3309</td><td>3</td><td>2</td><td>2018-01-16</td><td>09:00:00</td><td>50</td><td>0</td><td>1</td><td>0</td><td>1</td><td>0</td><td>1</td></tr>",
                            "<tr><td>NULL</td><td>NULL</td><td>NULL</td><td>NULL</td><td>5633</td><td>48</td><td>3420</td><td>5</td><td>2</td><td>2018-01-16</td><td>16:00:00</td><td>50</td><td>0</td><td>1</td><td>1</td><td>1</td><td>1</td><td>1</td></tr>",
                            "<tr><td>NULL</td><td>NULL</td><td>NULL</td><td>NULL</td><td>5639</td><td>49</td><td>3353</td><td>3</td><td>2</td><td>2018-01-15</td><td>09:00:00</td><td>50</td><td>1</td><td>0</td><td>1</td><td>0</td><td>1</td><td>0</td></tr>",
                            "<tr><td>NULL</td><td>NULL</td><td>NULL</td><td>NULL</td><td>5647</td><td>49</td><td>3353</td><td>3</td><td>2</td><td>2018-01-16</td><td>18:00:00</td><td>50</td><td>0</td><td>1</td><td>0</td><td>1</td><td>0</td><td>1</td></tr>",
                            "<tr><td>NULL</td><td>NULL</td><td>NULL</td><td>NULL</td><td>5889</td><td>45</td><td>2423</td><td>5</td><td>2</td><td>2018-01-15</td><td>16:00:00</td><td>50</td><td>1</td><td>1</td><td>1</td><td>1</td><td>1</td><td>0</td></tr>",
                            "<tr><td>NULL</td><td>NULL</td><td>NULL</td><td>NULL</td><td>5891</td><td>45</td><td>2423</td><td>5</td><td>2</td><td>2018-01-15</td><td>11:00:00</td><td>50</td><td>1</td><td>1</td><td>1</td><td>1</td><td>1</td><td>0</td></tr>",
                            "<tr><td>NULL</td><td>NULL</td><td>NULL</td><td>NULL</td><td>5895</td><td>45</td><td>2423</td><td>5</td><td>2</td><td>2018-01-15</td><td>13:00:00</td><td>50</td><td>1</td><td>1</td><td>1</td><td>1</td><td>1</td><td>0</td></tr>",
                            "<tr><td>1013</td><td>5907</td><td>1</td><td>0</td><td>5907</td><td>46</td><td>3445</td><td>5</td><td>2</td><td>2018-01-15</td><td>08:00:00</td><td>50</td><td>1</td><td>1</td><td>1</td><td>1</td><td>1</td><td>0</td></tr>",
                            "<tr><td>1006</td><td>5907</td><td>1</td><td>0</td><td>5907</td><td>46</td><td>3445</td><td>5</td><td>2</td><td>2018-01-15</td><td>08:00:00</td><td>50</td><td>1</td><td>1</td><td>1</td><td>1</td><td>1</td><td>0</td></tr>",
                            "<tr><td>1017</td><td>5907</td><td>1</td><td>0</td><td>5907</td><td>46</td><td>3445</td><td>5</td><td>2</td><td>2018-01-15</td><td>08:00:00</td><td>50</td><td>1</td><td>1</td><td>1</td><td>1</td><td>1</td><td>0</td></tr>",
                            "<tr><td>NULL</td><td>NULL</td><td>NULL</td><td>NULL</td><td>5911</td><td>46</td><td>3445</td><td>5</td><td>2</td><td>2018-01-15</td><td>12:00:00</td><td>50</td><td>1</td><td>1</td><td>1</td><td>1</td><td>1</td><td>0</td></tr>",
                            "<tr><td>NULL</td><td>NULL</td><td>NULL</td><td>NULL</td><td>5915</td><td>46</td><td>3353</td><td>5</td><td>2</td><td>2018-01-15</td><td>10:00:00</td><td>50</td><td>1</td><td>1</td><td>1</td><td>1</td><td>1</td><td>0</td></tr>",
                            "<tr><td>1005</td><td>5917</td><td>1</td><td>0</td><td>5917</td><td>47</td><td>3422</td><td>5</td><td>2</td><td>2018-01-15</td><td>14:00:00</td><td>50</td><td>1</td><td>1</td><td>1</td><td>1</td><td>1</td><td>0</td></tr>",
                            "<tr><td>1008</td><td>5917</td><td>1</td><td>0</td><td>5917</td><td>47</td><td>3422</td><td>5</td><td>2</td><td>2018-01-15</td><td>14:00:00</td><td>50</td><td>1</td><td>1</td><td>1</td><td>1</td><td>1</td><td>0</td></tr>",
                            "<tr><td>1001</td><td>5917</td><td>1</td><td>0</td><td>5917</td><td>47</td><td>3422</td><td>5</td><td>2</td><td>2018-01-15</td><td>14:00:00</td><td>50</td><td>1</td><td>1</td><td>1</td><td>1</td><td>1</td><td>0</td></tr>",
                            "<tr><td>1012</td><td>5917</td><td>1</td><td>0</td><td>5917</td><td>47</td><td>3422</td><td>5</td><td>2</td><td>2018-01-15</td><td>14:00:00</td><td>50</td><td>1</td><td>1</td><td>1</td><td>1</td><td>1</td><td>0</td></tr>",
                            "<tr><td>NULL</td><td>NULL</td><td>NULL</td><td>NULL</td><td>5925</td><td>47</td><td>3422</td><td>5</td><td>2</td><td>2018-01-15</td><td>15:00:00</td><td>50</td><td>1</td><td>1</td><td>1</td><td>1</td><td>1</td><td>0</td></tr>",
                            "<tr><td>1014</td><td>5933</td><td>1</td><td>0</td><td>5933</td><td>47</td><td>3422</td><td>5</td><td>2</td><td>2018-01-20</td><td>09:00:00</td><td>280</td><td>0</td><td>0</td><td>0</td><td>0</td><td>0</td><td>1</td></tr>",
                            "<tr><td>1007</td><td>5933</td><td>1</td><td>0</td><td>5933</td><td>47</td><td>3422</td><td>5</td><td>2</td><td>2018-01-20</td><td>09:00:00</td><td>280</td><td>0</td><td>0</td><td>0</td><td>0</td><td>0</td><td>1</td></tr>",
                            "<tr><td>1018</td><td>5933</td><td>1</td><td>0</td><td>5933</td><td>47</td><td>3422</td><td>5</td><td>2</td><td>2018-01-20</td><td>09:00:00</td><td>280</td><td>0</td><td>0</td><td>0</td><td>0</td><td>0</td><td>1</td></tr>",
                            "<tr><td>1015</td><td>6030</td><td>1</td><td>0</td><td>6030</td><td>30</td><td>3352</td><td>5</td><td>2</td><td>2018-01-15</td><td>09:00:00</td><td>140</td><td>1</td><td>0</td><td>0</td><td>0</td><td>1</td><td>0</td></tr>",
                            "<tr><td>1009</td><td>6030</td><td>1</td><td>0</td><td>6030</td><td>30</td><td>3352</td><td>5</td><td>2</td><td>2018-01-15</td><td>09:00:00</td><td>140</td><td>1</td><td>0</td><td>0</td><td>0</td><td>1</td><td>0</td></tr>",
                            "<tr><td>NULL</td><td>NULL</td><td>NULL</td><td>NULL</td><td>6031</td><td>30</td><td>3352</td><td>5</td><td>2</td><td>2018-01-15</td><td>13:30:00</td><td>140</td><td>1</td><td>0</td><td>1</td><td>0</td><td>0</td><td>0</td></tr>",
                            "<tr><td>NULL</td><td>NULL</td><td>NULL</td><td>NULL</td><td>6040</td><td>31</td><td>3352</td><td>5</td><td>2</td><td>2018-01-15</td><td>11:00:00</td><td>50</td><td>1</td><td>1</td><td>1</td><td>1</td><td>1</td><td>0</td></tr>",
                            "<tr><td>NULL</td><td>NULL</td><td>NULL</td><td>NULL</td><td>6045</td><td>31</td><td>3352</td><td>5</td><td>2</td><td>2018-01-15</td><td>12:00:00</td><td>50</td><td>1</td><td>1</td><td>1</td><td>1</td><td>1</td><td>0</td></tr>",
                            "<tr><td>NULL</td><td>NULL</td><td>NULL</td><td>NULL</td><td>6050</td><td>32</td><td>3343</td><td>5</td><td>2</td><td>2018-01-15</td><td>16:00:00</td><td>50</td><td>1</td><td>1</td><td>1</td><td>1</td><td>1</td><td>0</td></tr>",
                            "<tr><td>NULL</td><td>NULL</td><td>NULL</td><td>NULL</td><td>6055</td><td>32</td><td>3317</td><td>5</td><td>2</td><td>2018-01-15</td><td>15:00:00</td><td>50</td><td>1</td><td>1</td><td>1</td><td>1</td><td>1</td><td>0</td></tr>",
                            "<tr><td>NULL</td><td>NULL</td><td>NULL</td><td>NULL</td><td>6065</td><td>40</td><td>3345</td><td>5</td><td>2</td><td>2018-01-15</td><td>08:00:00</td><td>140</td><td>1</td><td>0</td><td>1</td><td>0</td><td>0</td><td>0</td></tr>",
                            "<tr><td>NULL</td><td>NULL</td><td>NULL</td><td>NULL</td><td>6070</td><td>42</td><td>3346</td><td>5</td><td>2</td><td>2018-01-15</td><td>10:30:00</td><td>140</td><td>1</td><td>0</td><td>0</td><td>0</td><td>1</td><td>0</td></tr>",
                            "<tr><td>1011</td><td>6082</td><td>1</td><td>0</td><td>6082</td><td>44</td><td>3346</td><td>5</td><td>2</td><td>2018-01-15</td><td>08:00:00</td><td>50</td><td>1</td><td>1</td><td>1</td><td>1</td><td>1</td><td>0</td></tr>",
                            "<tr><td>1016</td><td>6082</td><td>1</td><td>0</td><td>6082</td><td>44</td><td>3346</td><td>5</td><td>2</td><td>2018-01-15</td><td>08:00:00</td><td>50</td><td>1</td><td>1</td><td>1</td><td>1</td><td>1</td><td>0</td></tr>",
                            "<tr><td>1008</td><td>6082</td><td>1</td><td>0</td><td>6082</td><td>44</td><td>3346</td><td>5</td><td>2</td><td>2018-01-15</td><td>08:00:00</td><td>50</td><td>1</td><td>1</td><td>1</td><td>1</td><td>1</td><td>0</td></tr>",
                            "<tr><td>1001</td><td>6082</td><td>1</td><td>0</td><td>6082</td><td>44</td><td>3346</td><td>5</td><td>2</td><td>2018-01-15</td><td>08:00:00</td><td>50</td><td>1</td><td>1</td><td>1</td><td>1</td><td>1</td><td>0</td></tr>",
                            "<tr><td>1004</td><td>6082</td><td>1</td><td>0</td><td>6082</td><td>44</td><td>3346</td><td>5</td><td>2</td><td>2018-01-15</td><td>08:00:00</td><td>50</td><td>1</td><td>1</td><td>1</td><td>1</td><td>1</td><td>0</td></tr>",
                            "<tr><td>1003</td><td>6082</td><td>1</td><td>0</td><td>6082</td><td>44</td><td>3346</td><td>5</td><td>2</td><td>2018-01-15</td><td>08:00:00</td><td>50</td><td>1</td><td>1</td><td>1</td><td>1</td><td>1</td><td>0</td></tr>",
                            "<tr><td>NULL</td><td>NULL</td><td>NULL</td><td>NULL</td><td>6085</td><td>43</td><td>3346</td><td>5</td><td>2</td><td>2018-01-15</td><td>15:00:00</td><td>50</td><td>1</td><td>1</td><td>1</td><td>1</td><td>1</td><td>0</td></tr>",
                            "<tr><td>NULL</td><td>NULL</td><td>NULL</td><td>NULL</td><td>6090</td><td>44</td><td>3346</td><td>5</td><td>2</td><td>2018-01-15</td><td>13:30:00</td><td>140</td><td>1</td><td>0</td><td>1</td><td>0</td><td>1</td><td>0</td></tr>",
                            "<tr><td>NULL</td><td>NULL</td><td>NULL</td><td>NULL</td><td>6115</td><td>54</td><td>3352</td><td>5</td><td>2</td><td>2018-01-15</td><td>08:00:00</td><td>50</td><td>1</td><td>1</td><td>1</td><td>1</td><td>1</td><td>0</td></tr>",
                            "<tr><td>NULL</td><td>NULL</td><td>NULL</td><td>NULL</td><td>6120</td><td>54</td><td>3352</td><td>5</td><td>2</td><td>2018-01-15</td><td>10:00:00</td><td>50</td><td>1</td><td>1</td><td>1</td><td>1</td><td>1</td><td>0</td></tr>",
                            "<tr><td>NULL</td><td>NULL</td><td>NULL</td><td>NULL</td><td>6123</td><td>56</td><td>3346</td><td>5</td><td>2</td><td>2018-01-15</td><td>12:00:00</td><td>140</td><td>1</td><td>0</td><td>0</td><td>0</td><td>1</td><td>0</td></tr>",
                            "<tr><td>NULL</td><td>NULL</td><td>NULL</td><td>NULL</td><td>6600</td><td>41</td><td>3420</td><td>5</td><td>2</td><td>2018-01-15</td><td>13:00:00</td><td>140</td><td>1</td><td>0</td><td>1</td><td>0</td><td>0</td><td>0</td></tr>",
                            "</table>"
                        ]
                    }
                }
            ],
            "execution_count": 2
        },
        {
            "cell_type": "markdown",
            "source": [
                "# Example 3\r\n",
                "List the `RecipeClassDescription` for **all** recipe classes, along with the titles of any recipes belonging to that class."
            ],
            "metadata": {
                "language": "sql",
                "azdata_cell_guid": "89f6df68-e5f5-4cc2-bf31-0d9a4c874805"
            },
            "attachments": {}
        },
        {
            "cell_type": "code",
            "source": [
                "use [RecipesExample];\r\n",
                "select RecipeClassDescription, RecipeTitle from Recipe_Classes\r\n",
                "left join Recipes on Recipe_Classes.RecipeClassID = Recipes.RecipeClassID\r\n",
                ""
            ],
            "metadata": {
                "language": "sql",
                "azdata_cell_guid": "02b32149-c1c0-43bf-85c2-ff70031c1993",
                "tags": []
            },
            "outputs": [
                {
                    "output_type": "display_data",
                    "data": {
                        "text/html": "(16 rows affected)"
                    },
                    "metadata": {}
                },
                {
                    "output_type": "display_data",
                    "data": {
                        "text/html": "Total execution time: 00:00:00.048"
                    },
                    "metadata": {}
                },
                {
                    "output_type": "execute_result",
                    "metadata": {},
                    "execution_count": 4,
                    "data": {
                        "application/vnd.dataresource+json": {
                            "schema": {
                                "fields": [
                                    {
                                        "name": "RecipeClassDescription"
                                    },
                                    {
                                        "name": "RecipeTitle"
                                    }
                                ]
                            },
                            "data": [
                                {
                                    "RecipeClassDescription": "Main course",
                                    "RecipeTitle": "Irish Stew"
                                },
                                {
                                    "RecipeClassDescription": "Main course",
                                    "RecipeTitle": "Fettuccini Alfredo"
                                },
                                {
                                    "RecipeClassDescription": "Main course",
                                    "RecipeTitle": "Pollo Picoso"
                                },
                                {
                                    "RecipeClassDescription": "Main course",
                                    "RecipeTitle": "Roast Beef"
                                },
                                {
                                    "RecipeClassDescription": "Main course",
                                    "RecipeTitle": "Huachinango Veracruzana (Red Snapper, Veracruz style)"
                                },
                                {
                                    "RecipeClassDescription": "Main course",
                                    "RecipeTitle": "Tourtière (French-Canadian Pork Pie)"
                                },
                                {
                                    "RecipeClassDescription": "Main course",
                                    "RecipeTitle": "Salmon Filets in Parchment Paper"
                                },
                                {
                                    "RecipeClassDescription": "Vegetable",
                                    "RecipeTitle": "Garlic Green Beans"
                                },
                                {
                                    "RecipeClassDescription": "Vegetable",
                                    "RecipeTitle": "Asparagus"
                                },
                                {
                                    "RecipeClassDescription": "Starch",
                                    "RecipeTitle": "Yorkshire Pudding"
                                },
                                {
                                    "RecipeClassDescription": "Salad",
                                    "RecipeTitle": "Mike's Summer Salad"
                                },
                                {
                                    "RecipeClassDescription": "Hors d'oeuvres",
                                    "RecipeTitle": "Salsa Buena"
                                },
                                {
                                    "RecipeClassDescription": "Hors d'oeuvres",
                                    "RecipeTitle": "Machos Nachos"
                                },
                                {
                                    "RecipeClassDescription": "Dessert",
                                    "RecipeTitle": "Trifle"
                                },
                                {
                                    "RecipeClassDescription": "Dessert",
                                    "RecipeTitle": "Coupe Colonel"
                                },
                                {
                                    "RecipeClassDescription": "Soup",
                                    "RecipeTitle": "NULL"
                                }
                            ]
                        },
                        "text/html": [
                            "<table>",
                            "<tr><th>RecipeClassDescription</th><th>RecipeTitle</th></tr>",
                            "<tr><td>Main course</td><td>Irish Stew</td></tr>",
                            "<tr><td>Main course</td><td>Fettuccini Alfredo</td></tr>",
                            "<tr><td>Main course</td><td>Pollo Picoso</td></tr>",
                            "<tr><td>Main course</td><td>Roast Beef</td></tr>",
                            "<tr><td>Main course</td><td>Huachinango Veracruzana (Red Snapper, Veracruz style)</td></tr>",
                            "<tr><td>Main course</td><td>Tourtière (French-Canadian Pork Pie)</td></tr>",
                            "<tr><td>Main course</td><td>Salmon Filets in Parchment Paper</td></tr>",
                            "<tr><td>Vegetable</td><td>Garlic Green Beans</td></tr>",
                            "<tr><td>Vegetable</td><td>Asparagus</td></tr>",
                            "<tr><td>Starch</td><td>Yorkshire Pudding</td></tr>",
                            "<tr><td>Salad</td><td>Mike&#39;s Summer Salad</td></tr>",
                            "<tr><td>Hors d&#39;oeuvres</td><td>Salsa Buena</td></tr>",
                            "<tr><td>Hors d&#39;oeuvres</td><td>Machos Nachos</td></tr>",
                            "<tr><td>Dessert</td><td>Trifle</td></tr>",
                            "<tr><td>Dessert</td><td>Coupe Colonel</td></tr>",
                            "<tr><td>Soup</td><td>NULL</td></tr>",
                            "</table>"
                        ]
                    }
                }
            ],
            "execution_count": 4
        },
        {
            "cell_type": "markdown",
            "source": [
                "Modify the previous query to use the SQL Server [CASE statement](https:\\link.hope.edu\\392-sql-case) to display the string **No Recipes For This Class** for the title for any recipe classes for which there are no recipes"
            ],
            "metadata": {
                "language": "sql",
                "azdata_cell_guid": "a373dc88-cf85-4a28-a5aa-91cb93d6a867"
            },
            "attachments": {}
        },
        {
            "cell_type": "code",
            "source": [
                "use [RecipesExample];\r\n",
                "select RecipeClassDescription,\r\n",
                "CASE\r\n",
                "    WHEN RecipeTitle is NULL THEN 'No Recipes For This Class'\r\n",
                "    else RecipeTitle\r\n",
                "    END as RecipeTitle\r\n",
                "from Recipe_Classes\r\n",
                "left join Recipes on Recipe_Classes.RecipeClassID = Recipes.RecipeClassID \r\n",
                "\r\n",
                "\r\n",
                ""
            ],
            "metadata": {
                "language": "sql",
                "azdata_cell_guid": "3cbb9053-c933-416f-818a-d55e3545d1d9"
            },
            "outputs": [
                {
                    "output_type": "display_data",
                    "data": {
                        "text/html": "(16 rows affected)"
                    },
                    "metadata": {}
                },
                {
                    "output_type": "display_data",
                    "data": {
                        "text/html": "Total execution time: 00:00:00.032"
                    },
                    "metadata": {}
                },
                {
                    "output_type": "execute_result",
                    "metadata": {},
                    "execution_count": 6,
                    "data": {
                        "application/vnd.dataresource+json": {
                            "schema": {
                                "fields": [
                                    {
                                        "name": "RecipeClassDescription"
                                    },
                                    {
                                        "name": "RecipeTitle"
                                    }
                                ]
                            },
                            "data": [
                                {
                                    "RecipeClassDescription": "Main course",
                                    "RecipeTitle": "Irish Stew"
                                },
                                {
                                    "RecipeClassDescription": "Main course",
                                    "RecipeTitle": "Fettuccini Alfredo"
                                },
                                {
                                    "RecipeClassDescription": "Main course",
                                    "RecipeTitle": "Pollo Picoso"
                                },
                                {
                                    "RecipeClassDescription": "Main course",
                                    "RecipeTitle": "Roast Beef"
                                },
                                {
                                    "RecipeClassDescription": "Main course",
                                    "RecipeTitle": "Huachinango Veracruzana (Red Snapper, Veracruz style)"
                                },
                                {
                                    "RecipeClassDescription": "Main course",
                                    "RecipeTitle": "Tourtière (French-Canadian Pork Pie)"
                                },
                                {
                                    "RecipeClassDescription": "Main course",
                                    "RecipeTitle": "Salmon Filets in Parchment Paper"
                                },
                                {
                                    "RecipeClassDescription": "Vegetable",
                                    "RecipeTitle": "Garlic Green Beans"
                                },
                                {
                                    "RecipeClassDescription": "Vegetable",
                                    "RecipeTitle": "Asparagus"
                                },
                                {
                                    "RecipeClassDescription": "Starch",
                                    "RecipeTitle": "Yorkshire Pudding"
                                },
                                {
                                    "RecipeClassDescription": "Salad",
                                    "RecipeTitle": "Mike's Summer Salad"
                                },
                                {
                                    "RecipeClassDescription": "Hors d'oeuvres",
                                    "RecipeTitle": "Salsa Buena"
                                },
                                {
                                    "RecipeClassDescription": "Hors d'oeuvres",
                                    "RecipeTitle": "Machos Nachos"
                                },
                                {
                                    "RecipeClassDescription": "Dessert",
                                    "RecipeTitle": "Trifle"
                                },
                                {
                                    "RecipeClassDescription": "Dessert",
                                    "RecipeTitle": "Coupe Colonel"
                                },
                                {
                                    "RecipeClassDescription": "Soup",
                                    "RecipeTitle": "No Recipes For This Class"
                                }
                            ]
                        },
                        "text/html": [
                            "<table>",
                            "<tr><th>RecipeClassDescription</th><th>RecipeTitle</th></tr>",
                            "<tr><td>Main course</td><td>Irish Stew</td></tr>",
                            "<tr><td>Main course</td><td>Fettuccini Alfredo</td></tr>",
                            "<tr><td>Main course</td><td>Pollo Picoso</td></tr>",
                            "<tr><td>Main course</td><td>Roast Beef</td></tr>",
                            "<tr><td>Main course</td><td>Huachinango Veracruzana (Red Snapper, Veracruz style)</td></tr>",
                            "<tr><td>Main course</td><td>Tourtière (French-Canadian Pork Pie)</td></tr>",
                            "<tr><td>Main course</td><td>Salmon Filets in Parchment Paper</td></tr>",
                            "<tr><td>Vegetable</td><td>Garlic Green Beans</td></tr>",
                            "<tr><td>Vegetable</td><td>Asparagus</td></tr>",
                            "<tr><td>Starch</td><td>Yorkshire Pudding</td></tr>",
                            "<tr><td>Salad</td><td>Mike&#39;s Summer Salad</td></tr>",
                            "<tr><td>Hors d&#39;oeuvres</td><td>Salsa Buena</td></tr>",
                            "<tr><td>Hors d&#39;oeuvres</td><td>Machos Nachos</td></tr>",
                            "<tr><td>Dessert</td><td>Trifle</td></tr>",
                            "<tr><td>Dessert</td><td>Coupe Colonel</td></tr>",
                            "<tr><td>Soup</td><td>No Recipes For This Class</td></tr>",
                            "</table>"
                        ]
                    }
                }
            ],
            "execution_count": 6
        },
        {
            "cell_type": "markdown",
            "source": [
                "# Practice problems\r\n",
                "\r\n",
                "Using an outer join, find all products that have never been ordered.  (2 products, _Victoria Pro All Weather Tires_ and _Ultra-Pro Rain Jacket_)"
            ],
            "metadata": {
                "language": "sql",
                "azdata_cell_guid": "cf70edd7-088b-415d-8780-d0d40704fdb1"
            },
            "attachments": {}
        },
        {
            "cell_type": "code",
            "source": [
                "use SalesOrdersExample;\r\n",
                "select ProductName from Products\r\n",
                "left join Order_Details on Products.ProductNumber = Order_Details.ProductNumber\r\n",
                "where OrderNumber is NULL\r\n",
                ""
            ],
            "metadata": {
                "language": "sql",
                "azdata_cell_guid": "64f6a634-77b5-4f68-8a3e-98d8e50bb877"
            },
            "outputs": [
                {
                    "output_type": "display_data",
                    "data": {
                        "text/html": "(2 rows affected)"
                    },
                    "metadata": {}
                },
                {
                    "output_type": "display_data",
                    "data": {
                        "text/html": "Total execution time: 00:00:00.062"
                    },
                    "metadata": {}
                },
                {
                    "output_type": "execute_result",
                    "metadata": {},
                    "execution_count": 10,
                    "data": {
                        "application/vnd.dataresource+json": {
                            "schema": {
                                "fields": [
                                    {
                                        "name": "ProductNumber"
                                    },
                                    {
                                        "name": "ProductName"
                                    },
                                    {
                                        "name": "ProductDescription"
                                    },
                                    {
                                        "name": "RetailPrice"
                                    },
                                    {
                                        "name": "QuantityOnHand"
                                    },
                                    {
                                        "name": "CategoryID"
                                    },
                                    {
                                        "name": "OrderNumber"
                                    },
                                    {
                                        "name": "ProductNumber"
                                    },
                                    {
                                        "name": "QuotedPrice"
                                    },
                                    {
                                        "name": "QuantityOrdered"
                                    }
                                ]
                            },
                            "data": [
                                {
                                    "ProductNumber": "NULL",
                                    "ProductName": "Ultra-Pro Rain Jacket",
                                    "ProductDescription": "NULL",
                                    "RetailPrice": "85.00",
                                    "QuantityOnHand": "30",
                                    "CategoryID": "3",
                                    "OrderNumber": "NULL",
                                    "QuotedPrice": "NULL",
                                    "QuantityOrdered": "NULL"
                                },
                                {
                                    "ProductNumber": "NULL",
                                    "ProductName": "Victoria Pro All Weather Tires",
                                    "ProductDescription": "NULL",
                                    "RetailPrice": "54.95",
                                    "QuantityOnHand": "20",
                                    "CategoryID": "4",
                                    "OrderNumber": "NULL",
                                    "QuotedPrice": "NULL",
                                    "QuantityOrdered": "NULL"
                                }
                            ]
                        },
                        "text/html": [
                            "<table>",
                            "<tr><th>ProductNumber</th><th>ProductName</th><th>ProductDescription</th><th>RetailPrice</th><th>QuantityOnHand</th><th>CategoryID</th><th>OrderNumber</th><th>ProductNumber</th><th>QuotedPrice</th><th>QuantityOrdered</th></tr>",
                            "<tr><td>23</td><td>Ultra-Pro Rain Jacket</td><td>NULL</td><td>85.00</td><td>30</td><td>3</td><td>NULL</td><td>NULL</td><td>NULL</td><td>NULL</td></tr>",
                            "<tr><td>4</td><td>Victoria Pro All Weather Tires</td><td>NULL</td><td>54.95</td><td>20</td><td>4</td><td>NULL</td><td>NULL</td><td>NULL</td><td>NULL</td></tr>",
                            "</table>"
                        ]
                    }
                }
            ],
            "execution_count": 10
        },
        {
            "cell_type": "markdown",
            "source": [
                "Find all products that weren't ordered in the first 6 months of 2017. Use the `month` and `year` functions to get the appropriate parts of the `OrderDate` column. Sort the orders by product name (40 products, first is _AeroFlo ATB Wheels_ and last is _X-Pro All Weather Tires_)"
            ],
            "metadata": {
                "language": "sql",
                "azdata_cell_guid": "b599ca90-abe4-45ac-98fa-46efcaf3e582"
            },
            "attachments": {}
        },
        {
            "cell_type": "code",
            "source": [
                "use SalesOrdersExample;\r\n",
                "select Products.ProductNumber, ProductName from Products\r\n",
                "left join Order_Details on Products.ProductNumber = Order_Details.ProductNumber\r\n",
                "left join Orders on Orders.OrderNumber = Order_Details.OrderNumber\r\n",
                "where MONTH(OrderDate) > 6 and YEAR(OrderDate) = 2017\r\n",
                "order by ProductName ASC"
            ],
            "metadata": {
                "language": "sql",
                "azdata_cell_guid": "46044795-a917-4b2f-8c66-25310599a5e3",
                "tags": []
            },
            "outputs": [
                {
                    "output_type": "display_data",
                    "data": {
                        "text/html": "(38 rows affected)"
                    },
                    "metadata": {}
                },
                {
                    "output_type": "display_data",
                    "data": {
                        "text/html": "Total execution time: 00:00:00.048"
                    },
                    "metadata": {}
                },
                {
                    "output_type": "execute_result",
                    "metadata": {},
                    "execution_count": 21,
                    "data": {
                        "application/vnd.dataresource+json": {
                            "schema": {
                                "fields": [
                                    {
                                        "name": "ProductNumber"
                                    },
                                    {
                                        "name": "ProductName"
                                    }
                                ]
                            },
                            "data": [
                                {
                                    "ProductNumber": "37",
                                    "ProductName": "AeroFlo ATB Wheels"
                                },
                                {
                                    "ProductNumber": "30",
                                    "ProductName": "Clear Shade 85-T Glasses"
                                },
                                {
                                    "ProductNumber": "36",
                                    "ProductName": "Cosmic Elite Road Warrior Wheels"
                                },
                                {
                                    "ProductNumber": "38",
                                    "ProductName": "Cycle-Doc Pro Repair Stand"
                                },
                                {
                                    "ProductNumber": "21",
                                    "ProductName": "Dog Ear Aero-Flow Floor Pump"
                                },
                                {
                                    "ProductNumber": "3",
                                    "ProductName": "Dog Ear Cyclecomputer"
                                },
                                {
                                    "ProductNumber": "5",
                                    "ProductName": "Dog Ear Helmet Mount Mirrors"
                                },
                                {
                                    "ProductNumber": "20",
                                    "ProductName": "Dog Ear Monster Grip Gloves"
                                },
                                {
                                    "ProductNumber": "2",
                                    "ProductName": "Eagle FS-3 Mountain Bike"
                                },
                                {
                                    "ProductNumber": "14",
                                    "ProductName": "Eagle SA-120 Clipless Pedals"
                                },
                                {
                                    "ProductNumber": "26",
                                    "ProductName": "Glide-O-Matic Cycling Helmet"
                                },
                                {
                                    "ProductNumber": "11",
                                    "ProductName": "GT RTS-2 Mountain Bike"
                                },
                                {
                                    "ProductNumber": "35",
                                    "ProductName": "HP Deluxe Panniers"
                                },
                                {
                                    "ProductNumber": "25",
                                    "ProductName": "King Cobra Helmet"
                                },
                                {
                                    "ProductNumber": "32",
                                    "ProductName": "Kool-Breeze Rocket Top Jersey"
                                },
                                {
                                    "ProductNumber": "8",
                                    "ProductName": "Kryptonite Advanced 2000 U-Lock"
                                },
                                {
                                    "ProductNumber": "9",
                                    "ProductName": "Nikoma Lok-Tight U-Lock"
                                },
                                {
                                    "ProductNumber": "16",
                                    "ProductName": "ProFormance ATB All-Terrain Pedal"
                                },
                                {
                                    "ProductNumber": "15",
                                    "ProductName": "ProFormance Toe-Klips 2G"
                                },
                                {
                                    "ProductNumber": "22",
                                    "ProductName": "Pro-Sport 'Dillo Shades"
                                },
                                {
                                    "ProductNumber": "39",
                                    "ProductName": "Road Warrior Hitch Pack"
                                },
                                {
                                    "ProductNumber": "12",
                                    "ProductName": "Shinoman 105 SC Brakes"
                                },
                                {
                                    "ProductNumber": "17",
                                    "ProductName": "Shinoman Deluxe TX-30 Pedal"
                                },
                                {
                                    "ProductNumber": "13",
                                    "ProductName": "Shinoman Dura-Ace Headset"
                                },
                                {
                                    "ProductNumber": "24",
                                    "ProductName": "StaDry Cycling Pants"
                                },
                                {
                                    "ProductNumber": "34",
                                    "ProductName": "TransPort Bicycle Rack"
                                },
                                {
                                    "ProductNumber": "1",
                                    "ProductName": "Trek 9000 Mountain Bike"
                                },
                                {
                                    "ProductNumber": "31",
                                    "ProductName": "True Grip Competition Gloves"
                                },
                                {
                                    "ProductNumber": "28",
                                    "ProductName": "Turbo Twin Tires"
                                },
                                {
                                    "ProductNumber": "40",
                                    "ProductName": "Ultimate Export 2G Car Rack"
                                },
                                {
                                    "ProductNumber": "29",
                                    "ProductName": "Ultra-2K Competition Tire"
                                },
                                {
                                    "ProductNumber": "7",
                                    "ProductName": "Viscount C-500 Wireless Bike Computer"
                                },
                                {
                                    "ProductNumber": "18",
                                    "ProductName": "Viscount CardioSport Sport Watch"
                                },
                                {
                                    "ProductNumber": "10",
                                    "ProductName": "Viscount Microshell Helmet"
                                },
                                {
                                    "ProductNumber": "6",
                                    "ProductName": "Viscount Mountain Bike"
                                },
                                {
                                    "ProductNumber": "19",
                                    "ProductName": "Viscount Tru-Beat Heart Transmitter"
                                },
                                {
                                    "ProductNumber": "33",
                                    "ProductName": "Wonder Wool Cycle Socks"
                                },
                                {
                                    "ProductNumber": "27",
                                    "ProductName": "X-Pro All Weather Tires"
                                }
                            ]
                        },
                        "text/html": [
                            "<table>",
                            "<tr><th>ProductNumber</th><th>ProductName</th></tr>",
                            "<tr><td>37</td><td>AeroFlo ATB Wheels</td></tr>",
                            "<tr><td>30</td><td>Clear Shade 85-T Glasses</td></tr>",
                            "<tr><td>36</td><td>Cosmic Elite Road Warrior Wheels</td></tr>",
                            "<tr><td>38</td><td>Cycle-Doc Pro Repair Stand</td></tr>",
                            "<tr><td>21</td><td>Dog Ear Aero-Flow Floor Pump</td></tr>",
                            "<tr><td>3</td><td>Dog Ear Cyclecomputer</td></tr>",
                            "<tr><td>5</td><td>Dog Ear Helmet Mount Mirrors</td></tr>",
                            "<tr><td>20</td><td>Dog Ear Monster Grip Gloves</td></tr>",
                            "<tr><td>2</td><td>Eagle FS-3 Mountain Bike</td></tr>",
                            "<tr><td>14</td><td>Eagle SA-120 Clipless Pedals</td></tr>",
                            "<tr><td>26</td><td>Glide-O-Matic Cycling Helmet</td></tr>",
                            "<tr><td>11</td><td>GT RTS-2 Mountain Bike</td></tr>",
                            "<tr><td>35</td><td>HP Deluxe Panniers</td></tr>",
                            "<tr><td>25</td><td>King Cobra Helmet</td></tr>",
                            "<tr><td>32</td><td>Kool-Breeze Rocket Top Jersey</td></tr>",
                            "<tr><td>8</td><td>Kryptonite Advanced 2000 U-Lock</td></tr>",
                            "<tr><td>9</td><td>Nikoma Lok-Tight U-Lock</td></tr>",
                            "<tr><td>16</td><td>ProFormance ATB All-Terrain Pedal</td></tr>",
                            "<tr><td>15</td><td>ProFormance Toe-Klips 2G</td></tr>",
                            "<tr><td>22</td><td>Pro-Sport &#39;Dillo Shades</td></tr>",
                            "<tr><td>39</td><td>Road Warrior Hitch Pack</td></tr>",
                            "<tr><td>12</td><td>Shinoman 105 SC Brakes</td></tr>",
                            "<tr><td>17</td><td>Shinoman Deluxe TX-30 Pedal</td></tr>",
                            "<tr><td>13</td><td>Shinoman Dura-Ace Headset</td></tr>",
                            "<tr><td>24</td><td>StaDry Cycling Pants</td></tr>",
                            "<tr><td>34</td><td>TransPort Bicycle Rack</td></tr>",
                            "<tr><td>1</td><td>Trek 9000 Mountain Bike</td></tr>",
                            "<tr><td>31</td><td>True Grip Competition Gloves</td></tr>",
                            "<tr><td>28</td><td>Turbo Twin Tires</td></tr>",
                            "<tr><td>40</td><td>Ultimate Export 2G Car Rack</td></tr>",
                            "<tr><td>29</td><td>Ultra-2K Competition Tire</td></tr>",
                            "<tr><td>7</td><td>Viscount C-500 Wireless Bike Computer</td></tr>",
                            "<tr><td>18</td><td>Viscount CardioSport Sport Watch</td></tr>",
                            "<tr><td>10</td><td>Viscount Microshell Helmet</td></tr>",
                            "<tr><td>6</td><td>Viscount Mountain Bike</td></tr>",
                            "<tr><td>19</td><td>Viscount Tru-Beat Heart Transmitter</td></tr>",
                            "<tr><td>33</td><td>Wonder Wool Cycle Socks</td></tr>",
                            "<tr><td>27</td><td>X-Pro All Weather Tires</td></tr>",
                            "</table>"
                        ]
                    }
                }
            ],
            "execution_count": 21
        },
        {
            "cell_type": "markdown",
            "source": [
                "Display the names of all customers and the number of orders they have placed that included a _mountain bike_ in 2018.  \n",
                "\n",
                "Sort the results so that the customers placing the most orders for mountain bikes appear first.  (28 customers, with _Dean McCrae_ and _Luke Patterson_ both having placed **14** orders for mountain bikes, and 5 customers having **0** orders, including _Angel Kennedy_ and _Jeffrey Tirekicker)._"
            ],
            "metadata": {
                "language": "sql",
                "azdata_cell_guid": "8d657229-d382-4fd9-9143-3e6fa28637b3"
            },
            "attachments": {}
        },
        {
            "cell_type": "code",
            "source": [
                "use SalesOrdersExample;"
            ],
            "metadata": {
                "language": "sql",
                "azdata_cell_guid": "4c53e17c-6d2b-4a93-8a80-2746d989d51f"
            },
            "outputs": [],
            "execution_count": null
        }
    ]
}