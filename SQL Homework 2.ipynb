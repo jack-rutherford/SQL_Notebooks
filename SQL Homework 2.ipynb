{
    "metadata": {
        "kernelspec": {
            "name": "SQL",
            "display_name": "SQL",
            "language": "sql"
        },
        "language_info": {
            "name": "sql",
            "version": ""
        }
    },
    "nbformat_minor": 2,
    "nbformat": 4,
    "cells": [
        {
            "cell_type": "markdown",
            "source": [
                "**Q1.** Write a `CREATE TABLE` statement in the cell below that creates a table named `MonthNames` containing two columns:\r\n",
                "\r\n",
                "*  `MonthNumber`, a non-null integer\r\n",
                "*  `MonthName`, a variable length character value whose length is at most **12** characters\r\n",
                "\r\n",
                "Do not include a schema name for the `MonthNames` table.  This means it will be created in the `dbo` schema.  Objects in the `dbo` schema do not need to be preferenced with a schema name, as they are the default"
            ],
            "metadata": {
                "language": "sql",
                "azdata_cell_guid": "3901d1fd-54d2-4a23-a4f3-679fb25de932"
            },
            "attachments": {}
        },
        {
            "cell_type": "code",
            "source": [
                "use [jack.rutherford];\r\n",
                "CREATE TABLE MonthNames(\r\n",
                "    MonthNumber INT NOT NULL,\r\n",
                "    MonthName   CHAR(12)\r\n",
                ");"
            ],
            "metadata": {
                "language": "sql",
                "azdata_cell_guid": "5335f8c5-e6a0-4bb2-8e1c-c9350f7304ea"
            },
            "outputs": [
                {
                    "output_type": "error",
                    "evalue": "Msg 2714, Level 16, State 6, Line 2\r\nThere is already an object named 'MonthNames' in the database.",
                    "ename": "",
                    "traceback": []
                },
                {
                    "output_type": "display_data",
                    "data": {
                        "text/html": "Total execution time: 00:00:00.020"
                    },
                    "metadata": {}
                }
            ],
            "execution_count": 6
        },
        {
            "cell_type": "markdown",
            "source": [
                "**Q2.** Write a **single** `INSERT` statement in the cell below which inserts 12 rows into the `MonthNames` table, one for each month, with:\n",
                "\n",
                "- 1 =\\> January\n",
                "- 2 =\\> February\n",
                "- ...\n",
                "- 12 =\\> December"
            ],
            "metadata": {
                "language": "sql",
                "azdata_cell_guid": "303c5d76-3932-422d-838f-6053d486132a"
            },
            "attachments": {}
        },
        {
            "cell_type": "code",
            "source": [
                "use [jack.rutherford];\r\n",
                "INSERT INTO MonthNames (MonthNumber, MonthName)\r\n",
                "VALUES\r\n",
                "    (1, 'January'),\r\n",
                "    (2, 'February'),\r\n",
                "    (3, 'March'),\r\n",
                "    (4, 'April'),\r\n",
                "    (5, 'May'),\r\n",
                "    (6, 'June'),\r\n",
                "    (7, 'July'),\r\n",
                "    (8, 'August'),\r\n",
                "    (9, 'September'),\r\n",
                "    (10, 'October'),\r\n",
                "    (11, 'November'),\r\n",
                "    (12, 'December');"
            ],
            "metadata": {
                "language": "sql",
                "azdata_cell_guid": "3acca572-afcd-443e-b69b-bae6cf4004a0",
                "tags": []
            },
            "outputs": [],
            "execution_count": null
        },
        {
            "cell_type": "code",
            "source": [
                "SELECT * from MonthNames"
            ],
            "metadata": {
                "language": "sql",
                "azdata_cell_guid": "dc78283d-47cb-4b2b-b571-8bc64db79941"
            },
            "outputs": [
                {
                    "output_type": "display_data",
                    "data": {
                        "text/html": "(12 rows affected)"
                    },
                    "metadata": {}
                },
                {
                    "output_type": "display_data",
                    "data": {
                        "text/html": "Total execution time: 00:00:00.174"
                    },
                    "metadata": {}
                },
                {
                    "output_type": "execute_result",
                    "metadata": {},
                    "execution_count": 7,
                    "data": {
                        "application/vnd.dataresource+json": {
                            "schema": {
                                "fields": [
                                    {
                                        "name": "MonthNumber"
                                    },
                                    {
                                        "name": "MonthName"
                                    }
                                ]
                            },
                            "data": [
                                {
                                    "MonthNumber": "1",
                                    "MonthName": "January     "
                                },
                                {
                                    "MonthNumber": "2",
                                    "MonthName": "February    "
                                },
                                {
                                    "MonthNumber": "3",
                                    "MonthName": "March       "
                                },
                                {
                                    "MonthNumber": "4",
                                    "MonthName": "April       "
                                },
                                {
                                    "MonthNumber": "5",
                                    "MonthName": "May         "
                                },
                                {
                                    "MonthNumber": "6",
                                    "MonthName": "June        "
                                },
                                {
                                    "MonthNumber": "7",
                                    "MonthName": "July        "
                                },
                                {
                                    "MonthNumber": "8",
                                    "MonthName": "August      "
                                },
                                {
                                    "MonthNumber": "9",
                                    "MonthName": "September   "
                                },
                                {
                                    "MonthNumber": "10",
                                    "MonthName": "October     "
                                },
                                {
                                    "MonthNumber": "11",
                                    "MonthName": "November    "
                                },
                                {
                                    "MonthNumber": "12",
                                    "MonthName": "December    "
                                }
                            ]
                        },
                        "text/html": [
                            "<table>",
                            "<tr><th>MonthNumber</th><th>MonthName</th></tr>",
                            "<tr><td>1</td><td>January     </td></tr>",
                            "<tr><td>2</td><td>February    </td></tr>",
                            "<tr><td>3</td><td>March       </td></tr>",
                            "<tr><td>4</td><td>April       </td></tr>",
                            "<tr><td>5</td><td>May         </td></tr>",
                            "<tr><td>6</td><td>June        </td></tr>",
                            "<tr><td>7</td><td>July        </td></tr>",
                            "<tr><td>8</td><td>August      </td></tr>",
                            "<tr><td>9</td><td>September   </td></tr>",
                            "<tr><td>10</td><td>October     </td></tr>",
                            "<tr><td>11</td><td>November    </td></tr>",
                            "<tr><td>12</td><td>December    </td></tr>",
                            "</table>"
                        ]
                    }
                }
            ],
            "execution_count": 7
        },
        {
            "cell_type": "markdown",
            "source": [
                "As we have seen in the past, Azure Data Studio does not consistently detect new tables until after a restart.  \n",
                "\n",
                "Restart ADS before moving on."
            ],
            "metadata": {
                "language": "sql",
                "azdata_cell_guid": "2b663d73-12e5-471b-9f62-6a50cc7d6566"
            },
            "attachments": {}
        },
        {
            "cell_type": "markdown",
            "source": [
                "**Q3.** Display a count of the number of movies made for each value of `PrimaryGenre` since the year 2000 (including 2000) for which both:\n",
                "\n",
                "- at least 1000 movies that have an IMDB rating were made\n",
                "- <span style=\"color: var(--vscode-foreground);\">the average IMDB rating of the movies in that genre was at least 6</span>\n",
                "\n",
                "Include the average of the IMDB ratings for the movies within a genre, and only show it to 2 decimal places.  Show the genre with the \\*\\*highest\\*\\* average IMDB rating first.\n",
                "\n",
                "There are **6** rows. The results should look like this:\n",
                "\n",
                "| Genre | Number of movies | Average IMDB Rating |\n",
                "| --- | --- | --- |\n",
                "| Documentary | 11532 | 7.24 |\n",
                "| Biography | 2790 | 7.11 |\n",
                "| ... | ... | ... |\n",
                "| Crime | 2817 | 6.01 |"
            ],
            "metadata": {
                "language": "sql",
                "azdata_cell_guid": "66872012-fe58-40d0-befd-fd7ec8d45ead"
            },
            "attachments": {}
        },
        {
            "cell_type": "code",
            "source": [
                "USE [jack.rutherford];\r\n",
                "SELECT PrimaryGenre AS Genre,\r\n",
                "       COUNT(TitleID) AS [Number of Movies],\r\n",
                "       ROUND(AVG(IMDBRating), 2) AS [Average IMDB Rating]\r\n",
                "FROM imdb.Movies\r\n",
                "WHERE YearReleased >= 2000\r\n",
                "GROUP BY PrimaryGenre\r\n",
                "HAVING COUNT(IMDBRating) >= 1000 AND AVG(IMDBRating) >= 6\r\n",
                "ORDER BY [Average IMDB Rating] DESC;"
            ],
            "metadata": {
                "language": "sql",
                "azdata_cell_guid": "1873807d-eee3-4742-b840-dff17321fc06"
            },
            "outputs": [],
            "execution_count": null
        },
        {
            "cell_type": "markdown",
            "source": [
                "**Q4.** For the year 2020 only, show the shortest, longest, and number of movies by primary genre.  For this one, be sure to include all genres, even if no movies were made in that year.  Do not include any movies that don't have a value for the `RunningTimeInMinutes` column.\r\n",
                "\r\n",
                "Order the result by genre so that they look like this:\r\n",
                "\r\n",
                "| Genre | Shortest | Longest | Number of movies |\r\n",
                "| --- | --- | --- | --- |\r\n",
                "| Action | 45 | 200 | 404 |\r\n",
                "| Adult | NULL | NULL | 0\r\n",
                "| ... | ... | ... |\r\n",
                "| Western | 70 | 140 | 14 |"
            ],
            "metadata": {
                "language": "sql",
                "azdata_cell_guid": "3e585f9b-dac2-4197-a56e-bed08b6f0508"
            },
            "attachments": {}
        },
        {
            "cell_type": "code",
            "source": [
                "use [jack.rutherford];\r\n",
                "\r\n",
                "WITH AllGenres AS (\r\n",
                "    SELECT DISTINCT PrimaryGenre\r\n",
                "    FROM imdb.Movies\r\n",
                "    WHERE PrimaryGenre IS NOT NULL\r\n",
                ")\r\n",
                "SELECT AllGenres.PrimaryGenre,\r\n",
                "       MIN(M.RunningTimeInMinutes) as Shortest,\r\n",
                "       MAX(M.RunningTimeInMinutes) as Longest,\r\n",
                "       COUNT(M.TitleID) as [Number of Movies]\r\n",
                "FROM AllGenres\r\n",
                "LEFT JOIN imdb.Movies AS M ON AllGenres.PrimaryGenre = M.PrimaryGenre \r\n",
                "    AND M.YearReleased = 2020 \r\n",
                "    AND M.RunningTimeInMinutes IS NOT NULL\r\n",
                "GROUP BY AllGenres.PrimaryGenre\r\n",
                "ORDER BY AllGenres.PrimaryGenre ASC"
            ],
            "metadata": {
                "language": "sql",
                "azdata_cell_guid": "d370b7a2-b721-49c0-a8a4-817b9164672a"
            },
            "outputs": [
                {
                    "output_type": "display_data",
                    "data": {
                        "text/html": "(26 rows affected)"
                    },
                    "metadata": {}
                },
                {
                    "output_type": "display_data",
                    "data": {
                        "text/html": "Total execution time: 00:00:00.150"
                    },
                    "metadata": {}
                },
                {
                    "output_type": "execute_result",
                    "metadata": {},
                    "execution_count": 8,
                    "data": {
                        "application/vnd.dataresource+json": {
                            "schema": {
                                "fields": [
                                    {
                                        "name": "PrimaryGenre"
                                    },
                                    {
                                        "name": "Shortest"
                                    },
                                    {
                                        "name": "Longest"
                                    },
                                    {
                                        "name": "Number of Movies"
                                    }
                                ]
                            },
                            "data": [
                                {
                                    "PrimaryGenre": "Action",
                                    "Shortest": "45",
                                    "Longest": "200",
                                    "Number of Movies": "404"
                                },
                                {
                                    "PrimaryGenre": "Adult",
                                    "Shortest": "NULL",
                                    "Longest": "NULL",
                                    "Number of Movies": "0"
                                },
                                {
                                    "PrimaryGenre": "Adventure",
                                    "Shortest": "45",
                                    "Longest": "154",
                                    "Number of Movies": "158"
                                },
                                {
                                    "PrimaryGenre": "Animation",
                                    "Shortest": "45",
                                    "Longest": "382",
                                    "Number of Movies": "117"
                                },
                                {
                                    "PrimaryGenre": "Biography",
                                    "Shortest": "40",
                                    "Longest": "160",
                                    "Number of Movies": "126"
                                },
                                {
                                    "PrimaryGenre": "Comedy",
                                    "Shortest": "45",
                                    "Longest": "354",
                                    "Number of Movies": "773"
                                },
                                {
                                    "PrimaryGenre": "Crime",
                                    "Shortest": "45",
                                    "Longest": "242",
                                    "Number of Movies": "156"
                                },
                                {
                                    "PrimaryGenre": "Documentary",
                                    "Shortest": "28",
                                    "Longest": "669",
                                    "Number of Movies": "1252"
                                },
                                {
                                    "PrimaryGenre": "Drama",
                                    "Shortest": "30",
                                    "Longest": "1325",
                                    "Number of Movies": "1131"
                                },
                                {
                                    "PrimaryGenre": "Family",
                                    "Shortest": "46",
                                    "Longest": "141",
                                    "Number of Movies": "62"
                                },
                                {
                                    "PrimaryGenre": "Fantasy",
                                    "Shortest": "45",
                                    "Longest": "165",
                                    "Number of Movies": "47"
                                },
                                {
                                    "PrimaryGenre": "Game-Show",
                                    "Shortest": "55",
                                    "Longest": "55",
                                    "Number of Movies": "1"
                                },
                                {
                                    "PrimaryGenre": "History",
                                    "Shortest": "50",
                                    "Longest": "137",
                                    "Number of Movies": "10"
                                },
                                {
                                    "PrimaryGenre": "Horror",
                                    "Shortest": "42",
                                    "Longest": "171",
                                    "Number of Movies": "415"
                                },
                                {
                                    "PrimaryGenre": "Music",
                                    "Shortest": "50",
                                    "Longest": "278",
                                    "Number of Movies": "37"
                                },
                                {
                                    "PrimaryGenre": "Musical",
                                    "Shortest": "70",
                                    "Longest": "170",
                                    "Number of Movies": "22"
                                },
                                {
                                    "PrimaryGenre": "Mystery",
                                    "Shortest": "45",
                                    "Longest": "273",
                                    "Number of Movies": "34"
                                },
                                {
                                    "PrimaryGenre": "News",
                                    "Shortest": "87",
                                    "Longest": "120",
                                    "Number of Movies": "2"
                                },
                                {
                                    "PrimaryGenre": "Reality-TV",
                                    "Shortest": "92",
                                    "Longest": "120",
                                    "Number of Movies": "4"
                                },
                                {
                                    "PrimaryGenre": "Romance",
                                    "Shortest": "60",
                                    "Longest": "154",
                                    "Number of Movies": "47"
                                },
                                {
                                    "PrimaryGenre": "Sci-Fi",
                                    "Shortest": "15",
                                    "Longest": "435",
                                    "Number of Movies": "52"
                                },
                                {
                                    "PrimaryGenre": "Sport",
                                    "Shortest": "58",
                                    "Longest": "180",
                                    "Number of Movies": "10"
                                },
                                {
                                    "PrimaryGenre": "Talk-Show",
                                    "Shortest": "46",
                                    "Longest": "120",
                                    "Number of Movies": "7"
                                },
                                {
                                    "PrimaryGenre": "Thriller",
                                    "Shortest": "45",
                                    "Longest": "144",
                                    "Number of Movies": "170"
                                },
                                {
                                    "PrimaryGenre": "War",
                                    "Shortest": "46",
                                    "Longest": "110",
                                    "Number of Movies": "20"
                                },
                                {
                                    "PrimaryGenre": "Western",
                                    "Shortest": "70",
                                    "Longest": "140",
                                    "Number of Movies": "14"
                                }
                            ]
                        },
                        "text/html": [
                            "<table>",
                            "<tr><th>PrimaryGenre</th><th>Shortest</th><th>Longest</th><th>Number of Movies</th></tr>",
                            "<tr><td>Action</td><td>45</td><td>200</td><td>404</td></tr>",
                            "<tr><td>Adult</td><td>NULL</td><td>NULL</td><td>0</td></tr>",
                            "<tr><td>Adventure</td><td>45</td><td>154</td><td>158</td></tr>",
                            "<tr><td>Animation</td><td>45</td><td>382</td><td>117</td></tr>",
                            "<tr><td>Biography</td><td>40</td><td>160</td><td>126</td></tr>",
                            "<tr><td>Comedy</td><td>45</td><td>354</td><td>773</td></tr>",
                            "<tr><td>Crime</td><td>45</td><td>242</td><td>156</td></tr>",
                            "<tr><td>Documentary</td><td>28</td><td>669</td><td>1252</td></tr>",
                            "<tr><td>Drama</td><td>30</td><td>1325</td><td>1131</td></tr>",
                            "<tr><td>Family</td><td>46</td><td>141</td><td>62</td></tr>",
                            "<tr><td>Fantasy</td><td>45</td><td>165</td><td>47</td></tr>",
                            "<tr><td>Game-Show</td><td>55</td><td>55</td><td>1</td></tr>",
                            "<tr><td>History</td><td>50</td><td>137</td><td>10</td></tr>",
                            "<tr><td>Horror</td><td>42</td><td>171</td><td>415</td></tr>",
                            "<tr><td>Music</td><td>50</td><td>278</td><td>37</td></tr>",
                            "<tr><td>Musical</td><td>70</td><td>170</td><td>22</td></tr>",
                            "<tr><td>Mystery</td><td>45</td><td>273</td><td>34</td></tr>",
                            "<tr><td>News</td><td>87</td><td>120</td><td>2</td></tr>",
                            "<tr><td>Reality-TV</td><td>92</td><td>120</td><td>4</td></tr>",
                            "<tr><td>Romance</td><td>60</td><td>154</td><td>47</td></tr>",
                            "<tr><td>Sci-Fi</td><td>15</td><td>435</td><td>52</td></tr>",
                            "<tr><td>Sport</td><td>58</td><td>180</td><td>10</td></tr>",
                            "<tr><td>Talk-Show</td><td>46</td><td>120</td><td>7</td></tr>",
                            "<tr><td>Thriller</td><td>45</td><td>144</td><td>170</td></tr>",
                            "<tr><td>War</td><td>46</td><td>110</td><td>20</td></tr>",
                            "<tr><td>Western</td><td>70</td><td>140</td><td>14</td></tr>",
                            "</table>"
                        ]
                    }
                }
            ],
            "execution_count": 8
        },
        {
            "cell_type": "markdown",
            "source": [
                "**Q5**.  Create a query that displays a table similar to this one\n",
                "\n",
                "| Month | Year | Number of orders |\n",
                "| --- | --- | --- |\n",
                "| September | 2017 | 159 |\n",
                "| October | 2017 | 143 |\n",
                "| ... | ... | .. |\n",
                "| January | 2018 | 179 |\n",
                "| ... | ... | ... |\n",
                "| March | 2018 | 9 |\n",
                "\n",
                "The contents of the `Number of orders` column are the **number of orders placed** during the given month and year.  The results are sorted first by year, and then by month.  Be careful to sort the months in **chronological** rather than **alphabetical** order.\n",
                "\n",
                "You can use the `month` and `year` functions to help you get the month and year associated with a date. You will want to use the `MonthNames` table you created earlier in your query. Since that table is in a different database, you will have to explicitly reference the database that it's in, like this:\n",
                "\n",
                "```\n",
                "select * \n",
                "from [stu.dent].dbo.MonthNames\n",
                "\n",
                "```"
            ],
            "metadata": {
                "language": "sql",
                "azdata_cell_guid": "2ded4882-430f-4be2-9db4-b480b13da345"
            },
            "attachments": {}
        },
        {
            "cell_type": "code",
            "source": [
                "use [SalesOrdersExample];\r\n",
                "SELECT MonthNames.MonthName as [Month],\r\n",
                "       YEAR(OrderDate) as [Year],\r\n",
                "       COUNT(OrderNumber) as [Number of orders]\r\n",
                "FROM Orders\r\n",
                "JOIN [jack.rutherford].dbo.MonthNames ON MonthNames.MonthNumber = cast(format(OrderDate,'MM') as int)\r\n",
                "GROUP BY MonthName, MONTH(OrderDate), YEAR(OrderDate)\r\n",
                "ORDER BY [Year], MONTH(OrderDate)"
            ],
            "metadata": {
                "language": "sql",
                "azdata_cell_guid": "a759bea0-ebf6-4858-a66e-ed9a438ec85d",
                "tags": []
            },
            "outputs": [
                {
                    "output_type": "display_data",
                    "data": {
                        "text/html": "(7 rows affected)"
                    },
                    "metadata": {}
                },
                {
                    "output_type": "display_data",
                    "data": {
                        "text/html": "Total execution time: 00:00:00.048"
                    },
                    "metadata": {}
                },
                {
                    "output_type": "execute_result",
                    "metadata": {},
                    "execution_count": 5,
                    "data": {
                        "application/vnd.dataresource+json": {
                            "schema": {
                                "fields": [
                                    {
                                        "name": "Month"
                                    },
                                    {
                                        "name": "Year"
                                    },
                                    {
                                        "name": "Number of orders"
                                    }
                                ]
                            },
                            "data": [
                                {
                                    "Month": "September   ",
                                    "Year": "2017",
                                    "Number of orders": "159"
                                },
                                {
                                    "Month": "October     ",
                                    "Year": "2017",
                                    "Number of orders": "143"
                                },
                                {
                                    "Month": "November    ",
                                    "Year": "2017",
                                    "Number of orders": "147"
                                },
                                {
                                    "Month": "December    ",
                                    "Year": "2017",
                                    "Number of orders": "145"
                                },
                                {
                                    "Month": "January     ",
                                    "Year": "2018",
                                    "Number of orders": "179"
                                },
                                {
                                    "Month": "February    ",
                                    "Year": "2018",
                                    "Number of orders": "162"
                                },
                                {
                                    "Month": "March       ",
                                    "Year": "2018",
                                    "Number of orders": "9"
                                }
                            ]
                        },
                        "text/html": [
                            "<table>",
                            "<tr><th>Month</th><th>Year</th><th>Number of orders</th></tr>",
                            "<tr><td>September   </td><td>2017</td><td>159</td></tr>",
                            "<tr><td>October     </td><td>2017</td><td>143</td></tr>",
                            "<tr><td>November    </td><td>2017</td><td>147</td></tr>",
                            "<tr><td>December    </td><td>2017</td><td>145</td></tr>",
                            "<tr><td>January     </td><td>2018</td><td>179</td></tr>",
                            "<tr><td>February    </td><td>2018</td><td>162</td></tr>",
                            "<tr><td>March       </td><td>2018</td><td>9</td></tr>",
                            "</table>"
                        ]
                    }
                }
            ],
            "execution_count": 5
        },
        {
            "cell_type": "markdown",
            "source": [
                "**Q6.** Repeat the previous question, except include a running total of the number of orders made in that year, like this:\n",
                "\n",
                "| Month | Year | Monthly Orders | Yearly Orders to Date |\n",
                "| --- | --- | --- | --- |\n",
                "| September | 2017 | 159 | 159 |\n",
                "| October | 2017 | 143 | 302 |\n",
                "| November | 2017 | 147 | 449 |\n",
                "| December | 2017 | 145 | 594 |\n",
                "| January | 2018 | 179 | 179 |\n",
                "| February | 2018 | 162 | 341 |\n",
                "| March | 2018 | 9 | 350 |"
            ],
            "metadata": {
                "language": "sql",
                "azdata_cell_guid": "ba187c6c-a136-4f6b-a280-f558dc86bb1a"
            },
            "attachments": {}
        },
        {
            "cell_type": "code",
            "source": [
                "use [SalesOrdersExample];\r\n",
                "SELECT\r\n",
                "    MonthNames.MonthName AS [Month],\r\n",
                "    YEAR(OrderDate) AS [Year],\r\n",
                "    COUNT(OrderNumber) AS [Number of orders],\r\n",
                "    ROW_NUMBER() OVER (PARTITION BY YEAR(OrderDate) ORDER BY MONTH(OrderDate)) AS [Running Total]\r\n",
                "  FROM Orders\r\n",
                "  JOIN [jack.rutherford].dbo.MonthNames ON MonthNames.MonthNumber = CAST(FORMAT(OrderDate, 'MM') AS INT)\r\n",
                "  GROUP BY MonthName, MONTH(OrderDate), YEAR(OrderDate)"
            ],
            "metadata": {
                "language": "sql",
                "azdata_cell_guid": "b2e39e71-fd99-4b19-91ff-b54725e9df9a"
            },
            "outputs": [
                {
                    "output_type": "display_data",
                    "data": {
                        "text/html": "(7 rows affected)"
                    },
                    "metadata": {}
                },
                {
                    "output_type": "display_data",
                    "data": {
                        "text/html": "Total execution time: 00:00:00.045"
                    },
                    "metadata": {}
                },
                {
                    "output_type": "execute_result",
                    "metadata": {},
                    "execution_count": 4,
                    "data": {
                        "application/vnd.dataresource+json": {
                            "schema": {
                                "fields": [
                                    {
                                        "name": "Month"
                                    },
                                    {
                                        "name": "Year"
                                    },
                                    {
                                        "name": "Number of orders"
                                    },
                                    {
                                        "name": "Running Total"
                                    }
                                ]
                            },
                            "data": [
                                {
                                    "Month": "September   ",
                                    "Year": "2017",
                                    "Number of orders": "159",
                                    "Running Total": "1"
                                },
                                {
                                    "Month": "October     ",
                                    "Year": "2017",
                                    "Number of orders": "143",
                                    "Running Total": "2"
                                },
                                {
                                    "Month": "November    ",
                                    "Year": "2017",
                                    "Number of orders": "147",
                                    "Running Total": "3"
                                },
                                {
                                    "Month": "December    ",
                                    "Year": "2017",
                                    "Number of orders": "145",
                                    "Running Total": "4"
                                },
                                {
                                    "Month": "January     ",
                                    "Year": "2018",
                                    "Number of orders": "179",
                                    "Running Total": "1"
                                },
                                {
                                    "Month": "February    ",
                                    "Year": "2018",
                                    "Number of orders": "162",
                                    "Running Total": "2"
                                },
                                {
                                    "Month": "March       ",
                                    "Year": "2018",
                                    "Number of orders": "9",
                                    "Running Total": "3"
                                }
                            ]
                        },
                        "text/html": [
                            "<table>",
                            "<tr><th>Month</th><th>Year</th><th>Number of orders</th><th>Running Total</th></tr>",
                            "<tr><td>September   </td><td>2017</td><td>159</td><td>1</td></tr>",
                            "<tr><td>October     </td><td>2017</td><td>143</td><td>2</td></tr>",
                            "<tr><td>November    </td><td>2017</td><td>147</td><td>3</td></tr>",
                            "<tr><td>December    </td><td>2017</td><td>145</td><td>4</td></tr>",
                            "<tr><td>January     </td><td>2018</td><td>179</td><td>1</td></tr>",
                            "<tr><td>February    </td><td>2018</td><td>162</td><td>2</td></tr>",
                            "<tr><td>March       </td><td>2018</td><td>9</td><td>3</td></tr>",
                            "</table>"
                        ]
                    }
                }
            ],
            "execution_count": 4
        },
        {
            "cell_type": "code",
            "source": [
                "use [SalesOrdersExample];\r\n",
                "WITH MonthlyOrderCounts AS (\r\n",
                "  SELECT\r\n",
                "    MonthNames.MonthName AS [Month],\r\n",
                "    YEAR(OrderDate) AS [Year],\r\n",
                "    COUNT(OrderNumber) AS [Number of orders],\r\n",
                "    ROW_NUMBER() OVER (PARTITION BY YEAR(OrderDate) ORDER BY MONTH(OrderDate)) AS RowNum\r\n",
                "  FROM Orders\r\n",
                "  JOIN [jack.rutherford].dbo.MonthNames ON MonthNames.MonthNumber = CAST(FORMAT(OrderDate, 'MM') AS INT)\r\n",
                "  GROUP BY MonthName, MONTH(OrderDate), YEAR(OrderDate)\r\n",
                ")\r\n",
                "\r\n",
                "SELECT\r\n",
                "  [Month],\r\n",
                "  [Year],\r\n",
                "  [Number of orders] as [Monthly Orders],\r\n",
                "  SUM([Number of orders]) OVER (PARTITION BY [Year] ORDER BY RowNum) AS [Running Total]\r\n",
                "FROM MonthlyOrderCounts\r\n",
                "ORDER BY [Year], RowNum"
            ],
            "metadata": {
                "language": "sql",
                "azdata_cell_guid": "3c8c1983-45bb-4ca5-8ed5-639917b2f843",
                "tags": []
            },
            "outputs": [
                {
                    "output_type": "display_data",
                    "data": {
                        "text/html": "(7 rows affected)"
                    },
                    "metadata": {}
                },
                {
                    "output_type": "display_data",
                    "data": {
                        "text/html": "Total execution time: 00:00:01.012"
                    },
                    "metadata": {}
                },
                {
                    "output_type": "execute_result",
                    "metadata": {},
                    "execution_count": 1,
                    "data": {
                        "application/vnd.dataresource+json": {
                            "schema": {
                                "fields": [
                                    {
                                        "name": "Month"
                                    },
                                    {
                                        "name": "Year"
                                    },
                                    {
                                        "name": "Monthly Orders"
                                    },
                                    {
                                        "name": "Running Total"
                                    }
                                ]
                            },
                            "data": [
                                {
                                    "Month": "September   ",
                                    "Year": "2017",
                                    "Monthly Orders": "159",
                                    "Running Total": "159"
                                },
                                {
                                    "Month": "October     ",
                                    "Year": "2017",
                                    "Monthly Orders": "143",
                                    "Running Total": "302"
                                },
                                {
                                    "Month": "November    ",
                                    "Year": "2017",
                                    "Monthly Orders": "147",
                                    "Running Total": "449"
                                },
                                {
                                    "Month": "December    ",
                                    "Year": "2017",
                                    "Monthly Orders": "145",
                                    "Running Total": "594"
                                },
                                {
                                    "Month": "January     ",
                                    "Year": "2018",
                                    "Monthly Orders": "179",
                                    "Running Total": "179"
                                },
                                {
                                    "Month": "February    ",
                                    "Year": "2018",
                                    "Monthly Orders": "162",
                                    "Running Total": "341"
                                },
                                {
                                    "Month": "March       ",
                                    "Year": "2018",
                                    "Monthly Orders": "9",
                                    "Running Total": "350"
                                }
                            ]
                        },
                        "text/html": [
                            "<table>",
                            "<tr><th>Month</th><th>Year</th><th>Monthly Orders</th><th>Running Total</th></tr>",
                            "<tr><td>September   </td><td>2017</td><td>159</td><td>159</td></tr>",
                            "<tr><td>October     </td><td>2017</td><td>143</td><td>302</td></tr>",
                            "<tr><td>November    </td><td>2017</td><td>147</td><td>449</td></tr>",
                            "<tr><td>December    </td><td>2017</td><td>145</td><td>594</td></tr>",
                            "<tr><td>January     </td><td>2018</td><td>179</td><td>179</td></tr>",
                            "<tr><td>February    </td><td>2018</td><td>162</td><td>341</td></tr>",
                            "<tr><td>March       </td><td>2018</td><td>9</td><td>350</td></tr>",
                            "</table>"
                        ]
                    }
                }
            ],
            "execution_count": 1
        },
        {
            "cell_type": "markdown",
            "source": [
                "**Q7****.** <span style=\"color: var(--vscode-foreground);\"> In the </span> `BowlingLeagueExample` <span style=\"color: var(--vscode-foreground);\"> database, show the following per match values for each team:</span>\n",
                "\n",
                "- minimum team raw score\n",
                "- minimum team handicap score\n",
                "- average team raw score\n",
                "- average team handicap score\n",
                "- maximum team raw score\n",
                "- maximum team handicap score\n",
                "\n",
                "for any team whose **maximum team handicap score** was larger than its **average team handicap score** by at least 100 pins.  **Team raw score** is the total value of the `RawScore` values in the `Bowler_Scores` table per (`TeamID`, `MatchID`) combination. **Team handicap score** is computed similarly.\n",
                "\n",
                "Order the results in descending order by the average team handicap score.\n",
                "\n",
                "(3 rows, the first should be for the _Manatees_ with an average team handicap score of 2354)"
            ],
            "metadata": {
                "language": "sql",
                "azdata_cell_guid": "8ff5572e-02be-4e65-a438-cb8b5813fb99"
            },
            "attachments": {}
        },
        {
            "cell_type": "code",
            "source": [
                "use [BowlingLeagueExample];\r\n",
                "WITH bowlingScores AS(\r\n",
                "    SELECT MatchID, TeamName, SUM(HandiCapScore) [Team HandicapScore], SUM(RawScore) [Team Raw Score] FROM Bowler_Scores\r\n",
                "    JOIN Bowlers on Bowler_Scores.BowlerID = Bowlers.BowlerID\r\n",
                "    JOIN Teams on Bowlers.TeamID = Teams.TeamID\r\n",
                "    GROUP BY TeamName, MatchID\r\n",
                ")\r\n",
                "SELECT TeamName,\r\n",
                "    MIN([Team Raw Score]) [Min Team Raw Score],\r\n",
                "    MIN([Team HandicapScore]) [Min Team HandicapScore],\r\n",
                "    AVG([Team Raw Score]) [Avg Team Raw Score],\r\n",
                "    AVG([Team HandicapScore]) [Avg Team HandicapScore],\r\n",
                "    MAX([Team Raw Score]) [Max Team Raw Score],\r\n",
                "    MAX([Team HandicapScore]) [Max Team HandicapScore]\r\n",
                "FROM bowlingScores\r\n",
                "GROUP BY TeamName\r\n",
                "HAVING MAX([Team HandicapScore]) - AVG([Team HandicapScore]) >= 100"
            ],
            "metadata": {
                "language": "sql",
                "azdata_cell_guid": "5c4bd3f6-bb85-4705-a44e-8b966eea1967"
            },
            "outputs": [],
            "execution_count": null
        },
        {
            "cell_type": "markdown",
            "source": [
                "**Q8**. Find recipes that don't contain any ingredients classified as _meat_, but do contain 2 or more _spice_ ingredients.  Ingredient classifications like _meat_ and _spice_ can be found in the `Ingredient_Classes` table.  You will also need to use the `Recipes`, `Ingredients`, and `Recipe_Ingredients` tables in your answer.\n",
                "\n",
                "Display the _recipe title_, _recipe class description_, and the _total number of ingredients_ for each recipe. \n",
                "\n",
                "(4 rows)"
            ],
            "metadata": {
                "language": "sql",
                "azdata_cell_guid": "f96c1315-9ca1-4c49-ba96-63c8fa750499"
            },
            "attachments": {}
        },
        {
            "cell_type": "code",
            "source": [
                "use [RecipesExample];\r\n",
                "SELECT R.RecipeTitle, RC.RecipeClassDescription, COUNT(I.IngredientID) as [Total Ingredients]\r\n",
                "FROM Recipes AS R\r\n",
                "JOIN Recipe_Ingredients AS RI ON RI.RecipeID = R.RecipeID\r\n",
                "JOIN Ingredients AS I ON I.IngredientID = RI.IngredientID\r\n",
                "JOIN Recipe_Classes AS RC ON RC.RecipeClassID = R.RecipeClassID\r\n",
                "LEFT JOIN (\r\n",
                "    SELECT RI.RecipeID, SUM(CASE WHEN IC.IngredientClassDescription = 'meat' THEN 1 ELSE 0 END) as MeatCount,\r\n",
                "                               SUM(CASE WHEN IC.IngredientClassDescription = 'spice' THEN 1 ELSE 0 END) as SpiceCount\r\n",
                "    FROM Recipe_Ingredients AS RI\r\n",
                "    JOIN Ingredients AS I ON I.IngredientID = RI.IngredientID\r\n",
                "    JOIN Ingredient_Classes AS IC ON IC.IngredientClassID = I.IngredientClassID\r\n",
                "    GROUP BY RI.RecipeID\r\n",
                ") as Counts ON R.RecipeID = Counts.RecipeID\r\n",
                "WHERE Counts.MeatCount = 0 AND Counts.SpiceCount >= 2\r\n",
                "GROUP BY R.RecipeTitle, RC.RecipeClassDescription;\r\n",
                ""
            ],
            "metadata": {
                "language": "sql",
                "azdata_cell_guid": "11b767bf-4da0-474d-9be8-27bef4d66e8e"
            },
            "outputs": [
                {
                    "output_type": "display_data",
                    "data": {
                        "text/html": "(4 rows affected)"
                    },
                    "metadata": {}
                },
                {
                    "output_type": "display_data",
                    "data": {
                        "text/html": "Total execution time: 00:00:00.075"
                    },
                    "metadata": {}
                },
                {
                    "output_type": "execute_result",
                    "execution_count": 1,
                    "data": {
                        "application/vnd.dataresource+json": {
                            "schema": {
                                "fields": [
                                    {
                                        "name": "RecipeTitle"
                                    },
                                    {
                                        "name": "RecipeClassDescription"
                                    },
                                    {
                                        "name": "Total Ingredients"
                                    }
                                ]
                            },
                            "data": [
                                {
                                    "RecipeTitle": "Salsa Buena",
                                    "RecipeClassDescription": "Hors d'oeuvres",
                                    "Total Ingredients": "5"
                                },
                                {
                                    "RecipeTitle": "Fettuccini Alfredo",
                                    "RecipeClassDescription": "Main course",
                                    "Total Ingredients": "7"
                                },
                                {
                                    "RecipeTitle": "Huachinango Veracruzana (Red Snapper, Veracruz style)",
                                    "RecipeClassDescription": "Main course",
                                    "Total Ingredients": "12"
                                },
                                {
                                    "RecipeTitle": "Salmon Filets in Parchment Paper",
                                    "RecipeClassDescription": "Main course",
                                    "Total Ingredients": "10"
                                }
                            ]
                        },
                        "text/html": "<table><tr><th>RecipeTitle</th><th>RecipeClassDescription</th><th>Total Ingredients</th></tr><tr><td>Salsa Buena</td><td>Hors d&#39;oeuvres</td><td>5</td></tr><tr><td>Fettuccini Alfredo</td><td>Main course</td><td>7</td></tr><tr><td>Huachinango Veracruzana (Red Snapper, Veracruz style)</td><td>Main course</td><td>12</td></tr><tr><td>Salmon Filets in Parchment Paper</td><td>Main course</td><td>10</td></tr></table>"
                    },
                    "metadata": {}
                }
            ],
            "execution_count": 1
        },
        {
            "cell_type": "markdown",
            "source": [
                "**Q9.** Write a query to display the total number of students enrolled in each `Category` of courses by semester. Show the results by semester, and sort the results within a semester so the category having the most students enrolled is shown **first**. If two categories have the same number of total students in a semester, show them alphabetically.\n",
                "\n",
                "(18 rows, _English_ and _Math_ should be the first two courses for semester 1 with 18 total students enrolled.)"
            ],
            "metadata": {
                "language": "sql",
                "azdata_cell_guid": "5c99b9ee-cde0-4736-957d-5c74860a350f"
            },
            "attachments": {}
        },
        {
            "cell_type": "code",
            "source": [
                "use [SchoolSchedulingExample];\r\n",
                "SELECT\r\n",
                "    SemesterNumber,\r\n",
                "    CategoryDescription,\r\n",
                "    [Total Students]\r\n",
                "FROM (\r\n",
                "    SELECT\r\n",
                "        SemesterNumber,\r\n",
                "        CategoryDescription,\r\n",
                "        COUNT(Students.StudentID) AS [Total Students],\r\n",
                "        RANK() OVER (PARTITION BY SemesterNumber ORDER BY COUNT(Students.StudentID) DESC, CategoryDescription) as CategoryRank\r\n",
                "    FROM Categories\r\n",
                "    JOIN Subjects ON Subjects.CategoryID = Categories.CategoryID\r\n",
                "    JOIN Classes ON Classes.SubjectID = Subjects.SubjectID\r\n",
                "    JOIN Student_Schedules ON Student_Schedules.ClassID = Classes.ClassID\r\n",
                "    JOIN Students ON Students.StudentID = Student_Schedules.StudentID\r\n",
                "    GROUP BY SemesterNumber, CategoryDescription\r\n",
                ") RankedCategories\r\n",
                "ORDER BY SemesterNumber, CategoryRank;\r\n",
                ""
            ],
            "metadata": {
                "azdata_cell_guid": "009cc26a-0687-4447-a8ac-235a7bb6a50d",
                "language": "sql"
            },
            "outputs": [],
            "execution_count": null
        },
        {
            "cell_type": "markdown",
            "source": [
                "**Q10.** Using the data from the previous question, show only those categories whose position between semesters **changed**. The results should be sorted so the category whose position changed **the most** should be shown first, and should look like this\n",
                "\n",
                "| Category | S1 Position | S2 Position | Change in Position |\n",
                "| --- | --- | --- | --- |\n",
                "| History | 9 | 3 | Up 6 |\n",
                "| Music | 4 | 9 | Down 5 |\n",
                "| Computer Information Systems | 8 | 5 | Up 3 |\n",
                "| Accounting | 3 | 4 | Down 2 |\n",
                "| Art | 3 | 4 | Down 1 |\n",
                "\n",
                "I used the [abs](https:\\learn.microsoft.com\\en-us\\sql\\t-sql\\functions\\abs-transact-sql?view=sql-server-2016) and [convert](https:\\learn.microsoft.com\\en-us\\sql\\t-sql\\functions\\cast-and-convert-transact-sql?view=sql-server-2016) functions in my result, as well as the `+` operator for string concatentation."
            ],
            "metadata": {
                "language": "sql",
                "azdata_cell_guid": "f238942a-08ae-47c4-9971-f6c42abe038d"
            },
            "attachments": {}
        },
        {
            "cell_type": "code",
            "source": [
                "USE SchoolSchedulingExample;\r\n",
                "\r\n",
                "WITH StudentsInCategories AS (\r\n",
                "    SELECT\r\n",
                "        SemesterNumber,\r\n",
                "        CategoryDescription,\r\n",
                "        [Total Students],\r\n",
                "        CategoryRank\r\n",
                "    FROM (\r\n",
                "        SELECT\r\n",
                "            SemesterNumber,\r\n",
                "            CategoryDescription,\r\n",
                "            COUNT(Students.StudentID) AS [Total Students],\r\n",
                "            RANK() OVER (PARTITION BY SemesterNumber ORDER BY COUNT(Students.StudentID) DESC, CategoryDescription) as CategoryRank\r\n",
                "        FROM Categories\r\n",
                "        JOIN Subjects ON Subjects.CategoryID = Categories.CategoryID\r\n",
                "        JOIN Classes ON Classes.SubjectID = Subjects.SubjectID\r\n",
                "        JOIN Student_Schedules ON Student_Schedules.ClassID = Classes.ClassID\r\n",
                "        JOIN Students ON Students.StudentID = Student_Schedules.StudentID\r\n",
                "        GROUP BY SemesterNumber, CategoryDescription\r\n",
                "    ) RankedCategories\r\n",
                ")\r\n",
                "\r\n",
                "SELECT\r\n",
                "    C1.CategoryDescription AS [Category],\r\n",
                "    C1.CategoryRank AS [S1 Position],\r\n",
                "    C2.CategoryRank AS [S2 Position],\r\n",
                "    CASE\r\n",
                "        WHEN C2.CategoryRank > C1.CategoryRank THEN 'Down ' + CONVERT(NVARCHAR(255), C2.CategoryRank - C1.CategoryRank)\r\n",
                "        WHEN C2.CategoryRank < C1.CategoryRank THEN 'Up ' + CONVERT(NVARCHAR(255), C1.CategoryRank - C2.CategoryRank)\r\n",
                "        ELSE 'No change'\r\n",
                "    END AS PositionChange\r\n",
                "FROM StudentsInCategories C1\r\n",
                "JOIN StudentsInCategories C2 ON C1.CategoryDescription = C2.CategoryDescription\r\n",
                "WHERE C1.SemesterNumber < C2.SemesterNumber\r\n",
                "   AND C1.CategoryRank <> C2.CategoryRank\r\n",
                "ORDER BY ABS(C2.CategoryRank - C1.CategoryRank) DESC;\r\n",
                ""
            ],
            "metadata": {
                "language": "sql",
                "azdata_cell_guid": "87f652af-25c6-4c6a-af81-24b8988bbae4"
            },
            "outputs": [],
            "execution_count": null
        },
        {
            "cell_type": "markdown",
            "source": [
                "## Handing it in\n",
                "\n",
                "Click the \"eraser\" icon in the top right corner of the ADS window to clear the results from all cells in your notebook. Then go to Moodle and upload the notebook using the **SQL** **Homework 2** assignment in the \"Assignments\" section of the site."
            ],
            "metadata": {
                "language": "sql",
                "azdata_cell_guid": "4d61a044-8966-439f-a6c7-19140ca9b90c"
            },
            "attachments": {}
        }
    ]
}