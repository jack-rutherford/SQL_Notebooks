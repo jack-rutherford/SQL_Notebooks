{
    "metadata": {
        "kernelspec": {
            "name": "SQL",
            "display_name": "SQL",
            "language": "sql"
        },
        "language_info": {
            "name": "sql",
            "version": ""
        },
        "extensions": {
            "azuredatastudio": {
                "version": 1,
                "views": []
            }
        }
    },
    "nbformat_minor": 2,
    "nbformat": 4,
    "cells": [
        {
            "cell_type": "markdown",
            "source": [
                "# Part 1 - Exploring basic SQL behavior\n",
                "\n",
                "For each of the questions below, add an SQL statement to the empty code cell below the question that will help you determine the answer to the question.  \n",
                "\n",
                "Each question deals with the IMDB database.  Tables in this database can be accessed by prefixing the name of the table with `imdb.` \n",
                "\n",
                "For example, you'd reference the `People` table as `imdb.People`"
            ],
            "metadata": {
                "azdata_cell_guid": "ce5cc350-1f65-44f1-96cd-c593807cf8ba"
            },
            "attachments": {}
        },
        {
            "cell_type": "markdown",
            "source": [
                "The general format for an SQL query looks like this:\n",
                "\n",
                "```\n",
                "SELECT [distinct] COLUMN_LIST | * \n",
                "FROM TABLE_LIST\n",
                "[WHERE BOOLEAN_EXPRESSION]\n",
                "[ORDER BY COLUMN_LIST]\n",
                "```\n",
                "\n",
                "Elements enclosed in `[ ]` are **optional**.\n",
                "\n",
                "In the code cell below, write a query that returns all of the tuples in the relation `imdb.Genres`\n",
                "\n",
                "Run the query by clicking on its \"Play\" icon.  You should see 27 rows in the results."
            ],
            "metadata": {
                "azdata_cell_guid": "985fe0cc-4c98-4148-a83d-f7f645f93ecd"
            },
            "attachments": {}
        },
        {
            "cell_type": "code",
            "source": [
                "SELECT *\r\n",
                "from imdb.Genres\r\n",
                "order by Genre"
            ],
            "metadata": {
                "azdata_cell_guid": "b3360a7a-43f2-459a-a8d9-aaac76bee644",
                "language": "sql"
            },
            "outputs": [
                {
                    "output_type": "display_data",
                    "data": {
                        "text/html": "(27 rows affected)"
                    },
                    "metadata": {}
                },
                {
                    "output_type": "display_data",
                    "data": {
                        "text/html": "Total execution time: 00:00:00.059"
                    },
                    "metadata": {}
                },
                {
                    "output_type": "execute_result",
                    "execution_count": 1,
                    "data": {
                        "application/vnd.dataresource+json": {
                            "schema": {
                                "fields": [
                                    {
                                        "name": "Genre"
                                    }
                                ]
                            },
                            "data": [
                                {
                                    "0": "Action"
                                },
                                {
                                    "0": "Adult"
                                },
                                {
                                    "0": "Adventure"
                                },
                                {
                                    "0": "Animation"
                                },
                                {
                                    "0": "Biography"
                                },
                                {
                                    "0": "Comedy"
                                },
                                {
                                    "0": "Crime"
                                },
                                {
                                    "0": "Documentary"
                                },
                                {
                                    "0": "Drama"
                                },
                                {
                                    "0": "Family"
                                },
                                {
                                    "0": "Fantasy"
                                },
                                {
                                    "0": "Game-Show"
                                },
                                {
                                    "0": "History"
                                },
                                {
                                    "0": "Horror"
                                },
                                {
                                    "0": "Music"
                                },
                                {
                                    "0": "Musical"
                                },
                                {
                                    "0": "Mystery"
                                },
                                {
                                    "0": "News"
                                },
                                {
                                    "0": "Reality-TV"
                                },
                                {
                                    "0": "Romance"
                                },
                                {
                                    "0": "Sci-Fi"
                                },
                                {
                                    "0": "Short"
                                },
                                {
                                    "0": "Sport"
                                },
                                {
                                    "0": "Talk-Show"
                                },
                                {
                                    "0": "Thriller"
                                },
                                {
                                    "0": "War"
                                },
                                {
                                    "0": "Western"
                                }
                            ]
                        },
                        "text/html": "<table><tr><th>Genre</th></tr><tr><td>Action</td></tr><tr><td>Adult</td></tr><tr><td>Adventure</td></tr><tr><td>Animation</td></tr><tr><td>Biography</td></tr><tr><td>Comedy</td></tr><tr><td>Crime</td></tr><tr><td>Documentary</td></tr><tr><td>Drama</td></tr><tr><td>Family</td></tr><tr><td>Fantasy</td></tr><tr><td>Game-Show</td></tr><tr><td>History</td></tr><tr><td>Horror</td></tr><tr><td>Music</td></tr><tr><td>Musical</td></tr><tr><td>Mystery</td></tr><tr><td>News</td></tr><tr><td>Reality-TV</td></tr><tr><td>Romance</td></tr><tr><td>Sci-Fi</td></tr><tr><td>Short</td></tr><tr><td>Sport</td></tr><tr><td>Talk-Show</td></tr><tr><td>Thriller</td></tr><tr><td>War</td></tr><tr><td>Western</td></tr></table>"
                    },
                    "metadata": {}
                }
            ],
            "execution_count": 1
        },
        {
            "cell_type": "markdown",
            "source": [
                "Is **trailing whitespace** significant when doing a string comparison? You might, for example, look up an actor in the `imdb.People` table.\n",
                "\n",
                "**Be sure to use single quotes rather than double quotes when entering a string literal.**"
            ],
            "metadata": {
                "azdata_cell_guid": "b940daf8-74bc-451f-a0b6-dfc3382bf25b"
            },
            "attachments": {}
        },
        {
            "cell_type": "code",
            "source": [
                "select COUNT(*) from imdb.People\r\n",
                "where FirstName = 'Robin';\r\n",
                "\r\n",
                "select Count(*) from imdb.People\r\n",
                "where FirstName = 'Robin ';\r\n",
                "\r\n",
                "-- No it does not matter."
            ],
            "metadata": {
                "azdata_cell_guid": "3b30f93e-8559-4f0f-8b46-7bf0ae699929",
                "tags": [],
                "language": "sql"
            },
            "outputs": [
                {
                    "output_type": "display_data",
                    "data": {
                        "text/html": "(1 row affected)"
                    },
                    "metadata": {}
                },
                {
                    "output_type": "display_data",
                    "data": {
                        "text/html": "(1 row affected)"
                    },
                    "metadata": {}
                },
                {
                    "output_type": "display_data",
                    "data": {
                        "text/html": "Total execution time: 00:00:00.017"
                    },
                    "metadata": {}
                },
                {
                    "output_type": "execute_result",
                    "metadata": {},
                    "execution_count": 5,
                    "data": {
                        "application/vnd.dataresource+json": {
                            "schema": {
                                "fields": [
                                    {
                                        "name": "(No column name)"
                                    }
                                ]
                            },
                            "data": [
                                {
                                    "(No column name)": "535"
                                }
                            ]
                        },
                        "text/html": [
                            "<table>",
                            "<tr><th>(No column name)</th></tr>",
                            "<tr><td>535</td></tr>",
                            "</table>"
                        ]
                    }
                },
                {
                    "output_type": "execute_result",
                    "metadata": {},
                    "execution_count": 5,
                    "data": {
                        "application/vnd.dataresource+json": {
                            "schema": {
                                "fields": [
                                    {
                                        "name": "(No column name)"
                                    }
                                ]
                            },
                            "data": [
                                {
                                    "(No column name)": "535"
                                }
                            ]
                        },
                        "text/html": [
                            "<table>",
                            "<tr><th>(No column name)</th></tr>",
                            "<tr><td>535</td></tr>",
                            "</table>"
                        ]
                    }
                }
            ],
            "execution_count": 5
        },
        {
            "cell_type": "markdown",
            "source": [
                "What happens if you use double-quotes for a string literal, instead of single quotes? What does the server appear to expect the value inside double quotes to be?"
            ],
            "metadata": {
                "azdata_cell_guid": "5344d16f-db0b-475f-b46b-40cf1b72c39d"
            },
            "attachments": {}
        },
        {
            "cell_type": "code",
            "source": [
                ""
            ],
            "metadata": {
                "azdata_cell_guid": "8b6502a3-8f0d-4a40-96d8-7af7c4d2b5dc",
                "language": "sql"
            },
            "outputs": [],
            "execution_count": null
        },
        {
            "cell_type": "markdown",
            "source": [
                "Is the `BETWEEN` operator is **inclusive** or **exclusive** of its endpoints? A good column to look at is the `YearReleased` column in the `imdb.Movies` table.  I used the `distinct` keyword to help me limit the number of results in my experiment."
            ],
            "metadata": {
                "azdata_cell_guid": "dacaf9aa-4434-4c38-bba9-9af38c2cee94"
            },
            "attachments": {}
        },
        {
            "cell_type": "code",
            "source": [
                ""
            ],
            "metadata": {
                "azdata_cell_guid": "1ac5796f-90ac-47e6-bde6-e570a0f67f87",
                "language": "sql"
            },
            "outputs": [],
            "execution_count": null
        },
        {
            "cell_type": "markdown",
            "source": [
                "Are string comparisons on our server case **sensitive** or case **insensitive**?"
            ],
            "metadata": {
                "azdata_cell_guid": "957b161f-9c93-4532-be24-84593c1ceab9"
            }
        },
        {
            "cell_type": "markdown",
            "source": [
                "Execute the code in the cell below and examine the results. Then, write an explanation of how the `TOP` keyword works together with `ORDER BY` to select a subset of the rows returned by a `SELECT` statement."
            ],
            "metadata": {
                "azdata_cell_guid": "85d310ae-0c04-4b40-8c47-7c8bb4908075"
            },
            "attachments": {}
        },
        {
            "cell_type": "code",
            "source": [
                "select TOP 2 Title, RunningTimeInMinutes, YearReleased\r\n",
                "from imdb.Movies\r\n",
                "where RunningTimeInMinutes is not null\r\n",
                "order by RunningTimeInMinutes asc\r\n",
                "\r\n",
                "select TOP 2 Title, RunningTimeInMinutes, YearReleased\r\n",
                "from imdb.Movies\r\n",
                "where RunningTimeInMinutes is not null\r\n",
                "order by YearReleased desc\r\n",
                "\r\n",
                "select TOP 2 Title, RunningTimeInMinutes, YearReleased\r\n",
                "from imdb.Movies\r\n",
                "where RunningTimeInMinutes is not null\r\n",
                "order by Title asc"
            ],
            "metadata": {
                "azdata_cell_guid": "38d054ac-41ae-401d-90bd-3459f2149ce2",
                "language": "sql"
            },
            "outputs": [],
            "execution_count": null
        },
        {
            "cell_type": "markdown",
            "source": [
                "Replace the contents of this cell with your answer."
            ],
            "metadata": {
                "azdata_cell_guid": "7d184d04-aa7e-44a2-ada0-7f25a90c83f4"
            },
            "attachments": {}
        },
        {
            "cell_type": "markdown",
            "source": [
                "# Part 2 - Writing SQL Queries on a single table\n",
                "\n",
                "## Preparation\n",
                "\n",
                "Open and execute each of the files starting with `00` in the folder named `Sample Database Setup Scripts` located in `392` folder in the Google Shared Drive named **Computer Science Students**. These files create the database structure for each of the sample databases described in the textbook.\n",
                "\n",
                "Repeat to execute each of the files starting with `01`. These files will insert sample data into the associated database.\n",
                "\n",
                "Then save changes to this notebook using **File - Save** and then re-open it. This is necessary to make sure _Azure Data Studio_ provides auto-complete suggestions for the objects created by the scripts."
            ],
            "metadata": {
                "azdata_cell_guid": "9373532b-4fc2-4ba1-b49d-f1f799cb4b27"
            },
            "attachments": {}
        },
        {
            "cell_type": "markdown",
            "source": [
                "## Sales Order Database\n",
                "\n",
                "All of the tables for the `SalesOrdersExample` database have been created in your individual student database in a schema named `SalesOrdersExample`.  For example, `SalesOrderExample.Customers` would be the way to reference the `Customers` table.\n",
                "\n",
                "Write a query to answer each question in the blank code cell beneath the question"
            ],
            "metadata": {
                "azdata_cell_guid": "8731a96d-844c-4826-a28e-82780ee5b236"
            },
            "attachments": {}
        },
        {
            "cell_type": "markdown",
            "source": [
                "Give me the names of all vendors based in Ballard, Bellevue, and Redmond (3 rows)."
            ],
            "metadata": {
                "azdata_cell_guid": "bd64c968-9761-4972-a930-451b21c30e41"
            },
            "attachments": {}
        },
        {
            "cell_type": "code",
            "source": [
                "use SalesOrdersExample\r\n",
                "select VendName from Vendors\r\n",
                "where VendCity = 'Ballard' or VendCity = 'Bellevue' or VendCity = 'Redmond'\r\n",
                ""
            ],
            "metadata": {
                "azdata_cell_guid": "ea25856a-95fe-4929-ae1d-ab64bcf9cffb",
                "language": "sql"
            },
            "outputs": [
                {
                    "output_type": "display_data",
                    "data": {
                        "text/html": "(3 rows affected)"
                    },
                    "metadata": {}
                },
                {
                    "output_type": "display_data",
                    "data": {
                        "text/html": "Total execution time: 00:00:00.029"
                    },
                    "metadata": {}
                },
                {
                    "output_type": "execute_result",
                    "execution_count": 5,
                    "data": {
                        "application/vnd.dataresource+json": {
                            "schema": {
                                "fields": [
                                    {
                                        "name": "VendName"
                                    }
                                ]
                            },
                            "data": [
                                {
                                    "0": "Shinoman, Incorporated"
                                },
                                {
                                    "0": "Nikoma of America"
                                },
                                {
                                    "0": "Kona, Incorporated"
                                }
                            ]
                        },
                        "text/html": "<table><tr><th>VendName</th></tr><tr><td>Shinoman, Incorporated</td></tr><tr><td>Nikoma of America</td></tr><tr><td>Kona, Incorporated</td></tr></table>"
                    },
                    "metadata": {}
                }
            ],
            "execution_count": 5
        },
        {
            "cell_type": "markdown",
            "source": [
                "- Show me an alphabetized list of products with a retail price of $125.00 or more.  (13 rows, the first is _AeroFlo ATB Wheels_)."
            ],
            "metadata": {
                "azdata_cell_guid": "be921721-4b34-406c-b319-c88fc70ebff1"
            },
            "attachments": {}
        },
        {
            "cell_type": "code",
            "source": [
                "use SalesOrdersExample\r\n",
                "select * from Products\r\n",
                "where RetailPrice >= 125\r\n",
                "order by ProductName asc"
            ],
            "metadata": {
                "azdata_cell_guid": "0bde2c8a-a901-4521-8d3e-17e667bfbee2",
                "language": "sql"
            },
            "outputs": [
                {
                    "output_type": "display_data",
                    "data": {
                        "text/html": "(13 rows affected)"
                    },
                    "metadata": {}
                },
                {
                    "output_type": "display_data",
                    "data": {
                        "text/html": "Total execution time: 00:00:00.029"
                    },
                    "metadata": {}
                },
                {
                    "output_type": "execute_result",
                    "execution_count": 8,
                    "data": {
                        "application/vnd.dataresource+json": {
                            "schema": {
                                "fields": [
                                    {
                                        "name": "ProductNumber"
                                    },
                                    {
                                        "name": "ProductName"
                                    },
                                    {
                                        "name": "ProductDescription"
                                    },
                                    {
                                        "name": "RetailPrice"
                                    },
                                    {
                                        "name": "QuantityOnHand"
                                    },
                                    {
                                        "name": "CategoryID"
                                    }
                                ]
                            },
                            "data": [
                                {
                                    "0": "37",
                                    "1": "AeroFlo ATB Wheels",
                                    "2": "NULL",
                                    "3": "189.0000",
                                    "4": "40",
                                    "5": "4"
                                },
                                {
                                    "0": "36",
                                    "1": "Cosmic Elite Road Warrior Wheels",
                                    "2": "NULL",
                                    "3": "165.0000",
                                    "4": "22",
                                    "5": "4"
                                },
                                {
                                    "0": "38",
                                    "1": "Cycle-Doc Pro Repair Stand",
                                    "2": "NULL",
                                    "3": "166.0000",
                                    "4": "12",
                                    "5": "1"
                                },
                                {
                                    "0": "2",
                                    "1": "Eagle FS-3 Mountain Bike",
                                    "2": "NULL",
                                    "3": "1800.0000",
                                    "4": "8",
                                    "5": "2"
                                },
                                {
                                    "0": "14",
                                    "1": "Eagle SA-120 Clipless Pedals",
                                    "2": "NULL",
                                    "3": "139.9500",
                                    "4": "20",
                                    "5": "4"
                                },
                                {
                                    "0": "26",
                                    "1": "Glide-O-Matic Cycling Helmet",
                                    "2": "NULL",
                                    "3": "125.0000",
                                    "4": "24",
                                    "5": "1"
                                },
                                {
                                    "0": "11",
                                    "1": "GT RTS-2 Mountain Bike",
                                    "2": "NULL",
                                    "3": "1650.0000",
                                    "4": "5",
                                    "5": "2"
                                },
                                {
                                    "0": "25",
                                    "1": "King Cobra Helmet",
                                    "2": "NULL",
                                    "3": "139.0000",
                                    "4": "30",
                                    "5": "1"
                                },
                                {
                                    "0": "39",
                                    "1": "Road Warrior Hitch Pack",
                                    "2": "NULL",
                                    "3": "175.0000",
                                    "4": "6",
                                    "5": "5"
                                },
                                {
                                    "0": "1",
                                    "1": "Trek 9000 Mountain Bike",
                                    "2": "NULL",
                                    "3": "1200.0000",
                                    "4": "6",
                                    "5": "2"
                                },
                                {
                                    "0": "40",
                                    "1": "Ultimate Export 2G Car Rack",
                                    "2": "NULL",
                                    "3": "180.0000",
                                    "4": "8",
                                    "5": "5"
                                },
                                {
                                    "0": "18",
                                    "1": "Viscount CardioSport Sport Watch",
                                    "2": "NULL",
                                    "3": "179.0000",
                                    "4": "12",
                                    "5": "1"
                                },
                                {
                                    "0": "6",
                                    "1": "Viscount Mountain Bike",
                                    "2": "NULL",
                                    "3": "635.0000",
                                    "4": "5",
                                    "5": "2"
                                }
                            ]
                        },
                        "text/html": "<table><tr><th>ProductNumber</th><th>ProductName</th><th>ProductDescription</th><th>RetailPrice</th><th>QuantityOnHand</th><th>CategoryID</th></tr><tr><td>37</td><td>AeroFlo ATB Wheels</td><td>NULL</td><td>189.0000</td><td>40</td><td>4</td></tr><tr><td>36</td><td>Cosmic Elite Road Warrior Wheels</td><td>NULL</td><td>165.0000</td><td>22</td><td>4</td></tr><tr><td>38</td><td>Cycle-Doc Pro Repair Stand</td><td>NULL</td><td>166.0000</td><td>12</td><td>1</td></tr><tr><td>2</td><td>Eagle FS-3 Mountain Bike</td><td>NULL</td><td>1800.0000</td><td>8</td><td>2</td></tr><tr><td>14</td><td>Eagle SA-120 Clipless Pedals</td><td>NULL</td><td>139.9500</td><td>20</td><td>4</td></tr><tr><td>26</td><td>Glide-O-Matic Cycling Helmet</td><td>NULL</td><td>125.0000</td><td>24</td><td>1</td></tr><tr><td>11</td><td>GT RTS-2 Mountain Bike</td><td>NULL</td><td>1650.0000</td><td>5</td><td>2</td></tr><tr><td>25</td><td>King Cobra Helmet</td><td>NULL</td><td>139.0000</td><td>30</td><td>1</td></tr><tr><td>39</td><td>Road Warrior Hitch Pack</td><td>NULL</td><td>175.0000</td><td>6</td><td>5</td></tr><tr><td>1</td><td>Trek 9000 Mountain Bike</td><td>NULL</td><td>1200.0000</td><td>6</td><td>2</td></tr><tr><td>40</td><td>Ultimate Export 2G Car Rack</td><td>NULL</td><td>180.0000</td><td>8</td><td>5</td></tr><tr><td>18</td><td>Viscount CardioSport Sport Watch</td><td>NULL</td><td>179.0000</td><td>12</td><td>1</td></tr><tr><td>6</td><td>Viscount Mountain Bike</td><td>NULL</td><td>635.0000</td><td>5</td><td>2</td></tr></table>"
                    },
                    "metadata": {}
                }
            ],
            "execution_count": 8
        },
        {
            "cell_type": "markdown",
            "source": [
                "Which vendors do we work with that don't have a Web site (4 rows)?  (hint: use `is not null` in your query)"
            ],
            "metadata": {
                "azdata_cell_guid": "7141a6dd-66dc-4770-af1c-9df81c78e53d"
            },
            "attachments": {}
        },
        {
            "cell_type": "code",
            "source": [
                "use SalesOrdersExample\r\n",
                "select * from Vendors\r\n",
                "where VendWebPage is NULL"
            ],
            "metadata": {
                "azdata_cell_guid": "308ffc63-1182-4d73-9148-948c0cf900c7",
                "language": "sql"
            },
            "outputs": [
                {
                    "output_type": "display_data",
                    "data": {
                        "text/html": "(4 rows affected)"
                    },
                    "metadata": {}
                },
                {
                    "output_type": "display_data",
                    "data": {
                        "text/html": "Total execution time: 00:00:00.035"
                    },
                    "metadata": {}
                },
                {
                    "output_type": "execute_result",
                    "execution_count": 9,
                    "data": {
                        "application/vnd.dataresource+json": {
                            "schema": {
                                "fields": [
                                    {
                                        "name": "VendorID"
                                    },
                                    {
                                        "name": "VendName"
                                    },
                                    {
                                        "name": "VendStreetAddress"
                                    },
                                    {
                                        "name": "VendCity"
                                    },
                                    {
                                        "name": "VendState"
                                    },
                                    {
                                        "name": "VendZipCode"
                                    },
                                    {
                                        "name": "VendPhoneNumber"
                                    },
                                    {
                                        "name": "VendFaxNumber"
                                    },
                                    {
                                        "name": "VendWebPage"
                                    },
                                    {
                                        "name": "VendEMailAddress"
                                    }
                                ]
                            },
                            "data": [
                                {
                                    "0": "6",
                                    "1": "Big Sky Mountain Bikes",
                                    "2": "Glacier Bay South",
                                    "3": "Anchorage",
                                    "4": "AK",
                                    "5": "99209",
                                    "6": "(907) 222-1234",
                                    "7": "(907) 222-1235",
                                    "8": "NULL",
                                    "9": "NULL"
                                },
                                {
                                    "0": "7",
                                    "1": "Dog Ear",
                                    "2": "575 Madison Ave.",
                                    "3": "New York",
                                    "4": "NY",
                                    "5": "10003",
                                    "6": "(212) 888-9876",
                                    "7": "(212) 888-9877",
                                    "8": "NULL",
                                    "9": "NULL"
                                },
                                {
                                    "0": "8",
                                    "1": "Sun Sports Suppliers",
                                    "2": "PO Box 8082",
                                    "3": "Santa Monica",
                                    "4": "CA",
                                    "5": "91003",
                                    "6": "(310) 777-9876",
                                    "7": "(310) 777-9877",
                                    "8": "NULL",
                                    "9": "NULL"
                                },
                                {
                                    "0": "9",
                                    "1": "Lone Star Bike Supply",
                                    "2": "7402 Kingman Drive",
                                    "3": "El Paso",
                                    "4": "TX",
                                    "5": "79915",
                                    "6": "(915) 666-9876",
                                    "7": "(915) 666-9877",
                                    "8": "NULL",
                                    "9": "NULL"
                                }
                            ]
                        },
                        "text/html": "<table><tr><th>VendorID</th><th>VendName</th><th>VendStreetAddress</th><th>VendCity</th><th>VendState</th><th>VendZipCode</th><th>VendPhoneNumber</th><th>VendFaxNumber</th><th>VendWebPage</th><th>VendEMailAddress</th></tr><tr><td>6</td><td>Big Sky Mountain Bikes</td><td>Glacier Bay South</td><td>Anchorage</td><td>AK</td><td>99209</td><td>(907) 222-1234</td><td>(907) 222-1235</td><td>NULL</td><td>NULL</td></tr><tr><td>7</td><td>Dog Ear</td><td>575 Madison Ave.</td><td>New York</td><td>NY</td><td>10003</td><td>(212) 888-9876</td><td>(212) 888-9877</td><td>NULL</td><td>NULL</td></tr><tr><td>8</td><td>Sun Sports Suppliers</td><td>PO Box 8082</td><td>Santa Monica</td><td>CA</td><td>91003</td><td>(310) 777-9876</td><td>(310) 777-9877</td><td>NULL</td><td>NULL</td></tr><tr><td>9</td><td>Lone Star Bike Supply</td><td>7402 Kingman Drive</td><td>El Paso</td><td>TX</td><td>79915</td><td>(915) 666-9876</td><td>(915) 666-9877</td><td>NULL</td><td>NULL</td></tr></table>"
                    },
                    "metadata": {}
                }
            ],
            "execution_count": 9
        },
        {
            "cell_type": "markdown",
            "source": [
                "## Entertainment Agency Database\n",
                "\n",
                "The tables for this database are availabe by prefixing the table name with `EntertainmentAgencyExample`."
            ],
            "metadata": {
                "azdata_cell_guid": "56049a78-5d6a-4c63-b909-98983d0b1d5d"
            },
            "attachments": {}
        },
        {
            "cell_type": "markdown",
            "source": [
                "Let me see a list of all engagements that occurred during October 2017 (24 rows).\n",
                "\n",
                "There is a start date and ending date in the table.  You should include any engagement that starts in October, ends in October, or both.  Use strings like 'Sep 10 2021' to represent dates."
            ],
            "metadata": {
                "azdata_cell_guid": "8e7e05f5-93c7-4f46-bcb7-b8f5bb31a664"
            },
            "attachments": {}
        },
        {
            "cell_type": "code",
            "source": [
                "use EntertainmentAgencyExample\r\n",
                "select * from Engagements\r\n",
                "where (YEAR(StartDate) = 2017 and MONTH(StartDate) = 10) OR\r\n",
                "      (YEAR(EndDate) = 2017 and MONTH(EndDate) = 10)"
            ],
            "metadata": {
                "azdata_cell_guid": "130a9d0f-590a-46ed-96cb-e5abed6bb13b",
                "language": "sql"
            },
            "outputs": [
                {
                    "output_type": "display_data",
                    "data": {
                        "text/html": "(24 rows affected)"
                    },
                    "metadata": {}
                },
                {
                    "output_type": "display_data",
                    "data": {
                        "text/html": "Total execution time: 00:00:00.046"
                    },
                    "metadata": {}
                },
                {
                    "output_type": "execute_result",
                    "execution_count": 13,
                    "data": {
                        "application/vnd.dataresource+json": {
                            "schema": {
                                "fields": [
                                    {
                                        "name": "EngagementNumber"
                                    },
                                    {
                                        "name": "StartDate"
                                    },
                                    {
                                        "name": "EndDate"
                                    },
                                    {
                                        "name": "StartTime"
                                    },
                                    {
                                        "name": "StopTime"
                                    },
                                    {
                                        "name": "ContractPrice"
                                    },
                                    {
                                        "name": "CustomerID"
                                    },
                                    {
                                        "name": "AgentID"
                                    },
                                    {
                                        "name": "EntertainerID"
                                    }
                                ]
                            },
                            "data": [
                                {
                                    "0": "16",
                                    "1": "2017-10-03",
                                    "2": "2017-10-07",
                                    "3": "20:00:00",
                                    "4": "01:00:00",
                                    "5": "1550.0000",
                                    "6": "10010",
                                    "7": "5",
                                    "8": "1013"
                                },
                                {
                                    "0": "17",
                                    "1": "2017-09-30",
                                    "2": "2017-10-03",
                                    "3": "18:00:00",
                                    "4": "20:00:00",
                                    "5": "530.0000",
                                    "6": "10002",
                                    "7": "8",
                                    "8": "1010"
                                },
                                {
                                    "0": "19",
                                    "1": "2017-09-30",
                                    "2": "2017-10-06",
                                    "3": "20:00:00",
                                    "4": "23:00:00",
                                    "5": "365.0000",
                                    "6": "10009",
                                    "7": "8",
                                    "8": "1004"
                                },
                                {
                                    "0": "21",
                                    "1": "2017-10-01",
                                    "2": "2017-10-04",
                                    "3": "12:00:00",
                                    "4": "16:00:00",
                                    "5": "1490.0000",
                                    "6": "10005",
                                    "7": "1",
                                    "8": "1003"
                                },
                                {
                                    "0": "22",
                                    "1": "2017-10-01",
                                    "2": "2017-10-06",
                                    "3": "12:00:00",
                                    "4": "15:00:00",
                                    "5": "590.0000",
                                    "6": "10004",
                                    "7": "5",
                                    "8": "1002"
                                },
                                {
                                    "0": "23",
                                    "1": "2017-10-01",
                                    "2": "2017-10-01",
                                    "3": "20:00:00",
                                    "4": "00:00:00",
                                    "5": "290.0000",
                                    "6": "10012",
                                    "7": "4",
                                    "8": "1013"
                                },
                                {
                                    "0": "24",
                                    "1": "2017-10-02",
                                    "2": "2017-10-08",
                                    "3": "12:00:00",
                                    "4": "18:00:00",
                                    "5": "1940.0000",
                                    "6": "10001",
                                    "7": "4",
                                    "8": "1001"
                                },
                                {
                                    "0": "26",
                                    "1": "2017-10-10",
                                    "2": "2017-10-15",
                                    "3": "17:00:00",
                                    "4": "22:00:00",
                                    "5": "950.0000",
                                    "6": "10001",
                                    "7": "6",
                                    "8": "1002"
                                },
                                {
                                    "0": "27",
                                    "1": "2017-10-08",
                                    "2": "2017-10-13",
                                    "3": "12:00:00",
                                    "4": "16:00:00",
                                    "5": "2210.0000",
                                    "6": "10015",
                                    "7": "7",
                                    "8": "1003"
                                },
                                {
                                    "0": "28",
                                    "1": "2017-10-07",
                                    "2": "2017-10-16",
                                    "3": "17:00:00",
                                    "4": "22:00:00",
                                    "5": "3800.0000",
                                    "6": "10003",
                                    "7": "4",
                                    "8": "1007"
                                },
                                {
                                    "0": "30",
                                    "1": "2017-10-07",
                                    "2": "2017-10-09",
                                    "3": "17:00:00",
                                    "4": "22:00:00",
                                    "5": "275.0000",
                                    "6": "10009",
                                    "7": "5",
                                    "8": "1011"
                                },
                                {
                                    "0": "31",
                                    "1": "2017-10-08",
                                    "2": "2017-10-17",
                                    "3": "16:00:00",
                                    "4": "20:00:00",
                                    "5": "2450.0000",
                                    "6": "10002",
                                    "7": "8",
                                    "8": "1010"
                                },
                                {
                                    "0": "32",
                                    "1": "2017-10-08",
                                    "2": "2017-10-17",
                                    "3": "13:00:00",
                                    "4": "15:00:00",
                                    "5": "1250.0000",
                                    "6": "10010",
                                    "7": "7",
                                    "8": "1013"
                                },
                                {
                                    "0": "34",
                                    "1": "2017-10-15",
                                    "2": "2017-10-21",
                                    "3": "16:00:00",
                                    "4": "18:00:00",
                                    "5": "680.0000",
                                    "6": "10004",
                                    "7": "8",
                                    "8": "1005"
                                },
                                {
                                    "0": "35",
                                    "1": "2017-10-15",
                                    "2": "2017-10-16",
                                    "3": "19:00:00",
                                    "4": "23:00:00",
                                    "5": "410.0000",
                                    "6": "10005",
                                    "7": "8",
                                    "8": "1001"
                                },
                                {
                                    "0": "36",
                                    "1": "2017-10-14",
                                    "2": "2017-10-24",
                                    "3": "18:00:00",
                                    "4": "22:00:00",
                                    "5": "710.0000",
                                    "6": "10014",
                                    "7": "3",
                                    "8": "1011"
                                },
                                {
                                    "0": "37",
                                    "1": "2017-10-14",
                                    "2": "2017-10-20",
                                    "3": "14:00:00",
                                    "4": "19:00:00",
                                    "5": "2675.0000",
                                    "6": "10006",
                                    "7": "3",
                                    "8": "1008"
                                },
                                {
                                    "0": "38",
                                    "1": "2017-10-15",
                                    "2": "2017-10-19",
                                    "3": "14:00:00",
                                    "4": "20:00:00",
                                    "5": "1850.0000",
                                    "6": "10013",
                                    "7": "4",
                                    "8": "1006"
                                },
                                {
                                    "0": "41",
                                    "1": "2017-10-21",
                                    "2": "2017-10-29",
                                    "3": "18:00:00",
                                    "4": "21:00:00",
                                    "5": "860.0000",
                                    "6": "10013",
                                    "7": "3",
                                    "8": "1002"
                                },
                                {
                                    "0": "42",
                                    "1": "2017-10-21",
                                    "2": "2017-10-27",
                                    "3": "17:00:00",
                                    "4": "22:00:00",
                                    "5": "2150.0000",
                                    "6": "10002",
                                    "7": "1",
                                    "8": "1013"
                                },
                                {
                                    "0": "43",
                                    "1": "2017-10-22",
                                    "2": "2017-10-22",
                                    "3": "14:00:00",
                                    "4": "16:00:00",
                                    "5": "140.0000",
                                    "6": "10001",
                                    "7": "8",
                                    "8": "1001"
                                },
                                {
                                    "0": "44",
                                    "1": "2017-10-23",
                                    "2": "2017-10-27",
                                    "3": "14:00:00",
                                    "4": "19:00:00",
                                    "5": "1925.0000",
                                    "6": "10006",
                                    "7": "3",
                                    "8": "1008"
                                },
                                {
                                    "0": "45",
                                    "1": "2017-10-22",
                                    "2": "2017-10-29",
                                    "3": "14:00:00",
                                    "4": "18:00:00",
                                    "5": "530.0000",
                                    "6": "10015",
                                    "7": "1",
                                    "8": "1012"
                                },
                                {
                                    "0": "46",
                                    "1": "2017-10-29",
                                    "2": "2017-11-06",
                                    "3": "15:00:00",
                                    "4": "17:00:00",
                                    "5": "1400.0000",
                                    "6": "10009",
                                    "7": "4",
                                    "8": "1008"
                                }
                            ]
                        },
                        "text/html": "<table><tr><th>EngagementNumber</th><th>StartDate</th><th>EndDate</th><th>StartTime</th><th>StopTime</th><th>ContractPrice</th><th>CustomerID</th><th>AgentID</th><th>EntertainerID</th></tr><tr><td>16</td><td>2017-10-03</td><td>2017-10-07</td><td>20:00:00</td><td>01:00:00</td><td>1550.0000</td><td>10010</td><td>5</td><td>1013</td></tr><tr><td>17</td><td>2017-09-30</td><td>2017-10-03</td><td>18:00:00</td><td>20:00:00</td><td>530.0000</td><td>10002</td><td>8</td><td>1010</td></tr><tr><td>19</td><td>2017-09-30</td><td>2017-10-06</td><td>20:00:00</td><td>23:00:00</td><td>365.0000</td><td>10009</td><td>8</td><td>1004</td></tr><tr><td>21</td><td>2017-10-01</td><td>2017-10-04</td><td>12:00:00</td><td>16:00:00</td><td>1490.0000</td><td>10005</td><td>1</td><td>1003</td></tr><tr><td>22</td><td>2017-10-01</td><td>2017-10-06</td><td>12:00:00</td><td>15:00:00</td><td>590.0000</td><td>10004</td><td>5</td><td>1002</td></tr><tr><td>23</td><td>2017-10-01</td><td>2017-10-01</td><td>20:00:00</td><td>00:00:00</td><td>290.0000</td><td>10012</td><td>4</td><td>1013</td></tr><tr><td>24</td><td>2017-10-02</td><td>2017-10-08</td><td>12:00:00</td><td>18:00:00</td><td>1940.0000</td><td>10001</td><td>4</td><td>1001</td></tr><tr><td>26</td><td>2017-10-10</td><td>2017-10-15</td><td>17:00:00</td><td>22:00:00</td><td>950.0000</td><td>10001</td><td>6</td><td>1002</td></tr><tr><td>27</td><td>2017-10-08</td><td>2017-10-13</td><td>12:00:00</td><td>16:00:00</td><td>2210.0000</td><td>10015</td><td>7</td><td>1003</td></tr><tr><td>28</td><td>2017-10-07</td><td>2017-10-16</td><td>17:00:00</td><td>22:00:00</td><td>3800.0000</td><td>10003</td><td>4</td><td>1007</td></tr><tr><td>30</td><td>2017-10-07</td><td>2017-10-09</td><td>17:00:00</td><td>22:00:00</td><td>275.0000</td><td>10009</td><td>5</td><td>1011</td></tr><tr><td>31</td><td>2017-10-08</td><td>2017-10-17</td><td>16:00:00</td><td>20:00:00</td><td>2450.0000</td><td>10002</td><td>8</td><td>1010</td></tr><tr><td>32</td><td>2017-10-08</td><td>2017-10-17</td><td>13:00:00</td><td>15:00:00</td><td>1250.0000</td><td>10010</td><td>7</td><td>1013</td></tr><tr><td>34</td><td>2017-10-15</td><td>2017-10-21</td><td>16:00:00</td><td>18:00:00</td><td>680.0000</td><td>10004</td><td>8</td><td>1005</td></tr><tr><td>35</td><td>2017-10-15</td><td>2017-10-16</td><td>19:00:00</td><td>23:00:00</td><td>410.0000</td><td>10005</td><td>8</td><td>1001</td></tr><tr><td>36</td><td>2017-10-14</td><td>2017-10-24</td><td>18:00:00</td><td>22:00:00</td><td>710.0000</td><td>10014</td><td>3</td><td>1011</td></tr><tr><td>37</td><td>2017-10-14</td><td>2017-10-20</td><td>14:00:00</td><td>19:00:00</td><td>2675.0000</td><td>10006</td><td>3</td><td>1008</td></tr><tr><td>38</td><td>2017-10-15</td><td>2017-10-19</td><td>14:00:00</td><td>20:00:00</td><td>1850.0000</td><td>10013</td><td>4</td><td>1006</td></tr><tr><td>41</td><td>2017-10-21</td><td>2017-10-29</td><td>18:00:00</td><td>21:00:00</td><td>860.0000</td><td>10013</td><td>3</td><td>1002</td></tr><tr><td>42</td><td>2017-10-21</td><td>2017-10-27</td><td>17:00:00</td><td>22:00:00</td><td>2150.0000</td><td>10002</td><td>1</td><td>1013</td></tr><tr><td>43</td><td>2017-10-22</td><td>2017-10-22</td><td>14:00:00</td><td>16:00:00</td><td>140.0000</td><td>10001</td><td>8</td><td>1001</td></tr><tr><td>44</td><td>2017-10-23</td><td>2017-10-27</td><td>14:00:00</td><td>19:00:00</td><td>1925.0000</td><td>10006</td><td>3</td><td>1008</td></tr><tr><td>45</td><td>2017-10-22</td><td>2017-10-29</td><td>14:00:00</td><td>18:00:00</td><td>530.0000</td><td>10015</td><td>1</td><td>1012</td></tr><tr><td>46</td><td>2017-10-29</td><td>2017-11-06</td><td>15:00:00</td><td>17:00:00</td><td>1400.0000</td><td>10009</td><td>4</td><td>1008</td></tr></table>"
                    },
                    "metadata": {}
                }
            ],
            "execution_count": 13
        },
        {
            "cell_type": "markdown",
            "source": [
                "List all the engagements that start and end on the same day, in order from least recent to most recent (5 rows, with the first occurring on October 1, 2017)."
            ],
            "metadata": {
                "azdata_cell_guid": "b63d2ae6-8b63-4119-9ffa-477d5321f39d"
            },
            "attachments": {}
        },
        {
            "cell_type": "code",
            "source": [
                "USE EntertainmentAgencyExample\r\n",
                "select * from Engagements\r\n",
                "where StartDate = EndDate\r\n",
                "order by StartDate"
            ],
            "metadata": {
                "azdata_cell_guid": "fee05bcf-8f9b-4c46-b3aa-052f2c1284f1",
                "language": "sql"
            },
            "outputs": [
                {
                    "output_type": "display_data",
                    "data": {
                        "text/html": "(5 rows affected)"
                    },
                    "metadata": {}
                },
                {
                    "output_type": "display_data",
                    "data": {
                        "text/html": "Total execution time: 00:00:00.017"
                    },
                    "metadata": {}
                },
                {
                    "output_type": "execute_result",
                    "execution_count": 16,
                    "data": {
                        "application/vnd.dataresource+json": {
                            "schema": {
                                "fields": [
                                    {
                                        "name": "EngagementNumber"
                                    },
                                    {
                                        "name": "StartDate"
                                    },
                                    {
                                        "name": "EndDate"
                                    },
                                    {
                                        "name": "StartTime"
                                    },
                                    {
                                        "name": "StopTime"
                                    },
                                    {
                                        "name": "ContractPrice"
                                    },
                                    {
                                        "name": "CustomerID"
                                    },
                                    {
                                        "name": "AgentID"
                                    },
                                    {
                                        "name": "EntertainerID"
                                    }
                                ]
                            },
                            "data": [
                                {
                                    "0": "23",
                                    "1": "2017-10-01",
                                    "2": "2017-10-01",
                                    "3": "20:00:00",
                                    "4": "00:00:00",
                                    "5": "290.0000",
                                    "6": "10012",
                                    "7": "4",
                                    "8": "1013"
                                },
                                {
                                    "0": "43",
                                    "1": "2017-10-22",
                                    "2": "2017-10-22",
                                    "3": "14:00:00",
                                    "4": "16:00:00",
                                    "5": "140.0000",
                                    "6": "10001",
                                    "7": "8",
                                    "8": "1001"
                                },
                                {
                                    "0": "90",
                                    "1": "2018-01-09",
                                    "2": "2018-01-09",
                                    "3": "20:00:00",
                                    "4": "02:00:00",
                                    "5": "320.0000",
                                    "6": "10006",
                                    "7": "5",
                                    "8": "1001"
                                },
                                {
                                    "0": "97",
                                    "1": "2018-01-20",
                                    "2": "2018-01-20",
                                    "3": "17:00:00",
                                    "4": "21:00:00",
                                    "5": "110.0000",
                                    "6": "10012",
                                    "7": "8",
                                    "8": "1004"
                                },
                                {
                                    "0": "118",
                                    "1": "2018-02-19",
                                    "2": "2018-02-19",
                                    "3": "19:00:00",
                                    "4": "00:00:00",
                                    "5": "350.0000",
                                    "6": "10014",
                                    "7": "1",
                                    "8": "1010"
                                }
                            ]
                        },
                        "text/html": "<table><tr><th>EngagementNumber</th><th>StartDate</th><th>EndDate</th><th>StartTime</th><th>StopTime</th><th>ContractPrice</th><th>CustomerID</th><th>AgentID</th><th>EntertainerID</th></tr><tr><td>23</td><td>2017-10-01</td><td>2017-10-01</td><td>20:00:00</td><td>00:00:00</td><td>290.0000</td><td>10012</td><td>4</td><td>1013</td></tr><tr><td>43</td><td>2017-10-22</td><td>2017-10-22</td><td>14:00:00</td><td>16:00:00</td><td>140.0000</td><td>10001</td><td>8</td><td>1001</td></tr><tr><td>90</td><td>2018-01-09</td><td>2018-01-09</td><td>20:00:00</td><td>02:00:00</td><td>320.0000</td><td>10006</td><td>5</td><td>1001</td></tr><tr><td>97</td><td>2018-01-20</td><td>2018-01-20</td><td>17:00:00</td><td>21:00:00</td><td>110.0000</td><td>10012</td><td>8</td><td>1004</td></tr><tr><td>118</td><td>2018-02-19</td><td>2018-02-19</td><td>19:00:00</td><td>00:00:00</td><td>350.0000</td><td>10014</td><td>1</td><td>1010</td></tr></table>"
                    },
                    "metadata": {}
                }
            ],
            "execution_count": 16
        },
        {
            "cell_type": "markdown",
            "source": [
                "## School Scheduling Database\n",
                "\n",
                "The tables for this database are availabe by prefixing the table name with `SchoolSchedulingExample.`"
            ],
            "metadata": {
                "azdata_cell_guid": "dcba8e1b-5525-4599-9ab9-40852485e5df"
            },
            "attachments": {}
        },
        {
            "cell_type": "markdown",
            "source": [
                "Can you show me which students live outside of the Pacific Northwest (5 rows)?\n",
                "\n",
                "Assume the states 'OR' and 'WA' make up the Pacific Northwest."
            ],
            "metadata": {
                "azdata_cell_guid": "59849288-8fe3-4696-8879-aacf8274efd4"
            },
            "attachments": {}
        },
        {
            "cell_type": "code",
            "source": [
                "use SchoolSchedulingExample\r\n",
                "select * from Students\r\n",
                "where "
            ],
            "metadata": {
                "azdata_cell_guid": "0695a035-dec1-417c-9733-ce9f7e8409b8",
                "language": "sql"
            },
            "outputs": [],
            "execution_count": null
        },
        {
            "cell_type": "markdown",
            "source": [
                "Produce a list of the ID numbers for all *Associate Professors* who are employed full time (5 rows).\r\n",
                "Search for `Title` attribute vales of \"Associate Professor\" with the `Status` value \"Full time\"\r\n",
                ""
            ],
            "metadata": {
                "azdata_cell_guid": "3928b4b1-34f7-4a3b-9e6f-caec0ff82d4d"
            }
        },
        {
            "cell_type": "code",
            "source": [
                ""
            ],
            "metadata": {
                "azdata_cell_guid": "765de419-870a-409f-9f88-d39ff3c37aff",
                "language": "sql"
            },
            "outputs": [],
            "execution_count": null
        },
        {
            "cell_type": "markdown",
            "source": [
                "## IMDB Queries\r\n",
                "\r\n",
                "Find the year released and running time for all movies titled _Superman_.  Display them so that the longest movie is shown first.  (4 results, with the first released in 1978 and running for 143 minutes)"
            ],
            "metadata": {
                "azdata_cell_guid": "77641e82-6b33-4beb-b823-f4589be53870"
            },
            "attachments": {}
        },
        {
            "cell_type": "code",
            "source": [
                ""
            ],
            "metadata": {
                "azdata_cell_guid": "74ebf033-519e-44c0-9b0c-48ecb89d1b6d",
                "language": "sql"
            },
            "outputs": [],
            "execution_count": null
        },
        {
            "cell_type": "markdown",
            "source": [
                "Is *Politics* one of the valid genres?  (No)"
            ],
            "metadata": {
                "azdata_cell_guid": "f8257f9b-5b56-46f9-99ff-2d0f67179cab"
            }
        },
        {
            "cell_type": "code",
            "source": [
                ""
            ],
            "metadata": {
                "azdata_cell_guid": "7d840a3b-0b05-41a2-bbcb-6c147708abe5",
                "language": "sql"
            },
            "outputs": [],
            "execution_count": null
        },
        {
            "cell_type": "markdown",
            "source": [
                "What are the unique values for the `Category` attribute in the `Principals` table?"
            ],
            "metadata": {
                "azdata_cell_guid": "f80789a9-1cac-4ae7-bb9f-6746084a1b27"
            }
        },
        {
            "cell_type": "code",
            "source": [
                ""
            ],
            "metadata": {
                "azdata_cell_guid": "ae6a8a3b-70c4-4c93-861b-fce03ada7f26",
                "language": "sql"
            },
            "outputs": [],
            "execution_count": null
        },
        {
            "cell_type": "markdown",
            "source": [
                "### Preparation\r\n",
                "Before answering the next set of questions, execute the code cell below to create a view (a virtual table) named imdb.ActorMovies to combine the information from the People, Principals, and Movies tables.\r\n",
                "\r\n",
                "This code is also availabe in a file named `ActorMovies.sql` in the Google Shared Drive."
            ],
            "metadata": {
                "azdata_cell_guid": "68c3069b-1acb-4ab3-bc20-142954f14a50"
            }
        },
        {
            "cell_type": "code",
            "source": [
                "create or alter view imdb.ActorMovies as\r\n",
                "select People.*, Movies.*, CreditNumber, Category, Role, IsActor\r\n",
                "from imdb.People \r\n",
                "join imdb.Principals \r\n",
                "  on People.PersonID = Principals.PersonID\r\n",
                "join imdb.Movies\r\n",
                "  on Movies.TitleID = Principals.TitleID"
            ],
            "metadata": {
                "azdata_cell_guid": "678ef52a-d979-4cf8-9277-7ef7b0fa6384",
                "language": "sql"
            },
            "outputs": [],
            "execution_count": null
        },
        {
            "cell_type": "markdown",
            "source": [
                "Find the title, primary genre, and year released for the movies Florence Pugh has appeared in as an actress.  Show them in order from oldest to most recent.  (7 results, The Falling, a Drama, is shown first)"
            ],
            "metadata": {
                "azdata_cell_guid": "2ef72394-3520-422d-94f6-39fedc9cda0e"
            }
        },
        {
            "cell_type": "code",
            "source": [
                ""
            ],
            "metadata": {
                "azdata_cell_guid": "438e75ca-db4b-4294-9bea-0667c9a3840e",
                "language": "sql"
            },
            "outputs": [],
            "execution_count": null
        },
        {
            "cell_type": "markdown",
            "source": [
                "Find the names of the movies directed by Ridley Scott that were released in the range 2010-2019. Include the year of the movie in the results, and order them so the oldest movie is shown first.  \n",
                "\n",
                "Refer to the values of the `Category` attribute for `Principals` you found earlier to ensure Scott **directed** the movie. (7 results, with 2010 movie titled Robin Hood shown first)"
            ],
            "metadata": {
                "azdata_cell_guid": "649ae576-a631-4e1a-bb00-a3c25718f09c"
            },
            "attachments": {}
        },
        {
            "cell_type": "markdown",
            "source": [
                "Find the title, name of the star, and the star's role for all of the Star Wars movies.\n",
                "\n",
                "The Star Wars movies can be found by finding any movie whose title starts with eihter\n",
                "\n",
                "- the string Star Wars: Episode I  (that's a captial letter I, not the number 1)\n",
                "- the string Star Wars: Episode V\n",
                "\n",
                "The movie's star is the actor with CreditNumber equal to 1.\n",
                "\n",
                "Order the results in ascending order by the year released. (9 results, with the original 1977 Star Wars Episode IV shown first)."
            ],
            "metadata": {
                "azdata_cell_guid": "e1f3a8a7-3f22-44b2-9a5d-b0f5a8efa36b"
            },
            "attachments": {}
        },
        {
            "cell_type": "code",
            "source": [
                ""
            ],
            "metadata": {
                "azdata_cell_guid": "9b28781a-1068-48bd-afc0-7754294cc85f",
                "language": "sql"
            },
            "outputs": [],
            "execution_count": null
        },
        {
            "cell_type": "markdown",
            "source": [
                "What **PG** and **PG-13** comedies were released in 2019 that have been rated by at least 100 people and have an average IMDB rating of at least 7?  \r\n",
                "\r\n",
                "Show the movie title, how long the movie was, and the IMDB Rating.  Show all PG movies first, followed by PG-13 movies.  (6 results, with the PG movie The Farewell shown first)."
            ],
            "metadata": {
                "azdata_cell_guid": "f888c081-3da6-4920-be66-d41404b0d8c9"
            }
        },
        {
            "cell_type": "code",
            "source": [
                ""
            ],
            "metadata": {
                "azdata_cell_guid": "2c980592-c581-48ce-ac6f-c8c283903435",
                "language": "sql"
            },
            "outputs": [],
            "execution_count": null
        },
        {
            "cell_type": "markdown",
            "source": [
                "Find the title and year for all movies named *Hamlet* for which a role named *Hamlet* exists.  (5 rows)"
            ],
            "metadata": {
                "azdata_cell_guid": "26536d1e-acaa-4694-8f86-ce695f548c15"
            }
        },
        {
            "cell_type": "code",
            "source": [
                ""
            ],
            "metadata": {
                "azdata_cell_guid": "ad13f0aa-e256-4299-a0b3-736308890d62",
                "language": "sql"
            },
            "outputs": [],
            "execution_count": null
        },
        {
            "cell_type": "markdown",
            "source": [
                "What were the first 3 movies that Tom Cruise appeared in after 1986? (Rain Main, Cocktail, Born on the Fourth of July)."
            ],
            "metadata": {
                "azdata_cell_guid": "dd3d664b-9713-4e38-aa32-fdfa8f6909d5"
            }
        },
        {
            "cell_type": "code",
            "source": [
                ""
            ],
            "metadata": {
                "azdata_cell_guid": "6f16794b-86aa-4e84-aeea-7edb4ec99f1f",
                "language": "sql"
            },
            "outputs": [],
            "execution_count": null
        }
    ]
}