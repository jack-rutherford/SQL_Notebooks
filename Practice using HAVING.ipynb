{
    "metadata": {
        "kernelspec": {
            "name": "SQL",
            "display_name": "SQL",
            "language": "sql"
        },
        "language_info": {
            "name": "sql",
            "version": ""
        },
        "extensions": {
            "azuredatastudio": {
                "version": 1,
                "views": []
            }
        }
    },
    "nbformat_minor": 2,
    "nbformat": 4,
    "cells": [
        {
            "cell_type": "markdown",
            "source": [
                "1.  Find the names of characters (`Roles`) that appeared in more than 2 of the _Star Wars_ movies.  I've given you a common table expression to help you find the _Star Wars_ movies. You should replace the query after the CTE's definition. (6 rows, with _Luke Skywalker_ appearing in 4 of the movies)"
            ],
            "metadata": {
                "azdata_cell_guid": "52e7d77a-0b54-4881-b73a-581d7a0e2905"
            },
            "attachments": {}
        },
        {
            "cell_type": "code",
            "source": [
                "WITH StarWarsMovies as ( \r\n",
                "    select TitleID\r\n",
                "    from imdb.Movies\r\n",
                "    where Title like 'Star Wars: Episode I%' or Title like 'Star Wars: Episode V%'\r\n",
                ")\r\n",
                "select *\r\n",
                "from StarWarsMovies  "
            ],
            "metadata": {
                "azdata_cell_guid": "cb2c6598-65a4-4f85-9858-db1284a0738f",
                "language": "sql"
            },
            "outputs": [],
            "execution_count": null
        },
        {
            "cell_type": "markdown",
            "source": [
                "2\\. List genres and the number of movies made in the 1990s for genres having at least 1000 movies made during that time frame.  Order the results so that the genre having the most movies is shown first.  (7 rows, first is _Drama_ with **4798** movies)"
            ],
            "metadata": {
                "azdata_cell_guid": "857d1403-a824-4e7c-94c5-33eb03832e46"
            },
            "attachments": {}
        },
        {
            "cell_type": "code",
            "source": [
                ""
            ],
            "metadata": {
                "azdata_cell_guid": "62575fc2-b06b-40b2-adfd-240c3abf4bf2",
                "language": "sql"
            },
            "outputs": [],
            "execution_count": null
        },
        {
            "cell_type": "markdown",
            "source": [
                "3.  In the `BowlingLeagueExample` database, show the names and average of both the `RawScore` and `HandiCapScore` for all bowlers who have an average of at least **160**.  Give each of the average columns a meaningful name, and show the results order in descending order by the highest average `HandiCapScore`.  (9 rows, with _William Thompson_ at the top with a `RawScore` average of 166, and `HandiCapScore` average of 198)"
            ],
            "metadata": {
                "azdata_cell_guid": "559788d7-46c7-4a31-bed8-0cc1977b1e42"
            },
            "attachments": {}
        },
        {
            "cell_type": "code",
            "source": [
                ""
            ],
            "metadata": {
                "azdata_cell_guid": "c4ad710d-0ff6-4964-b7b1-fa08ad3915c8",
                "language": "sql"
            },
            "outputs": [],
            "execution_count": null
        },
        {
            "cell_type": "markdown",
            "source": [
                "4.  The average running time for all movies released in 2019 was **93 minutes**.\n",
                "\n",
                "Which genre of movies made in 2019 had an average running time that was greater 93 minutes?  Consider only the **primary genre** of the movie, and restrict the results to only include genres for which at least 100 movies were released.  Show the genre with the longest average running time first.\n",
                "\n",
                "(5 rows, with _Action_ shown first; 679 _Action_ movies were released with an average running time of 108 minutes)."
            ],
            "metadata": {
                "azdata_cell_guid": "13dbdfb4-8d03-4ac8-b95c-29c747e91c07"
            },
            "attachments": {}
        },
        {
            "cell_type": "code",
            "source": [
                ""
            ],
            "metadata": {
                "azdata_cell_guid": "d4fb6285-7d58-4d8b-8756-f24600fd6a24",
                "language": "sql"
            },
            "outputs": [],
            "execution_count": null
        },
        {
            "cell_type": "markdown",
            "source": [
                "5.  Repeat the previous question, except don't \"hard code\" the value 93 into the query.  Instead, calculate the overall average in a common table expression, the average by genre for genres having at least 100 movies in a second common table expression, and then join those two CTEs using an **inequality**.  You won't have to use `HAVING` in the non-CTE `SELECT` statement to find your final answer."
            ],
            "metadata": {
                "azdata_cell_guid": "7e5b4508-ddb6-4b1c-a8e2-0f718c16a537"
            },
            "attachments": {}
        },
        {
            "cell_type": "code",
            "source": [
                ""
            ],
            "metadata": {
                "azdata_cell_guid": "376b7e53-4cf7-4d65-9763-e013e0429fff",
                "language": "sql"
            },
            "outputs": [],
            "execution_count": null
        },
        {
            "cell_type": "markdown",
            "source": [
                "6\\. For each member of the _Dolphins_ and _Sharks_, list the team name, bowler name, and the number of games with a `RawScore` over **170** that bowler has bowled.  Be sure to include any team members who haven't had any games over 170.  Show the results in order by team name, and within a team, show the bowlers with the most games over 170 first."
            ],
            "metadata": {
                "azdata_cell_guid": "6c1825c8-0749-4e22-97e5-3377bd4bb413"
            },
            "attachments": {}
        },
        {
            "cell_type": "code",
            "source": [
                ""
            ],
            "metadata": {
                "azdata_cell_guid": "83b7d15b-11bc-47da-a5f1-3f427b56618d",
                "language": "sql"
            },
            "outputs": [],
            "execution_count": null
        }
    ]
}