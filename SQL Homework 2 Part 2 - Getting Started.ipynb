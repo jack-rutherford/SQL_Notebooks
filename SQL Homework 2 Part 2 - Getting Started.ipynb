{
    "metadata": {
        "kernelspec": {
            "name": "SQL",
            "display_name": "SQL",
            "language": "sql"
        },
        "language_info": {
            "name": "sql",
            "version": ""
        },
        "extensions": {
            "azuredatastudio": {
                "version": 1,
                "views": []
            }
        }
    },
    "nbformat_minor": 2,
    "nbformat": 4,
    "cells": [
        {
            "cell_type": "markdown",
            "source": [
                "# Getting Started"
            ],
            "metadata": {
                "azdata_cell_guid": "2493680c-64f2-49d0-a141-6cd39a20129c"
            }
        },
        {
            "cell_type": "markdown",
            "source": [
                "## Create tables\n",
                "\n",
                "Execute the code in the cells below to create a schema named `SalesOrdersExample` and new tables named `SalesOrdersExample.CustomersHW5`, `SalesOrdersExample.OrdersHW5`, and `SalesOrdersExample.Order_DetailsHW5`.\n",
                "\n",
                "The code in these cells should be executed only once, not every time you work on this homework assignment."
            ],
            "metadata": {
                "azdata_cell_guid": "8cc8ad38-ccac-4bcd-9ff1-b51b5db97d57"
            },
            "attachments": {}
        },
        {
            "cell_type": "code",
            "source": [
                "create schema SalesOrdersExample;"
            ],
            "metadata": {
                "language": "sql",
                "azdata_cell_guid": "9d88afbf-7f25-44cd-8223-2d8e6b58375a"
            },
            "outputs": [
                {
                    "output_type": "display_data",
                    "data": {
                        "text/html": "Commands completed successfully."
                    },
                    "metadata": {}
                },
                {
                    "output_type": "display_data",
                    "data": {
                        "text/html": "Total execution time: 00:00:00.022"
                    },
                    "metadata": {}
                }
            ],
            "execution_count": 1
        },
        {
            "cell_type": "code",
            "source": [
                "use [jack.rutherford];\n",
                "\n",
                "CREATE TABLE SalesOrdersExample.CustomersHW (\n",
                "\tCustomerID int NOT NULL ,\n",
                "\tCustFirstName nvarchar (25) NULL ,\n",
                "\tCustLastName nvarchar (25) NULL ,\n",
                "\tCustStreetAddress nvarchar (50) NULL ,\n",
                "\tCustCity nvarchar (30) NULL ,\n",
                "\tCustState nvarchar (2) NULL ,\n",
                "\tCustZipCode nvarchar (10) NULL ,\n",
                "\tCustAreaCode smallint NULL ,\n",
                "\tCustPhoneNumber nvarchar (8) NULL \n",
                ");"
            ],
            "metadata": {
                "azdata_cell_guid": "cb4ac933-0736-4d2a-8667-391c1d07e834",
                "language": "sql"
            },
            "outputs": [
                {
                    "output_type": "display_data",
                    "data": {
                        "text/html": "Commands completed successfully."
                    },
                    "metadata": {}
                },
                {
                    "output_type": "display_data",
                    "data": {
                        "text/html": "Total execution time: 00:00:00.010"
                    },
                    "metadata": {}
                }
            ],
            "execution_count": 6
        },
        {
            "cell_type": "code",
            "source": [
                "use [jack.rutherford];\n",
                "CREATE TABLE SalesOrdersExample.OrdersHW (\n",
                "\tOrderNumber int NOT NULL ,\n",
                "\tOrderDate date NULL ,\n",
                "\tShipDate date NULL ,\n",
                "\tCustomerID int NULL ,\n",
                "\tEmployeeID int NULL \n",
                ");"
            ],
            "metadata": {
                "azdata_cell_guid": "47844d7e-901a-4099-b576-56cbbe9f4432",
                "language": "sql"
            },
            "outputs": [
                {
                    "output_type": "display_data",
                    "data": {
                        "text/html": "Commands completed successfully."
                    },
                    "metadata": {}
                },
                {
                    "output_type": "display_data",
                    "data": {
                        "text/html": "Total execution time: 00:00:00.012"
                    },
                    "metadata": {}
                }
            ],
            "execution_count": 7
        },
        {
            "cell_type": "code",
            "source": [
                "use [jack.rutherford];\n",
                "\n",
                "CREATE TABLE SalesOrdersExample.Order_DetailsHW (\n",
                "\tOrderNumber int NOT NULL ,\n",
                "\tProductNumber int NOT NULL ,\n",
                "\tQuotedPrice money NULL ,\n",
                "\tQuantityOrdered smallint NULL \n",
                ");"
            ],
            "metadata": {
                "azdata_cell_guid": "d487a443-2a9c-4f7b-a510-5fae7e5748a6",
                "language": "sql"
            },
            "outputs": [
                {
                    "output_type": "display_data",
                    "data": {
                        "text/html": "Commands completed successfully."
                    },
                    "metadata": {}
                },
                {
                    "output_type": "display_data",
                    "data": {
                        "text/html": "Total execution time: 00:00:00.022"
                    },
                    "metadata": {}
                }
            ],
            "execution_count": 2
        },
        {
            "cell_type": "markdown",
            "source": [
                "Remember that Azure Data Studio's Intellisense doesn't recognize newly created objects until after a restart.  So, save your work and restart before moving on if you want to remove any error indicators."
            ],
            "metadata": {
                "azdata_cell_guid": "b18d29f0-b38d-419f-9387-44eb569db5e2"
            },
            "attachments": {}
        },
        {
            "cell_type": "markdown",
            "source": [
                "#  Insert Data\n",
                "Execute the code in the cell below to insert the data from the original `Customers`/`Orders`/`Order_Details` tables into the  `CustomersHW5`/`OrdersHW5`/`Order_DetailsHW5` tables."
            ],
            "metadata": {
                "azdata_cell_guid": "ab433164-a4c0-4837-a3e8-295f268a26ad"
            },
            "attachments": {}
        },
        {
            "cell_type": "code",
            "source": [
                "use [jack.rutherford];\r\n",
                "delete from SalesOrdersExample.Order_DetailsHW\r\n",
                "delete from SalesOrdersExample.OrdersHW\r\n",
                "delete from SalesOrdersExample.CustomersHW\r\n",
                "GO\r\n",
                "\r\n",
                "insert into SalesOrdersExample.CustomersHW\r\n",
                "select *\r\n",
                "from SalesOrdersExample..Customers\r\n",
                "\r\n",
                "insert into SalesOrdersExample.OrdersHW\r\n",
                "select *\r\n",
                "from SalesOrdersExample..Orders\r\n",
                "\r\n",
                "insert into SalesOrdersExample.Order_DetailsHW\r\n",
                "select *\r\n",
                "from SalesOrdersExample..Order_Details"
            ],
            "metadata": {
                "azdata_cell_guid": "9b07fafd-ce05-46c1-bfac-c297f16155d7",
                "language": "sql"
            },
            "outputs": [
                {
                    "output_type": "display_data",
                    "data": {
                        "text/html": "(3980 rows affected)"
                    },
                    "metadata": {}
                },
                {
                    "output_type": "display_data",
                    "data": {
                        "text/html": "(948 rows affected)"
                    },
                    "metadata": {}
                },
                {
                    "output_type": "display_data",
                    "data": {
                        "text/html": "(30 rows affected)"
                    },
                    "metadata": {}
                },
                {
                    "output_type": "display_data",
                    "data": {
                        "text/html": "(28 rows affected)"
                    },
                    "metadata": {}
                },
                {
                    "output_type": "display_data",
                    "data": {
                        "text/html": "(944 rows affected)"
                    },
                    "metadata": {}
                },
                {
                    "output_type": "display_data",
                    "data": {
                        "text/html": "(3973 rows affected)"
                    },
                    "metadata": {}
                },
                {
                    "output_type": "display_data",
                    "data": {
                        "text/html": "Total execution time: 00:00:00.217"
                    },
                    "metadata": {}
                }
            ],
            "execution_count": 2
        },
        {
            "cell_type": "code",
            "source": [
                "use [jack.rutherford];\r\n",
                "\r\n",
                "CREATE TABLE SalesOrdersExample.ProductsHW (    \r\n",
                "    ProductNumber int NOT NULL primary key,\r\n",
                "    ProductName nvarchar(50) null,\r\n",
                "    ProductDescription nvarchar(100) null,\r\n",
                "    RetailPrice money null,\r\n",
                "    QuantityOnHand smallint null,\r\n",
                "    CategoryID int null\r\n",
                ");\r\n",
                "\r\n",
                "insert into SalesOrdersExample.ProductsHW\r\n",
                "select *\r\n",
                "from SalesOrdersExample..Products"
            ],
            "metadata": {
                "language": "sql",
                "azdata_cell_guid": "0c7d499e-93ea-4058-88ed-0f1aac3490b9"
            },
            "outputs": [
                {
                    "output_type": "error",
                    "evalue": "Msg 2714, Level 16, State 6, Line 3\r\nThere is already an object named 'ProductsHW' in the database.",
                    "ename": "",
                    "traceback": []
                },
                {
                    "output_type": "display_data",
                    "data": {
                        "text/html": "Total execution time: 00:00:00.095"
                    },
                    "metadata": {}
                }
            ],
            "execution_count": 1
        },
        {
            "cell_type": "markdown",
            "source": [
                "## Starting over\n",
                "\n",
                "If you make a mistake on any of the `insert` statements made as part of the homework, you can re-execute the cell above."
            ],
            "metadata": {
                "azdata_cell_guid": "cebb31dd-b82d-4e1b-8102-7105ed756406"
            },
            "attachments": {}
        }
    ]
}