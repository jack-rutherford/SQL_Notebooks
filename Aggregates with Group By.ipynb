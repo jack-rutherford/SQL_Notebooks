{
    "metadata": {
        "kernelspec": {
            "name": "SQL",
            "display_name": "SQL",
            "language": "sql"
        },
        "language_info": {
            "name": "sql",
            "version": ""
        },
        "extensions": {
            "azuredatastudio": {
                "version": 1,
                "views": []
            }
        }
    },
    "nbformat_minor": 2,
    "nbformat": 4,
    "cells": [
        {
            "cell_type": "markdown",
            "source": [
                "These are practice problems from the textbook, pages 501-503."
            ],
            "metadata": {
                "azdata_cell_guid": "bbf6143c-64c3-4b78-b5af-cfe92354f4df"
            },
            "attachments": {}
        },
        {
            "cell_type": "code",
            "source": [
                "use[jack.rutherford];\r\n",
                "select YearReleased, count(*) as [Movies in year], avg(RunningTimeInMinutes) as [Average Running Time]\r\n",
                "from imdb.Movies\r\n",
                "where YearReleased >= 2002\r\n",
                "group by YearReleased\r\n",
                "order by YearReleased desc"
            ],
            "metadata": {
                "language": "sql",
                "azdata_cell_guid": "85222e34-a309-4063-addd-c8913d248fcd"
            },
            "outputs": [
                {
                    "output_type": "display_data",
                    "data": {
                        "text/html": "Warning: Null value is eliminated by an aggregate or other SET operation."
                    },
                    "metadata": {}
                },
                {
                    "output_type": "display_data",
                    "data": {
                        "text/html": "(27 rows affected)"
                    },
                    "metadata": {}
                },
                {
                    "output_type": "display_data",
                    "data": {
                        "text/html": "Total execution time: 00:00:00.052"
                    },
                    "metadata": {}
                },
                {
                    "output_type": "execute_result",
                    "metadata": {},
                    "execution_count": 10,
                    "data": {
                        "application/vnd.dataresource+json": {
                            "schema": {
                                "fields": [
                                    {
                                        "name": "YearReleased"
                                    },
                                    {
                                        "name": "Movies in year"
                                    },
                                    {
                                        "name": "Average Running Time"
                                    }
                                ]
                            },
                            "data": [
                                {
                                    "YearReleased": "2028",
                                    "Movies in year": "2",
                                    "Average Running Time": "NULL"
                                },
                                {
                                    "YearReleased": "2027",
                                    "Movies in year": "2",
                                    "Average Running Time": "NULL"
                                },
                                {
                                    "YearReleased": "2026",
                                    "Movies in year": "1",
                                    "Average Running Time": "NULL"
                                },
                                {
                                    "YearReleased": "2025",
                                    "Movies in year": "6",
                                    "Average Running Time": "NULL"
                                },
                                {
                                    "YearReleased": "2024",
                                    "Movies in year": "20",
                                    "Average Running Time": "120"
                                },
                                {
                                    "YearReleased": "2023",
                                    "Movies in year": "95",
                                    "Average Running Time": "105"
                                },
                                {
                                    "YearReleased": "2022",
                                    "Movies in year": "995",
                                    "Average Running Time": "96"
                                },
                                {
                                    "YearReleased": "2021",
                                    "Movies in year": "5010",
                                    "Average Running Time": "97"
                                },
                                {
                                    "YearReleased": "2020",
                                    "Movies in year": "6851",
                                    "Average Running Time": "91"
                                },
                                {
                                    "YearReleased": "2019",
                                    "Movies in year": "7276",
                                    "Average Running Time": "93"
                                },
                                {
                                    "YearReleased": "2018",
                                    "Movies in year": "7213",
                                    "Average Running Time": "92"
                                },
                                {
                                    "YearReleased": "2017",
                                    "Movies in year": "7019",
                                    "Average Running Time": "90"
                                },
                                {
                                    "YearReleased": "2016",
                                    "Movies in year": "6576",
                                    "Average Running Time": "89"
                                },
                                {
                                    "YearReleased": "2015",
                                    "Movies in year": "6052",
                                    "Average Running Time": "88"
                                },
                                {
                                    "YearReleased": "2014",
                                    "Movies in year": "6108",
                                    "Average Running Time": "88"
                                },
                                {
                                    "YearReleased": "2013",
                                    "Movies in year": "5869",
                                    "Average Running Time": "88"
                                },
                                {
                                    "YearReleased": "2012",
                                    "Movies in year": "5498",
                                    "Average Running Time": "98"
                                },
                                {
                                    "YearReleased": "2011",
                                    "Movies in year": "5150",
                                    "Average Running Time": "87"
                                },
                                {
                                    "YearReleased": "2010",
                                    "Movies in year": "4785",
                                    "Average Running Time": "87"
                                },
                                {
                                    "YearReleased": "2009",
                                    "Movies in year": "4754",
                                    "Average Running Time": "87"
                                },
                                {
                                    "YearReleased": "2008",
                                    "Movies in year": "3916",
                                    "Average Running Time": "87"
                                },
                                {
                                    "YearReleased": "2007",
                                    "Movies in year": "3293",
                                    "Average Running Time": "89"
                                },
                                {
                                    "YearReleased": "2006",
                                    "Movies in year": "2999",
                                    "Average Running Time": "89"
                                },
                                {
                                    "YearReleased": "2005",
                                    "Movies in year": "2656",
                                    "Average Running Time": "90"
                                },
                                {
                                    "YearReleased": "2004",
                                    "Movies in year": "2250",
                                    "Average Running Time": "91"
                                },
                                {
                                    "YearReleased": "2003",
                                    "Movies in year": "1971",
                                    "Average Running Time": "90"
                                },
                                {
                                    "YearReleased": "2002",
                                    "Movies in year": "1951",
                                    "Average Running Time": "90"
                                }
                            ]
                        },
                        "text/html": [
                            "<table>",
                            "<tr><th>YearReleased</th><th>Movies in year</th><th>Average Running Time</th></tr>",
                            "<tr><td>2028</td><td>2</td><td>NULL</td></tr>",
                            "<tr><td>2027</td><td>2</td><td>NULL</td></tr>",
                            "<tr><td>2026</td><td>1</td><td>NULL</td></tr>",
                            "<tr><td>2025</td><td>6</td><td>NULL</td></tr>",
                            "<tr><td>2024</td><td>20</td><td>120</td></tr>",
                            "<tr><td>2023</td><td>95</td><td>105</td></tr>",
                            "<tr><td>2022</td><td>995</td><td>96</td></tr>",
                            "<tr><td>2021</td><td>5010</td><td>97</td></tr>",
                            "<tr><td>2020</td><td>6851</td><td>91</td></tr>",
                            "<tr><td>2019</td><td>7276</td><td>93</td></tr>",
                            "<tr><td>2018</td><td>7213</td><td>92</td></tr>",
                            "<tr><td>2017</td><td>7019</td><td>90</td></tr>",
                            "<tr><td>2016</td><td>6576</td><td>89</td></tr>",
                            "<tr><td>2015</td><td>6052</td><td>88</td></tr>",
                            "<tr><td>2014</td><td>6108</td><td>88</td></tr>",
                            "<tr><td>2013</td><td>5869</td><td>88</td></tr>",
                            "<tr><td>2012</td><td>5498</td><td>98</td></tr>",
                            "<tr><td>2011</td><td>5150</td><td>87</td></tr>",
                            "<tr><td>2010</td><td>4785</td><td>87</td></tr>",
                            "<tr><td>2009</td><td>4754</td><td>87</td></tr>",
                            "<tr><td>2008</td><td>3916</td><td>87</td></tr>",
                            "<tr><td>2007</td><td>3293</td><td>89</td></tr>",
                            "<tr><td>2006</td><td>2999</td><td>89</td></tr>",
                            "<tr><td>2005</td><td>2656</td><td>90</td></tr>",
                            "<tr><td>2004</td><td>2250</td><td>91</td></tr>",
                            "<tr><td>2003</td><td>1971</td><td>90</td></tr>",
                            "<tr><td>2002</td><td>1951</td><td>90</td></tr>",
                            "</table>"
                        ]
                    }
                }
            ],
            "execution_count": 10
        },
        {
            "cell_type": "markdown",
            "source": [
                "**SalesOrdersExample database**\n",
                "\n",
                "1.  Show me each vendor, and the average by vendor of the number of days to deliver products.  (10 rows)."
            ],
            "metadata": {
                "azdata_cell_guid": "5facd606-2585-432a-9cdb-374bd0c1357b"
            },
            "attachments": {}
        },
        {
            "cell_type": "code",
            "source": [
                "use SalesOrdersExample\r\n",
                "select VendName, AVG(DaysToDeliver) [Average Delivery Day]\r\n",
                "from Vendors\r\n",
                "JOIN Product_Vendors\r\n",
                "  on Product_Vendors.VendorID = Vendors.VendorID\r\n",
                "GROUP BY Vendors.VendorID, VendName\r\n",
                ""
            ],
            "metadata": {
                "azdata_cell_guid": "1b439d05-24b7-4bcf-a428-33015b0b69ab",
                "language": "sql",
                "tags": []
            },
            "outputs": [
                {
                    "output_type": "display_data",
                    "data": {
                        "text/html": "(10 rows affected)"
                    },
                    "metadata": {}
                },
                {
                    "output_type": "display_data",
                    "data": {
                        "text/html": "Total execution time: 00:00:00.035"
                    },
                    "metadata": {}
                },
                {
                    "output_type": "execute_result",
                    "metadata": {},
                    "execution_count": 2,
                    "data": {
                        "application/vnd.dataresource+json": {
                            "schema": {
                                "fields": [
                                    {
                                        "name": "VendName"
                                    },
                                    {
                                        "name": "Average Delivery Day"
                                    }
                                ]
                            },
                            "data": [
                                {
                                    "VendName": "Shinoman, Incorporated",
                                    "Average Delivery Day": "2"
                                },
                                {
                                    "VendName": "Viscount",
                                    "Average Delivery Day": "3"
                                },
                                {
                                    "VendName": "Nikoma of America",
                                    "Average Delivery Day": "4"
                                },
                                {
                                    "VendName": "ProFormance",
                                    "Average Delivery Day": "6"
                                },
                                {
                                    "VendName": "Kona, Incorporated",
                                    "Average Delivery Day": "8"
                                },
                                {
                                    "VendName": "Big Sky Mountain Bikes",
                                    "Average Delivery Day": "10"
                                },
                                {
                                    "VendName": "Dog Ear",
                                    "Average Delivery Day": "10"
                                },
                                {
                                    "VendName": "Sun Sports Suppliers",
                                    "Average Delivery Day": "11"
                                },
                                {
                                    "VendName": "Lone Star Bike Supply",
                                    "Average Delivery Day": "10"
                                },
                                {
                                    "VendName": "Armadillo Brand",
                                    "Average Delivery Day": "13"
                                }
                            ]
                        },
                        "text/html": [
                            "<table>",
                            "<tr><th>VendName</th><th>Average Delivery Day</th></tr>",
                            "<tr><td>Shinoman, Incorporated</td><td>2</td></tr>",
                            "<tr><td>Viscount</td><td>3</td></tr>",
                            "<tr><td>Nikoma of America</td><td>4</td></tr>",
                            "<tr><td>ProFormance</td><td>6</td></tr>",
                            "<tr><td>Kona, Incorporated</td><td>8</td></tr>",
                            "<tr><td>Big Sky Mountain Bikes</td><td>10</td></tr>",
                            "<tr><td>Dog Ear</td><td>10</td></tr>",
                            "<tr><td>Sun Sports Suppliers</td><td>11</td></tr>",
                            "<tr><td>Lone Star Bike Supply</td><td>10</td></tr>",
                            "<tr><td>Armadillo Brand</td><td>13</td></tr>",
                            "</table>"
                        ]
                    }
                }
            ],
            "execution_count": 2
        },
        {
            "cell_type": "markdown",
            "source": [
                "2.  Display for each product the product name and total sales.  Use the `QuotedPrice` to compute the total price, and be sure to multiply that price by the `QuantityOrdered` column.  (38 rows)"
            ],
            "metadata": {
                "azdata_cell_guid": "be47fc2b-8a34-4398-9c41-ae456456b6ca"
            },
            "attachments": {}
        },
        {
            "cell_type": "code",
            "source": [
                "use SalesOrdersExample\r\n",
                "SELECT ProductName, SUM(Order_Details.QuotedPrice*Order_Details.QuantityOrdered) [Total Sales]\r\n",
                "from Products\r\n",
                "JOIN Order_Details\r\n",
                "  on Order_Details.ProductNumber = Products.ProductNumber\r\n",
                "GROUP by Products.ProductNumber, ProductName\r\n",
                ""
            ],
            "metadata": {
                "azdata_cell_guid": "ae563ff0-65b8-485d-864c-f53d248fb8bd",
                "language": "sql",
                "tags": []
            },
            "outputs": [
                {
                    "output_type": "display_data",
                    "data": {
                        "text/html": "(38 rows affected)"
                    },
                    "metadata": {}
                },
                {
                    "output_type": "display_data",
                    "data": {
                        "text/html": "Total execution time: 00:00:00.032"
                    },
                    "metadata": {}
                },
                {
                    "output_type": "execute_result",
                    "metadata": {},
                    "execution_count": 3,
                    "data": {
                        "application/vnd.dataresource+json": {
                            "schema": {
                                "fields": [
                                    {
                                        "name": "ProductName"
                                    },
                                    {
                                        "name": "Total Sales"
                                    }
                                ]
                            },
                            "data": [
                                {
                                    "ProductName": "Ultra-2K Competition Tire",
                                    "Total Sales": "10747.74"
                                },
                                {
                                    "ProductName": "Nikoma Lok-Tight U-Lock",
                                    "Total Sales": "12488.85"
                                },
                                {
                                    "ProductName": "ProFormance Toe-Klips 2G",
                                    "Total Sales": "777.62"
                                },
                                {
                                    "ProductName": "Dog Ear Cyclecomputer",
                                    "Total Sales": "2238.75"
                                },
                                {
                                    "ProductName": "Kool-Breeze Rocket Top Jersey",
                                    "Total Sales": "9528.96"
                                },
                                {
                                    "ProductName": "Glide-O-Matic Cycling Helmet",
                                    "Total Sales": "56286.25"
                                },
                                {
                                    "ProductName": "Shinoman 105 SC Brakes",
                                    "Total Sales": "2656.30"
                                },
                                {
                                    "ProductName": "HP Deluxe Panniers",
                                    "Total Sales": "15984.54"
                                },
                                {
                                    "ProductName": "Viscount Mountain Bike",
                                    "Total Sales": "400678.65"
                                },
                                {
                                    "ProductName": "Dog Ear Aero-Flow Floor Pump",
                                    "Total Sales": "36029.40"
                                },
                                {
                                    "ProductName": "X-Pro All Weather Tires",
                                    "Total Sales": "6911.04"
                                },
                                {
                                    "ProductName": "Cycle-Doc Pro Repair Stand",
                                    "Total Sales": "62157.04"
                                },
                                {
                                    "ProductName": "Viscount C-500 Wireless Bike Computer",
                                    "Total Sales": "18046.70"
                                },
                                {
                                    "ProductName": "Trek 9000 Mountain Bike",
                                    "Total Sales": "2192616.00"
                                },
                                {
                                    "ProductName": "StaDry Cycling Pants",
                                    "Total Sales": "17468.73"
                                },
                                {
                                    "ProductName": "Clear Shade 85-T Glasses",
                                    "Total Sales": "14581.35"
                                },
                                {
                                    "ProductName": "Viscount CardioSport Sport Watch",
                                    "Total Sales": "27954.43"
                                },
                                {
                                    "ProductName": "Viscount Microshell Helmet",
                                    "Total Sales": "4219.20"
                                },
                                {
                                    "ProductName": "Viscount Tru-Beat Heart Transmitter",
                                    "Total Sales": "17720.41"
                                },
                                {
                                    "ProductName": "King Cobra Helmet",
                                    "Total Sales": "57572.41"
                                },
                                {
                                    "ProductName": "Cosmic Elite Road Warrior Wheels",
                                    "Total Sales": "63803.85"
                                },
                                {
                                    "ProductName": "Shinoman Dura-Ace Headset",
                                    "Total Sales": "25254.15"
                                },
                                {
                                    "ProductName": "Dog Ear Helmet Mount Mirrors",
                                    "Total Sales": "767.73"
                                },
                                {
                                    "ProductName": "Pro-Sport 'Dillo Shades",
                                    "Total Sales": "20336.82"
                                },
                                {
                                    "ProductName": "Road Warrior Hitch Pack",
                                    "Total Sales": "64277.50"
                                },
                                {
                                    "ProductName": "Wonder Wool Cycle Socks",
                                    "Total Sales": "6326.24"
                                },
                                {
                                    "ProductName": "ProFormance ATB All-Terrain Pedal",
                                    "Total Sales": "14792.96"
                                },
                                {
                                    "ProductName": "Eagle FS-3 Mountain Bike",
                                    "Total Sales": "124002.00"
                                },
                                {
                                    "ProductName": "Shinoman Deluxe TX-30 Pedal",
                                    "Total Sales": "19885.50"
                                },
                                {
                                    "ProductName": "True Grip Competition Gloves",
                                    "Total Sales": "7465.70"
                                },
                                {
                                    "ProductName": "Ultimate Export 2G Car Rack",
                                    "Total Sales": "64728.00"
                                },
                                {
                                    "ProductName": "TransPort Bicycle Rack",
                                    "Total Sales": "9442.44"
                                },
                                {
                                    "ProductName": "GT RTS-2 Mountain Bike",
                                    "Total Sales": "1109542.50"
                                },
                                {
                                    "ProductName": "Dog Ear Monster Grip Gloves",
                                    "Total Sales": "2779.50"
                                },
                                {
                                    "ProductName": "Turbo Twin Tires",
                                    "Total Sales": "7590.46"
                                },
                                {
                                    "ProductName": "Eagle SA-120 Clipless Pedals",
                                    "Total Sales": "41613.90"
                                },
                                {
                                    "ProductName": "AeroFlo ATB Wheels",
                                    "Total Sales": "75458.25"
                                },
                                {
                                    "ProductName": "Kryptonite Advanced 2000 U-Lock",
                                    "Total Sales": "5999.50"
                                }
                            ]
                        },
                        "text/html": [
                            "<table>",
                            "<tr><th>ProductName</th><th>Total Sales</th></tr>",
                            "<tr><td>Ultra-2K Competition Tire</td><td>10747.74</td></tr>",
                            "<tr><td>Nikoma Lok-Tight U-Lock</td><td>12488.85</td></tr>",
                            "<tr><td>ProFormance Toe-Klips 2G</td><td>777.62</td></tr>",
                            "<tr><td>Dog Ear Cyclecomputer</td><td>2238.75</td></tr>",
                            "<tr><td>Kool-Breeze Rocket Top Jersey</td><td>9528.96</td></tr>",
                            "<tr><td>Glide-O-Matic Cycling Helmet</td><td>56286.25</td></tr>",
                            "<tr><td>Shinoman 105 SC Brakes</td><td>2656.30</td></tr>",
                            "<tr><td>HP Deluxe Panniers</td><td>15984.54</td></tr>",
                            "<tr><td>Viscount Mountain Bike</td><td>400678.65</td></tr>",
                            "<tr><td>Dog Ear Aero-Flow Floor Pump</td><td>36029.40</td></tr>",
                            "<tr><td>X-Pro All Weather Tires</td><td>6911.04</td></tr>",
                            "<tr><td>Cycle-Doc Pro Repair Stand</td><td>62157.04</td></tr>",
                            "<tr><td>Viscount C-500 Wireless Bike Computer</td><td>18046.70</td></tr>",
                            "<tr><td>Trek 9000 Mountain Bike</td><td>2192616.00</td></tr>",
                            "<tr><td>StaDry Cycling Pants</td><td>17468.73</td></tr>",
                            "<tr><td>Clear Shade 85-T Glasses</td><td>14581.35</td></tr>",
                            "<tr><td>Viscount CardioSport Sport Watch</td><td>27954.43</td></tr>",
                            "<tr><td>Viscount Microshell Helmet</td><td>4219.20</td></tr>",
                            "<tr><td>Viscount Tru-Beat Heart Transmitter</td><td>17720.41</td></tr>",
                            "<tr><td>King Cobra Helmet</td><td>57572.41</td></tr>",
                            "<tr><td>Cosmic Elite Road Warrior Wheels</td><td>63803.85</td></tr>",
                            "<tr><td>Shinoman Dura-Ace Headset</td><td>25254.15</td></tr>",
                            "<tr><td>Dog Ear Helmet Mount Mirrors</td><td>767.73</td></tr>",
                            "<tr><td>Pro-Sport &#39;Dillo Shades</td><td>20336.82</td></tr>",
                            "<tr><td>Road Warrior Hitch Pack</td><td>64277.50</td></tr>",
                            "<tr><td>Wonder Wool Cycle Socks</td><td>6326.24</td></tr>",
                            "<tr><td>ProFormance ATB All-Terrain Pedal</td><td>14792.96</td></tr>",
                            "<tr><td>Eagle FS-3 Mountain Bike</td><td>124002.00</td></tr>",
                            "<tr><td>Shinoman Deluxe TX-30 Pedal</td><td>19885.50</td></tr>",
                            "<tr><td>True Grip Competition Gloves</td><td>7465.70</td></tr>",
                            "<tr><td>Ultimate Export 2G Car Rack</td><td>64728.00</td></tr>",
                            "<tr><td>TransPort Bicycle Rack</td><td>9442.44</td></tr>",
                            "<tr><td>GT RTS-2 Mountain Bike</td><td>1109542.50</td></tr>",
                            "<tr><td>Dog Ear Monster Grip Gloves</td><td>2779.50</td></tr>",
                            "<tr><td>Turbo Twin Tires</td><td>7590.46</td></tr>",
                            "<tr><td>Eagle SA-120 Clipless Pedals</td><td>41613.90</td></tr>",
                            "<tr><td>AeroFlo ATB Wheels</td><td>75458.25</td></tr>",
                            "<tr><td>Kryptonite Advanced 2000 U-Lock</td><td>5999.50</td></tr>",
                            "</table>"
                        ]
                    }
                }
            ],
            "execution_count": 3
        },
        {
            "cell_type": "markdown",
            "source": [
                "3.  List all vendors and the number of products sold by each.  This question doesn't involve **orders** of the products, just that the vendor **sells** the product.  (10 rows)"
            ],
            "metadata": {
                "azdata_cell_guid": "97be984b-e345-4b50-b479-33d7bcbeb7e6"
            },
            "attachments": {}
        },
        {
            "cell_type": "code",
            "source": [
                "use SalesOrdersExample\r\n",
                "SELECT *\r\n",
                "FROM Vendors\r\n",
                "JOIN Product_Vendors\r\n",
                "  on Product_Vendors.VendorID = Vendors.VendorID\r\n",
                "JOIN Products\r\n",
                "  on Products.ProductNumber = Product_Vendors.ProductNumber\r\n",
                ""
            ],
            "metadata": {
                "azdata_cell_guid": "3cea468c-0f8a-4ff8-88e1-de775ec31b24",
                "language": "sql",
                "tags": []
            },
            "outputs": [
                {
                    "output_type": "display_data",
                    "data": {
                        "text/html": "(90 rows affected)"
                    },
                    "metadata": {}
                },
                {
                    "output_type": "display_data",
                    "data": {
                        "text/html": "Total execution time: 00:00:00.031"
                    },
                    "metadata": {}
                },
                {
                    "output_type": "execute_result",
                    "metadata": {},
                    "execution_count": 4,
                    "data": {
                        "application/vnd.dataresource+json": {
                            "schema": {
                                "fields": [
                                    {
                                        "name": "VendorID"
                                    },
                                    {
                                        "name": "VendName"
                                    },
                                    {
                                        "name": "VendStreetAddress"
                                    },
                                    {
                                        "name": "VendCity"
                                    },
                                    {
                                        "name": "VendState"
                                    },
                                    {
                                        "name": "VendZipCode"
                                    },
                                    {
                                        "name": "VendPhoneNumber"
                                    },
                                    {
                                        "name": "VendFaxNumber"
                                    },
                                    {
                                        "name": "VendWebPage"
                                    },
                                    {
                                        "name": "VendEMailAddress"
                                    },
                                    {
                                        "name": "ProductNumber"
                                    },
                                    {
                                        "name": "VendorID"
                                    },
                                    {
                                        "name": "WholesalePrice"
                                    },
                                    {
                                        "name": "DaysToDeliver"
                                    },
                                    {
                                        "name": "ProductNumber"
                                    },
                                    {
                                        "name": "ProductName"
                                    },
                                    {
                                        "name": "ProductDescription"
                                    },
                                    {
                                        "name": "RetailPrice"
                                    },
                                    {
                                        "name": "QuantityOnHand"
                                    },
                                    {
                                        "name": "CategoryID"
                                    }
                                ]
                            },
                            "data": [
                                {
                                    "VendorID": "4",
                                    "VendName": "ProFormance",
                                    "VendStreetAddress": "29 N. Quail St.",
                                    "VendCity": "Albany",
                                    "VendState": "NY",
                                    "VendZipCode": "12012",
                                    "VendPhoneNumber": "(518) 444-1234",
                                    "VendFaxNumber": "(518) 444-1235",
                                    "VendWebPage": "#http://www.ProFormBikes.com/#",
                                    "VendEMailAddress": "Sales@ProFormBikes.com",
                                    "ProductNumber": "1",
                                    "WholesalePrice": "804.00",
                                    "DaysToDeliver": "6",
                                    "ProductName": "Trek 9000 Mountain Bike",
                                    "ProductDescription": "NULL",
                                    "RetailPrice": "1200.00",
                                    "QuantityOnHand": "6",
                                    "CategoryID": "2"
                                },
                                {
                                    "VendorID": "9",
                                    "VendName": "Lone Star Bike Supply",
                                    "VendStreetAddress": "7402 Kingman Drive",
                                    "VendCity": "El Paso",
                                    "VendState": "TX",
                                    "VendZipCode": "79915",
                                    "VendPhoneNumber": "(915) 666-9876",
                                    "VendFaxNumber": "(915) 666-9877",
                                    "VendWebPage": "NULL",
                                    "VendEMailAddress": "NULL",
                                    "ProductNumber": "1",
                                    "WholesalePrice": "854.22",
                                    "DaysToDeliver": "7",
                                    "ProductName": "Trek 9000 Mountain Bike",
                                    "ProductDescription": "NULL",
                                    "RetailPrice": "1200.00",
                                    "QuantityOnHand": "6",
                                    "CategoryID": "2"
                                },
                                {
                                    "VendorID": "6",
                                    "VendName": "Big Sky Mountain Bikes",
                                    "VendStreetAddress": "Glacier Bay South",
                                    "VendCity": "Anchorage",
                                    "VendState": "AK",
                                    "VendZipCode": "99209",
                                    "VendPhoneNumber": "(907) 222-1234",
                                    "VendFaxNumber": "(907) 222-1235",
                                    "VendWebPage": "NULL",
                                    "VendEMailAddress": "NULL",
                                    "ProductNumber": "2",
                                    "WholesalePrice": "1269.00",
                                    "DaysToDeliver": "9",
                                    "ProductName": "Eagle FS-3 Mountain Bike",
                                    "ProductDescription": "NULL",
                                    "RetailPrice": "1800.00",
                                    "QuantityOnHand": "8",
                                    "CategoryID": "2"
                                },
                                {
                                    "VendorID": "9",
                                    "VendName": "Lone Star Bike Supply",
                                    "VendStreetAddress": "7402 Kingman Drive",
                                    "VendCity": "El Paso",
                                    "VendState": "TX",
                                    "VendZipCode": "79915",
                                    "VendPhoneNumber": "(915) 666-9876",
                                    "VendFaxNumber": "(915) 666-9877",
                                    "VendWebPage": "NULL",
                                    "VendEMailAddress": "NULL",
                                    "ProductNumber": "2",
                                    "WholesalePrice": "1477.81",
                                    "DaysToDeliver": "7",
                                    "ProductName": "Eagle FS-3 Mountain Bike",
                                    "ProductDescription": "NULL",
                                    "RetailPrice": "1800.00",
                                    "QuantityOnHand": "8",
                                    "CategoryID": "2"
                                },
                                {
                                    "VendorID": "7",
                                    "VendName": "Dog Ear",
                                    "VendStreetAddress": "575 Madison Ave.",
                                    "VendCity": "New York",
                                    "VendState": "NY",
                                    "VendZipCode": "10003",
                                    "VendPhoneNumber": "(212) 888-9876",
                                    "VendFaxNumber": "(212) 888-9877",
                                    "VendWebPage": "NULL",
                                    "VendEMailAddress": "NULL",
                                    "ProductNumber": "3",
                                    "WholesalePrice": "54.19",
                                    "DaysToDeliver": "10",
                                    "ProductName": "Dog Ear Cyclecomputer",
                                    "ProductDescription": "NULL",
                                    "RetailPrice": "75.00",
                                    "QuantityOnHand": "20",
                                    "CategoryID": "1"
                                },
                                {
                                    "VendorID": "9",
                                    "VendName": "Lone Star Bike Supply",
                                    "VendStreetAddress": "7402 Kingman Drive",
                                    "VendCity": "El Paso",
                                    "VendState": "TX",
                                    "VendZipCode": "79915",
                                    "VendPhoneNumber": "(915) 666-9876",
                                    "VendFaxNumber": "(915) 666-9877",
                                    "VendWebPage": "NULL",
                                    "VendEMailAddress": "NULL",
                                    "ProductNumber": "3",
                                    "WholesalePrice": "57.27",
                                    "DaysToDeliver": "6",
                                    "ProductName": "Dog Ear Cyclecomputer",
                                    "ProductDescription": "NULL",
                                    "RetailPrice": "75.00",
                                    "QuantityOnHand": "20",
                                    "CategoryID": "1"
                                },
                                {
                                    "VendorID": "6",
                                    "VendName": "Big Sky Mountain Bikes",
                                    "VendStreetAddress": "Glacier Bay South",
                                    "VendCity": "Anchorage",
                                    "VendState": "AK",
                                    "VendZipCode": "99209",
                                    "VendPhoneNumber": "(907) 222-1234",
                                    "VendFaxNumber": "(907) 222-1235",
                                    "VendWebPage": "NULL",
                                    "VendEMailAddress": "NULL",
                                    "ProductNumber": "4",
                                    "WholesalePrice": "44.22",
                                    "DaysToDeliver": "10",
                                    "ProductName": "Victoria Pro All Weather Tires",
                                    "ProductDescription": "NULL",
                                    "RetailPrice": "54.95",
                                    "QuantityOnHand": "20",
                                    "CategoryID": "4"
                                },
                                {
                                    "VendorID": "9",
                                    "VendName": "Lone Star Bike Supply",
                                    "VendStreetAddress": "7402 Kingman Drive",
                                    "VendCity": "El Paso",
                                    "VendState": "TX",
                                    "VendZipCode": "79915",
                                    "VendPhoneNumber": "(915) 666-9876",
                                    "VendFaxNumber": "(915) 666-9877",
                                    "VendWebPage": "NULL",
                                    "VendEMailAddress": "NULL",
                                    "ProductNumber": "4",
                                    "WholesalePrice": "41.62",
                                    "DaysToDeliver": "14",
                                    "ProductName": "Victoria Pro All Weather Tires",
                                    "ProductDescription": "NULL",
                                    "RetailPrice": "54.95",
                                    "QuantityOnHand": "20",
                                    "CategoryID": "4"
                                },
                                {
                                    "VendorID": "7",
                                    "VendName": "Dog Ear",
                                    "VendStreetAddress": "575 Madison Ave.",
                                    "VendCity": "New York",
                                    "VendState": "NY",
                                    "VendZipCode": "10003",
                                    "VendPhoneNumber": "(212) 888-9876",
                                    "VendFaxNumber": "(212) 888-9877",
                                    "VendWebPage": "NULL",
                                    "VendEMailAddress": "NULL",
                                    "ProductNumber": "5",
                                    "WholesalePrice": "5.38",
                                    "DaysToDeliver": "10",
                                    "ProductName": "Dog Ear Helmet Mount Mirrors",
                                    "ProductDescription": "NULL",
                                    "RetailPrice": "7.45",
                                    "QuantityOnHand": "12",
                                    "CategoryID": "1"
                                },
                                {
                                    "VendorID": "9",
                                    "VendName": "Lone Star Bike Supply",
                                    "VendStreetAddress": "7402 Kingman Drive",
                                    "VendCity": "El Paso",
                                    "VendState": "TX",
                                    "VendZipCode": "79915",
                                    "VendPhoneNumber": "(915) 666-9876",
                                    "VendFaxNumber": "(915) 666-9877",
                                    "VendWebPage": "NULL",
                                    "VendEMailAddress": "NULL",
                                    "ProductNumber": "5",
                                    "WholesalePrice": "5.87",
                                    "DaysToDeliver": "9",
                                    "ProductName": "Dog Ear Helmet Mount Mirrors",
                                    "ProductDescription": "NULL",
                                    "RetailPrice": "7.45",
                                    "QuantityOnHand": "12",
                                    "CategoryID": "1"
                                },
                                {
                                    "VendorID": "2",
                                    "VendName": "Viscount",
                                    "VendStreetAddress": "1911 Commerce Way",
                                    "VendCity": "St. Louis",
                                    "VendState": "MO",
                                    "VendZipCode": "63127",
                                    "VendPhoneNumber": "(314) 777-1234",
                                    "VendFaxNumber": "(314) 777-1235",
                                    "VendWebPage": "#http://www.viscountbikes.com/#",
                                    "VendEMailAddress": "Orders@ViscountBikes.com",
                                    "ProductNumber": "6",
                                    "WholesalePrice": "403.22",
                                    "DaysToDeliver": "3",
                                    "ProductName": "Viscount Mountain Bike",
                                    "ProductDescription": "NULL",
                                    "RetailPrice": "635.00",
                                    "QuantityOnHand": "5",
                                    "CategoryID": "2"
                                },
                                {
                                    "VendorID": "9",
                                    "VendName": "Lone Star Bike Supply",
                                    "VendStreetAddress": "7402 Kingman Drive",
                                    "VendCity": "El Paso",
                                    "VendState": "TX",
                                    "VendZipCode": "79915",
                                    "VendPhoneNumber": "(915) 666-9876",
                                    "VendFaxNumber": "(915) 666-9877",
                                    "VendWebPage": "NULL",
                                    "VendEMailAddress": "NULL",
                                    "ProductNumber": "6",
                                    "WholesalePrice": "448.73",
                                    "DaysToDeliver": "7",
                                    "ProductName": "Viscount Mountain Bike",
                                    "ProductDescription": "NULL",
                                    "RetailPrice": "635.00",
                                    "QuantityOnHand": "5",
                                    "CategoryID": "2"
                                },
                                {
                                    "VendorID": "2",
                                    "VendName": "Viscount",
                                    "VendStreetAddress": "1911 Commerce Way",
                                    "VendCity": "St. Louis",
                                    "VendState": "MO",
                                    "VendZipCode": "63127",
                                    "VendPhoneNumber": "(314) 777-1234",
                                    "VendFaxNumber": "(314) 777-1235",
                                    "VendWebPage": "#http://www.viscountbikes.com/#",
                                    "VendEMailAddress": "Orders@ViscountBikes.com",
                                    "ProductNumber": "7",
                                    "WholesalePrice": "31.12",
                                    "DaysToDeliver": "3",
                                    "ProductName": "Viscount C-500 Wireless Bike Computer",
                                    "ProductDescription": "NULL",
                                    "RetailPrice": "49.00",
                                    "QuantityOnHand": "30",
                                    "CategoryID": "1"
                                },
                                {
                                    "VendorID": "8",
                                    "VendName": "Sun Sports Suppliers",
                                    "VendStreetAddress": "PO Box 8082",
                                    "VendCity": "Santa Monica",
                                    "VendState": "CA",
                                    "VendZipCode": "91003",
                                    "VendPhoneNumber": "(310) 777-9876",
                                    "VendFaxNumber": "(310) 777-9877",
                                    "VendWebPage": "NULL",
                                    "VendEMailAddress": "NULL",
                                    "ProductNumber": "8",
                                    "WholesalePrice": "39.32",
                                    "DaysToDeliver": "10",
                                    "ProductName": "Kryptonite Advanced 2000 U-Lock",
                                    "ProductDescription": "NULL",
                                    "RetailPrice": "50.00",
                                    "QuantityOnHand": "20",
                                    "CategoryID": "1"
                                },
                                {
                                    "VendorID": "9",
                                    "VendName": "Lone Star Bike Supply",
                                    "VendStreetAddress": "7402 Kingman Drive",
                                    "VendCity": "El Paso",
                                    "VendState": "TX",
                                    "VendZipCode": "79915",
                                    "VendPhoneNumber": "(915) 666-9876",
                                    "VendFaxNumber": "(915) 666-9877",
                                    "VendWebPage": "NULL",
                                    "VendEMailAddress": "NULL",
                                    "ProductNumber": "8",
                                    "WholesalePrice": "37.88",
                                    "DaysToDeliver": "14",
                                    "ProductName": "Kryptonite Advanced 2000 U-Lock",
                                    "ProductDescription": "NULL",
                                    "RetailPrice": "50.00",
                                    "QuantityOnHand": "20",
                                    "CategoryID": "1"
                                },
                                {
                                    "VendorID": "3",
                                    "VendName": "Nikoma of America",
                                    "VendStreetAddress": "88 Old North Road Ave",
                                    "VendCity": "Ballard",
                                    "VendState": "WA",
                                    "VendZipCode": "91324",
                                    "VendPhoneNumber": "(206) 666-1234",
                                    "VendFaxNumber": "(314) 666-1235",
                                    "VendWebPage": "#http://www.nikomabikes.com/#",
                                    "VendEMailAddress": "BuyBikes@NikomaBikes.com",
                                    "ProductNumber": "9",
                                    "WholesalePrice": "21.53",
                                    "DaysToDeliver": "4",
                                    "ProductName": "Nikoma Lok-Tight U-Lock",
                                    "ProductDescription": "NULL",
                                    "RetailPrice": "33.00",
                                    "QuantityOnHand": "12",
                                    "CategoryID": "1"
                                },
                                {
                                    "VendorID": "2",
                                    "VendName": "Viscount",
                                    "VendStreetAddress": "1911 Commerce Way",
                                    "VendCity": "St. Louis",
                                    "VendState": "MO",
                                    "VendZipCode": "63127",
                                    "VendPhoneNumber": "(314) 777-1234",
                                    "VendFaxNumber": "(314) 777-1235",
                                    "VendWebPage": "#http://www.viscountbikes.com/#",
                                    "VendEMailAddress": "Orders@ViscountBikes.com",
                                    "ProductNumber": "10",
                                    "WholesalePrice": "22.86",
                                    "DaysToDeliver": "3",
                                    "ProductName": "Viscount Microshell Helmet",
                                    "ProductDescription": "NULL",
                                    "RetailPrice": "36.00",
                                    "QuantityOnHand": "20",
                                    "CategoryID": "1"
                                },
                                {
                                    "VendorID": "3",
                                    "VendName": "Nikoma of America",
                                    "VendStreetAddress": "88 Old North Road Ave",
                                    "VendCity": "Ballard",
                                    "VendState": "WA",
                                    "VendZipCode": "91324",
                                    "VendPhoneNumber": "(206) 666-1234",
                                    "VendFaxNumber": "(314) 666-1235",
                                    "VendWebPage": "#http://www.nikomabikes.com/#",
                                    "VendEMailAddress": "BuyBikes@NikomaBikes.com",
                                    "ProductNumber": "11",
                                    "WholesalePrice": "1076.62",
                                    "DaysToDeliver": "4",
                                    "ProductName": "GT RTS-2 Mountain Bike",
                                    "ProductDescription": "NULL",
                                    "RetailPrice": "1650.00",
                                    "QuantityOnHand": "5",
                                    "CategoryID": "2"
                                },
                                {
                                    "VendorID": "9",
                                    "VendName": "Lone Star Bike Supply",
                                    "VendStreetAddress": "7402 Kingman Drive",
                                    "VendCity": "El Paso",
                                    "VendState": "TX",
                                    "VendZipCode": "79915",
                                    "VendPhoneNumber": "(915) 666-9876",
                                    "VendFaxNumber": "(915) 666-9877",
                                    "VendWebPage": "NULL",
                                    "VendEMailAddress": "NULL",
                                    "ProductNumber": "11",
                                    "WholesalePrice": "1178.65",
                                    "DaysToDeliver": "7",
                                    "ProductName": "GT RTS-2 Mountain Bike",
                                    "ProductDescription": "NULL",
                                    "RetailPrice": "1650.00",
                                    "QuantityOnHand": "5",
                                    "CategoryID": "2"
                                },
                                {
                                    "VendorID": "1",
                                    "VendName": "Shinoman, Incorporated",
                                    "VendStreetAddress": "3042 19th Avenue South",
                                    "VendCity": "Bellevue",
                                    "VendState": "WA",
                                    "VendZipCode": "98001",
                                    "VendPhoneNumber": "(425) 888-1234",
                                    "VendFaxNumber": "(425) 888-1235",
                                    "VendWebPage": "#http://www.shinoman.com/#",
                                    "VendEMailAddress": "Sales@Shiniman.com",
                                    "ProductNumber": "12",
                                    "WholesalePrice": "14.51",
                                    "DaysToDeliver": "2",
                                    "ProductName": "Shinoman 105 SC Brakes",
                                    "ProductDescription": "NULL",
                                    "RetailPrice": "23.50",
                                    "QuantityOnHand": "16",
                                    "CategoryID": "4"
                                },
                                {
                                    "VendorID": "6",
                                    "VendName": "Big Sky Mountain Bikes",
                                    "VendStreetAddress": "Glacier Bay South",
                                    "VendCity": "Anchorage",
                                    "VendState": "AK",
                                    "VendZipCode": "99209",
                                    "VendPhoneNumber": "(907) 222-1234",
                                    "VendFaxNumber": "(907) 222-1235",
                                    "VendWebPage": "NULL",
                                    "VendEMailAddress": "NULL",
                                    "ProductNumber": "12",
                                    "WholesalePrice": "15.44",
                                    "DaysToDeliver": "10",
                                    "ProductName": "Shinoman 105 SC Brakes",
                                    "ProductDescription": "NULL",
                                    "RetailPrice": "23.50",
                                    "QuantityOnHand": "16",
                                    "CategoryID": "4"
                                },
                                {
                                    "VendorID": "9",
                                    "VendName": "Lone Star Bike Supply",
                                    "VendStreetAddress": "7402 Kingman Drive",
                                    "VendCity": "El Paso",
                                    "VendState": "TX",
                                    "VendZipCode": "79915",
                                    "VendPhoneNumber": "(915) 666-9876",
                                    "VendFaxNumber": "(915) 666-9877",
                                    "VendWebPage": "NULL",
                                    "VendEMailAddress": "NULL",
                                    "ProductNumber": "12",
                                    "WholesalePrice": "15.02",
                                    "DaysToDeliver": "14",
                                    "ProductName": "Shinoman 105 SC Brakes",
                                    "ProductDescription": "NULL",
                                    "RetailPrice": "23.50",
                                    "QuantityOnHand": "16",
                                    "CategoryID": "4"
                                },
                                {
                                    "VendorID": "1",
                                    "VendName": "Shinoman, Incorporated",
                                    "VendStreetAddress": "3042 19th Avenue South",
                                    "VendCity": "Bellevue",
                                    "VendState": "WA",
                                    "VendZipCode": "98001",
                                    "VendPhoneNumber": "(425) 888-1234",
                                    "VendFaxNumber": "(425) 888-1235",
                                    "VendWebPage": "#http://www.shinoman.com/#",
                                    "VendEMailAddress": "Sales@Shiniman.com",
                                    "ProductNumber": "13",
                                    "WholesalePrice": "41.68",
                                    "DaysToDeliver": "2",
                                    "ProductName": "Shinoman Dura-Ace Headset",
                                    "ProductDescription": "NULL",
                                    "RetailPrice": "67.50",
                                    "QuantityOnHand": "20",
                                    "CategoryID": "4"
                                },
                                {
                                    "VendorID": "6",
                                    "VendName": "Big Sky Mountain Bikes",
                                    "VendStreetAddress": "Glacier Bay South",
                                    "VendCity": "Anchorage",
                                    "VendState": "AK",
                                    "VendZipCode": "99209",
                                    "VendPhoneNumber": "(907) 222-1234",
                                    "VendFaxNumber": "(907) 222-1235",
                                    "VendWebPage": "NULL",
                                    "VendEMailAddress": "NULL",
                                    "ProductNumber": "13",
                                    "WholesalePrice": "43.99",
                                    "DaysToDeliver": "10",
                                    "ProductName": "Shinoman Dura-Ace Headset",
                                    "ProductDescription": "NULL",
                                    "RetailPrice": "67.50",
                                    "QuantityOnHand": "20",
                                    "CategoryID": "4"
                                },
                                {
                                    "VendorID": "9",
                                    "VendName": "Lone Star Bike Supply",
                                    "VendStreetAddress": "7402 Kingman Drive",
                                    "VendCity": "El Paso",
                                    "VendState": "TX",
                                    "VendZipCode": "79915",
                                    "VendPhoneNumber": "(915) 666-9876",
                                    "VendFaxNumber": "(915) 666-9877",
                                    "VendWebPage": "NULL",
                                    "VendEMailAddress": "NULL",
                                    "ProductNumber": "13",
                                    "WholesalePrice": "43.77",
                                    "DaysToDeliver": "14",
                                    "ProductName": "Shinoman Dura-Ace Headset",
                                    "ProductDescription": "NULL",
                                    "RetailPrice": "67.50",
                                    "QuantityOnHand": "20",
                                    "CategoryID": "4"
                                },
                                {
                                    "VendorID": "6",
                                    "VendName": "Big Sky Mountain Bikes",
                                    "VendStreetAddress": "Glacier Bay South",
                                    "VendCity": "Anchorage",
                                    "VendState": "AK",
                                    "VendZipCode": "99209",
                                    "VendPhoneNumber": "(907) 222-1234",
                                    "VendFaxNumber": "(907) 222-1235",
                                    "VendWebPage": "NULL",
                                    "VendEMailAddress": "NULL",
                                    "ProductNumber": "14",
                                    "WholesalePrice": "98.66",
                                    "DaysToDeliver": "9",
                                    "ProductName": "Eagle SA-120 Clipless Pedals",
                                    "ProductDescription": "NULL",
                                    "RetailPrice": "139.95",
                                    "QuantityOnHand": "20",
                                    "CategoryID": "4"
                                },
                                {
                                    "VendorID": "9",
                                    "VendName": "Lone Star Bike Supply",
                                    "VendStreetAddress": "7402 Kingman Drive",
                                    "VendCity": "El Paso",
                                    "VendState": "TX",
                                    "VendZipCode": "79915",
                                    "VendPhoneNumber": "(915) 666-9876",
                                    "VendFaxNumber": "(915) 666-9877",
                                    "VendWebPage": "NULL",
                                    "VendEMailAddress": "NULL",
                                    "ProductNumber": "14",
                                    "WholesalePrice": "101.22",
                                    "DaysToDeliver": "14",
                                    "ProductName": "Eagle SA-120 Clipless Pedals",
                                    "ProductDescription": "NULL",
                                    "RetailPrice": "139.95",
                                    "QuantityOnHand": "20",
                                    "CategoryID": "4"
                                },
                                {
                                    "VendorID": "4",
                                    "VendName": "ProFormance",
                                    "VendStreetAddress": "29 N. Quail St.",
                                    "VendCity": "Albany",
                                    "VendState": "NY",
                                    "VendZipCode": "12012",
                                    "VendPhoneNumber": "(518) 444-1234",
                                    "VendFaxNumber": "(518) 444-1235",
                                    "VendWebPage": "#http://www.ProFormBikes.com/#",
                                    "VendEMailAddress": "Sales@ProFormBikes.com",
                                    "ProductNumber": "15",
                                    "WholesalePrice": "3.34",
                                    "DaysToDeliver": "6",
                                    "ProductName": "ProFormance Toe-Klips 2G",
                                    "ProductDescription": "NULL",
                                    "RetailPrice": "4.99",
                                    "QuantityOnHand": "40",
                                    "CategoryID": "4"
                                },
                                {
                                    "VendorID": "6",
                                    "VendName": "Big Sky Mountain Bikes",
                                    "VendStreetAddress": "Glacier Bay South",
                                    "VendCity": "Anchorage",
                                    "VendState": "AK",
                                    "VendZipCode": "99209",
                                    "VendPhoneNumber": "(907) 222-1234",
                                    "VendFaxNumber": "(907) 222-1235",
                                    "VendWebPage": "NULL",
                                    "VendEMailAddress": "NULL",
                                    "ProductNumber": "15",
                                    "WholesalePrice": "3.79",
                                    "DaysToDeliver": "10",
                                    "ProductName": "ProFormance Toe-Klips 2G",
                                    "ProductDescription": "NULL",
                                    "RetailPrice": "4.99",
                                    "QuantityOnHand": "40",
                                    "CategoryID": "4"
                                },
                                {
                                    "VendorID": "9",
                                    "VendName": "Lone Star Bike Supply",
                                    "VendStreetAddress": "7402 Kingman Drive",
                                    "VendCity": "El Paso",
                                    "VendState": "TX",
                                    "VendZipCode": "79915",
                                    "VendPhoneNumber": "(915) 666-9876",
                                    "VendFaxNumber": "(915) 666-9877",
                                    "VendWebPage": "NULL",
                                    "VendEMailAddress": "NULL",
                                    "ProductNumber": "15",
                                    "WholesalePrice": "3.88",
                                    "DaysToDeliver": "14",
                                    "ProductName": "ProFormance Toe-Klips 2G",
                                    "ProductDescription": "NULL",
                                    "RetailPrice": "4.99",
                                    "QuantityOnHand": "40",
                                    "CategoryID": "4"
                                },
                                {
                                    "VendorID": "4",
                                    "VendName": "ProFormance",
                                    "VendStreetAddress": "29 N. Quail St.",
                                    "VendCity": "Albany",
                                    "VendState": "NY",
                                    "VendZipCode": "12012",
                                    "VendPhoneNumber": "(518) 444-1234",
                                    "VendFaxNumber": "(518) 444-1235",
                                    "VendWebPage": "#http://www.ProFormBikes.com/#",
                                    "VendEMailAddress": "Sales@ProFormBikes.com",
                                    "ProductNumber": "16",
                                    "WholesalePrice": "18.76",
                                    "DaysToDeliver": "6",
                                    "ProductName": "ProFormance ATB All-Terrain Pedal",
                                    "ProductDescription": "NULL",
                                    "RetailPrice": "28.00",
                                    "QuantityOnHand": "40",
                                    "CategoryID": "4"
                                },
                                {
                                    "VendorID": "6",
                                    "VendName": "Big Sky Mountain Bikes",
                                    "VendStreetAddress": "Glacier Bay South",
                                    "VendCity": "Anchorage",
                                    "VendState": "AK",
                                    "VendZipCode": "99209",
                                    "VendPhoneNumber": "(907) 222-1234",
                                    "VendFaxNumber": "(907) 222-1235",
                                    "VendWebPage": "NULL",
                                    "VendEMailAddress": "NULL",
                                    "ProductNumber": "16",
                                    "WholesalePrice": "19.33",
                                    "DaysToDeliver": "10",
                                    "ProductName": "ProFormance ATB All-Terrain Pedal",
                                    "ProductDescription": "NULL",
                                    "RetailPrice": "28.00",
                                    "QuantityOnHand": "40",
                                    "CategoryID": "4"
                                },
                                {
                                    "VendorID": "9",
                                    "VendName": "Lone Star Bike Supply",
                                    "VendStreetAddress": "7402 Kingman Drive",
                                    "VendCity": "El Paso",
                                    "VendState": "TX",
                                    "VendZipCode": "79915",
                                    "VendPhoneNumber": "(915) 666-9876",
                                    "VendFaxNumber": "(915) 666-9877",
                                    "VendWebPage": "NULL",
                                    "VendEMailAddress": "NULL",
                                    "ProductNumber": "16",
                                    "WholesalePrice": "19.33",
                                    "DaysToDeliver": "14",
                                    "ProductName": "ProFormance ATB All-Terrain Pedal",
                                    "ProductDescription": "NULL",
                                    "RetailPrice": "28.00",
                                    "QuantityOnHand": "40",
                                    "CategoryID": "4"
                                },
                                {
                                    "VendorID": "1",
                                    "VendName": "Shinoman, Incorporated",
                                    "VendStreetAddress": "3042 19th Avenue South",
                                    "VendCity": "Bellevue",
                                    "VendState": "WA",
                                    "VendZipCode": "98001",
                                    "VendPhoneNumber": "(425) 888-1234",
                                    "VendFaxNumber": "(425) 888-1235",
                                    "VendWebPage": "#http://www.shinoman.com/#",
                                    "VendEMailAddress": "Sales@Shiniman.com",
                                    "ProductNumber": "17",
                                    "WholesalePrice": "27.79",
                                    "DaysToDeliver": "2",
                                    "ProductName": "Shinoman Deluxe TX-30 Pedal",
                                    "ProductDescription": "NULL",
                                    "RetailPrice": "45.00",
                                    "QuantityOnHand": "60",
                                    "CategoryID": "4"
                                },
                                {
                                    "VendorID": "6",
                                    "VendName": "Big Sky Mountain Bikes",
                                    "VendStreetAddress": "Glacier Bay South",
                                    "VendCity": "Anchorage",
                                    "VendState": "AK",
                                    "VendZipCode": "99209",
                                    "VendPhoneNumber": "(907) 222-1234",
                                    "VendFaxNumber": "(907) 222-1235",
                                    "VendWebPage": "NULL",
                                    "VendEMailAddress": "NULL",
                                    "ProductNumber": "17",
                                    "WholesalePrice": "28.55",
                                    "DaysToDeliver": "10",
                                    "ProductName": "Shinoman Deluxe TX-30 Pedal",
                                    "ProductDescription": "NULL",
                                    "RetailPrice": "45.00",
                                    "QuantityOnHand": "60",
                                    "CategoryID": "4"
                                },
                                {
                                    "VendorID": "9",
                                    "VendName": "Lone Star Bike Supply",
                                    "VendStreetAddress": "7402 Kingman Drive",
                                    "VendCity": "El Paso",
                                    "VendState": "TX",
                                    "VendZipCode": "79915",
                                    "VendPhoneNumber": "(915) 666-9876",
                                    "VendFaxNumber": "(915) 666-9877",
                                    "VendWebPage": "NULL",
                                    "VendEMailAddress": "NULL",
                                    "ProductNumber": "17",
                                    "WholesalePrice": "28.55",
                                    "DaysToDeliver": "14",
                                    "ProductName": "Shinoman Deluxe TX-30 Pedal",
                                    "ProductDescription": "NULL",
                                    "RetailPrice": "45.00",
                                    "QuantityOnHand": "60",
                                    "CategoryID": "4"
                                },
                                {
                                    "VendorID": "2",
                                    "VendName": "Viscount",
                                    "VendStreetAddress": "1911 Commerce Way",
                                    "VendCity": "St. Louis",
                                    "VendState": "MO",
                                    "VendZipCode": "63127",
                                    "VendPhoneNumber": "(314) 777-1234",
                                    "VendFaxNumber": "(314) 777-1235",
                                    "VendWebPage": "#http://www.viscountbikes.com/#",
                                    "VendEMailAddress": "Orders@ViscountBikes.com",
                                    "ProductNumber": "18",
                                    "WholesalePrice": "113.66",
                                    "DaysToDeliver": "3",
                                    "ProductName": "Viscount CardioSport Sport Watch",
                                    "ProductDescription": "NULL",
                                    "RetailPrice": "179.00",
                                    "QuantityOnHand": "12",
                                    "CategoryID": "1"
                                },
                                {
                                    "VendorID": "2",
                                    "VendName": "Viscount",
                                    "VendStreetAddress": "1911 Commerce Way",
                                    "VendCity": "St. Louis",
                                    "VendState": "MO",
                                    "VendZipCode": "63127",
                                    "VendPhoneNumber": "(314) 777-1234",
                                    "VendFaxNumber": "(314) 777-1235",
                                    "VendWebPage": "#http://www.viscountbikes.com/#",
                                    "VendEMailAddress": "Orders@ViscountBikes.com",
                                    "ProductNumber": "19",
                                    "WholesalePrice": "29.84",
                                    "DaysToDeliver": "3",
                                    "ProductName": "Viscount Tru-Beat Heart Transmitter",
                                    "ProductDescription": "NULL",
                                    "RetailPrice": "47.00",
                                    "QuantityOnHand": "20",
                                    "CategoryID": "1"
                                },
                                {
                                    "VendorID": "7",
                                    "VendName": "Dog Ear",
                                    "VendStreetAddress": "575 Madison Ave.",
                                    "VendCity": "New York",
                                    "VendState": "NY",
                                    "VendZipCode": "10003",
                                    "VendPhoneNumber": "(212) 888-9876",
                                    "VendFaxNumber": "(212) 888-9877",
                                    "VendWebPage": "NULL",
                                    "VendEMailAddress": "NULL",
                                    "ProductNumber": "20",
                                    "WholesalePrice": "10.84",
                                    "DaysToDeliver": "10",
                                    "ProductName": "Dog Ear Monster Grip Gloves",
                                    "ProductDescription": "NULL",
                                    "RetailPrice": "15.00",
                                    "QuantityOnHand": "30",
                                    "CategoryID": "1"
                                },
                                {
                                    "VendorID": "9",
                                    "VendName": "Lone Star Bike Supply",
                                    "VendStreetAddress": "7402 Kingman Drive",
                                    "VendCity": "El Paso",
                                    "VendState": "TX",
                                    "VendZipCode": "79915",
                                    "VendPhoneNumber": "(915) 666-9876",
                                    "VendFaxNumber": "(915) 666-9877",
                                    "VendWebPage": "NULL",
                                    "VendEMailAddress": "NULL",
                                    "ProductNumber": "20",
                                    "WholesalePrice": "11.54",
                                    "DaysToDeliver": "6",
                                    "ProductName": "Dog Ear Monster Grip Gloves",
                                    "ProductDescription": "NULL",
                                    "RetailPrice": "15.00",
                                    "QuantityOnHand": "30",
                                    "CategoryID": "1"
                                },
                                {
                                    "VendorID": "7",
                                    "VendName": "Dog Ear",
                                    "VendStreetAddress": "575 Madison Ave.",
                                    "VendCity": "New York",
                                    "VendState": "NY",
                                    "VendZipCode": "10003",
                                    "VendPhoneNumber": "(212) 888-9876",
                                    "VendFaxNumber": "(212) 888-9877",
                                    "VendWebPage": "NULL",
                                    "VendEMailAddress": "NULL",
                                    "ProductNumber": "21",
                                    "WholesalePrice": "39.74",
                                    "DaysToDeliver": "10",
                                    "ProductName": "Dog Ear Aero-Flow Floor Pump",
                                    "ProductDescription": "NULL",
                                    "RetailPrice": "55.00",
                                    "QuantityOnHand": "25",
                                    "CategoryID": "1"
                                },
                                {
                                    "VendorID": "9",
                                    "VendName": "Lone Star Bike Supply",
                                    "VendStreetAddress": "7402 Kingman Drive",
                                    "VendCity": "El Paso",
                                    "VendState": "TX",
                                    "VendZipCode": "79915",
                                    "VendPhoneNumber": "(915) 666-9876",
                                    "VendFaxNumber": "(915) 666-9877",
                                    "VendWebPage": "NULL",
                                    "VendEMailAddress": "NULL",
                                    "ProductNumber": "21",
                                    "WholesalePrice": "41.50",
                                    "DaysToDeliver": "9",
                                    "ProductName": "Dog Ear Aero-Flow Floor Pump",
                                    "ProductDescription": "NULL",
                                    "RetailPrice": "55.00",
                                    "QuantityOnHand": "25",
                                    "CategoryID": "1"
                                },
                                {
                                    "VendorID": "10",
                                    "VendName": "Armadillo Brand",
                                    "VendStreetAddress": "12330 Side Road Lane",
                                    "VendCity": "Dallas",
                                    "VendState": "TX",
                                    "VendZipCode": "75137",
                                    "VendPhoneNumber": "(214) 444-9876",
                                    "VendFaxNumber": "(214) 444-9877",
                                    "VendWebPage": "#http://www.DilloBikes.com/#",
                                    "VendEMailAddress": "BikeProducts@DilloBikes.com",
                                    "ProductNumber": "22",
                                    "WholesalePrice": "63.55",
                                    "DaysToDeliver": "15",
                                    "ProductName": "Pro-Sport 'Dillo Shades",
                                    "ProductDescription": "NULL",
                                    "RetailPrice": "82.00",
                                    "QuantityOnHand": "18",
                                    "CategoryID": "1"
                                },
                                {
                                    "VendorID": "6",
                                    "VendName": "Big Sky Mountain Bikes",
                                    "VendStreetAddress": "Glacier Bay South",
                                    "VendCity": "Anchorage",
                                    "VendState": "AK",
                                    "VendZipCode": "99209",
                                    "VendPhoneNumber": "(907) 222-1234",
                                    "VendFaxNumber": "(907) 222-1235",
                                    "VendWebPage": "NULL",
                                    "VendEMailAddress": "NULL",
                                    "ProductNumber": "23",
                                    "WholesalePrice": "69.54",
                                    "DaysToDeliver": "15",
                                    "ProductName": "Ultra-Pro Rain Jacket",
                                    "ProductDescription": "NULL",
                                    "RetailPrice": "85.00",
                                    "QuantityOnHand": "30",
                                    "CategoryID": "3"
                                },
                                {
                                    "VendorID": "9",
                                    "VendName": "Lone Star Bike Supply",
                                    "VendStreetAddress": "7402 Kingman Drive",
                                    "VendCity": "El Paso",
                                    "VendState": "TX",
                                    "VendZipCode": "79915",
                                    "VendPhoneNumber": "(915) 666-9876",
                                    "VendFaxNumber": "(915) 666-9877",
                                    "VendWebPage": "NULL",
                                    "VendEMailAddress": "NULL",
                                    "ProductNumber": "23",
                                    "WholesalePrice": "64.39",
                                    "DaysToDeliver": "14",
                                    "ProductName": "Ultra-Pro Rain Jacket",
                                    "ProductDescription": "NULL",
                                    "RetailPrice": "85.00",
                                    "QuantityOnHand": "30",
                                    "CategoryID": "3"
                                },
                                {
                                    "VendorID": "6",
                                    "VendName": "Big Sky Mountain Bikes",
                                    "VendStreetAddress": "Glacier Bay South",
                                    "VendCity": "Anchorage",
                                    "VendState": "AK",
                                    "VendZipCode": "99209",
                                    "VendPhoneNumber": "(907) 222-1234",
                                    "VendFaxNumber": "(907) 222-1235",
                                    "VendWebPage": "NULL",
                                    "VendEMailAddress": "NULL",
                                    "ProductNumber": "24",
                                    "WholesalePrice": "55.91",
                                    "DaysToDeliver": "15",
                                    "ProductName": "StaDry Cycling Pants",
                                    "ProductDescription": "NULL",
                                    "RetailPrice": "69.00",
                                    "QuantityOnHand": "22",
                                    "CategoryID": "3"
                                },
                                {
                                    "VendorID": "7",
                                    "VendName": "Dog Ear",
                                    "VendStreetAddress": "575 Madison Ave.",
                                    "VendCity": "New York",
                                    "VendState": "NY",
                                    "VendZipCode": "10003",
                                    "VendPhoneNumber": "(212) 888-9876",
                                    "VendFaxNumber": "(212) 888-9877",
                                    "VendWebPage": "NULL",
                                    "VendEMailAddress": "NULL",
                                    "ProductNumber": "24",
                                    "WholesalePrice": "53.88",
                                    "DaysToDeliver": "10",
                                    "ProductName": "StaDry Cycling Pants",
                                    "ProductDescription": "NULL",
                                    "RetailPrice": "69.00",
                                    "QuantityOnHand": "22",
                                    "CategoryID": "3"
                                },
                                {
                                    "VendorID": "9",
                                    "VendName": "Lone Star Bike Supply",
                                    "VendStreetAddress": "7402 Kingman Drive",
                                    "VendCity": "El Paso",
                                    "VendState": "TX",
                                    "VendZipCode": "79915",
                                    "VendPhoneNumber": "(915) 666-9876",
                                    "VendFaxNumber": "(915) 666-9877",
                                    "VendWebPage": "NULL",
                                    "VendEMailAddress": "NULL",
                                    "ProductNumber": "24",
                                    "WholesalePrice": "52.27",
                                    "DaysToDeliver": "14",
                                    "ProductName": "StaDry Cycling Pants",
                                    "ProductDescription": "NULL",
                                    "RetailPrice": "69.00",
                                    "QuantityOnHand": "22",
                                    "CategoryID": "3"
                                },
                                {
                                    "VendorID": "9",
                                    "VendName": "Lone Star Bike Supply",
                                    "VendStreetAddress": "7402 Kingman Drive",
                                    "VendCity": "El Paso",
                                    "VendState": "TX",
                                    "VendZipCode": "79915",
                                    "VendPhoneNumber": "(915) 666-9876",
                                    "VendFaxNumber": "(915) 666-9877",
                                    "VendWebPage": "NULL",
                                    "VendEMailAddress": "NULL",
                                    "ProductNumber": "25",
                                    "WholesalePrice": "105.29",
                                    "DaysToDeliver": "14",
                                    "ProductName": "King Cobra Helmet",
                                    "ProductDescription": "NULL",
                                    "RetailPrice": "139.00",
                                    "QuantityOnHand": "30",
                                    "CategoryID": "1"
                                },
                                {
                                    "VendorID": "10",
                                    "VendName": "Armadillo Brand",
                                    "VendStreetAddress": "12330 Side Road Lane",
                                    "VendCity": "Dallas",
                                    "VendState": "TX",
                                    "VendZipCode": "75137",
                                    "VendPhoneNumber": "(214) 444-9876",
                                    "VendFaxNumber": "(214) 444-9877",
                                    "VendWebPage": "#http://www.DilloBikes.com/#",
                                    "VendEMailAddress": "BikeProducts@DilloBikes.com",
                                    "ProductNumber": "25",
                                    "WholesalePrice": "101.58",
                                    "DaysToDeliver": "15",
                                    "ProductName": "King Cobra Helmet",
                                    "ProductDescription": "NULL",
                                    "RetailPrice": "139.00",
                                    "QuantityOnHand": "30",
                                    "CategoryID": "1"
                                },
                                {
                                    "VendorID": "3",
                                    "VendName": "Nikoma of America",
                                    "VendStreetAddress": "88 Old North Road Ave",
                                    "VendCity": "Ballard",
                                    "VendState": "WA",
                                    "VendZipCode": "91324",
                                    "VendPhoneNumber": "(206) 666-1234",
                                    "VendFaxNumber": "(314) 666-1235",
                                    "VendWebPage": "#http://www.nikomabikes.com/#",
                                    "VendEMailAddress": "BuyBikes@NikomaBikes.com",
                                    "ProductNumber": "26",
                                    "WholesalePrice": "81.56",
                                    "DaysToDeliver": "4",
                                    "ProductName": "Glide-O-Matic Cycling Helmet",
                                    "ProductDescription": "NULL",
                                    "RetailPrice": "125.00",
                                    "QuantityOnHand": "24",
                                    "CategoryID": "1"
                                },
                                {
                                    "VendorID": "6",
                                    "VendName": "Big Sky Mountain Bikes",
                                    "VendStreetAddress": "Glacier Bay South",
                                    "VendCity": "Anchorage",
                                    "VendState": "AK",
                                    "VendZipCode": "99209",
                                    "VendPhoneNumber": "(907) 222-1234",
                                    "VendFaxNumber": "(907) 222-1235",
                                    "VendWebPage": "NULL",
                                    "VendEMailAddress": "NULL",
                                    "ProductNumber": "26",
                                    "WholesalePrice": "79.88",
                                    "DaysToDeliver": "15",
                                    "ProductName": "Glide-O-Matic Cycling Helmet",
                                    "ProductDescription": "NULL",
                                    "RetailPrice": "125.00",
                                    "QuantityOnHand": "24",
                                    "CategoryID": "1"
                                },
                                {
                                    "VendorID": "3",
                                    "VendName": "Nikoma of America",
                                    "VendStreetAddress": "88 Old North Road Ave",
                                    "VendCity": "Ballard",
                                    "VendState": "WA",
                                    "VendZipCode": "91324",
                                    "VendPhoneNumber": "(206) 666-1234",
                                    "VendFaxNumber": "(314) 666-1235",
                                    "VendWebPage": "#http://www.nikomabikes.com/#",
                                    "VendEMailAddress": "BuyBikes@NikomaBikes.com",
                                    "ProductNumber": "27",
                                    "WholesalePrice": "15.66",
                                    "DaysToDeliver": "4",
                                    "ProductName": "X-Pro All Weather Tires",
                                    "ProductDescription": "NULL",
                                    "RetailPrice": "24.00",
                                    "QuantityOnHand": "20",
                                    "CategoryID": "6"
                                },
                                {
                                    "VendorID": "6",
                                    "VendName": "Big Sky Mountain Bikes",
                                    "VendStreetAddress": "Glacier Bay South",
                                    "VendCity": "Anchorage",
                                    "VendState": "AK",
                                    "VendZipCode": "99209",
                                    "VendPhoneNumber": "(907) 222-1234",
                                    "VendFaxNumber": "(907) 222-1235",
                                    "VendWebPage": "NULL",
                                    "VendEMailAddress": "NULL",
                                    "ProductNumber": "27",
                                    "WholesalePrice": "16.88",
                                    "DaysToDeliver": "10",
                                    "ProductName": "X-Pro All Weather Tires",
                                    "ProductDescription": "NULL",
                                    "RetailPrice": "24.00",
                                    "QuantityOnHand": "20",
                                    "CategoryID": "6"
                                },
                                {
                                    "VendorID": "9",
                                    "VendName": "Lone Star Bike Supply",
                                    "VendStreetAddress": "7402 Kingman Drive",
                                    "VendCity": "El Paso",
                                    "VendState": "TX",
                                    "VendZipCode": "79915",
                                    "VendPhoneNumber": "(915) 666-9876",
                                    "VendFaxNumber": "(915) 666-9877",
                                    "VendWebPage": "NULL",
                                    "VendEMailAddress": "NULL",
                                    "ProductNumber": "27",
                                    "WholesalePrice": "15.88",
                                    "DaysToDeliver": "14",
                                    "ProductName": "X-Pro All Weather Tires",
                                    "ProductDescription": "NULL",
                                    "RetailPrice": "24.00",
                                    "QuantityOnHand": "20",
                                    "CategoryID": "6"
                                },
                                {
                                    "VendorID": "3",
                                    "VendName": "Nikoma of America",
                                    "VendStreetAddress": "88 Old North Road Ave",
                                    "VendCity": "Ballard",
                                    "VendState": "WA",
                                    "VendZipCode": "91324",
                                    "VendPhoneNumber": "(206) 666-1234",
                                    "VendFaxNumber": "(314) 666-1235",
                                    "VendWebPage": "#http://www.nikomabikes.com/#",
                                    "VendEMailAddress": "BuyBikes@NikomaBikes.com",
                                    "ProductNumber": "28",
                                    "WholesalePrice": "18.92",
                                    "DaysToDeliver": "4",
                                    "ProductName": "Turbo Twin Tires",
                                    "ProductDescription": "NULL",
                                    "RetailPrice": "29.00",
                                    "QuantityOnHand": "18",
                                    "CategoryID": "6"
                                },
                                {
                                    "VendorID": "6",
                                    "VendName": "Big Sky Mountain Bikes",
                                    "VendStreetAddress": "Glacier Bay South",
                                    "VendCity": "Anchorage",
                                    "VendState": "AK",
                                    "VendZipCode": "99209",
                                    "VendPhoneNumber": "(907) 222-1234",
                                    "VendFaxNumber": "(907) 222-1235",
                                    "VendWebPage": "NULL",
                                    "VendEMailAddress": "NULL",
                                    "ProductNumber": "28",
                                    "WholesalePrice": "20.56",
                                    "DaysToDeliver": "10",
                                    "ProductName": "Turbo Twin Tires",
                                    "ProductDescription": "NULL",
                                    "RetailPrice": "29.00",
                                    "QuantityOnHand": "18",
                                    "CategoryID": "6"
                                },
                                {
                                    "VendorID": "9",
                                    "VendName": "Lone Star Bike Supply",
                                    "VendStreetAddress": "7402 Kingman Drive",
                                    "VendCity": "El Paso",
                                    "VendState": "TX",
                                    "VendZipCode": "79915",
                                    "VendPhoneNumber": "(915) 666-9876",
                                    "VendFaxNumber": "(915) 666-9877",
                                    "VendWebPage": "NULL",
                                    "VendEMailAddress": "NULL",
                                    "ProductNumber": "28",
                                    "WholesalePrice": "19.04",
                                    "DaysToDeliver": "14",
                                    "ProductName": "Turbo Twin Tires",
                                    "ProductDescription": "NULL",
                                    "RetailPrice": "29.00",
                                    "QuantityOnHand": "18",
                                    "CategoryID": "6"
                                },
                                {
                                    "VendorID": "5",
                                    "VendName": "Kona, Incorporated",
                                    "VendStreetAddress": "PO Box 10429",
                                    "VendCity": "Redmond",
                                    "VendState": "WA",
                                    "VendZipCode": "98052",
                                    "VendPhoneNumber": "(425) 333-1234",
                                    "VendFaxNumber": "(425) 333-1235",
                                    "VendWebPage": "#http://www.konabikes.com/#",
                                    "VendEMailAddress": "Sales@KonaBikes.com",
                                    "ProductNumber": "29",
                                    "WholesalePrice": "23.38",
                                    "DaysToDeliver": "8",
                                    "ProductName": "Ultra-2K Competition Tire",
                                    "ProductDescription": "NULL",
                                    "RetailPrice": "34.00",
                                    "QuantityOnHand": "22",
                                    "CategoryID": "6"
                                },
                                {
                                    "VendorID": "6",
                                    "VendName": "Big Sky Mountain Bikes",
                                    "VendStreetAddress": "Glacier Bay South",
                                    "VendCity": "Anchorage",
                                    "VendState": "AK",
                                    "VendZipCode": "99209",
                                    "VendPhoneNumber": "(907) 222-1234",
                                    "VendFaxNumber": "(907) 222-1235",
                                    "VendWebPage": "NULL",
                                    "VendEMailAddress": "NULL",
                                    "ProductNumber": "29",
                                    "WholesalePrice": "24.44",
                                    "DaysToDeliver": "10",
                                    "ProductName": "Ultra-2K Competition Tire",
                                    "ProductDescription": "NULL",
                                    "RetailPrice": "34.00",
                                    "QuantityOnHand": "22",
                                    "CategoryID": "6"
                                },
                                {
                                    "VendorID": "9",
                                    "VendName": "Lone Star Bike Supply",
                                    "VendStreetAddress": "7402 Kingman Drive",
                                    "VendCity": "El Paso",
                                    "VendState": "TX",
                                    "VendZipCode": "79915",
                                    "VendPhoneNumber": "(915) 666-9876",
                                    "VendFaxNumber": "(915) 666-9877",
                                    "VendWebPage": "NULL",
                                    "VendEMailAddress": "NULL",
                                    "ProductNumber": "29",
                                    "WholesalePrice": "23.99",
                                    "DaysToDeliver": "14",
                                    "ProductName": "Ultra-2K Competition Tire",
                                    "ProductDescription": "NULL",
                                    "RetailPrice": "34.00",
                                    "QuantityOnHand": "22",
                                    "CategoryID": "6"
                                },
                                {
                                    "VendorID": "8",
                                    "VendName": "Sun Sports Suppliers",
                                    "VendStreetAddress": "PO Box 8082",
                                    "VendCity": "Santa Monica",
                                    "VendState": "CA",
                                    "VendZipCode": "91003",
                                    "VendPhoneNumber": "(310) 777-9876",
                                    "VendFaxNumber": "(310) 777-9877",
                                    "VendWebPage": "NULL",
                                    "VendEMailAddress": "NULL",
                                    "ProductNumber": "30",
                                    "WholesalePrice": "33.30",
                                    "DaysToDeliver": "12",
                                    "ProductName": "Clear Shade 85-T Glasses",
                                    "ProductDescription": "NULL",
                                    "RetailPrice": "45.00",
                                    "QuantityOnHand": "14",
                                    "CategoryID": "1"
                                },
                                {
                                    "VendorID": "9",
                                    "VendName": "Lone Star Bike Supply",
                                    "VendStreetAddress": "7402 Kingman Drive",
                                    "VendCity": "El Paso",
                                    "VendState": "TX",
                                    "VendZipCode": "79915",
                                    "VendPhoneNumber": "(915) 666-9876",
                                    "VendFaxNumber": "(915) 666-9877",
                                    "VendWebPage": "NULL",
                                    "VendEMailAddress": "NULL",
                                    "ProductNumber": "30",
                                    "WholesalePrice": "35.32",
                                    "DaysToDeliver": "8",
                                    "ProductName": "Clear Shade 85-T Glasses",
                                    "ProductDescription": "NULL",
                                    "RetailPrice": "45.00",
                                    "QuantityOnHand": "14",
                                    "CategoryID": "1"
                                },
                                {
                                    "VendorID": "10",
                                    "VendName": "Armadillo Brand",
                                    "VendStreetAddress": "12330 Side Road Lane",
                                    "VendCity": "Dallas",
                                    "VendState": "TX",
                                    "VendZipCode": "75137",
                                    "VendPhoneNumber": "(214) 444-9876",
                                    "VendFaxNumber": "(214) 444-9877",
                                    "VendWebPage": "#http://www.DilloBikes.com/#",
                                    "VendEMailAddress": "BikeProducts@DilloBikes.com",
                                    "ProductNumber": "30",
                                    "WholesalePrice": "32.87",
                                    "DaysToDeliver": "15",
                                    "ProductName": "Clear Shade 85-T Glasses",
                                    "ProductDescription": "NULL",
                                    "RetailPrice": "45.00",
                                    "QuantityOnHand": "14",
                                    "CategoryID": "1"
                                },
                                {
                                    "VendorID": "7",
                                    "VendName": "Dog Ear",
                                    "VendStreetAddress": "575 Madison Ave.",
                                    "VendCity": "New York",
                                    "VendState": "NY",
                                    "VendZipCode": "10003",
                                    "VendPhoneNumber": "(212) 888-9876",
                                    "VendFaxNumber": "(212) 888-9877",
                                    "VendWebPage": "NULL",
                                    "VendEMailAddress": "NULL",
                                    "ProductNumber": "31",
                                    "WholesalePrice": "15.85",
                                    "DaysToDeliver": "15",
                                    "ProductName": "True Grip Competition Gloves",
                                    "ProductDescription": "NULL",
                                    "RetailPrice": "22.00",
                                    "QuantityOnHand": "20",
                                    "CategoryID": "1"
                                },
                                {
                                    "VendorID": "8",
                                    "VendName": "Sun Sports Suppliers",
                                    "VendStreetAddress": "PO Box 8082",
                                    "VendCity": "Santa Monica",
                                    "VendState": "CA",
                                    "VendZipCode": "91003",
                                    "VendPhoneNumber": "(310) 777-9876",
                                    "VendFaxNumber": "(310) 777-9877",
                                    "VendWebPage": "NULL",
                                    "VendEMailAddress": "NULL",
                                    "ProductNumber": "31",
                                    "WholesalePrice": "16.28",
                                    "DaysToDeliver": "12",
                                    "ProductName": "True Grip Competition Gloves",
                                    "ProductDescription": "NULL",
                                    "RetailPrice": "22.00",
                                    "QuantityOnHand": "20",
                                    "CategoryID": "1"
                                },
                                {
                                    "VendorID": "9",
                                    "VendName": "Lone Star Bike Supply",
                                    "VendStreetAddress": "7402 Kingman Drive",
                                    "VendCity": "El Paso",
                                    "VendState": "TX",
                                    "VendZipCode": "79915",
                                    "VendPhoneNumber": "(915) 666-9876",
                                    "VendFaxNumber": "(915) 666-9877",
                                    "VendWebPage": "NULL",
                                    "VendEMailAddress": "NULL",
                                    "ProductNumber": "31",
                                    "WholesalePrice": "16.93",
                                    "DaysToDeliver": "7",
                                    "ProductName": "True Grip Competition Gloves",
                                    "ProductDescription": "NULL",
                                    "RetailPrice": "22.00",
                                    "QuantityOnHand": "20",
                                    "CategoryID": "1"
                                },
                                {
                                    "VendorID": "10",
                                    "VendName": "Armadillo Brand",
                                    "VendStreetAddress": "12330 Side Road Lane",
                                    "VendCity": "Dallas",
                                    "VendState": "TX",
                                    "VendZipCode": "75137",
                                    "VendPhoneNumber": "(214) 444-9876",
                                    "VendFaxNumber": "(214) 444-9877",
                                    "VendWebPage": "#http://www.DilloBikes.com/#",
                                    "VendEMailAddress": "BikeProducts@DilloBikes.com",
                                    "ProductNumber": "31",
                                    "WholesalePrice": "16.90",
                                    "DaysToDeliver": "9",
                                    "ProductName": "True Grip Competition Gloves",
                                    "ProductDescription": "NULL",
                                    "RetailPrice": "22.00",
                                    "QuantityOnHand": "20",
                                    "CategoryID": "1"
                                },
                                {
                                    "VendorID": "6",
                                    "VendName": "Big Sky Mountain Bikes",
                                    "VendStreetAddress": "Glacier Bay South",
                                    "VendCity": "Anchorage",
                                    "VendState": "AK",
                                    "VendZipCode": "99209",
                                    "VendPhoneNumber": "(907) 222-1234",
                                    "VendFaxNumber": "(907) 222-1235",
                                    "VendWebPage": "NULL",
                                    "VendEMailAddress": "NULL",
                                    "ProductNumber": "32",
                                    "WholesalePrice": "24.77",
                                    "DaysToDeliver": "15",
                                    "ProductName": "Kool-Breeze Rocket Top Jersey",
                                    "ProductDescription": "NULL",
                                    "RetailPrice": "32.00",
                                    "QuantityOnHand": "12",
                                    "CategoryID": "3"
                                },
                                {
                                    "VendorID": "7",
                                    "VendName": "Dog Ear",
                                    "VendStreetAddress": "575 Madison Ave.",
                                    "VendCity": "New York",
                                    "VendState": "NY",
                                    "VendZipCode": "10003",
                                    "VendPhoneNumber": "(212) 888-9876",
                                    "VendFaxNumber": "(212) 888-9877",
                                    "VendWebPage": "NULL",
                                    "VendEMailAddress": "NULL",
                                    "ProductNumber": "32",
                                    "WholesalePrice": "24.12",
                                    "DaysToDeliver": "10",
                                    "ProductName": "Kool-Breeze Rocket Top Jersey",
                                    "ProductDescription": "NULL",
                                    "RetailPrice": "32.00",
                                    "QuantityOnHand": "12",
                                    "CategoryID": "3"
                                },
                                {
                                    "VendorID": "8",
                                    "VendName": "Sun Sports Suppliers",
                                    "VendStreetAddress": "PO Box 8082",
                                    "VendCity": "Santa Monica",
                                    "VendState": "CA",
                                    "VendZipCode": "91003",
                                    "VendPhoneNumber": "(310) 777-9876",
                                    "VendFaxNumber": "(310) 777-9877",
                                    "VendWebPage": "NULL",
                                    "VendEMailAddress": "NULL",
                                    "ProductNumber": "32",
                                    "WholesalePrice": "23.68",
                                    "DaysToDeliver": "12",
                                    "ProductName": "Kool-Breeze Rocket Top Jersey",
                                    "ProductDescription": "NULL",
                                    "RetailPrice": "32.00",
                                    "QuantityOnHand": "12",
                                    "CategoryID": "3"
                                },
                                {
                                    "VendorID": "6",
                                    "VendName": "Big Sky Mountain Bikes",
                                    "VendStreetAddress": "Glacier Bay South",
                                    "VendCity": "Anchorage",
                                    "VendState": "AK",
                                    "VendZipCode": "99209",
                                    "VendPhoneNumber": "(907) 222-1234",
                                    "VendFaxNumber": "(907) 222-1235",
                                    "VendWebPage": "NULL",
                                    "VendEMailAddress": "NULL",
                                    "ProductNumber": "33",
                                    "WholesalePrice": "15.23",
                                    "DaysToDeliver": "15",
                                    "ProductName": "Wonder Wool Cycle Socks",
                                    "ProductDescription": "NULL",
                                    "RetailPrice": "19.00",
                                    "QuantityOnHand": "30",
                                    "CategoryID": "3"
                                },
                                {
                                    "VendorID": "8",
                                    "VendName": "Sun Sports Suppliers",
                                    "VendStreetAddress": "PO Box 8082",
                                    "VendCity": "Santa Monica",
                                    "VendState": "CA",
                                    "VendZipCode": "91003",
                                    "VendPhoneNumber": "(310) 777-9876",
                                    "VendFaxNumber": "(310) 777-9877",
                                    "VendWebPage": "NULL",
                                    "VendEMailAddress": "NULL",
                                    "ProductNumber": "33",
                                    "WholesalePrice": "14.06",
                                    "DaysToDeliver": "12",
                                    "ProductName": "Wonder Wool Cycle Socks",
                                    "ProductDescription": "NULL",
                                    "RetailPrice": "19.00",
                                    "QuantityOnHand": "30",
                                    "CategoryID": "3"
                                },
                                {
                                    "VendorID": "6",
                                    "VendName": "Big Sky Mountain Bikes",
                                    "VendStreetAddress": "Glacier Bay South",
                                    "VendCity": "Anchorage",
                                    "VendState": "AK",
                                    "VendZipCode": "99209",
                                    "VendPhoneNumber": "(907) 222-1234",
                                    "VendFaxNumber": "(907) 222-1235",
                                    "VendWebPage": "NULL",
                                    "VendEMailAddress": "NULL",
                                    "ProductNumber": "34",
                                    "WholesalePrice": "19.04",
                                    "DaysToDeliver": "9",
                                    "ProductName": "TransPort Bicycle Rack",
                                    "ProductDescription": "NULL",
                                    "RetailPrice": "27.00",
                                    "QuantityOnHand": "14",
                                    "CategoryID": "1"
                                },
                                {
                                    "VendorID": "9",
                                    "VendName": "Lone Star Bike Supply",
                                    "VendStreetAddress": "7402 Kingman Drive",
                                    "VendCity": "El Paso",
                                    "VendState": "TX",
                                    "VendZipCode": "79915",
                                    "VendPhoneNumber": "(915) 666-9876",
                                    "VendFaxNumber": "(915) 666-9877",
                                    "VendWebPage": "NULL",
                                    "VendEMailAddress": "NULL",
                                    "ProductNumber": "34",
                                    "WholesalePrice": "23.86",
                                    "DaysToDeliver": "3",
                                    "ProductName": "TransPort Bicycle Rack",
                                    "ProductDescription": "NULL",
                                    "RetailPrice": "27.00",
                                    "QuantityOnHand": "14",
                                    "CategoryID": "1"
                                },
                                {
                                    "VendorID": "10",
                                    "VendName": "Armadillo Brand",
                                    "VendStreetAddress": "12330 Side Road Lane",
                                    "VendCity": "Dallas",
                                    "VendState": "TX",
                                    "VendZipCode": "75137",
                                    "VendPhoneNumber": "(214) 444-9876",
                                    "VendFaxNumber": "(214) 444-9877",
                                    "VendWebPage": "#http://www.DilloBikes.com/#",
                                    "VendEMailAddress": "BikeProducts@DilloBikes.com",
                                    "ProductNumber": "34",
                                    "WholesalePrice": "19.32",
                                    "DaysToDeliver": "10",
                                    "ProductName": "TransPort Bicycle Rack",
                                    "ProductDescription": "NULL",
                                    "RetailPrice": "27.00",
                                    "QuantityOnHand": "14",
                                    "CategoryID": "1"
                                },
                                {
                                    "VendorID": "6",
                                    "VendName": "Big Sky Mountain Bikes",
                                    "VendStreetAddress": "Glacier Bay South",
                                    "VendCity": "Anchorage",
                                    "VendState": "AK",
                                    "VendZipCode": "99209",
                                    "VendPhoneNumber": "(907) 222-1234",
                                    "VendFaxNumber": "(907) 222-1235",
                                    "VendWebPage": "NULL",
                                    "VendEMailAddress": "NULL",
                                    "ProductNumber": "35",
                                    "WholesalePrice": "27.49",
                                    "DaysToDeliver": "9",
                                    "ProductName": "HP Deluxe Panniers",
                                    "ProductDescription": "NULL",
                                    "RetailPrice": "39.00",
                                    "QuantityOnHand": "10",
                                    "CategoryID": "1"
                                },
                                {
                                    "VendorID": "9",
                                    "VendName": "Lone Star Bike Supply",
                                    "VendStreetAddress": "7402 Kingman Drive",
                                    "VendCity": "El Paso",
                                    "VendState": "TX",
                                    "VendZipCode": "79915",
                                    "VendPhoneNumber": "(915) 666-9876",
                                    "VendFaxNumber": "(915) 666-9877",
                                    "VendWebPage": "NULL",
                                    "VendEMailAddress": "NULL",
                                    "ProductNumber": "35",
                                    "WholesalePrice": "28.22",
                                    "DaysToDeliver": "6",
                                    "ProductName": "HP Deluxe Panniers",
                                    "ProductDescription": "NULL",
                                    "RetailPrice": "39.00",
                                    "QuantityOnHand": "10",
                                    "CategoryID": "1"
                                },
                                {
                                    "VendorID": "6",
                                    "VendName": "Big Sky Mountain Bikes",
                                    "VendStreetAddress": "Glacier Bay South",
                                    "VendCity": "Anchorage",
                                    "VendState": "AK",
                                    "VendZipCode": "99209",
                                    "VendPhoneNumber": "(907) 222-1234",
                                    "VendFaxNumber": "(907) 222-1235",
                                    "VendWebPage": "NULL",
                                    "VendEMailAddress": "NULL",
                                    "ProductNumber": "36",
                                    "WholesalePrice": "122.88",
                                    "DaysToDeliver": "10",
                                    "ProductName": "Cosmic Elite Road Warrior Wheels",
                                    "ProductDescription": "NULL",
                                    "RetailPrice": "165.00",
                                    "QuantityOnHand": "22",
                                    "CategoryID": "4"
                                },
                                {
                                    "VendorID": "7",
                                    "VendName": "Dog Ear",
                                    "VendStreetAddress": "575 Madison Ave.",
                                    "VendCity": "New York",
                                    "VendState": "NY",
                                    "VendZipCode": "10003",
                                    "VendPhoneNumber": "(212) 888-9876",
                                    "VendFaxNumber": "(212) 888-9877",
                                    "VendWebPage": "NULL",
                                    "VendEMailAddress": "NULL",
                                    "ProductNumber": "36",
                                    "WholesalePrice": "119.21",
                                    "DaysToDeliver": "10",
                                    "ProductName": "Cosmic Elite Road Warrior Wheels",
                                    "ProductDescription": "NULL",
                                    "RetailPrice": "165.00",
                                    "QuantityOnHand": "22",
                                    "CategoryID": "4"
                                },
                                {
                                    "VendorID": "9",
                                    "VendName": "Lone Star Bike Supply",
                                    "VendStreetAddress": "7402 Kingman Drive",
                                    "VendCity": "El Paso",
                                    "VendState": "TX",
                                    "VendZipCode": "79915",
                                    "VendPhoneNumber": "(915) 666-9876",
                                    "VendFaxNumber": "(915) 666-9877",
                                    "VendWebPage": "NULL",
                                    "VendEMailAddress": "NULL",
                                    "ProductNumber": "36",
                                    "WholesalePrice": "122.78",
                                    "DaysToDeliver": "14",
                                    "ProductName": "Cosmic Elite Road Warrior Wheels",
                                    "ProductDescription": "NULL",
                                    "RetailPrice": "165.00",
                                    "QuantityOnHand": "22",
                                    "CategoryID": "4"
                                },
                                {
                                    "VendorID": "2",
                                    "VendName": "Viscount",
                                    "VendStreetAddress": "1911 Commerce Way",
                                    "VendCity": "St. Louis",
                                    "VendState": "MO",
                                    "VendZipCode": "63127",
                                    "VendPhoneNumber": "(314) 777-1234",
                                    "VendFaxNumber": "(314) 777-1235",
                                    "VendWebPage": "#http://www.viscountbikes.com/#",
                                    "VendEMailAddress": "Orders@ViscountBikes.com",
                                    "ProductNumber": "37",
                                    "WholesalePrice": "120.02",
                                    "DaysToDeliver": "3",
                                    "ProductName": "AeroFlo ATB Wheels",
                                    "ProductDescription": "NULL",
                                    "RetailPrice": "189.00",
                                    "QuantityOnHand": "40",
                                    "CategoryID": "4"
                                },
                                {
                                    "VendorID": "6",
                                    "VendName": "Big Sky Mountain Bikes",
                                    "VendStreetAddress": "Glacier Bay South",
                                    "VendCity": "Anchorage",
                                    "VendState": "AK",
                                    "VendZipCode": "99209",
                                    "VendPhoneNumber": "(907) 222-1234",
                                    "VendFaxNumber": "(907) 222-1235",
                                    "VendWebPage": "NULL",
                                    "VendEMailAddress": "NULL",
                                    "ProductNumber": "37",
                                    "WholesalePrice": "125.99",
                                    "DaysToDeliver": "10",
                                    "ProductName": "AeroFlo ATB Wheels",
                                    "ProductDescription": "NULL",
                                    "RetailPrice": "189.00",
                                    "QuantityOnHand": "40",
                                    "CategoryID": "4"
                                },
                                {
                                    "VendorID": "9",
                                    "VendName": "Lone Star Bike Supply",
                                    "VendStreetAddress": "7402 Kingman Drive",
                                    "VendCity": "El Paso",
                                    "VendState": "TX",
                                    "VendZipCode": "79915",
                                    "VendPhoneNumber": "(915) 666-9876",
                                    "VendFaxNumber": "(915) 666-9877",
                                    "VendWebPage": "NULL",
                                    "VendEMailAddress": "NULL",
                                    "ProductNumber": "37",
                                    "WholesalePrice": "124.89",
                                    "DaysToDeliver": "14",
                                    "ProductName": "AeroFlo ATB Wheels",
                                    "ProductDescription": "NULL",
                                    "RetailPrice": "189.00",
                                    "QuantityOnHand": "40",
                                    "CategoryID": "4"
                                },
                                {
                                    "VendorID": "9",
                                    "VendName": "Lone Star Bike Supply",
                                    "VendStreetAddress": "7402 Kingman Drive",
                                    "VendCity": "El Paso",
                                    "VendState": "TX",
                                    "VendZipCode": "79915",
                                    "VendPhoneNumber": "(915) 666-9876",
                                    "VendFaxNumber": "(915) 666-9877",
                                    "VendWebPage": "NULL",
                                    "VendEMailAddress": "NULL",
                                    "ProductNumber": "38",
                                    "WholesalePrice": "136.98",
                                    "DaysToDeliver": "6",
                                    "ProductName": "Cycle-Doc Pro Repair Stand",
                                    "ProductDescription": "NULL",
                                    "RetailPrice": "166.00",
                                    "QuantityOnHand": "12",
                                    "CategoryID": "1"
                                },
                                {
                                    "VendorID": "10",
                                    "VendName": "Armadillo Brand",
                                    "VendStreetAddress": "12330 Side Road Lane",
                                    "VendCity": "Dallas",
                                    "VendState": "TX",
                                    "VendZipCode": "75137",
                                    "VendPhoneNumber": "(214) 444-9876",
                                    "VendFaxNumber": "(214) 444-9877",
                                    "VendWebPage": "#http://www.DilloBikes.com/#",
                                    "VendEMailAddress": "BikeProducts@DilloBikes.com",
                                    "ProductNumber": "38",
                                    "WholesalePrice": "128.65",
                                    "DaysToDeliver": "15",
                                    "ProductName": "Cycle-Doc Pro Repair Stand",
                                    "ProductDescription": "NULL",
                                    "RetailPrice": "166.00",
                                    "QuantityOnHand": "12",
                                    "CategoryID": "1"
                                },
                                {
                                    "VendorID": "6",
                                    "VendName": "Big Sky Mountain Bikes",
                                    "VendStreetAddress": "Glacier Bay South",
                                    "VendCity": "Anchorage",
                                    "VendState": "AK",
                                    "VendZipCode": "99209",
                                    "VendPhoneNumber": "(907) 222-1234",
                                    "VendFaxNumber": "(907) 222-1235",
                                    "VendWebPage": "NULL",
                                    "VendEMailAddress": "NULL",
                                    "ProductNumber": "39",
                                    "WholesalePrice": "137.55",
                                    "DaysToDeliver": "7",
                                    "ProductName": "Road Warrior Hitch Pack",
                                    "ProductDescription": "NULL",
                                    "RetailPrice": "175.00",
                                    "QuantityOnHand": "6",
                                    "CategoryID": "5"
                                },
                                {
                                    "VendorID": "7",
                                    "VendName": "Dog Ear",
                                    "VendStreetAddress": "575 Madison Ave.",
                                    "VendCity": "New York",
                                    "VendState": "NY",
                                    "VendZipCode": "10003",
                                    "VendPhoneNumber": "(212) 888-9876",
                                    "VendFaxNumber": "(212) 888-9877",
                                    "VendWebPage": "NULL",
                                    "VendEMailAddress": "NULL",
                                    "ProductNumber": "39",
                                    "WholesalePrice": "126.44",
                                    "DaysToDeliver": "10",
                                    "ProductName": "Road Warrior Hitch Pack",
                                    "ProductDescription": "NULL",
                                    "RetailPrice": "175.00",
                                    "QuantityOnHand": "6",
                                    "CategoryID": "5"
                                },
                                {
                                    "VendorID": "6",
                                    "VendName": "Big Sky Mountain Bikes",
                                    "VendStreetAddress": "Glacier Bay South",
                                    "VendCity": "Anchorage",
                                    "VendState": "AK",
                                    "VendZipCode": "99209",
                                    "VendPhoneNumber": "(907) 222-1234",
                                    "VendFaxNumber": "(907) 222-1235",
                                    "VendWebPage": "NULL",
                                    "VendEMailAddress": "NULL",
                                    "ProductNumber": "40",
                                    "WholesalePrice": "154.87",
                                    "DaysToDeliver": "10",
                                    "ProductName": "Ultimate Export 2G Car Rack",
                                    "ProductDescription": "NULL",
                                    "RetailPrice": "180.00",
                                    "QuantityOnHand": "8",
                                    "CategoryID": "5"
                                },
                                {
                                    "VendorID": "9",
                                    "VendName": "Lone Star Bike Supply",
                                    "VendStreetAddress": "7402 Kingman Drive",
                                    "VendCity": "El Paso",
                                    "VendState": "TX",
                                    "VendZipCode": "79915",
                                    "VendPhoneNumber": "(915) 666-9876",
                                    "VendFaxNumber": "(915) 666-9877",
                                    "VendWebPage": "NULL",
                                    "VendEMailAddress": "NULL",
                                    "ProductNumber": "40",
                                    "WholesalePrice": "136.35",
                                    "DaysToDeliver": "14",
                                    "ProductName": "Ultimate Export 2G Car Rack",
                                    "ProductDescription": "NULL",
                                    "RetailPrice": "180.00",
                                    "QuantityOnHand": "8",
                                    "CategoryID": "5"
                                }
                            ]
                        },
                        "text/html": [
                            "<table>",
                            "<tr><th>VendorID</th><th>VendName</th><th>VendStreetAddress</th><th>VendCity</th><th>VendState</th><th>VendZipCode</th><th>VendPhoneNumber</th><th>VendFaxNumber</th><th>VendWebPage</th><th>VendEMailAddress</th><th>ProductNumber</th><th>VendorID</th><th>WholesalePrice</th><th>DaysToDeliver</th><th>ProductNumber</th><th>ProductName</th><th>ProductDescription</th><th>RetailPrice</th><th>QuantityOnHand</th><th>CategoryID</th></tr>",
                            "<tr><td>4</td><td>ProFormance</td><td>29 N. Quail St.</td><td>Albany</td><td>NY</td><td>12012</td><td>(518) 444-1234</td><td>(518) 444-1235</td><td>#http://www.ProFormBikes.com/#</td><td>Sales@ProFormBikes.com</td><td>1</td><td>4</td><td>804.00</td><td>6</td><td>1</td><td>Trek 9000 Mountain Bike</td><td>NULL</td><td>1200.00</td><td>6</td><td>2</td></tr>",
                            "<tr><td>9</td><td>Lone Star Bike Supply</td><td>7402 Kingman Drive</td><td>El Paso</td><td>TX</td><td>79915</td><td>(915) 666-9876</td><td>(915) 666-9877</td><td>NULL</td><td>NULL</td><td>1</td><td>9</td><td>854.22</td><td>7</td><td>1</td><td>Trek 9000 Mountain Bike</td><td>NULL</td><td>1200.00</td><td>6</td><td>2</td></tr>",
                            "<tr><td>6</td><td>Big Sky Mountain Bikes</td><td>Glacier Bay South</td><td>Anchorage</td><td>AK</td><td>99209</td><td>(907) 222-1234</td><td>(907) 222-1235</td><td>NULL</td><td>NULL</td><td>2</td><td>6</td><td>1269.00</td><td>9</td><td>2</td><td>Eagle FS-3 Mountain Bike</td><td>NULL</td><td>1800.00</td><td>8</td><td>2</td></tr>",
                            "<tr><td>9</td><td>Lone Star Bike Supply</td><td>7402 Kingman Drive</td><td>El Paso</td><td>TX</td><td>79915</td><td>(915) 666-9876</td><td>(915) 666-9877</td><td>NULL</td><td>NULL</td><td>2</td><td>9</td><td>1477.81</td><td>7</td><td>2</td><td>Eagle FS-3 Mountain Bike</td><td>NULL</td><td>1800.00</td><td>8</td><td>2</td></tr>",
                            "<tr><td>7</td><td>Dog Ear</td><td>575 Madison Ave.</td><td>New York</td><td>NY</td><td>10003</td><td>(212) 888-9876</td><td>(212) 888-9877</td><td>NULL</td><td>NULL</td><td>3</td><td>7</td><td>54.19</td><td>10</td><td>3</td><td>Dog Ear Cyclecomputer</td><td>NULL</td><td>75.00</td><td>20</td><td>1</td></tr>",
                            "<tr><td>9</td><td>Lone Star Bike Supply</td><td>7402 Kingman Drive</td><td>El Paso</td><td>TX</td><td>79915</td><td>(915) 666-9876</td><td>(915) 666-9877</td><td>NULL</td><td>NULL</td><td>3</td><td>9</td><td>57.27</td><td>6</td><td>3</td><td>Dog Ear Cyclecomputer</td><td>NULL</td><td>75.00</td><td>20</td><td>1</td></tr>",
                            "<tr><td>6</td><td>Big Sky Mountain Bikes</td><td>Glacier Bay South</td><td>Anchorage</td><td>AK</td><td>99209</td><td>(907) 222-1234</td><td>(907) 222-1235</td><td>NULL</td><td>NULL</td><td>4</td><td>6</td><td>44.22</td><td>10</td><td>4</td><td>Victoria Pro All Weather Tires</td><td>NULL</td><td>54.95</td><td>20</td><td>4</td></tr>",
                            "<tr><td>9</td><td>Lone Star Bike Supply</td><td>7402 Kingman Drive</td><td>El Paso</td><td>TX</td><td>79915</td><td>(915) 666-9876</td><td>(915) 666-9877</td><td>NULL</td><td>NULL</td><td>4</td><td>9</td><td>41.62</td><td>14</td><td>4</td><td>Victoria Pro All Weather Tires</td><td>NULL</td><td>54.95</td><td>20</td><td>4</td></tr>",
                            "<tr><td>7</td><td>Dog Ear</td><td>575 Madison Ave.</td><td>New York</td><td>NY</td><td>10003</td><td>(212) 888-9876</td><td>(212) 888-9877</td><td>NULL</td><td>NULL</td><td>5</td><td>7</td><td>5.38</td><td>10</td><td>5</td><td>Dog Ear Helmet Mount Mirrors</td><td>NULL</td><td>7.45</td><td>12</td><td>1</td></tr>",
                            "<tr><td>9</td><td>Lone Star Bike Supply</td><td>7402 Kingman Drive</td><td>El Paso</td><td>TX</td><td>79915</td><td>(915) 666-9876</td><td>(915) 666-9877</td><td>NULL</td><td>NULL</td><td>5</td><td>9</td><td>5.87</td><td>9</td><td>5</td><td>Dog Ear Helmet Mount Mirrors</td><td>NULL</td><td>7.45</td><td>12</td><td>1</td></tr>",
                            "<tr><td>2</td><td>Viscount</td><td>1911 Commerce Way</td><td>St. Louis</td><td>MO</td><td>63127</td><td>(314) 777-1234</td><td>(314) 777-1235</td><td>#http://www.viscountbikes.com/#</td><td>Orders@ViscountBikes.com</td><td>6</td><td>2</td><td>403.22</td><td>3</td><td>6</td><td>Viscount Mountain Bike</td><td>NULL</td><td>635.00</td><td>5</td><td>2</td></tr>",
                            "<tr><td>9</td><td>Lone Star Bike Supply</td><td>7402 Kingman Drive</td><td>El Paso</td><td>TX</td><td>79915</td><td>(915) 666-9876</td><td>(915) 666-9877</td><td>NULL</td><td>NULL</td><td>6</td><td>9</td><td>448.73</td><td>7</td><td>6</td><td>Viscount Mountain Bike</td><td>NULL</td><td>635.00</td><td>5</td><td>2</td></tr>",
                            "<tr><td>2</td><td>Viscount</td><td>1911 Commerce Way</td><td>St. Louis</td><td>MO</td><td>63127</td><td>(314) 777-1234</td><td>(314) 777-1235</td><td>#http://www.viscountbikes.com/#</td><td>Orders@ViscountBikes.com</td><td>7</td><td>2</td><td>31.12</td><td>3</td><td>7</td><td>Viscount C-500 Wireless Bike Computer</td><td>NULL</td><td>49.00</td><td>30</td><td>1</td></tr>",
                            "<tr><td>8</td><td>Sun Sports Suppliers</td><td>PO Box 8082</td><td>Santa Monica</td><td>CA</td><td>91003</td><td>(310) 777-9876</td><td>(310) 777-9877</td><td>NULL</td><td>NULL</td><td>8</td><td>8</td><td>39.32</td><td>10</td><td>8</td><td>Kryptonite Advanced 2000 U-Lock</td><td>NULL</td><td>50.00</td><td>20</td><td>1</td></tr>",
                            "<tr><td>9</td><td>Lone Star Bike Supply</td><td>7402 Kingman Drive</td><td>El Paso</td><td>TX</td><td>79915</td><td>(915) 666-9876</td><td>(915) 666-9877</td><td>NULL</td><td>NULL</td><td>8</td><td>9</td><td>37.88</td><td>14</td><td>8</td><td>Kryptonite Advanced 2000 U-Lock</td><td>NULL</td><td>50.00</td><td>20</td><td>1</td></tr>",
                            "<tr><td>3</td><td>Nikoma of America</td><td>88 Old North Road Ave</td><td>Ballard</td><td>WA</td><td>91324</td><td>(206) 666-1234</td><td>(314) 666-1235</td><td>#http://www.nikomabikes.com/#</td><td>BuyBikes@NikomaBikes.com</td><td>9</td><td>3</td><td>21.53</td><td>4</td><td>9</td><td>Nikoma Lok-Tight U-Lock</td><td>NULL</td><td>33.00</td><td>12</td><td>1</td></tr>",
                            "<tr><td>2</td><td>Viscount</td><td>1911 Commerce Way</td><td>St. Louis</td><td>MO</td><td>63127</td><td>(314) 777-1234</td><td>(314) 777-1235</td><td>#http://www.viscountbikes.com/#</td><td>Orders@ViscountBikes.com</td><td>10</td><td>2</td><td>22.86</td><td>3</td><td>10</td><td>Viscount Microshell Helmet</td><td>NULL</td><td>36.00</td><td>20</td><td>1</td></tr>",
                            "<tr><td>3</td><td>Nikoma of America</td><td>88 Old North Road Ave</td><td>Ballard</td><td>WA</td><td>91324</td><td>(206) 666-1234</td><td>(314) 666-1235</td><td>#http://www.nikomabikes.com/#</td><td>BuyBikes@NikomaBikes.com</td><td>11</td><td>3</td><td>1076.62</td><td>4</td><td>11</td><td>GT RTS-2 Mountain Bike</td><td>NULL</td><td>1650.00</td><td>5</td><td>2</td></tr>",
                            "<tr><td>9</td><td>Lone Star Bike Supply</td><td>7402 Kingman Drive</td><td>El Paso</td><td>TX</td><td>79915</td><td>(915) 666-9876</td><td>(915) 666-9877</td><td>NULL</td><td>NULL</td><td>11</td><td>9</td><td>1178.65</td><td>7</td><td>11</td><td>GT RTS-2 Mountain Bike</td><td>NULL</td><td>1650.00</td><td>5</td><td>2</td></tr>",
                            "<tr><td>1</td><td>Shinoman, Incorporated</td><td>3042 19th Avenue South</td><td>Bellevue</td><td>WA</td><td>98001</td><td>(425) 888-1234</td><td>(425) 888-1235</td><td>#http://www.shinoman.com/#</td><td>Sales@Shiniman.com</td><td>12</td><td>1</td><td>14.51</td><td>2</td><td>12</td><td>Shinoman 105 SC Brakes</td><td>NULL</td><td>23.50</td><td>16</td><td>4</td></tr>",
                            "<tr><td>6</td><td>Big Sky Mountain Bikes</td><td>Glacier Bay South</td><td>Anchorage</td><td>AK</td><td>99209</td><td>(907) 222-1234</td><td>(907) 222-1235</td><td>NULL</td><td>NULL</td><td>12</td><td>6</td><td>15.44</td><td>10</td><td>12</td><td>Shinoman 105 SC Brakes</td><td>NULL</td><td>23.50</td><td>16</td><td>4</td></tr>",
                            "<tr><td>9</td><td>Lone Star Bike Supply</td><td>7402 Kingman Drive</td><td>El Paso</td><td>TX</td><td>79915</td><td>(915) 666-9876</td><td>(915) 666-9877</td><td>NULL</td><td>NULL</td><td>12</td><td>9</td><td>15.02</td><td>14</td><td>12</td><td>Shinoman 105 SC Brakes</td><td>NULL</td><td>23.50</td><td>16</td><td>4</td></tr>",
                            "<tr><td>1</td><td>Shinoman, Incorporated</td><td>3042 19th Avenue South</td><td>Bellevue</td><td>WA</td><td>98001</td><td>(425) 888-1234</td><td>(425) 888-1235</td><td>#http://www.shinoman.com/#</td><td>Sales@Shiniman.com</td><td>13</td><td>1</td><td>41.68</td><td>2</td><td>13</td><td>Shinoman Dura-Ace Headset</td><td>NULL</td><td>67.50</td><td>20</td><td>4</td></tr>",
                            "<tr><td>6</td><td>Big Sky Mountain Bikes</td><td>Glacier Bay South</td><td>Anchorage</td><td>AK</td><td>99209</td><td>(907) 222-1234</td><td>(907) 222-1235</td><td>NULL</td><td>NULL</td><td>13</td><td>6</td><td>43.99</td><td>10</td><td>13</td><td>Shinoman Dura-Ace Headset</td><td>NULL</td><td>67.50</td><td>20</td><td>4</td></tr>",
                            "<tr><td>9</td><td>Lone Star Bike Supply</td><td>7402 Kingman Drive</td><td>El Paso</td><td>TX</td><td>79915</td><td>(915) 666-9876</td><td>(915) 666-9877</td><td>NULL</td><td>NULL</td><td>13</td><td>9</td><td>43.77</td><td>14</td><td>13</td><td>Shinoman Dura-Ace Headset</td><td>NULL</td><td>67.50</td><td>20</td><td>4</td></tr>",
                            "<tr><td>6</td><td>Big Sky Mountain Bikes</td><td>Glacier Bay South</td><td>Anchorage</td><td>AK</td><td>99209</td><td>(907) 222-1234</td><td>(907) 222-1235</td><td>NULL</td><td>NULL</td><td>14</td><td>6</td><td>98.66</td><td>9</td><td>14</td><td>Eagle SA-120 Clipless Pedals</td><td>NULL</td><td>139.95</td><td>20</td><td>4</td></tr>",
                            "<tr><td>9</td><td>Lone Star Bike Supply</td><td>7402 Kingman Drive</td><td>El Paso</td><td>TX</td><td>79915</td><td>(915) 666-9876</td><td>(915) 666-9877</td><td>NULL</td><td>NULL</td><td>14</td><td>9</td><td>101.22</td><td>14</td><td>14</td><td>Eagle SA-120 Clipless Pedals</td><td>NULL</td><td>139.95</td><td>20</td><td>4</td></tr>",
                            "<tr><td>4</td><td>ProFormance</td><td>29 N. Quail St.</td><td>Albany</td><td>NY</td><td>12012</td><td>(518) 444-1234</td><td>(518) 444-1235</td><td>#http://www.ProFormBikes.com/#</td><td>Sales@ProFormBikes.com</td><td>15</td><td>4</td><td>3.34</td><td>6</td><td>15</td><td>ProFormance Toe-Klips 2G</td><td>NULL</td><td>4.99</td><td>40</td><td>4</td></tr>",
                            "<tr><td>6</td><td>Big Sky Mountain Bikes</td><td>Glacier Bay South</td><td>Anchorage</td><td>AK</td><td>99209</td><td>(907) 222-1234</td><td>(907) 222-1235</td><td>NULL</td><td>NULL</td><td>15</td><td>6</td><td>3.79</td><td>10</td><td>15</td><td>ProFormance Toe-Klips 2G</td><td>NULL</td><td>4.99</td><td>40</td><td>4</td></tr>",
                            "<tr><td>9</td><td>Lone Star Bike Supply</td><td>7402 Kingman Drive</td><td>El Paso</td><td>TX</td><td>79915</td><td>(915) 666-9876</td><td>(915) 666-9877</td><td>NULL</td><td>NULL</td><td>15</td><td>9</td><td>3.88</td><td>14</td><td>15</td><td>ProFormance Toe-Klips 2G</td><td>NULL</td><td>4.99</td><td>40</td><td>4</td></tr>",
                            "<tr><td>4</td><td>ProFormance</td><td>29 N. Quail St.</td><td>Albany</td><td>NY</td><td>12012</td><td>(518) 444-1234</td><td>(518) 444-1235</td><td>#http://www.ProFormBikes.com/#</td><td>Sales@ProFormBikes.com</td><td>16</td><td>4</td><td>18.76</td><td>6</td><td>16</td><td>ProFormance ATB All-Terrain Pedal</td><td>NULL</td><td>28.00</td><td>40</td><td>4</td></tr>",
                            "<tr><td>6</td><td>Big Sky Mountain Bikes</td><td>Glacier Bay South</td><td>Anchorage</td><td>AK</td><td>99209</td><td>(907) 222-1234</td><td>(907) 222-1235</td><td>NULL</td><td>NULL</td><td>16</td><td>6</td><td>19.33</td><td>10</td><td>16</td><td>ProFormance ATB All-Terrain Pedal</td><td>NULL</td><td>28.00</td><td>40</td><td>4</td></tr>",
                            "<tr><td>9</td><td>Lone Star Bike Supply</td><td>7402 Kingman Drive</td><td>El Paso</td><td>TX</td><td>79915</td><td>(915) 666-9876</td><td>(915) 666-9877</td><td>NULL</td><td>NULL</td><td>16</td><td>9</td><td>19.33</td><td>14</td><td>16</td><td>ProFormance ATB All-Terrain Pedal</td><td>NULL</td><td>28.00</td><td>40</td><td>4</td></tr>",
                            "<tr><td>1</td><td>Shinoman, Incorporated</td><td>3042 19th Avenue South</td><td>Bellevue</td><td>WA</td><td>98001</td><td>(425) 888-1234</td><td>(425) 888-1235</td><td>#http://www.shinoman.com/#</td><td>Sales@Shiniman.com</td><td>17</td><td>1</td><td>27.79</td><td>2</td><td>17</td><td>Shinoman Deluxe TX-30 Pedal</td><td>NULL</td><td>45.00</td><td>60</td><td>4</td></tr>",
                            "<tr><td>6</td><td>Big Sky Mountain Bikes</td><td>Glacier Bay South</td><td>Anchorage</td><td>AK</td><td>99209</td><td>(907) 222-1234</td><td>(907) 222-1235</td><td>NULL</td><td>NULL</td><td>17</td><td>6</td><td>28.55</td><td>10</td><td>17</td><td>Shinoman Deluxe TX-30 Pedal</td><td>NULL</td><td>45.00</td><td>60</td><td>4</td></tr>",
                            "<tr><td>9</td><td>Lone Star Bike Supply</td><td>7402 Kingman Drive</td><td>El Paso</td><td>TX</td><td>79915</td><td>(915) 666-9876</td><td>(915) 666-9877</td><td>NULL</td><td>NULL</td><td>17</td><td>9</td><td>28.55</td><td>14</td><td>17</td><td>Shinoman Deluxe TX-30 Pedal</td><td>NULL</td><td>45.00</td><td>60</td><td>4</td></tr>",
                            "<tr><td>2</td><td>Viscount</td><td>1911 Commerce Way</td><td>St. Louis</td><td>MO</td><td>63127</td><td>(314) 777-1234</td><td>(314) 777-1235</td><td>#http://www.viscountbikes.com/#</td><td>Orders@ViscountBikes.com</td><td>18</td><td>2</td><td>113.66</td><td>3</td><td>18</td><td>Viscount CardioSport Sport Watch</td><td>NULL</td><td>179.00</td><td>12</td><td>1</td></tr>",
                            "<tr><td>2</td><td>Viscount</td><td>1911 Commerce Way</td><td>St. Louis</td><td>MO</td><td>63127</td><td>(314) 777-1234</td><td>(314) 777-1235</td><td>#http://www.viscountbikes.com/#</td><td>Orders@ViscountBikes.com</td><td>19</td><td>2</td><td>29.84</td><td>3</td><td>19</td><td>Viscount Tru-Beat Heart Transmitter</td><td>NULL</td><td>47.00</td><td>20</td><td>1</td></tr>",
                            "<tr><td>7</td><td>Dog Ear</td><td>575 Madison Ave.</td><td>New York</td><td>NY</td><td>10003</td><td>(212) 888-9876</td><td>(212) 888-9877</td><td>NULL</td><td>NULL</td><td>20</td><td>7</td><td>10.84</td><td>10</td><td>20</td><td>Dog Ear Monster Grip Gloves</td><td>NULL</td><td>15.00</td><td>30</td><td>1</td></tr>",
                            "<tr><td>9</td><td>Lone Star Bike Supply</td><td>7402 Kingman Drive</td><td>El Paso</td><td>TX</td><td>79915</td><td>(915) 666-9876</td><td>(915) 666-9877</td><td>NULL</td><td>NULL</td><td>20</td><td>9</td><td>11.54</td><td>6</td><td>20</td><td>Dog Ear Monster Grip Gloves</td><td>NULL</td><td>15.00</td><td>30</td><td>1</td></tr>",
                            "<tr><td>7</td><td>Dog Ear</td><td>575 Madison Ave.</td><td>New York</td><td>NY</td><td>10003</td><td>(212) 888-9876</td><td>(212) 888-9877</td><td>NULL</td><td>NULL</td><td>21</td><td>7</td><td>39.74</td><td>10</td><td>21</td><td>Dog Ear Aero-Flow Floor Pump</td><td>NULL</td><td>55.00</td><td>25</td><td>1</td></tr>",
                            "<tr><td>9</td><td>Lone Star Bike Supply</td><td>7402 Kingman Drive</td><td>El Paso</td><td>TX</td><td>79915</td><td>(915) 666-9876</td><td>(915) 666-9877</td><td>NULL</td><td>NULL</td><td>21</td><td>9</td><td>41.50</td><td>9</td><td>21</td><td>Dog Ear Aero-Flow Floor Pump</td><td>NULL</td><td>55.00</td><td>25</td><td>1</td></tr>",
                            "<tr><td>10</td><td>Armadillo Brand</td><td>12330 Side Road Lane</td><td>Dallas</td><td>TX</td><td>75137</td><td>(214) 444-9876</td><td>(214) 444-9877</td><td>#http://www.DilloBikes.com/#</td><td>BikeProducts@DilloBikes.com</td><td>22</td><td>10</td><td>63.55</td><td>15</td><td>22</td><td>Pro-Sport &#39;Dillo Shades</td><td>NULL</td><td>82.00</td><td>18</td><td>1</td></tr>",
                            "<tr><td>6</td><td>Big Sky Mountain Bikes</td><td>Glacier Bay South</td><td>Anchorage</td><td>AK</td><td>99209</td><td>(907) 222-1234</td><td>(907) 222-1235</td><td>NULL</td><td>NULL</td><td>23</td><td>6</td><td>69.54</td><td>15</td><td>23</td><td>Ultra-Pro Rain Jacket</td><td>NULL</td><td>85.00</td><td>30</td><td>3</td></tr>",
                            "<tr><td>9</td><td>Lone Star Bike Supply</td><td>7402 Kingman Drive</td><td>El Paso</td><td>TX</td><td>79915</td><td>(915) 666-9876</td><td>(915) 666-9877</td><td>NULL</td><td>NULL</td><td>23</td><td>9</td><td>64.39</td><td>14</td><td>23</td><td>Ultra-Pro Rain Jacket</td><td>NULL</td><td>85.00</td><td>30</td><td>3</td></tr>",
                            "<tr><td>6</td><td>Big Sky Mountain Bikes</td><td>Glacier Bay South</td><td>Anchorage</td><td>AK</td><td>99209</td><td>(907) 222-1234</td><td>(907) 222-1235</td><td>NULL</td><td>NULL</td><td>24</td><td>6</td><td>55.91</td><td>15</td><td>24</td><td>StaDry Cycling Pants</td><td>NULL</td><td>69.00</td><td>22</td><td>3</td></tr>",
                            "<tr><td>7</td><td>Dog Ear</td><td>575 Madison Ave.</td><td>New York</td><td>NY</td><td>10003</td><td>(212) 888-9876</td><td>(212) 888-9877</td><td>NULL</td><td>NULL</td><td>24</td><td>7</td><td>53.88</td><td>10</td><td>24</td><td>StaDry Cycling Pants</td><td>NULL</td><td>69.00</td><td>22</td><td>3</td></tr>",
                            "<tr><td>9</td><td>Lone Star Bike Supply</td><td>7402 Kingman Drive</td><td>El Paso</td><td>TX</td><td>79915</td><td>(915) 666-9876</td><td>(915) 666-9877</td><td>NULL</td><td>NULL</td><td>24</td><td>9</td><td>52.27</td><td>14</td><td>24</td><td>StaDry Cycling Pants</td><td>NULL</td><td>69.00</td><td>22</td><td>3</td></tr>",
                            "<tr><td>9</td><td>Lone Star Bike Supply</td><td>7402 Kingman Drive</td><td>El Paso</td><td>TX</td><td>79915</td><td>(915) 666-9876</td><td>(915) 666-9877</td><td>NULL</td><td>NULL</td><td>25</td><td>9</td><td>105.29</td><td>14</td><td>25</td><td>King Cobra Helmet</td><td>NULL</td><td>139.00</td><td>30</td><td>1</td></tr>",
                            "<tr><td>10</td><td>Armadillo Brand</td><td>12330 Side Road Lane</td><td>Dallas</td><td>TX</td><td>75137</td><td>(214) 444-9876</td><td>(214) 444-9877</td><td>#http://www.DilloBikes.com/#</td><td>BikeProducts@DilloBikes.com</td><td>25</td><td>10</td><td>101.58</td><td>15</td><td>25</td><td>King Cobra Helmet</td><td>NULL</td><td>139.00</td><td>30</td><td>1</td></tr>",
                            "<tr><td>3</td><td>Nikoma of America</td><td>88 Old North Road Ave</td><td>Ballard</td><td>WA</td><td>91324</td><td>(206) 666-1234</td><td>(314) 666-1235</td><td>#http://www.nikomabikes.com/#</td><td>BuyBikes@NikomaBikes.com</td><td>26</td><td>3</td><td>81.56</td><td>4</td><td>26</td><td>Glide-O-Matic Cycling Helmet</td><td>NULL</td><td>125.00</td><td>24</td><td>1</td></tr>",
                            "<tr><td>6</td><td>Big Sky Mountain Bikes</td><td>Glacier Bay South</td><td>Anchorage</td><td>AK</td><td>99209</td><td>(907) 222-1234</td><td>(907) 222-1235</td><td>NULL</td><td>NULL</td><td>26</td><td>6</td><td>79.88</td><td>15</td><td>26</td><td>Glide-O-Matic Cycling Helmet</td><td>NULL</td><td>125.00</td><td>24</td><td>1</td></tr>",
                            "<tr><td>3</td><td>Nikoma of America</td><td>88 Old North Road Ave</td><td>Ballard</td><td>WA</td><td>91324</td><td>(206) 666-1234</td><td>(314) 666-1235</td><td>#http://www.nikomabikes.com/#</td><td>BuyBikes@NikomaBikes.com</td><td>27</td><td>3</td><td>15.66</td><td>4</td><td>27</td><td>X-Pro All Weather Tires</td><td>NULL</td><td>24.00</td><td>20</td><td>6</td></tr>",
                            "<tr><td>6</td><td>Big Sky Mountain Bikes</td><td>Glacier Bay South</td><td>Anchorage</td><td>AK</td><td>99209</td><td>(907) 222-1234</td><td>(907) 222-1235</td><td>NULL</td><td>NULL</td><td>27</td><td>6</td><td>16.88</td><td>10</td><td>27</td><td>X-Pro All Weather Tires</td><td>NULL</td><td>24.00</td><td>20</td><td>6</td></tr>",
                            "<tr><td>9</td><td>Lone Star Bike Supply</td><td>7402 Kingman Drive</td><td>El Paso</td><td>TX</td><td>79915</td><td>(915) 666-9876</td><td>(915) 666-9877</td><td>NULL</td><td>NULL</td><td>27</td><td>9</td><td>15.88</td><td>14</td><td>27</td><td>X-Pro All Weather Tires</td><td>NULL</td><td>24.00</td><td>20</td><td>6</td></tr>",
                            "<tr><td>3</td><td>Nikoma of America</td><td>88 Old North Road Ave</td><td>Ballard</td><td>WA</td><td>91324</td><td>(206) 666-1234</td><td>(314) 666-1235</td><td>#http://www.nikomabikes.com/#</td><td>BuyBikes@NikomaBikes.com</td><td>28</td><td>3</td><td>18.92</td><td>4</td><td>28</td><td>Turbo Twin Tires</td><td>NULL</td><td>29.00</td><td>18</td><td>6</td></tr>",
                            "<tr><td>6</td><td>Big Sky Mountain Bikes</td><td>Glacier Bay South</td><td>Anchorage</td><td>AK</td><td>99209</td><td>(907) 222-1234</td><td>(907) 222-1235</td><td>NULL</td><td>NULL</td><td>28</td><td>6</td><td>20.56</td><td>10</td><td>28</td><td>Turbo Twin Tires</td><td>NULL</td><td>29.00</td><td>18</td><td>6</td></tr>",
                            "<tr><td>9</td><td>Lone Star Bike Supply</td><td>7402 Kingman Drive</td><td>El Paso</td><td>TX</td><td>79915</td><td>(915) 666-9876</td><td>(915) 666-9877</td><td>NULL</td><td>NULL</td><td>28</td><td>9</td><td>19.04</td><td>14</td><td>28</td><td>Turbo Twin Tires</td><td>NULL</td><td>29.00</td><td>18</td><td>6</td></tr>",
                            "<tr><td>5</td><td>Kona, Incorporated</td><td>PO Box 10429</td><td>Redmond</td><td>WA</td><td>98052</td><td>(425) 333-1234</td><td>(425) 333-1235</td><td>#http://www.konabikes.com/#</td><td>Sales@KonaBikes.com</td><td>29</td><td>5</td><td>23.38</td><td>8</td><td>29</td><td>Ultra-2K Competition Tire</td><td>NULL</td><td>34.00</td><td>22</td><td>6</td></tr>",
                            "<tr><td>6</td><td>Big Sky Mountain Bikes</td><td>Glacier Bay South</td><td>Anchorage</td><td>AK</td><td>99209</td><td>(907) 222-1234</td><td>(907) 222-1235</td><td>NULL</td><td>NULL</td><td>29</td><td>6</td><td>24.44</td><td>10</td><td>29</td><td>Ultra-2K Competition Tire</td><td>NULL</td><td>34.00</td><td>22</td><td>6</td></tr>",
                            "<tr><td>9</td><td>Lone Star Bike Supply</td><td>7402 Kingman Drive</td><td>El Paso</td><td>TX</td><td>79915</td><td>(915) 666-9876</td><td>(915) 666-9877</td><td>NULL</td><td>NULL</td><td>29</td><td>9</td><td>23.99</td><td>14</td><td>29</td><td>Ultra-2K Competition Tire</td><td>NULL</td><td>34.00</td><td>22</td><td>6</td></tr>",
                            "<tr><td>8</td><td>Sun Sports Suppliers</td><td>PO Box 8082</td><td>Santa Monica</td><td>CA</td><td>91003</td><td>(310) 777-9876</td><td>(310) 777-9877</td><td>NULL</td><td>NULL</td><td>30</td><td>8</td><td>33.30</td><td>12</td><td>30</td><td>Clear Shade 85-T Glasses</td><td>NULL</td><td>45.00</td><td>14</td><td>1</td></tr>",
                            "<tr><td>9</td><td>Lone Star Bike Supply</td><td>7402 Kingman Drive</td><td>El Paso</td><td>TX</td><td>79915</td><td>(915) 666-9876</td><td>(915) 666-9877</td><td>NULL</td><td>NULL</td><td>30</td><td>9</td><td>35.32</td><td>8</td><td>30</td><td>Clear Shade 85-T Glasses</td><td>NULL</td><td>45.00</td><td>14</td><td>1</td></tr>",
                            "<tr><td>10</td><td>Armadillo Brand</td><td>12330 Side Road Lane</td><td>Dallas</td><td>TX</td><td>75137</td><td>(214) 444-9876</td><td>(214) 444-9877</td><td>#http://www.DilloBikes.com/#</td><td>BikeProducts@DilloBikes.com</td><td>30</td><td>10</td><td>32.87</td><td>15</td><td>30</td><td>Clear Shade 85-T Glasses</td><td>NULL</td><td>45.00</td><td>14</td><td>1</td></tr>",
                            "<tr><td>7</td><td>Dog Ear</td><td>575 Madison Ave.</td><td>New York</td><td>NY</td><td>10003</td><td>(212) 888-9876</td><td>(212) 888-9877</td><td>NULL</td><td>NULL</td><td>31</td><td>7</td><td>15.85</td><td>15</td><td>31</td><td>True Grip Competition Gloves</td><td>NULL</td><td>22.00</td><td>20</td><td>1</td></tr>",
                            "<tr><td>8</td><td>Sun Sports Suppliers</td><td>PO Box 8082</td><td>Santa Monica</td><td>CA</td><td>91003</td><td>(310) 777-9876</td><td>(310) 777-9877</td><td>NULL</td><td>NULL</td><td>31</td><td>8</td><td>16.28</td><td>12</td><td>31</td><td>True Grip Competition Gloves</td><td>NULL</td><td>22.00</td><td>20</td><td>1</td></tr>",
                            "<tr><td>9</td><td>Lone Star Bike Supply</td><td>7402 Kingman Drive</td><td>El Paso</td><td>TX</td><td>79915</td><td>(915) 666-9876</td><td>(915) 666-9877</td><td>NULL</td><td>NULL</td><td>31</td><td>9</td><td>16.93</td><td>7</td><td>31</td><td>True Grip Competition Gloves</td><td>NULL</td><td>22.00</td><td>20</td><td>1</td></tr>",
                            "<tr><td>10</td><td>Armadillo Brand</td><td>12330 Side Road Lane</td><td>Dallas</td><td>TX</td><td>75137</td><td>(214) 444-9876</td><td>(214) 444-9877</td><td>#http://www.DilloBikes.com/#</td><td>BikeProducts@DilloBikes.com</td><td>31</td><td>10</td><td>16.90</td><td>9</td><td>31</td><td>True Grip Competition Gloves</td><td>NULL</td><td>22.00</td><td>20</td><td>1</td></tr>",
                            "<tr><td>6</td><td>Big Sky Mountain Bikes</td><td>Glacier Bay South</td><td>Anchorage</td><td>AK</td><td>99209</td><td>(907) 222-1234</td><td>(907) 222-1235</td><td>NULL</td><td>NULL</td><td>32</td><td>6</td><td>24.77</td><td>15</td><td>32</td><td>Kool-Breeze Rocket Top Jersey</td><td>NULL</td><td>32.00</td><td>12</td><td>3</td></tr>",
                            "<tr><td>7</td><td>Dog Ear</td><td>575 Madison Ave.</td><td>New York</td><td>NY</td><td>10003</td><td>(212) 888-9876</td><td>(212) 888-9877</td><td>NULL</td><td>NULL</td><td>32</td><td>7</td><td>24.12</td><td>10</td><td>32</td><td>Kool-Breeze Rocket Top Jersey</td><td>NULL</td><td>32.00</td><td>12</td><td>3</td></tr>",
                            "<tr><td>8</td><td>Sun Sports Suppliers</td><td>PO Box 8082</td><td>Santa Monica</td><td>CA</td><td>91003</td><td>(310) 777-9876</td><td>(310) 777-9877</td><td>NULL</td><td>NULL</td><td>32</td><td>8</td><td>23.68</td><td>12</td><td>32</td><td>Kool-Breeze Rocket Top Jersey</td><td>NULL</td><td>32.00</td><td>12</td><td>3</td></tr>",
                            "<tr><td>6</td><td>Big Sky Mountain Bikes</td><td>Glacier Bay South</td><td>Anchorage</td><td>AK</td><td>99209</td><td>(907) 222-1234</td><td>(907) 222-1235</td><td>NULL</td><td>NULL</td><td>33</td><td>6</td><td>15.23</td><td>15</td><td>33</td><td>Wonder Wool Cycle Socks</td><td>NULL</td><td>19.00</td><td>30</td><td>3</td></tr>",
                            "<tr><td>8</td><td>Sun Sports Suppliers</td><td>PO Box 8082</td><td>Santa Monica</td><td>CA</td><td>91003</td><td>(310) 777-9876</td><td>(310) 777-9877</td><td>NULL</td><td>NULL</td><td>33</td><td>8</td><td>14.06</td><td>12</td><td>33</td><td>Wonder Wool Cycle Socks</td><td>NULL</td><td>19.00</td><td>30</td><td>3</td></tr>",
                            "<tr><td>6</td><td>Big Sky Mountain Bikes</td><td>Glacier Bay South</td><td>Anchorage</td><td>AK</td><td>99209</td><td>(907) 222-1234</td><td>(907) 222-1235</td><td>NULL</td><td>NULL</td><td>34</td><td>6</td><td>19.04</td><td>9</td><td>34</td><td>TransPort Bicycle Rack</td><td>NULL</td><td>27.00</td><td>14</td><td>1</td></tr>",
                            "<tr><td>9</td><td>Lone Star Bike Supply</td><td>7402 Kingman Drive</td><td>El Paso</td><td>TX</td><td>79915</td><td>(915) 666-9876</td><td>(915) 666-9877</td><td>NULL</td><td>NULL</td><td>34</td><td>9</td><td>23.86</td><td>3</td><td>34</td><td>TransPort Bicycle Rack</td><td>NULL</td><td>27.00</td><td>14</td><td>1</td></tr>",
                            "<tr><td>10</td><td>Armadillo Brand</td><td>12330 Side Road Lane</td><td>Dallas</td><td>TX</td><td>75137</td><td>(214) 444-9876</td><td>(214) 444-9877</td><td>#http://www.DilloBikes.com/#</td><td>BikeProducts@DilloBikes.com</td><td>34</td><td>10</td><td>19.32</td><td>10</td><td>34</td><td>TransPort Bicycle Rack</td><td>NULL</td><td>27.00</td><td>14</td><td>1</td></tr>",
                            "<tr><td>6</td><td>Big Sky Mountain Bikes</td><td>Glacier Bay South</td><td>Anchorage</td><td>AK</td><td>99209</td><td>(907) 222-1234</td><td>(907) 222-1235</td><td>NULL</td><td>NULL</td><td>35</td><td>6</td><td>27.49</td><td>9</td><td>35</td><td>HP Deluxe Panniers</td><td>NULL</td><td>39.00</td><td>10</td><td>1</td></tr>",
                            "<tr><td>9</td><td>Lone Star Bike Supply</td><td>7402 Kingman Drive</td><td>El Paso</td><td>TX</td><td>79915</td><td>(915) 666-9876</td><td>(915) 666-9877</td><td>NULL</td><td>NULL</td><td>35</td><td>9</td><td>28.22</td><td>6</td><td>35</td><td>HP Deluxe Panniers</td><td>NULL</td><td>39.00</td><td>10</td><td>1</td></tr>",
                            "<tr><td>6</td><td>Big Sky Mountain Bikes</td><td>Glacier Bay South</td><td>Anchorage</td><td>AK</td><td>99209</td><td>(907) 222-1234</td><td>(907) 222-1235</td><td>NULL</td><td>NULL</td><td>36</td><td>6</td><td>122.88</td><td>10</td><td>36</td><td>Cosmic Elite Road Warrior Wheels</td><td>NULL</td><td>165.00</td><td>22</td><td>4</td></tr>",
                            "<tr><td>7</td><td>Dog Ear</td><td>575 Madison Ave.</td><td>New York</td><td>NY</td><td>10003</td><td>(212) 888-9876</td><td>(212) 888-9877</td><td>NULL</td><td>NULL</td><td>36</td><td>7</td><td>119.21</td><td>10</td><td>36</td><td>Cosmic Elite Road Warrior Wheels</td><td>NULL</td><td>165.00</td><td>22</td><td>4</td></tr>",
                            "<tr><td>9</td><td>Lone Star Bike Supply</td><td>7402 Kingman Drive</td><td>El Paso</td><td>TX</td><td>79915</td><td>(915) 666-9876</td><td>(915) 666-9877</td><td>NULL</td><td>NULL</td><td>36</td><td>9</td><td>122.78</td><td>14</td><td>36</td><td>Cosmic Elite Road Warrior Wheels</td><td>NULL</td><td>165.00</td><td>22</td><td>4</td></tr>",
                            "<tr><td>2</td><td>Viscount</td><td>1911 Commerce Way</td><td>St. Louis</td><td>MO</td><td>63127</td><td>(314) 777-1234</td><td>(314) 777-1235</td><td>#http://www.viscountbikes.com/#</td><td>Orders@ViscountBikes.com</td><td>37</td><td>2</td><td>120.02</td><td>3</td><td>37</td><td>AeroFlo ATB Wheels</td><td>NULL</td><td>189.00</td><td>40</td><td>4</td></tr>",
                            "<tr><td>6</td><td>Big Sky Mountain Bikes</td><td>Glacier Bay South</td><td>Anchorage</td><td>AK</td><td>99209</td><td>(907) 222-1234</td><td>(907) 222-1235</td><td>NULL</td><td>NULL</td><td>37</td><td>6</td><td>125.99</td><td>10</td><td>37</td><td>AeroFlo ATB Wheels</td><td>NULL</td><td>189.00</td><td>40</td><td>4</td></tr>",
                            "<tr><td>9</td><td>Lone Star Bike Supply</td><td>7402 Kingman Drive</td><td>El Paso</td><td>TX</td><td>79915</td><td>(915) 666-9876</td><td>(915) 666-9877</td><td>NULL</td><td>NULL</td><td>37</td><td>9</td><td>124.89</td><td>14</td><td>37</td><td>AeroFlo ATB Wheels</td><td>NULL</td><td>189.00</td><td>40</td><td>4</td></tr>",
                            "<tr><td>9</td><td>Lone Star Bike Supply</td><td>7402 Kingman Drive</td><td>El Paso</td><td>TX</td><td>79915</td><td>(915) 666-9876</td><td>(915) 666-9877</td><td>NULL</td><td>NULL</td><td>38</td><td>9</td><td>136.98</td><td>6</td><td>38</td><td>Cycle-Doc Pro Repair Stand</td><td>NULL</td><td>166.00</td><td>12</td><td>1</td></tr>",
                            "<tr><td>10</td><td>Armadillo Brand</td><td>12330 Side Road Lane</td><td>Dallas</td><td>TX</td><td>75137</td><td>(214) 444-9876</td><td>(214) 444-9877</td><td>#http://www.DilloBikes.com/#</td><td>BikeProducts@DilloBikes.com</td><td>38</td><td>10</td><td>128.65</td><td>15</td><td>38</td><td>Cycle-Doc Pro Repair Stand</td><td>NULL</td><td>166.00</td><td>12</td><td>1</td></tr>",
                            "<tr><td>6</td><td>Big Sky Mountain Bikes</td><td>Glacier Bay South</td><td>Anchorage</td><td>AK</td><td>99209</td><td>(907) 222-1234</td><td>(907) 222-1235</td><td>NULL</td><td>NULL</td><td>39</td><td>6</td><td>137.55</td><td>7</td><td>39</td><td>Road Warrior Hitch Pack</td><td>NULL</td><td>175.00</td><td>6</td><td>5</td></tr>",
                            "<tr><td>7</td><td>Dog Ear</td><td>575 Madison Ave.</td><td>New York</td><td>NY</td><td>10003</td><td>(212) 888-9876</td><td>(212) 888-9877</td><td>NULL</td><td>NULL</td><td>39</td><td>7</td><td>126.44</td><td>10</td><td>39</td><td>Road Warrior Hitch Pack</td><td>NULL</td><td>175.00</td><td>6</td><td>5</td></tr>",
                            "<tr><td>6</td><td>Big Sky Mountain Bikes</td><td>Glacier Bay South</td><td>Anchorage</td><td>AK</td><td>99209</td><td>(907) 222-1234</td><td>(907) 222-1235</td><td>NULL</td><td>NULL</td><td>40</td><td>6</td><td>154.87</td><td>10</td><td>40</td><td>Ultimate Export 2G Car Rack</td><td>NULL</td><td>180.00</td><td>8</td><td>5</td></tr>",
                            "<tr><td>9</td><td>Lone Star Bike Supply</td><td>7402 Kingman Drive</td><td>El Paso</td><td>TX</td><td>79915</td><td>(915) 666-9876</td><td>(915) 666-9877</td><td>NULL</td><td>NULL</td><td>40</td><td>9</td><td>136.35</td><td>14</td><td>40</td><td>Ultimate Export 2G Car Rack</td><td>NULL</td><td>180.00</td><td>8</td><td>5</td></tr>",
                            "</table>"
                        ]
                    }
                }
            ],
            "execution_count": 4
        },
        {
            "cell_type": "markdown",
            "source": [
                "**School Scheduling database**  \n",
                "4\\. List each faculty member and the number of classes each is scheduled to teach.  Show the results so that the faculty members teaching the most classes are shown first.  (22 rows, with faculty teaching 10 classes shown first)"
            ],
            "metadata": {
                "azdata_cell_guid": "a195a51f-27a4-4732-a79b-be8dbd5f059d"
            },
            "attachments": {}
        },
        {
            "cell_type": "code",
            "source": [
                "use SchoolSchedulingExample\r\n",
                "SELECT S.StfFirstName, S.StfLastname, COUNT(F.StaffID) [Faculty Classes] FROM Faculty as F\r\n",
                "JOIN Faculty_Classes as FC\r\n",
                "  ON FC.StaffID = F.StaffID\r\n",
                "JOIN Staff as S\r\n",
                "  ON S.StaffID = F.StaffID\r\n",
                "GROUP BY F.StaffID, S.StfFirstName, S.StfLastname\r\n",
                "ORDER BY [Faculty Classes] DESC\r\n",
                ""
            ],
            "metadata": {
                "azdata_cell_guid": "942e5273-cb33-4c3c-b11a-b9aaf6de47e5",
                "language": "sql",
                "tags": []
            },
            "outputs": [
                {
                    "output_type": "display_data",
                    "data": {
                        "text/html": "(22 rows affected)"
                    },
                    "metadata": {}
                },
                {
                    "output_type": "display_data",
                    "data": {
                        "text/html": "Total execution time: 00:00:00.082"
                    },
                    "metadata": {}
                },
                {
                    "output_type": "execute_result",
                    "metadata": {},
                    "execution_count": 5,
                    "data": {
                        "application/vnd.dataresource+json": {
                            "schema": {
                                "fields": [
                                    {
                                        "name": "StfFirstName"
                                    },
                                    {
                                        "name": "StfLastname"
                                    },
                                    {
                                        "name": "Faculty Classes"
                                    }
                                ]
                            },
                            "data": [
                                {
                                    "StfFirstName": "Robert",
                                    "StfLastname": "Brown",
                                    "Faculty Classes": "10"
                                },
                                {
                                    "StfFirstName": "Deb",
                                    "StfLastname": "Waldal",
                                    "Faculty Classes": "10"
                                },
                                {
                                    "StfFirstName": "Liz",
                                    "StfLastname": "Keyser",
                                    "Faculty Classes": "10"
                                },
                                {
                                    "StfFirstName": "Sam",
                                    "StfLastname": "Abolrous",
                                    "Faculty Classes": "8"
                                },
                                {
                                    "StfFirstName": "Ann",
                                    "StfLastname": "Patterson",
                                    "Faculty Classes": "8"
                                },
                                {
                                    "StfFirstName": "Alaina",
                                    "StfLastname": "Hallmark",
                                    "Faculty Classes": "8"
                                },
                                {
                                    "StfFirstName": "Caleb",
                                    "StfLastname": "Viescas",
                                    "Faculty Classes": "8"
                                },
                                {
                                    "StfFirstName": "Maria",
                                    "StfLastname": "Patterson",
                                    "Faculty Classes": "8"
                                },
                                {
                                    "StfFirstName": "Alastair",
                                    "StfLastname": "Black",
                                    "Faculty Classes": "6"
                                },
                                {
                                    "StfFirstName": "Jim",
                                    "StfLastname": "Wilson",
                                    "Faculty Classes": "6"
                                },
                                {
                                    "StfFirstName": "David",
                                    "StfLastname": "Smith",
                                    "Faculty Classes": "6"
                                },
                                {
                                    "StfFirstName": "Jim",
                                    "StfLastname": "Glynn",
                                    "Faculty Classes": "6"
                                },
                                {
                                    "StfFirstName": "Carol",
                                    "StfLastname": "Viescas",
                                    "Faculty Classes": "4"
                                },
                                {
                                    "StfFirstName": "Suzanne",
                                    "StfLastname": "Viescas",
                                    "Faculty Classes": "4"
                                },
                                {
                                    "StfFirstName": "Gary",
                                    "StfLastname": "Hallmark",
                                    "Faculty Classes": "4"
                                },
                                {
                                    "StfFirstName": "Peter",
                                    "StfLastname": "Brehm",
                                    "Faculty Classes": "4"
                                },
                                {
                                    "StfFirstName": "Mariya",
                                    "StfLastname": "Sergienko",
                                    "Faculty Classes": "4"
                                },
                                {
                                    "StfFirstName": "Joyce",
                                    "StfLastname": "Bonnicksen",
                                    "Faculty Classes": "4"
                                },
                                {
                                    "StfFirstName": "Katherine",
                                    "StfLastname": "Ehrlich",
                                    "Faculty Classes": "4"
                                },
                                {
                                    "StfFirstName": "Kirk",
                                    "StfLastname": "DeGrasse",
                                    "Faculty Classes": "4"
                                },
                                {
                                    "StfFirstName": "Luke",
                                    "StfLastname": "Patterson",
                                    "Faculty Classes": "2"
                                },
                                {
                                    "StfFirstName": "Michael",
                                    "StfLastname": "Hernandez",
                                    "Faculty Classes": "2"
                                }
                            ]
                        },
                        "text/html": [
                            "<table>",
                            "<tr><th>StfFirstName</th><th>StfLastname</th><th>Faculty Classes</th></tr>",
                            "<tr><td>Robert</td><td>Brown</td><td>10</td></tr>",
                            "<tr><td>Deb</td><td>Waldal</td><td>10</td></tr>",
                            "<tr><td>Liz</td><td>Keyser</td><td>10</td></tr>",
                            "<tr><td>Sam</td><td>Abolrous</td><td>8</td></tr>",
                            "<tr><td>Ann</td><td>Patterson</td><td>8</td></tr>",
                            "<tr><td>Alaina</td><td>Hallmark</td><td>8</td></tr>",
                            "<tr><td>Caleb</td><td>Viescas</td><td>8</td></tr>",
                            "<tr><td>Maria</td><td>Patterson</td><td>8</td></tr>",
                            "<tr><td>Alastair</td><td>Black</td><td>6</td></tr>",
                            "<tr><td>Jim</td><td>Wilson</td><td>6</td></tr>",
                            "<tr><td>David</td><td>Smith</td><td>6</td></tr>",
                            "<tr><td>Jim</td><td>Glynn</td><td>6</td></tr>",
                            "<tr><td>Carol</td><td>Viescas</td><td>4</td></tr>",
                            "<tr><td>Suzanne</td><td>Viescas</td><td>4</td></tr>",
                            "<tr><td>Gary</td><td>Hallmark</td><td>4</td></tr>",
                            "<tr><td>Peter</td><td>Brehm</td><td>4</td></tr>",
                            "<tr><td>Mariya</td><td>Sergienko</td><td>4</td></tr>",
                            "<tr><td>Joyce</td><td>Bonnicksen</td><td>4</td></tr>",
                            "<tr><td>Katherine</td><td>Ehrlich</td><td>4</td></tr>",
                            "<tr><td>Kirk</td><td>DeGrasse</td><td>4</td></tr>",
                            "<tr><td>Luke</td><td>Patterson</td><td>2</td></tr>",
                            "<tr><td>Michael</td><td>Hernandez</td><td>2</td></tr>",
                            "</table>"
                        ]
                    }
                }
            ],
            "execution_count": 5
        },
        {
            "cell_type": "markdown",
            "source": [
                "5.  Repeat the previous question, but be sure to include a count of 0 for the two faculty who are not teaching any classes.  Hint: you'll need to use an outer join."
            ],
            "metadata": {
                "azdata_cell_guid": "7e8b8e36-23db-426f-9f61-1662c2829dff"
            },
            "attachments": {}
        },
        {
            "cell_type": "code",
            "source": [
                "use SchoolSchedulingExample\r\n",
                "SELECT S.StfFirstName, S.StfLastname, COUNT(F.StaffID) [Faculty Classes] FROM Faculty as F\r\n",
                "LEFT Outer JOIN Faculty_Classes as FC\r\n",
                "  ON FC.StaffID = F.StaffID\r\n",
                "LEFT Outer JOIN Staff as S\r\n",
                "  ON S.StaffID = F.StaffID\r\n",
                "GROUP BY F.StaffID, S.StfFirstName, S.StfLastname\r\n",
                "ORDER BY [Faculty Classes] DESC"
            ],
            "metadata": {
                "azdata_cell_guid": "fd59e662-d465-43cb-bf64-6de7403e8403",
                "language": "sql"
            },
            "outputs": [
                {
                    "output_type": "display_data",
                    "data": {
                        "text/html": "(24 rows affected)"
                    },
                    "metadata": {}
                },
                {
                    "output_type": "display_data",
                    "data": {
                        "text/html": "Total execution time: 00:00:00.025"
                    },
                    "metadata": {}
                },
                {
                    "output_type": "execute_result",
                    "metadata": {},
                    "execution_count": 6,
                    "data": {
                        "application/vnd.dataresource+json": {
                            "schema": {
                                "fields": [
                                    {
                                        "name": "StfFirstName"
                                    },
                                    {
                                        "name": "StfLastname"
                                    },
                                    {
                                        "name": "Faculty Classes"
                                    }
                                ]
                            },
                            "data": [
                                {
                                    "StfFirstName": "Robert",
                                    "StfLastname": "Brown",
                                    "Faculty Classes": "10"
                                },
                                {
                                    "StfFirstName": "Deb",
                                    "StfLastname": "Waldal",
                                    "Faculty Classes": "10"
                                },
                                {
                                    "StfFirstName": "Liz",
                                    "StfLastname": "Keyser",
                                    "Faculty Classes": "10"
                                },
                                {
                                    "StfFirstName": "Sam",
                                    "StfLastname": "Abolrous",
                                    "Faculty Classes": "8"
                                },
                                {
                                    "StfFirstName": "Ann",
                                    "StfLastname": "Patterson",
                                    "Faculty Classes": "8"
                                },
                                {
                                    "StfFirstName": "Alaina",
                                    "StfLastname": "Hallmark",
                                    "Faculty Classes": "8"
                                },
                                {
                                    "StfFirstName": "Caleb",
                                    "StfLastname": "Viescas",
                                    "Faculty Classes": "8"
                                },
                                {
                                    "StfFirstName": "Maria",
                                    "StfLastname": "Patterson",
                                    "Faculty Classes": "8"
                                },
                                {
                                    "StfFirstName": "Alastair",
                                    "StfLastname": "Black",
                                    "Faculty Classes": "6"
                                },
                                {
                                    "StfFirstName": "Jim",
                                    "StfLastname": "Wilson",
                                    "Faculty Classes": "6"
                                },
                                {
                                    "StfFirstName": "David",
                                    "StfLastname": "Smith",
                                    "Faculty Classes": "6"
                                },
                                {
                                    "StfFirstName": "Jim",
                                    "StfLastname": "Glynn",
                                    "Faculty Classes": "6"
                                },
                                {
                                    "StfFirstName": "Carol",
                                    "StfLastname": "Viescas",
                                    "Faculty Classes": "4"
                                },
                                {
                                    "StfFirstName": "Suzanne",
                                    "StfLastname": "Viescas",
                                    "Faculty Classes": "4"
                                },
                                {
                                    "StfFirstName": "Gary",
                                    "StfLastname": "Hallmark",
                                    "Faculty Classes": "4"
                                },
                                {
                                    "StfFirstName": "Peter",
                                    "StfLastname": "Brehm",
                                    "Faculty Classes": "4"
                                },
                                {
                                    "StfFirstName": "Mariya",
                                    "StfLastname": "Sergienko",
                                    "Faculty Classes": "4"
                                },
                                {
                                    "StfFirstName": "Joyce",
                                    "StfLastname": "Bonnicksen",
                                    "Faculty Classes": "4"
                                },
                                {
                                    "StfFirstName": "Katherine",
                                    "StfLastname": "Ehrlich",
                                    "Faculty Classes": "4"
                                },
                                {
                                    "StfFirstName": "Kirk",
                                    "StfLastname": "DeGrasse",
                                    "Faculty Classes": "4"
                                },
                                {
                                    "StfFirstName": "Luke",
                                    "StfLastname": "Patterson",
                                    "Faculty Classes": "2"
                                },
                                {
                                    "StfFirstName": "Michael",
                                    "StfLastname": "Hernandez",
                                    "Faculty Classes": "2"
                                },
                                {
                                    "StfFirstName": "Jeffrey",
                                    "StfLastname": "Smith",
                                    "Faculty Classes": "1"
                                },
                                {
                                    "StfFirstName": "Caroline",
                                    "StfLastname": "Coie",
                                    "Faculty Classes": "1"
                                }
                            ]
                        },
                        "text/html": [
                            "<table>",
                            "<tr><th>StfFirstName</th><th>StfLastname</th><th>Faculty Classes</th></tr>",
                            "<tr><td>Robert</td><td>Brown</td><td>10</td></tr>",
                            "<tr><td>Deb</td><td>Waldal</td><td>10</td></tr>",
                            "<tr><td>Liz</td><td>Keyser</td><td>10</td></tr>",
                            "<tr><td>Sam</td><td>Abolrous</td><td>8</td></tr>",
                            "<tr><td>Ann</td><td>Patterson</td><td>8</td></tr>",
                            "<tr><td>Alaina</td><td>Hallmark</td><td>8</td></tr>",
                            "<tr><td>Caleb</td><td>Viescas</td><td>8</td></tr>",
                            "<tr><td>Maria</td><td>Patterson</td><td>8</td></tr>",
                            "<tr><td>Alastair</td><td>Black</td><td>6</td></tr>",
                            "<tr><td>Jim</td><td>Wilson</td><td>6</td></tr>",
                            "<tr><td>David</td><td>Smith</td><td>6</td></tr>",
                            "<tr><td>Jim</td><td>Glynn</td><td>6</td></tr>",
                            "<tr><td>Carol</td><td>Viescas</td><td>4</td></tr>",
                            "<tr><td>Suzanne</td><td>Viescas</td><td>4</td></tr>",
                            "<tr><td>Gary</td><td>Hallmark</td><td>4</td></tr>",
                            "<tr><td>Peter</td><td>Brehm</td><td>4</td></tr>",
                            "<tr><td>Mariya</td><td>Sergienko</td><td>4</td></tr>",
                            "<tr><td>Joyce</td><td>Bonnicksen</td><td>4</td></tr>",
                            "<tr><td>Katherine</td><td>Ehrlich</td><td>4</td></tr>",
                            "<tr><td>Kirk</td><td>DeGrasse</td><td>4</td></tr>",
                            "<tr><td>Luke</td><td>Patterson</td><td>2</td></tr>",
                            "<tr><td>Michael</td><td>Hernandez</td><td>2</td></tr>",
                            "<tr><td>Jeffrey</td><td>Smith</td><td>1</td></tr>",
                            "<tr><td>Caroline</td><td>Coie</td><td>1</td></tr>",
                            "</table>"
                        ]
                    }
                }
            ],
            "execution_count": 6
        }
    ]
}